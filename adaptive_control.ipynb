{
 "cells": [
  {
   "cell_type": "code",
   "execution_count": null,
   "id": "organizational-writer",
   "metadata": {},
   "outputs": [],
   "source": [
    "import sympy as sp\n",
    "import numpy as np\n",
    "from IPython.display import display, Math, Latex\n",
    "from sympy.utilities.lambdify import lambdify"
   ]
  },
  {
   "cell_type": "markdown",
   "id": "coupled-facility",
   "metadata": {},
   "source": [
    "# Loading variables"
   ]
  },
  {
   "cell_type": "code",
   "execution_count": null,
   "id": "iraqi-granny",
   "metadata": {},
   "outputs": [],
   "source": [
    "m_L = sp.symbols(r\"m_L\")\n",
    "m_M = sp.symbols(r\"m_M\")\n",
    "w_L = sp.symbols(r\"w_L\")\n",
    "I_L = sp.symbols(r\"I_L\")\n",
    "h_L = sp.symbols(r\"h_L\")\n",
    "r = sp.symbols(r\"r\")\n",
    "I_M = sp.symbols(r\"I_M\")"
   ]
  },
  {
   "cell_type": "code",
   "execution_count": null,
   "id": "charitable-wisdom",
   "metadata": {},
   "outputs": [],
   "source": [
    "# Friction coefficients\n",
    "mu = sp.symbols(r\"\\mu\")\n",
    "mu_S = sp.symbols(r\"\\mu_{S}\")\n",
    "\n",
    "# System gains\n",
    "b_J = sp.symbols(r\"b_J\")\n",
    "k_J = sp.symbols(r\"k_J\")"
   ]
  },
  {
   "cell_type": "code",
   "execution_count": null,
   "id": "static-growing",
   "metadata": {},
   "outputs": [],
   "source": [
    "# Positions\n",
    "p_CN = sp.symbols(r\"p_{CN}\")\n",
    "p_CT = sp.symbols(r\"p_{CT}\")\n",
    "p_MN = sp.symbols(r\"p_{MN}\")\n",
    "p_LN = sp.symbols(r\"p_{LN}\")\n",
    "p_LT = sp.symbols(r\"p_{LT}\")\n",
    "theta_L = sp.symbols(r\"\\theta_L\")\n",
    "d_T = sp.symbols(r\"d_T\")\n",
    "d_N = sp.symbols(r\"d_N\")\n",
    "\n",
    "# p_C - p_L\n",
    "p_LCN = sp.symbols(r\"p_{LCN}\")\n",
    "p_LCT = sp.symbols(r\"p_{LCT}\")\n",
    "\n",
    "# p_C - p_M\n",
    "p_MCN = sp.symbols(r\"p_{MCN}\")\n",
    "p_MCT = sp.symbols(r\"p_{MCT}\")\n",
    "\n",
    "# Velocities\n",
    "v_MN = sp.symbols(r\"v_{MN}\")\n",
    "v_MT = sp.symbols(r\"v_{MT}\")\n",
    "v_LN = sp.symbols(r\"v_{LN}\")\n",
    "v_LT = sp.symbols(r\"v_{LT}\")\n",
    "d_theta_L = sp.symbols(r\"\\dot\\theta_L\")\n",
    "d_theta_M = sp.symbols(r\"\\dot\\theta_M\")\n",
    "d_d_T = sp.symbols(r\"\\dot{d}_T\")\n",
    "d_d_N = sp.symbols(r\"\\dot{d}_N\")"
   ]
  },
  {
   "cell_type": "code",
   "execution_count": null,
   "id": "corporate-direction",
   "metadata": {},
   "outputs": [],
   "source": [
    "# Input forces\n",
    "F_GT = sp.symbols(r\"F_{GT}\")\n",
    "F_GN = sp.symbols(r\"F_{GN}\")\n",
    "F_OT, F_ON, tau_O = sp.symbols(r\"F_{OT}, F_{ON} \\tau_O\")\n",
    "\n",
    "# Control inputs\n",
    "dd_theta_Ld = sp.symbols(r\"\\ddot\\theta_{Ld}\")\n",
    "dd_d_Nd = sp.symbols(r\"\\ddot{d}_{Nd}\")\n",
    "dd_d_Td = sp.symbols(r\"\\ddot{d}_{Td}\")\n",
    "dd_theta_Md = sp.symbols(r\"\\ddot\\theta_{Md}\")\n",
    "\n",
    "outputs = [\n",
    "    a_LT, a_LN, a_MT, a_MN, F_NM, F_FL, F_FM, F_NL, F_CN, F_CT, tau_M, dd_theta_L, dd_theta_M, dd_d_N, dd_d_T\n",
    "] = sp.symbols(\n",
    "    r\"a_{LT}, a_{LN}, a_{MT}, a_{MN}, F_{NM}, F_{FL}, F_{FM}, F_{NL}, F_{CN}, F_{CT}, \\tau_M, \\ddot\\theta_L, \\ddot\\theta_M, \\ddot{d}_N, \\ddot{d}_T\"\n",
    ")\n",
    "\n",
    "outputs = list(outputs)"
   ]
  },
  {
   "cell_type": "markdown",
   "id": "martial-community",
   "metadata": {},
   "source": [
    "## Differentiation of $\\vec d$"
   ]
  },
  {
   "cell_type": "code",
   "execution_count": null,
   "id": "medieval-delhi",
   "metadata": {},
   "outputs": [],
   "source": [
    "t = sp.symbols(\"t\")\n",
    "theta_L_func = sp.Function(r'\\theta_L')(t)\n",
    "N_hat = sp.Function(r'\\hat N')(theta_L_func)\n",
    "T_hat = sp.Function(r'\\hat T')(theta_L_func)\n",
    "\n",
    "d_T_func = sp.Function(r\"d_T\")(t)\n",
    "d_N_func = sp.Function(r\"d_N\")(t)\n",
    "d_g = d_T_func*T_hat + d_N_func*N_hat\n",
    "\n",
    "d_vel_g = sp.diff(d_g, t)\n",
    "\n",
    "d_vel_g = d_vel_g.subs(sp.diff(N_hat, t), -\n",
    "                       sp.diff(theta_L_func, t)*T_hat)\n",
    "d_vel_g = d_vel_g.subs(\n",
    "    sp.diff(T_hat, t), sp.diff(theta_L_func, t)*N_hat)\n",
    "\n",
    "d_acc_g = sp.diff(d_vel_g, t)\n",
    "d_acc_g = d_acc_g.subs(sp.diff(N_hat, t), -\n",
    "                       sp.diff(theta_L_func, t)*T_hat)\n",
    "d_acc_g = d_acc_g.subs(\n",
    "    sp.diff(T_hat, t), sp.diff(theta_L_func, t)*N_hat)\n",
    "\n",
    "d_acc_cos_g = d_acc_g\n",
    "d_acc_cos_g = d_acc_cos_g.subs(sp.diff(theta_L_func, t, t), dd_theta_L)\n",
    "d_acc_cos_g = d_acc_cos_g.subs(sp.diff(d_T_func, t, t), dd_d_T)\n",
    "d_acc_cos_g = d_acc_cos_g.subs(sp.diff(d_N_func, t, t), dd_d_N)\n",
    "d_acc_cos_g = d_acc_cos_g.subs(sp.diff(theta_L_func, t), d_theta_L)\n",
    "d_acc_cos_g = d_acc_cos_g.subs(sp.diff(d_T_func, t), d_d_T)\n",
    "d_acc_cos_g = d_acc_cos_g.subs(sp.diff(d_N_func, t), d_d_N)\n",
    "d_acc_cos_g = d_acc_cos_g.subs(d_T_func, d_T)\n",
    "d_acc_cos_g = d_acc_cos_g.subs(d_N_func, d_N)"
   ]
  },
  {
   "cell_type": "code",
   "execution_count": null,
   "id": "martial-complexity",
   "metadata": {},
   "outputs": [],
   "source": [
    "dd_d_g_T = d_acc_cos_g.subs(N_hat, 0).subs(T_hat, 1)\n",
    "dd_d_g_T"
   ]
  },
  {
   "cell_type": "code",
   "execution_count": null,
   "id": "broad-spray",
   "metadata": {},
   "outputs": [],
   "source": [
    "dd_d_g_N = d_acc_cos_g.subs(T_hat, 0).subs(N_hat, 1)\n",
    "dd_d_g_N"
   ]
  },
  {
   "cell_type": "code",
   "execution_count": null,
   "id": "resident-extra",
   "metadata": {},
   "outputs": [],
   "source": [
    "p_M_func = sp.Function(r\"p_M\")(t)\n",
    "p_L_func = sp.Function(r\"p_L\")(t)\n",
    "v_M = sp.symbols(r\"v_M\")\n",
    "v_L = sp.symbols(r\"v_L\")\n",
    "d_s = (p_M_func + r*N_hat) - (p_L_func + (w_L/2)*T_hat - (h_L/2)*N_hat)\n",
    "\n",
    "d_vel_s = sp.diff(d_s, t)\n",
    "d_vel_s = d_vel_s.subs(sp.diff(N_hat, t), -\n",
    "                       sp.diff(theta_L_func, t)*T_hat)\n",
    "d_vel_s = d_vel_s.subs(\n",
    "    sp.diff(T_hat, t), sp.diff(theta_L_func, t)*N_hat)\n",
    "\n",
    "d_acc_s = sp.diff(d_vel_s, t)\n",
    "d_acc_s = d_acc_s.subs(sp.diff(N_hat, t), -\n",
    "                       sp.diff(theta_L_func, t)*T_hat)\n",
    "d_acc_s = d_acc_s.subs(\n",
    "    sp.diff(T_hat, t), sp.diff(theta_L_func, t)*N_hat)\n",
    "\n",
    "d_acc_cos_s = d_acc_s\n",
    "d_acc_cos_s = d_acc_cos_s.subs(sp.diff(theta_L_func, t, t), dd_theta_L)\n",
    "d_acc_cos_s = d_acc_cos_s.subs(sp.diff(d_T_func, t, t), dd_d_T)\n",
    "d_acc_cos_s = d_acc_cos_s.subs(sp.diff(d_N_func, t, t), dd_d_N)\n",
    "d_acc_cos_s = d_acc_cos_s.subs(sp.diff(theta_L_func, t), d_theta_L)\n",
    "d_acc_cos_s = d_acc_cos_s.subs(sp.diff(d_T_func, t), d_d_T)\n",
    "d_acc_cos_s = d_acc_cos_s.subs(sp.diff(d_N_func, t), d_d_N)\n",
    "d_acc_cos_s = d_acc_cos_s.subs(d_T_func, d_T)\n",
    "d_acc_cos_s = d_acc_cos_s.subs(d_N_func, d_N)"
   ]
  },
  {
   "cell_type": "code",
   "execution_count": null,
   "id": "pressed-animation",
   "metadata": {},
   "outputs": [],
   "source": [
    "dd_d_s_T = d_acc_cos_s.subs(N_hat, 0).subs(T_hat, 1)\n",
    "dd_d_s_T = dd_d_s_T.subs(sp.diff(p_M_func, t, t), a_MT)\n",
    "dd_d_s_T = dd_d_s_T.subs(sp.diff(p_L_func, t, t), a_LT)\n",
    "dd_d_s_T"
   ]
  },
  {
   "cell_type": "code",
   "execution_count": null,
   "id": "indian-discretion",
   "metadata": {},
   "outputs": [],
   "source": [
    "dd_d_s_T.subs(sp.diff(p_M_func, t, t), a_MT)"
   ]
  },
  {
   "cell_type": "code",
   "execution_count": null,
   "id": "subsequent-ceremony",
   "metadata": {},
   "outputs": [],
   "source": [
    "dd_d_s_N = d_acc_cos_s.subs(T_hat, 0).subs(N_hat, 1)\n",
    "dd_d_s_N = dd_d_s_N.subs(sp.diff(p_M_func, t, t), a_MN)\n",
    "dd_d_s_N = dd_d_s_N.subs(sp.diff(p_L_func, t, t), a_LN)\n",
    "dd_d_s_N"
   ]
  },
  {
   "cell_type": "markdown",
   "id": "organizational-kidney",
   "metadata": {},
   "source": [
    "# Setting up equations and matrices"
   ]
  },
  {
   "cell_type": "code",
   "execution_count": null,
   "id": "tropical-closing",
   "metadata": {},
   "outputs": [],
   "source": [
    "nat_eqs = [\n",
    "    # Link tangential force balance\n",
    "    [m_L*a_LT, F_FL+F_GT+F_OT],\n",
    "    # Link normal force balance\n",
    "    [m_L*a_LN, F_NL + F_GN + F_ON, ],\n",
    "    # Manipulator tangential force balance\n",
    "    [m_M*a_MT, F_FM + F_CT, ],\n",
    "    # Manipulator normal force balance\n",
    "    [m_M*a_MN, F_NM+F_CN, ],\n",
    "    # Link moment balance\n",
    "    [I_L*dd_theta_L, (-w_L/2)*F_ON - (p_LCN) * \\\n",
    "     F_FL + (p_LCN)*F_NL + tau_O, ],\n",
    "    # Manipulator moment balance\n",
    "    [I_M*dd_theta_M, tau_M-F_FM*(p_MCN), ],\n",
    "    # 3rd law normal forces\n",
    "    [F_NL, -F_NM],\n",
    "    # Friction relationship L\n",
    "    [F_FL, mu*mu_S*F_NL],\n",
    "    # Friction relationship M\n",
    "    [F_FM, -F_FL],\n",
    "    # d_T derivative is derivative\n",
    "    [dd_d_s_T, dd_d_g_T],\n",
    "    # d_N derivative is derivative\n",
    "    [dd_d_s_N, dd_d_g_N],\n",
    "    # dd_d_N = 0 in real life assuming we're in contact\n",
    "    [dd_d_N, 0],\n",
    "]\n",
    "\n",
    "art_eqs = [\n",
    "#     [dd_d_N, dd_d_Nd],\n",
    "#     [dd_d_T, dd_d_Td],\n",
    "#     [dd_theta_L, dd_theta_Ld],\n",
    "#     [dd_theta_M, dd_theta_Md],\n",
    "]\n",
    "\n",
    "env_eqs = nat_eqs + art_eqs"
   ]
  },
  {
   "cell_type": "code",
   "execution_count": null,
   "id": "running-membrane",
   "metadata": {},
   "outputs": [],
   "source": [
    "out_str = r\"\\begin{aligned}\"\n",
    "for eq in env_eqs:\n",
    "    out_str += sp.latex(eq[0]) + r\" &= \" + sp.latex(eq[1]) + r\" \\\\\" + \"\\n\"\n",
    "out_str += \"\\end{aligned}\"\n",
    "display(Math(out_str))"
   ]
  },
  {
   "cell_type": "code",
   "execution_count": null,
   "id": "natural-shame",
   "metadata": {},
   "outputs": [],
   "source": [
    "A = []\n",
    "b = []\n",
    "for lhs, rhs in env_eqs:\n",
    "    A_row = []\n",
    "    b_term = rhs - lhs\n",
    "    for output_term in outputs:\n",
    "        try:\n",
    "            coeff_L = lhs.coeff(output_term)\n",
    "        except AttributeError:\n",
    "            coeff_L = 0\n",
    "        try:\n",
    "            coeff_R = rhs.coeff(output_term)\n",
    "        except AttributeError:\n",
    "            coeff_R = 0\n",
    "        coeff = coeff_L - coeff_R\n",
    "        A_row.append(coeff)\n",
    "        b_term += coeff * output_term\n",
    "    A.append(A_row)\n",
    "    b.append(b_term)\n",
    "A = sp.SparseMatrix(A)\n",
    "A.simplify()\n",
    "b = sp.Matrix([b]).T\n",
    "b.simplify()\n",
    "x = sp.Matrix([outputs]).T\n",
    "x.simplify()"
   ]
  },
  {
   "cell_type": "code",
   "execution_count": null,
   "id": "planned-cameroon",
   "metadata": {},
   "outputs": [],
   "source": [
    "A_aug = A.row_join(b)\n",
    "results = A_aug.rref()[0]\n",
    "A_prime = results[:, :-1]\n",
    "b_prime = results[:, -1]"
   ]
  },
  {
   "cell_type": "markdown",
   "id": "tribal-liquid",
   "metadata": {},
   "source": [
    "## Pack f"
   ]
  },
  {
   "cell_type": "code",
   "execution_count": null,
   "id": "acute-concern",
   "metadata": {},
   "outputs": [],
   "source": [
    "f = A_prime[:,11].copy()\n",
    "f"
   ]
  },
  {
   "cell_type": "code",
   "execution_count": null,
   "id": "cubic-appointment",
   "metadata": {},
   "outputs": [],
   "source": [
    "A_prime@x"
   ]
  },
  {
   "cell_type": "markdown",
   "id": "rotary-sucking",
   "metadata": {},
   "source": [
    "## Set up function"
   ]
  },
  {
   "cell_type": "code",
   "execution_count": null,
   "id": "stylish-buddy",
   "metadata": {},
   "outputs": [],
   "source": [
    "def split_mu_terms(term):\n",
    "    num = sp.fraction(term)[0]\n",
    "    mu_num = num - num.coeff(mu*mu_S)*(mu*mu_S - 1)\n",
    "    mu_num = mu_num.simplify()\n",
    "    mu_term = mu_num/sp.fraction(term)[1]\n",
    "    mu_term = mu_term.factor()\n",
    "    mu_term /= mu_0\n",
    "    mu_term = mu_term.simplify()\n",
    "    \n",
    "    no_mu_term = num.coeff(mu*mu_S).factor()/sp.fraction(term)[1].coeff(mu*mu_S)\n",
    "    no_mu_term = no_mu_term.simplify()\n",
    "\n",
    "    assert (term - mu_term*mu_0 - no_mu_term).simplify() == 0\n",
    "    \n",
    "    return mu_term, no_mu_term"
   ]
  },
  {
   "cell_type": "markdown",
   "id": "worse-treasurer",
   "metadata": {},
   "source": [
    "## Setting our constant"
   ]
  },
  {
   "cell_type": "code",
   "execution_count": null,
   "id": "billion-chess",
   "metadata": {},
   "outputs": [],
   "source": [
    "mu_0 = 1/(1-mu*mu_S)\n",
    "mu_0"
   ]
  },
  {
   "cell_type": "markdown",
   "id": "superb-blues",
   "metadata": {},
   "source": [
    "# $\\ddot\\theta_L$ dynamics"
   ]
  },
  {
   "cell_type": "code",
   "execution_count": null,
   "id": "criminal-conjunction",
   "metadata": {},
   "outputs": [],
   "source": [
    "theta_L_idx = 8\n",
    "lhs = (A_prime@x)[theta_L_idx]\n",
    "rhs = b_prime[theta_L_idx]\n",
    "\n",
    "display(Math(sp.latex(lhs) + r\" = \" + sp.latex(rhs)))"
   ]
  },
  {
   "cell_type": "markdown",
   "id": "agricultural-plenty",
   "metadata": {},
   "source": [
    "## f term"
   ]
  },
  {
   "cell_type": "code",
   "execution_count": null,
   "id": "neural-mambo",
   "metadata": {},
   "outputs": [],
   "source": [
    "f_term = f[theta_L_idx].copy()"
   ]
  },
  {
   "cell_type": "code",
   "execution_count": null,
   "id": "working-running",
   "metadata": {},
   "outputs": [],
   "source": [
    "f_mu, f_no_mu = split_mu_terms(f_term)"
   ]
  },
  {
   "cell_type": "code",
   "execution_count": null,
   "id": "formal-cancellation",
   "metadata": {},
   "outputs": [],
   "source": [
    "f_mu"
   ]
  },
  {
   "cell_type": "code",
   "execution_count": null,
   "id": "satisfied-nowhere",
   "metadata": {},
   "outputs": [],
   "source": [
    "f_no_mu"
   ]
  },
  {
   "cell_type": "code",
   "execution_count": null,
   "id": "apart-mentor",
   "metadata": {},
   "outputs": [],
   "source": [
    "(f_term - f_mu*mu_0 - f_no_mu).simplify()"
   ]
  },
  {
   "cell_type": "markdown",
   "id": "vulnerable-minister",
   "metadata": {},
   "source": [
    "## b term"
   ]
  },
  {
   "cell_type": "code",
   "execution_count": null,
   "id": "blond-moore",
   "metadata": {},
   "outputs": [],
   "source": [
    "b_term = b_prime[theta_L_idx].copy()"
   ]
  },
  {
   "cell_type": "code",
   "execution_count": null,
   "id": "preceding-taxation",
   "metadata": {},
   "outputs": [],
   "source": [
    "b_mu, b_no_mu = split_mu_terms(b_term)\n",
    "# b_mu /= mu_0\n",
    "# b_mu = b_mu.simplify()"
   ]
  },
  {
   "cell_type": "code",
   "execution_count": null,
   "id": "spread-dover",
   "metadata": {},
   "outputs": [],
   "source": [
    "b_mu"
   ]
  },
  {
   "cell_type": "code",
   "execution_count": null,
   "id": "forbidden-campus",
   "metadata": {},
   "outputs": [],
   "source": [
    "print(sp.latex(b_no_mu))"
   ]
  },
  {
   "cell_type": "code",
   "execution_count": null,
   "id": "seasonal-borough",
   "metadata": {},
   "outputs": [],
   "source": [
    "print(sp.latex(b_no_mu.collect(m_M).collect(d_theta_L**2)))"
   ]
  },
  {
   "cell_type": "code",
   "execution_count": null,
   "id": "demographic-clothing",
   "metadata": {},
   "outputs": [],
   "source": [
    "(b_term - b_mu*mu_0 - b_no_mu).simplify()"
   ]
  },
  {
   "cell_type": "markdown",
   "id": "adjusted-brick",
   "metadata": {},
   "source": [
    "## Final dynamics"
   ]
  },
  {
   "cell_type": "markdown",
   "id": "opponent-hamburg",
   "metadata": {},
   "source": [
    "$F_{CN} + \\left(\\mu_0f_\\mu(t)+f(t)\\right)\\ddot\\theta_L = \\mu_0b_\\mu(t)+b(t)$"
   ]
  },
  {
   "cell_type": "code",
   "execution_count": null,
   "id": "large-companion",
   "metadata": {},
   "outputs": [],
   "source": [
    "new_lhs = F_CN + mu_0*f_mu*dd_theta_L + f_no_mu*dd_theta_L\n",
    "new_rhs = b_mu*mu_0+b_no_mu"
   ]
  },
  {
   "cell_type": "code",
   "execution_count": null,
   "id": "found-finding",
   "metadata": {},
   "outputs": [],
   "source": [
    "(new_lhs - lhs).simplify()"
   ]
  },
  {
   "cell_type": "code",
   "execution_count": null,
   "id": "light-waterproof",
   "metadata": {},
   "outputs": [],
   "source": [
    "(new_rhs - rhs).simplify()"
   ]
  },
  {
   "cell_type": "code",
   "execution_count": null,
   "id": "thrown-minimum",
   "metadata": {},
   "outputs": [],
   "source": [
    "display(Math(sp.latex(new_lhs) + r\" = \" + sp.latex(new_rhs)))"
   ]
  }
 ],
 "metadata": {
  "kernelspec": {
   "display_name": "Python 3",
   "language": "python",
   "name": "python3"
  },
  "language_info": {
   "codemirror_mode": {
    "name": "ipython",
    "version": 3
   },
   "file_extension": ".py",
   "mimetype": "text/x-python",
   "name": "python",
   "nbconvert_exporter": "python",
   "pygments_lexer": "ipython3",
   "version": "3.9.2"
  }
 },
 "nbformat": 4,
 "nbformat_minor": 5
}
