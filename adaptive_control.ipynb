{
 "cells": [
  {
   "cell_type": "markdown",
   "id": "introductory-orleans",
   "metadata": {},
   "source": [
    "# Sympy"
   ]
  },
  {
   "cell_type": "code",
   "execution_count": null,
   "id": "leading-harrison",
   "metadata": {},
   "outputs": [],
   "source": [
    "import sympy as sp\n",
    "import numpy as np"
   ]
  },
  {
   "cell_type": "code",
   "execution_count": null,
   "id": "pharmaceutical-ivory",
   "metadata": {},
   "outputs": [],
   "source": [
    "alg_inputs = []\n",
    "\n",
    "# PROGRAMMING: Do this with Drake instead?\n",
    "# PROGRAMMING: Can I get some of these lists from sympy?\n",
    "# Physical and geometric quantities\n",
    "m_L = sp.symbols(r\"m_L\")\n",
    "alg_inputs.append(m_L)\n",
    "m_M = sp.symbols(r\"m_M\")\n",
    "alg_inputs.append(m_M)\n",
    "w_L = sp.symbols(r\"w_L\")\n",
    "alg_inputs.append(w_L)\n",
    "I_L = sp.symbols(r\"I_L\")\n",
    "alg_inputs.append(I_L)\n",
    "h_L = sp.symbols(r\"h_L\")\n",
    "alg_inputs.append(h_L)\n",
    "r = sp.symbols(r\"r\")\n",
    "alg_inputs.append(r)\n",
    "I_M = sp.symbols(r\"I_M\")\n",
    "alg_inputs.append(I_M)"
   ]
  },
  {
   "cell_type": "code",
   "execution_count": null,
   "id": "defensive-contrary",
   "metadata": {},
   "outputs": [],
   "source": [
    "# Friction coefficients\n",
    "mu = sp.symbols(r\"\\mu\")\n",
    "alg_inputs.append(mu)\n",
    "mu_S = sp.symbols(r\"\\mu_{S}\")\n",
    "alg_inputs.append(mu_S)\n",
    "\n",
    "# System gains\n",
    "b_J = sp.symbols(r\"b_J\")\n",
    "alg_inputs.append(b_J)\n",
    "k_J = sp.symbols(r\"k_J\")\n",
    "alg_inputs.append(k_J)"
   ]
  },
  {
   "cell_type": "code",
   "execution_count": null,
   "id": "pressed-beads",
   "metadata": {},
   "outputs": [],
   "source": [
    "# Positions\n",
    "p_CN = sp.symbols(r\"p_{CN}\")\n",
    "alg_inputs.append(p_CN)\n",
    "p_CT = sp.symbols(r\"p_{CT}\")\n",
    "alg_inputs.append(p_CT)\n",
    "p_MN = sp.symbols(r\"p_{MN}\")\n",
    "alg_inputs.append(p_MN)\n",
    "p_LN = sp.symbols(r\"p_{LN}\")\n",
    "alg_inputs.append(p_LN)\n",
    "p_LT = sp.symbols(r\"p_{LT}\")\n",
    "alg_inputs.append(p_LT)\n",
    "theta_L = sp.symbols(r\"\\theta_L\")\n",
    "alg_inputs.append(theta_L)\n",
    "d_T = sp.symbols(r\"d_T\")\n",
    "alg_inputs.append(d_T)\n",
    "d_N = sp.symbols(r\"d_N\")\n",
    "alg_inputs.append(d_N)\n",
    "\n",
    "# Velocities\n",
    "v_MN = sp.symbols(r\"v_{MN}\")\n",
    "alg_inputs.append(v_MN)\n",
    "v_MT = sp.symbols(r\"v_{MT}\")\n",
    "alg_inputs.append(v_MT)\n",
    "v_LN = sp.symbols(r\"v_{LN}\")\n",
    "alg_inputs.append(v_LN)\n",
    "v_LT = sp.symbols(r\"v_{LT}\")\n",
    "alg_inputs.append(v_LT)\n",
    "d_theta_L = sp.symbols(r\"\\dot\\theta_L\")\n",
    "alg_inputs.append(d_theta_L)\n",
    "d_theta_M = sp.symbols(r\"\\dot\\theta_M\")\n",
    "alg_inputs.append(d_theta_M)\n",
    "d_d_T = sp.symbols(r\"\\dot{d}_T\")\n",
    "alg_inputs.append(d_d_T)\n",
    "d_d_N = sp.symbols(r\"\\dot{d}_N\")\n",
    "alg_inputs.append(d_d_N)"
   ]
  },
  {
   "cell_type": "code",
   "execution_count": null,
   "id": "therapeutic-feedback",
   "metadata": {},
   "outputs": [],
   "source": [
    "# Input forces\n",
    "F_GT = sp.symbols(r\"F_{GT}\")\n",
    "alg_inputs.append(F_GT)\n",
    "F_GN = sp.symbols(r\"F_{GN}\")\n",
    "alg_inputs.append(F_GN)\n",
    "F_OT, F_ON, tau_O = sp.symbols(r\"F_{OT}, F_{ON} \\tau_O\")\n",
    "alg_inputs.append(F_OT)\n",
    "alg_inputs.append(F_ON)\n",
    "alg_inputs.append(tau_O)\n",
    "\n",
    "# Control inputs\n",
    "dd_theta_Ld = sp.symbols(r\"\\ddot\\theta_{Ld}\")\n",
    "alg_inputs.append(dd_theta_Ld)\n",
    "dd_d_Nd = sp.symbols(r\"\\ddot{d}_{Nd}\")\n",
    "alg_inputs.append(dd_d_Nd)\n",
    "dd_d_Td = sp.symbols(r\"\\ddot{d}_{Td}\")\n",
    "alg_inputs.append(dd_d_Td)\n",
    "dd_theta_Md = sp.symbols(r\"\\ddot\\theta_{Md}\")\n",
    "alg_inputs.append(dd_theta_Md)\n",
    "\n",
    "outputs = [\n",
    "    a_LT, a_LN, a_MT, a_MN, dd_theta_L, dd_theta_M, F_NM, F_FL, F_FM, dd_d_N, dd_d_T, F_NL, F_CN, F_CT, tau_M\n",
    "] = sp.symbols(\n",
    "    r\"a_{LT} a_{LN} a_{MT} a_{MN} \\ddot\\theta_L \\ddot\\theta_M  F_{NM} F_{FL} F_{FM} \\ddot{d}_N \\ddot{d}_T F_{NL} F_{CN}, F_{CT} \\tau_M\"\n",
    ")\n",
    "\n",
    "outputs = [\n",
    "    a_LT, a_LN, a_MT, a_MN, dd_theta_L, dd_theta_M, F_NM, F_FL, F_FM, dd_d_N, dd_d_T, F_NL, F_CN, F_CT, tau_M\n",
    "] = sp.symbols(\n",
    "    r\"a_{LT} a_{LN} a_{MT} a_{MN} \\ddot\\theta_L \\ddot\\theta_M  F_{NM} F_{FL} F_{FM} \\ddot{d}_N \\ddot{d}_T F_{NL} F_{CN}, F_{CT} \\tau_M\"\n",
    ")\n",
    "\n",
    "outputs = list(outputs)"
   ]
  },
  {
   "cell_type": "code",
   "execution_count": null,
   "id": "cloudy-matter",
   "metadata": {},
   "outputs": [],
   "source": [
    "t = sp.symbols(\"t\")\n",
    "theta_L_func = sp.Function(r'\\theta_L')(t)\n",
    "N_hat = sp.Function(r'\\hat N')(theta_L_func)\n",
    "T_hat = sp.Function(r'\\hat T')(theta_L_func)\n",
    "\n",
    "d_T_func = sp.Function(r\"d_T\")(t)\n",
    "d_N_func = sp.Function(r\"d_N\")(t)\n",
    "d_g = d_T_func*T_hat + d_N_func*N_hat\n",
    "\n",
    "d_vel_g = sp.diff(d_g, t)\n",
    "\n",
    "d_vel_g = d_vel_g.subs(sp.diff(N_hat, t), -\n",
    "                       sp.diff(theta_L_func, t)*T_hat)\n",
    "d_vel_g = d_vel_g.subs(\n",
    "    sp.diff(T_hat, t), sp.diff(theta_L_func, t)*N_hat)\n",
    "\n",
    "d_acc_g = sp.diff(d_vel_g, t)\n",
    "d_acc_g = d_acc_g.subs(sp.diff(N_hat, t), -\n",
    "                       sp.diff(theta_L_func, t)*T_hat)\n",
    "d_acc_g = d_acc_g.subs(\n",
    "    sp.diff(T_hat, t), sp.diff(theta_L_func, t)*N_hat)\n",
    "\n",
    "d_acc_cos_g = d_acc_g\n",
    "d_acc_cos_g = d_acc_cos_g.subs(sp.diff(theta_L_func, t, t), dd_theta_L)\n",
    "d_acc_cos_g = d_acc_cos_g.subs(sp.diff(d_T_func, t, t), dd_d_T)\n",
    "d_acc_cos_g = d_acc_cos_g.subs(sp.diff(d_N_func, t, t), dd_d_N)\n",
    "d_acc_cos_g = d_acc_cos_g.subs(sp.diff(theta_L_func, t), d_theta_L)\n",
    "d_acc_cos_g = d_acc_cos_g.subs(sp.diff(d_T_func, t), d_d_T)\n",
    "d_acc_cos_g = d_acc_cos_g.subs(sp.diff(d_N_func, t), d_d_N)\n",
    "d_acc_cos_g = d_acc_cos_g.subs(d_T_func, d_T)\n",
    "d_acc_cos_g = d_acc_cos_g.subs(d_N_func, d_N)"
   ]
  },
  {
   "cell_type": "code",
   "execution_count": null,
   "id": "graduate-nicaragua",
   "metadata": {},
   "outputs": [],
   "source": [
    "dd_d_g_T = d_acc_cos_g.subs(N_hat, 0).subs(T_hat, 1)\n",
    "dd_d_g_T"
   ]
  },
  {
   "cell_type": "code",
   "execution_count": null,
   "id": "built-interaction",
   "metadata": {},
   "outputs": [],
   "source": [
    "dd_d_g_N = d_acc_cos_g.subs(T_hat, 0).subs(N_hat, 1)\n",
    "dd_d_g_N"
   ]
  },
  {
   "cell_type": "code",
   "execution_count": null,
   "id": "executed-vintage",
   "metadata": {},
   "outputs": [],
   "source": [
    "p_M_func = sp.Function(r\"p_M\")(t)\n",
    "p_L_func = sp.Function(r\"p_L\")(t)\n",
    "v_M = sp.symbols(r\"v_M\")\n",
    "v_L = sp.symbols(r\"v_L\")\n",
    "d_s = (p_M_func + r*N_hat) - (p_L_func + (w_L/2)*T_hat - (h_L/2)*N_hat)\n",
    "\n",
    "d_vel_s = sp.diff(d_s, t)\n",
    "d_vel_s = d_vel_s.subs(sp.diff(N_hat, t), -\n",
    "                       sp.diff(theta_L_func, t)*T_hat)\n",
    "d_vel_s = d_vel_s.subs(\n",
    "    sp.diff(T_hat, t), sp.diff(theta_L_func, t)*N_hat)\n",
    "\n",
    "d_acc_s = sp.diff(d_vel_s, t)\n",
    "d_acc_s = d_acc_s.subs(sp.diff(N_hat, t), -\n",
    "                       sp.diff(theta_L_func, t)*T_hat)\n",
    "d_acc_s = d_acc_s.subs(\n",
    "    sp.diff(T_hat, t), sp.diff(theta_L_func, t)*N_hat)\n",
    "\n",
    "d_acc_cos_s = d_acc_s\n",
    "d_acc_cos_s = d_acc_cos_s.subs(sp.diff(theta_L_func, t, t), dd_theta_L)\n",
    "d_acc_cos_s = d_acc_cos_s.subs(sp.diff(d_T_func, t, t), dd_d_T)\n",
    "d_acc_cos_s = d_acc_cos_s.subs(sp.diff(d_N_func, t, t), dd_d_N)\n",
    "d_acc_cos_s = d_acc_cos_s.subs(sp.diff(theta_L_func, t), d_theta_L)\n",
    "d_acc_cos_s = d_acc_cos_s.subs(sp.diff(d_T_func, t), d_d_T)\n",
    "d_acc_cos_s = d_acc_cos_s.subs(sp.diff(d_N_func, t), d_d_N)\n",
    "d_acc_cos_s = d_acc_cos_s.subs(d_T_func, d_T)\n",
    "d_acc_cos_s = d_acc_cos_s.subs(d_N_func, d_N)"
   ]
  },
  {
   "cell_type": "code",
   "execution_count": null,
   "id": "enclosed-calculation",
   "metadata": {},
   "outputs": [],
   "source": [
    "dd_d_s_T = d_acc_cos_s.subs(N_hat, 0).subs(T_hat, 1)\n",
    "dd_d_s_T = dd_d_s_T.subs(sp.diff(p_M_func, t, t), a_MT)\n",
    "dd_d_s_T = dd_d_s_T.subs(sp.diff(p_L_func, t, t), a_LT)\n",
    "dd_d_s_T"
   ]
  },
  {
   "cell_type": "code",
   "execution_count": null,
   "id": "outer-amendment",
   "metadata": {},
   "outputs": [],
   "source": [
    "dd_d_s_T.subs(sp.diff(p_M_func, t, t), a_MT)"
   ]
  },
  {
   "cell_type": "code",
   "execution_count": null,
   "id": "valid-offset",
   "metadata": {},
   "outputs": [],
   "source": [
    "dd_d_s_N = d_acc_cos_s.subs(T_hat, 0).subs(N_hat, 1)\n",
    "dd_d_s_N = dd_d_s_N.subs(sp.diff(p_M_func, t, t), a_MN)\n",
    "dd_d_s_N = dd_d_s_N.subs(sp.diff(p_L_func, t, t), a_LN)\n",
    "dd_d_s_N"
   ]
  },
  {
   "cell_type": "code",
   "execution_count": null,
   "id": "advance-infrastructure",
   "metadata": {},
   "outputs": [],
   "source": [
    "nat_eqs = [\n",
    "    # Link tangential force balance\n",
    "    [m_L*a_LT, F_FL+F_GT+F_OT],\n",
    "    # Link normal force balance\n",
    "    [m_L*a_LN, F_NL + F_GN + F_ON, ],\n",
    "    # Manipulator tangential force balance\n",
    "    [m_M*a_MT, F_FM + F_CT, ],\n",
    "    # Manipulator normal force balance\n",
    "    [m_M*a_MN, F_NM+F_CN, ],\n",
    "    # Link moment balance\n",
    "    [I_L*dd_theta_L, (-w_L/2)*F_ON - (p_CN-p_LN) * \\\n",
    "     F_FL + (p_CT-p_LT)*F_NL + tau_O, ],\n",
    "    # Manipulator moment balance\n",
    "    [I_M*dd_theta_M, tau_M-F_FM*(p_CN-p_MN), ],\n",
    "#     # 3rd law normal forces\n",
    "#     [F_NL, -F_NM],\n",
    "    # Friction relationship L\n",
    "    [F_FL, mu*mu_S*F_NL],\n",
    "#     # Friction relationship M\n",
    "#     [F_FM, -F_FL],\n",
    "    # d_T derivative is derivative\n",
    "    [dd_d_s_T, dd_d_g_T],\n",
    "    # d_N derivative is derivative\n",
    "    [dd_d_s_N, dd_d_g_N],\n",
    "]\n",
    "\n",
    "art_eqs = [\n",
    "    [dd_d_N, dd_d_Nd],\n",
    "    [dd_d_T, dd_d_Td],\n",
    "    [dd_theta_L, dd_theta_Ld],\n",
    "    [dd_theta_M, dd_theta_Md],\n",
    "]\n",
    "\n",
    "env_eqs = nat_eqs# + art_eqs"
   ]
  },
  {
   "cell_type": "code",
   "execution_count": null,
   "id": "novel-cheat",
   "metadata": {},
   "outputs": [],
   "source": [
    "A = []\n",
    "b = []\n",
    "for lhs, rhs in env_eqs:\n",
    "    A_row = []\n",
    "    b_term = rhs - lhs\n",
    "    for output_term in outputs:\n",
    "        try:\n",
    "            coeff_L = lhs.coeff(output_term)\n",
    "        except AttributeError:\n",
    "            coeff_L = 0\n",
    "        try:\n",
    "            coeff_R = rhs.coeff(output_term)\n",
    "        except AttributeError:\n",
    "            coeff_R = 0\n",
    "        coeff = coeff_L - coeff_R\n",
    "        A_row.append(coeff)\n",
    "        b_term += coeff * output_term\n",
    "    A.append(A_row)\n",
    "    b.append(b_term)\n",
    "A = sp.SparseMatrix(A)\n",
    "A.simplify()\n",
    "b = sp.Matrix([b]).T\n",
    "b.simplify()\n",
    "x = sp.Matrix([outputs]).T\n",
    "x.simplify()"
   ]
  },
  {
   "cell_type": "code",
   "execution_count": null,
   "id": "specific-renaissance",
   "metadata": {},
   "outputs": [],
   "source": [
    "sp.SparseMatrix"
   ]
  },
  {
   "cell_type": "code",
   "execution_count": null,
   "id": "diverse-mount",
   "metadata": {},
   "outputs": [],
   "source": [
    "A.shape"
   ]
  },
  {
   "cell_type": "code",
   "execution_count": null,
   "id": "informational-channels",
   "metadata": {},
   "outputs": [],
   "source": [
    "# A_p = A.pinv()"
   ]
  },
  {
   "cell_type": "code",
   "execution_count": null,
   "id": "acoustic-modern",
   "metadata": {},
   "outputs": [],
   "source": [
    "A_intermed = A@A.T"
   ]
  },
  {
   "cell_type": "code",
   "execution_count": null,
   "id": "jewish-vegetation",
   "metadata": {
    "scrolled": true
   },
   "outputs": [],
   "source": [
    "AA_i = A_intermed.inv()"
   ]
  },
  {
   "cell_type": "code",
   "execution_count": null,
   "id": "linear-armor",
   "metadata": {},
   "outputs": [],
   "source": [
    "# A_aug = A.row_join(b)\n",
    "# results = A_aug.rref()[0]\n",
    "# A_prime = results[:, :-1]\n",
    "# b_prime = results[:, -1]\n",
    "\n",
    "# assert A_prime == sp.eye(A_prime.shape[0])\n",
    "\n",
    "# F_CN_idx = list(x).index(F_CN)\n",
    "# F_CN_exp = b_prime[F_CN_idx]\n",
    "# F_CT_idx = list(x).index(F_CT)\n",
    "# F_CT_exp = b_prime[F_CT_idx]\n",
    "# tau_M_idx = list(x).index(tau_M)\n",
    "# tau_M_exp = b_prime[tau_M_idx]\n",
    "\n",
    "# get_F_CN = lambdify([alg_inputs], F_CN_exp)\n",
    "# get_F_CT = lambdify([alg_inputs], F_CT_exp)\n",
    "# get_tau_M = lambdify([alg_inputs], tau_M_exp)\n",
    "\n",
    "# tau_M_idx = list(x).index(tau_M)\n",
    "# tau_M_exp = b_prime[tau_M_idx]"
   ]
  },
  {
   "cell_type": "markdown",
   "id": "lovely-israeli",
   "metadata": {},
   "source": [
    "# Sympy 2"
   ]
  },
  {
   "cell_type": "code",
   "execution_count": null,
   "id": "empirical-lease",
   "metadata": {},
   "outputs": [],
   "source": [
    "import sympy as sp\n",
    "import numpy as np"
   ]
  },
  {
   "cell_type": "code",
   "execution_count": null,
   "id": "beautiful-accountability",
   "metadata": {},
   "outputs": [],
   "source": [
    "alg_inputs = []\n",
    "\n",
    "# PROGRAMMING: Do this with Drake instead?\n",
    "# PROGRAMMING: Can I get some of these lists from sympy?\n",
    "# Physical and geometric quantities\n",
    "m_L = sp.symbols(r\"m_L\")\n",
    "alg_inputs.append(m_L)\n",
    "m_M = sp.symbols(r\"m_M\")\n",
    "alg_inputs.append(m_M)\n",
    "w_L = sp.symbols(r\"w_L\")\n",
    "alg_inputs.append(w_L)\n",
    "I_L = sp.symbols(r\"I_L\")\n",
    "alg_inputs.append(I_L)\n",
    "h_L = sp.symbols(r\"h_L\")\n",
    "alg_inputs.append(h_L)\n",
    "r = sp.symbols(r\"r\")\n",
    "alg_inputs.append(r)\n",
    "I_M = sp.symbols(r\"I_M\")\n",
    "alg_inputs.append(I_M)"
   ]
  },
  {
   "cell_type": "code",
   "execution_count": null,
   "id": "first-christianity",
   "metadata": {},
   "outputs": [],
   "source": [
    "# Friction coefficients\n",
    "mu = sp.symbols(r\"\\mu\")\n",
    "alg_inputs.append(mu)\n",
    "mu_S = sp.symbols(r\"\\mu_{S}\")\n",
    "alg_inputs.append(mu_S)\n",
    "\n",
    "# System gains\n",
    "b_J = sp.symbols(r\"b_J\")\n",
    "alg_inputs.append(b_J)\n",
    "k_J = sp.symbols(r\"k_J\")\n",
    "alg_inputs.append(k_J)"
   ]
  },
  {
   "cell_type": "code",
   "execution_count": null,
   "id": "fatty-separation",
   "metadata": {},
   "outputs": [],
   "source": [
    "# Positions\n",
    "p_CN = sp.symbols(r\"p_{CN}\")\n",
    "alg_inputs.append(p_CN)\n",
    "p_CT = sp.symbols(r\"p_{CT}\")\n",
    "alg_inputs.append(p_CT)\n",
    "p_MN = sp.symbols(r\"p_{MN}\")\n",
    "alg_inputs.append(p_MN)\n",
    "p_LN = sp.symbols(r\"p_{LN}\")\n",
    "alg_inputs.append(p_LN)\n",
    "p_LT = sp.symbols(r\"p_{LT}\")\n",
    "alg_inputs.append(p_LT)\n",
    "theta_L = sp.symbols(r\"\\theta_L\")\n",
    "alg_inputs.append(theta_L)\n",
    "d_T = sp.symbols(r\"d_T\")\n",
    "alg_inputs.append(d_T)\n",
    "d_N = sp.symbols(r\"d_N\")\n",
    "alg_inputs.append(d_N)\n",
    "\n",
    "# Velocities\n",
    "v_MN = sp.symbols(r\"v_{MN}\")\n",
    "alg_inputs.append(v_MN)\n",
    "v_MT = sp.symbols(r\"v_{MT}\")\n",
    "alg_inputs.append(v_MT)\n",
    "v_LN = sp.symbols(r\"v_{LN}\")\n",
    "alg_inputs.append(v_LN)\n",
    "v_LT = sp.symbols(r\"v_{LT}\")\n",
    "alg_inputs.append(v_LT)\n",
    "d_theta_L = sp.symbols(r\"\\dot\\theta_L\")\n",
    "alg_inputs.append(d_theta_L)\n",
    "d_theta_M = sp.symbols(r\"\\dot\\theta_M\")\n",
    "alg_inputs.append(d_theta_M)\n",
    "d_d_T = sp.symbols(r\"\\dot{d}_T\")\n",
    "alg_inputs.append(d_d_T)\n",
    "d_d_N = sp.symbols(r\"\\dot{d}_N\")\n",
    "alg_inputs.append(d_d_N)"
   ]
  },
  {
   "cell_type": "code",
   "execution_count": null,
   "id": "accepting-richards",
   "metadata": {},
   "outputs": [],
   "source": [
    "# Input forces\n",
    "F_GT = sp.symbols(r\"F_{GT}\")\n",
    "alg_inputs.append(F_GT)\n",
    "F_GN = sp.symbols(r\"F_{GN}\")\n",
    "alg_inputs.append(F_GN)\n",
    "F_OT, F_ON, tau_O = sp.symbols(r\"F_{OT}, F_{ON} \\tau_O\")\n",
    "alg_inputs.append(F_OT)\n",
    "alg_inputs.append(F_ON)\n",
    "alg_inputs.append(tau_O)\n",
    "\n",
    "# Control inputs\n",
    "dd_theta_Ld = sp.symbols(r\"\\ddot\\theta_{Ld}\")\n",
    "alg_inputs.append(dd_theta_Ld)\n",
    "dd_d_Nd = sp.symbols(r\"\\ddot{d}_{Nd}\")\n",
    "alg_inputs.append(dd_d_Nd)\n",
    "dd_d_Td = sp.symbols(r\"\\ddot{d}_{Td}\")\n",
    "alg_inputs.append(dd_d_Td)\n",
    "dd_theta_Md = sp.symbols(r\"\\ddot\\theta_{Md}\")\n",
    "alg_inputs.append(dd_theta_Md)\n",
    "\n",
    "outputs = [\n",
    "    a_LT, a_LN, a_MT, a_MN, dd_theta_L, dd_theta_M, F_FL, dd_d_N, dd_d_T, F_NL\n",
    "] = sp.symbols(\n",
    "    r\"a_{LT} a_{LN} a_{MT} a_{MN} \\ddot\\theta_L \\ddot\\theta_M  F_{FL} \\ddot{d}_N \\ddot{d}_T F_{NL}\"\n",
    ")\n",
    "\n",
    "[\n",
    "    F_CN, F_CT\n",
    "] = sp.symbols(\n",
    "    r\"F_{CN} F_{CT}\"\n",
    ")\n",
    "\n",
    "outputs = list(outputs)"
   ]
  },
  {
   "cell_type": "code",
   "execution_count": null,
   "id": "better-ownership",
   "metadata": {},
   "outputs": [],
   "source": [
    "t = sp.symbols(\"t\")\n",
    "theta_L_func = sp.Function(r'\\theta_L')(t)\n",
    "N_hat = sp.Function(r'\\hat N')(theta_L_func)\n",
    "T_hat = sp.Function(r'\\hat T')(theta_L_func)\n",
    "\n",
    "d_T_func = sp.Function(r\"d_T\")(t)\n",
    "d_N_func = sp.Function(r\"d_N\")(t)\n",
    "d_g = d_T_func*T_hat + d_N_func*N_hat\n",
    "\n",
    "d_vel_g = sp.diff(d_g, t)\n",
    "\n",
    "d_vel_g = d_vel_g.subs(sp.diff(N_hat, t), -\n",
    "                       sp.diff(theta_L_func, t)*T_hat)\n",
    "d_vel_g = d_vel_g.subs(\n",
    "    sp.diff(T_hat, t), sp.diff(theta_L_func, t)*N_hat)\n",
    "\n",
    "d_acc_g = sp.diff(d_vel_g, t)\n",
    "d_acc_g = d_acc_g.subs(sp.diff(N_hat, t), -\n",
    "                       sp.diff(theta_L_func, t)*T_hat)\n",
    "d_acc_g = d_acc_g.subs(\n",
    "    sp.diff(T_hat, t), sp.diff(theta_L_func, t)*N_hat)\n",
    "\n",
    "d_acc_cos_g = d_acc_g\n",
    "d_acc_cos_g = d_acc_cos_g.subs(sp.diff(theta_L_func, t, t), dd_theta_L)\n",
    "d_acc_cos_g = d_acc_cos_g.subs(sp.diff(d_T_func, t, t), dd_d_T)\n",
    "d_acc_cos_g = d_acc_cos_g.subs(sp.diff(d_N_func, t, t), dd_d_N)\n",
    "d_acc_cos_g = d_acc_cos_g.subs(sp.diff(theta_L_func, t), d_theta_L)\n",
    "d_acc_cos_g = d_acc_cos_g.subs(sp.diff(d_T_func, t), d_d_T)\n",
    "d_acc_cos_g = d_acc_cos_g.subs(sp.diff(d_N_func, t), d_d_N)\n",
    "d_acc_cos_g = d_acc_cos_g.subs(d_T_func, d_T)\n",
    "d_acc_cos_g = d_acc_cos_g.subs(d_N_func, d_N)"
   ]
  },
  {
   "cell_type": "code",
   "execution_count": null,
   "id": "korean-disorder",
   "metadata": {},
   "outputs": [],
   "source": [
    "dd_d_g_T = d_acc_cos_g.subs(N_hat, 0).subs(T_hat, 1)\n",
    "dd_d_g_T"
   ]
  },
  {
   "cell_type": "code",
   "execution_count": null,
   "id": "defined-budget",
   "metadata": {},
   "outputs": [],
   "source": [
    "dd_d_g_N = d_acc_cos_g.subs(T_hat, 0).subs(N_hat, 1)\n",
    "dd_d_g_N"
   ]
  },
  {
   "cell_type": "code",
   "execution_count": null,
   "id": "annual-acting",
   "metadata": {},
   "outputs": [],
   "source": [
    "p_M_func = sp.Function(r\"p_M\")(t)\n",
    "p_L_func = sp.Function(r\"p_L\")(t)\n",
    "v_M = sp.symbols(r\"v_M\")\n",
    "v_L = sp.symbols(r\"v_L\")\n",
    "d_s = (p_M_func + r*N_hat) - (p_L_func + (w_L/2)*T_hat - (h_L/2)*N_hat)\n",
    "\n",
    "d_vel_s = sp.diff(d_s, t)\n",
    "d_vel_s = d_vel_s.subs(sp.diff(N_hat, t), -\n",
    "                       sp.diff(theta_L_func, t)*T_hat)\n",
    "d_vel_s = d_vel_s.subs(\n",
    "    sp.diff(T_hat, t), sp.diff(theta_L_func, t)*N_hat)\n",
    "\n",
    "d_acc_s = sp.diff(d_vel_s, t)\n",
    "d_acc_s = d_acc_s.subs(sp.diff(N_hat, t), -\n",
    "                       sp.diff(theta_L_func, t)*T_hat)\n",
    "d_acc_s = d_acc_s.subs(\n",
    "    sp.diff(T_hat, t), sp.diff(theta_L_func, t)*N_hat)\n",
    "\n",
    "d_acc_cos_s = d_acc_s\n",
    "d_acc_cos_s = d_acc_cos_s.subs(sp.diff(theta_L_func, t, t), dd_theta_L)\n",
    "d_acc_cos_s = d_acc_cos_s.subs(sp.diff(d_T_func, t, t), dd_d_T)\n",
    "d_acc_cos_s = d_acc_cos_s.subs(sp.diff(d_N_func, t, t), dd_d_N)\n",
    "d_acc_cos_s = d_acc_cos_s.subs(sp.diff(theta_L_func, t), d_theta_L)\n",
    "d_acc_cos_s = d_acc_cos_s.subs(sp.diff(d_T_func, t), d_d_T)\n",
    "d_acc_cos_s = d_acc_cos_s.subs(sp.diff(d_N_func, t), d_d_N)\n",
    "d_acc_cos_s = d_acc_cos_s.subs(d_T_func, d_T)\n",
    "d_acc_cos_s = d_acc_cos_s.subs(d_N_func, d_N)"
   ]
  },
  {
   "cell_type": "code",
   "execution_count": null,
   "id": "small-cigarette",
   "metadata": {},
   "outputs": [],
   "source": [
    "dd_d_s_T = d_acc_cos_s.subs(N_hat, 0).subs(T_hat, 1)\n",
    "dd_d_s_T = dd_d_s_T.subs(sp.diff(p_M_func, t, t), a_MT)\n",
    "dd_d_s_T = dd_d_s_T.subs(sp.diff(p_L_func, t, t), a_LT)\n",
    "dd_d_s_T"
   ]
  },
  {
   "cell_type": "code",
   "execution_count": null,
   "id": "jewish-report",
   "metadata": {},
   "outputs": [],
   "source": [
    "dd_d_s_T.subs(sp.diff(p_M_func, t, t), a_MT)"
   ]
  },
  {
   "cell_type": "code",
   "execution_count": null,
   "id": "social-oriental",
   "metadata": {},
   "outputs": [],
   "source": [
    "dd_d_s_N = d_acc_cos_s.subs(T_hat, 0).subs(N_hat, 1)\n",
    "dd_d_s_N = dd_d_s_N.subs(sp.diff(p_M_func, t, t), a_MN)\n",
    "dd_d_s_N = dd_d_s_N.subs(sp.diff(p_L_func, t, t), a_LN)\n",
    "dd_d_s_N"
   ]
  },
  {
   "cell_type": "code",
   "execution_count": null,
   "id": "radio-programmer",
   "metadata": {},
   "outputs": [],
   "source": [
    "nat_eqs = [\n",
    "    # Link tangential force balance\n",
    "    [m_L*a_LT, F_FL+F_GT+F_OT],\n",
    "    # Link normal force balance\n",
    "    [m_L*a_LN, F_NL + F_GN + F_ON, ],\n",
    "    # Manipulator tangential force balance\n",
    "    [m_M*a_MT, (-F_FL) + F_CT, ],\n",
    "    # Manipulator normal force balance\n",
    "    [m_M*a_MN, (-F_NL)+F_CN, ],\n",
    "    # Link moment balance\n",
    "    [I_L*dd_theta_L, (-w_L/2)*F_ON - (p_CN-p_LN) * \\\n",
    "     F_FL + (p_CT-p_LT)*F_NL + tau_O, ],\n",
    "    # Friction relationship L\n",
    "    [F_FL, mu*mu_S*F_NL],\n",
    "    # d_T derivative is derivative\n",
    "    [dd_d_s_T, dd_d_g_T],\n",
    "    # d_N derivative is derivative\n",
    "    [dd_d_s_N, dd_d_g_N],\n",
    "]\n",
    "env_eqs = nat_eqs# + art_eqs"
   ]
  },
  {
   "cell_type": "code",
   "execution_count": null,
   "id": "cardiac-mistress",
   "metadata": {},
   "outputs": [],
   "source": [
    "A = []\n",
    "b = []\n",
    "for lhs, rhs in env_eqs:\n",
    "    A_row = []\n",
    "    b_term = rhs - lhs\n",
    "    for output_term in outputs:\n",
    "        try:\n",
    "            coeff_L = lhs.coeff(output_term)\n",
    "        except AttributeError:\n",
    "            coeff_L = 0\n",
    "        try:\n",
    "            coeff_R = rhs.coeff(output_term)\n",
    "        except AttributeError:\n",
    "            coeff_R = 0\n",
    "        coeff = coeff_L - coeff_R\n",
    "        A_row.append(coeff)\n",
    "        b_term += coeff * output_term\n",
    "    A.append(A_row)\n",
    "    b.append(b_term)\n",
    "A = sp.Matrix(A)\n",
    "A.simplify()\n",
    "b = sp.Matrix([b]).T\n",
    "b.simplify()\n",
    "x = sp.Matrix([outputs]).T\n",
    "x.simplify()"
   ]
  },
  {
   "cell_type": "code",
   "execution_count": null,
   "id": "divine-focus",
   "metadata": {},
   "outputs": [],
   "source": [
    "x"
   ]
  },
  {
   "cell_type": "code",
   "execution_count": null,
   "id": "invalid-chocolate",
   "metadata": {},
   "outputs": [],
   "source": [
    "sp.SparseMatrix"
   ]
  },
  {
   "cell_type": "code",
   "execution_count": null,
   "id": "experimental-reporter",
   "metadata": {},
   "outputs": [],
   "source": [
    "type(A)"
   ]
  },
  {
   "cell_type": "code",
   "execution_count": null,
   "id": "maritime-greenhouse",
   "metadata": {},
   "outputs": [],
   "source": [
    "A"
   ]
  },
  {
   "cell_type": "code",
   "execution_count": null,
   "id": "understanding-report",
   "metadata": {},
   "outputs": [],
   "source": [
    "A_intermed = A@A.T"
   ]
  },
  {
   "cell_type": "code",
   "execution_count": null,
   "id": "junior-amendment",
   "metadata": {},
   "outputs": [],
   "source": [
    "A_intermed"
   ]
  },
  {
   "cell_type": "markdown",
   "id": "turned-array",
   "metadata": {},
   "source": [
    "## Manually computing"
   ]
  },
  {
   "cell_type": "code",
   "execution_count": null,
   "id": "herbal-harvard",
   "metadata": {},
   "outputs": [],
   "source": []
  },
  {
   "cell_type": "code",
   "execution_count": null,
   "id": "administrative-practice",
   "metadata": {},
   "outputs": [],
   "source": [
    "stacked = A_intermed.row_join(sp.eye(A.shape[0]))"
   ]
  },
  {
   "cell_type": "code",
   "execution_count": null,
   "id": "latin-identifier",
   "metadata": {},
   "outputs": [],
   "source": [
    "manual_inv = sp.eye(A.shape[0])"
   ]
  },
  {
   "cell_type": "code",
   "execution_count": null,
   "id": "dress-philosophy",
   "metadata": {},
   "outputs": [],
   "source": [
    "def swap_rows(M, i, j):\n",
    "    ret = 1*M\n",
    "    ret[i,:] = M[j,:]\n",
    "    ret[j,:] = M[i,:]\n",
    "    return ret"
   ]
  },
  {
   "cell_type": "code",
   "execution_count": null,
   "id": "blind-harvard",
   "metadata": {},
   "outputs": [],
   "source": [
    "def mult_row(M, i, alpha):\n",
    "    mult = sp.eye(M.shape[0])\n",
    "    mult[i,i] = alpha\n",
    "    return mult@M"
   ]
  },
  {
   "cell_type": "code",
   "execution_count": null,
   "id": "twelve-liberty",
   "metadata": {},
   "outputs": [],
   "source": [
    "def add_row(M, i, j):\n",
    "    ret = 1*M\n",
    "    ret[j,:] += M[i,:]\n",
    "    return ret"
   ]
  },
  {
   "cell_type": "code",
   "execution_count": null,
   "id": "dominant-convertible",
   "metadata": {},
   "outputs": [],
   "source": [
    "def add_row_mult(M, i, j, alpha):\n",
    "    ret = 1*M\n",
    "    ret[j,:] += alpha*M[i,:]\n",
    "    return ret"
   ]
  },
  {
   "cell_type": "code",
   "execution_count": null,
   "id": "adapted-protest",
   "metadata": {},
   "outputs": [],
   "source": [
    "# TODO: automate this\n",
    "out = 1*stacked.subs(m_L, 3).subs(m_M, 5).subs(I_L, 2).subs(I_M, 7).subs(w_L, 11).subs(h_L, 11)\n",
    "out.simplify()\n",
    "out = mult_row(out, 0, 1/(m_L**2+1))\n",
    "# out = mult_row(out, 1, 1/(m_L**2+1))\n",
    "# out = add_row(out, 0, 2)\n",
    "# out = mult_row(out, 2, 1/(m_M**2+1-1/(m_L**2+1)))\n",
    "# out = add_row(out, 1, 3)\n",
    "# out = mult_row(out, 3, 1/(m_M**2+1-1/(m_L**2+1)))\n",
    "# # out.simplify()\n",
    "# out = add_row_mult(out, 2, 0, 1/(m_L**2+1))\n",
    "# out = add_row_mult(out, 3, 1, 1/(m_L**2+1))\n",
    "# out = add_row_mult(out, 0, 4, -stacked[4,0])\n",
    "# out = add_row_mult(out, 1, 4, -stacked[4,1])\n",
    "# out = add_row_mult(out, 2, 4, -stacked[4,2])\n",
    "# # out.simplify()\n",
    "# out = add_row_mult(out, 3, 4, -stacked[4,3])\n",
    "# out = mult_row(out, 4, 1/out[4,4])\n",
    "# out = add_row_mult(out, 4, 3, -out[3,4])\n",
    "# out = add_row_mult(out, 4, 2, -out[2,4])\n",
    "# out = add_row_mult(out, 4, 1, -out[1,4])\n",
    "# out = add_row_mult(out, 4, 0, -out[0,4])\n",
    "# # out.simplify()\n",
    "# out = add_row(out, 0, 5)\n",
    "# out = add_row_mult(out, 1, 5, -mu*mu_S)\n",
    "# out = add_row(out, 2, 5)\n",
    "# out = add_row_mult(out, 3, 5, mu*mu_S)\n",
    "# out = add_row_mult(out, 4, 5, -(mu*mu_S*(p_CT-p_LT)+p_CN-p_LN))\n",
    "# out.simplify()\n",
    "out"
   ]
  },
  {
   "cell_type": "code",
   "execution_count": null,
   "id": "understanding-campbell",
   "metadata": {},
   "outputs": [],
   "source": [
    "# TODO: automate this\n",
    "sub_stacked = stacked.subs(m_L, 3).subs(m_M, 5).subs(I_L, 2).subs(I_M, 7).subs(w_L, 11).subs(h_L, 11)\n",
    "out = 1*sub_stacked\n",
    "out = mult_row(out, 0, 1/sub_stacked[0,0])\n",
    "out = mult_row(out, 1, 1/sub_stacked[1,1])\n",
    "out = add_row(out, 0, 2)\n",
    "out = mult_row(out, 2, 1/out[2,2])\n",
    "out = add_row_mult(out, 2, 0, -out[0,2])\n",
    "out = add_row(out, 1, 3)\n",
    "out = mult_row(out, 3, 1/out[3,3])\n",
    "out = add_row_mult(out, 3, 1, -out[1,3])\n",
    "out = add_row_mult(out, 0, 4, -stacked[4,0])\n",
    "out = add_row_mult(out, 1, 4, -stacked[4,1])\n",
    "out = add_row_mult(out, 2, 4, -stacked[4,2])\n",
    "out = add_row_mult(out, 3, 4, -stacked[4,3])\n",
    "out = mult_row(out, 4, 1/out[4,4])\n",
    "out = add_row_mult(out, 4, 3, -out[3,4])\n",
    "out = add_row_mult(out, 4, 2, -out[2,4])\n",
    "out = add_row_mult(out, 4, 1, -out[1,4])\n",
    "out = add_row_mult(out, 4, 0, -out[0,4])\n",
    "# out.simplify()\n",
    "out = add_row(out, 0, 5)\n",
    "out = add_row_mult(out, 1, 5, -out[5,1])\n",
    "out = add_row_mult(out, 2, 5, -1)\n",
    "out = add_row_mult(out, 3, 5, -out[5,3])\n",
    "out = add_row_mult(out, 4, 5, -out[5,4])\n",
    "out = add_row_mult(out, 0, 6, -out[6,0])\n",
    "out = add_row_mult(out, 2, 6, -out[6,2])\n",
    "out = add_row_mult(out, 4, 6, -out[6,4])\n",
    "out = mult_row(out, 5, 1/out[5,5])\n",
    "out = add_row_mult(out, 5, 4, -out[4,5])\n",
    "out = add_row_mult(out, 5, 3, -out[3,5])\n",
    "out = add_row_mult(out, 5, 2, -out[2,5])\n",
    "out = add_row_mult(out, 5, 1, -out[1,5])\n",
    "out = add_row_mult(out, 5, 0, -out[0,5])\n",
    "out = add_row_mult(out, 5, 6, -out[6,5])\n",
    "out = add_row_mult(out, 5, 7, -out[7,5])\n",
    "out = add_row_mult(out, 1, 7, -out[7,1])\n",
    "out = add_row_mult(out, 3, 7, -out[7,3])\n",
    "out = add_row_mult(out, 4, 7, -out[7,4])\n",
    "out = mult_row(out, 6, 1/out[6,6])\n",
    "out = add_row_mult(out, 6, 5, -out[5,6])\n",
    "out = add_row_mult(out, 6, 4, -out[4,6])\n",
    "out = add_row_mult(out, 6, 3, -out[3,6])\n",
    "out = add_row_mult(out, 6, 2, -out[2,6])\n",
    "out = add_row_mult(out, 6, 1, -out[1,6])\n",
    "out = add_row_mult(out, 6, 0, -out[0,6])\n",
    "out = add_row_mult(out, 6, 7, -out[7,6])\n",
    "out = mult_row(out, 7, 1/out[7,7])\n",
    "out = add_row_mult(out, 7, 6, -out[6,7])\n",
    "out = add_row_mult(out, 7, 5, -out[5,7])\n",
    "out = add_row_mult(out, 7, 4, -out[4,7])\n",
    "out = add_row_mult(out, 7, 3, -out[3,7])\n",
    "out = add_row_mult(out, 7, 2, -out[2,7])\n",
    "out = add_row_mult(out, 7, 1, -out[1,7])\n",
    "out = add_row_mult(out, 7, 0, -out[0,7])"
   ]
  },
  {
   "cell_type": "code",
   "execution_count": null,
   "id": "hidden-function",
   "metadata": {},
   "outputs": [],
   "source": [
    "out[0,0].coeff(mu)"
   ]
  },
  {
   "cell_type": "code",
   "execution_count": null,
   "id": "mental-expression",
   "metadata": {},
   "outputs": [],
   "source": [
    "AA_i = out[:,8:]"
   ]
  },
  {
   "cell_type": "code",
   "execution_count": null,
   "id": "satisfactory-snake",
   "metadata": {},
   "outputs": [],
   "source": [
    "A_intermed.shape\n",
    "stacked.sh"
   ]
  },
  {
   "cell_type": "code",
   "execution_count": null,
   "id": "paperback-manufacturer",
   "metadata": {},
   "outputs": [],
   "source": [
    "A_mu = sp.zeros(A_intermed.shape[0], A_intermed.shape[1])\n",
    "for i in range(A_intermed.shape[0]):\n",
    "    for j in range(A_intermed.shape[1]):\n",
    "        A_mu[i,j] = mu*(AA_i[i,j].coeff(mu))"
   ]
  },
  {
   "cell_type": "code",
   "execution_count": null,
   "id": "played-understanding",
   "metadata": {},
   "outputs": [],
   "source": [
    "A_mu"
   ]
  },
  {
   "cell_type": "code",
   "execution_count": null,
   "id": "processed-washer",
   "metadata": {},
   "outputs": [],
   "source": [
    "sub_A_intermed = A_intermed.subs(m_L, 3).subs(m_M, 5).subs(I_L, 2).subs(I_M, 7).subs(w_L, 11).subs(h_L, 11)"
   ]
  },
  {
   "cell_type": "code",
   "execution_count": null,
   "id": "representative-sunday",
   "metadata": {},
   "outputs": [],
   "source": [
    "full_sub_AA_i = AA_i.subs(mu_S, 13).subs(p_CN, 17).subs(p_CT, 19).subs(p_LN, 23).subs(p_LT, 29).subs(r, 31).subs(d_T, 37).subs(d_N, 41)\n",
    "full_sub_AA_i.free_symbols"
   ]
  },
  {
   "cell_type": "code",
   "execution_count": null,
   "id": "supreme-costs",
   "metadata": {},
   "outputs": [],
   "source": [
    "full_sub_AA_i"
   ]
  },
  {
   "cell_type": "code",
   "execution_count": null,
   "id": "recorded-basement",
   "metadata": {},
   "outputs": [],
   "source": [
    "AA_i@(sub_A_intermed)"
   ]
  },
  {
   "cell_type": "code",
   "execution_count": null,
   "id": "continuous-majority",
   "metadata": {},
   "outputs": [],
   "source": [
    "out.subs(m_L, 3).subs(m_M, 5).subs(I_L, 2).subs(I_M, 7)"
   ]
  },
  {
   "cell_type": "code",
   "execution_count": null,
   "id": "ultimate-distinction",
   "metadata": {},
   "outputs": [],
   "source": [
    "A_intermed_sub = A_intermed.subs(m_L, 3).subs(m_M, 5).subs(I_L, 2).subs(I_M, 7).subs(w_L, 11).subs(h_L, 11)\n",
    "AA_i = A_intermed_sub.inv()"
   ]
  },
  {
   "cell_type": "code",
   "execution_count": null,
   "id": "empty-interim",
   "metadata": {},
   "outputs": [],
   "source": [
    "stacked.shape"
   ]
  },
  {
   "cell_type": "code",
   "execution_count": null,
   "id": "posted-electric",
   "metadata": {},
   "outputs": [],
   "source": [
    "\n",
    "manual_inv@stacked"
   ]
  },
  {
   "cell_type": "code",
   "execution_count": null,
   "id": "flying-slave",
   "metadata": {
    "scrolled": true
   },
   "outputs": [],
   "source": [
    "AA_i = A_intermed.inv()"
   ]
  },
  {
   "cell_type": "code",
   "execution_count": null,
   "id": "sealed-thesis",
   "metadata": {},
   "outputs": [],
   "source": [
    "# A_aug = A.row_join(b)\n",
    "# results = A_aug.rref()[0]\n",
    "# A_prime = results[:, :-1]\n",
    "# b_prime = results[:, -1]\n",
    "\n",
    "# assert A_prime == sp.eye(A_prime.shape[0])\n",
    "\n",
    "# F_CN_idx = list(x).index(F_CN)\n",
    "# F_CN_exp = b_prime[F_CN_idx]\n",
    "# F_CT_idx = list(x).index(F_CT)\n",
    "# F_CT_exp = b_prime[F_CT_idx]\n",
    "# tau_M_idx = list(x).index(tau_M)\n",
    "# tau_M_exp = b_prime[tau_M_idx]\n",
    "\n",
    "# get_F_CN = lambdify([alg_inputs], F_CN_exp)\n",
    "# get_F_CT = lambdify([alg_inputs], F_CT_exp)\n",
    "# get_tau_M = lambdify([alg_inputs], tau_M_exp)\n",
    "\n",
    "# tau_M_idx = list(x).index(tau_M)\n",
    "# tau_M_exp = b_prime[tau_M_idx]"
   ]
  },
  {
   "cell_type": "code",
   "execution_count": null,
   "id": "external-conversion",
   "metadata": {},
   "outputs": [],
   "source": [
    "A"
   ]
  },
  {
   "cell_type": "markdown",
   "id": "swiss-bench",
   "metadata": {},
   "source": [
    "# Drake"
   ]
  },
  {
   "cell_type": "code",
   "execution_count": null,
   "id": "composite-translator",
   "metadata": {},
   "outputs": [],
   "source": [
    "from pydrake.all import MathematicalProgram, SnoptSolver\n",
    "import pydrake.symbolic as sym"
   ]
  },
  {
   "cell_type": "code",
   "execution_count": null,
   "id": "confidential-essex",
   "metadata": {},
   "outputs": [],
   "source": [
    "prog = MathematicalProgram()"
   ]
  },
  {
   "cell_type": "code",
   "execution_count": null,
   "id": "suspended-distinction",
   "metadata": {},
   "outputs": [],
   "source": [
    "# Physical and geometric quantities\n",
    "m_L = sym.ExpressionConstant(\"m_L\")\n",
    "prog.AddIndeterminates(np.array([m_L]))\n",
    "m_M = sym.Variable(\"m_M\")\n",
    "prog.AddIndeterminates(np.array([m_M]))\n",
    "w_L = sym.Variable(\"w_L\")\n",
    "prog.AddIndeterminates(np.array([w_L]))\n",
    "I_L = sym.Variable(\"I_L\")\n",
    "prog.AddIndeterminates(np.array([I_L]))\n",
    "h_L = sym.Variable(\"h_L\")\n",
    "prog.AddIndeterminates(np.array([h_L]))\n",
    "r = sym.Variable(\"r\")\n",
    "prog.AddIndeterminates(np.array([r]))\n",
    "I_M = sym.Variable(\"I_M\")\n",
    "prog.AddIndeterminates(np.array([I_M]))"
   ]
  },
  {
   "cell_type": "code",
   "execution_count": null,
   "id": "coordinated-income",
   "metadata": {},
   "outputs": [],
   "source": [
    "# Friction coefficients\n",
    "mu = sym.Variable(\"mu\")\n",
    "prog.AddIndeterminates(np.array([mu]))\n",
    "mu_S = sym.Variable(\"mu_S\")\n",
    "prog.AddIndeterminates(np.array([mu_S]))\n",
    "\n",
    "# System gains\n",
    "b_J = sym.Variable(\"b_J\")\n",
    "prog.AddIndeterminates(np.array([b_J]))\n",
    "k_J = sym.Variable(\"k_J\")\n",
    "prog.AddIndeterminates(np.array([k_J]))"
   ]
  },
  {
   "cell_type": "code",
   "execution_count": null,
   "id": "cross-riverside",
   "metadata": {},
   "outputs": [],
   "source": [
    "# Positions\n",
    "p_CN = sym.Variable(\"p_CN\")\n",
    "prog.AddIndeterminates(np.array([p_CN]))\n",
    "p_CT = sym.Variable(\"p_CT\")\n",
    "prog.AddIndeterminates(np.array([p_CT]))\n",
    "p_MN = sym.Variable(\"p_MN\")\n",
    "prog.AddIndeterminates(np.array([p_MN]))\n",
    "p_LN = sym.Variable(\"p_LN\")\n",
    "prog.AddIndeterminates(np.array([p_LN]))\n",
    "p_LT = sym.Variable(\"p_LT\")\n",
    "prog.AddIndeterminates(np.array([p_LT]))\n",
    "theta_L = sym.Variable(\"theta_L\")\n",
    "prog.AddIndeterminates(np.array([theta_L]))\n",
    "d_T = sym.Variable(\"d_T\")\n",
    "prog.AddIndeterminates(np.array([d_T]))\n",
    "d_N = sym.Variable(\"d_N\")\n",
    "prog.AddIndeterminates(np.array([d_N]))\n",
    "\n",
    "# Velocities\n",
    "v_MN = sym.Variable(\"v_MN\")\n",
    "prog.AddIndeterminates(np.array([v_MN]))\n",
    "v_MT = sym.Variable(\"v_MT\")\n",
    "prog.AddIndeterminates(np.array([v_MT]))\n",
    "v_LN = sym.Variable(\"v_LN\")\n",
    "prog.AddIndeterminates(np.array([v_LN]))\n",
    "v_LT = sym.Variable(\"v_LT\")\n",
    "prog.AddIndeterminates(np.array([v_LT]))\n",
    "d_theta_L = sym.Variable(\"d_theta_L\")\n",
    "prog.AddIndeterminates(np.array([d_theta_L]))\n",
    "d_theta_M = sym.Variable(\"d_theta_M\")\n",
    "prog.AddIndeterminates(np.array([d_theta_M]))\n",
    "d_d_T = sym.Variable(\"d_d_T\")\n",
    "prog.AddIndeterminates(np.array([d_d_T]))\n",
    "d_d_N = sym.Variable(\"d_d_N\")\n",
    "prog.AddIndeterminates(np.array([d_d_N]))"
   ]
  },
  {
   "cell_type": "code",
   "execution_count": null,
   "id": "lucky-vienna",
   "metadata": {},
   "outputs": [],
   "source": [
    "# Input forces\n",
    "F_GT = sym.Variable(\"F_GT\")\n",
    "prog.AddDecisionVariables(np.array([F_GT]))\n",
    "F_GN = sym.Variable(\"F_GN\")\n",
    "prog.AddDecisionVariables(np.array([F_GN]))\n",
    "F_OT = sym.Variable(\"F_GN\")\n",
    "prog.AddDecisionVariables(np.array([F_OT]))\n",
    "F_ON = sym.Variable(\"F_GN\")\n",
    "prog.AddDecisionVariables(np.array([F_ON]))\n",
    "tau_O = sym.Variable(\"F_OT, F_ON, tau_O\")\n",
    "prog.AddDecisionVariables(np.array([tau_O]))"
   ]
  },
  {
   "cell_type": "code",
   "execution_count": null,
   "id": "driven-marathon",
   "metadata": {},
   "outputs": [],
   "source": [
    "# Outputs\n",
    "a_LT = sym.Variable(\"a_LT\")\n",
    "prog.AddDecisionVariables(np.array([a_LT]))\n",
    "a_LN = sym.Variable(\"a_LN\")\n",
    "prog.AddDecisionVariables(np.array([a_LN]))\n",
    "a_MT = sym.Variable(\"a_MT\")\n",
    "prog.AddDecisionVariables(np.array([a_MT]))\n",
    "a_MN = sym.Variable(\"a_MN\")\n",
    "prog.AddDecisionVariables(np.array([a_MN]))\n",
    "dd_theta_L = sym.Variable(\"dd_theta_L\")\n",
    "prog.AddDecisionVariables(np.array([dd_theta_L]))\n",
    "dd_theta_M = sym.Variable(\"dd_theta_M\")\n",
    "prog.AddDecisionVariables(np.array([dd_theta_M]))\n",
    "F_NM = sym.Variable(\"F_NM\")\n",
    "prog.AddDecisionVariables(np.array([F_NM]))\n",
    "F_FL = sym.Variable(\"F_FL\")\n",
    "prog.AddDecisionVariables(np.array([F_FL]))\n",
    "F_FM = sym.Variable(\"F_FM\")\n",
    "prog.AddDecisionVariables(np.array([F_FM]))\n",
    "dd_d_N = sym.Variable(\"dd_d_N\")\n",
    "prog.AddDecisionVariables(np.array([dd_d_N]))\n",
    "dd_d_T = sym.Variable(\"dd_d_T\")\n",
    "prog.AddDecisionVariables(np.array([dd_d_T]))\n",
    "F_NL = sym.Variable(\"F_NL\")\n",
    "prog.AddDecisionVariables(np.array([F_NL]))\n",
    "F_CN = sym.Variable(\"F_CN\")\n",
    "prog.AddDecisionVariables(np.array([F_CN]))\n",
    "F_CT = sym.Variable(\"F_CT\")\n",
    "prog.AddDecisionVariables(np.array([F_CT]))\n",
    "tau_M = sym.Variable(\"tau_M\")\n",
    "prog.AddDecisionVariables(np.array([tau_M]))"
   ]
  },
  {
   "cell_type": "code",
   "execution_count": null,
   "id": "induced-alabama",
   "metadata": {},
   "outputs": [],
   "source": [
    "dd_d_g_T = -dd_theta_L*d_N + dd_d_T - d_theta_L**2*d_T - 2*d_theta_L*d_d_N\n",
    "dd_d_g_N = dd_theta_L*d_T + dd_d_N - d_theta_L**2*d_N + 2*d_theta_L*d_d_T"
   ]
  },
  {
   "cell_type": "code",
   "execution_count": null,
   "id": "speaking-cleaner",
   "metadata": {},
   "outputs": [],
   "source": [
    "dd_d_s_T = -dd_theta_L*h_L/2 - dd_theta_L*r + d_theta_L**2*w_L/2 - a_LT + a_MT\n",
    "dd_d_s_N = -dd_theta_L*w_L/2 - d_theta_L**2*h_L/2 - d_theta_L**2*r - a_LN + a_MN"
   ]
  },
  {
   "cell_type": "code",
   "execution_count": null,
   "id": "divine-elder",
   "metadata": {},
   "outputs": [],
   "source": [
    "prog.AddLinearConstraint(a_LT == F_FL+F_GT+F_OT)\n",
    "prog.AddLinearConstraint(a_LN == F_NL + F_GN + F_ON)\n",
    "# prog.AddLinearConstraint(m_M*a_MT == F_FM + F_CT)\n",
    "# prog.AddLinearConstraint(m_M*a_MN == F_NM+F_CN)\n",
    "# prog.AddLinearConstraint(I_L*dd_theta_L == (-w_L/2)*F_ON - (p_CN-p_LN) * F_FL + (p_CT-p_LT)*F_NL + tau_O)\n",
    "# prog.AddLinearConstraint(I_M*dd_theta_M == tau_M-F_FM*(p_CN-p_MN))\n",
    "# prog.AddLinearConstraint(F_NL == -F_NM)\n",
    "# prog.AddLinearConstraint(F_FL == mu*mu_S*F_NL)\n",
    "# prog.AddLinearConstraint(F_FM == -F_FL)\n",
    "# prog.AddLinearConstraint(dd_d_s_T == dd_d_g_T)\n",
    "# prog.AddLinearConstraint(dd_d_s_N == dd_d_g_N)"
   ]
  },
  {
   "cell_type": "code",
   "execution_count": null,
   "id": "twelve-kelly",
   "metadata": {},
   "outputs": [],
   "source": [
    "solver = SnoptSolver()"
   ]
  },
  {
   "cell_type": "code",
   "execution_count": null,
   "id": "oriental-absorption",
   "metadata": {},
   "outputs": [],
   "source": [
    "res = solver.Solve(prog)"
   ]
  },
  {
   "cell_type": "code",
   "execution_count": null,
   "id": "atlantic-paragraph",
   "metadata": {},
   "outputs": [],
   "source": [
    "res.GetSolution().size"
   ]
  },
  {
   "cell_type": "code",
   "execution_count": null,
   "id": "nasty-branch",
   "metadata": {},
   "outputs": [],
   "source": [
    "prog.LinearConstraint(m_L*a_LT == F_FL+F_GT+F_OT)\n",
    "# prog.AddLinearConstraint(m_L*a_LN == F_NL + F_GN + F_ON)\n",
    "# prog.AddLinearConstraint(m_M*a_MT == F_FM + F_CT)\n",
    "# prog.AddLinearConstraint(m_M*a_MN == F_NM+F_CN)\n",
    "# prog.AddLinearConstraint(I_L*dd_theta_L == (-w_L/2)*F_ON - (p_CN-p_LN) * F_FL + (p_CT-p_LT)*F_NL + tau_O)\n",
    "# prog.AddLinearConstraint(I_M*dd_theta_M == tau_M-F_FM*(p_CN-p_MN))\n",
    "# prog.AddLinearConstraint(F_NL == -F_NM)\n",
    "# prog.AddLinearConstraint(F_FL == mu*mu_S*F_NL)\n",
    "# prog.AddLinearConstraint(F_FM == -F_FL)\n",
    "# prog.AddLinearConstraint(dd_d_s_T == dd_d_g_T)\n",
    "# prog.AddLinearConstraint(dd_d_s_N == dd_d_g_N)"
   ]
  },
  {
   "cell_type": "code",
   "execution_count": null,
   "id": "upset-camel",
   "metadata": {},
   "outputs": [],
   "source": []
  },
  {
   "cell_type": "code",
   "execution_count": null,
   "id": "exclusive-johns",
   "metadata": {},
   "outputs": [],
   "source": []
  },
  {
   "cell_type": "markdown",
   "id": "horizontal-blocking",
   "metadata": {},
   "source": [
    "# Sympy 3"
   ]
  },
  {
   "cell_type": "code",
   "execution_count": null,
   "id": "nervous-authority",
   "metadata": {},
   "outputs": [],
   "source": [
    "import sympy as sp\n",
    "import numpy as np\n",
    "from IPython.display import display, Math, Latex\n",
    "from sympy.utilities.lambdify import lambdify"
   ]
  },
  {
   "cell_type": "code",
   "execution_count": null,
   "id": "difficult-membership",
   "metadata": {},
   "outputs": [],
   "source": [
    "alg_inputs = []\n",
    "\n",
    "# PROGRAMMING: Do this with Drake instead?\n",
    "# PROGRAMMING: Can I get some of these lists from sympy?\n",
    "# Physical and geometric quantities\n",
    "m_L = sp.symbols(r\"m_L\")\n",
    "alg_inputs.append(m_L)\n",
    "m_M = sp.symbols(r\"m_M\")\n",
    "alg_inputs.append(m_M)\n",
    "w_L = sp.symbols(r\"w_L\")\n",
    "alg_inputs.append(w_L)\n",
    "I_L = sp.symbols(r\"I_L\")\n",
    "alg_inputs.append(I_L)\n",
    "h_L = sp.symbols(r\"h_L\")\n",
    "alg_inputs.append(h_L)\n",
    "r = sp.symbols(r\"r\")\n",
    "alg_inputs.append(r)\n",
    "I_M = sp.symbols(r\"I_M\")\n",
    "alg_inputs.append(I_M)"
   ]
  },
  {
   "cell_type": "code",
   "execution_count": null,
   "id": "smart-component",
   "metadata": {},
   "outputs": [],
   "source": [
    "# Friction coefficients\n",
    "mu = sp.symbols(r\"\\mu\")\n",
    "alg_inputs.append(mu)\n",
    "mu_S = sp.symbols(r\"\\mu_{S}\")\n",
    "alg_inputs.append(mu_S)\n",
    "\n",
    "# System gains\n",
    "b_J = sp.symbols(r\"b_J\")\n",
    "alg_inputs.append(b_J)\n",
    "k_J = sp.symbols(r\"k_J\")\n",
    "alg_inputs.append(k_J)"
   ]
  },
  {
   "cell_type": "code",
   "execution_count": null,
   "id": "collectible-history",
   "metadata": {},
   "outputs": [],
   "source": [
    "# Positions\n",
    "p_CN = sp.symbols(r\"p_{CN}\")\n",
    "alg_inputs.append(p_CN)\n",
    "p_CT = sp.symbols(r\"p_{CT}\")\n",
    "alg_inputs.append(p_CT)\n",
    "p_MN = sp.symbols(r\"p_{MN}\")\n",
    "alg_inputs.append(p_MN)\n",
    "p_LN = sp.symbols(r\"p_{LN}\")\n",
    "alg_inputs.append(p_LN)\n",
    "p_LT = sp.symbols(r\"p_{LT}\")\n",
    "alg_inputs.append(p_LT)\n",
    "theta_L = sp.symbols(r\"\\theta_L\")\n",
    "alg_inputs.append(theta_L)\n",
    "d_T = sp.symbols(r\"d_T\")\n",
    "alg_inputs.append(d_T)\n",
    "d_N = sp.symbols(r\"d_N\")\n",
    "alg_inputs.append(d_N)\n",
    "\n",
    "# Velocities\n",
    "v_MN = sp.symbols(r\"v_{MN}\")\n",
    "alg_inputs.append(v_MN)\n",
    "v_MT = sp.symbols(r\"v_{MT}\")\n",
    "alg_inputs.append(v_MT)\n",
    "v_LN = sp.symbols(r\"v_{LN}\")\n",
    "alg_inputs.append(v_LN)\n",
    "v_LT = sp.symbols(r\"v_{LT}\")\n",
    "alg_inputs.append(v_LT)\n",
    "d_theta_L = sp.symbols(r\"\\dot\\theta_L\")\n",
    "alg_inputs.append(d_theta_L)\n",
    "d_theta_M = sp.symbols(r\"\\dot\\theta_M\")\n",
    "alg_inputs.append(d_theta_M)\n",
    "d_d_T = sp.symbols(r\"\\dot{d}_T\")\n",
    "alg_inputs.append(d_d_T)\n",
    "d_d_N = sp.symbols(r\"\\dot{d}_N\")\n",
    "alg_inputs.append(d_d_N)"
   ]
  },
  {
   "cell_type": "code",
   "execution_count": null,
   "id": "plain-virus",
   "metadata": {},
   "outputs": [],
   "source": [
    "# Input forces\n",
    "F_GT = sp.symbols(r\"F_{GT}\")\n",
    "alg_inputs.append(F_GT)\n",
    "F_GN = sp.symbols(r\"F_{GN}\")\n",
    "alg_inputs.append(F_GN)\n",
    "F_OT, F_ON, tau_O = sp.symbols(r\"F_{OT}, F_{ON} \\tau_O\")\n",
    "alg_inputs.append(F_OT)\n",
    "alg_inputs.append(F_ON)\n",
    "alg_inputs.append(tau_O)\n",
    "\n",
    "# Control inputs\n",
    "dd_theta_Ld = sp.symbols(r\"\\ddot\\theta_{Ld}\")\n",
    "alg_inputs.append(dd_theta_Ld)\n",
    "dd_d_Nd = sp.symbols(r\"\\ddot{d}_{Nd}\")\n",
    "alg_inputs.append(dd_d_Nd)\n",
    "dd_d_Td = sp.symbols(r\"\\ddot{d}_{Td}\")\n",
    "alg_inputs.append(dd_d_Td)\n",
    "dd_theta_Md = sp.symbols(r\"\\ddot\\theta_{Md}\")\n",
    "alg_inputs.append(dd_theta_Md)\n",
    "\n",
    "outputs = [\n",
    "    a_LT, a_LN, a_MT, a_MN, dd_theta_L, dd_theta_M, F_NM, F_FL, F_FM, dd_d_N, dd_d_T, F_NL, F_CN, F_CT, tau_M\n",
    "] = sp.symbols(\n",
    "    r\"a_{LT} a_{LN} a_{MT} a_{MN} \\ddot\\theta_L \\ddot\\theta_M  F_{NM} F_{FL} F_{FM} \\ddot{d}_N \\ddot{d}_T F_{NL} F_{CN}, F_{CT} \\tau_M\"\n",
    ")\n",
    "\n",
    "outputs = [\n",
    "    a_LT, a_LN, a_MT, a_MN, dd_theta_L, dd_theta_M, F_NM, F_FL, F_FM, dd_d_N, dd_d_T, F_NL, F_CN, F_CT, tau_M\n",
    "] = sp.symbols(\n",
    "    r\"a_{LT} a_{LN} a_{MT} a_{MN} \\ddot\\theta_L \\ddot\\theta_M  F_{NM} F_{FL} F_{FM} \\ddot{d}_N \\ddot{d}_T F_{NL} F_{CN}, F_{CT} \\tau_M\"\n",
    ")\n",
    "\n",
    "outputs = list(outputs)"
   ]
  },
  {
   "cell_type": "code",
   "execution_count": null,
   "id": "abstract-customer",
   "metadata": {},
   "outputs": [],
   "source": [
    "t = sp.symbols(\"t\")\n",
    "theta_L_func = sp.Function(r'\\theta_L')(t)\n",
    "N_hat = sp.Function(r'\\hat N')(theta_L_func)\n",
    "T_hat = sp.Function(r'\\hat T')(theta_L_func)\n",
    "\n",
    "d_T_func = sp.Function(r\"d_T\")(t)\n",
    "d_N_func = sp.Function(r\"d_N\")(t)\n",
    "d_g = d_T_func*T_hat + d_N_func*N_hat\n",
    "\n",
    "d_vel_g = sp.diff(d_g, t)\n",
    "\n",
    "d_vel_g = d_vel_g.subs(sp.diff(N_hat, t), -\n",
    "                       sp.diff(theta_L_func, t)*T_hat)\n",
    "d_vel_g = d_vel_g.subs(\n",
    "    sp.diff(T_hat, t), sp.diff(theta_L_func, t)*N_hat)\n",
    "\n",
    "d_acc_g = sp.diff(d_vel_g, t)\n",
    "d_acc_g = d_acc_g.subs(sp.diff(N_hat, t), -\n",
    "                       sp.diff(theta_L_func, t)*T_hat)\n",
    "d_acc_g = d_acc_g.subs(\n",
    "    sp.diff(T_hat, t), sp.diff(theta_L_func, t)*N_hat)\n",
    "\n",
    "d_acc_cos_g = d_acc_g\n",
    "d_acc_cos_g = d_acc_cos_g.subs(sp.diff(theta_L_func, t, t), dd_theta_L)\n",
    "d_acc_cos_g = d_acc_cos_g.subs(sp.diff(d_T_func, t, t), dd_d_T)\n",
    "d_acc_cos_g = d_acc_cos_g.subs(sp.diff(d_N_func, t, t), dd_d_N)\n",
    "d_acc_cos_g = d_acc_cos_g.subs(sp.diff(theta_L_func, t), d_theta_L)\n",
    "d_acc_cos_g = d_acc_cos_g.subs(sp.diff(d_T_func, t), d_d_T)\n",
    "d_acc_cos_g = d_acc_cos_g.subs(sp.diff(d_N_func, t), d_d_N)\n",
    "d_acc_cos_g = d_acc_cos_g.subs(d_T_func, d_T)\n",
    "d_acc_cos_g = d_acc_cos_g.subs(d_N_func, d_N)"
   ]
  },
  {
   "cell_type": "code",
   "execution_count": null,
   "id": "green-honor",
   "metadata": {},
   "outputs": [],
   "source": [
    "dd_d_g_T = d_acc_cos_g.subs(N_hat, 0).subs(T_hat, 1)\n",
    "dd_d_g_T"
   ]
  },
  {
   "cell_type": "code",
   "execution_count": null,
   "id": "tutorial-overview",
   "metadata": {},
   "outputs": [],
   "source": [
    "dd_d_g_N = d_acc_cos_g.subs(T_hat, 0).subs(N_hat, 1)\n",
    "dd_d_g_N"
   ]
  },
  {
   "cell_type": "code",
   "execution_count": null,
   "id": "foster-berry",
   "metadata": {},
   "outputs": [],
   "source": [
    "p_M_func = sp.Function(r\"p_M\")(t)\n",
    "p_L_func = sp.Function(r\"p_L\")(t)\n",
    "v_M = sp.symbols(r\"v_M\")\n",
    "v_L = sp.symbols(r\"v_L\")\n",
    "d_s = (p_M_func + r*N_hat) - (p_L_func + (w_L/2)*T_hat - (h_L/2)*N_hat)\n",
    "\n",
    "d_vel_s = sp.diff(d_s, t)\n",
    "d_vel_s = d_vel_s.subs(sp.diff(N_hat, t), -\n",
    "                       sp.diff(theta_L_func, t)*T_hat)\n",
    "d_vel_s = d_vel_s.subs(\n",
    "    sp.diff(T_hat, t), sp.diff(theta_L_func, t)*N_hat)\n",
    "\n",
    "d_acc_s = sp.diff(d_vel_s, t)\n",
    "d_acc_s = d_acc_s.subs(sp.diff(N_hat, t), -\n",
    "                       sp.diff(theta_L_func, t)*T_hat)\n",
    "d_acc_s = d_acc_s.subs(\n",
    "    sp.diff(T_hat, t), sp.diff(theta_L_func, t)*N_hat)\n",
    "\n",
    "d_acc_cos_s = d_acc_s\n",
    "d_acc_cos_s = d_acc_cos_s.subs(sp.diff(theta_L_func, t, t), dd_theta_L)\n",
    "d_acc_cos_s = d_acc_cos_s.subs(sp.diff(d_T_func, t, t), dd_d_T)\n",
    "d_acc_cos_s = d_acc_cos_s.subs(sp.diff(d_N_func, t, t), dd_d_N)\n",
    "d_acc_cos_s = d_acc_cos_s.subs(sp.diff(theta_L_func, t), d_theta_L)\n",
    "d_acc_cos_s = d_acc_cos_s.subs(sp.diff(d_T_func, t), d_d_T)\n",
    "d_acc_cos_s = d_acc_cos_s.subs(sp.diff(d_N_func, t), d_d_N)\n",
    "d_acc_cos_s = d_acc_cos_s.subs(d_T_func, d_T)\n",
    "d_acc_cos_s = d_acc_cos_s.subs(d_N_func, d_N)"
   ]
  },
  {
   "cell_type": "code",
   "execution_count": null,
   "id": "opponent-scholarship",
   "metadata": {},
   "outputs": [],
   "source": [
    "dd_d_s_T = d_acc_cos_s.subs(N_hat, 0).subs(T_hat, 1)\n",
    "dd_d_s_T = dd_d_s_T.subs(sp.diff(p_M_func, t, t), a_MT)\n",
    "dd_d_s_T = dd_d_s_T.subs(sp.diff(p_L_func, t, t), a_LT)\n",
    "dd_d_s_T"
   ]
  },
  {
   "cell_type": "code",
   "execution_count": null,
   "id": "social-fitness",
   "metadata": {},
   "outputs": [],
   "source": [
    "dd_d_s_T.subs(sp.diff(p_M_func, t, t), a_MT)"
   ]
  },
  {
   "cell_type": "code",
   "execution_count": null,
   "id": "frequent-notification",
   "metadata": {},
   "outputs": [],
   "source": [
    "dd_d_s_N = d_acc_cos_s.subs(T_hat, 0).subs(N_hat, 1)\n",
    "dd_d_s_N = dd_d_s_N.subs(sp.diff(p_M_func, t, t), a_MN)\n",
    "dd_d_s_N = dd_d_s_N.subs(sp.diff(p_L_func, t, t), a_LN)\n",
    "dd_d_s_N"
   ]
  },
  {
   "cell_type": "code",
   "execution_count": null,
   "id": "chemical-operator",
   "metadata": {},
   "outputs": [],
   "source": [
    "nat_eqs = [\n",
    "    # Link tangential force balance\n",
    "    [m_L*a_LT, F_FL+F_GT+F_OT],\n",
    "    # Link normal force balance\n",
    "    [m_L*a_LN, F_NL + F_GN + F_ON, ],\n",
    "    # Manipulator tangential force balance\n",
    "    [m_M*a_MT, F_FM + F_CT, ],\n",
    "    # Manipulator normal force balance\n",
    "    [m_M*a_MN, F_NM+F_CN, ],\n",
    "    # Link moment balance\n",
    "    [I_L*dd_theta_L, (-w_L/2)*F_ON - (p_CN-p_LN) * \\\n",
    "     F_FL + (p_CT-p_LT)*F_NL + tau_O, ],\n",
    "    # Manipulator moment balance\n",
    "    [I_M*dd_theta_M, tau_M-F_FM*(p_CN-p_MN), ],\n",
    "    # 3rd law normal forces\n",
    "    [F_NL, -F_NM],\n",
    "    # Friction relationship L\n",
    "    [F_FL, mu*mu_S*F_NL],\n",
    "    # Friction relationship M\n",
    "    [F_FM, -F_FL],\n",
    "    # d_T derivative is derivative\n",
    "    [dd_d_s_T, dd_d_g_T],\n",
    "    # d_N derivative is derivative\n",
    "    [dd_d_s_N, dd_d_g_N],\n",
    "]\n",
    "\n",
    "art_eqs = [\n",
    "    [dd_d_N, dd_d_Nd],\n",
    "    [dd_d_T, dd_d_Td],\n",
    "    [dd_theta_L, dd_theta_Ld],\n",
    "    [dd_theta_M, dd_theta_Md],\n",
    "]\n",
    "\n",
    "env_eqs = nat_eqs# + art_eqs"
   ]
  },
  {
   "cell_type": "code",
   "execution_count": null,
   "id": "complete-appeal",
   "metadata": {},
   "outputs": [],
   "source": [
    "out_str = r\"\\begin{aligned}\"\n",
    "for eq in env_eqs:\n",
    "    out_str += sp.latex(eq[0]) + r\" &= \" + sp.latex(eq[1]) + r\" \\\\\" + \"\\n\"\n",
    "out_str += \"\\end{aligned}\"\n",
    "display(Math(out_str))"
   ]
  },
  {
   "cell_type": "code",
   "execution_count": null,
   "id": "square-toilet",
   "metadata": {},
   "outputs": [],
   "source": [
    "sp.latex(nat_eqs[0][0])"
   ]
  },
  {
   "cell_type": "code",
   "execution_count": null,
   "id": "harmful-employee",
   "metadata": {},
   "outputs": [],
   "source": [
    "A = []\n",
    "b = []\n",
    "for lhs, rhs in env_eqs:\n",
    "    A_row = []\n",
    "    b_term = rhs - lhs\n",
    "    for output_term in outputs:\n",
    "        try:\n",
    "            coeff_L = lhs.coeff(output_term)\n",
    "        except AttributeError:\n",
    "            coeff_L = 0\n",
    "        try:\n",
    "            coeff_R = rhs.coeff(output_term)\n",
    "        except AttributeError:\n",
    "            coeff_R = 0\n",
    "        coeff = coeff_L - coeff_R\n",
    "        A_row.append(coeff)\n",
    "        b_term += coeff * output_term\n",
    "    A.append(A_row)\n",
    "    b.append(b_term)\n",
    "A = sp.SparseMatrix(A)\n",
    "A.simplify()\n",
    "b = sp.Matrix([b]).T\n",
    "b.simplify()\n",
    "x = sp.Matrix([outputs]).T\n",
    "x.simplify()"
   ]
  },
  {
   "cell_type": "code",
   "execution_count": null,
   "id": "external-cabin",
   "metadata": {},
   "outputs": [],
   "source": [
    "A"
   ]
  },
  {
   "cell_type": "code",
   "execution_count": null,
   "id": "elect-campus",
   "metadata": {},
   "outputs": [],
   "source": [
    "x"
   ]
  },
  {
   "cell_type": "code",
   "execution_count": null,
   "id": "liked-outdoors",
   "metadata": {},
   "outputs": [],
   "source": [
    "# A_p = A.pinv()"
   ]
  },
  {
   "cell_type": "code",
   "execution_count": null,
   "id": "altered-google",
   "metadata": {},
   "outputs": [],
   "source": [
    "# A_aug = A.row_join(b)\n",
    "# results = A_aug.rref()[0]\n",
    "# A_prime = results[:, :-1]\n",
    "# b_prime = results[:, -1]\n",
    "\n",
    "# assert A_prime == sp.eye(A_prime.shape[0])\n",
    "\n",
    "# F_CN_idx = list(x).index(F_CN)\n",
    "# F_CN_exp = b_prime[F_CN_idx]\n",
    "# F_CT_idx = list(x).index(F_CT)\n",
    "# F_CT_exp = b_prime[F_CT_idx]\n",
    "# tau_M_idx = list(x).index(tau_M)\n",
    "# tau_M_exp = b_prime[tau_M_idx]\n",
    "\n",
    "# get_F_CN = lambdify([alg_inputs], F_CN_exp)\n",
    "# get_F_CT = lambdify([alg_inputs], F_CT_exp)\n",
    "# get_tau_M = lambdify([alg_inputs], tau_M_exp)\n",
    "\n",
    "# tau_M_idx = list(x).index(tau_M)\n",
    "# tau_M_exp = b_prime[tau_M_idx]"
   ]
  },
  {
   "cell_type": "code",
   "execution_count": null,
   "id": "suspended-liability",
   "metadata": {},
   "outputs": [],
   "source": [
    "A@x"
   ]
  },
  {
   "cell_type": "code",
   "execution_count": null,
   "id": "powerful-gibraltar",
   "metadata": {},
   "outputs": [],
   "source": [
    "x_old = x\n",
    "k = b"
   ]
  },
  {
   "cell_type": "code",
   "execution_count": null,
   "id": "fantastic-startup",
   "metadata": {},
   "outputs": [],
   "source": [
    "A_old = A"
   ]
  },
  {
   "cell_type": "code",
   "execution_count": null,
   "id": "lovely-pontiac",
   "metadata": {},
   "outputs": [],
   "source": [
    "A_old"
   ]
  },
  {
   "cell_type": "code",
   "execution_count": null,
   "id": "boring-shannon",
   "metadata": {},
   "outputs": [],
   "source": [
    "x_old"
   ]
  },
  {
   "cell_type": "code",
   "execution_count": null,
   "id": "central-choir",
   "metadata": {},
   "outputs": [],
   "source": [
    "x = sp.Matrix(x_old[:4] + x_old[6:9] + [x_old[11]])\n",
    "A = A_old[:,:4].row_join(A_old[:,6:9]).row_join(A_old[:,11])\n",
    "\n",
    "I_mu = sp.zeros(A.shape[0], A.shape[1])\n",
    "for i in range(A.shape[0]):\n",
    "    for j in range(A.shape[1]):\n",
    "        I_mu[i,j] = mu*(A[i,j].coeff(mu))\n",
    "A -= I_mu"
   ]
  },
  {
   "cell_type": "code",
   "execution_count": null,
   "id": "nonprofit-replacement",
   "metadata": {},
   "outputs": [],
   "source": [
    "A"
   ]
  },
  {
   "cell_type": "code",
   "execution_count": null,
   "id": "hazardous-threshold",
   "metadata": {},
   "outputs": [],
   "source": [
    "u = sp.Matrix(x_old[-3:])\n",
    "B = A_old[:,-3:]\n",
    "B"
   ]
  },
  {
   "cell_type": "code",
   "execution_count": null,
   "id": "chief-insurance",
   "metadata": {},
   "outputs": [],
   "source": [
    "y_ddot = sp.Matrix(x_old[4:6]  + x_old[9:11])\n",
    "C = A_old[:,4:6].row_join(A_old[:,9:11])\n",
    "C"
   ]
  },
  {
   "cell_type": "code",
   "execution_count": null,
   "id": "swiss-workplace",
   "metadata": {},
   "outputs": [],
   "source": [
    "CC_i = ((C.T)@C).inv()"
   ]
  },
  {
   "cell_type": "code",
   "execution_count": null,
   "id": "brave-operations",
   "metadata": {},
   "outputs": [],
   "source": [
    "C_left_inverse = CC_i@(C.T)"
   ]
  },
  {
   "cell_type": "code",
   "execution_count": null,
   "id": "seeing-graph",
   "metadata": {},
   "outputs": [],
   "source": [
    "C.T@A"
   ]
  },
  {
   "cell_type": "code",
   "execution_count": null,
   "id": "brief-terror",
   "metadata": {},
   "outputs": [],
   "source": [
    "C.T"
   ]
  },
  {
   "cell_type": "code",
   "execution_count": null,
   "id": "usual-postage",
   "metadata": {},
   "outputs": [],
   "source": [
    "func = lambdify([list(C_left_inverse.free_symbols)], C_left_inverse)"
   ]
  },
  {
   "cell_type": "code",
   "execution_count": null,
   "id": "psychological-broadcast",
   "metadata": {},
   "outputs": [],
   "source": [
    "func([1, 2, 3, 4, 5, 5, 7])"
   ]
  },
  {
   "cell_type": "code",
   "execution_count": null,
   "id": "outer-position",
   "metadata": {},
   "outputs": [],
   "source": [
    "-A@x-B@u+k"
   ]
  },
  {
   "cell_type": "code",
   "execution_count": null,
   "id": "unlimited-layer",
   "metadata": {},
   "outputs": [],
   "source": [
    "-A_old@x_old+b"
   ]
  },
  {
   "cell_type": "code",
   "execution_count": null,
   "id": "vertical-orlando",
   "metadata": {},
   "outputs": [],
   "source": [
    "-A_old@x_old+b-(-A@x-B@u+k)"
   ]
  },
  {
   "cell_type": "code",
   "execution_count": null,
   "id": "united-devil",
   "metadata": {},
   "outputs": [],
   "source": [
    "vec = (C.T@(-A@x-B@u+k))\n",
    "vec.simplify()\n",
    "vec"
   ]
  },
  {
   "cell_type": "code",
   "execution_count": null,
   "id": "mental-springfield",
   "metadata": {},
   "outputs": [],
   "source": [
    "out_str = r\"\\begin{align}\"\n",
    "for eq in env_eqs:\n",
    "    out_str += sp.latex(eq[0]) + r\" &= \" + sp.latex(eq[1]) + r\" \\\\\" + \"\\n\"\n",
    "out_str += \"\\end{align}\"\n",
    "display(Math(out_str))"
   ]
  },
  {
   "cell_type": "code",
   "execution_count": null,
   "id": "induced-building",
   "metadata": {},
   "outputs": [],
   "source": [
    "C.T@B"
   ]
  },
  {
   "cell_type": "code",
   "execution_count": null,
   "id": "objective-cancellation",
   "metadata": {},
   "outputs": [],
   "source": [
    "v = sp.zeros(11, 1)\n",
    "v[0] = 1\n",
    "v[1] = 2\n",
    "v[2] = 3\n",
    "v[3] = 4\n",
    "v"
   ]
  },
  {
   "cell_type": "code",
   "execution_count": null,
   "id": "turned-soccer",
   "metadata": {},
   "outputs": [],
   "source": [
    "C.T@(-A@x-A_mu@x -B@u+k)"
   ]
  },
  {
   "cell_type": "code",
   "execution_count": null,
   "id": "stupid-modeling",
   "metadata": {},
   "outputs": [],
   "source": [
    "B"
   ]
  },
  {
   "cell_type": "markdown",
   "id": "tough-stake",
   "metadata": {},
   "source": [
    "# Sympy 4"
   ]
  },
  {
   "cell_type": "code",
   "execution_count": null,
   "id": "selected-barcelona",
   "metadata": {},
   "outputs": [],
   "source": [
    "import sympy as sp\n",
    "import numpy as np\n",
    "from IPython.display import display, Math, Latex\n",
    "from sympy.utilities.lambdify import lambdify"
   ]
  },
  {
   "cell_type": "code",
   "execution_count": null,
   "id": "powerful-spectrum",
   "metadata": {},
   "outputs": [],
   "source": [
    "alg_inputs = []\n",
    "\n",
    "# PROGRAMMING: Do this with Drake instead?\n",
    "# PROGRAMMING: Can I get some of these lists from sympy?\n",
    "# Physical and geometric quantities\n",
    "m_L = sp.symbols(r\"m_L\")\n",
    "alg_inputs.append(m_L)\n",
    "m_M = sp.symbols(r\"m_M\")\n",
    "alg_inputs.append(m_M)\n",
    "w_L = sp.symbols(r\"w_L\")\n",
    "alg_inputs.append(w_L)\n",
    "I_L = sp.symbols(r\"I_L\")\n",
    "alg_inputs.append(I_L)\n",
    "h_L = sp.symbols(r\"h_L\")\n",
    "alg_inputs.append(h_L)\n",
    "r = sp.symbols(r\"r\")\n",
    "alg_inputs.append(r)\n",
    "I_M = sp.symbols(r\"I_M\")\n",
    "alg_inputs.append(I_M)"
   ]
  },
  {
   "cell_type": "code",
   "execution_count": null,
   "id": "western-alert",
   "metadata": {},
   "outputs": [],
   "source": [
    "# Friction coefficients\n",
    "mu = sp.symbols(r\"\\mu\")\n",
    "alg_inputs.append(mu)\n",
    "mu_S = sp.symbols(r\"\\mu_{S}\")\n",
    "alg_inputs.append(mu_S)\n",
    "\n",
    "# System gains\n",
    "b_J = sp.symbols(r\"b_J\")\n",
    "alg_inputs.append(b_J)\n",
    "k_J = sp.symbols(r\"k_J\")\n",
    "alg_inputs.append(k_J)"
   ]
  },
  {
   "cell_type": "code",
   "execution_count": null,
   "id": "brutal-value",
   "metadata": {},
   "outputs": [],
   "source": [
    "# Positions\n",
    "p_CN = sp.symbols(r\"p_{CN}\")\n",
    "alg_inputs.append(p_CN)\n",
    "p_CT = sp.symbols(r\"p_{CT}\")\n",
    "alg_inputs.append(p_CT)\n",
    "p_MN = sp.symbols(r\"p_{MN}\")\n",
    "alg_inputs.append(p_MN)\n",
    "p_LN = sp.symbols(r\"p_{LN}\")\n",
    "alg_inputs.append(p_LN)\n",
    "p_LT = sp.symbols(r\"p_{LT}\")\n",
    "alg_inputs.append(p_LT)\n",
    "theta_L = sp.symbols(r\"\\theta_L\")\n",
    "alg_inputs.append(theta_L)\n",
    "d_T = sp.symbols(r\"d_T\")\n",
    "alg_inputs.append(d_T)\n",
    "d_N = sp.symbols(r\"d_N\")\n",
    "alg_inputs.append(d_N)\n",
    "\n",
    "# Velocities\n",
    "v_MN = sp.symbols(r\"v_{MN}\")\n",
    "alg_inputs.append(v_MN)\n",
    "v_MT = sp.symbols(r\"v_{MT}\")\n",
    "alg_inputs.append(v_MT)\n",
    "v_LN = sp.symbols(r\"v_{LN}\")\n",
    "alg_inputs.append(v_LN)\n",
    "v_LT = sp.symbols(r\"v_{LT}\")\n",
    "alg_inputs.append(v_LT)\n",
    "d_theta_L = sp.symbols(r\"\\dot\\theta_L\")\n",
    "alg_inputs.append(d_theta_L)\n",
    "d_theta_M = sp.symbols(r\"\\dot\\theta_M\")\n",
    "alg_inputs.append(d_theta_M)\n",
    "d_d_T = sp.symbols(r\"\\dot{d}_T\")\n",
    "alg_inputs.append(d_d_T)\n",
    "d_d_N = sp.symbols(r\"\\dot{d}_N\")\n",
    "alg_inputs.append(d_d_N)"
   ]
  },
  {
   "cell_type": "code",
   "execution_count": null,
   "id": "narrative-battlefield",
   "metadata": {},
   "outputs": [],
   "source": [
    "# Input forces\n",
    "F_GT = sp.symbols(r\"F_{GT}\")\n",
    "alg_inputs.append(F_GT)\n",
    "F_GN = sp.symbols(r\"F_{GN}\")\n",
    "alg_inputs.append(F_GN)\n",
    "F_OT, F_ON, tau_O = sp.symbols(r\"F_{OT}, F_{ON} \\tau_O\")\n",
    "alg_inputs.append(F_OT)\n",
    "alg_inputs.append(F_ON)\n",
    "alg_inputs.append(tau_O)\n",
    "\n",
    "# Control inputs\n",
    "dd_theta_Ld = sp.symbols(r\"\\ddot\\theta_{Ld}\")\n",
    "alg_inputs.append(dd_theta_Ld)\n",
    "dd_d_Nd = sp.symbols(r\"\\ddot{d}_{Nd}\")\n",
    "alg_inputs.append(dd_d_Nd)\n",
    "dd_d_Td = sp.symbols(r\"\\ddot{d}_{Td}\")\n",
    "alg_inputs.append(dd_d_Td)\n",
    "dd_theta_Md = sp.symbols(r\"\\ddot\\theta_{Md}\")\n",
    "alg_inputs.append(dd_theta_Md)\n",
    "\n",
    "outputs = [\n",
    "    a_LT, a_LN, a_MT, a_MN, dd_theta_L, dd_theta_M, F_NM, F_FL, F_FM, dd_d_N, dd_d_T, F_NL, F_CN, F_CT, tau_M\n",
    "] = sp.symbols(\n",
    "    r\"a_{LT} a_{LN} a_{MT} a_{MN} \\ddot\\theta_L \\ddot\\theta_M  F_{NM} F_{FL} F_{FM} \\ddot{d}_N \\ddot{d}_T F_{NL} F_{CN}, F_{CT} \\tau_M\"\n",
    ")\n",
    "\n",
    "outputs = [\n",
    "    a_LT, a_LN, a_MT, a_MN, dd_theta_L, dd_theta_M, F_NM, F_FL, F_FM, dd_d_N, dd_d_T, F_NL, F_CN, F_CT, tau_M\n",
    "] = sp.symbols(\n",
    "    r\"a_{LT} a_{LN} a_{MT} a_{MN} \\ddot\\theta_L \\ddot\\theta_M  F_{NM} F_{FL} F_{FM} \\ddot{d}_N \\ddot{d}_T F_{NL} F_{CN}, F_{CT} \\tau_M\"\n",
    ")\n",
    "\n",
    "outputs = list(outputs)"
   ]
  },
  {
   "cell_type": "code",
   "execution_count": null,
   "id": "similar-norway",
   "metadata": {},
   "outputs": [],
   "source": [
    "t = sp.symbols(\"t\")\n",
    "theta_L_func = sp.Function(r'\\theta_L')(t)\n",
    "N_hat = sp.Function(r'\\hat N')(theta_L_func)\n",
    "T_hat = sp.Function(r'\\hat T')(theta_L_func)\n",
    "\n",
    "d_T_func = sp.Function(r\"d_T\")(t)\n",
    "d_N_func = sp.Function(r\"d_N\")(t)\n",
    "d_g = d_T_func*T_hat + d_N_func*N_hat\n",
    "\n",
    "d_vel_g = sp.diff(d_g, t)\n",
    "\n",
    "d_vel_g = d_vel_g.subs(sp.diff(N_hat, t), -\n",
    "                       sp.diff(theta_L_func, t)*T_hat)\n",
    "d_vel_g = d_vel_g.subs(\n",
    "    sp.diff(T_hat, t), sp.diff(theta_L_func, t)*N_hat)\n",
    "\n",
    "d_acc_g = sp.diff(d_vel_g, t)\n",
    "d_acc_g = d_acc_g.subs(sp.diff(N_hat, t), -\n",
    "                       sp.diff(theta_L_func, t)*T_hat)\n",
    "d_acc_g = d_acc_g.subs(\n",
    "    sp.diff(T_hat, t), sp.diff(theta_L_func, t)*N_hat)\n",
    "\n",
    "d_acc_cos_g = d_acc_g\n",
    "d_acc_cos_g = d_acc_cos_g.subs(sp.diff(theta_L_func, t, t), dd_theta_L)\n",
    "d_acc_cos_g = d_acc_cos_g.subs(sp.diff(d_T_func, t, t), dd_d_T)\n",
    "d_acc_cos_g = d_acc_cos_g.subs(sp.diff(d_N_func, t, t), dd_d_N)\n",
    "d_acc_cos_g = d_acc_cos_g.subs(sp.diff(theta_L_func, t), d_theta_L)\n",
    "d_acc_cos_g = d_acc_cos_g.subs(sp.diff(d_T_func, t), d_d_T)\n",
    "d_acc_cos_g = d_acc_cos_g.subs(sp.diff(d_N_func, t), d_d_N)\n",
    "d_acc_cos_g = d_acc_cos_g.subs(d_T_func, d_T)\n",
    "d_acc_cos_g = d_acc_cos_g.subs(d_N_func, d_N)"
   ]
  },
  {
   "cell_type": "code",
   "execution_count": null,
   "id": "greater-cache",
   "metadata": {},
   "outputs": [],
   "source": [
    "dd_d_g_T = d_acc_cos_g.subs(N_hat, 0).subs(T_hat, 1)\n",
    "dd_d_g_T"
   ]
  },
  {
   "cell_type": "code",
   "execution_count": null,
   "id": "shaped-marker",
   "metadata": {},
   "outputs": [],
   "source": [
    "dd_d_g_N = d_acc_cos_g.subs(T_hat, 0).subs(N_hat, 1)\n",
    "dd_d_g_N"
   ]
  },
  {
   "cell_type": "code",
   "execution_count": null,
   "id": "thrown-contest",
   "metadata": {},
   "outputs": [],
   "source": [
    "p_M_func = sp.Function(r\"p_M\")(t)\n",
    "p_L_func = sp.Function(r\"p_L\")(t)\n",
    "v_M = sp.symbols(r\"v_M\")\n",
    "v_L = sp.symbols(r\"v_L\")\n",
    "d_s = (p_M_func + r*N_hat) - (p_L_func + (w_L/2)*T_hat - (h_L/2)*N_hat)\n",
    "\n",
    "d_vel_s = sp.diff(d_s, t)\n",
    "d_vel_s = d_vel_s.subs(sp.diff(N_hat, t), -\n",
    "                       sp.diff(theta_L_func, t)*T_hat)\n",
    "d_vel_s = d_vel_s.subs(\n",
    "    sp.diff(T_hat, t), sp.diff(theta_L_func, t)*N_hat)\n",
    "\n",
    "d_acc_s = sp.diff(d_vel_s, t)\n",
    "d_acc_s = d_acc_s.subs(sp.diff(N_hat, t), -\n",
    "                       sp.diff(theta_L_func, t)*T_hat)\n",
    "d_acc_s = d_acc_s.subs(\n",
    "    sp.diff(T_hat, t), sp.diff(theta_L_func, t)*N_hat)\n",
    "\n",
    "d_acc_cos_s = d_acc_s\n",
    "d_acc_cos_s = d_acc_cos_s.subs(sp.diff(theta_L_func, t, t), dd_theta_L)\n",
    "d_acc_cos_s = d_acc_cos_s.subs(sp.diff(d_T_func, t, t), dd_d_T)\n",
    "d_acc_cos_s = d_acc_cos_s.subs(sp.diff(d_N_func, t, t), dd_d_N)\n",
    "d_acc_cos_s = d_acc_cos_s.subs(sp.diff(theta_L_func, t), d_theta_L)\n",
    "d_acc_cos_s = d_acc_cos_s.subs(sp.diff(d_T_func, t), d_d_T)\n",
    "d_acc_cos_s = d_acc_cos_s.subs(sp.diff(d_N_func, t), d_d_N)\n",
    "d_acc_cos_s = d_acc_cos_s.subs(d_T_func, d_T)\n",
    "d_acc_cos_s = d_acc_cos_s.subs(d_N_func, d_N)"
   ]
  },
  {
   "cell_type": "code",
   "execution_count": null,
   "id": "agricultural-edward",
   "metadata": {},
   "outputs": [],
   "source": [
    "dd_d_s_T = d_acc_cos_s.subs(N_hat, 0).subs(T_hat, 1)\n",
    "dd_d_s_T = dd_d_s_T.subs(sp.diff(p_M_func, t, t), a_MT)\n",
    "dd_d_s_T = dd_d_s_T.subs(sp.diff(p_L_func, t, t), a_LT)\n",
    "dd_d_s_T"
   ]
  },
  {
   "cell_type": "code",
   "execution_count": null,
   "id": "corresponding-excellence",
   "metadata": {},
   "outputs": [],
   "source": [
    "dd_d_s_T.subs(sp.diff(p_M_func, t, t), a_MT)"
   ]
  },
  {
   "cell_type": "code",
   "execution_count": null,
   "id": "secondary-assumption",
   "metadata": {},
   "outputs": [],
   "source": [
    "dd_d_s_N = d_acc_cos_s.subs(T_hat, 0).subs(N_hat, 1)\n",
    "dd_d_s_N = dd_d_s_N.subs(sp.diff(p_M_func, t, t), a_MN)\n",
    "dd_d_s_N = dd_d_s_N.subs(sp.diff(p_L_func, t, t), a_LN)\n",
    "dd_d_s_N"
   ]
  },
  {
   "cell_type": "code",
   "execution_count": null,
   "id": "protecting-shore",
   "metadata": {},
   "outputs": [],
   "source": [
    "nat_eqs = [\n",
    "    # Link tangential force balance\n",
    "    [m_L*a_LT, F_FL+F_GT+F_OT],\n",
    "    # Link normal force balance\n",
    "    [m_L*a_LN, F_NL + F_GN + F_ON, ],\n",
    "    # Manipulator tangential force balance\n",
    "    [m_M*a_MT, F_FM + F_CT, ],\n",
    "    # Manipulator normal force balance\n",
    "    [m_M*a_MN, F_NM+F_CN, ],\n",
    "    # Link moment balance\n",
    "    [I_L*dd_theta_L, (-w_L/2)*F_ON - (p_CN-p_LN) * \\\n",
    "     F_FL + (p_CT-p_LT)*F_NL + tau_O, ],\n",
    "    # Manipulator moment balance\n",
    "    [I_M*dd_theta_M, tau_M-F_FM*(p_CN-p_MN), ],\n",
    "    # 3rd law normal forces\n",
    "    [F_NL, -F_NM],\n",
    "    # Friction relationship L\n",
    "    [F_FL, mu*mu_S*F_NL],\n",
    "    # Friction relationship M\n",
    "    [F_FM, -F_FL],\n",
    "    # d_T derivative is derivative\n",
    "    [dd_d_s_T, dd_d_g_T],\n",
    "    # d_N derivative is derivative\n",
    "    [dd_d_s_N, dd_d_g_N],\n",
    "]\n",
    "\n",
    "art_eqs = [\n",
    "    [dd_d_N, dd_d_Nd],\n",
    "    [dd_d_T, dd_d_Td],\n",
    "    [dd_theta_L, dd_theta_Ld],\n",
    "    [dd_theta_M, dd_theta_Md],\n",
    "]\n",
    "\n",
    "env_eqs = nat_eqs# + art_eqs"
   ]
  },
  {
   "cell_type": "code",
   "execution_count": null,
   "id": "adverse-induction",
   "metadata": {},
   "outputs": [],
   "source": [
    "out_str = r\"\\begin{aligned}\"\n",
    "for eq in env_eqs:\n",
    "    out_str += sp.latex(eq[0]) + r\" &= \" + sp.latex(eq[1]) + r\" \\\\\" + \"\\n\"\n",
    "out_str += \"\\end{aligned}\"\n",
    "display(Math(out_str))"
   ]
  },
  {
   "cell_type": "code",
   "execution_count": null,
   "id": "laughing-tower",
   "metadata": {},
   "outputs": [],
   "source": [
    "sp.latex(nat_eqs[0][0])"
   ]
  },
  {
   "cell_type": "code",
   "execution_count": null,
   "id": "painful-finnish",
   "metadata": {},
   "outputs": [],
   "source": [
    "A = []\n",
    "b = []\n",
    "for lhs, rhs in env_eqs:\n",
    "    A_row = []\n",
    "    b_term = rhs - lhs\n",
    "    for output_term in outputs:\n",
    "        try:\n",
    "            coeff_L = lhs.coeff(output_term)\n",
    "        except AttributeError:\n",
    "            coeff_L = 0\n",
    "        try:\n",
    "            coeff_R = rhs.coeff(output_term)\n",
    "        except AttributeError:\n",
    "            coeff_R = 0\n",
    "        coeff = coeff_L - coeff_R\n",
    "        A_row.append(coeff)\n",
    "        b_term += coeff * output_term\n",
    "    A.append(A_row)\n",
    "    b.append(b_term)\n",
    "A = sp.SparseMatrix(A)\n",
    "A.simplify()\n",
    "b = sp.Matrix([b]).T\n",
    "b.simplify()\n",
    "x = sp.Matrix([outputs]).T\n",
    "x.simplify()"
   ]
  },
  {
   "cell_type": "code",
   "execution_count": null,
   "id": "senior-america",
   "metadata": {},
   "outputs": [],
   "source": [
    "A"
   ]
  },
  {
   "cell_type": "code",
   "execution_count": null,
   "id": "outer-brown",
   "metadata": {},
   "outputs": [],
   "source": [
    "x"
   ]
  },
  {
   "cell_type": "code",
   "execution_count": null,
   "id": "explicit-decrease",
   "metadata": {},
   "outputs": [],
   "source": [
    "# A_p = A.pinv()"
   ]
  },
  {
   "cell_type": "code",
   "execution_count": null,
   "id": "completed-tomato",
   "metadata": {},
   "outputs": [],
   "source": [
    "# A_aug = A.row_join(b)\n",
    "# results = A_aug.rref()[0]\n",
    "# A_prime = results[:, :-1]\n",
    "# b_prime = results[:, -1]\n",
    "\n",
    "# assert A_prime == sp.eye(A_prime.shape[0])\n",
    "\n",
    "# F_CN_idx = list(x).index(F_CN)\n",
    "# F_CN_exp = b_prime[F_CN_idx]\n",
    "# F_CT_idx = list(x).index(F_CT)\n",
    "# F_CT_exp = b_prime[F_CT_idx]\n",
    "# tau_M_idx = list(x).index(tau_M)\n",
    "# tau_M_exp = b_prime[tau_M_idx]\n",
    "\n",
    "# get_F_CN = lambdify([alg_inputs], F_CN_exp)\n",
    "# get_F_CT = lambdify([alg_inputs], F_CT_exp)\n",
    "# get_tau_M = lambdify([alg_inputs], tau_M_exp)\n",
    "\n",
    "# tau_M_idx = list(x).index(tau_M)\n",
    "# tau_M_exp = b_prime[tau_M_idx]"
   ]
  },
  {
   "cell_type": "code",
   "execution_count": null,
   "id": "capable-preference",
   "metadata": {},
   "outputs": [],
   "source": [
    "A@x"
   ]
  },
  {
   "cell_type": "code",
   "execution_count": null,
   "id": "invalid-composite",
   "metadata": {},
   "outputs": [],
   "source": [
    "x_old = x\n",
    "k = b"
   ]
  },
  {
   "cell_type": "code",
   "execution_count": null,
   "id": "growing-peter",
   "metadata": {},
   "outputs": [],
   "source": [
    "A_old = A"
   ]
  },
  {
   "cell_type": "code",
   "execution_count": null,
   "id": "dated-patrick",
   "metadata": {},
   "outputs": [],
   "source": [
    "A_old"
   ]
  },
  {
   "cell_type": "code",
   "execution_count": null,
   "id": "hired-performance",
   "metadata": {},
   "outputs": [],
   "source": [
    "x_old"
   ]
  },
  {
   "cell_type": "code",
   "execution_count": null,
   "id": "selective-hurricane",
   "metadata": {},
   "outputs": [],
   "source": [
    "x = sp.Matrix(x_old[:9] + [x_old[11]])\n",
    "A = A_old[:,:9].row_join(A_old[:,11])\n",
    "\n",
    "I_mu = sp.zeros(A.shape[0], A.shape[1])\n",
    "for i in range(A.shape[0]):\n",
    "    for j in range(A.shape[1]):\n",
    "        I_mu[i,j] = mu*(A[i,j].coeff(mu))\n",
    "A -= I_mu"
   ]
  },
  {
   "cell_type": "code",
   "execution_count": null,
   "id": "helpful-carroll",
   "metadata": {},
   "outputs": [],
   "source": [
    "x"
   ]
  },
  {
   "cell_type": "code",
   "execution_count": null,
   "id": "alpha-ability",
   "metadata": {},
   "outputs": [],
   "source": [
    "A"
   ]
  },
  {
   "cell_type": "code",
   "execution_count": null,
   "id": "productive-portsmouth",
   "metadata": {},
   "outputs": [],
   "source": [
    "u = sp.Matrix(x_old[-3:])\n",
    "B = A_old[:,-3:]\n",
    "u"
   ]
  },
  {
   "cell_type": "code",
   "execution_count": null,
   "id": "future-student",
   "metadata": {},
   "outputs": [],
   "source": [
    "B"
   ]
  },
  {
   "cell_type": "markdown",
   "id": "administrative-aggregate",
   "metadata": {},
   "source": []
  },
  {
   "cell_type": "code",
   "execution_count": null,
   "id": "global-peter",
   "metadata": {},
   "outputs": [],
   "source": [
    "y_ddot = sp.Matrix(x_old[9:11])\n",
    "C = A_old[:,9:11]\n",
    "C"
   ]
  },
  {
   "cell_type": "code",
   "execution_count": null,
   "id": "aging-satin",
   "metadata": {},
   "outputs": [],
   "source": [
    "C_np = np.zeros((11,2))\n",
    "C_np[9, 1] = -1\n",
    "C_np[10, 0] = -1\n",
    "C_np"
   ]
  },
  {
   "cell_type": "code",
   "execution_count": null,
   "id": "racial-joint",
   "metadata": {},
   "outputs": [],
   "source": [
    "C_np.T@C_np"
   ]
  },
  {
   "cell_type": "code",
   "execution_count": null,
   "id": "polish-medline",
   "metadata": {},
   "outputs": [],
   "source": [
    "y_ddot"
   ]
  },
  {
   "cell_type": "code",
   "execution_count": null,
   "id": "swiss-education",
   "metadata": {},
   "outputs": [],
   "source": [
    "C.T"
   ]
  },
  {
   "cell_type": "code",
   "execution_count": null,
   "id": "assured-evolution",
   "metadata": {},
   "outputs": [],
   "source": [
    "-A@x-B@u+k"
   ]
  },
  {
   "cell_type": "code",
   "execution_count": null,
   "id": "medical-suspension",
   "metadata": {},
   "outputs": [],
   "source": [
    "-A_old@x_old+b"
   ]
  },
  {
   "cell_type": "code",
   "execution_count": null,
   "id": "competitive-malawi",
   "metadata": {},
   "outputs": [],
   "source": [
    "-A_old@x_old+b-(-A@x-B@u+k)"
   ]
  },
  {
   "cell_type": "code",
   "execution_count": null,
   "id": "asian-medication",
   "metadata": {},
   "outputs": [],
   "source": [
    "vec = (C.T@(-A@x-B@u+k))\n",
    "vec.simplify()\n",
    "vec"
   ]
  },
  {
   "cell_type": "code",
   "execution_count": null,
   "id": "medieval-durham",
   "metadata": {},
   "outputs": [],
   "source": [
    "out_str = r\"\\begin{align}\"\n",
    "for eq in env_eqs:\n",
    "    out_str += sp.latex(eq[0]) + r\" &= \" + sp.latex(eq[1]) + r\" \\\\\" + \"\\n\"\n",
    "out_str += \"\\end{align}\"\n",
    "display(Math(out_str))"
   ]
  },
  {
   "cell_type": "code",
   "execution_count": null,
   "id": "hourly-michael",
   "metadata": {},
   "outputs": [],
   "source": [
    "C.T@B"
   ]
  },
  {
   "cell_type": "code",
   "execution_count": null,
   "id": "electric-agreement",
   "metadata": {},
   "outputs": [],
   "source": [
    "v = sp.zeros(11, 1)\n",
    "v[0] = 1\n",
    "v[1] = 2\n",
    "v[2] = 3\n",
    "v[3] = 4\n",
    "v"
   ]
  },
  {
   "cell_type": "code",
   "execution_count": null,
   "id": "violent-turtle",
   "metadata": {},
   "outputs": [],
   "source": [
    "C.T@(-A@x-A_mu@x -B@u+k)"
   ]
  },
  {
   "cell_type": "code",
   "execution_count": null,
   "id": "hungarian-vision",
   "metadata": {},
   "outputs": [],
   "source": [
    "B"
   ]
  },
  {
   "cell_type": "markdown",
   "id": "speaking-condition",
   "metadata": {},
   "source": [
    "# Sympy 5"
   ]
  },
  {
   "cell_type": "code",
   "execution_count": null,
   "id": "organizational-writer",
   "metadata": {},
   "outputs": [],
   "source": [
    "import sympy as sp\n",
    "import numpy as np\n",
    "from IPython.display import display, Math, Latex\n",
    "from sympy.utilities.lambdify import lambdify"
   ]
  },
  {
   "cell_type": "code",
   "execution_count": null,
   "id": "iraqi-granny",
   "metadata": {},
   "outputs": [],
   "source": [
    "alg_inputs = []\n",
    "\n",
    "# PROGRAMMING: Do this with Drake instead?\n",
    "# PROGRAMMING: Can I get some of these lists from sympy?\n",
    "# Physical and geometric quantities\n",
    "m_L = sp.symbols(r\"m_L\")\n",
    "alg_inputs.append(m_L)\n",
    "m_M = sp.symbols(r\"m_M\")\n",
    "alg_inputs.append(m_M)\n",
    "w_L = sp.symbols(r\"w_L\")\n",
    "alg_inputs.append(w_L)\n",
    "I_L = sp.symbols(r\"I_L\")\n",
    "alg_inputs.append(I_L)\n",
    "h_L = sp.symbols(r\"h_L\")\n",
    "alg_inputs.append(h_L)\n",
    "r = sp.symbols(r\"r\")\n",
    "alg_inputs.append(r)\n",
    "I_M = sp.symbols(r\"I_M\")\n",
    "alg_inputs.append(I_M)"
   ]
  },
  {
   "cell_type": "code",
   "execution_count": null,
   "id": "charitable-wisdom",
   "metadata": {},
   "outputs": [],
   "source": [
    "# Friction coefficients\n",
    "mu = sp.symbols(r\"\\mu\")\n",
    "alg_inputs.append(mu)\n",
    "mu_S = sp.symbols(r\"\\mu_{S}\")\n",
    "alg_inputs.append(mu_S)\n",
    "\n",
    "# System gains\n",
    "b_J = sp.symbols(r\"b_J\")\n",
    "alg_inputs.append(b_J)\n",
    "k_J = sp.symbols(r\"k_J\")\n",
    "alg_inputs.append(k_J)"
   ]
  },
  {
   "cell_type": "code",
   "execution_count": null,
   "id": "static-growing",
   "metadata": {},
   "outputs": [],
   "source": [
    "# Positions\n",
    "p_CN = sp.symbols(r\"p_{CN}\")\n",
    "alg_inputs.append(p_CN)\n",
    "p_CT = sp.symbols(r\"p_{CT}\")\n",
    "alg_inputs.append(p_CT)\n",
    "p_MN = sp.symbols(r\"p_{MN}\")\n",
    "alg_inputs.append(p_MN)\n",
    "p_LN = sp.symbols(r\"p_{LN}\")\n",
    "alg_inputs.append(p_LN)\n",
    "p_LT = sp.symbols(r\"p_{LT}\")\n",
    "alg_inputs.append(p_LT)\n",
    "theta_L = sp.symbols(r\"\\theta_L\")\n",
    "alg_inputs.append(theta_L)\n",
    "d_T = sp.symbols(r\"d_T\")\n",
    "alg_inputs.append(d_T)\n",
    "d_N = sp.symbols(r\"d_N\")\n",
    "alg_inputs.append(d_N)\n",
    "\n",
    "p_LCN = sp.symbols(r\"p_{LCN}\")\n",
    "p_LCT = sp.symbols(r\"p_{LCT}\")\n",
    "p_MCN = sp.symbols(r\"p_{MCN}\")\n",
    "p_MCT = sp.symbols(r\"p_{MCT}\")\n",
    "\n",
    "# Velocities\n",
    "v_MN = sp.symbols(r\"v_{MN}\")\n",
    "alg_inputs.append(v_MN)\n",
    "v_MT = sp.symbols(r\"v_{MT}\")\n",
    "alg_inputs.append(v_MT)\n",
    "v_LN = sp.symbols(r\"v_{LN}\")\n",
    "alg_inputs.append(v_LN)\n",
    "v_LT = sp.symbols(r\"v_{LT}\")\n",
    "alg_inputs.append(v_LT)\n",
    "d_theta_L = sp.symbols(r\"\\dot\\theta_L\")\n",
    "alg_inputs.append(d_theta_L)\n",
    "d_theta_M = sp.symbols(r\"\\dot\\theta_M\")\n",
    "alg_inputs.append(d_theta_M)\n",
    "d_d_T = sp.symbols(r\"\\dot{d}_T\")\n",
    "alg_inputs.append(d_d_T)\n",
    "d_d_N = sp.symbols(r\"\\dot{d}_N\")\n",
    "alg_inputs.append(d_d_N)"
   ]
  },
  {
   "cell_type": "code",
   "execution_count": null,
   "id": "corporate-direction",
   "metadata": {},
   "outputs": [],
   "source": [
    "# Input forces\n",
    "F_GT = sp.symbols(r\"F_{GT}\")\n",
    "alg_inputs.append(F_GT)\n",
    "F_GN = sp.symbols(r\"F_{GN}\")\n",
    "alg_inputs.append(F_GN)\n",
    "F_OT, F_ON, tau_O = sp.symbols(r\"F_{OT}, F_{ON} \\tau_O\")\n",
    "alg_inputs.append(F_OT)\n",
    "alg_inputs.append(F_ON)\n",
    "alg_inputs.append(tau_O)\n",
    "\n",
    "# Control inputs\n",
    "dd_theta_Ld = sp.symbols(r\"\\ddot\\theta_{Ld}\")\n",
    "alg_inputs.append(dd_theta_Ld)\n",
    "dd_d_Nd = sp.symbols(r\"\\ddot{d}_{Nd}\")\n",
    "alg_inputs.append(dd_d_Nd)\n",
    "dd_d_Td = sp.symbols(r\"\\ddot{d}_{Td}\")\n",
    "alg_inputs.append(dd_d_Td)\n",
    "dd_theta_Md = sp.symbols(r\"\\ddot\\theta_{Md}\")\n",
    "alg_inputs.append(dd_theta_Md)\n",
    "\n",
    "outputs = [\n",
    "    a_LT, a_LN, a_MT, a_MN, F_NM, F_FL, F_FM, F_NL, F_CN, F_CT, tau_M, dd_theta_L, dd_theta_M, dd_d_N, dd_d_T\n",
    "] = sp.symbols(\n",
    "    r\"a_{LT}, a_{LN}, a_{MT}, a_{MN}, F_{NM}, F_{FL}, F_{FM}, F_{NL}, F_{CN}, F_{CT}, \\tau_M, \\ddot\\theta_L, \\ddot\\theta_M, \\ddot{d}_N, \\ddot{d}_T\"\n",
    ")\n",
    "\n",
    "outputs = list(outputs)"
   ]
  },
  {
   "cell_type": "code",
   "execution_count": null,
   "id": "answering-delivery",
   "metadata": {},
   "outputs": [],
   "source": [
    "F_FL"
   ]
  },
  {
   "cell_type": "code",
   "execution_count": null,
   "id": "medieval-delhi",
   "metadata": {},
   "outputs": [],
   "source": [
    "t = sp.symbols(\"t\")\n",
    "theta_L_func = sp.Function(r'\\theta_L')(t)\n",
    "N_hat = sp.Function(r'\\hat N')(theta_L_func)\n",
    "T_hat = sp.Function(r'\\hat T')(theta_L_func)\n",
    "\n",
    "d_T_func = sp.Function(r\"d_T\")(t)\n",
    "d_N_func = sp.Function(r\"d_N\")(t)\n",
    "d_g = d_T_func*T_hat + d_N_func*N_hat\n",
    "\n",
    "d_vel_g = sp.diff(d_g, t)\n",
    "\n",
    "d_vel_g = d_vel_g.subs(sp.diff(N_hat, t), -\n",
    "                       sp.diff(theta_L_func, t)*T_hat)\n",
    "d_vel_g = d_vel_g.subs(\n",
    "    sp.diff(T_hat, t), sp.diff(theta_L_func, t)*N_hat)\n",
    "\n",
    "d_acc_g = sp.diff(d_vel_g, t)\n",
    "d_acc_g = d_acc_g.subs(sp.diff(N_hat, t), -\n",
    "                       sp.diff(theta_L_func, t)*T_hat)\n",
    "d_acc_g = d_acc_g.subs(\n",
    "    sp.diff(T_hat, t), sp.diff(theta_L_func, t)*N_hat)\n",
    "\n",
    "d_acc_cos_g = d_acc_g\n",
    "d_acc_cos_g = d_acc_cos_g.subs(sp.diff(theta_L_func, t, t), dd_theta_L)\n",
    "d_acc_cos_g = d_acc_cos_g.subs(sp.diff(d_T_func, t, t), dd_d_T)\n",
    "d_acc_cos_g = d_acc_cos_g.subs(sp.diff(d_N_func, t, t), dd_d_N)\n",
    "d_acc_cos_g = d_acc_cos_g.subs(sp.diff(theta_L_func, t), d_theta_L)\n",
    "d_acc_cos_g = d_acc_cos_g.subs(sp.diff(d_T_func, t), d_d_T)\n",
    "d_acc_cos_g = d_acc_cos_g.subs(sp.diff(d_N_func, t), d_d_N)\n",
    "d_acc_cos_g = d_acc_cos_g.subs(d_T_func, d_T)\n",
    "d_acc_cos_g = d_acc_cos_g.subs(d_N_func, d_N)"
   ]
  },
  {
   "cell_type": "code",
   "execution_count": null,
   "id": "martial-complexity",
   "metadata": {},
   "outputs": [],
   "source": [
    "dd_d_g_T = d_acc_cos_g.subs(N_hat, 0).subs(T_hat, 1)\n",
    "dd_d_g_T"
   ]
  },
  {
   "cell_type": "code",
   "execution_count": null,
   "id": "broad-spray",
   "metadata": {},
   "outputs": [],
   "source": [
    "dd_d_g_N = d_acc_cos_g.subs(T_hat, 0).subs(N_hat, 1)\n",
    "dd_d_g_N"
   ]
  },
  {
   "cell_type": "code",
   "execution_count": null,
   "id": "resident-extra",
   "metadata": {},
   "outputs": [],
   "source": [
    "p_M_func = sp.Function(r\"p_M\")(t)\n",
    "p_L_func = sp.Function(r\"p_L\")(t)\n",
    "v_M = sp.symbols(r\"v_M\")\n",
    "v_L = sp.symbols(r\"v_L\")\n",
    "d_s = (p_M_func + r*N_hat) - (p_L_func + (w_L/2)*T_hat - (h_L/2)*N_hat)\n",
    "\n",
    "d_vel_s = sp.diff(d_s, t)\n",
    "d_vel_s = d_vel_s.subs(sp.diff(N_hat, t), -\n",
    "                       sp.diff(theta_L_func, t)*T_hat)\n",
    "d_vel_s = d_vel_s.subs(\n",
    "    sp.diff(T_hat, t), sp.diff(theta_L_func, t)*N_hat)\n",
    "\n",
    "d_acc_s = sp.diff(d_vel_s, t)\n",
    "d_acc_s = d_acc_s.subs(sp.diff(N_hat, t), -\n",
    "                       sp.diff(theta_L_func, t)*T_hat)\n",
    "d_acc_s = d_acc_s.subs(\n",
    "    sp.diff(T_hat, t), sp.diff(theta_L_func, t)*N_hat)\n",
    "\n",
    "d_acc_cos_s = d_acc_s\n",
    "d_acc_cos_s = d_acc_cos_s.subs(sp.diff(theta_L_func, t, t), dd_theta_L)\n",
    "d_acc_cos_s = d_acc_cos_s.subs(sp.diff(d_T_func, t, t), dd_d_T)\n",
    "d_acc_cos_s = d_acc_cos_s.subs(sp.diff(d_N_func, t, t), dd_d_N)\n",
    "d_acc_cos_s = d_acc_cos_s.subs(sp.diff(theta_L_func, t), d_theta_L)\n",
    "d_acc_cos_s = d_acc_cos_s.subs(sp.diff(d_T_func, t), d_d_T)\n",
    "d_acc_cos_s = d_acc_cos_s.subs(sp.diff(d_N_func, t), d_d_N)\n",
    "d_acc_cos_s = d_acc_cos_s.subs(d_T_func, d_T)\n",
    "d_acc_cos_s = d_acc_cos_s.subs(d_N_func, d_N)"
   ]
  },
  {
   "cell_type": "code",
   "execution_count": null,
   "id": "pressed-animation",
   "metadata": {},
   "outputs": [],
   "source": [
    "dd_d_s_T = d_acc_cos_s.subs(N_hat, 0).subs(T_hat, 1)\n",
    "dd_d_s_T = dd_d_s_T.subs(sp.diff(p_M_func, t, t), a_MT)\n",
    "dd_d_s_T = dd_d_s_T.subs(sp.diff(p_L_func, t, t), a_LT)\n",
    "dd_d_s_T"
   ]
  },
  {
   "cell_type": "code",
   "execution_count": null,
   "id": "indian-discretion",
   "metadata": {},
   "outputs": [],
   "source": [
    "dd_d_s_T.subs(sp.diff(p_M_func, t, t), a_MT)"
   ]
  },
  {
   "cell_type": "code",
   "execution_count": null,
   "id": "subsequent-ceremony",
   "metadata": {},
   "outputs": [],
   "source": [
    "dd_d_s_N = d_acc_cos_s.subs(T_hat, 0).subs(N_hat, 1)\n",
    "dd_d_s_N = dd_d_s_N.subs(sp.diff(p_M_func, t, t), a_MN)\n",
    "dd_d_s_N = dd_d_s_N.subs(sp.diff(p_L_func, t, t), a_LN)\n",
    "dd_d_s_N"
   ]
  },
  {
   "cell_type": "code",
   "execution_count": null,
   "id": "tropical-closing",
   "metadata": {},
   "outputs": [],
   "source": [
    "nat_eqs = [\n",
    "    # Link tangential force balance\n",
    "    [m_L*a_LT, F_FL+F_GT+F_OT],\n",
    "    # Link normal force balance\n",
    "    [m_L*a_LN, F_NL + F_GN + F_ON, ],\n",
    "    # Manipulator tangential force balance\n",
    "    [m_M*a_MT, F_FM + F_CT, ],\n",
    "    # Manipulator normal force balance\n",
    "    [m_M*a_MN, F_NM+F_CN, ],\n",
    "    # Link moment balance\n",
    "    [I_L*dd_theta_L, (-w_L/2)*F_ON - (p_LCN) * \\\n",
    "     F_FL + (p_LCN)*F_NL + tau_O, ],\n",
    "    # Manipulator moment balance\n",
    "    [I_M*dd_theta_M, tau_M-F_FM*(p_MCN), ],\n",
    "    # 3rd law normal forces\n",
    "    [F_NL, -F_NM],\n",
    "    # Friction relationship L\n",
    "    [F_FL, mu*mu_S*F_NL],\n",
    "    # Friction relationship M\n",
    "    [F_FM, -F_FL],\n",
    "    # d_T derivative is derivative\n",
    "    [dd_d_s_T, dd_d_g_T],\n",
    "    # d_N derivative is derivative\n",
    "    [dd_d_s_N, dd_d_g_N],\n",
    "]\n",
    "\n",
    "art_eqs = [\n",
    "#     [dd_d_N, dd_d_Nd],\n",
    "#     [dd_d_T, dd_d_Td],\n",
    "#     [dd_theta_L, dd_theta_Ld],\n",
    "#     [dd_theta_M, dd_theta_Md],\n",
    "]\n",
    "\n",
    "env_eqs = nat_eqs + art_eqs"
   ]
  },
  {
   "cell_type": "code",
   "execution_count": null,
   "id": "running-membrane",
   "metadata": {},
   "outputs": [],
   "source": [
    "out_str = r\"\\begin{aligned}\"\n",
    "for eq in env_eqs:\n",
    "    out_str += sp.latex(eq[0]) + r\" &= \" + sp.latex(eq[1]) + r\" \\\\\" + \"\\n\"\n",
    "out_str += \"\\end{aligned}\"\n",
    "display(Math(out_str))"
   ]
  },
  {
   "cell_type": "markdown",
   "id": "posted-warehouse",
   "metadata": {},
   "source": [
    "## manual algebra"
   ]
  },
  {
   "cell_type": "code",
   "execution_count": null,
   "id": "precise-dressing",
   "metadata": {},
   "outputs": [],
   "source": [
    "T_exp = dd_d_s_T - dd_d_g_T\n",
    "T_exp.simplify()\n",
    "T_exp_collected = sp.collect(T_exp, dd_theta_L)\n",
    "T_exp_collected"
   ]
  },
  {
   "cell_type": "markdown",
   "id": "sonic-fiber",
   "metadata": {},
   "source": [
    "## just kidding"
   ]
  },
  {
   "cell_type": "code",
   "execution_count": null,
   "id": "natural-shame",
   "metadata": {},
   "outputs": [],
   "source": [
    "A = []\n",
    "b = []\n",
    "for lhs, rhs in env_eqs:\n",
    "    A_row = []\n",
    "    b_term = rhs - lhs\n",
    "    for output_term in outputs:\n",
    "        try:\n",
    "            coeff_L = lhs.coeff(output_term)\n",
    "        except AttributeError:\n",
    "            coeff_L = 0\n",
    "        try:\n",
    "            coeff_R = rhs.coeff(output_term)\n",
    "        except AttributeError:\n",
    "            coeff_R = 0\n",
    "        coeff = coeff_L - coeff_R\n",
    "        A_row.append(coeff)\n",
    "        b_term += coeff * output_term\n",
    "    A.append(A_row)\n",
    "    b.append(b_term)\n",
    "A = sp.SparseMatrix(A)\n",
    "A.simplify()\n",
    "b = sp.Matrix([b]).T\n",
    "b.simplify()\n",
    "x = sp.Matrix([outputs]).T\n",
    "x.simplify()"
   ]
  },
  {
   "cell_type": "code",
   "execution_count": null,
   "id": "other-press",
   "metadata": {},
   "outputs": [],
   "source": [
    "A"
   ]
  },
  {
   "cell_type": "code",
   "execution_count": null,
   "id": "planned-cameroon",
   "metadata": {},
   "outputs": [],
   "source": [
    "A_aug = A.row_join(b)\n",
    "results = A_aug.rref()[0]\n",
    "A_prime = results[:, :-1]\n",
    "b_prime = results[:, -1]"
   ]
  },
  {
   "cell_type": "code",
   "execution_count": null,
   "id": "handy-funds",
   "metadata": {},
   "outputs": [],
   "source": [
    "A_prime"
   ]
  },
  {
   "cell_type": "code",
   "execution_count": null,
   "id": "acute-concern",
   "metadata": {},
   "outputs": [],
   "source": [
    "(A_prime@x)[-2:,:]"
   ]
  },
  {
   "cell_type": "code",
   "execution_count": null,
   "id": "transsexual-stand",
   "metadata": {},
   "outputs": [],
   "source": [
    "A_prime_simpler = A_prime.copy()\n",
    "fs = []\n",
    "for i in range(A_prime_simpler.shape[0]):\n",
    "    fs.append(sp.symbols(r\"f_{\" + str(i) + r\"}\"))\n",
    "    A_prime_simpler[i, 11] = fs[i]"
   ]
  },
  {
   "cell_type": "code",
   "execution_count": null,
   "id": "democratic-rabbit",
   "metadata": {},
   "outputs": [],
   "source": [
    "A_prime_simpler"
   ]
  },
  {
   "cell_type": "code",
   "execution_count": null,
   "id": "mounted-chick",
   "metadata": {},
   "outputs": [],
   "source": [
    "x"
   ]
  },
  {
   "cell_type": "code",
   "execution_count": null,
   "id": "colonial-briefs",
   "metadata": {},
   "outputs": [],
   "source": [
    "(A_prime_simpler@x)[7:,:]"
   ]
  },
  {
   "cell_type": "markdown",
   "id": "latest-presentation",
   "metadata": {},
   "source": [
    "### f[8]"
   ]
  },
  {
   "cell_type": "code",
   "execution_count": null,
   "id": "eastern-psychiatry",
   "metadata": {},
   "outputs": [],
   "source": [
    "(A_prime_simpler@x)[8,:]"
   ]
  },
  {
   "cell_type": "code",
   "execution_count": null,
   "id": "perceived-apple",
   "metadata": {},
   "outputs": [],
   "source": [
    "f = A_prime[:, 11]\n",
    "term = f[8]\n",
    "term = sp.collect(term, p_LCN*m_L)\n",
    "sp.collect(term, m_M).collect(d_T).collect(w_L)"
   ]
  },
  {
   "cell_type": "code",
   "execution_count": null,
   "id": "coupled-hotel",
   "metadata": {},
   "outputs": [],
   "source": [
    "f[8].collect(p_LCN).collect(2*d_T).collect(w_L).collect(2*I_L).collect(m_L*m_M).collect(2*m_L)"
   ]
  },
  {
   "cell_type": "code",
   "execution_count": null,
   "id": "innocent-guyana",
   "metadata": {},
   "outputs": [],
   "source": [
    "f8_term2 = f[8]*sp.fraction(f[8])[1]\n",
    "f8_term2 = f8_term2.simplify()\n",
    "f8_term2 -= 2*I_L*m_L+2*I_L*m_M\n",
    "f8_term2 = f8_term2.simplify()\n",
    "f8_term2 /=sp.fraction(f[8])[1]\n",
    "f8_term2 = f8_term2.simplify()\n",
    "f8_term2"
   ]
  },
  {
   "cell_type": "code",
   "execution_count": null,
   "id": "shared-detector",
   "metadata": {},
   "outputs": [],
   "source": [
    "f_8_term1 = 2*I_L*(m_L+m_M)/sp.fraction(f[8])[1]\n",
    "f_8_term1 = f_8_term1.collect(p_LCN).collect(2*m_L)\n",
    "f_8_term1"
   ]
  },
  {
   "cell_type": "markdown",
   "id": "adjustable-hunter",
   "metadata": {},
   "source": [
    "### f[9]"
   ]
  },
  {
   "cell_type": "code",
   "execution_count": null,
   "id": "acoustic-frame",
   "metadata": {},
   "outputs": [],
   "source": [
    "f[9].collect(p_LCN).collect(2*d_N).collect(h_L).collect(2*I_L).collect(m_L*m_M).collect(2*m_L).collect(2*r)"
   ]
  },
  {
   "cell_type": "code",
   "execution_count": null,
   "id": "popular-heart",
   "metadata": {},
   "outputs": [],
   "source": [
    "f9_term2 = f[9]*sp.fraction(f[9])[1]\n",
    "f9_term2.simplify()\n",
    "f9_term2 -= 2*I_L*m_L*mu*mu_S+2*I_L*m_M*mu*mu_S\n",
    "f9_term2.simplify()\n",
    "f9_term2 /=sp.fraction(f[9])[1]\n",
    "f9_term2.simplify()\n",
    "f9_term2 = f9_term2.collect(p_LCN).collect(2*d_N).collect(h_L).collect(2*I_L).collect(m_L*m_M).collect(2*m_L).collect(2*r)\n",
    "f9_term2 = f9_term2.simplify()\n",
    "f9_term2"
   ]
  },
  {
   "cell_type": "code",
   "execution_count": null,
   "id": "incomplete-dimension",
   "metadata": {},
   "outputs": [],
   "source": [
    "f9_term2 = (f[9] - f9_term2).simplify()\n",
    "f9_term2"
   ]
  },
  {
   "cell_type": "code",
   "execution_count": null,
   "id": "macro-allen",
   "metadata": {},
   "outputs": [],
   "source": [
    "f9_term1 = 2*I_L*(m_L+m_M)/sp.fraction(f[8])[1]\n",
    "f9_term1 = f9_term1.factor()\n",
    "f9_term1"
   ]
  },
  {
   "cell_type": "code",
   "execution_count": null,
   "id": "solved-bidding",
   "metadata": {},
   "outputs": [],
   "source": [
    "num = sp.fraction(f[9])[0]\n",
    "num1 = num - num.coeff(mu*mu_S)*(mu*mu_S - 1)\n",
    "num1 = num1.simplify()\n",
    "f9_term1 = num1/sp.fraction(f[9])[1]\n",
    "f9_term1 = f9_term1.factor()\n",
    "f9_term1"
   ]
  },
  {
   "cell_type": "code",
   "execution_count": null,
   "id": "soviet-listing",
   "metadata": {},
   "outputs": [],
   "source": [
    "f9_term2 = num.coeff(mu*mu_S).factor()/sp.fraction(f[9])[1].coeff(mu*mu_S)\n",
    "f9_term2 = f9_term2.simplify()\n",
    "f9_term2"
   ]
  },
  {
   "cell_type": "code",
   "execution_count": null,
   "id": "short-minneapolis",
   "metadata": {},
   "outputs": [],
   "source": [
    "(f[9] - f9_term1 - f9_term2).simplify()"
   ]
  },
  {
   "cell_type": "markdown",
   "id": "apparent-terrorism",
   "metadata": {},
   "source": [
    "### b[8]"
   ]
  },
  {
   "cell_type": "code",
   "execution_count": null,
   "id": "racial-institute",
   "metadata": {},
   "outputs": [],
   "source": [
    "b_prime[8].collect(mu*mu_S)"
   ]
  },
  {
   "cell_type": "code",
   "execution_count": null,
   "id": "dramatic-sessions",
   "metadata": {},
   "outputs": [],
   "source": [
    "num = sp.fraction(b_prime[8])[0]\n",
    "num1 = num - num.coeff(mu*mu_S)*(mu*mu_S - 1)\n",
    "num1 = num1.simplify()\n",
    "num1.factor()"
   ]
  },
  {
   "cell_type": "code",
   "execution_count": null,
   "id": "uniform-strap",
   "metadata": {},
   "outputs": [],
   "source": [
    "b8_term1 = num1/sp.fraction(b_prime[8])[1]\n",
    "b8_term1 = b8_term1.factor()\n",
    "b8_term1"
   ]
  },
  {
   "cell_type": "code",
   "execution_count": null,
   "id": "spare-inclusion",
   "metadata": {},
   "outputs": [],
   "source": [
    "b8_term2 = num.coeff(mu*mu_S).factor()/sp.fraction(b_prime[8])[1].coeff(mu*mu_S)\n",
    "b8_term2 = b8_term2.simplify()\n",
    "b8_term2"
   ]
  },
  {
   "cell_type": "code",
   "execution_count": null,
   "id": "lightweight-evolution",
   "metadata": {},
   "outputs": [],
   "source": [
    "(b_prime[8]-b8_term1-b8_term2).simplify()"
   ]
  },
  {
   "cell_type": "markdown",
   "id": "liberal-cancer",
   "metadata": {},
   "source": [
    "## b[9]"
   ]
  },
  {
   "cell_type": "code",
   "execution_count": null,
   "id": "answering-claim",
   "metadata": {},
   "outputs": [],
   "source": [
    "b_prime[9].collect(mu*mu_S)"
   ]
  },
  {
   "cell_type": "code",
   "execution_count": null,
   "id": "spanish-layout",
   "metadata": {},
   "outputs": [],
   "source": [
    "num = sp.fraction(b_prime[9])[0]\n",
    "num1 = num - num.coeff(mu*mu_S)*(mu*mu_S - 1)\n",
    "num1 = num1.simplify()\n",
    "b9_term1 = num1/sp.fraction(b_prime[9])[1]\n",
    "b9_term1 = b9_term1.factor()\n",
    "b9_term1"
   ]
  },
  {
   "cell_type": "code",
   "execution_count": null,
   "id": "saving-cooling",
   "metadata": {},
   "outputs": [],
   "source": [
    "b9_term2 = num.coeff(mu*mu_S).factor()/sp.fraction(b_prime[9])[1].coeff(mu*mu_S)\n",
    "b9_term2 = b9_term2.simplify()\n",
    "b9_term2"
   ]
  },
  {
   "cell_type": "code",
   "execution_count": null,
   "id": "sought-surname",
   "metadata": {},
   "outputs": [],
   "source": [
    "(b_prime[9]-b9_term1-b9_term2).simplify()"
   ]
  },
  {
   "cell_type": "markdown",
   "id": "bibliographic-statement",
   "metadata": {},
   "source": [
    "### other shit"
   ]
  },
  {
   "cell_type": "code",
   "execution_count": null,
   "id": "furnished-section",
   "metadata": {},
   "outputs": [],
   "source": [
    "b_prime[7].collect(p_LCN)"
   ]
  },
  {
   "cell_type": "code",
   "execution_count": null,
   "id": "genetic-pharmaceutical",
   "metadata": {},
   "outputs": [],
   "source": [
    "f[9].collect(p_LCN)"
   ]
  },
  {
   "cell_type": "code",
   "execution_count": null,
   "id": "cordless-chuck",
   "metadata": {},
   "outputs": [],
   "source": [
    "sp.collect(f[9], mu)"
   ]
  },
  {
   "cell_type": "code",
   "execution_count": null,
   "id": "early-pendant",
   "metadata": {},
   "outputs": [],
   "source": [
    "\n",
    "sp.collect(f[9], mu).subs(d_N, 0).subs(I_L, 1).subs(h_L, 11.1).subs(w_L, 1.1).subs(m_L, 2).subs(m_M, 3.6).subs(r, 55)"
   ]
  },
  {
   "cell_type": "code",
   "execution_count": null,
   "id": "circular-shelf",
   "metadata": {},
   "outputs": [],
   "source": [
    "f2 = sp.fraction(f[9])[1].coeff(mu)"
   ]
  },
  {
   "cell_type": "code",
   "execution_count": null,
   "id": "western-redhead",
   "metadata": {},
   "outputs": [],
   "source": [
    "k = b_prime\n",
    "k1 = sp.fraction(k[9])[0].coeff(mu)\n",
    "k2 = sp.fraction(k[9])[1].coeff(mu)"
   ]
  },
  {
   "cell_type": "code",
   "execution_count": null,
   "id": "answering-diabetes",
   "metadata": {},
   "outputs": [],
   "source": [
    "k1"
   ]
  },
  {
   "cell_type": "code",
   "execution_count": null,
   "id": "fifty-transportation",
   "metadata": {},
   "outputs": [],
   "source": []
  }
 ],
 "metadata": {
  "kernelspec": {
   "display_name": "Python 3",
   "language": "python",
   "name": "python3"
  },
  "language_info": {
   "codemirror_mode": {
    "name": "ipython",
    "version": 3
   },
   "file_extension": ".py",
   "mimetype": "text/x-python",
   "name": "python",
   "nbconvert_exporter": "python",
   "pygments_lexer": "ipython3",
   "version": "3.9.2"
  }
 },
 "nbformat": 4,
 "nbformat_minor": 5
}
