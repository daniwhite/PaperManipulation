{
 "cells": [
  {
   "cell_type": "code",
   "execution_count": null,
   "id": "organizational-writer",
   "metadata": {},
   "outputs": [],
   "source": [
    "import sympy as sp\n",
    "import numpy as np\n",
    "from IPython.display import display, Math, Latex\n",
    "from sympy.utilities.lambdify import lambdify"
   ]
  },
  {
   "cell_type": "markdown",
   "id": "coupled-facility",
   "metadata": {},
   "source": [
    "# Loading variables"
   ]
  },
  {
   "cell_type": "code",
   "execution_count": null,
   "id": "iraqi-granny",
   "metadata": {},
   "outputs": [],
   "source": [
    "m_L = sp.symbols(r\"m_L\")\n",
    "m_M = sp.symbols(r\"m_M\")\n",
    "w_L = sp.symbols(r\"w_L\")\n",
    "I_L = sp.symbols(r\"I_L\")\n",
    "h_L = sp.symbols(r\"h_L\")\n",
    "r = sp.symbols(r\"r\")\n",
    "I_M = sp.symbols(r\"I_M\")"
   ]
  },
  {
   "cell_type": "code",
   "execution_count": null,
   "id": "charitable-wisdom",
   "metadata": {},
   "outputs": [],
   "source": [
    "# Friction coefficients\n",
    "mu = sp.symbols(r\"\\mu\")\n",
    "mu_S = sp.symbols(r\"\\mu_{S}\")\n",
    "\n",
    "# System gains\n",
    "b_J = sp.symbols(r\"b_J\")\n",
    "k_J = sp.symbols(r\"k_J\")"
   ]
  },
  {
   "cell_type": "code",
   "execution_count": null,
   "id": "static-growing",
   "metadata": {},
   "outputs": [],
   "source": [
    "# Positions\n",
    "p_CN = sp.symbols(r\"p_{CN}\")\n",
    "p_CT = sp.symbols(r\"p_{CT}\")\n",
    "p_MN = sp.symbols(r\"p_{MN}\")\n",
    "p_LN = sp.symbols(r\"p_{LN}\")\n",
    "p_LT = sp.symbols(r\"p_{LT}\")\n",
    "theta_L = sp.symbols(r\"\\theta_L\")\n",
    "d_T = sp.symbols(r\"d_T\")\n",
    "d_N = sp.symbols(r\"d_N\")\n",
    "\n",
    "# p_C - p_L\n",
    "p_LCN = sp.symbols(r\"p_{LCN}\")\n",
    "p_LCT = sp.symbols(r\"p_{LCT}\")\n",
    "\n",
    "# p_C - p_M\n",
    "p_MCN = sp.symbols(r\"p_{MCN}\")\n",
    "p_MCT = sp.symbols(r\"p_{MCT}\")\n",
    "\n",
    "# Velocities\n",
    "v_MN = sp.symbols(r\"v_{MN}\")\n",
    "v_MT = sp.symbols(r\"v_{MT}\")\n",
    "v_LN = sp.symbols(r\"v_{LN}\")\n",
    "v_LT = sp.symbols(r\"v_{LT}\")\n",
    "d_theta_L = sp.symbols(r\"\\dot\\theta_L\")\n",
    "d_theta_M = sp.symbols(r\"\\dot\\theta_M\")\n",
    "d_d_T = sp.symbols(r\"\\dot{d}_T\")\n",
    "d_d_N = sp.symbols(r\"\\dot{d}_N\")"
   ]
  },
  {
   "cell_type": "code",
   "execution_count": null,
   "id": "corporate-direction",
   "metadata": {},
   "outputs": [],
   "source": [
    "# Input forces\n",
    "F_GT = sp.symbols(r\"F_{GT}\")\n",
    "F_GN = sp.symbols(r\"F_{GN}\")\n",
    "F_OT, F_ON, tau_O = sp.symbols(r\"F_{OT}, F_{ON} \\tau_O\")\n",
    "\n",
    "# Control inputs\n",
    "dd_theta_Ld = sp.symbols(r\"\\ddot\\theta_{Ld}\")\n",
    "dd_d_Nd = sp.symbols(r\"\\ddot{d}_{Nd}\")\n",
    "dd_d_Td = sp.symbols(r\"\\ddot{d}_{Td}\")\n",
    "dd_theta_Md = sp.symbols(r\"\\ddot\\theta_{Md}\")\n",
    "\n",
    "outputs = [\n",
    "    a_LT, dd_theta_L, a_MT, a_MN, F_NM, F_FL, F_FM, F_NL, F_CN, F_CT, tau_M, a_LN, dd_theta_M, dd_d_N, dd_d_T\n",
    "] = sp.symbols(\n",
    "    r\"a_{LT}, \\ddot\\theta_L, a_{MT}, a_{MN}, F_{NM}, F_{FL}, F_{FM}, F_{NL}, F_{CN}, F_{CT}, \\tau_M, a_{LN}, \\ddot\\theta_M, \\ddot{d}_N, \\ddot{d}_T\"\n",
    ")\n",
    "\n",
    "outputs = list(outputs)"
   ]
  },
  {
   "cell_type": "markdown",
   "id": "martial-community",
   "metadata": {},
   "source": [
    "## Differentiation of $\\vec d$"
   ]
  },
  {
   "cell_type": "code",
   "execution_count": null,
   "id": "medieval-delhi",
   "metadata": {},
   "outputs": [],
   "source": [
    "t = sp.symbols(\"t\")\n",
    "theta_L_func = sp.Function(r'\\theta_L')(t)\n",
    "N_hat = sp.Function(r'\\hat N')(theta_L_func)\n",
    "T_hat = sp.Function(r'\\hat T')(theta_L_func)\n",
    "\n",
    "d_T_func = sp.Function(r\"d_T\")(t)\n",
    "d_N_func = sp.Function(r\"d_N\")(t)\n",
    "d_g = d_T_func*T_hat + d_N_func*N_hat\n",
    "\n",
    "d_vel_g = sp.diff(d_g, t)\n",
    "\n",
    "d_vel_g = d_vel_g.subs(sp.diff(N_hat, t), -\n",
    "                       sp.diff(theta_L_func, t)*T_hat)\n",
    "d_vel_g = d_vel_g.subs(\n",
    "    sp.diff(T_hat, t), sp.diff(theta_L_func, t)*N_hat)\n",
    "\n",
    "d_acc_g = sp.diff(d_vel_g, t)\n",
    "d_acc_g = d_acc_g.subs(sp.diff(N_hat, t), -\n",
    "                       sp.diff(theta_L_func, t)*T_hat)\n",
    "d_acc_g = d_acc_g.subs(\n",
    "    sp.diff(T_hat, t), sp.diff(theta_L_func, t)*N_hat)\n",
    "\n",
    "d_acc_cos_g = d_acc_g\n",
    "d_acc_cos_g = d_acc_cos_g.subs(sp.diff(theta_L_func, t, t), dd_theta_L)\n",
    "d_acc_cos_g = d_acc_cos_g.subs(sp.diff(d_T_func, t, t), dd_d_T)\n",
    "d_acc_cos_g = d_acc_cos_g.subs(sp.diff(d_N_func, t, t), dd_d_N)\n",
    "d_acc_cos_g = d_acc_cos_g.subs(sp.diff(theta_L_func, t), d_theta_L)\n",
    "d_acc_cos_g = d_acc_cos_g.subs(sp.diff(d_T_func, t), d_d_T)\n",
    "d_acc_cos_g = d_acc_cos_g.subs(sp.diff(d_N_func, t), d_d_N)\n",
    "d_acc_cos_g = d_acc_cos_g.subs(d_T_func, d_T)\n",
    "d_acc_cos_g = d_acc_cos_g.subs(d_N_func, d_N)"
   ]
  },
  {
   "cell_type": "code",
   "execution_count": null,
   "id": "martial-complexity",
   "metadata": {},
   "outputs": [],
   "source": [
    "dd_d_g_T = d_acc_cos_g.subs(N_hat, 0).subs(T_hat, 1)\n",
    "dd_d_g_T"
   ]
  },
  {
   "cell_type": "code",
   "execution_count": null,
   "id": "broad-spray",
   "metadata": {},
   "outputs": [],
   "source": [
    "dd_d_g_N = d_acc_cos_g.subs(T_hat, 0).subs(N_hat, 1)\n",
    "dd_d_g_N"
   ]
  },
  {
   "cell_type": "code",
   "execution_count": null,
   "id": "resident-extra",
   "metadata": {},
   "outputs": [],
   "source": [
    "p_M_func = sp.Function(r\"p_M\")(t)\n",
    "p_L_func = sp.Function(r\"p_L\")(t)\n",
    "v_M = sp.symbols(r\"v_M\")\n",
    "v_L = sp.symbols(r\"v_L\")\n",
    "d_s = (p_M_func + r*N_hat) - (p_L_func + (w_L/2)*T_hat - (h_L/2)*N_hat)\n",
    "\n",
    "d_vel_s = sp.diff(d_s, t)\n",
    "d_vel_s = d_vel_s.subs(sp.diff(N_hat, t), -\n",
    "                       sp.diff(theta_L_func, t)*T_hat)\n",
    "d_vel_s = d_vel_s.subs(\n",
    "    sp.diff(T_hat, t), sp.diff(theta_L_func, t)*N_hat)\n",
    "\n",
    "d_acc_s = sp.diff(d_vel_s, t)\n",
    "d_acc_s = d_acc_s.subs(sp.diff(N_hat, t), -\n",
    "                       sp.diff(theta_L_func, t)*T_hat)\n",
    "d_acc_s = d_acc_s.subs(\n",
    "    sp.diff(T_hat, t), sp.diff(theta_L_func, t)*N_hat)\n",
    "\n",
    "d_acc_cos_s = d_acc_s\n",
    "d_acc_cos_s = d_acc_cos_s.subs(sp.diff(theta_L_func, t, t), dd_theta_L)\n",
    "d_acc_cos_s = d_acc_cos_s.subs(sp.diff(d_T_func, t, t), dd_d_T)\n",
    "d_acc_cos_s = d_acc_cos_s.subs(sp.diff(d_N_func, t, t), dd_d_N)\n",
    "d_acc_cos_s = d_acc_cos_s.subs(sp.diff(theta_L_func, t), d_theta_L)\n",
    "d_acc_cos_s = d_acc_cos_s.subs(sp.diff(d_T_func, t), d_d_T)\n",
    "d_acc_cos_s = d_acc_cos_s.subs(sp.diff(d_N_func, t), d_d_N)\n",
    "d_acc_cos_s = d_acc_cos_s.subs(d_T_func, d_T)\n",
    "d_acc_cos_s = d_acc_cos_s.subs(d_N_func, d_N)"
   ]
  },
  {
   "cell_type": "code",
   "execution_count": null,
   "id": "pressed-animation",
   "metadata": {},
   "outputs": [],
   "source": [
    "dd_d_s_T = d_acc_cos_s.subs(N_hat, 0).subs(T_hat, 1)\n",
    "dd_d_s_T = dd_d_s_T.subs(sp.diff(p_M_func, t, t), a_MT)\n",
    "dd_d_s_T = dd_d_s_T.subs(sp.diff(p_L_func, t, t), a_LT)\n",
    "dd_d_s_T"
   ]
  },
  {
   "cell_type": "code",
   "execution_count": null,
   "id": "indian-discretion",
   "metadata": {},
   "outputs": [],
   "source": [
    "dd_d_s_T.subs(sp.diff(p_M_func, t, t), a_MT)"
   ]
  },
  {
   "cell_type": "code",
   "execution_count": null,
   "id": "subsequent-ceremony",
   "metadata": {},
   "outputs": [],
   "source": [
    "dd_d_s_N = d_acc_cos_s.subs(T_hat, 0).subs(N_hat, 1)\n",
    "dd_d_s_N = dd_d_s_N.subs(sp.diff(p_M_func, t, t), a_MN)\n",
    "dd_d_s_N = dd_d_s_N.subs(sp.diff(p_L_func, t, t), a_LN)\n",
    "dd_d_s_N"
   ]
  },
  {
   "cell_type": "markdown",
   "id": "organizational-kidney",
   "metadata": {},
   "source": [
    "# Setting up equations and matrices"
   ]
  },
  {
   "cell_type": "code",
   "execution_count": null,
   "id": "tropical-closing",
   "metadata": {},
   "outputs": [],
   "source": [
    "nat_eqs = [\n",
    "    # Link tangential force balance\n",
    "    [m_L*a_LT, F_FL+F_GT+F_OT],\n",
    "    # Link normal force balance\n",
    "    [m_L*a_LN, F_NL + F_GN + F_ON, ],\n",
    "    # Manipulator tangential force balance\n",
    "    [m_M*a_MT, F_FM + F_CT, ],\n",
    "    # Manipulator normal force balance\n",
    "    [m_M*a_MN, F_NM+F_CN, ],\n",
    "    # Link moment balance\n",
    "    [I_L*dd_theta_L, (-w_L/2)*F_ON - (p_LCN) * \\\n",
    "     F_FL + (p_LCT)*F_NL + tau_O, ],\n",
    "    # Manipulator moment balance\n",
    "    [I_M*dd_theta_M, tau_M-F_FM*(p_MCN), ],\n",
    "    # 3rd law normal forces\n",
    "    [F_NL, -F_NM],\n",
    "    # Friction relationship L\n",
    "    [F_FL, mu*mu_S*F_NL],\n",
    "    # Friction relationship M\n",
    "    [F_FM, -F_FL],\n",
    "    # d_T derivative is derivative\n",
    "    [dd_d_s_T, dd_d_g_T],\n",
    "    # d_N derivative is derivative\n",
    "    [dd_d_s_N, dd_d_g_N],\n",
    "    # dd_d_N = 0 in real life assuming we're in contact\n",
    "    [dd_d_N, 0],\n",
    "]\n",
    "\n",
    "art_eqs = [\n",
    "#     [dd_d_N, dd_d_Nd],\n",
    "#     [dd_d_T, dd_d_Td],\n",
    "#     [dd_theta_L, dd_theta_Ld],\n",
    "#     [dd_theta_M, dd_theta_Md],\n",
    "]\n",
    "\n",
    "env_eqs = nat_eqs + art_eqs"
   ]
  },
  {
   "cell_type": "code",
   "execution_count": null,
   "id": "large-cruise",
   "metadata": {},
   "outputs": [],
   "source": [
    "dd_d_s_N"
   ]
  },
  {
   "cell_type": "code",
   "execution_count": null,
   "id": "devoted-glucose",
   "metadata": {},
   "outputs": [],
   "source": [
    "out_str = r\"\\begin{aligned}\"\n",
    "for eq in env_eqs:\n",
    "    out_str += sp.latex(eq[0]) + r\" &= \" + sp.latex(eq[1]) + r\" \\\\\" + \"\\n\"\n",
    "out_str += \"\\end{aligned}\"\n",
    "display(Math(out_str))"
   ]
  },
  {
   "cell_type": "code",
   "execution_count": null,
   "id": "adult-produce",
   "metadata": {},
   "outputs": [],
   "source": [
    "env_eqs[10][0]-a_MN"
   ]
  },
  {
   "cell_type": "code",
   "execution_count": null,
   "id": "irish-olympus",
   "metadata": {},
   "outputs": [],
   "source": [
    "env_eqs[7]"
   ]
  },
  {
   "cell_type": "code",
   "execution_count": null,
   "id": "oriented-madagascar",
   "metadata": {},
   "outputs": [],
   "source": [
    "eq_idxs = {3, 10, 1, 6, 7, 4}\n",
    "out_str = r\"\\begin{aligned}\"\n",
    "for i, eq in enumerate(env_eqs):\n",
    "    if i in eq_idxs:\n",
    "        out_str += sp.latex(eq[0]) + r\" &= \" + sp.latex(eq[1]) + r\" \\\\\" + \"\\n\"\n",
    "out_str += \"\\end{aligned}\"\n",
    "display(Math(out_str))"
   ]
  },
  {
   "cell_type": "code",
   "execution_count": null,
   "id": "natural-shame",
   "metadata": {},
   "outputs": [],
   "source": [
    "A = []\n",
    "b = []\n",
    "for lhs, rhs in env_eqs:\n",
    "    A_row = []\n",
    "    b_term = rhs - lhs\n",
    "    for output_term in outputs:\n",
    "        try:\n",
    "            coeff_L = lhs.coeff(output_term)\n",
    "        except AttributeError:\n",
    "            coeff_L = 0\n",
    "        try:\n",
    "            coeff_R = rhs.coeff(output_term)\n",
    "        except AttributeError:\n",
    "            coeff_R = 0\n",
    "        coeff = coeff_L - coeff_R\n",
    "        A_row.append(coeff)\n",
    "        b_term += coeff * output_term\n",
    "    A.append(A_row)\n",
    "    b.append(b_term)\n",
    "A = sp.SparseMatrix(A)\n",
    "A.simplify()\n",
    "b = sp.Matrix([b]).T\n",
    "b.simplify()\n",
    "x = sp.Matrix([outputs]).T\n",
    "x.simplify()"
   ]
  },
  {
   "cell_type": "code",
   "execution_count": null,
   "id": "planned-cameroon",
   "metadata": {},
   "outputs": [],
   "source": [
    "A_aug = A.row_join(b)\n",
    "results = A_aug.rref()[0]\n",
    "A_prime = results[:, :-1]\n",
    "b_prime = results[:, -1]"
   ]
  },
  {
   "cell_type": "code",
   "execution_count": null,
   "id": "assured-potential",
   "metadata": {},
   "outputs": [],
   "source": [
    "A_prime"
   ]
  },
  {
   "cell_type": "code",
   "execution_count": null,
   "id": "restricted-workplace",
   "metadata": {},
   "outputs": [],
   "source": [
    "A_prime@x"
   ]
  },
  {
   "cell_type": "code",
   "execution_count": null,
   "id": "related-awareness",
   "metadata": {},
   "outputs": [],
   "source": [
    "out_str = r\"\\begin{aligned}\"\n",
    "for lhs, rhs in zip(A_prime@x, b_prime):\n",
    "    out_str += sp.latex(lhs) + r\" &= \" + sp.latex(rhs) + r\" \\\\\" + \"\\n\"\n",
    "out_str += \"\\end{aligned}\"\n",
    "display(Math(out_str))"
   ]
  },
  {
   "cell_type": "code",
   "execution_count": null,
   "id": "indian-caribbean",
   "metadata": {},
   "outputs": [],
   "source": [
    "x[7]"
   ]
  },
  {
   "cell_type": "code",
   "execution_count": null,
   "id": "civic-botswana",
   "metadata": {},
   "outputs": [],
   "source": [
    "b_prime[7].collect(d_theta_L**2).collect(F_OT)"
   ]
  },
  {
   "cell_type": "markdown",
   "id": "informed-father",
   "metadata": {},
   "source": [
    "# Checking new dynamics"
   ]
  },
  {
   "cell_type": "code",
   "execution_count": null,
   "id": "through-algeria",
   "metadata": {},
   "outputs": [],
   "source": [
    "a_LNd = sp.symbols(\"a_{LNd}\")\n",
    "a_LNd"
   ]
  },
  {
   "cell_type": "code",
   "execution_count": null,
   "id": "center-exhibit",
   "metadata": {},
   "outputs": [],
   "source": [
    "F_CN_idx = list(x).index(F_CN)\n",
    "F_CN_exp = b_prime[F_CN_idx] - (A_prime@x)[F_CN_idx].coeff(a_LN)*a_LNd\n",
    "N_a_LN_exp = (A_prime@x)[F_CN_idx,0].coeff(a_LN).expand()\n",
    "alpha_mu_exp = N_a_LN_exp.coeff(mu)\n",
    "alpha_exp = (N_a_LN_exp - N_a_LN_exp.coeff(mu)*mu).simplify()\n",
    "N_rhs_exp = (b_prime)[F_CN_idx,0].expand()\n",
    "gamma_Fmu_exp = N_rhs_exp.collect(mu*F_ON).coeff(mu*F_ON)\n",
    "N_rhs_exp  = (N_rhs_exp - gamma_Fmu_exp*mu*F_ON).simplify().expand()\n",
    "gamma_mu_exp = N_rhs_exp.collect(mu).coeff(mu)\n",
    "gamma_F_exp = N_rhs_exp.collect(F_ON).coeff(F_ON)\n",
    "gamma_tau_exp = N_rhs_exp.collect(tau_O).coeff(tau_O)\n",
    "gamma_exp = (N_rhs_exp - gamma_mu_exp*mu - gamma_F_exp*F_ON-gamma_tau_exp*tau_O).simplify()\n",
    "\n",
    "\n",
    "F_CT_idx = list(x).index(F_CT)\n",
    "T_a_LN_exp = (A_prime@x)[F_CT_idx,0].coeff(a_LN).expand()\n",
    "f_mu_exp = T_a_LN_exp.coeff(mu)\n",
    "f_exp = (T_a_LN_exp - T_a_LN_exp.coeff(mu)*mu).simplify()\n",
    "T_rhs_exp = (b_prime)[F_CT_idx,0].expand()\n",
    "g_Fmu_exp = T_rhs_exp.collect(mu*F_ON).coeff(mu*F_ON)\n",
    "T_rhs_exp  = (T_rhs_exp - g_Fmu_exp*mu*F_ON).simplify().expand()\n",
    "g_mu_exp = T_rhs_exp.collect(mu).coeff(mu)\n",
    "g_F_exp = T_rhs_exp.collect(F_ON).coeff(F_ON)\n",
    "g_tau_exp = T_rhs_exp.collect(tau_O).coeff(tau_O)\n",
    "g_exp = (T_rhs_exp - g_mu_exp*mu - g_F_exp*F_ON-g_tau_exp*tau_O).simplify()"
   ]
  },
  {
   "cell_type": "code",
   "execution_count": null,
   "id": "smart-convention",
   "metadata": {},
   "outputs": [],
   "source": [
    "(f_mu_exp - (\n",
    "    mu_S*(-m_L-m_M+m_L*m_M*p_LCN*(-2*d_N + h_L + 2*r))/I_L\n",
    ")).simplify().collect(p_LCN)"
   ]
  },
  {
   "cell_type": "markdown",
   "id": "secondary-evolution",
   "metadata": {},
   "source": [
    "## Old version"
   ]
  },
  {
   "cell_type": "code",
   "execution_count": null,
   "id": "abstract-dining",
   "metadata": {},
   "outputs": [],
   "source": [
    "F_CN_idx = list(x).index(F_CN)\n",
    "N_a_LN_exp_old = (A_prime@x)[F_CN_idx,0].coeff(a_LN).expand()\n",
    "alpha_mu_exp_old = N_a_LN_exp_old.coeff(mu)\n",
    "alpha_exp_old = (N_a_LN_exp_old - N_a_LN_exp_old.coeff(mu)*mu).simplify()\n",
    "N_rhs_exp_old = (b_prime)[F_CN_idx,0].expand()\n",
    "gamma_mu_exp_old = N_rhs_exp_old.coeff(mu)\n",
    "gamma_exp_old = (N_rhs_exp_old - N_rhs_exp_old.coeff(mu)*mu).simplify()\n",
    "\n",
    "F_CT_idx = list(x).index(F_CT)\n",
    "T_a_LN_exp_old = (A_prime@x)[F_CT_idx,0].coeff(a_LN).expand()\n",
    "f_mu_exp_old = T_a_LN_exp_old.coeff(mu)\n",
    "f_exp_old = (T_a_LN_exp_old - T_a_LN_exp_old.coeff(mu)*mu).simplify()\n",
    "T_rhs_exp_old = (b_prime)[F_CT_idx,0].expand()\n",
    "g_mu_exp_old = T_rhs_exp_old.coeff(mu)\n",
    "g_exp_old = (T_rhs_exp_old - T_rhs_exp_old.coeff(mu)*mu).simplify()\n",
    "\n",
    "tau_M_idx = list(x).index(tau_M)\n",
    "tau_M_exp_old = b_prime[F_CT_idx] - (A_prime@x)[F_CT_idx].coeff(a_LN)*a_LNd"
   ]
  },
  {
   "cell_type": "code",
   "execution_count": null,
   "id": "downtown-melissa",
   "metadata": {},
   "outputs": [],
   "source": [
    "f_mu_exp - f_mu_exp_old"
   ]
  },
  {
   "cell_type": "code",
   "execution_count": null,
   "id": "floral-screening",
   "metadata": {},
   "outputs": [],
   "source": [
    "f_exp - f_exp_old"
   ]
  },
  {
   "cell_type": "code",
   "execution_count": null,
   "id": "suffering-declaration",
   "metadata": {},
   "outputs": [],
   "source": [
    "alpha_mu_exp - alpha_mu_exp_old"
   ]
  },
  {
   "cell_type": "code",
   "execution_count": null,
   "id": "statistical-jefferson",
   "metadata": {},
   "outputs": [],
   "source": [
    "alpha_exp - alpha_exp_old"
   ]
  },
  {
   "cell_type": "code",
   "execution_count": null,
   "id": "blond-qualification",
   "metadata": {},
   "outputs": [],
   "source": [
    "(g_Fmu_exp*F_ON + g_mu_exp - g_mu_exp_old).simplify()"
   ]
  },
  {
   "cell_type": "code",
   "execution_count": null,
   "id": "veterinary-scene",
   "metadata": {},
   "outputs": [],
   "source": [
    "g+"
   ]
  },
  {
   "cell_type": "code",
   "execution_count": null,
   "id": "british-novel",
   "metadata": {},
   "outputs": [],
   "source": [
    "g_Fmu_exp.collect(mu_S).collect(m_M/I_L)"
   ]
  },
  {
   "cell_type": "markdown",
   "id": "enhanced-ballet",
   "metadata": {},
   "source": [
    "# Dynamics\n",
    "For each equation, we want $\\alpha_\\theta(t,\\cdot)\\ddot\\theta_L+\\alpha_x(t,\\cdot)\\ddot x + \\beta(t,\\cdot)u = \\gamma(t,\\cdot)$, where $x$ is the thing we're trying to control and $u$ is the control input.\n",
    "## Simplify coefficients\n",
    "### $\\alpha/\\beta$ terms"
   ]
  },
  {
   "cell_type": "code",
   "execution_count": null,
   "id": "public-trauma",
   "metadata": {},
   "outputs": [],
   "source": [
    "p_MLN = sp.symbols(\"p_{MLN}\")\n",
    "p_MLN"
   ]
  },
  {
   "cell_type": "code",
   "execution_count": null,
   "id": "criminal-composition",
   "metadata": {},
   "outputs": [],
   "source": [
    "(A_prime@x)"
   ]
  },
  {
   "cell_type": "code",
   "execution_count": null,
   "id": "critical-reduction",
   "metadata": {},
   "outputs": [],
   "source": [
    "lhss = (A_prime@x)[-5:-2,:]\n",
    "lhss"
   ]
  },
  {
   "cell_type": "code",
   "execution_count": null,
   "id": "choice-sauce",
   "metadata": {},
   "outputs": [],
   "source": [
    "rhss = (b_prime)[-5:-2,:]\n",
    "rhss"
   ]
  },
  {
   "cell_type": "code",
   "execution_count": null,
   "id": "distinguished-optimization",
   "metadata": {},
   "outputs": [],
   "source": [
    "(A_prime@x)[list(x).index(F_CN),0].coeff(a_LN).expand().coeff(mu)"
   ]
  },
  {
   "cell_type": "markdown",
   "id": "dress-conviction",
   "metadata": {},
   "source": [
    "## $F_{CN}$"
   ]
  },
  {
   "cell_type": "code",
   "execution_count": null,
   "id": "central-prague",
   "metadata": {},
   "outputs": [],
   "source": [
    "lhss"
   ]
  },
  {
   "cell_type": "code",
   "execution_count": null,
   "id": "indirect-baghdad",
   "metadata": {},
   "outputs": [],
   "source": [
    "term = lhss[1].coeff(a_LN)\n",
    "term = term.expand()\n",
    "term = term.collect(mu*mu_S*p_LCN)\n",
    "term = term.collect(p_LCT).collect(m_L*m_M/I_L).subs(d_T + w_L/2, p_LCT)\n",
    "term = term.expand()\n",
    "term.collect(mu*mu_S)\n",
    "alpha_mu = term.coeff(mu)\n",
    "alpha_mu\n",
    "alpha = term - alpha_mu*mu\n",
    "alpha"
   ]
  },
  {
   "cell_type": "code",
   "execution_count": null,
   "id": "indie-quarter",
   "metadata": {},
   "outputs": [],
   "source": [
    "print(sp.latex(alpha_mu))"
   ]
  },
  {
   "cell_type": "code",
   "execution_count": null,
   "id": "suspected-county",
   "metadata": {},
   "outputs": [],
   "source": [
    "# term = lhss[1].coeff(a_LN)\n",
    "# num, denom = sp.fraction(term)\n",
    "# num = num.collect(m_L*m_M*mu*mu_S*p_LCN)\n",
    "# num = num.collect(m_L*m_M*p_LCT)\n",
    "# num = num.subs(2*d_T + w_L, 2*p_LCT)\n",
    "# num = num.collect(2*m_L*m_M*p_LCT)\n",
    "# num /= 2\n",
    "# denom /= 2\n",
    "# out_term = 0\n",
    "# for arg in sp.Add.make_args(num):\n",
    "#     out_term += arg/denom\n",
    "# f = out_term\n",
    "# f"
   ]
  },
  {
   "cell_type": "code",
   "execution_count": null,
   "id": "attractive-asian",
   "metadata": {},
   "outputs": [],
   "source": []
  },
  {
   "cell_type": "code",
   "execution_count": null,
   "id": "liquid-interview",
   "metadata": {},
   "outputs": [],
   "source": [
    "term = rhss[1]\n",
    "num, denom = sp.fraction(term)\n",
    "num = num.collect(w_L)\n",
    "num = num.collect(num.coeff(w_L)).collect(2*d_T)\n",
    "factor = num.coeff(w_L) + 2*F_ON*d_T*m_M\n",
    "num = num.expand()\n",
    "num += 2*F_ON*d_T*m_M*w_L\n",
    "num = num.collect(w_L).collect(2*d_T).collect(factor).subs(w_L + 2*d_T, 2*p_LCT)\n",
    "num -= F_ON*d_T*m_M*w_L\n",
    "num = num.expand()\n",
    "num /= 2\n",
    "denom /= 2\n",
    "num = num.collect(mu*mu_S)\n",
    "num_mu = num.coeff(mu*mu_S)\n",
    "num_no_mu = num - num_mu*mu*mu_S\n",
    "num_mu = num_mu.factor()\n",
    "num_no_mu = num_no_mu.collect(F_ON).collect(m_M*I_L*d_theta_L**2).subs(-2*d_N + h_L + 2*r, p_MLN).collect(-2*F_GN)\n",
    "gamma = 0\n",
    "for arg in sp.Add.make_args(num_no_mu):\n",
    "    gamma += arg/denom\n",
    "gamma"
   ]
  },
  {
   "cell_type": "code",
   "execution_count": null,
   "id": "considered-phrase",
   "metadata": {},
   "outputs": [],
   "source": [
    "gamma_mu = num_mu/denom\n",
    "gamma_mu"
   ]
  },
  {
   "cell_type": "code",
   "execution_count": null,
   "id": "funny-database",
   "metadata": {},
   "outputs": [],
   "source": [
    "print(sp.latex(gamma))"
   ]
  },
  {
   "cell_type": "markdown",
   "id": "furnished-school",
   "metadata": {},
   "source": [
    "## $F_{CT}$"
   ]
  },
  {
   "cell_type": "code",
   "execution_count": null,
   "id": "focused-rocket",
   "metadata": {},
   "outputs": [],
   "source": [
    "term = lhss[0].coeff(a_LN)\n",
    "num, denom = sp.fraction(term)\n",
    "num\n",
    "num = num.collect(m_L*m_M*mu*mu_S*p_LCN)\n",
    "num = num.collect(m_L*m_M*p_LCT)\n",
    "num = num.subs(-2*d_N + h_L + 2*r, 2*p_MLN)\n",
    "num = num.collect(2*m_L*m_M*p_MLN)\n",
    "num /= 2\n",
    "denom /= 2\n",
    "out_term = 0\n",
    "for arg in sp.Add.make_args(num):\n",
    "    out_term += arg/denom\n",
    "f = out_term\n",
    "f"
   ]
  },
  {
   "cell_type": "code",
   "execution_count": null,
   "id": "owned-compatibility",
   "metadata": {},
   "outputs": [],
   "source": [
    "print(sp.latex(f.expand().collect(mu*mu_S)))"
   ]
  },
  {
   "cell_type": "code",
   "execution_count": null,
   "id": "secure-logic",
   "metadata": {},
   "outputs": [],
   "source": [
    "g = rhss[0].expand()#.collect(mu*mu_S).coeff(mu*mu_S)\n",
    "num, denom = sp.fraction(g)\n",
    "num = num.collect(d_N).collect(h_L/2).collect(r).collect(num.coeff(d_N)).subs(-d_N + h_L/2 + r, p_MLN)\n",
    "num = num.expand()\n",
    "num\n",
    "num_mu = num.coeff(mu*mu_S)\n",
    "num_mu = num_mu.collect(mu*mu_S).collect(F_GN).collect(F_ON).collect(num_mu.coeff(F_ON))\n",
    "num_no_mu = (num - num_mu*mu*mu_S).expand()\n",
    "num_no_mu = num_no_mu.collect(m_M*d_theta_L**2).subs(d_T + w_L/2, p_LCT)\n",
    "num_no_mu = num_no_mu.collect(m_M/m_L).collect(F_ON).collect(F_GN).collect(m_M)\n",
    "num_no_mu = num_no_mu.collect(p_MLN/I_L)\n",
    "g = num_no_mu\n",
    "g\n",
    "# num.collect(mu*mu_S).collect(F_GN).collect(F_ON).collect(num.coeff(F_ON))#.collect(m_M*p_MLN/I_L)\n",
    "# num = num.expand()\n",
    "# num.collect(F_GN).collect(F_ON).collect(num.coeff(F_ON))"
   ]
  },
  {
   "cell_type": "code",
   "execution_count": null,
   "id": "included-lebanon",
   "metadata": {},
   "outputs": [],
   "source": [
    "print(sp.latex(g))"
   ]
  },
  {
   "cell_type": "code",
   "execution_count": null,
   "id": "exotic-fetish",
   "metadata": {},
   "outputs": [],
   "source": [
    "g_mu = num_mu*mu_S\n",
    "g_mu"
   ]
  },
  {
   "cell_type": "code",
   "execution_count": null,
   "id": "distant-challenge",
   "metadata": {},
   "outputs": [],
   "source": [
    "print(sp.latex(g_mu))"
   ]
  },
  {
   "cell_type": "code",
   "execution_count": null,
   "id": "explicit-party",
   "metadata": {},
   "outputs": [],
   "source": [
    "# (rhss[0] - g - g*mu*mu_S).simplify()"
   ]
  }
 ],
 "metadata": {
  "kernelspec": {
   "display_name": "Python 3",
   "language": "python",
   "name": "python3"
  },
  "language_info": {
   "codemirror_mode": {
    "name": "ipython",
    "version": 3
   },
   "file_extension": ".py",
   "mimetype": "text/x-python",
   "name": "python",
   "nbconvert_exporter": "python",
   "pygments_lexer": "ipython3",
   "version": "3.9.2"
  }
 },
 "nbformat": 4,
 "nbformat_minor": 5
}
