{
 "cells": [
  {
   "cell_type": "code",
   "execution_count": null,
   "id": "organizational-writer",
   "metadata": {},
   "outputs": [],
   "source": [
    "import sympy as sp\n",
    "import numpy as np\n",
    "from IPython.display import display, Math, Latex\n",
    "from sympy.utilities.lambdify import lambdify"
   ]
  },
  {
   "cell_type": "markdown",
   "id": "coupled-facility",
   "metadata": {},
   "source": [
    "# Loading variables"
   ]
  },
  {
   "cell_type": "code",
   "execution_count": null,
   "id": "iraqi-granny",
   "metadata": {},
   "outputs": [],
   "source": [
    "m_L = sp.symbols(r\"m_L\")\n",
    "m_M = sp.symbols(r\"m_M\")\n",
    "w_L = sp.symbols(r\"w_L\")\n",
    "I_L = sp.symbols(r\"I_L\")\n",
    "h_L = sp.symbols(r\"h_L\")\n",
    "r = sp.symbols(r\"r\")\n",
    "I_M = sp.symbols(r\"I_M\")"
   ]
  },
  {
   "cell_type": "code",
   "execution_count": null,
   "id": "charitable-wisdom",
   "metadata": {},
   "outputs": [],
   "source": [
    "# Friction coefficients\n",
    "mu = sp.symbols(r\"\\mu\")\n",
    "mu_S = sp.symbols(r\"\\mu_{S}\")\n",
    "\n",
    "# System gains\n",
    "b_J = sp.symbols(r\"b_J\")\n",
    "k_J = sp.symbols(r\"k_J\")"
   ]
  },
  {
   "cell_type": "code",
   "execution_count": null,
   "id": "static-growing",
   "metadata": {},
   "outputs": [],
   "source": [
    "# Positions\n",
    "p_CN = sp.symbols(r\"p_{CN}\")\n",
    "p_CT = sp.symbols(r\"p_{CT}\")\n",
    "p_MN = sp.symbols(r\"p_{MN}\")\n",
    "p_LN = sp.symbols(r\"p_{LN}\")\n",
    "p_LT = sp.symbols(r\"p_{LT}\")\n",
    "theta_L = sp.symbols(r\"\\theta_L\")\n",
    "d_T = sp.symbols(r\"d_T\")\n",
    "d_N = sp.symbols(r\"d_N\")\n",
    "\n",
    "# p_C - p_L\n",
    "p_LCN = sp.symbols(r\"p_{LCN}\")\n",
    "p_LCT = sp.symbols(r\"p_{LCT}\")\n",
    "\n",
    "# p_C - p_M\n",
    "p_MCN = sp.symbols(r\"p_{MCN}\")\n",
    "p_MCT = sp.symbols(r\"p_{MCT}\")\n",
    "\n",
    "# Velocities\n",
    "v_MN = sp.symbols(r\"v_{MN}\")\n",
    "v_MT = sp.symbols(r\"v_{MT}\")\n",
    "v_LN = sp.symbols(r\"v_{LN}\")\n",
    "v_LT = sp.symbols(r\"v_{LT}\")\n",
    "d_theta_L = sp.symbols(r\"\\dot\\theta_L\")\n",
    "d_theta_M = sp.symbols(r\"\\dot\\theta_M\")\n",
    "d_d_T = sp.symbols(r\"\\dot{d}_T\")\n",
    "d_d_N = sp.symbols(r\"\\dot{d}_N\")"
   ]
  },
  {
   "cell_type": "code",
   "execution_count": null,
   "id": "corporate-direction",
   "metadata": {},
   "outputs": [],
   "source": [
    "# Input forces\n",
    "F_GT = sp.symbols(r\"F_{GT}\")\n",
    "F_GN = sp.symbols(r\"F_{GN}\")\n",
    "F_OT, F_ON, tau_O = sp.symbols(r\"F_{OT}, F_{ON} \\tau_O\")\n",
    "\n",
    "# Control inputs\n",
    "dd_theta_Ld = sp.symbols(r\"\\ddot\\theta_{Ld}\")\n",
    "dd_d_Nd = sp.symbols(r\"\\ddot{d}_{Nd}\")\n",
    "dd_d_Td = sp.symbols(r\"\\ddot{d}_{Td}\")\n",
    "dd_theta_Md = sp.symbols(r\"\\ddot\\theta_{Md}\")\n",
    "\n",
    "outputs = [\n",
    "    a_LT, a_MT, a_MN, F_NM, F_FL, F_FM, F_NL, F_CT, F_CN, tau_M, dd_theta_L, a_LN, dd_theta_M, dd_d_N, dd_d_T\n",
    "] = sp.symbols(\n",
    "    r\"a_{LT}, a_{MT}, a_{MN}, F_{NM}, F_{FL}, F_{FM}, F_{NL}, F_{CT}, F_{CN}, \\tau_M, \\ddot\\theta_L, a_{LN}, \\ddot\\theta_M, \\ddot{d}_N, \\ddot{d}_T\"\n",
    ")\n",
    "\n",
    "outputs = list(outputs)"
   ]
  },
  {
   "cell_type": "markdown",
   "id": "martial-community",
   "metadata": {},
   "source": [
    "## Differentiation of $\\vec d$"
   ]
  },
  {
   "cell_type": "code",
   "execution_count": null,
   "id": "medieval-delhi",
   "metadata": {},
   "outputs": [],
   "source": [
    "t = sp.symbols(\"t\")\n",
    "theta_L_func = sp.Function(r'\\theta_L')(t)\n",
    "N_hat = sp.Function(r'\\hat N')(theta_L_func)\n",
    "T_hat = sp.Function(r'\\hat T')(theta_L_func)\n",
    "\n",
    "d_T_func = sp.Function(r\"d_T\")(t)\n",
    "d_N_func = sp.Function(r\"d_N\")(t)\n",
    "d_g = d_T_func*T_hat + d_N_func*N_hat\n",
    "\n",
    "d_vel_g = sp.diff(d_g, t)\n",
    "\n",
    "d_vel_g = d_vel_g.subs(sp.diff(N_hat, t), -\n",
    "                       sp.diff(theta_L_func, t)*T_hat)\n",
    "d_vel_g = d_vel_g.subs(\n",
    "    sp.diff(T_hat, t), sp.diff(theta_L_func, t)*N_hat)\n",
    "\n",
    "d_acc_g = sp.diff(d_vel_g, t)\n",
    "d_acc_g = d_acc_g.subs(sp.diff(N_hat, t), -\n",
    "                       sp.diff(theta_L_func, t)*T_hat)\n",
    "d_acc_g = d_acc_g.subs(\n",
    "    sp.diff(T_hat, t), sp.diff(theta_L_func, t)*N_hat)\n",
    "\n",
    "d_acc_cos_g = d_acc_g\n",
    "d_acc_cos_g = d_acc_cos_g.subs(sp.diff(theta_L_func, t, t), dd_theta_L)\n",
    "d_acc_cos_g = d_acc_cos_g.subs(sp.diff(d_T_func, t, t), dd_d_T)\n",
    "d_acc_cos_g = d_acc_cos_g.subs(sp.diff(d_N_func, t, t), dd_d_N)\n",
    "d_acc_cos_g = d_acc_cos_g.subs(sp.diff(theta_L_func, t), d_theta_L)\n",
    "d_acc_cos_g = d_acc_cos_g.subs(sp.diff(d_T_func, t), d_d_T)\n",
    "d_acc_cos_g = d_acc_cos_g.subs(sp.diff(d_N_func, t), d_d_N)\n",
    "d_acc_cos_g = d_acc_cos_g.subs(d_T_func, d_T)\n",
    "d_acc_cos_g = d_acc_cos_g.subs(d_N_func, d_N)"
   ]
  },
  {
   "cell_type": "code",
   "execution_count": null,
   "id": "martial-complexity",
   "metadata": {},
   "outputs": [],
   "source": [
    "dd_d_g_T = d_acc_cos_g.subs(N_hat, 0).subs(T_hat, 1)\n",
    "dd_d_g_T"
   ]
  },
  {
   "cell_type": "code",
   "execution_count": null,
   "id": "broad-spray",
   "metadata": {},
   "outputs": [],
   "source": [
    "dd_d_g_N = d_acc_cos_g.subs(T_hat, 0).subs(N_hat, 1)\n",
    "dd_d_g_N"
   ]
  },
  {
   "cell_type": "code",
   "execution_count": null,
   "id": "resident-extra",
   "metadata": {},
   "outputs": [],
   "source": [
    "p_M_func = sp.Function(r\"p_M\")(t)\n",
    "p_L_func = sp.Function(r\"p_L\")(t)\n",
    "v_M = sp.symbols(r\"v_M\")\n",
    "v_L = sp.symbols(r\"v_L\")\n",
    "d_s = (p_M_func + r*N_hat) - (p_L_func + (w_L/2)*T_hat - (h_L/2)*N_hat)\n",
    "\n",
    "d_vel_s = sp.diff(d_s, t)\n",
    "d_vel_s = d_vel_s.subs(sp.diff(N_hat, t), -\n",
    "                       sp.diff(theta_L_func, t)*T_hat)\n",
    "d_vel_s = d_vel_s.subs(\n",
    "    sp.diff(T_hat, t), sp.diff(theta_L_func, t)*N_hat)\n",
    "\n",
    "d_acc_s = sp.diff(d_vel_s, t)\n",
    "d_acc_s = d_acc_s.subs(sp.diff(N_hat, t), -\n",
    "                       sp.diff(theta_L_func, t)*T_hat)\n",
    "d_acc_s = d_acc_s.subs(\n",
    "    sp.diff(T_hat, t), sp.diff(theta_L_func, t)*N_hat)\n",
    "\n",
    "d_acc_cos_s = d_acc_s\n",
    "d_acc_cos_s = d_acc_cos_s.subs(sp.diff(theta_L_func, t, t), dd_theta_L)\n",
    "d_acc_cos_s = d_acc_cos_s.subs(sp.diff(d_T_func, t, t), dd_d_T)\n",
    "d_acc_cos_s = d_acc_cos_s.subs(sp.diff(d_N_func, t, t), dd_d_N)\n",
    "d_acc_cos_s = d_acc_cos_s.subs(sp.diff(theta_L_func, t), d_theta_L)\n",
    "d_acc_cos_s = d_acc_cos_s.subs(sp.diff(d_T_func, t), d_d_T)\n",
    "d_acc_cos_s = d_acc_cos_s.subs(sp.diff(d_N_func, t), d_d_N)\n",
    "d_acc_cos_s = d_acc_cos_s.subs(d_T_func, d_T)\n",
    "d_acc_cos_s = d_acc_cos_s.subs(d_N_func, d_N)"
   ]
  },
  {
   "cell_type": "code",
   "execution_count": null,
   "id": "pressed-animation",
   "metadata": {},
   "outputs": [],
   "source": [
    "dd_d_s_T = d_acc_cos_s.subs(N_hat, 0).subs(T_hat, 1)\n",
    "dd_d_s_T = dd_d_s_T.subs(sp.diff(p_M_func, t, t), a_MT)\n",
    "dd_d_s_T = dd_d_s_T.subs(sp.diff(p_L_func, t, t), a_LT)\n",
    "dd_d_s_T"
   ]
  },
  {
   "cell_type": "code",
   "execution_count": null,
   "id": "indian-discretion",
   "metadata": {},
   "outputs": [],
   "source": [
    "dd_d_s_T.subs(sp.diff(p_M_func, t, t), a_MT)"
   ]
  },
  {
   "cell_type": "code",
   "execution_count": null,
   "id": "subsequent-ceremony",
   "metadata": {},
   "outputs": [],
   "source": [
    "dd_d_s_N = d_acc_cos_s.subs(T_hat, 0).subs(N_hat, 1)\n",
    "dd_d_s_N = dd_d_s_N.subs(sp.diff(p_M_func, t, t), a_MN)\n",
    "dd_d_s_N = dd_d_s_N.subs(sp.diff(p_L_func, t, t), a_LN)\n",
    "dd_d_s_N"
   ]
  },
  {
   "cell_type": "markdown",
   "id": "organizational-kidney",
   "metadata": {},
   "source": [
    "# Setting up equations and matrices"
   ]
  },
  {
   "cell_type": "code",
   "execution_count": null,
   "id": "tropical-closing",
   "metadata": {},
   "outputs": [],
   "source": [
    "nat_eqs = [\n",
    "    # Link tangential force balance\n",
    "    [m_L*a_LT, F_FL+F_GT+F_OT],\n",
    "    # Link normal force balance\n",
    "    [m_L*a_LN, F_NL + F_GN + F_ON, ],\n",
    "    # Manipulator tangential force balance\n",
    "    [m_M*a_MT, F_FM + F_CT, ],\n",
    "    # Manipulator normal force balance\n",
    "    [m_M*a_MN, F_NM+F_CN, ],\n",
    "    # Link moment balance\n",
    "    [I_L*dd_theta_L, (-w_L/2)*F_ON - (p_LCN) * \\\n",
    "     F_FL + (p_LCT)*F_NL + tau_O, ],\n",
    "    # Manipulator moment balance\n",
    "    [I_M*dd_theta_M, tau_M-F_FM*(p_MCN), ],\n",
    "    # 3rd law normal forces\n",
    "    [F_NL, -F_NM],\n",
    "    # Friction relationship L\n",
    "    [F_FL, mu*mu_S*F_NL],\n",
    "    # Friction relationship M\n",
    "    [F_FM, -F_FL],\n",
    "    # d_T derivative is derivative\n",
    "    [dd_d_s_T, dd_d_g_T],\n",
    "    # d_N derivative is derivative\n",
    "    [dd_d_s_N, dd_d_g_N],\n",
    "    # dd_d_N = 0 in real life assuming we're in contact\n",
    "    [dd_d_N, 0],\n",
    "]\n",
    "\n",
    "art_eqs = [\n",
    "#     [dd_d_N, dd_d_Nd],\n",
    "#     [dd_d_T, dd_d_Td],\n",
    "#     [dd_theta_L, dd_theta_Ld],\n",
    "#     [dd_theta_M, dd_theta_Md],\n",
    "]\n",
    "\n",
    "env_eqs = nat_eqs + art_eqs"
   ]
  },
  {
   "cell_type": "code",
   "execution_count": null,
   "id": "large-cruise",
   "metadata": {},
   "outputs": [],
   "source": [
    "dd_d_s_N"
   ]
  },
  {
   "cell_type": "code",
   "execution_count": null,
   "id": "devoted-glucose",
   "metadata": {},
   "outputs": [],
   "source": [
    "out_str = r\"\\begin{aligned}\"\n",
    "for eq in env_eqs:\n",
    "    out_str += sp.latex(eq[0]) + r\" &= \" + sp.latex(eq[1]) + r\" \\\\\" + \"\\n\"\n",
    "out_str += \"\\end{aligned}\"\n",
    "display(Math(out_str))"
   ]
  },
  {
   "cell_type": "code",
   "execution_count": null,
   "id": "adult-produce",
   "metadata": {},
   "outputs": [],
   "source": [
    "env_eqs[10][0]-a_MN"
   ]
  },
  {
   "cell_type": "code",
   "execution_count": null,
   "id": "irish-olympus",
   "metadata": {},
   "outputs": [],
   "source": [
    "env_eqs[7]"
   ]
  },
  {
   "cell_type": "code",
   "execution_count": null,
   "id": "oriented-madagascar",
   "metadata": {},
   "outputs": [],
   "source": [
    "eq_idxs = {3, 10, 1, 6, 7, 4}\n",
    "out_str = r\"\\begin{aligned}\"\n",
    "for i, eq in enumerate(env_eqs):\n",
    "    if i in eq_idxs:\n",
    "        out_str += sp.latex(eq[0]) + r\" &= \" + sp.latex(eq[1]) + r\" \\\\\" + \"\\n\"\n",
    "out_str += \"\\end{aligned}\"\n",
    "display(Math(out_str))"
   ]
  },
  {
   "cell_type": "code",
   "execution_count": null,
   "id": "natural-shame",
   "metadata": {},
   "outputs": [],
   "source": [
    "A = []\n",
    "b = []\n",
    "for lhs, rhs in env_eqs:\n",
    "    A_row = []\n",
    "    b_term = rhs - lhs\n",
    "    for output_term in outputs:\n",
    "        try:\n",
    "            coeff_L = lhs.coeff(output_term)\n",
    "        except AttributeError:\n",
    "            coeff_L = 0\n",
    "        try:\n",
    "            coeff_R = rhs.coeff(output_term)\n",
    "        except AttributeError:\n",
    "            coeff_R = 0\n",
    "        coeff = coeff_L - coeff_R\n",
    "        A_row.append(coeff)\n",
    "        b_term += coeff * output_term\n",
    "    A.append(A_row)\n",
    "    b.append(b_term)\n",
    "A = sp.SparseMatrix(A)\n",
    "A.simplify()\n",
    "b = sp.Matrix([b]).T\n",
    "b.simplify()\n",
    "x = sp.Matrix([outputs]).T\n",
    "x.simplify()"
   ]
  },
  {
   "cell_type": "code",
   "execution_count": null,
   "id": "planned-cameroon",
   "metadata": {},
   "outputs": [],
   "source": [
    "A_aug = A.row_join(b)\n",
    "results = A_aug.rref()[0]\n",
    "A_prime = results[:, :-1]\n",
    "b_prime = results[:, -1]"
   ]
  },
  {
   "cell_type": "code",
   "execution_count": null,
   "id": "assured-potential",
   "metadata": {},
   "outputs": [],
   "source": [
    "A_prime"
   ]
  },
  {
   "cell_type": "code",
   "execution_count": null,
   "id": "czech-hunter",
   "metadata": {},
   "outputs": [],
   "source": [
    "A_prime@x"
   ]
  },
  {
   "cell_type": "markdown",
   "id": "enhanced-ballet",
   "metadata": {},
   "source": [
    "# Dynamics\n",
    "For each equation, we want $\\alpha_\\theta(t,\\cdot)\\ddot\\theta_L+\\alpha_x(t,\\cdot)\\ddot x + \\beta(t,\\cdot)u = \\gamma(t,\\cdot)$, where $x$ is the thing we're trying to control and $u$ is the control input.\n",
    "## Simplify coefficients\n",
    "### $\\alpha/\\beta$ terms"
   ]
  },
  {
   "cell_type": "code",
   "execution_count": null,
   "id": "public-trauma",
   "metadata": {},
   "outputs": [],
   "source": [
    "p_MLN = sp.symbols(\"p_{MLN}\")\n",
    "p_MLN"
   ]
  },
  {
   "cell_type": "code",
   "execution_count": null,
   "id": "comparable-mustang",
   "metadata": {},
   "outputs": [],
   "source": [
    "(A_prime@x)"
   ]
  },
  {
   "cell_type": "code",
   "execution_count": null,
   "id": "critical-reduction",
   "metadata": {},
   "outputs": [],
   "source": [
    "lhss = (A_prime@x)[-5:-2,:]\n",
    "lhss"
   ]
  },
  {
   "cell_type": "code",
   "execution_count": null,
   "id": "important-sacramento",
   "metadata": {},
   "outputs": [],
   "source": [
    "rhss = (b_prime)[-5:-2,:]\n",
    "rhss"
   ]
  },
  {
   "cell_type": "markdown",
   "id": "practical-alcohol",
   "metadata": {},
   "source": [
    "## $F_{CN}$"
   ]
  },
  {
   "cell_type": "code",
   "execution_count": null,
   "id": "sensitive-bikini",
   "metadata": {},
   "outputs": [],
   "source": [
    "lhss"
   ]
  },
  {
   "cell_type": "code",
   "execution_count": null,
   "id": "textile-armstrong",
   "metadata": {},
   "outputs": [],
   "source": [
    "term = lhss[1].coeff(a_LN)\n",
    "term = term.expand()\n",
    "term = term.collect(mu)\n",
    "term"
   ]
  }
 ],
 "metadata": {
  "kernelspec": {
   "display_name": "Python 3",
   "language": "python",
   "name": "python3"
  },
  "language_info": {
   "codemirror_mode": {
    "name": "ipython",
    "version": 3
   },
   "file_extension": ".py",
   "mimetype": "text/x-python",
   "name": "python",
   "nbconvert_exporter": "python",
   "pygments_lexer": "ipython3",
   "version": "3.9.2"
  }
 },
 "nbformat": 4,
 "nbformat_minor": 5
}
