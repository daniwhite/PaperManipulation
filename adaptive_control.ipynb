{
 "cells": [
  {
   "cell_type": "code",
   "execution_count": null,
   "id": "organizational-writer",
   "metadata": {},
   "outputs": [],
   "source": [
    "import sympy as sp\n",
    "import numpy as np\n",
    "from IPython.display import display, Math, Latex\n",
    "from sympy.utilities.lambdify import lambdify"
   ]
  },
  {
   "cell_type": "markdown",
   "id": "coupled-facility",
   "metadata": {},
   "source": [
    "# Loading variables"
   ]
  },
  {
   "cell_type": "code",
   "execution_count": null,
   "id": "iraqi-granny",
   "metadata": {},
   "outputs": [],
   "source": [
    "m_L = sp.symbols(r\"m_L\")\n",
    "m_M = sp.symbols(r\"m_M\")\n",
    "w_L = sp.symbols(r\"w_L\")\n",
    "I_L = sp.symbols(r\"I_L\")\n",
    "h_L = sp.symbols(r\"h_L\")\n",
    "r = sp.symbols(r\"r\")\n",
    "I_M = sp.symbols(r\"I_M\")"
   ]
  },
  {
   "cell_type": "code",
   "execution_count": null,
   "id": "charitable-wisdom",
   "metadata": {},
   "outputs": [],
   "source": [
    "# Friction coefficients\n",
    "mu = sp.symbols(r\"\\mu\")\n",
    "mu_S = sp.symbols(r\"\\mu_{S}\")\n",
    "\n",
    "# System gains\n",
    "b_J = sp.symbols(r\"b_J\")\n",
    "k_J = sp.symbols(r\"k_J\")"
   ]
  },
  {
   "cell_type": "code",
   "execution_count": null,
   "id": "static-growing",
   "metadata": {},
   "outputs": [],
   "source": [
    "# Positions\n",
    "p_CN = sp.symbols(r\"p_{CN}\")\n",
    "p_CT = sp.symbols(r\"p_{CT}\")\n",
    "p_MN = sp.symbols(r\"p_{MN}\")\n",
    "p_LN = sp.symbols(r\"p_{LN}\")\n",
    "p_LT = sp.symbols(r\"p_{LT}\")\n",
    "theta_L = sp.symbols(r\"\\theta_L\")\n",
    "d_T = sp.symbols(r\"d_T\")\n",
    "d_N = sp.symbols(r\"d_N\")\n",
    "\n",
    "# p_C - p_L\n",
    "p_LCN = sp.symbols(r\"p_{LCN}\")\n",
    "p_LCT = sp.symbols(r\"p_{LCT}\")\n",
    "\n",
    "# p_C - p_M\n",
    "p_MCN = sp.symbols(r\"p_{MCN}\")\n",
    "p_MCT = sp.symbols(r\"p_{MCT}\")\n",
    "\n",
    "# Velocities\n",
    "v_MN = sp.symbols(r\"v_{MN}\")\n",
    "v_MT = sp.symbols(r\"v_{MT}\")\n",
    "v_LN = sp.symbols(r\"v_{LN}\")\n",
    "v_LT = sp.symbols(r\"v_{LT}\")\n",
    "d_theta_L = sp.symbols(r\"\\dot\\theta_L\")\n",
    "d_theta_M = sp.symbols(r\"\\dot\\theta_M\")\n",
    "d_d_T = sp.symbols(r\"\\dot{d}_T\")\n",
    "d_d_N = sp.symbols(r\"\\dot{d}_N\")"
   ]
  },
  {
   "cell_type": "code",
   "execution_count": null,
   "id": "corporate-direction",
   "metadata": {},
   "outputs": [],
   "source": [
    "# Input forces\n",
    "F_GT = sp.symbols(r\"F_{GT}\")\n",
    "F_GN = sp.symbols(r\"F_{GN}\")\n",
    "F_OT, F_ON, tau_O = sp.symbols(r\"F_{OT}, F_{ON} \\tau_O\")\n",
    "\n",
    "# Control inputs\n",
    "dd_theta_Ld = sp.symbols(r\"\\ddot\\theta_{Ld}\")\n",
    "dd_d_Nd = sp.symbols(r\"\\ddot{d}_{Nd}\")\n",
    "dd_d_Td = sp.symbols(r\"\\ddot{d}_{Td}\")\n",
    "dd_theta_Md = sp.symbols(r\"\\ddot\\theta_{Md}\")\n",
    "\n",
    "outputs = [\n",
    "    a_LT, a_LN, a_MT, a_MN, F_NM, F_FL, F_FM, F_NL, F_CN, F_CT, tau_M, dd_theta_L, dd_theta_M, dd_d_N, dd_d_T\n",
    "] = sp.symbols(\n",
    "    r\"a_{LT}, a_{LN}, a_{MT}, a_{MN}, F_{NM}, F_{FL}, F_{FM}, F_{NL}, F_{CN}, F_{CT}, \\tau_M, \\ddot\\theta_L, \\ddot\\theta_M, \\ddot{d}_N, \\ddot{d}_T\"\n",
    ")\n",
    "\n",
    "outputs = list(outputs)"
   ]
  },
  {
   "cell_type": "code",
   "execution_count": null,
   "id": "mental-canyon",
   "metadata": {},
   "outputs": [],
   "source": [
    "a_LT"
   ]
  },
  {
   "cell_type": "markdown",
   "id": "martial-community",
   "metadata": {},
   "source": [
    "## Differentiation of $\\vec d$"
   ]
  },
  {
   "cell_type": "code",
   "execution_count": null,
   "id": "medieval-delhi",
   "metadata": {},
   "outputs": [],
   "source": [
    "t = sp.symbols(\"t\")\n",
    "theta_L_func = sp.Function(r'\\theta_L')(t)\n",
    "N_hat = sp.Function(r'\\hat N')(theta_L_func)\n",
    "T_hat = sp.Function(r'\\hat T')(theta_L_func)\n",
    "\n",
    "d_T_func = sp.Function(r\"d_T\")(t)\n",
    "d_N_func = sp.Function(r\"d_N\")(t)\n",
    "d_g = d_T_func*T_hat + d_N_func*N_hat\n",
    "\n",
    "d_vel_g = sp.diff(d_g, t)\n",
    "\n",
    "d_vel_g = d_vel_g.subs(sp.diff(N_hat, t), -\n",
    "                       sp.diff(theta_L_func, t)*T_hat)\n",
    "d_vel_g = d_vel_g.subs(\n",
    "    sp.diff(T_hat, t), sp.diff(theta_L_func, t)*N_hat)\n",
    "\n",
    "d_acc_g = sp.diff(d_vel_g, t)\n",
    "d_acc_g = d_acc_g.subs(sp.diff(N_hat, t), -\n",
    "                       sp.diff(theta_L_func, t)*T_hat)\n",
    "d_acc_g = d_acc_g.subs(\n",
    "    sp.diff(T_hat, t), sp.diff(theta_L_func, t)*N_hat)\n",
    "\n",
    "d_acc_cos_g = d_acc_g\n",
    "d_acc_cos_g = d_acc_cos_g.subs(sp.diff(theta_L_func, t, t), dd_theta_L)\n",
    "d_acc_cos_g = d_acc_cos_g.subs(sp.diff(d_T_func, t, t), dd_d_T)\n",
    "d_acc_cos_g = d_acc_cos_g.subs(sp.diff(d_N_func, t, t), dd_d_N)\n",
    "d_acc_cos_g = d_acc_cos_g.subs(sp.diff(theta_L_func, t), d_theta_L)\n",
    "d_acc_cos_g = d_acc_cos_g.subs(sp.diff(d_T_func, t), d_d_T)\n",
    "d_acc_cos_g = d_acc_cos_g.subs(sp.diff(d_N_func, t), d_d_N)\n",
    "d_acc_cos_g = d_acc_cos_g.subs(d_T_func, d_T)\n",
    "d_acc_cos_g = d_acc_cos_g.subs(d_N_func, d_N)"
   ]
  },
  {
   "cell_type": "code",
   "execution_count": null,
   "id": "martial-complexity",
   "metadata": {},
   "outputs": [],
   "source": [
    "dd_d_g_T = d_acc_cos_g.subs(N_hat, 0).subs(T_hat, 1)\n",
    "dd_d_g_T"
   ]
  },
  {
   "cell_type": "code",
   "execution_count": null,
   "id": "broad-spray",
   "metadata": {},
   "outputs": [],
   "source": [
    "dd_d_g_N = d_acc_cos_g.subs(T_hat, 0).subs(N_hat, 1)\n",
    "dd_d_g_N"
   ]
  },
  {
   "cell_type": "code",
   "execution_count": null,
   "id": "resident-extra",
   "metadata": {},
   "outputs": [],
   "source": [
    "p_M_func = sp.Function(r\"p_M\")(t)\n",
    "p_L_func = sp.Function(r\"p_L\")(t)\n",
    "v_M = sp.symbols(r\"v_M\")\n",
    "v_L = sp.symbols(r\"v_L\")\n",
    "d_s = (p_M_func + r*N_hat) - (p_L_func + (w_L/2)*T_hat - (h_L/2)*N_hat)\n",
    "\n",
    "d_vel_s = sp.diff(d_s, t)\n",
    "d_vel_s = d_vel_s.subs(sp.diff(N_hat, t), -\n",
    "                       sp.diff(theta_L_func, t)*T_hat)\n",
    "d_vel_s = d_vel_s.subs(\n",
    "    sp.diff(T_hat, t), sp.diff(theta_L_func, t)*N_hat)\n",
    "\n",
    "d_acc_s = sp.diff(d_vel_s, t)\n",
    "d_acc_s = d_acc_s.subs(sp.diff(N_hat, t), -\n",
    "                       sp.diff(theta_L_func, t)*T_hat)\n",
    "d_acc_s = d_acc_s.subs(\n",
    "    sp.diff(T_hat, t), sp.diff(theta_L_func, t)*N_hat)\n",
    "\n",
    "d_acc_cos_s = d_acc_s\n",
    "d_acc_cos_s = d_acc_cos_s.subs(sp.diff(theta_L_func, t, t), dd_theta_L)\n",
    "d_acc_cos_s = d_acc_cos_s.subs(sp.diff(d_T_func, t, t), dd_d_T)\n",
    "d_acc_cos_s = d_acc_cos_s.subs(sp.diff(d_N_func, t, t), dd_d_N)\n",
    "d_acc_cos_s = d_acc_cos_s.subs(sp.diff(theta_L_func, t), d_theta_L)\n",
    "d_acc_cos_s = d_acc_cos_s.subs(sp.diff(d_T_func, t), d_d_T)\n",
    "d_acc_cos_s = d_acc_cos_s.subs(sp.diff(d_N_func, t), d_d_N)\n",
    "d_acc_cos_s = d_acc_cos_s.subs(d_T_func, d_T)\n",
    "d_acc_cos_s = d_acc_cos_s.subs(d_N_func, d_N)"
   ]
  },
  {
   "cell_type": "code",
   "execution_count": null,
   "id": "pressed-animation",
   "metadata": {},
   "outputs": [],
   "source": [
    "dd_d_s_T = d_acc_cos_s.subs(N_hat, 0).subs(T_hat, 1)\n",
    "dd_d_s_T = dd_d_s_T.subs(sp.diff(p_M_func, t, t), a_MT)\n",
    "dd_d_s_T = dd_d_s_T.subs(sp.diff(p_L_func, t, t), a_LT)\n",
    "dd_d_s_T"
   ]
  },
  {
   "cell_type": "code",
   "execution_count": null,
   "id": "indian-discretion",
   "metadata": {},
   "outputs": [],
   "source": [
    "dd_d_s_T.subs(sp.diff(p_M_func, t, t), a_MT)"
   ]
  },
  {
   "cell_type": "code",
   "execution_count": null,
   "id": "subsequent-ceremony",
   "metadata": {},
   "outputs": [],
   "source": [
    "dd_d_s_N = d_acc_cos_s.subs(T_hat, 0).subs(N_hat, 1)\n",
    "dd_d_s_N = dd_d_s_N.subs(sp.diff(p_M_func, t, t), a_MN)\n",
    "dd_d_s_N = dd_d_s_N.subs(sp.diff(p_L_func, t, t), a_LN)\n",
    "dd_d_s_N"
   ]
  },
  {
   "cell_type": "markdown",
   "id": "organizational-kidney",
   "metadata": {},
   "source": [
    "# Setting up equations and matrices"
   ]
  },
  {
   "cell_type": "code",
   "execution_count": null,
   "id": "tropical-closing",
   "metadata": {},
   "outputs": [],
   "source": [
    "nat_eqs = [\n",
    "    # Link tangential force balance\n",
    "    [m_L*a_LT, F_FL+F_GT+F_OT],\n",
    "    # Link normal force balance\n",
    "    [m_L*a_LN, F_NL + F_GN + F_ON, ],\n",
    "    # Manipulator tangential force balance\n",
    "    [m_M*a_MT, F_FM + F_CT, ],\n",
    "    # Manipulator normal force balance\n",
    "    [m_M*a_MN, F_NM+F_CN, ],\n",
    "    # Link moment balance\n",
    "    [I_L*dd_theta_L, (-w_L/2)*F_ON - (p_LCN) * \\\n",
    "     F_FL + (p_LCT)*F_NL + tau_O, ],\n",
    "    # Manipulator moment balance\n",
    "    [I_M*dd_theta_M, tau_M-F_FM*(p_MCN), ],\n",
    "    # 3rd law normal forces\n",
    "    [F_NL, -F_NM],\n",
    "    # Friction relationship L\n",
    "    [F_FL, mu*mu_S*F_NL],\n",
    "    # Friction relationship M\n",
    "    [F_FM, -F_FL],\n",
    "    # d_T derivative is derivative\n",
    "    [dd_d_s_T, dd_d_g_T],\n",
    "    # d_N derivative is derivative\n",
    "    [dd_d_s_N, dd_d_g_N],\n",
    "    # dd_d_N = 0 in real life assuming we're in contact\n",
    "    [dd_d_N, 0],\n",
    "]\n",
    "\n",
    "art_eqs = [\n",
    "#     [dd_d_N, dd_d_Nd],\n",
    "#     [dd_d_T, dd_d_Td],\n",
    "#     [dd_theta_L, dd_theta_Ld],\n",
    "#     [dd_theta_M, dd_theta_Md],\n",
    "]\n",
    "\n",
    "env_eqs = nat_eqs + art_eqs"
   ]
  },
  {
   "cell_type": "code",
   "execution_count": null,
   "id": "large-cruise",
   "metadata": {},
   "outputs": [],
   "source": [
    "dd_d_s_N"
   ]
  },
  {
   "cell_type": "code",
   "execution_count": null,
   "id": "devoted-glucose",
   "metadata": {},
   "outputs": [],
   "source": [
    "out_str = r\"\\begin{aligned}\"\n",
    "for eq in env_eqs:\n",
    "    out_str += sp.latex(eq[0]) + r\" &= \" + sp.latex(eq[1]) + r\" \\\\\" + \"\\n\"\n",
    "out_str += \"\\end{aligned}\"\n",
    "display(Math(out_str))"
   ]
  },
  {
   "cell_type": "code",
   "execution_count": null,
   "id": "adult-produce",
   "metadata": {},
   "outputs": [],
   "source": [
    "env_eqs[10][0]-a_MN"
   ]
  },
  {
   "cell_type": "code",
   "execution_count": null,
   "id": "irish-olympus",
   "metadata": {},
   "outputs": [],
   "source": [
    "env_eqs[7]"
   ]
  },
  {
   "cell_type": "code",
   "execution_count": null,
   "id": "oriented-madagascar",
   "metadata": {},
   "outputs": [],
   "source": [
    "eq_idxs = {3, 10, 1, 6, 7, 4}\n",
    "out_str = r\"\\begin{aligned}\"\n",
    "for i, eq in enumerate(env_eqs):\n",
    "    if i in eq_idxs:\n",
    "        out_str += sp.latex(eq[0]) + r\" &= \" + sp.latex(eq[1]) + r\" \\\\\" + \"\\n\"\n",
    "out_str += \"\\end{aligned}\"\n",
    "display(Math(out_str))"
   ]
  },
  {
   "cell_type": "code",
   "execution_count": null,
   "id": "cross-ridge",
   "metadata": {},
   "outputs": [],
   "source": [
    "F_CN_exp = env_eqs[3][0] - (env_eqs[3][1] - F_CN) # Used eq  3\n",
    "F_CN_exp = F_CN_exp.subs(a_MN, env_eqs[10][1] - (env_eqs[10][0] - a_MN)).expand() # Used eq 10\n",
    "# F_CN_exp = F_CN_exp.collect(dd_theta_L)\n",
    "F_CN_exp = F_CN_exp.subs(a_LN, env_eqs[1][1]/m_L) # Used eq 1\n",
    "F_CN_exp = F_CN_exp.subs(F_NM, -F_NL).expand().collect(F_NL) # Use eq 6\n",
    "F_CN_exp = F_CN_exp.subs(F_NL, F_FL/(mu*mu_S)) # Mu cannot be zero, used eq 7\n",
    "F_FL_exp = (F_CN - (F_CN_exp - F_CN_exp.coeff(F_FL)*F_FL))/F_CN_exp.coeff(F_FL) # 1 + m_M/m_L cannot be zero\n",
    "F_FL_exp"
   ]
  },
  {
   "cell_type": "code",
   "execution_count": null,
   "id": "apart-chicago",
   "metadata": {},
   "outputs": [],
   "source": [
    "dd_theta_exp = env_eqs[4][1]/I_L # Used eq 4\n",
    "dd_theta_exp = dd_theta_exp.subs(I_L, (h_L**2+w_L**2)*m_L/12)\n",
    "# dd_theta_exp = dd_theta_exp.expand()\n",
    "dd_theta_exp = dd_theta_exp.subs(F_NL, F_FL/(mu*mu_S)) # Used eq 6 again\n",
    "dd_theta_exp.subs(F_FL, F_FL_exp).expand().collect(dd_theta_L).collect(F_CN)"
   ]
  },
  {
   "cell_type": "code",
   "execution_count": null,
   "id": "natural-shame",
   "metadata": {},
   "outputs": [],
   "source": [
    "A = []\n",
    "b = []\n",
    "for lhs, rhs in env_eqs:\n",
    "    A_row = []\n",
    "    b_term = rhs - lhs\n",
    "    for output_term in outputs:\n",
    "        try:\n",
    "            coeff_L = lhs.coeff(output_term)\n",
    "        except AttributeError:\n",
    "            coeff_L = 0\n",
    "        try:\n",
    "            coeff_R = rhs.coeff(output_term)\n",
    "        except AttributeError:\n",
    "            coeff_R = 0\n",
    "        coeff = coeff_L - coeff_R\n",
    "        A_row.append(coeff)\n",
    "        b_term += coeff * output_term\n",
    "    A.append(A_row)\n",
    "    b.append(b_term)\n",
    "A = sp.SparseMatrix(A)\n",
    "A.simplify()\n",
    "b = sp.Matrix([b]).T\n",
    "b.simplify()\n",
    "x = sp.Matrix([outputs]).T\n",
    "x.simplify()"
   ]
  },
  {
   "cell_type": "code",
   "execution_count": null,
   "id": "planned-cameroon",
   "metadata": {},
   "outputs": [],
   "source": [
    "A_aug = A.row_join(b)\n",
    "results = A_aug.rref()[0]\n",
    "A_prime = results[:, :-1]\n",
    "b_prime = results[:, -1]"
   ]
  },
  {
   "cell_type": "code",
   "execution_count": null,
   "id": "assured-potential",
   "metadata": {},
   "outputs": [],
   "source": [
    "A_prime"
   ]
  },
  {
   "cell_type": "markdown",
   "id": "enhanced-ballet",
   "metadata": {},
   "source": [
    "# Dynamics\n",
    "For each equation, we want $\\alpha_\\theta(t,\\cdot)\\ddot\\theta_L+\\alpha_x(t,\\cdot)\\ddot x + \\beta(t,\\cdot)u = \\gamma(t,\\cdot)$, where $x$ is the thing we're trying to control and $u$ is the control input.\n",
    "## Simplify coefficients\n",
    "### $\\alpha/\\beta$ terms"
   ]
  },
  {
   "cell_type": "code",
   "execution_count": null,
   "id": "public-trauma",
   "metadata": {},
   "outputs": [],
   "source": [
    "p_MLN = sp.symbols(\"p_{MLN}\")\n",
    "p_MLN"
   ]
  },
  {
   "cell_type": "code",
   "execution_count": null,
   "id": "critical-reduction",
   "metadata": {},
   "outputs": [],
   "source": [
    "lhss = (A_prime@x)[-4:-1,:]\n",
    "lhss"
   ]
  },
  {
   "cell_type": "code",
   "execution_count": null,
   "id": "innocent-maple",
   "metadata": {},
   "outputs": [],
   "source": [
    "term = lhss[0].coeff(dd_theta_L)\n",
    "num, denom = sp.fraction(term)\n",
    "denom = (denom/(2*m_L)).simplify()\n",
    "num = (num/(2*m_L)).simplify()\n",
    "num = num.collect(mu*mu_S*p_LCN).collect(p_LCT).collect(d_T*m_M+m_M*w_L/2).subs(d_T*m_M+m_M*w_L/2, m_M*p_LCT)\n",
    "out_term = 0\n",
    "for arg in sp.Add.make_args(num):\n",
    "    out_term  += (arg/denom).simplify()\n",
    "out_term0 = out_term.subs(I_L, (h_L**2+w_L**2)*m_L/12)\n",
    "out_term0 = out_term0.collect((h_L**2+w_L**2)/(12*denom)).collect(12)\n",
    "out_term0"
   ]
  },
  {
   "cell_type": "code",
   "execution_count": null,
   "id": "northern-consistency",
   "metadata": {},
   "outputs": [],
   "source": [
    "term = lhss[1].coeff(dd_theta_L)\n",
    "num, denom = sp.fraction(term)\n",
    "denom = (denom/(2*m_L)).simplify()\n",
    "num = (num/(2*m_L)).simplify()\n",
    "num = num.collect(mu*mu_S*p_LCN).collect(-p_LCT).collect((m_M*d_N-m_M*h_L/2-m_M*r))\n",
    "num = num.subs(-m_M*h_L/2 - m_M*r + m_M*d_N, -m_M*p_MLN)\n",
    "out_term = 0\n",
    "for arg in sp.Add.make_args(num):\n",
    "    out_term  += (arg/denom).simplify()\n",
    "out_term1 = out_term\n",
    "out_term1 = out_term1.subs(I_L, (h_L**2+w_L**2)*m_L/12).collect(mu_S*mu/(12*mu*mu_S*p_LCN - 12*p_LCT)).collect((h_L**2+w_L**2)).collect(12)\n",
    "\n",
    "out_term1_0 = sp.Add.make_args(out_term1)[1]\n",
    "num0, denom0 = sp.fraction(out_term1_0)\n",
    "num0 /= mu*mu_S\n",
    "denom0 /= mu*mu_S\n",
    "denom0 = denom0.simplify()\n",
    "out_term1 = out_term1 - out_term1_0\n",
    "out_term1 += num0/denom0\n",
    "out_term1 = out_term1.collect(12)\n",
    "out_term1"
   ]
  },
  {
   "cell_type": "code",
   "execution_count": null,
   "id": "virtual-treasury",
   "metadata": {},
   "outputs": [],
   "source": [
    "term = lhss[2].coeff(dd_theta_L)\n",
    "term"
   ]
  },
  {
   "cell_type": "markdown",
   "id": "lovely-spouse",
   "metadata": {},
   "source": [
    "### $\\gamma/\\beta$ terms"
   ]
  },
  {
   "cell_type": "code",
   "execution_count": null,
   "id": "lonely-methodology",
   "metadata": {},
   "outputs": [],
   "source": [
    "rhss = b_prime[-4:-1,:]\n",
    "rhss"
   ]
  },
  {
   "cell_type": "code",
   "execution_count": null,
   "id": "coordinate-bible",
   "metadata": {},
   "outputs": [],
   "source": [
    "term = rhss[0]\n",
    "num, denom = sp.fraction(term.simplify())\n",
    "num = num.collect(mu*mu_S*p_LCN)\n",
    "num = num.collect(p_LCT)\n",
    "num = num.collect(num.coeff(p_LCT)).collect(d_theta_L**2)\n",
    "num = num.subs(-m_L*m_M*h_L/2 - m_L*m_M*r + m_L*m_M*d_N, -m_L*m_M*p_MLN)\n",
    "num = num.collect(w_L/2).collect(-F_ON).collect(-tau_O).collect(m_L).collect(m_M)\n",
    "out_term = 0\n",
    "for i, arg in enumerate(sp.Add.make_args(num)):\n",
    "    arg_out = (arg/denom).simplify()\n",
    "    if i == 1:\n",
    "        arg_out = arg_out.expand()\n",
    "        arg_out = arg_out.collect(m_M)\n",
    "        arg_out = arg_out.collect(1/m_L)\n",
    "    out_term += arg_out\n",
    "out_term\n",
    "out_term"
   ]
  },
  {
   "cell_type": "code",
   "execution_count": null,
   "id": "impaired-editing",
   "metadata": {},
   "outputs": [],
   "source": [
    "term = rhss[1]\n",
    "num, denom = sp.fraction(term.simplify())\n",
    "num /= m_L\n",
    "num = num.expand()\n",
    "denom /= m_L\n",
    "num = num.collect(mu*mu_S*p_LCN).collect(-p_LCT).collect(num.coeff(mu*mu_S*p_LCN)).collect(mu*mu_S)\n",
    "out_term = 0\n",
    "for i, arg in enumerate(sp.Add.make_args(num)):\n",
    "    arg_out = (arg/denom)\n",
    "    out_term += arg_out\n",
    "out_term\n",
    "out_term.collect(tau_O).collect(F_ON).collect(w_L/2).collect(d_theta_L**2*m_M).subs(d_T + w_L/2, p_LCT).collect(m_M).collect(1+m_M/m_L)"
   ]
  },
  {
   "cell_type": "code",
   "execution_count": null,
   "id": "beneficial-victim",
   "metadata": {},
   "outputs": [],
   "source": [
    "num"
   ]
  },
  {
   "cell_type": "code",
   "execution_count": null,
   "id": "italian-transport",
   "metadata": {},
   "outputs": [],
   "source": [
    "denom"
   ]
  },
  {
   "cell_type": "code",
   "execution_count": null,
   "id": "radical-camcorder",
   "metadata": {},
   "outputs": [],
   "source": [
    "denom"
   ]
  },
  {
   "cell_type": "code",
   "execution_count": null,
   "id": "western-legislation",
   "metadata": {},
   "outputs": [],
   "source": [
    "sp.Add.make_args(num)[0]/denom"
   ]
  },
  {
   "cell_type": "code",
   "execution_count": null,
   "id": "cognitive-thanksgiving",
   "metadata": {},
   "outputs": [],
   "source": [
    "denom"
   ]
  },
  {
   "cell_type": "markdown",
   "id": "indoor-gallery",
   "metadata": {},
   "source": [
    "Actually... why do I want to formulate it like that? It only makes the problem harder.\n",
    "\n",
    "Wait no. We benefit from having a positive definite term on the terms we care about."
   ]
  },
  {
   "cell_type": "code",
   "execution_count": null,
   "id": "independent-academy",
   "metadata": {},
   "outputs": [],
   "source": [
    "## Coeffs with positive terms on "
   ]
  },
  {
   "cell_type": "markdown",
   "id": "tribal-liquid",
   "metadata": {},
   "source": [
    "## Pack f"
   ]
  },
  {
   "cell_type": "code",
   "execution_count": null,
   "id": "acute-concern",
   "metadata": {},
   "outputs": [],
   "source": [
    "f = A_prime[:,11].copy()\n",
    "f"
   ]
  },
  {
   "cell_type": "code",
   "execution_count": null,
   "id": "cubic-appointment",
   "metadata": {},
   "outputs": [],
   "source": [
    "A_prime@x"
   ]
  },
  {
   "cell_type": "code",
   "execution_count": null,
   "id": "liked-collector",
   "metadata": {},
   "outputs": [],
   "source": [
    "(A_prime@x)[8].coeff(dd_theta_L)"
   ]
  },
  {
   "cell_type": "code",
   "execution_count": null,
   "id": "quick-mexican",
   "metadata": {},
   "outputs": [],
   "source": [
    "x[8]"
   ]
  },
  {
   "cell_type": "code",
   "execution_count": null,
   "id": "short-depth",
   "metadata": {},
   "outputs": [],
   "source": [
    "b_prime[8]"
   ]
  },
  {
   "cell_type": "code",
   "execution_count": null,
   "id": "modular-blond",
   "metadata": {},
   "outputs": [],
   "source": [
    "b_prime"
   ]
  },
  {
   "cell_type": "code",
   "execution_count": null,
   "id": "framed-running",
   "metadata": {},
   "outputs": [],
   "source": []
  },
  {
   "cell_type": "markdown",
   "id": "rotary-sucking",
   "metadata": {},
   "source": [
    "## Set up function"
   ]
  },
  {
   "cell_type": "code",
   "execution_count": null,
   "id": "stylish-buddy",
   "metadata": {},
   "outputs": [],
   "source": [
    "def split_mu_terms(term):\n",
    "    num = sp.fraction(term)[0]\n",
    "    mu_num = num - num.coeff(mu*mu_S)*(mu*mu_S - 1)\n",
    "    mu_num = mu_num.simplify()\n",
    "    mu_term = mu_num/sp.fraction(term)[1]\n",
    "    mu_term = mu_term.factor()\n",
    "    mu_term /= mu_0\n",
    "    mu_term = mu_term.simplify()\n",
    "    \n",
    "    no_mu_term = num.coeff(mu*mu_S).factor()/sp.fraction(term)[1].coeff(mu*mu_S)\n",
    "    no_mu_term = no_mu_term.simplify()\n",
    "\n",
    "    assert (term - mu_term*mu_0 - no_mu_term).simplify() == 0\n",
    "    \n",
    "    return mu_term, no_mu_term"
   ]
  },
  {
   "cell_type": "markdown",
   "id": "worse-treasurer",
   "metadata": {},
   "source": [
    "## Setting our constant"
   ]
  },
  {
   "cell_type": "code",
   "execution_count": null,
   "id": "billion-chess",
   "metadata": {},
   "outputs": [],
   "source": [
    "mu_0 = 1/(1-mu*mu_S)\n",
    "mu_0"
   ]
  },
  {
   "cell_type": "markdown",
   "id": "superb-blues",
   "metadata": {},
   "source": [
    "# $\\ddot\\theta_L$ dynamics"
   ]
  },
  {
   "cell_type": "code",
   "execution_count": null,
   "id": "criminal-conjunction",
   "metadata": {},
   "outputs": [],
   "source": [
    "theta_L_idx = 8\n",
    "lhs = (A_prime@x)[theta_L_idx]\n",
    "rhs = b_prime[theta_L_idx]\n",
    "\n",
    "display(Math(sp.latex(lhs) + r\" = \" + sp.latex(rhs)))"
   ]
  },
  {
   "cell_type": "markdown",
   "id": "agricultural-plenty",
   "metadata": {},
   "source": [
    "## f and g term"
   ]
  },
  {
   "cell_type": "code",
   "execution_count": null,
   "id": "neural-mambo",
   "metadata": {},
   "outputs": [],
   "source": [
    "f_term = f[theta_L_idx].copy()"
   ]
  },
  {
   "cell_type": "code",
   "execution_count": null,
   "id": "metric-university",
   "metadata": {},
   "outputs": [],
   "source": [
    "term = f_term\n",
    "num, denom = sp.fraction(term)\n",
    "num /= 2\n",
    "denom /= 2\n",
    "f_mu = num.collect(mu*mu_S).coeff(mu*mu_S)\n",
    "f = num - f_mu*mu*mu_S\n",
    "\n",
    "f_mu = f_mu.factor()\n",
    "\n",
    "f = f.simplify()\n",
    "f = f.collect(2*I_L).collect(p_LCT*m_L*m_M)\n",
    "f = f.subs(d_T+w_L/2, p_LCT)"
   ]
  },
  {
   "cell_type": "code",
   "execution_count": null,
   "id": "acute-retirement",
   "metadata": {},
   "outputs": [],
   "source": [
    "f_num = sp.fraction(f_term)[0]\n",
    "interm = f_num.collect(m_L*m_M).collect(mu*mu_S*p_LCN).collect(p_LCT).collect(2*d_T+w_L)\n",
    "interm.subs(2*d_T+w_L, p_LCT*2)"
   ]
  },
  {
   "cell_type": "code",
   "execution_count": null,
   "id": "herbal-appendix",
   "metadata": {},
   "outputs": [],
   "source": [
    "f"
   ]
  },
  {
   "cell_type": "code",
   "execution_count": null,
   "id": "roman-radical",
   "metadata": {},
   "outputs": [],
   "source": [
    "f_mu"
   ]
  },
  {
   "cell_type": "code",
   "execution_count": null,
   "id": "extended-toronto",
   "metadata": {},
   "outputs": [],
   "source": [
    "g_mu = denom.collect(mu*mu_S).coeff(mu*mu_S)\n",
    "g = denom - g_mu*mu*mu_S\n",
    "\n",
    "g"
   ]
  },
  {
   "cell_type": "code",
   "execution_count": null,
   "id": "other-warning",
   "metadata": {},
   "outputs": [],
   "source": [
    "g_mu"
   ]
  },
  {
   "cell_type": "markdown",
   "id": "established-sharp",
   "metadata": {},
   "source": [
    "## alpha and beta"
   ]
  },
  {
   "cell_type": "code",
   "execution_count": null,
   "id": "successful-cancer",
   "metadata": {},
   "outputs": [],
   "source": [
    "b_term = b_prime[theta_L_idx].copy()"
   ]
  },
  {
   "cell_type": "code",
   "execution_count": null,
   "id": "racial-letters",
   "metadata": {},
   "outputs": [],
   "source": [
    "term = b_term\n",
    "num, denom = sp.fraction(term)\n",
    "num /= 2\n",
    "denom /= 2\n",
    "alpha_mu = num.collect(mu*mu_S).coeff(mu*mu_S)\n",
    "alpha = num - (num - num.coeff(mu*mu_S)*mu*mu_S).simplify()\n",
    "\n",
    "alpha_mu = alpha_mu.simplify()\n",
    "alpha_mu\n",
    "\n",
    "# f = f.simplify()\n",
    "# f = f.collect(2*I_L).collect(p_LCT*m_L*m_M)\n",
    "# f = f.subs(d_T+w_L/2, p_LCT)"
   ]
  },
  {
   "cell_type": "code",
   "execution_count": null,
   "id": "hybrid-extra",
   "metadata": {},
   "outputs": [],
   "source": []
  },
  {
   "cell_type": "code",
   "execution_count": null,
   "id": "increasing-vehicle",
   "metadata": {},
   "outputs": [],
   "source": [
    "denom"
   ]
  },
  {
   "cell_type": "markdown",
   "id": "comfortable-subdivision",
   "metadata": {},
   "source": [
    "# toherm"
   ]
  },
  {
   "cell_type": "code",
   "execution_count": null,
   "id": "working-running",
   "metadata": {},
   "outputs": [],
   "source": [
    "# f_mu, f_no_mu = split_mu_terms(f_term)"
   ]
  },
  {
   "cell_type": "code",
   "execution_count": null,
   "id": "formal-cancellation",
   "metadata": {},
   "outputs": [],
   "source": [
    "f_mu"
   ]
  },
  {
   "cell_type": "code",
   "execution_count": null,
   "id": "robust-protein",
   "metadata": {},
   "outputs": [],
   "source": [
    "str(f_mu)"
   ]
  },
  {
   "cell_type": "code",
   "execution_count": null,
   "id": "satisfied-nowhere",
   "metadata": {},
   "outputs": [],
   "source": [
    "f_no_mu"
   ]
  },
  {
   "cell_type": "code",
   "execution_count": null,
   "id": "superb-valve",
   "metadata": {},
   "outputs": [],
   "source": [
    "str(f_no_mu)"
   ]
  },
  {
   "cell_type": "code",
   "execution_count": null,
   "id": "apart-mentor",
   "metadata": {},
   "outputs": [],
   "source": [
    "(f_term - f_mu*mu_0 - f_no_mu).simplify()"
   ]
  },
  {
   "cell_type": "markdown",
   "id": "vulnerable-minister",
   "metadata": {},
   "source": [
    "## b term"
   ]
  },
  {
   "cell_type": "code",
   "execution_count": null,
   "id": "blond-moore",
   "metadata": {},
   "outputs": [],
   "source": [
    "b_term = b_prime[theta_L_idx].copy()"
   ]
  },
  {
   "cell_type": "code",
   "execution_count": null,
   "id": "helpful-flesh",
   "metadata": {},
   "outputs": [],
   "source": [
    "str(b_term)"
   ]
  },
  {
   "cell_type": "code",
   "execution_count": null,
   "id": "preceding-taxation",
   "metadata": {},
   "outputs": [],
   "source": [
    "b_mu, b_no_mu = split_mu_terms(b_term)\n",
    "# b_mu /= mu_0\n",
    "# b_mu = b_mu.simplify()"
   ]
  },
  {
   "cell_type": "code",
   "execution_count": null,
   "id": "spread-dover",
   "metadata": {},
   "outputs": [],
   "source": [
    "str(b_mu)"
   ]
  },
  {
   "cell_type": "code",
   "execution_count": null,
   "id": "external-billion",
   "metadata": {},
   "outputs": [],
   "source": [
    "str(b_no_mu)"
   ]
  },
  {
   "cell_type": "code",
   "execution_count": null,
   "id": "demographic-clothing",
   "metadata": {},
   "outputs": [],
   "source": [
    "(b_term - b_mu*mu_0 - b_no_mu).simplify()"
   ]
  },
  {
   "cell_type": "markdown",
   "id": "adjusted-brick",
   "metadata": {},
   "source": [
    "## Final dynamics"
   ]
  },
  {
   "cell_type": "markdown",
   "id": "opponent-hamburg",
   "metadata": {},
   "source": [
    "$F_{CN} + \\left(\\mu_0f_\\mu(t)+f(t)\\right)\\ddot\\theta_L = \\mu_0b_\\mu(t)+b(t)$"
   ]
  },
  {
   "cell_type": "code",
   "execution_count": null,
   "id": "large-companion",
   "metadata": {},
   "outputs": [],
   "source": [
    "new_lhs = F_CN + mu_0*f_mu*dd_theta_L + f_no_mu*dd_theta_L\n",
    "new_rhs = b_mu*mu_0+b_no_mu"
   ]
  },
  {
   "cell_type": "code",
   "execution_count": null,
   "id": "found-finding",
   "metadata": {},
   "outputs": [],
   "source": [
    "(new_lhs - lhs).simplify()"
   ]
  },
  {
   "cell_type": "code",
   "execution_count": null,
   "id": "light-waterproof",
   "metadata": {},
   "outputs": [],
   "source": [
    "(new_rhs - rhs).simplify()"
   ]
  },
  {
   "cell_type": "code",
   "execution_count": null,
   "id": "thrown-minimum",
   "metadata": {},
   "outputs": [],
   "source": [
    "display(Math(sp.latex(new_lhs) + r\" = \" + sp.latex(new_rhs)))"
   ]
  }
 ],
 "metadata": {
  "kernelspec": {
   "display_name": "Python 3",
   "language": "python",
   "name": "python3"
  },
  "language_info": {
   "codemirror_mode": {
    "name": "ipython",
    "version": 3
   },
   "file_extension": ".py",
   "mimetype": "text/x-python",
   "name": "python",
   "nbconvert_exporter": "python",
   "pygments_lexer": "ipython3",
   "version": "3.9.2"
  }
 },
 "nbformat": 4,
 "nbformat_minor": 5
}
