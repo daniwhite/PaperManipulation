{
 "cells": [
  {
   "cell_type": "code",
   "execution_count": null,
   "id": "ongoing-execution",
   "metadata": {},
   "outputs": [],
   "source": [
    "import sympy as sp\n",
    "nq_arm = 7"
   ]
  },
  {
   "cell_type": "code",
   "execution_count": null,
   "id": "emotional-passenger",
   "metadata": {},
   "outputs": [],
   "source": [
    "alg_inputs = []\n",
    "\n",
    "# PROGRAMMING: Do this with Drake instead?\n",
    "# PROGRAMMING: Can I get some of these lists from sympy?\n",
    "# Physical and geometric quantities\n",
    "m_L = sp.symbols(r\"m_L\")\n",
    "alg_inputs.append(m_L)\n",
    "w_L = sp.symbols(r\"w_L\")\n",
    "alg_inputs.append(w_L)\n",
    "I_L = sp.symbols(r\"I_L\")\n",
    "alg_inputs.append(I_L)\n",
    "h_L = sp.symbols(r\"h_L\")\n",
    "alg_inputs.append(h_L)\n",
    "r = sp.symbols(r\"r\")\n",
    "alg_inputs.append(r)\n",
    "\n",
    "# Friction coefficients\n",
    "mu = sp.symbols(r\"\\mu\")\n",
    "alg_inputs.append(mu)\n",
    "mu_S = sp.symbols(r\"\\mu_{S}\")\n",
    "alg_inputs.append(mu_S)\n",
    "hats_T = sp.symbols(r\"\\hat{s}_T\")\n",
    "alg_inputs.append(hats_T)\n",
    "\n",
    "# System gains\n",
    "b_J = sp.symbols(r\"b_J\")\n",
    "alg_inputs.append(b_J)\n",
    "k_J = sp.symbols(r\"k_J\")\n",
    "alg_inputs.append(k_J)\n",
    "\n",
    "# Positions\n",
    "p_CN = sp.symbols(r\"p_{CN}\")\n",
    "alg_inputs.append(p_CN)\n",
    "p_CT = sp.symbols(r\"p_{CT}\")\n",
    "alg_inputs.append(p_CT)\n",
    "p_MN = sp.symbols(r\"p_{MN}\")\n",
    "alg_inputs.append(p_MN)\n",
    "p_LN = sp.symbols(r\"p_{LN}\")\n",
    "alg_inputs.append(p_LN)\n",
    "p_LT = sp.symbols(r\"p_{LT}\")\n",
    "alg_inputs.append(p_LT)\n",
    "theta_L = sp.symbols(r\"\\theta_L\")\n",
    "alg_inputs.append(theta_L)\n",
    "d_T = sp.symbols(r\"d_T\")\n",
    "alg_inputs.append(d_T)\n",
    "d_N = sp.symbols(r\"d_N\")\n",
    "alg_inputs.append(d_N)\n",
    "\n",
    "# Derived terms\n",
    "cos_theta_L = sp.symbols(r\"\\cos\\theta_L\")\n",
    "sin_theta_L = sp.symbols(r\"\\sin\\theta_L\")\n",
    "\n",
    "# Velocities\n",
    "v_MN = sp.symbols(r\"v_{MN}\")\n",
    "alg_inputs.append(v_MN)\n",
    "v_MT = sp.symbols(r\"v_{MT}\")\n",
    "alg_inputs.append(v_MT)\n",
    "v_LN = sp.symbols(r\"v_{LN}\")\n",
    "alg_inputs.append(v_LN)\n",
    "v_LT = sp.symbols(r\"v_{LT}\")\n",
    "alg_inputs.append(v_LT)\n",
    "d_theta_L = sp.symbols(r\"\\dot\\theta_L\")\n",
    "alg_inputs.append(d_theta_L)\n",
    "d_theta_M = sp.symbols(r\"\\dot\\theta_M\")\n",
    "alg_inputs.append(d_theta_M)\n",
    "d_d_T = sp.symbols(r\"\\dot{d}_T\")\n",
    "alg_inputs.append(d_d_T)\n",
    "d_d_N = sp.symbols(r\"\\dot{d}_N\")\n",
    "alg_inputs.append(d_d_N)\n",
    "\n",
    "# Input forces\n",
    "F_GT = sp.symbols(r\"F_{GT}\")\n",
    "alg_inputs.append(F_GT)\n",
    "F_GN = sp.symbols(r\"F_{GN}\")\n",
    "alg_inputs.append(F_GN)\n",
    "F_OT, F_ON, tau_O = sp.symbols(r\"F_{OT}, F_{ON} \\tau_O\")\n",
    "alg_inputs.append(F_OT)\n",
    "alg_inputs.append(F_ON)\n",
    "alg_inputs.append(tau_O)\n",
    "\n",
    "# Control inputs\n",
    "a_LNd = sp.symbols(r\"a_{LNd}\")\n",
    "alg_inputs.append(a_LNd)"
   ]
  },
  {
   "cell_type": "code",
   "execution_count": null,
   "id": "reserved-nebraska",
   "metadata": {},
   "outputs": [],
   "source": [
    "M = sp.MatrixSymbol('M', nq_arm, nq_arm).as_explicit()\n",
    "alg_inputs += list(M)\n",
    "J = sp.MatrixSymbol('J', 2, nq_arm).as_explicit()\n",
    "alg_inputs += list(J)\n",
    "\n",
    "Cv = sp.MatrixSymbol('Cv', nq_arm, 1).as_explicit()\n",
    "alg_inputs += list(Cv)\n",
    "q = sp.MatrixSymbol('q', nq_arm, 1).as_explicit()\n",
    "alg_inputs += list(q)\n",
    "dq = sp.MatrixSymbol(r'\\dot{q}', nq_arm, 1).as_explicit()\n",
    "alg_inputs += list(dq)\n",
    "tau_contact = sp.MatrixSymbol(r'{\\tau_{contact}}', nq_arm, 1).as_explicit()\n",
    "alg_inputs += list(tau_contact)\n",
    "tau_ctrl = sp.MatrixSymbol(r'{\\tau_{ctrl}}', nq_arm, 1).as_explicit()\n",
    "alg_inputs += list(tau_ctrl)\n",
    "tau_g = sp.MatrixSymbol(r'{\\tau_{g}}', nq_arm, 1).as_explicit()\n",
    "alg_inputs += list(tau_g)\n",
    "\n",
    "Jdot_qdot = sp.MatrixSymbol('{\\dot{J}\\dot{q}}', 2, 1).as_explicit()\n",
    "alg_inputs += list(Jdot_qdot)"
   ]
  },
  {
   "cell_type": "code",
   "execution_count": null,
   "id": "frank-engine",
   "metadata": {},
   "outputs": [],
   "source": [
    "outputs = [\n",
    "    F_CY, F_CZ, a_MT, a_MY, a_MZ, a_MN, a_LT, dd_theta_L, F_NM, F_FL, F_FM, tau_M, a_LN, dd_d_N, dd_d_T, F_NL, F_CN, F_CT,\n",
    "] = list(sp.symbols(\n",
    "    r\"F_{CY}, F_{CZ}, a_{MY}, a_{MZ}, a_{MT}, a_{MN}, a_{LT}, \\ddot\\theta_L, F_{NM}, F_{FL}, F_{FM}, a_{LN}, \\ddot\\theta_M, \\ddot{d}_N, \\ddot{d}_T, F_{NL}, F_{CN}, F_{CT}\"\n",
    "))\n",
    "ddq = sp.MatrixSymbol('\\ddot{q}', nq_arm, 1).as_explicit()\n",
    "outputs = list(ddq) + outputs"
   ]
  },
  {
   "cell_type": "code",
   "execution_count": null,
   "id": "negative-headset",
   "metadata": {},
   "outputs": [],
   "source": [
    "outputs"
   ]
  },
  {
   "cell_type": "code",
   "execution_count": null,
   "id": "bridal-prime",
   "metadata": {},
   "outputs": [],
   "source": [
    "# For convenience\n",
    "F_CYZ = sp.Matrix([F_CY, F_CZ])"
   ]
  },
  {
   "cell_type": "code",
   "execution_count": null,
   "id": "dated-parameter",
   "metadata": {},
   "outputs": [],
   "source": [
    "F_CYZ"
   ]
  },
  {
   "cell_type": "code",
   "execution_count": null,
   "id": "mathematical-bandwidth",
   "metadata": {},
   "outputs": [],
   "source": [
    "t = sp.symbols(\"t\")\n",
    "theta_L_func = sp.Function(r'\\theta_L')(t)\n",
    "N_hat = sp.Function(r'\\hat N')(theta_L_func)\n",
    "T_hat = sp.Function(r'\\hat T')(theta_L_func)\n",
    "\n",
    "d_T_func = sp.Function(r\"d_T\")(t)\n",
    "d_N_func = sp.Function(r\"d_N\")(t)\n",
    "d_g = d_T_func*T_hat + d_N_func*N_hat\n",
    "\n",
    "d_vel_g = sp.diff(d_g, t)\n",
    "\n",
    "d_vel_g = d_vel_g.subs(sp.diff(N_hat, t), -\n",
    "                       sp.diff(theta_L_func, t)*T_hat)\n",
    "d_vel_g = d_vel_g.subs(\n",
    "    sp.diff(T_hat, t), sp.diff(theta_L_func, t)*N_hat)\n",
    "\n",
    "d_acc_g = sp.diff(d_vel_g, t)\n",
    "d_acc_g = d_acc_g.subs(sp.diff(N_hat, t), -\n",
    "                       sp.diff(theta_L_func, t)*T_hat)\n",
    "d_acc_g = d_acc_g.subs(\n",
    "    sp.diff(T_hat, t), sp.diff(theta_L_func, t)*N_hat)\n",
    "\n",
    "d_acc_cos_g = d_acc_g\n",
    "d_acc_cos_g = d_acc_cos_g.subs(sp.diff(theta_L_func, t, t), dd_theta_L)\n",
    "d_acc_cos_g = d_acc_cos_g.subs(sp.diff(d_T_func, t, t), dd_d_T)\n",
    "d_acc_cos_g = d_acc_cos_g.subs(sp.diff(d_N_func, t, t), dd_d_N)\n",
    "d_acc_cos_g = d_acc_cos_g.subs(sp.diff(theta_L_func, t), d_theta_L)\n",
    "d_acc_cos_g = d_acc_cos_g.subs(sp.diff(d_T_func, t), d_d_T)\n",
    "d_acc_cos_g = d_acc_cos_g.subs(sp.diff(d_N_func, t), d_d_N)\n",
    "d_acc_cos_g = d_acc_cos_g.subs(d_T_func, d_T)\n",
    "d_acc_cos_g = d_acc_cos_g.subs(d_N_func, d_N)\n",
    "\n",
    "dd_d_g_T = d_acc_cos_g.subs(N_hat, 0).subs(T_hat, 1)\n",
    "\n",
    "dd_d_g_N = d_acc_cos_g.subs(T_hat, 0).subs(N_hat, 1)\n",
    "\n",
    "p_M_func = sp.Function(r\"p_M\")(t)\n",
    "p_L_func = sp.Function(r\"p_L\")(t)\n",
    "v_M = sp.symbols(r\"v_M\")\n",
    "v_L = sp.symbols(r\"v_L\")\n",
    "d_s = (p_M_func + r*N_hat) - (p_L_func + (w_L/2)*T_hat - (h_L/2)*N_hat)\n",
    "\n",
    "d_vel_s = sp.diff(d_s, t)\n",
    "d_vel_s = d_vel_s.subs(sp.diff(N_hat, t), -\n",
    "                       sp.diff(theta_L_func, t)*T_hat)\n",
    "d_vel_s = d_vel_s.subs(\n",
    "    sp.diff(T_hat, t), sp.diff(theta_L_func, t)*N_hat)\n",
    "\n",
    "d_acc_s = sp.diff(d_vel_s, t)\n",
    "d_acc_s = d_acc_s.subs(sp.diff(N_hat, t), -\n",
    "                       sp.diff(theta_L_func, t)*T_hat)\n",
    "d_acc_s = d_acc_s.subs(\n",
    "    sp.diff(T_hat, t), sp.diff(theta_L_func, t)*N_hat)\n",
    "\n",
    "d_acc_cos_s = d_acc_s\n",
    "d_acc_cos_s = d_acc_cos_s.subs(sp.diff(theta_L_func, t, t), dd_theta_L)\n",
    "d_acc_cos_s = d_acc_cos_s.subs(sp.diff(d_T_func, t, t), dd_d_T)\n",
    "d_acc_cos_s = d_acc_cos_s.subs(sp.diff(d_N_func, t, t), dd_d_N)\n",
    "d_acc_cos_s = d_acc_cos_s.subs(sp.diff(theta_L_func, t), d_theta_L)\n",
    "d_acc_cos_s = d_acc_cos_s.subs(sp.diff(d_T_func, t), d_d_T)\n",
    "d_acc_cos_s = d_acc_cos_s.subs(sp.diff(d_N_func, t), d_d_N)\n",
    "d_acc_cos_s = d_acc_cos_s.subs(d_T_func, d_T)\n",
    "d_acc_cos_s = d_acc_cos_s.subs(d_N_func, d_N)\n",
    "\n",
    "dd_d_s_T = d_acc_cos_s.subs(N_hat, 0).subs(T_hat, 1)\n",
    "dd_d_s_T = dd_d_s_T.subs(sp.diff(p_M_func, t, t), a_MT)\n",
    "dd_d_s_T = dd_d_s_T.subs(sp.diff(p_L_func, t, t), a_LT)\n",
    "dd_d_s_T\n",
    "\n",
    "dd_d_s_N = d_acc_cos_s.subs(T_hat, 0).subs(N_hat, 1)\n",
    "dd_d_s_N = dd_d_s_N.subs(sp.diff(p_M_func, t, t), a_MN)\n",
    "dd_d_s_N = dd_d_s_N.subs(sp.diff(p_L_func, t, t), a_LN)\n",
    "dd_d_s_N"
   ]
  },
  {
   "cell_type": "code",
   "execution_count": null,
   "id": "abstract-piece",
   "metadata": {},
   "outputs": [],
   "source": [
    "nat_eqs = [\n",
    "    # Link tangential force balance\n",
    "    [m_L*a_LT, F_FL+F_GT+F_OT],\n",
    "    # Link normal force balance\n",
    "    [m_L*a_LN, F_NL + F_GN + F_ON, ],\n",
    "    # Link moment balance\n",
    "    [I_L*dd_theta_L, (-w_L/2)*F_ON - (p_CN-p_LN) * \\\n",
    "     F_FL + (p_CT-p_LT)*F_NL + tau_O, ],\n",
    "    # 3rd law normal forces\n",
    "    [F_NL, -F_NM],\n",
    "    # Friction relationship L\n",
    "    [F_FL, mu*mu_S*F_NL*hats_T],\n",
    "    # Friction relationship M\n",
    "    [F_FM, -F_FL],\n",
    "    # d_T derivative is derivative\n",
    "    [dd_d_s_T, dd_d_g_T],\n",
    "    # d_N derivative is derivative\n",
    "    [dd_d_s_N, dd_d_g_N],\n",
    "    # No penetration\n",
    "    [dd_d_N, 0],\n",
    "    # Relate manipulator and end effector with joint velocities in Y direction\n",
    "    [a_MY, (Jdot_qdot + J*ddq)[0]],\n",
    "    # Relate manipulator and end effector with joint velocities in Z direction\n",
    "    [a_MZ, (Jdot_qdot + J*ddq)[1]],\n",
    "    # Projection equations\n",
    "    [a_MT, cos_theta_L*a_MY + sin_theta_L*a_MZ],\n",
    "    [a_MN, -sin_theta_L*a_MY + cos_theta_L*a_MZ],\n",
    "    [F_CT, cos_theta_L*F_CY + sin_theta_L*F_CZ],\n",
    "    [F_CN, -sin_theta_L*F_CY + cos_theta_L*F_CZ],\n",
    "]\n",
    "# Manipulator equations\n",
    "for lhs, rhs in zip(M*ddq + Cv, tau_g +tau_contact + tau_ctrl):\n",
    "    nat_eqs.append([lhs, rhs])\n",
    "    break\n",
    "# How controller force is converted to torques\n",
    "for lhs, rhs in zip(tau_ctrl, J.T*F_CYZ):\n",
    "    nat_eqs.append([lhs, rhs])\n",
    "env_eqs = nat_eqs"
   ]
  },
  {
   "cell_type": "code",
   "execution_count": null,
   "id": "hungarian-agenda",
   "metadata": {},
   "outputs": [],
   "source": [
    "A = []\n",
    "b = []\n",
    "for lhs, rhs in env_eqs:\n",
    "    A_row = []\n",
    "    b_term = rhs - lhs\n",
    "    for output_term in outputs:\n",
    "        try:\n",
    "            coeff_L = lhs.coeff(output_term)\n",
    "        except AttributeError:\n",
    "            coeff_L = 0\n",
    "        try:\n",
    "            coeff_R = rhs.coeff(output_term)\n",
    "        except AttributeError:\n",
    "            coeff_R = 0\n",
    "        coeff = coeff_L - coeff_R\n",
    "        A_row.append(coeff)\n",
    "        b_term += coeff * output_term\n",
    "    A.append(A_row)\n",
    "    b.append(b_term)\n",
    "A = sp.Matrix(A)\n",
    "A.simplify()\n",
    "A = A\n",
    "b = sp.Matrix([b]).T\n",
    "b.simplify()\n",
    "b = b\n",
    "x = sp.Matrix([outputs]).T\n",
    "x.simplify()\n",
    "x = x"
   ]
  },
  {
   "cell_type": "code",
   "execution_count": null,
   "id": "informative-belize",
   "metadata": {},
   "outputs": [],
   "source": [
    "x"
   ]
  },
  {
   "cell_type": "code",
   "execution_count": null,
   "id": "judicial-franklin",
   "metadata": {},
   "outputs": [],
   "source": [
    "L,U,perm = A.LUdecomposition()"
   ]
  },
  {
   "cell_type": "code",
   "execution_count": null,
   "id": "introductory-klein",
   "metadata": {},
   "outputs": [],
   "source": [
    "U"
   ]
  },
  {
   "cell_type": "code",
   "execution_count": null,
   "id": "artistic-medium",
   "metadata": {},
   "outputs": [],
   "source": [
    "P = sp.eye(A.rows).permuteFwd(perm)"
   ]
  },
  {
   "cell_type": "code",
   "execution_count": null,
   "id": "educated-lighting",
   "metadata": {
    "scrolled": false
   },
   "outputs": [],
   "source": [
    "y = sp.MatrixSymbol(\"y\", L.shape[0], 1).as_explicit()\n",
    "y_00 = (P*b)[0]\n",
    "y_out = y.subs(y[0,0], y_00)\n",
    "for i in range(1, L.shape[0]):\n",
    "    y_i0 = y[i,0] - (L*y_out - P*b)[i]\n",
    "    y_out = y_out.subs(y[i,0], y_i0)\n",
    "y_out = y_out.simplify()"
   ]
  },
  {
   "cell_type": "code",
   "execution_count": null,
   "id": "particular-valentine",
   "metadata": {},
   "outputs": [],
   "source": [
    "assert (L*y_out - P*b).simplify() == sp.zeros(L.shape[0], 1)"
   ]
  },
  {
   "cell_type": "code",
   "execution_count": null,
   "id": "certain-plasma",
   "metadata": {},
   "outputs": [],
   "source": [
    "F_CT_idx = list(x).index(F_CT)"
   ]
  },
  {
   "cell_type": "code",
   "execution_count": null,
   "id": "alpha-letters",
   "metadata": {},
   "outputs": [],
   "source": [
    "y_out"
   ]
  },
  {
   "cell_type": "markdown",
   "id": "directed-mississippi",
   "metadata": {},
   "source": [
    "# LU scratch that works"
   ]
  },
  {
   "cell_type": "code",
   "execution_count": null,
   "id": "friendly-operations",
   "metadata": {},
   "outputs": [],
   "source": [
    "y = sp.MatrixSymbol(\"y\", L.shape[0], 1).as_explicit()\n"
   ]
  },
  {
   "cell_type": "markdown",
   "id": "spoken-bedroom",
   "metadata": {},
   "source": [
    "$Ly = pB$, so $Ly - Pb=0$ "
   ]
  },
  {
   "cell_type": "code",
   "execution_count": null,
   "id": "boxed-problem",
   "metadata": {},
   "outputs": [],
   "source": [
    "y = sp.MatrixSymbol(\"y\", L.shape[0], 1).as_explicit()\n",
    "y_00 = (P*b)[0]\n",
    "y_sub0 = y.subs(y[0,0], y_00)"
   ]
  },
  {
   "cell_type": "markdown",
   "id": "incorporated-injury",
   "metadata": {},
   "source": [
    "$L$ has unit diagonl"
   ]
  },
  {
   "cell_type": "code",
   "execution_count": null,
   "id": "modular-shipping",
   "metadata": {},
   "outputs": [],
   "source": [
    "y_10 = y[1,0] - (L*y_sub0 - P*b)[1]\n",
    "y_sub01 = y_sub0.subs(y[1,0], y_10)"
   ]
  },
  {
   "cell_type": "markdown",
   "id": "curious-drill",
   "metadata": {},
   "source": [
    "# Dump"
   ]
  },
  {
   "cell_type": "code",
   "execution_count": null,
   "id": "alternate-robert",
   "metadata": {},
   "outputs": [],
   "source": [
    "A_aug = A.row_join(b)"
   ]
  },
  {
   "cell_type": "code",
   "execution_count": null,
   "id": "lined-friday",
   "metadata": {},
   "outputs": [],
   "source": [
    "L_orig = L.copy()"
   ]
  },
  {
   "cell_type": "code",
   "execution_count": null,
   "id": "sized-radical",
   "metadata": {},
   "outputs": [],
   "source": [
    "L[1,:] - L[1,0]*L[0,:]"
   ]
  },
  {
   "cell_type": "code",
   "execution_count": null,
   "id": "joint-scout",
   "metadata": {},
   "outputs": [],
   "source": [
    "y = sp.MatrixSymbol(\"y\", L.shape[0], 1).as_explicit()\n",
    "y"
   ]
  },
  {
   "cell_type": "code",
   "execution_count": null,
   "id": "another-missile",
   "metadata": {},
   "outputs": [],
   "source": [
    "L*y - P*b"
   ]
  },
  {
   "cell_type": "code",
   "execution_count": null,
   "id": "major-local",
   "metadata": {},
   "outputs": [],
   "source": [
    "L"
   ]
  },
  {
   "cell_type": "code",
   "execution_count": null,
   "id": "silent-riverside",
   "metadata": {},
   "outputs": [],
   "source": [
    "U@x"
   ]
  },
  {
   "cell_type": "code",
   "execution_count": null,
   "id": "broken-nickname",
   "metadata": {},
   "outputs": [],
   "source": [
    "L,U,perm = A.LUdecomposition()"
   ]
  },
  {
   "cell_type": "code",
   "execution_count": null,
   "id": "small-antibody",
   "metadata": {},
   "outputs": [],
   "source": [
    "U@x"
   ]
  },
  {
   "cell_type": "code",
   "execution_count": null,
   "id": "civilian-treasure",
   "metadata": {},
   "outputs": [],
   "source": [
    "L.shape"
   ]
  },
  {
   "cell_type": "code",
   "execution_count": null,
   "id": "tight-product",
   "metadata": {},
   "outputs": [],
   "source": [
    "P = sp.eye(A.rows).permuteFwd(perm)"
   ]
  },
  {
   "cell_type": "code",
   "execution_count": null,
   "id": "reverse-boards",
   "metadata": {},
   "outputs": [],
   "source": [
    "U.shape"
   ]
  },
  {
   "cell_type": "code",
   "execution_count": null,
   "id": "suited-turkish",
   "metadata": {},
   "outputs": [],
   "source": [
    "U[22,:]"
   ]
  },
  {
   "cell_type": "code",
   "execution_count": null,
   "id": "extraordinary-hearing",
   "metadata": {},
   "outputs": [],
   "source": [
    "P.inv()"
   ]
  },
  {
   "cell_type": "code",
   "execution_count": null,
   "id": "hungry-series",
   "metadata": {},
   "outputs": [],
   "source": [
    "A_aug_sparse = sp.SparseMatrix(A_aug)"
   ]
  },
  {
   "cell_type": "code",
   "execution_count": null,
   "id": "higher-worse",
   "metadata": {},
   "outputs": [],
   "source": [
    "L"
   ]
  },
  {
   "cell_type": "code",
   "execution_count": null,
   "id": "noble-interview",
   "metadata": {},
   "outputs": [],
   "source": [
    "A_aug_sparse[:,21]"
   ]
  },
  {
   "cell_type": "code",
   "execution_count": null,
   "id": "alive-cleaner",
   "metadata": {},
   "outputs": [],
   "source": [
    "A.rref()"
   ]
  },
  {
   "cell_type": "code",
   "execution_count": null,
   "id": "interim-vision",
   "metadata": {},
   "outputs": [],
   "source": [
    "M[0,0]"
   ]
  },
  {
   "cell_type": "code",
   "execution_count": null,
   "id": "educational-america",
   "metadata": {},
   "outputs": [],
   "source": [
    "import time"
   ]
  },
  {
   "cell_type": "code",
   "execution_count": null,
   "id": "eleven-phoenix",
   "metadata": {},
   "outputs": [],
   "source": [
    "# print(time.time())\n",
    "# A_aug.subs([(m_L, 1), (M[0,0], 5), (r, 2), (d_N, 22)])\n",
    "# print(time.time())\n"
   ]
  },
  {
   "cell_type": "code",
   "execution_count": null,
   "id": "third-charles",
   "metadata": {},
   "outputs": [],
   "source": [
    "\n",
    "results = A_aug.rref()[0]\n",
    "A_aug = A_aug\n",
    "A_prime = results[:, :-1]\n",
    "A_prime = A_prime\n",
    "b_prime = results[:, -1]\n",
    "A_prime = A_prime\n",
    "b_prime = b_prime\n",
    "x = x\n",
    "\n",
    "F_CN_idx = list(x).index(F_CN)\n",
    "F_CN_exp = b_prime[F_CN_idx] - (A_prime@x)[F_CN_idx].coeff(a_LN)*a_LNd\n",
    "F_NL_idx = list(x).index(F_NL)\n",
    "F_NL_exp = b_prime[F_NL_idx] - (A_prime@x)[F_NL_idx].coeff(a_LN)*a_LNd\n",
    "N_a_LN_exp = (A_prime@x)[F_CN_idx,0].coeff(a_LN).expand()\n",
    "alpha_mu_exp = N_a_LN_exp.coeff(mu)\n",
    "alpha_exp = (N_a_LN_exp - N_a_LN_exp.coeff(mu)*mu).simplify()\n",
    "N_rhs_exp = (b_prime)[F_CN_idx,0].expand()\n",
    "gamma_mu_exp = N_rhs_exp.coeff(mu)\n",
    "gamma_exp = (N_rhs_exp - N_rhs_exp.coeff(mu)*mu).simplify()\n",
    "\n",
    "F_CT_idx = list(x).index(F_CT)\n",
    "T_a_LN_exp = (A_prime@x)[F_CT_idx,0].coeff(a_LN).expand()\n",
    "f_mu_exp = T_a_LN_exp.coeff(mu)\n",
    "f_exp = (T_a_LN_exp - T_a_LN_exp.coeff(mu)*mu).simplify()\n",
    "T_rhs_exp = (b_prime)[F_CT_idx,0].expand()\n",
    "g_mu_exp = T_rhs_exp.coeff(mu)\n",
    "g_exp = (T_rhs_exp - T_rhs_exp.coeff(mu)*mu).simplify()\n",
    "\n",
    "tau_M_idx = list(x).index(tau_M)\n",
    "tau_M_exp = b_prime[F_CT_idx] - (A_prime@x)[F_CT_idx].coeff(a_LN)*a_LNd\n",
    "\n",
    "get_F_CN = lambdify([alg_inputs], F_CN_exp)\n",
    "get_F_NL = lambdify([alg_inputs], F_NL_exp)\n",
    "get_tau_M = lambdify([alg_inputs], tau_M_exp)\n",
    "get_alpha = lambdify([alg_inputs], alpha_exp)\n",
    "get_alpha_mu = lambdify([alg_inputs], alpha_mu_exp)\n",
    "get_gamma = lambdify([alg_inputs], gamma_exp)\n",
    "get_gamma_mu = lambdify([alg_inputs], gamma_mu_exp)\n",
    "get_f = lambdify([alg_inputs], f_exp)\n",
    "get_f_mu = lambdify([alg_inputs], f_mu_exp)\n",
    "get_g = lambdify([alg_inputs], g_exp)\n",
    "get_g_mu = lambdify([alg_inputs], g_mu_exp)\n",
    "\n",
    "tau_M_idx = list(x).index(tau_M)\n",
    "tau_M_exp = b_prime[tau_M_idx]"
   ]
  },
  {
   "cell_type": "code",
   "execution_count": null,
   "id": "beneficial-agenda",
   "metadata": {},
   "outputs": [],
   "source": [
    "import numpy as np"
   ]
  },
  {
   "cell_type": "code",
   "execution_count": null,
   "id": "dimensional-twenty",
   "metadata": {},
   "outputs": [],
   "source": [
    "sp.Matrix(np.random.rand(23, 26)).rref()"
   ]
  },
  {
   "cell_type": "code",
   "execution_count": null,
   "id": "domestic-discount",
   "metadata": {},
   "outputs": [],
   "source": [
    "np.linalg.rref"
   ]
  },
  {
   "cell_type": "code",
   "execution_count": null,
   "id": "indoor-director",
   "metadata": {},
   "outputs": [],
   "source": []
  }
 ],
 "metadata": {
  "kernelspec": {
   "display_name": "Python 3",
   "language": "python",
   "name": "python3"
  },
  "language_info": {
   "codemirror_mode": {
    "name": "ipython",
    "version": 3
   },
   "file_extension": ".py",
   "mimetype": "text/x-python",
   "name": "python",
   "nbconvert_exporter": "python",
   "pygments_lexer": "ipython3",
   "version": "3.9.7"
  }
 },
 "nbformat": 4,
 "nbformat_minor": 5
}
