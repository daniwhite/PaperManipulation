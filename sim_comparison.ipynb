{
 "cells": [
  {
   "cell_type": "markdown",
   "id": "a0190005-619c-482f-a5c0-f1cf9f8a9e9a",
   "metadata": {},
   "source": [
    "# Imports"
   ]
  },
  {
   "cell_type": "code",
   "execution_count": null,
   "id": "49c72650-929a-4537-a8ac-4889e85e25b6",
   "metadata": {},
   "outputs": [],
   "source": [
    "# Numpy, Scipy, Matplotlib\n",
    "import scipy.interpolate\n",
    "import matplotlib\n",
    "import matplotlib.pyplot as plt\n",
    "import numpy as np\n",
    "import time\n",
    "\n",
    "# Drake imports\n",
    "from pydrake.all import RollPitchYaw, Meshcat, Quaternion, RollPitchYaw\n",
    "\n",
    "# Other imports\n",
    "import warnings\n",
    "\n",
    "# Imports of other project files\n",
    "import constants\n",
    "import config\n",
    "\n",
    "import plant.simulation\n",
    "import plant.manipulator as manipulator"
   ]
  },
  {
   "cell_type": "code",
   "execution_count": null,
   "id": "c8db2812-9f9e-4139-89d3-9c0a43d14537",
   "metadata": {},
   "outputs": [],
   "source": [
    "matplotlib.rcParams.update({\n",
    "    \"pgf.texsystem\": \"pdflatex\",\n",
    "    'font.family': 'serif',\n",
    "    'text.usetex': True,\n",
    "    'pgf.rcfonts': False,\n",
    "})"
   ]
  },
  {
   "cell_type": "markdown",
   "id": "3982da4c-0b76-4287-825a-a6fb46e53863",
   "metadata": {
    "tags": []
   },
   "source": [
    "# Meshcat init"
   ]
  },
  {
   "cell_type": "code",
   "execution_count": null,
   "id": "b8d7bd53-5d11-42c7-b8c9-546d3ab72724",
   "metadata": {},
   "outputs": [],
   "source": [
    "meshcat = Meshcat()\n",
    "web_url = meshcat.web_url()"
   ]
  },
  {
   "cell_type": "markdown",
   "id": "b9d4cd37-1350-4263-b7e3-0169424b0d7d",
   "metadata": {
    "toc-hr-collapsed": true
   },
   "source": [
    "# Simulation setup"
   ]
  },
  {
   "cell_type": "code",
   "execution_count": null,
   "id": "febc75ac-6b49-49b6-a768-bcf42d6cbf99",
   "metadata": {},
   "outputs": [],
   "source": [
    "ctrl_paradigm = plant.simulation.CtrlParadigm.IMPEDANCE\n",
    "impedance_type = plant.simulation.ImpedanceType.OFFLINE_TRAJ\n",
    "n_hat_force_compensation_source = plant.simulation.NHatForceCompensationSource.NONE"
   ]
  },
  {
   "cell_type": "code",
   "execution_count": null,
   "id": "7a213165-ca53-419a-ad89-81d354292158",
   "metadata": {},
   "outputs": [],
   "source": [
    "sim_params = constants.nominal_sys_consts(num_links=config.NumLinks.TWO)\n",
    "sim_params.m_L = 0.441/2\n",
    "max_torque = 0.55*constants.Nm__PER_InLb\n",
    "sim_params.k_J = 6*max_torque/np.pi\n",
    "sim_params.b_J = sim_params.k_J/10\n",
    "\n",
    "sim = plant.simulation.Simulation(\n",
    "    sim_params=sim_params,\n",
    "    DT=0.0001, num_links=config.NumLinks.TWO, TSPAN=50,\n",
    "    ctrl_paradigm=ctrl_paradigm,\n",
    "    impedance_type=impedance_type,\n",
    "    n_hat_force_compensation_source=n_hat_force_compensation_source,\n",
    "    meshcat=meshcat,\n",
    "    exit_when_folded=True,\n",
    "    impedance_stiffness=[4,4,4,40,40,40],\n",
    "    impedance_scale=10,\n",
    "    const_ff_Fn=0,\n",
    "    model_impedance_delay=True\n",
    ")"
   ]
  },
  {
   "cell_type": "markdown",
   "id": "6ae77ad7-488e-4f06-8fa4-3cf619c46aa2",
   "metadata": {},
   "source": [
    "# Run simulation"
   ]
  },
  {
   "cell_type": "code",
   "execution_count": null,
   "id": "792d7444-b3a3-4d57-b29b-1f8505618cea",
   "metadata": {},
   "outputs": [],
   "source": [
    "t_start_ = time.time()\n",
    "log = sim.run_sim()\n",
    "print(time.time() - t_start_)"
   ]
  },
  {
   "cell_type": "code",
   "execution_count": null,
   "id": "7390079f-0be0-46a3-9cde-d7efb83fbda6",
   "metadata": {},
   "outputs": [],
   "source": [
    "def T(vec):\n",
    "    return np.transpose(vec, [0, 2, 1])"
   ]
  },
  {
   "cell_type": "code",
   "execution_count": null,
   "id": "d26c5f6a-9444-42a9-90b2-90f46280d76d",
   "metadata": {},
   "outputs": [],
   "source": [
    "idx = sim.log_wrapper.get_idx(\"pos\", \"trn\", sim.contact_body_idx)\n",
    "length = 3\n",
    "p_M = np.expand_dims(log.data()[idx:idx+length].T, 2)"
   ]
  },
  {
   "cell_type": "code",
   "execution_count": null,
   "id": "5d76d40f-d086-4bd9-a1c2-c31110bb4740",
   "metadata": {},
   "outputs": [],
   "source": [
    "\n"
   ]
  },
  {
   "cell_type": "code",
   "execution_count": null,
   "id": "c9dc73f6-9436-493b-8ec5-906906b4c276",
   "metadata": {},
   "outputs": [],
   "source": [
    "def process_poses(poses):\n",
    "    xs = []\n",
    "    ys = []\n",
    "    zs = []\n",
    "    theta_xs = []\n",
    "    theta_ys = []\n",
    "    theta_zs = []\n",
    "    q_ws = []\n",
    "    q_xs = []\n",
    "    q_ys = []\n",
    "    q_zs = []\n",
    "    \n",
    "    for pose in poses:\n",
    "        xs.append(pose[\"position\"][0])\n",
    "        ys.append(pose[\"position\"][1])\n",
    "        zs.append(pose[\"position\"][2])\n",
    "\n",
    "        quat_vec = np.array([\n",
    "            pose['orientation'].w,\n",
    "            pose['orientation'].x,\n",
    "            pose['orientation'].y,\n",
    "            pose['orientation'].z\n",
    "        ])\n",
    "\n",
    "        q_ws.append(quat_vec[0])\n",
    "        q_xs.append(quat_vec[1])\n",
    "        q_ys.append(quat_vec[2])\n",
    "        q_zs.append(quat_vec[3])\n",
    "        \n",
    "        quat = Quaternion(\n",
    "            w=pose['orientation'].w,\n",
    "            x=pose['orientation'].x,\n",
    "            y=pose['orientation'].y,\n",
    "            z=pose['orientation'].z,\n",
    "        )\n",
    "        rpy = RollPitchYaw(quat).vector()\n",
    "        theta_xs.append(rpy[0])\n",
    "        theta_ys.append(rpy[1])\n",
    "        theta_zs.append(rpy[2])\n",
    "    return {\n",
    "        'x': np.array(xs),\n",
    "        'y': np.array(ys),\n",
    "        'z': np.array(zs),\n",
    "        'theta_x': np.array(theta_xs),\n",
    "        'theta_y': np.array(theta_ys),\n",
    "        'theta_z': np.array(theta_zs),\n",
    "        'q_w': np.array(q_ws), \n",
    "        'q_x': np.array(q_xs),\n",
    "        'q_y': np.array(q_ys),\n",
    "        'q_z': np.array(q_zs),\n",
    "    }"
   ]
  },
  {
   "cell_type": "code",
   "execution_count": null,
   "id": "90287bc9-1fcc-4139-93dd-027574da3641",
   "metadata": {},
   "outputs": [],
   "source": [
    "def process_poses_log(poses):\n",
    "    xs = poses[()]['x']\n",
    "    ys = poses[()]['y']\n",
    "    zs = poses[()]['z']\n",
    "    theta_xs = []\n",
    "    theta_ys = []\n",
    "    theta_zs = []\n",
    "    q_ws = []\n",
    "    q_xs = []\n",
    "    q_ys = []\n",
    "    q_zs = []\n",
    "    \n",
    "    for i in range(len(poses[()]['x'])):\n",
    "        quat = Quaternion(\n",
    "            w=poses[()]['q_w'][i],\n",
    "            x=poses[()]['q_x'][i],\n",
    "            y=poses[()]['q_y'][i],\n",
    "            z=poses[()]['q_z'][i],\n",
    "        )\n",
    "        rpy = RollPitchYaw(quat).vector()\n",
    "        theta_xs.append(rpy[0])\n",
    "        theta_ys.append(rpy[1])\n",
    "        theta_zs.append(rpy[2])\n",
    "\n",
    "        q_ws.append(poses[()]['q_w'][i])\n",
    "        q_xs.append(poses[()]['q_x'][i])\n",
    "        q_ys.append(poses[()]['q_y'][i])\n",
    "        q_zs.append(poses[()]['q_z'][i])\n",
    "    return {\n",
    "        'x': xs,\n",
    "        'y': ys,\n",
    "        'z': zs,\n",
    "        'theta_x': np.array(theta_xs),\n",
    "        'theta_y': np.array(theta_ys),\n",
    "        'theta_z': np.array(theta_zs),\n",
    "        'q_w': np.array(q_ws), \n",
    "        'q_x': np.array(q_xs),\n",
    "        'q_y': np.array(q_ys),\n",
    "        'q_z': np.array(q_zs),\n",
    "    }"
   ]
  },
  {
   "cell_type": "code",
   "execution_count": null,
   "id": "33cda6ca-118a-4a3a-aac9-2dcf1066dc65",
   "metadata": {},
   "outputs": [],
   "source": [
    "def load_data(run_num, gain, prefix=\"q_ee\"):\n",
    "    pref_path = \"/Users/dani/Documents/lis/notes/testing/2022-04-29/\"\n",
    "    # Load npz\n",
    "    log_npz = np.load(pref_path + \"test1/runs/run{}/{}_log.npz\".format(run_num, prefix), allow_pickle=True)\n",
    "    \n",
    "    # Handle time\n",
    "    dt = log_npz[\"dt\"][()]\n",
    "    end_time = log_npz[\"end_time\"][()]\n",
    "    act_t = log_npz['t_log'] - log_npz['t_log'][0]\n",
    "    des_t = np.arange(0, end_time, dt)\n",
    "    \n",
    "    print(\"dt:\", dt)\n",
    "    print(\"end_time:\", end_time)\n",
    "\n",
    "    # Pull out trajectories\n",
    "    poses_fixed__npz = np.load(pref_path + \"test1/x0s/x0s.npz\".format(end_time, dt), allow_pickle=True)\n",
    "    position_traj__npz = np.load(pref_path + \"test1/qs/qs.npz\".format(end_time, dt), allow_pickle=True)\n",
    "    \n",
    "    # Suppress numba warnings and prcess dicts\n",
    "    with warnings.catch_warnings():\n",
    "        warnings.simplefilter(\"ignore\")\n",
    "\n",
    "        dict_des_ee_poses = poses_fixed__npz[\"poses\"]\n",
    "        if 'ee_log' in log_npz.files:\n",
    "            log_act_ee_poses = log_npz['ee_log']\n",
    "\n",
    "        des_qs = position_traj__npz['qs']\n",
    "        if 'q_log' in log_npz.files:\n",
    "            dict_act_qs = log_npz['q_log']\n",
    "\n",
    "    if 'q_log' in log_npz.files:\n",
    "        act_qs = process_q_dict(dict_act_qs)\n",
    "    else:\n",
    "        act_qs = np.zeros((len(act_t), 7))*np.nan\n",
    "    if 'ee_log' in log_npz.files:\n",
    "        act_ee_poses = process_poses_log(log_act_ee_poses)\n",
    "    else:\n",
    "        act_ee_poses = {\n",
    "            'x': np.zeros_like(act_t)*np.nan,\n",
    "            'y': np.zeros_like(act_t)*np.nan,\n",
    "            'z': np.zeros_like(act_t)*np.nan,\n",
    "            'theta_x': np.zeros_like(act_t)*np.nan,\n",
    "            'theta_y': np.zeros_like(act_t)*np.nan,\n",
    "            'theta_z': np.zeros_like(act_t)*np.nan\n",
    "        }\n",
    "\n",
    "    des_ee_poses = process_poses(dict_des_ee_poses)\n",
    "\n",
    "    out_dict = {\n",
    "        \"q\": {\n",
    "            \"act\": act_qs,\n",
    "            \"des\": des_qs,\n",
    "        },\n",
    "        \"ee_pose\": {\n",
    "            \"act\": act_ee_poses,\n",
    "            \"des\": des_ee_poses\n",
    "        },\n",
    "        \"t\": {\n",
    "            \"act\": act_t,\n",
    "            \"des\": des_t\n",
    "        },\n",
    "        \"dt\": dt,\n",
    "        \"end_time\": end_time,\n",
    "        \"gain\": gain\n",
    "    }\n",
    "    return out_dict"
   ]
  },
  {
   "cell_type": "code",
   "execution_count": null,
   "id": "d514eafe-ee6c-457a-bb93-cd039afa281f",
   "metadata": {},
   "outputs": [],
   "source": [
    "run_1_data = load_data(1, 40, prefix=\"data\")"
   ]
  },
  {
   "cell_type": "code",
   "execution_count": null,
   "id": "0bc30ada-20b5-47c6-b7e7-d6f093090ed1",
   "metadata": {},
   "outputs": [],
   "source": [
    "run_data = run_1_data"
   ]
  },
  {
   "cell_type": "code",
   "execution_count": null,
   "id": "dcd3c98e-8452-4210-b5f4-aa95a7fd3440",
   "metadata": {},
   "outputs": [],
   "source": [
    "x0s = np.array(sim.fold_ctrl.debug['x0'])"
   ]
  },
  {
   "cell_type": "code",
   "execution_count": null,
   "id": "8b9053ec-432e-4fb2-aea4-c6af6ef9913e",
   "metadata": {},
   "outputs": [],
   "source": [
    "plt.figure(figsize=(6,4))\n",
    "\n",
    "plt.plot(run_data['ee_pose'][\"act\"]['x'][:-400],\n",
    "         run_data['ee_pose'][\"act\"]['z'][:-400], label=\"Experiment\", color='g')\n",
    "plt.plot(run_data['ee_pose'][\"des\"]['x'][:-400],\n",
    "         run_data['ee_pose'][\"des\"]['z'][:-400], label=\"Reference\", color='k', linestyle='--')\n",
    "plt.plot(p_M[8000:250000,0].flatten(),\n",
    "         p_M[8000:250000,2].flatten(), label=\"Simulation\", color='red')\n",
    "# plt.plot(x0s[1000:235000,3], x0s[1000:235000,5], label=\"Reference\", color='k', linestyle='--')\n",
    "    \n",
    "\n",
    "plt.xlabel(\"$x$ position (m)\")\n",
    "plt.ylabel(\"$z$ position (m)\")\n",
    "plt.gca().set_aspect(\"equal\")\n",
    "plt.legend(frameon=False)\n",
    "plt.title(\"End effector trajectory for two links\")\n",
    "plt.gcf().savefig(\"real_sim_comparison.pgf\", backend=\"pgf\")\n",
    "plt.show()"
   ]
  },
  {
   "cell_type": "code",
   "execution_count": null,
   "id": "d713b113-f67b-4db9-896d-89d94e6ead40",
   "metadata": {},
   "outputs": [],
   "source": [
    "len(run_data['ee_pose'][\"act\"]['x'])"
   ]
  },
  {
   "cell_type": "code",
   "execution_count": null,
   "id": "e4708b74-2a78-499a-ac4e-eac6d9d819de",
   "metadata": {},
   "outputs": [],
   "source": []
  }
 ],
 "metadata": {
  "kernelspec": {
   "display_name": "Python 3",
   "language": "python",
   "name": "python3"
  },
  "language_info": {
   "codemirror_mode": {
    "name": "ipython",
    "version": 3
   },
   "file_extension": ".py",
   "mimetype": "text/x-python",
   "name": "python",
   "nbconvert_exporter": "python",
   "pygments_lexer": "ipython3",
   "version": "3.9.9"
  }
 },
 "nbformat": 4,
 "nbformat_minor": 5
}
