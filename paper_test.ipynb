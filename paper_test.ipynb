{
 "cells": [
  {
   "cell_type": "code",
   "execution_count": null,
   "metadata": {},
   "outputs": [],
   "source": [
    "import numpy as np\n",
    "import altair as alt\n",
    "from meshcat.servers.zmqserver import start_zmq_server_as_subprocess\n",
    "import pydot\n",
    "from IPython.display import display, SVG\n",
    "from ipywidgets import Text, Textarea, Layout\n",
    "import plotly.express as px\n",
    "from pydrake.all import (\n",
    "    AddMultibodyPlantSceneGraph, AngleAxis, BasicVector, ConnectMeshcatVisualizer, \n",
    "    DiagramBuilder, FindResourceOrThrow, Integrator, JacobianWrtVariable, \n",
    "    LeafSystem, MultibodyPlant, MultibodyPositionToGeometryPose, Parser, \n",
    "    PiecewisePolynomial, PiecewiseQuaternionSlerp, Quaternion, RigidTransform, \n",
    "    RollPitchYaw, RotationMatrix, SceneGraph, Simulator, TrajectorySource\n",
    ")\n",
    "from pydrake.examples.manipulation_station import ManipulationStation\n",
    "from pydrake.multibody.jupyter_widgets import MakeJointSlidersThatPublishOnCallback"
   ]
  },
  {
   "cell_type": "code",
   "execution_count": null,
   "metadata": {},
   "outputs": [],
   "source": [
    "proc, zmq_url, web_url = start_zmq_server_as_subprocess()"
   ]
  },
  {
   "cell_type": "code",
   "execution_count": null,
   "metadata": {},
   "outputs": [],
   "source": [
    "builder = DiagramBuilder()\n",
    "\n",
    "station = builder.AddSystem(ManipulationStation())\n",
    "station.SetupClutterClearingStation()\n",
    "station.Finalize()\n",
    "\n",
    "frames_to_draw = {\"iiwa\": {\"iiwa_link_1\", \"iiwa_link_2\", \"iiwa_link_3\", \"iiwa_link_4\", \"iiwa_link_5\", \"iiwa_link_6\", \"iiwa_link_7\"},\n",
    "                  \"gripper\": {\"body\"}}\n",
    "meshcat = ConnectMeshcatVisualizer(builder,\n",
    "    station.get_scene_graph(),\n",
    "    output_port=station.GetOutputPort(\"pose_bundle\"),\n",
    "    zmq_url=zmq_url,\n",
    "    frames_to_draw=frames_to_draw,\n",
    "    axis_length=0.3,\n",
    "    axis_radius=0.01)\n",
    "\n",
    "diagram = builder.Build()\n",
    "context = diagram.CreateDefaultContext()\n",
    "\n",
    "xyz = Text(value=\"\", description=\"gripper position (m): \", layout=Layout(width='500px'), style={'description_width':'initial'})\n",
    "rpy = Text(value=\"\", description=\"gripper roll-pitch-yaw (rad): \", layout=Layout(width='500px'), style={'description_width':'initial'})\n",
    "plant = station.get_multibody_plant()\n",
    "\n",
    "gripper = plant.GetBodyByName(\"body\")\n",
    "def pose_callback(context):\n",
    "    pose = plant.EvalBodyPoseInWorld(context, gripper)   ## This is the important line\n",
    "    xyz.value = np.array2string(pose.translation(), formatter={'float': lambda x: \"{:3.2f}\".format(x)})\n",
    "    rpy.value = np.array2string(RollPitchYaw(pose.rotation()).vector(), formatter={'float': lambda x: \"{:3.2f}\".format(x)})\n",
    "\n",
    "meshcat.load()\n",
    "MakeJointSlidersThatPublishOnCallback(station.get_multibody_plant(), meshcat, context, my_callback=pose_callback)\n",
    "display(xyz)\n",
    "display(rpy)"
   ]
  }
 ],
 "metadata": {
  "kernelspec": {
   "display_name": "Python 3",
   "language": "python",
   "name": "python3"
  },
  "language_info": {
   "codemirror_mode": {
    "name": "ipython",
    "version": 3
   },
   "file_extension": ".py",
   "mimetype": "text/x-python",
   "name": "python",
   "nbconvert_exporter": "python",
   "pygments_lexer": "ipython3",
   "version": "3.6.9"
  },
  "toc": {
   "base_numbering": 1,
   "nav_menu": {},
   "number_sections": true,
   "sideBar": true,
   "skip_h1_title": false,
   "title_cell": "Table of Contents",
   "title_sidebar": "Contents",
   "toc_cell": false,
   "toc_position": {},
   "toc_section_display": true,
   "toc_window_display": true
  }
 },
 "nbformat": 4,
 "nbformat_minor": 4
}
