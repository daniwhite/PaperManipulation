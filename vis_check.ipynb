{
 "cells": [
  {
   "cell_type": "markdown",
   "id": "bda93cba-1d0b-4dcd-975b-56a710d868fc",
   "metadata": {},
   "source": [
    "A quick visualization script if I just want to see what the robot looks like in a given configuration."
   ]
  },
  {
   "cell_type": "markdown",
   "id": "34f79d00-71ee-45f7-b845-c05274895252",
   "metadata": {
    "tags": []
   },
   "source": [
    "# Setup"
   ]
  },
  {
   "cell_type": "code",
   "execution_count": null,
   "id": "3e72341a-dc30-4c46-a050-c28bd5c76e53",
   "metadata": {},
   "outputs": [],
   "source": [
    "## Imports"
   ]
  },
  {
   "cell_type": "code",
   "execution_count": null,
   "id": "03d88516-3781-4948-a7ca-9cf813234d39",
   "metadata": {},
   "outputs": [],
   "source": [
    "# Numpy, Scipy, Matplotlib\n",
    "import numpy as np\n",
    "\n",
    "# Drake imports\n",
    "import pydrake\n",
    "from pydrake.all import (DiagramBuilder, RigidTransform, MathematicalProgram, RollPitchYaw,\n",
    "                        RotationMatrix, Meshcat, MeshcatVisualizerParams, MeshcatVisualizerCpp,\n",
    "                        InverseKinematics, Solve, SpatialInertia, UnitInertia)\n",
    "\n",
    "# Imports of other project files\n",
    "import constants\n",
    "import config\n",
    "\n",
    "import plant.simulation\n",
    "import plant.manipulator as manipulator\n",
    "\n",
    "import ctrl.aux\n",
    "import plant.pedestal\n",
    "\n",
    "import visualization\n",
    "\n",
    "# Other imports\n",
    "import time"
   ]
  },
  {
   "cell_type": "markdown",
   "id": "cabe3314-cdc0-4304-84d6-6d2bbf61658d",
   "metadata": {},
   "source": [
    "## Drake"
   ]
  },
  {
   "cell_type": "code",
   "execution_count": null,
   "id": "fb174365-95f2-4a62-b721-93ebbb8882fb",
   "metadata": {},
   "outputs": [],
   "source": [
    "meshcat = Meshcat()\n",
    "web_url = meshcat.web_url()"
   ]
  },
  {
   "cell_type": "markdown",
   "id": "5a075120-19d5-4c90-a6be-29c8d6f1a78a",
   "metadata": {},
   "source": [
    "## MBP"
   ]
  },
  {
   "cell_type": "code",
   "execution_count": null,
   "id": "a7a4baf7-5915-4e22-b110-dc61d8cbc794",
   "metadata": {},
   "outputs": [],
   "source": [
    "builder = DiagramBuilder()\n",
    "\n",
    "mbp_plant, scene_graph = pydrake.multibody.plant.AddMultibodyPlantSceneGraph(\n",
    "    builder, time_step=1e-3)"
   ]
  },
  {
   "cell_type": "code",
   "execution_count": null,
   "id": "3cbc0722-3f49-4b70-8ff4-5eb28925e6bb",
   "metadata": {},
   "outputs": [],
   "source": [
    "num_links = config.NumLinks.TWO\n",
    "sys_consts = constants.nominal_sys_consts(num_links)"
   ]
  },
  {
   "cell_type": "code",
   "execution_count": null,
   "id": "98b3181a-4110-445f-85b7-230c22bf2319",
   "metadata": {},
   "outputs": [],
   "source": [
    "# Arm\n",
    "manipulator.data[\"add_plant_function\"](\n",
    "    mbp_plant,\n",
    "    sys_consts.m_M,\n",
    "    sys_consts.r,\n",
    "    sys_consts.mu,\n",
    "    scene_graph = scene_graph\n",
    ")"
   ]
  },
  {
   "cell_type": "code",
   "execution_count": null,
   "id": "61a0ee4e-f6db-4f88-b6ee-a6caeeceb0b9",
   "metadata": {},
   "outputs": [],
   "source": [
    "# Pedestal\n",
    "pedestal_instance = plant.pedestal.AddPedestal(mbp_plant, num_links)"
   ]
  },
  {
   "cell_type": "code",
   "execution_count": null,
   "id": "15a2a407-fbaf-48e7-86d1-ec8860190b1d",
   "metadata": {},
   "outputs": [],
   "source": [
    "# Paper\n",
    "paper_instance = mbp_plant.AddModelInstance(\"paper\")\n",
    "paper_dims = [\n",
    "    constants.PLYWOOD_LENGTH,\n",
    "    sys_consts.w_L,\n",
    "    sys_consts.h_L\n",
    "]\n",
    "paper_body = mbp_plant.AddRigidBody(\n",
    "    \"paper_body0\", paper_instance,\n",
    "    SpatialInertia(1, p_PScm_E=np.array([0., 0., 0.]),\n",
    "                   G_SP_E=UnitInertia.SolidBox(*paper_dims))\n",
    ")\n",
    "\n",
    "mbp_plant.RegisterCollisionGeometry(\n",
    "    paper_body, RigidTransform(), pydrake.geometry.Box(*paper_dims), \"paper_body0\",\n",
    "    pydrake.multibody.plant.CoulombFriction(1,1)\n",
    ")\n",
    "mbp_plant.RegisterVisualGeometry(\n",
    "    paper_body, RigidTransform(), pydrake.geometry.Box(*paper_dims),\n",
    "    \"paper_body0\", [0, 1, 0, 1])\n",
    "\n",
    "mbp_plant.WeldFrames(\n",
    "    mbp_plant.GetFrameByName(plant.pedestal.pedestal_base_name, pedestal_instance),\n",
    "    mbp_plant.GetBodyByName(\"paper_body0\").body_frame(),\n",
    "    RigidTransform(\n",
    "        RotationMatrix().MakeZRotation(-np.pi/2),\n",
    "        [0, 0, constants.PLYWOOD_LENGTH+sys_consts.h_L/2+plant.pedestal.PEDESTAL_BASE_Z_DIM/2])\n",
    ")"
   ]
  },
  {
   "cell_type": "code",
   "execution_count": null,
   "id": "1d8bccb6-f73d-47d4-8e8d-028fbd7230c8",
   "metadata": {},
   "outputs": [],
   "source": [
    "mbp_plant.Finalize()"
   ]
  },
  {
   "cell_type": "markdown",
   "id": "94d522c5-fde6-403e-8f5e-6e5f602ea692",
   "metadata": {},
   "source": [
    "## Diagram"
   ]
  },
  {
   "cell_type": "code",
   "execution_count": null,
   "id": "526c9cfa-98d7-445a-9962-19c60f5828ce",
   "metadata": {},
   "outputs": [],
   "source": [
    "meshcat_params = MeshcatVisualizerParams()\n",
    "vis = MeshcatVisualizerCpp.AddToBuilder(\n",
    "    builder,\n",
    "    scene_graph.get_query_output_port(),\n",
    "    meshcat,\n",
    "    meshcat_params)\n",
    "\n",
    "diagram = builder.Build()\n",
    "context = diagram.CreateDefaultContext()\n",
    "mbp_context = mbp_plant.GetMyContextFromRoot(context)\n",
    "vis_context = vis.GetMyContextFromRoot(context)"
   ]
  },
  {
   "cell_type": "markdown",
   "id": "1afb2ff6-cf88-45cd-b509-4aa92074f8ad",
   "metadata": {},
   "source": [
    "# Query"
   ]
  },
  {
   "cell_type": "code",
   "execution_count": null,
   "id": "c3299830-07c7-4f7c-ba23-434ce0c50a6d",
   "metadata": {},
   "outputs": [],
   "source": [
    "traj_path = \"/Users/dani/Documents/lis/notes/testing/2022-04-29/test1/qs/\"\n",
    "qs = np.load(traj_path + \"qs.npz\".format(30, 0.5), allow_pickle=True)[\"qs\"]\n",
    "q = qs[0]"
   ]
  },
  {
   "cell_type": "code",
   "execution_count": null,
   "id": "145a4515-d736-4225-b5c9-aa9a5e200a58",
   "metadata": {},
   "outputs": [],
   "source": [
    "q"
   ]
  },
  {
   "cell_type": "code",
   "execution_count": null,
   "id": "b09c7755-8675-4d8a-b359-b62a2512cd4d",
   "metadata": {},
   "outputs": [],
   "source": [
    "dic = {}\n",
    "for i, q_ in enumerate(q):\n",
    "    dic[\"panda_joint\" + str(i+1)] = q_\n",
    "dic"
   ]
  },
  {
   "cell_type": "markdown",
   "id": "97185c25-565f-4761-bf95-94c67041739d",
   "metadata": {},
   "source": [
    "# Visualize"
   ]
  },
  {
   "cell_type": "code",
   "execution_count": null,
   "id": "de81b95f-5240-4d01-aeb8-cc3db7fc336f",
   "metadata": {},
   "outputs": [],
   "source": [
    "mbp_plant.SetPositions(mbp_context, q)\n",
    "vis.Publish(vis_context)"
   ]
  }
 ],
 "metadata": {
  "kernelspec": {
   "display_name": "Python 3",
   "language": "python",
   "name": "python3"
  },
  "language_info": {
   "codemirror_mode": {
    "name": "ipython",
    "version": 3
   },
   "file_extension": ".py",
   "mimetype": "text/x-python",
   "name": "python",
   "nbconvert_exporter": "python",
   "pygments_lexer": "ipython3",
   "version": "3.9.9"
  }
 },
 "nbformat": 4,
 "nbformat_minor": 5
}
