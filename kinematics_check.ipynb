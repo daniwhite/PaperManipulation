{
 "cells": [
  {
   "cell_type": "markdown",
   "id": "0262fd15-5770-44cb-88e8-03cc7f0651e8",
   "metadata": {},
   "source": [
    "# Setup"
   ]
  },
  {
   "cell_type": "markdown",
   "id": "93b63628-c68e-4947-8de1-85e3e55e6890",
   "metadata": {
    "tags": []
   },
   "source": [
    "## Imports"
   ]
  },
  {
   "cell_type": "code",
   "execution_count": null,
   "id": "a3740f0a-9409-4808-a4a4-750748f99e37",
   "metadata": {},
   "outputs": [],
   "source": [
    "# Numpy, Scipy, Matplotlib\n",
    "import scipy.interpolate\n",
    "import matplotlib\n",
    "import matplotlib.pyplot as plt\n",
    "import numpy as np\n",
    "\n",
    "# Drake imports\n",
    "import pydrake\n",
    "from pydrake.all import (DiagramBuilder, RigidTransform, MathematicalProgram, RollPitchYaw,\n",
    "                        RotationMatrix, Meshcat, MeshcatVisualizerParams, MeshcatVisualizerCpp,\n",
    "                        InverseKinematics, Solve, SpatialInertia, UnitInertia)\n",
    "\n",
    "# Imports of other project files\n",
    "import constants\n",
    "import config\n",
    "\n",
    "import plant.simulation\n",
    "import plant.manipulator as manipulator\n",
    "\n",
    "import ctrl.aux\n",
    "import plant.pedestal\n",
    "\n",
    "import visualization\n",
    "\n",
    "# Other imports\n",
    "import time\n",
    "\n",
    "import quaternion"
   ]
  },
  {
   "cell_type": "code",
   "execution_count": null,
   "id": "77d6e274-72a5-4740-9249-70c5ae3ea607",
   "metadata": {},
   "outputs": [],
   "source": [
    "# Matplotlib configuring\n",
    "# USE FOR PAPER\n",
    "# plt.style.use(['science', 'no-latex'])\n",
    "# font = {'size'   : 14}\n",
    "# matplotlib.rc('font', **font)\n",
    "# default_figsize = (2*3,2*2)\n",
    "# USE GENERALLY\n",
    "font = {'size'   : 16}\n",
    "matplotlib.rc('font', **font)\n",
    "default_figsize = (16,8)"
   ]
  },
  {
   "cell_type": "code",
   "execution_count": null,
   "id": "b7438b68-8c7b-450f-a345-7cf73acf15ad",
   "metadata": {},
   "outputs": [],
   "source": [
    "matplotlib.rcParams['figure.figsize'] = (16,8)\n",
    "matplotlib.rcParams['lines.linewidth'] = 5\n",
    "matplotlib.rcParams[\"axes.xmargin\"] = 0"
   ]
  },
  {
   "cell_type": "markdown",
   "id": "8d6932c2-026b-46a8-ab95-ff5353f6f047",
   "metadata": {
    "tags": [],
    "toc-hr-collapsed": true
   },
   "source": [
    "## Drake initialization"
   ]
  },
  {
   "cell_type": "code",
   "execution_count": null,
   "id": "f21266a5-2e40-4123-bd3a-91a02c83eee4",
   "metadata": {},
   "outputs": [],
   "source": [
    "meshcat = Meshcat()\n",
    "web_url = meshcat.web_url()"
   ]
  },
  {
   "cell_type": "markdown",
   "id": "5d1689d4-4acb-4c0a-ad29-cfff7e9f9491",
   "metadata": {},
   "source": [
    "### Constants"
   ]
  },
  {
   "cell_type": "code",
   "execution_count": null,
   "id": "8c59b182-b998-44b9-a76f-6b5f549ed77c",
   "metadata": {},
   "outputs": [],
   "source": [
    "w_L = constants.nominal_sys_consts.w_L\n",
    "h_L = constants.nominal_sys_consts.h_L\n",
    "pedestal_x = plant.pedestal.PEDESTAL_Y_DIM"
   ]
  },
  {
   "cell_type": "code",
   "execution_count": null,
   "id": "cb54bb86-9b9f-4a48-89e4-1fcb7d5b47c1",
   "metadata": {},
   "outputs": [],
   "source": [
    "contact_body_name = manipulator.data[\"contact_body_name\"]"
   ]
  },
  {
   "cell_type": "markdown",
   "id": "89d5203c-bd95-4d1e-9813-836b7b029000",
   "metadata": {},
   "source": [
    "### Creat MBP"
   ]
  },
  {
   "cell_type": "code",
   "execution_count": null,
   "id": "a9228edf-d32d-4a8e-845c-e8ce81e22e22",
   "metadata": {},
   "outputs": [],
   "source": [
    "builder = DiagramBuilder()\n",
    "\n",
    "mbp_plant, scene_graph = pydrake.multibody.plant.AddMultibodyPlantSceneGraph(\n",
    "    builder, time_step=1e-3)\n",
    "mbp_plant.set_stiction_tolerance(constants.v_stiction)\n",
    "mbp_plant.set_penetration_allowance(0.001)"
   ]
  },
  {
   "cell_type": "markdown",
   "id": "68f04ae0-5abd-494f-ab68-5bb584738854",
   "metadata": {},
   "source": [
    "### Add bodies"
   ]
  },
  {
   "cell_type": "code",
   "execution_count": null,
   "id": "0b0604cd-b081-4491-9452-ef64bd39bdc5",
   "metadata": {},
   "outputs": [],
   "source": [
    "# Arm\n",
    "manipulator.data[\"add_plant_function\"](\n",
    "    mbp_plant,\n",
    "    constants.nominal_sys_consts.m_M,\n",
    "    constants.nominal_sys_consts.r,\n",
    "    constants.nominal_sys_consts.mu,\n",
    "    scene_graph = scene_graph\n",
    ")"
   ]
  },
  {
   "cell_type": "code",
   "execution_count": null,
   "id": "fc940f95-9961-4f4c-979b-3f3d74372849",
   "metadata": {},
   "outputs": [],
   "source": [
    "# Pedestal\n",
    "pedestal_instance = plant.pedestal.AddPedestal(mbp_plant, weld_base=False)"
   ]
  },
  {
   "cell_type": "code",
   "execution_count": null,
   "id": "34b71c48-cd6a-4a65-8804-46719b5d30f9",
   "metadata": {},
   "outputs": [],
   "source": [
    "# Paper\n",
    "paper_instance = mbp_plant.AddModelInstance(\"paper\")\n",
    "paper_dims = [\n",
    "    constants.PLYWOOD_LENGTH,\n",
    "    constants.nominal_sys_consts.w_L,\n",
    "    constants.nominal_sys_consts.h_L\n",
    "]\n",
    "paper_body = mbp_plant.AddRigidBody(\n",
    "    \"paper_body0\", paper_instance,\n",
    "    SpatialInertia(1, p_PScm_E=np.array([0., 0., 0.]),\n",
    "                   G_SP_E=UnitInertia.SolidBox(*paper_dims))\n",
    ")\n",
    "\n",
    "mbp_plant.RegisterCollisionGeometry(\n",
    "    paper_body, RigidTransform(), pydrake.geometry.Box(*paper_dims), \"paper_body0\",\n",
    "    pydrake.multibody.plant.CoulombFriction(1,1)\n",
    ")\n",
    "mbp_plant.RegisterVisualGeometry(\n",
    "    paper_body, RigidTransform(), pydrake.geometry.Box(*paper_dims),\n",
    "    \"paper_body0\", [0, 1, 0, 1])\n",
    "\n",
    "mbp_plant.WeldFrames(\n",
    "    mbp_plant.GetFrameByName(plant.pedestal.pedestal_base_name, pedestal_instance),\n",
    "    mbp_plant.GetBodyByName(\"paper_body0\").body_frame(),\n",
    "    RigidTransform(\n",
    "        RotationMatrix().MakeZRotation(-np.pi/2),\n",
    "        [0, 0, constants.PLYWOOD_LENGTH+constants.nominal_sys_consts.h_L/2+plant.pedestal.PEDESTAL_BASE_Z_DIM/2])\n",
    ")"
   ]
  },
  {
   "cell_type": "code",
   "execution_count": null,
   "id": "2367a812-c4f2-499e-9916-6c42b8bf48f8",
   "metadata": {},
   "outputs": [],
   "source": [
    "# False body\n",
    "empty_inertia = SpatialInertia(0, [0, 0, 0], UnitInertia(0, 0, 0))\n",
    "false_body_instance = mbp_plant.AddModelInstance(\"false\")\n",
    "mbp_plant.AddRigidBody(\"false_body\", false_body_instance, empty_inertia)\n",
    "\n",
    "end_effector_z_rotation = mbp_plant.AddJoint(pydrake.multibody.tree.RevoluteJoint(\n",
    "    \"contact_body_name_z_rotation\",\n",
    "    mbp_plant.GetFrameByName(contact_body_name),\n",
    "    mbp_plant.GetFrameByName(\"false_body\"),\n",
    "    [0, 0, 1],\n",
    "    damping=0\n",
    "))"
   ]
  },
  {
   "cell_type": "code",
   "execution_count": null,
   "id": "c7bb405a-c53f-4205-8358-72e3a246acb0",
   "metadata": {},
   "outputs": [],
   "source": [
    "mbp_plant.Finalize()"
   ]
  },
  {
   "cell_type": "markdown",
   "id": "33fd7935-3eea-45c2-985d-07d832e99dca",
   "metadata": {},
   "source": [
    "### Build diagram"
   ]
  },
  {
   "cell_type": "code",
   "execution_count": null,
   "id": "a5fea354-b969-4243-81db-fdab8da69dfc",
   "metadata": {},
   "outputs": [],
   "source": [
    "meshcat_params = MeshcatVisualizerParams()\n",
    "vis = MeshcatVisualizerCpp.AddToBuilder(\n",
    "    builder,\n",
    "    scene_graph.get_query_output_port(),\n",
    "    meshcat,\n",
    "    meshcat_params)\n",
    "\n",
    "diagram = builder.Build()\n",
    "context = diagram.CreateDefaultContext()\n",
    "ik_context = mbp_plant.GetMyContextFromRoot(context)\n",
    "vis_context = vis.GetMyContextFromRoot(context)"
   ]
  },
  {
   "cell_type": "markdown",
   "id": "47201358-60f9-4c58-9d0e-b4ed9fce1212",
   "metadata": {},
   "source": [
    "# Create end effector traj"
   ]
  },
  {
   "cell_type": "code",
   "execution_count": null,
   "id": "f24db91b-e660-4904-8943-04689679a7f9",
   "metadata": {},
   "outputs": [],
   "source": [
    "opt_DT = 0.1\n",
    "out_DT = 0.01"
   ]
  },
  {
   "cell_type": "code",
   "execution_count": null,
   "id": "9c74fb0b-88a7-47c4-8667-30a2dac6ce0c",
   "metadata": {},
   "outputs": [],
   "source": [
    "# Relative to *pedestal* CoM\n",
    "joint_position = [\n",
    "    - (w_L - constants.PEDESTAL_X_DIM/2),\n",
    "    0,\n",
    "    plant.pedestal.PEDESTAL_Z_DIM + constants.nominal_sys_consts.h_L/2 - plant.pedestal.PEDESTAL_BASE_Z_DIM/2\n",
    "]"
   ]
  },
  {
   "cell_type": "code",
   "execution_count": null,
   "id": "048e3c7c-3f51-41dc-b9ec-53632d7564f1",
   "metadata": {},
   "outputs": [],
   "source": [
    "# Trajectory parameters\n",
    "desired_contact_distance = w_L/2\n",
    "initial_z_speed = 0.02 # 2 cm per second\n",
    "angular_speed = np.pi/30\n",
    "\n",
    "desired_radius = np.sqrt(constants.nominal_sys_consts.r**2 + desired_contact_distance**2)\n",
    "offset_angle = np.arcsin(constants.nominal_sys_consts.r/desired_radius)"
   ]
  },
  {
   "cell_type": "code",
   "execution_count": null,
   "id": "a23c25a8-9bdc-4e57-a645-8c0851e09f2a",
   "metadata": {},
   "outputs": [],
   "source": [
    "# Two legs: Leg 1 (straight) and leg 2 (circle)\n",
    "## Leg 1 depends on where leg 2 starts, so need to do leg 2 first\n",
    "\n",
    "## Leg 2\n",
    "init_theta = -offset_angle\n",
    "end_theta = np.pi-offset_angle\n",
    "leg_2_duration = (end_theta - init_theta)/angular_speed\n",
    "leg_2_ts = np.arange(0,leg_2_duration,opt_DT)\n",
    "\n",
    "leg_2_thetas = np.interp(\n",
    "   leg_2_ts,\n",
    "    [0, leg_2_duration],\n",
    "    [init_theta, end_theta],\n",
    ")\n",
    "\n",
    "leg_2_xs = joint_position[0] - np.cos(leg_2_thetas)*desired_radius\n",
    "leg_2_ys = joint_position[1] * np.ones_like(leg_2_thetas)\n",
    "leg_2_zs = joint_position[2] + np.sin(leg_2_thetas)*desired_radius# + constants.nominal_sys_consts.r\n",
    "\n",
    "## Leg 1\n",
    "init_x = leg_2_xs[0]\n",
    "init_y = joint_position[1]\n",
    "init_z = joint_position[2] - 3*constants.nominal_sys_consts.r\n",
    "leg_1_end_z = leg_2_zs[0]\n",
    "\n",
    "leg_1_duration = (leg_1_end_z - init_z)/initial_z_speed\n",
    "leg_1_ts = np.arange(0,leg_1_duration,opt_DT)\n",
    "\n",
    "leg_1_thetas = init_theta*np.ones_like(leg_1_ts)\n",
    "leg_1_xs = init_x*np.ones_like(leg_1_ts)\n",
    "leg_1_ys = init_y*np.ones_like(leg_1_ts)\n",
    "leg_1_zs = np.interp(\n",
    "   leg_1_ts,\n",
    "    [0, leg_1_duration],\n",
    "    [init_z, leg_1_end_z],\n",
    ")\n",
    "\n",
    "# Stich together\n",
    "opt_ts = np.concatenate((leg_1_ts, leg_2_ts+leg_1_duration))\n",
    "xs = np.concatenate((leg_1_xs, leg_2_xs))\n",
    "ys = np.concatenate((leg_1_ys, leg_2_ys))\n",
    "zs = np.concatenate((leg_1_zs, leg_2_zs))\n",
    "thetas = np.concatenate((leg_1_thetas, leg_2_thetas))"
   ]
  },
  {
   "cell_type": "code",
   "execution_count": null,
   "id": "72bcd480-e449-4c05-9f12-9e9628c0b9d2",
   "metadata": {},
   "outputs": [],
   "source": [
    "out_ts = np.arange(0, opt_ts[-1], out_DT)"
   ]
  },
  {
   "cell_type": "markdown",
   "id": "4dc45920-346d-4ab6-a9fd-8cf5fc94ceab",
   "metadata": {},
   "source": [
    "## Check trajectory"
   ]
  },
  {
   "cell_type": "code",
   "execution_count": null,
   "id": "8170569a-9852-4229-91b1-c62fda7a0860",
   "metadata": {},
   "outputs": [],
   "source": [
    "plt.figure()\n",
    "plt.subplot(221)\n",
    "plt.plot(opt_ts, xs)\n",
    "plt.title(\"$x$\")\n",
    "plt.subplot(222)\n",
    "plt.plot(opt_ts, ys)\n",
    "plt.title(\"$y$\")\n",
    "plt.subplot(223)\n",
    "plt.plot(opt_ts, zs)\n",
    "plt.title(\"$z$\")\n",
    "plt.subplot(224)\n",
    "plt.plot(opt_ts, thetas)\n",
    "plt.title(r\"$\\theta$\")\n",
    "plt.show()"
   ]
  },
  {
   "cell_type": "code",
   "execution_count": null,
   "id": "b78d1749-e8e8-4f1a-bf30-20a905208a19",
   "metadata": {},
   "outputs": [],
   "source": [
    "plt.plot(xs, zs)\n",
    "\n",
    "plt.gca().set_aspect(\"equal\")"
   ]
  },
  {
   "cell_type": "markdown",
   "id": "8b736256-a928-4f1e-a1fc-5995bb720451",
   "metadata": {},
   "source": [
    "# Set margins"
   ]
  },
  {
   "cell_type": "code",
   "execution_count": null,
   "id": "1bab7557-23f4-4762-8213-8da492425ea7",
   "metadata": {},
   "outputs": [],
   "source": [
    "# Margin from joint limit\n",
    "q_margin = 20 * np.pi/180"
   ]
  },
  {
   "cell_type": "markdown",
   "id": "b912f66e-a19e-4366-8b86-f2d5ebd9bfc8",
   "metadata": {},
   "source": [
    "# Get initial values"
   ]
  },
  {
   "cell_type": "code",
   "execution_count": null,
   "id": "d4df816a-3ca6-45a9-8cac-bba29ef27e2a",
   "metadata": {},
   "outputs": [],
   "source": [
    "# Grab bodies and frames\n",
    "end_effector_body = mbp_plant.GetBodyByName(manipulator.data[\"contact_body_name\"])\n",
    "end_effector_frame = end_effector_body.body_frame()\n",
    "false_body_frame = mbp_plant.GetBodyByName(\"false_body\").body_frame()\n",
    "pedestal_base_frame = mbp_plant.GetBodyByName(plant.pedestal.pedestal_base_name).body_frame()"
   ]
  },
  {
   "cell_type": "code",
   "execution_count": null,
   "id": "da9284a6-ac09-454c-bc8a-f2a7351a53f0",
   "metadata": {},
   "outputs": [],
   "source": [
    "# Get initial position\n",
    "starting_q = np.array([\n",
    "    # Panda joints\n",
    "    -1.90831538,\n",
    "    -0.74013834,\n",
    "    2.29209901,\n",
    "    -2.58333082,\n",
    "    4.52633766,\n",
    "    0.60032527,\n",
    "    -3.10678351,\n",
    "    # Slack in z direction\n",
    "    2,\n",
    "    # Quaternion orientation of pedestal\n",
    "    1,\n",
    "    0,\n",
    "    0,\n",
    "    0,\n",
    "    # Position of pedestal\n",
    "    plant.pedestal.PEDESTAL_X_OFFSET,\n",
    "    plant.pedestal.PEDESTAL_Y_OFFSET,\n",
    "    plant.pedestal.PEDESTAL_BASE_Z_DIM/2\n",
    "])\n",
    "mbp_plant.SetPositions(ik_context, starting_q)\n",
    "vis.Publish(vis_context)"
   ]
  },
  {
   "cell_type": "code",
   "execution_count": null,
   "id": "f133c0ed-e290-4d20-aa20-2992eee81540",
   "metadata": {},
   "outputs": [],
   "source": [
    "# Grab joint limits\n",
    "lower_lims_raw = []\n",
    "upper_lims_raw = []\n",
    "vel_lims_raw = []\n",
    "accel_lims_raw = []\n",
    "\n",
    "for i in range(1,8):\n",
    "    jnt = mbp_plant.GetJointByName(\"panda_joint\" + str(i))\n",
    "    lower_lims_raw.append(jnt.position_lower_limits()[0])\n",
    "    upper_lims_raw.append(jnt.position_upper_limits()[0])\n",
    "    \n",
    "    lower_vel_limit = jnt.velocity_lower_limits()\n",
    "    upper_vel_limit = jnt.velocity_upper_limits()\n",
    "    assert -lower_vel_limit == upper_vel_limit\n",
    "    vel_lims_raw.append(upper_vel_limit[0])\n",
    "\n",
    "# I don't think the accel lims are in the URDF, but ther are here:\n",
    "# https://frankaemika.github.io/docs/control_parameters.html?highlight=joint%20limit\n",
    "accel_lims_raw = np.array([15, 7.5, 10, 12.5, 15, 20, 20])\n",
    "\n",
    "lower_lims_raw = np.array(lower_lims_raw)\n",
    "upper_lims_raw = np.array(upper_lims_raw)\n",
    "\n",
    "vel_lims_raw = np.array(vel_lims_raw)\n",
    "\n",
    "lower_lims = lower_lims_raw + q_margin\n",
    "upper_lims = upper_lims_raw - q_margin\n",
    "vel_lims = vel_lims_raw/2\n",
    "accel_lims = accel_lims_raw"
   ]
  },
  {
   "cell_type": "markdown",
   "id": "7c756e0f-a50d-4c50-a67d-bfe45f35a96e",
   "metadata": {},
   "source": [
    "# Run optimization"
   ]
  },
  {
   "cell_type": "markdown",
   "id": "30b9c985-346b-454c-9967-5d7138038426",
   "metadata": {},
   "source": [
    "## Set up geometries for collision checking"
   ]
  },
  {
   "cell_type": "code",
   "execution_count": null,
   "id": "224d5f63-f68d-4105-a887-f4a2acc13344",
   "metadata": {},
   "outputs": [],
   "source": [
    "geometry_pairs = [\n",
    "    # (\"paper_body0\", contact_body_name),\n",
    "    (\"paper_body0\", \"panda_hand\"),\n",
    "    (\"paper_body0\", \"panda_link8\"),\n",
    "    (\"paper_body0\", \"panda_link7\"),\n",
    "    (\"paper_body0\", \"panda_link6\"),\n",
    "    (\"paper_body0\", \"panda_link5\"),\n",
    "    (\"paper_body0\", \"panda_link4\"),\n",
    "    (\"paper_body0\", \"panda_link3\"),\n",
    "    (\"pedestal_left_body\", contact_body_name),\n",
    "    (\"pedestal_left_body\", \"panda_hand\"),\n",
    "    (\"pedestal_left_body\", \"panda_link8\"),\n",
    "    (\"pedestal_left_body\", \"panda_link7\"),\n",
    "    (\"pedestal_left_body\", \"panda_link6\"),\n",
    "    (\"pedestal_left_body\", \"panda_link5\"),\n",
    "    (\"pedestal_left_body\", \"panda_link4\"),\n",
    "    (\"pedestal_left_body\", \"panda_link3\"),\n",
    "    (\"pedestal_right_body\", contact_body_name),\n",
    "    (\"pedestal_right_body\", \"panda_hand\"),\n",
    "    (\"pedestal_right_body\", \"panda_link8\"),\n",
    "    (\"pedestal_right_body\", \"panda_link7\"),\n",
    "    (\"pedestal_right_body\", \"panda_link6\"),\n",
    "    (\"pedestal_right_body\", \"panda_link5\"),\n",
    "    (\"pedestal_right_body\", \"panda_link4\"),\n",
    "    (\"pedestal_right_body\", \"panda_link3\"),\n",
    "    (\"pedestal_bottom_body\", \"panda_hand\"),\n",
    "    (\"pedestal_bottom_body\", \"panda_link8\"),\n",
    "    (\"pedestal_bottom_body\", \"panda_link7\"),\n",
    "    (\"pedestal_bottom_body\", \"panda_link6\"),\n",
    "    (\"pedestal_bottom_body\", \"panda_link5\"),\n",
    "    (\"pedestal_bottom_body\", \"panda_link4\"),\n",
    "    (\"pedestal_bottom_body\", \"panda_link3\"),\n",
    "]\n",
    "\n",
    "# TODO: get this from joints?\n",
    "adjacent_pairs = [\n",
    "    (\"panda_link0\", \"panda_link1\"),\n",
    "    (\"panda_link1\", \"panda_link2\"),\n",
    "    (\"panda_link2\", \"panda_link3\"),\n",
    "    (\"panda_link3\", \"panda_link4\"),\n",
    "    (\"panda_link4\", \"panda_link5\"),\n",
    "    (\"panda_link5\", \"panda_link6\"),\n",
    "    (\"panda_link6\", \"panda_link7\"),\n",
    "    (\"panda_link6\", \"panda_link8\"),\n",
    "    (\"panda_link7\", \"panda_link8\"),\n",
    "    (\"panda_link7\", \"panda_hand\"),\n",
    "    (\"panda_link8\", \"panda_hand\"),\n",
    "]\n",
    "panda_links = [\"panda_link\" + str(i) for i in range(9)]\n",
    "panda_links += [\"panda_hand\"]\n",
    "for link_1 in panda_links:\n",
    "    for link_2 in panda_links:\n",
    "        if link_1 == link_2:\n",
    "            continue\n",
    "        if (link_1, link_2) in adjacent_pairs:\n",
    "            continue\n",
    "        if (link_2, link_1) in adjacent_pairs:\n",
    "            continue\n",
    "        if (link_2, link_1) in geometry_pairs:\n",
    "            continue\n",
    "        if (link_1, link_2) in geometry_pairs:\n",
    "            continue\n",
    "        geometry_pairs.append((link_1, link_2))\n",
    "        \n",
    "geometry_pair_idxs = set()\n",
    "for name1, name2 in geometry_pairs:\n",
    "    idxs = [\n",
    "        int(mbp_plant.GetBodyByName(name1).index()),\n",
    "        int(mbp_plant.GetBodyByName(name2).index())\n",
    "    ]\n",
    "    geometry_pair_idxs.add(tuple(sorted(idxs)))"
   ]
  },
  {
   "cell_type": "markdown",
   "id": "ceead15d-1f84-424b-a205-0d498fdcc0a2",
   "metadata": {},
   "source": [
    "## Run IK"
   ]
  },
  {
   "cell_type": "code",
   "execution_count": null,
   "id": "4fe429cf-db35-4317-b0cd-97313e413921",
   "metadata": {},
   "outputs": [],
   "source": [
    "num_iter = 1000"
   ]
  },
  {
   "cell_type": "code",
   "execution_count": null,
   "id": "e874fb81-645c-46d8-b77f-a2bf3e0c366e",
   "metadata": {},
   "outputs": [],
   "source": [
    "pedestal_x_range = [-10, 10]\n",
    "pedestal_y_range = [-10, 10]\n",
    "pedestal_z_range = [constants.IN_TO_M*3/8, plant.pedestal.PEDESTAL_BASE_Z_DIM*2]\n",
    "def sample_q():\n",
    "    q_sample = []\n",
    "    rng = np.random.default_rng()\n",
    "    for lb, ub in zip(lower_lims, upper_lims):\n",
    "        angle_range = ub - lb\n",
    "        sample = rng.random()*angle_range + lb\n",
    "        q_sample.append(sample)\n",
    "    q_sample.append(rng.random()*np.pi*2 - np.pi)\n",
    "    \n",
    "    q_sample += [1,0,0,0] # Pedestal orientation\n",
    "    \n",
    "    # x\n",
    "    x_range = pedestal_x_range[1] - pedestal_x_range[0]\n",
    "    sample = rng.random()*x_range + pedestal_x_range[0]\n",
    "    q_sample.append(sample)\n",
    "    \n",
    "    # y\n",
    "    y_range = pedestal_y_range[1] - pedestal_y_range[0]\n",
    "    sample = rng.random()*y_range + pedestal_y_range[0]\n",
    "    q_sample.append(sample)\n",
    "    \n",
    "    # z\n",
    "    z_range = pedestal_z_range[1] - pedestal_z_range[0]\n",
    "    sample = rng.random()*z_range + pedestal_z_range[0]\n",
    "    q_sample.append(sample)\n",
    "    \n",
    "    return q_sample"
   ]
  },
  {
   "cell_type": "code",
   "execution_count": null,
   "id": "b4df26d8-6c76-4f49-bed4-22254cae229b",
   "metadata": {},
   "outputs": [],
   "source": [
    "angle_tol = 1e-2\n",
    "pos_tol = 1e-3\n",
    "collision_buffer = 1e-3"
   ]
  },
  {
   "cell_type": "code",
   "execution_count": null,
   "id": "147e5f0c-20f8-4935-a9d4-dfb1b813f22f",
   "metadata": {},
   "outputs": [],
   "source": [
    "def violates_singularity(qs):\n",
    "    last_theta_X = None\n",
    "    last_theta_Y = None\n",
    "    last_theta_Z = None\n",
    "    theta_diff = np.pi\n",
    "\n",
    "    last_qw = None\n",
    "    last_qx = None\n",
    "    last_qy = None\n",
    "    last_qz = None\n",
    "    q_diff = 0.5\n",
    "\n",
    "    first_iter = True\n",
    "\n",
    "    for i, q in enumerate(qs):\n",
    "        mbp_plant.SetPositions(ik_context, q)\n",
    "\n",
    "        ee_pose = mbp_plant.EvalBodyPoseInWorld(ik_context, end_effector_body)\n",
    "\n",
    "        rpy = RollPitchYaw(ee_pose.rotation()).vector()\n",
    "        quat_ = ee_pose.rotation().ToQuaternion()\n",
    "\n",
    "        if not first_iter:\n",
    "            if abs(rpy[0] - last_theta_X) > theta_diff:\n",
    "                return True\n",
    "            if abs(rpy[1] - last_theta_Y) > theta_diff:\n",
    "                return True\n",
    "            if abs(rpy[2] - last_theta_Z) > theta_diff:\n",
    "                return True\n",
    "\n",
    "            if abs(quat_.w() - last_qw) > q_diff:\n",
    "                return True\n",
    "            if abs(quat_.x() - last_qx) > q_diff:\n",
    "                return True\n",
    "            if abs(quat_.y() - last_qy) > q_diff:\n",
    "                return True\n",
    "            if abs(quat_.z() - last_qz) > q_diff:\n",
    "                return True\n",
    "\n",
    "        last_theta_X = rpy[0]\n",
    "        last_theta_Y = rpy[1]\n",
    "        last_theta_Z = rpy[2]\n",
    "        last_qw = quat_.w()\n",
    "        last_qx = quat_.x()\n",
    "        last_qy = quat_.y()\n",
    "        last_qz = quat_.z()\n",
    "        first_iter = False\n",
    "    \n",
    "    return False"
   ]
  },
  {
   "cell_type": "code",
   "execution_count": null,
   "id": "aa23c14d-a25a-41fb-86be-dd73beac0bcb",
   "metadata": {},
   "outputs": [],
   "source": [
    "def violates_fine_grain_collision(opt_qs):\n",
    "    for q in opt_qs:\n",
    "        mbp_plant.SetPositions(ik_context, q)\n",
    "        mbp_plant.get_actuation_input_port().FixValue(ik_context, [0]*7) # Have to do this to use output port\n",
    "        contact_results = mbp_plant.get_contact_results_output_port().Eval(ik_context)\n",
    "\n",
    "        for i in range(contact_results.num_point_pair_contacts()):\n",
    "            info = contact_results.point_pair_contact_info(i)\n",
    "            idx_pair = tuple(sorted([int(info.bodyA_index()), int(info.bodyB_index())]))\n",
    "            if idx_pair in geometry_pair_idxs:\n",
    "                return True\n",
    "    return False"
   ]
  },
  {
   "cell_type": "code",
   "execution_count": null,
   "id": "496e137a-d387-4ddc-8699-6638c347b743",
   "metadata": {
    "tags": []
   },
   "outputs": [],
   "source": [
    "opt_qs = []\n",
    "for _ in range(num_iter):\n",
    "    init_q = sample_q()\n",
    "    \n",
    "    # Output arrays\n",
    "    opt_qs = []\n",
    "\n",
    "    is_success = True\n",
    "    pedestal_X = constants.IN_TO_M*22\n",
    "    pedestal_Y = -0.25\n",
    "    for t, theta, x, y, z in zip(opt_ts, thetas, xs, ys, zs):\n",
    "        # Create program\n",
    "        ik = InverseKinematics(mbp_plant, ik_context, with_joint_limits=False)\n",
    "\n",
    "        #Add collision constraints\n",
    "        for body_name_i, body_name_j in geometry_pairs:\n",
    "                col_geos_i = mbp_plant.GetCollisionGeometriesForBody(mbp_plant.GetBodyByName(body_name_i))\n",
    "                col_geos_j = mbp_plant.GetCollisionGeometriesForBody(mbp_plant.GetBodyByName(body_name_j))\n",
    "                \n",
    "                # For now, just use first element\n",
    "                # This gives us a rougher check which runs faster; we check for finer grained collisions at the end\n",
    "                col_geos_i = [col_geos_i[0]]\n",
    "                col_geos_j = [col_geos_j[0]]\n",
    "                \n",
    "                for col_geo_i in col_geos_i:\n",
    "                    for col_geo_j in col_geos_j:\n",
    "                        geo_list = (col_geo_i, col_geo_j)\n",
    "                        ik.AddDistanceConstraint(\n",
    "                            distance_lower=collision_buffer, distance_upper=1e9, geometry_pair=geo_list)\n",
    "\n",
    "        # End effector constraints\n",
    "        ## Position\n",
    "        p_WG_lower = np.array([[x-pos_tol, y-pos_tol, z-pos_tol]]).T\n",
    "        p_WG_upper = np.array([[x+pos_tol, y+pos_tol, z+pos_tol]]).T\n",
    "        ik.AddPositionConstraint(\n",
    "            frameA=pedestal_base_frame,\n",
    "            frameB=end_effector_frame, p_BQ=np.zeros(3),\n",
    "            p_AQ_lower=p_WG_lower, p_AQ_upper=p_WG_upper)\n",
    "        ## Orientation\n",
    "        ik.AddOrientationConstraint(\n",
    "            frameAbar=mbp_plant.world_frame(),\n",
    "            R_AbarA=RotationMatrix.MakeZRotation(np.pi/2),\n",
    "            frameBbar=false_body_frame,\n",
    "            R_BbarB=RotationMatrix.MakeXRotation(-theta-offset_angle),\n",
    "            theta_bound=angle_tol\n",
    "        )\n",
    "\n",
    "        # Pedestal constraints\n",
    "        ## Position\n",
    "        if len(opt_qs) == 0:\n",
    "            p_WG_lower = np.array([[pedestal_x_range[0], pedestal_y_range[0], pedestal_z_range[0]]]).T\n",
    "            p_WG_upper = np.array([[pedestal_x_range[1], pedestal_y_range[1], pedestal_z_range[1]]]).T\n",
    "        else:\n",
    "            p_WG_lower = np.array([[opt_qs[-1][-3], opt_qs[-1][-2], opt_qs[-1][-1]]]).T\n",
    "            p_WG_upper = np.array([[opt_qs[-1][-3], opt_qs[-1][-2], opt_qs[-1][-1]]]).T\n",
    "        ik.AddPositionConstraint(\n",
    "            frameA=mbp_plant.world_frame(),\n",
    "            frameB=pedestal_base_frame, p_BQ=np.zeros(3),\n",
    "            p_AQ_lower=p_WG_lower, p_AQ_upper=p_WG_upper)\n",
    "        ## Orientation\n",
    "        ik.AddOrientationConstraint(\n",
    "                frameAbar=mbp_plant.world_frame(), R_AbarA=RotationMatrix(),#.MakeZRotation(np.pi),\n",
    "                frameBbar=pedestal_base_frame, R_BbarB=RotationMatrix(),\n",
    "                theta_bound=1e-3\n",
    "            )\n",
    "        \n",
    "        # Joint space constraints\n",
    "        ## Add joint limit constraints\n",
    "        for q_, lb, ub in zip(ik.q(), lower_lims, upper_lims):\n",
    "            ik.prog().AddConstraint(q_ >= lb)\n",
    "            ik.prog().AddConstraint(q_ <= ub)\n",
    "        if len(opt_qs) > 0:\n",
    "            # Add velocity constraints\n",
    "            for q_, vel_lim, prev_q_ in zip(ik.q(), vel_lims, opt_qs[-1]): # TODOL reorder\n",
    "                ik.prog().AddConstraint(q_ >= prev_q_ - vel_lim*opt_DT)\n",
    "                ik.prog().AddConstraint(q_ <= prev_q_ + vel_lim*opt_DT)\n",
    "                vel = (q_ - prev_q_)/opt_DT\n",
    "                ik.prog().AddCost(vel**2)\n",
    "        if len(opt_qs) > 1:\n",
    "            for prev_prev_q_, prev_q_, q_, accel_lim in zip(opt_qs[-2], opt_qs[-1], ik.q(), accel_lims):\n",
    "                prev_vel = (prev_q_-prev_prev_q_)/opt_DT\n",
    "                vel = (q_ - prev_q_)/opt_DT\n",
    "                ik.prog().AddConstraint(vel >= prev_vel - accel_lim*opt_DT)\n",
    "                ik.prog().AddConstraint(vel <= prev_vel + accel_lim*opt_DT)\n",
    "\n",
    "        # Seed\n",
    "        if len(opt_qs) == 0:\n",
    "            ik.prog().SetInitialGuess(ik.q(), init_q)\n",
    "        else:\n",
    "            ik.prog().SetInitialGuess(ik.q(), opt_qs[-1])\n",
    "\n",
    "        # Solve and grab values\n",
    "        result = Solve(ik.prog())\n",
    "        if not result.is_success():\n",
    "            is_success = False\n",
    "            print(\"==================\")\n",
    "            print(\"Failed at time {} for iter {}\".format(t, _))\n",
    "            print(\"Failed constraints:\")\n",
    "            print(\"------------------\")\n",
    "            print(result.GetInfeasibleConstraintNames(ik.prog()))\n",
    "            print(\"------------------\")\n",
    "            print(\"==================\")\n",
    "            break\n",
    "\n",
    "        opt_qs.append(result.GetSolution(ik.q()))\n",
    "    if is_success:\n",
    "        # TODO: refactor this to do the checks earlier\n",
    "        if violates_singularity(opt_qs):\n",
    "            is_success = False\n",
    "            print(\"==================\")\n",
    "            print(\"Failed at time {} for iter {}\".format(t, _))\n",
    "            print(\"Failed because of singularity violations.\")\n",
    "            print(\"==================\")\n",
    "            continue\n",
    "        if violates_fine_grain_collision(opt_qs):\n",
    "            is_success = False\n",
    "            print(\"==================\")\n",
    "            print(\"Failed at time {} for iter {}\".format(t, _))\n",
    "            print(\"Failed because of collisions.\")\n",
    "            print(\"==================\")\n",
    "            continue\n",
    "        print(\"Success!\")\n",
    "        print(\"Initial position:\", opt_qs[0])\n",
    "        break\n",
    "init_q = opt_qs[0]\n",
    "opt_qs = np.array(opt_qs)"
   ]
  },
  {
   "cell_type": "markdown",
   "id": "033ca106-5d50-4ffc-8cd8-6f224446d475",
   "metadata": {},
   "source": [
    "## Interpolate"
   ]
  },
  {
   "cell_type": "code",
   "execution_count": null,
   "id": "1459ce8c-ed1a-4bee-b8fe-2df9d2a9fa50",
   "metadata": {},
   "outputs": [],
   "source": [
    "opt_qs = np.array(opt_qs)"
   ]
  },
  {
   "cell_type": "code",
   "execution_count": null,
   "id": "01292107-17ca-48ca-bc78-ccbbbf213aca",
   "metadata": {},
   "outputs": [],
   "source": [
    "out_qs = []\n",
    "for i in range(opt_qs.shape[1]):\n",
    "    out_qs.append(np.interp(\n",
    "       out_ts,\n",
    "        opt_ts,\n",
    "        opt_qs[:,i],\n",
    "    ))\n",
    "out_qs = np.array(out_qs).T"
   ]
  },
  {
   "cell_type": "markdown",
   "id": "3147c12f-b4d3-4e2a-8c93-77d5780fa495",
   "metadata": {},
   "source": [
    "# Results"
   ]
  },
  {
   "cell_type": "markdown",
   "id": "fdc0b2b9-e3ac-416c-b0e3-6f12956392e4",
   "metadata": {},
   "source": [
    "## Visualize in meshcat"
   ]
  },
  {
   "cell_type": "code",
   "execution_count": null,
   "id": "07ea44b5",
   "metadata": {},
   "outputs": [],
   "source": [
    "assert False"
   ]
  },
  {
   "cell_type": "code",
   "execution_count": null,
   "id": "3da1df8f-b944-4de7-a6bd-cd9fb82ddcae",
   "metadata": {
    "tags": []
   },
   "outputs": [],
   "source": [
    "t = 0\n",
    "dt = out_DT\n",
    "xs_out = []\n",
    "ys_out = []\n",
    "zs_out = []\n",
    "theta_Xs_out = []\n",
    "theta_Ys_out = []\n",
    "theta_Zs_out = []\n",
    "theta_Ls_out = []\n",
    "theta_L_EE_out = []\n",
    "\n",
    "q_ws = []\n",
    "q_xs = []\n",
    "q_ys = []\n",
    "q_zs = []\n",
    "\n",
    "for q in out_qs:\n",
    "    mbp_plant.SetPositions(ik_context, q)\n",
    "\n",
    "    # Evaluate end effector pose\n",
    "    X_W_EE = mbp_plant.EvalBodyPoseInWorld(ik_context, end_effector_body)\n",
    "    xs_out.append(X_W_EE.translation()[0])\n",
    "    ys_out.append(X_W_EE.translation()[1])\n",
    "    zs_out.append(X_W_EE.translation()[2])\n",
    "    theta_Xs_out.append(RollPitchYaw(X_W_EE.rotation()).vector()[0])\n",
    "    theta_Ys_out.append(RollPitchYaw(X_W_EE.rotation()).vector()[1])\n",
    "    theta_Zs_out.append(RollPitchYaw(X_W_EE.rotation()).vector()[2])\n",
    "    \n",
    "    q_ws.append(X_W_EE.rotation().ToQuaternion().w())\n",
    "    q_xs.append(X_W_EE.rotation().ToQuaternion().x())\n",
    "    q_ys.append(X_W_EE.rotation().ToQuaternion().y())\n",
    "    q_zs.append(X_W_EE.rotation().ToQuaternion().z())\n",
    "\n",
    "    # Visualize\n",
    "    visualization.AddMeshcatTriad(meshcat, \"man_pose\", X_PT=X_W_EE)\n",
    "    false_pose = mbp_plant.EvalBodyPoseInWorld(\n",
    "        ik_context, mbp_plant.GetBodyByName(\"false_body\"))\n",
    "    visualization.AddMeshcatTriad(meshcat, \"false_pose\", X_PT=false_pose, opacity=0.3)\n",
    "    \n",
    "    pedestal_xyz = np.array(q[-3:])+np.array(joint_position)\n",
    "    theta_L = RollPitchYaw(false_pose.rotation()).vector()[0]\n",
    "    if t > leg_1_duration: # Only update orientation map during leg2\n",
    "        theta_Ls_out.append(theta_L)\n",
    "    \n",
    "    X_W_L = RigidTransform(p=[\n",
    "        pedestal_xyz[0] - desired_contact_distance*np.cos(theta_L),\n",
    "        pedestal_xyz[1],\n",
    "        pedestal_xyz[2] + desired_contact_distance*np.sin(theta_L)\n",
    "    ], R=RotationMatrix.MakeYRotation(theta_L))\n",
    "    visualization.AddMeshcatTriad(meshcat, \"link_pose\", X_PT=X_W_L)\n",
    "\n",
    "    X_L_EE = X_W_L.inverse().multiply(X_W_EE)\n",
    "    R_L_EE = X_L_EE.rotation()\n",
    "    theta_L_EE_Z = RollPitchYaw(R_L_EE).vector()[2]\n",
    "    target_pose = X_W_L.multiply(RigidTransform(R=RotationMatrix.MakeZRotation(theta_L_EE_Z)))\n",
    "    visualization.AddMeshcatTriad(meshcat, \"target_pose\", X_PT=target_pose)\n",
    "    if t > leg_1_duration: # Only update orientation map during leg2\n",
    "        theta_L_EE_out.append(theta_L_EE_Z)\n",
    "\n",
    "    # Publish and increment time\n",
    "    vis.Publish(vis_context)\n",
    "    time.sleep(dt)\n",
    "    t += dt\n",
    "\n",
    "xs_out = np.array(xs_out)\n",
    "ys_out = np.array(ys_out)\n",
    "zs_out = np.array(zs_out)\n",
    "theta_Xs_out = np.array(theta_Xs_out)\n",
    "theta_Ys_out = np.array(theta_Ys_out)\n",
    "theta_Zs_out = np.array(theta_Zs_out)\n",
    "theta_Ls_out = np.array(theta_Ls_out)\n",
    "theta_L_EE_out = np.array(theta_L_EE_out)"
   ]
  },
  {
   "cell_type": "markdown",
   "id": "faefcdb1-71fa-4c1b-b2a9-09db4c567d84",
   "metadata": {},
   "source": [
    "## Plot results"
   ]
  },
  {
   "cell_type": "code",
   "execution_count": null,
   "id": "cadd0fc0-09dc-4052-93c8-b01eadfb7123",
   "metadata": {},
   "outputs": [],
   "source": [
    "plt.plot(out_ts, ys_out)\n",
    "plt.show()"
   ]
  },
  {
   "cell_type": "code",
   "execution_count": null,
   "id": "47e580b0-8563-4053-9a30-4a0fb1a0baf9",
   "metadata": {},
   "outputs": [],
   "source": [
    "plt.figure()\n",
    "# TODO: Subtract off pedestal values instead of initial values\n",
    "plt.plot(xs-xs[0]+xs_out[0], zs-zs[0]+zs_out[0], label=\"Desired\", color='purple', linestyle='--')\n",
    "plt.plot(xs_out, zs_out, label=\"Actual\", color='purple', alpha=0.3)\n",
    "plt.gca().set_aspect(\"equal\")"
   ]
  },
  {
   "cell_type": "code",
   "execution_count": null,
   "id": "f276540f-cd47-4031-9e79-43ab02e236d6",
   "metadata": {},
   "outputs": [],
   "source": [
    "plt.figure()\n",
    "plt.plot(out_ts, theta_Xs_out, label=r\"$\\theta_X$\", color='red')\n",
    "plt.plot(out_ts, theta_Ys_out, label=r\"$\\theta_Y$\", color='green')\n",
    "plt.plot(out_ts, theta_Zs_out, label=r\"$\\theta_Z$\", color='blue')\n",
    "plt.legend()\n",
    "plt.show()"
   ]
  },
  {
   "cell_type": "code",
   "execution_count": null,
   "id": "1d35763e-1f1c-4cfc-833a-be9f2a998505",
   "metadata": {},
   "outputs": [],
   "source": [
    "plt.figure()\n",
    "plt.plot(out_ts, q_ws, label=r\"$w$\", color='gray', linewidth=3, marker='o')\n",
    "plt.plot(out_ts, q_xs, label=r\"$x$\", color='r', linewidth=3, marker='o')\n",
    "plt.plot(out_ts, q_ys, label=r\"$y$\", color='g', linewidth=3, marker='o')\n",
    "plt.plot(out_ts, q_zs, label=r\"$z$\", color='b', linewidth=3, marker='o')\n",
    "plt.legend()\n",
    "plt.show()"
   ]
  },
  {
   "cell_type": "code",
   "execution_count": null,
   "id": "0b78e2b5-7804-4966-bfb8-a6bf26371722",
   "metadata": {},
   "outputs": [],
   "source": [
    "for i in range(8):\n",
    "    plt.subplot(2, 4, i+1)\n",
    "\n",
    "    plt.plot(out_ts, np.array(out_qs)[:,i])\n",
    "    if i < 7:\n",
    "        plt.ylim([-np.pi*1.1, np.pi*1.1])\n",
    "    plt.ylabel(\"Angle (radians)\")\n",
    "    plt.xlabel(\"Time (seconds)\")\n",
    "    plt.tight_layout()\n",
    "plt.show()"
   ]
  },
  {
   "cell_type": "code",
   "execution_count": null,
   "id": "27802318",
   "metadata": {},
   "outputs": [],
   "source": [
    "plt.figure()\n",
    "plt.plot(theta_Ls_out, theta_L_EE_out)\n",
    "plt.show()"
   ]
  },
  {
   "cell_type": "markdown",
   "id": "640d335a-da59-428c-bef3-45845c180bb5",
   "metadata": {},
   "source": [
    "## Query meshcat visualization"
   ]
  },
  {
   "cell_type": "code",
   "execution_count": null,
   "id": "01865a58-68fd-4e4c-a45a-b1755c924c6e",
   "metadata": {},
   "outputs": [],
   "source": [
    "query_idx = 2000"
   ]
  },
  {
   "cell_type": "code",
   "execution_count": null,
   "id": "08f9c8fe-f014-4aad-87ba-2d7df65c0f7f",
   "metadata": {},
   "outputs": [],
   "source": [
    "## Select what position to visualize\n",
    "# mbp_plant.SetPositions(ik_context, out_qs[0])\n",
    "mbp_plant.SetPositions(ik_context, out_qs[query_idx])\n",
    "# mbp_plant.SetPositions(ik_context, starting_q)\n",
    "# mbp_plant.SetPositions(ik_context, plant.manipulator.neutral_q + [0])\n",
    "\n",
    "ee_pose = mbp_plant.EvalBodyPoseInWorld(ik_context, end_effector_body)\n",
    "visualization.AddMeshcatTriad(meshcat, \"man_pose\", X_PT=ee_pose)\n",
    "false_pose = mbp_plant.EvalBodyPoseInWorld(\n",
    "    ik_context, mbp_plant.GetBodyByName(\"false_body\"))\n",
    "visualization.AddMeshcatTriad(meshcat, \"false_pose\", X_PT=false_pose, opacity=0.3)\n",
    "vis.Publish(vis_context)"
   ]
  },
  {
   "cell_type": "markdown",
   "id": "93294abd-91d5-4dbf-8681-b62efa592062",
   "metadata": {},
   "source": [
    "# Save results"
   ]
  },
  {
   "cell_type": "code",
   "execution_count": null,
   "id": "e2cd3070-d968-4180-bb72-ef4d52c42fb3",
   "metadata": {},
   "outputs": [],
   "source": [
    "# This prevents the whole script from running through when I do \"run all cells\",\n",
    "# which I want to do without necessarily overriding existing outputs\n",
    "assert False"
   ]
  },
  {
   "cell_type": "code",
   "execution_count": null,
   "id": "b8ff8d20-b489-42d2-bb27-a75387084a84",
   "metadata": {},
   "outputs": [],
   "source": [
    "file_qs = np.array(out_qs)[:,:7]"
   ]
  },
  {
   "cell_type": "code",
   "execution_count": null,
   "id": "cbea1b34-cb15-45a2-854b-ff67dcca49b0",
   "metadata": {},
   "outputs": [],
   "source": [
    "np.savez(\"qs.npz\", qs=file_qs)"
   ]
  },
  {
   "cell_type": "code",
   "execution_count": null,
   "id": "4dfbac8b-1090-4dd4-8ea7-0657df53a4ea",
   "metadata": {},
   "outputs": [],
   "source": [
    "poses = []\n",
    "for (x_, y_, z_, q_w_, q_x_, q_y_, q_z_) in zip(xs_out, ys_out, zs_out, q_ws, q_xs, q_ys, q_zs):\n",
    "    pos_dict = {}\n",
    "    pos_dict[\"position\"]  = [x_, y_, z_]\n",
    "    pos_dict[\"orientation\"] = quaternion.quaternion(q_w_, q_x_, q_y_, q_z_)\n",
    "    poses.append(pos_dict)\n",
    "np.savez(\"x0s.npz\", poses=poses)"
   ]
  },
  {
   "cell_type": "code",
   "execution_count": null,
   "id": "538c7e47-4b6c-4364-98b7-421b0d84ed03",
   "metadata": {},
   "outputs": [],
   "source": [
    "np.savez(\"starting_q.npz\", starting_q=file_qs[0])"
   ]
  },
  {
   "cell_type": "code",
   "execution_count": null,
   "id": "a3f48096-c82e-4fd0-bd32-25705b0b8c06",
   "metadata": {},
   "outputs": [],
   "source": [
    "np.savez(\"pedestal_xyz.npz\", pedestal_xyz=out_qs[0][-3:])"
   ]
  },
  {
   "cell_type": "code",
   "execution_count": null,
   "id": "1f5c0c7e",
   "metadata": {},
   "outputs": [],
   "source": [
    "np.savez(\"x0s_sim.npz\", poses=np.vstack([\n",
    "        theta_Xs_out,\n",
    "        theta_Ys_out,\n",
    "        theta_Zs_out,\n",
    "        xs_out,\n",
    "        ys_out,\n",
    "        zs_out\n",
    "    ]), ts=out_ts,\n",
    ")"
   ]
  },
  {
   "cell_type": "code",
   "execution_count": null,
   "id": "c3705739",
   "metadata": {},
   "outputs": [],
   "source": [
    "np.savez(\"orientation_map.npz\", \n",
    "    theta_Ls=theta_Ls_out,\n",
    "    theta_L_EE=theta_L_EE_out\n",
    ")"
   ]
  }
 ],
 "metadata": {
  "kernelspec": {
   "display_name": "Python 3.9.9 64-bit",
   "language": "python",
   "name": "python399jvsc74a57bd0aee8b7b246df8f9039afb4144a1f6fd8d2ca17a180786b69acc140d282b71a49"
  },
  "language_info": {
   "codemirror_mode": {
    "name": "ipython",
    "version": 3
   },
   "file_extension": ".py",
   "mimetype": "text/x-python",
   "name": "python",
   "nbconvert_exporter": "python",
   "pygments_lexer": "ipython3",
   "version": "3.9.9"
  }
 },
 "nbformat": 4,
 "nbformat_minor": 5
}
