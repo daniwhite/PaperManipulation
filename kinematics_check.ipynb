{
 "cells": [
  {
   "cell_type": "markdown",
   "id": "0262fd15-5770-44cb-88e8-03cc7f0651e8",
   "metadata": {},
   "source": [
    "# Setup"
   ]
  },
  {
   "cell_type": "markdown",
   "id": "93b63628-c68e-4947-8de1-85e3e55e6890",
   "metadata": {
    "tags": []
   },
   "source": [
    "## Imports"
   ]
  },
  {
   "cell_type": "code",
   "execution_count": null,
   "id": "a3740f0a-9409-4808-a4a4-750748f99e37",
   "metadata": {},
   "outputs": [],
   "source": [
    "# Numpy, Scipy, Matplotlib\n",
    "import scipy.interpolate\n",
    "import matplotlib\n",
    "import matplotlib.pyplot as plt\n",
    "import numpy as np\n",
    "\n",
    "# Drake imports\n",
    "import pydrake\n",
    "from pydrake.all import (DiagramBuilder, RigidTransform, MathematicalProgram, RollPitchYaw,\n",
    "                        RotationMatrix, Meshcat, MeshcatVisualizerParams, MeshcatVisualizerCpp,\n",
    "                        InverseKinematics, Solve, SpatialInertia, UnitInertia, JacobianWrtVariable)\n",
    "\n",
    "# Imports of other project files\n",
    "import constants\n",
    "import config\n",
    "\n",
    "import plant.simulation\n",
    "import plant.manipulator as manipulator\n",
    "\n",
    "import ctrl.aux\n",
    "import plant.pedestal\n",
    "\n",
    "import visualization\n",
    "\n",
    "# Other imports\n",
    "import time\n",
    "\n",
    "import quaternion"
   ]
  },
  {
   "cell_type": "code",
   "execution_count": null,
   "id": "77d6e274-72a5-4740-9249-70c5ae3ea607",
   "metadata": {},
   "outputs": [],
   "source": [
    "# Matplotlib configuring\n",
    "# USE FOR PAPER\n",
    "# plt.style.use(['science', 'no-latex'])\n",
    "# font = {'size'   : 14}\n",
    "# matplotlib.rc('font', **font)\n",
    "# default_figsize = (2*3,2*2)\n",
    "# USE GENERALLY\n",
    "font = {'size'   : 16}\n",
    "matplotlib.rc('font', **font)\n",
    "default_figsize = (16,8)"
   ]
  },
  {
   "cell_type": "code",
   "execution_count": null,
   "id": "b7438b68-8c7b-450f-a345-7cf73acf15ad",
   "metadata": {},
   "outputs": [],
   "source": [
    "matplotlib.rcParams['figure.figsize'] = (16,8)\n",
    "matplotlib.rcParams['lines.linewidth'] = 5\n",
    "matplotlib.rcParams[\"axes.xmargin\"] = 0"
   ]
  },
  {
   "cell_type": "markdown",
   "id": "8d6932c2-026b-46a8-ab95-ff5353f6f047",
   "metadata": {
    "tags": [],
    "toc-hr-collapsed": true
   },
   "source": [
    "## Drake initialization"
   ]
  },
  {
   "cell_type": "code",
   "execution_count": null,
   "id": "f21266a5-2e40-4123-bd3a-91a02c83eee4",
   "metadata": {},
   "outputs": [],
   "source": [
    "meshcat = Meshcat()\n",
    "web_url = meshcat.web_url()"
   ]
  },
  {
   "cell_type": "markdown",
   "id": "5d1689d4-4acb-4c0a-ad29-cfff7e9f9491",
   "metadata": {},
   "source": [
    "### Constants"
   ]
  },
  {
   "cell_type": "code",
   "execution_count": null,
   "id": "8c59b182-b998-44b9-a76f-6b5f549ed77c",
   "metadata": {},
   "outputs": [],
   "source": [
    "num_links = config.NumLinks.TWO\n",
    "sys_consts = constants.nominal_sys_consts(num_links)\n",
    "w_L = sys_consts.w_L\n",
    "h_L = sys_consts.h_L\n",
    "pedestal_x = plant.pedestal.PEDESTAL_Y_DIM"
   ]
  },
  {
   "cell_type": "code",
   "execution_count": null,
   "id": "4a7aeb66-278f-44b2-8433-11c7d7261b59",
   "metadata": {},
   "outputs": [],
   "source": [
    "# Pedestal\n",
    "pedestal_x_dim = constants.PEDESTAL_X_DIM(num_links)"
   ]
  },
  {
   "cell_type": "code",
   "execution_count": null,
   "id": "cb54bb86-9b9f-4a48-89e4-1fcb7d5b47c1",
   "metadata": {},
   "outputs": [],
   "source": [
    "contact_body_name = manipulator.data[\"contact_body_name\"]"
   ]
  },
  {
   "cell_type": "markdown",
   "id": "89d5203c-bd95-4d1e-9813-836b7b029000",
   "metadata": {},
   "source": [
    "### Creat MBP"
   ]
  },
  {
   "cell_type": "code",
   "execution_count": null,
   "id": "a9228edf-d32d-4a8e-845c-e8ce81e22e22",
   "metadata": {},
   "outputs": [],
   "source": [
    "builder = DiagramBuilder()\n",
    "\n",
    "mbp_plant, scene_graph = pydrake.multibody.plant.AddMultibodyPlantSceneGraph(\n",
    "    builder, time_step=1e-3)\n",
    "mbp_plant.set_stiction_tolerance(constants.v_stiction)\n",
    "mbp_plant.set_penetration_allowance(0.001)"
   ]
  },
  {
   "cell_type": "markdown",
   "id": "68f04ae0-5abd-494f-ab68-5bb584738854",
   "metadata": {},
   "source": [
    "### Add bodies"
   ]
  },
  {
   "cell_type": "code",
   "execution_count": null,
   "id": "0b0604cd-b081-4491-9452-ef64bd39bdc5",
   "metadata": {},
   "outputs": [],
   "source": [
    "# Arm\n",
    "manipulator.data[\"add_plant_function\"](\n",
    "    mbp_plant, sys_consts.m_M, sys_consts.r, sys_consts.mu, scene_graph = scene_graph\n",
    ")"
   ]
  },
  {
   "cell_type": "code",
   "execution_count": null,
   "id": "fc940f95-9961-4f4c-979b-3f3d74372849",
   "metadata": {},
   "outputs": [],
   "source": [
    "pedestal_instance = plant.pedestal.AddPedestal(mbp_plant, num_links, weld_base=False)"
   ]
  },
  {
   "cell_type": "code",
   "execution_count": null,
   "id": "34b71c48-cd6a-4a65-8804-46719b5d30f9",
   "metadata": {},
   "outputs": [],
   "source": [
    "# Paper\n",
    "paper_instance = mbp_plant.AddModelInstance(\"paper\")\n",
    "paper_dims = [\n",
    "    constants.PLYWOOD_LENGTH,\n",
    "    sys_consts.w_L,\n",
    "    sys_consts.h_L\n",
    "]\n",
    "paper_body = mbp_plant.AddRigidBody(\n",
    "    \"paper_body0\", paper_instance,\n",
    "    SpatialInertia(1, p_PScm_E=np.array([0., 0., 0.]),\n",
    "                   G_SP_E=UnitInertia.SolidBox(*paper_dims))\n",
    ")\n",
    "\n",
    "mbp_plant.RegisterCollisionGeometry(\n",
    "    paper_body, RigidTransform(), pydrake.geometry.Box(*paper_dims), \"paper_body0\",\n",
    "    pydrake.multibody.plant.CoulombFriction(1,1)\n",
    ")\n",
    "mbp_plant.RegisterVisualGeometry(\n",
    "    paper_body, RigidTransform(), pydrake.geometry.Box(*paper_dims),\n",
    "    \"paper_body0\", [0, 1, 0, 1])\n",
    "\n",
    "mbp_plant.WeldFrames(\n",
    "    mbp_plant.GetFrameByName(plant.pedestal.pedestal_base_name, pedestal_instance),\n",
    "    mbp_plant.GetBodyByName(\"paper_body0\").body_frame(),\n",
    "    RigidTransform(\n",
    "        RotationMatrix().MakeZRotation(-np.pi/2),\n",
    "        [0, 0, constants.PLYWOOD_LENGTH+sys_consts.h_L/2+plant.pedestal.PEDESTAL_BASE_Z_DIM/2])\n",
    ")"
   ]
  },
  {
   "cell_type": "code",
   "execution_count": null,
   "id": "2367a812-c4f2-499e-9916-6c42b8bf48f8",
   "metadata": {},
   "outputs": [],
   "source": [
    "# False body\n",
    "empty_inertia = SpatialInertia(0, [0, 0, 0], UnitInertia(0, 0, 0))\n",
    "false_body_instance = mbp_plant.AddModelInstance(\"false\")\n",
    "mbp_plant.AddRigidBody(\"false_body\", false_body_instance, empty_inertia)\n",
    "\n",
    "end_effector_z_rotation = mbp_plant.AddJoint(pydrake.multibody.tree.RevoluteJoint(\n",
    "    \"contact_body_name_z_rotation\",\n",
    "    mbp_plant.GetFrameByName(contact_body_name),\n",
    "    mbp_plant.GetFrameByName(\"false_body\"),\n",
    "    [0, 0, 1],\n",
    "    damping=0\n",
    "))"
   ]
  },
  {
   "cell_type": "code",
   "execution_count": null,
   "id": "c7bb405a-c53f-4205-8358-72e3a246acb0",
   "metadata": {},
   "outputs": [],
   "source": [
    "mbp_plant.Finalize()"
   ]
  },
  {
   "cell_type": "markdown",
   "id": "33fd7935-3eea-45c2-985d-07d832e99dca",
   "metadata": {},
   "source": [
    "### Build diagram"
   ]
  },
  {
   "cell_type": "code",
   "execution_count": null,
   "id": "a5fea354-b969-4243-81db-fdab8da69dfc",
   "metadata": {},
   "outputs": [],
   "source": [
    "meshcat_params = MeshcatVisualizerParams()\n",
    "vis = MeshcatVisualizerCpp.AddToBuilder(\n",
    "    builder,\n",
    "    scene_graph.get_query_output_port(),\n",
    "    meshcat,\n",
    "    meshcat_params)\n",
    "\n",
    "diagram = builder.Build()\n",
    "context = diagram.CreateDefaultContext()\n",
    "ik_context = mbp_plant.GetMyContextFromRoot(context)\n",
    "vis_context = vis.GetMyContextFromRoot(context)"
   ]
  },
  {
   "cell_type": "markdown",
   "id": "47201358-60f9-4c58-9d0e-b4ed9fce1212",
   "metadata": {},
   "source": [
    "# Create end effector traj"
   ]
  },
  {
   "cell_type": "code",
   "execution_count": null,
   "id": "f24db91b-e660-4904-8943-04689679a7f9",
   "metadata": {},
   "outputs": [],
   "source": [
    "opt_DT = 0.1\n",
    "out_DT = 0.01"
   ]
  },
  {
   "cell_type": "code",
   "execution_count": null,
   "id": "9c74fb0b-88a7-47c4-8667-30a2dac6ce0c",
   "metadata": {},
   "outputs": [],
   "source": [
    "# Relative to *pedestal* CoM\n",
    "joint_position = [\n",
    "    - (w_L - pedestal_x_dim/2),\n",
    "    0,\n",
    "    plant.pedestal.PEDESTAL_Z_DIM + sys_consts.h_L/2 - plant.pedestal.PEDESTAL_BASE_Z_DIM/2\n",
    "]"
   ]
  },
  {
   "cell_type": "code",
   "execution_count": null,
   "id": "048e3c7c-3f51-41dc-b9ec-53632d7564f1",
   "metadata": {},
   "outputs": [],
   "source": [
    "# Trajectory parameters\n",
    "desired_contact_distance = (num_links.value - 2 + 0.5)*w_L\n",
    "initial_z_speed = 0.02 # 2 cm per second\n",
    "angular_speed = np.pi/30\n",
    "\n",
    "desired_radius = np.sqrt(sys_consts.r**2 + desired_contact_distance**2)\n",
    "offset_angle = np.arcsin(sys_consts.r/desired_radius)"
   ]
  },
  {
   "cell_type": "code",
   "execution_count": null,
   "id": "a23c25a8-9bdc-4e57-a645-8c0851e09f2a",
   "metadata": {},
   "outputs": [],
   "source": [
    "# Two legs: Leg 1 (straight) and leg 2 (circle)\n",
    "## Leg 1 depends on where leg 2 starts, so need to do leg 2 first\n",
    "\n",
    "## Leg 2\n",
    "init_theta = -offset_angle\n",
    "end_theta = np.pi-offset_angle\n",
    "leg_2_duration = (end_theta - init_theta)/angular_speed\n",
    "leg_2_ts = np.arange(0,leg_2_duration,opt_DT)\n",
    "\n",
    "leg_2_thetas = np.interp(\n",
    "   leg_2_ts,\n",
    "    [0, leg_2_duration],\n",
    "    [init_theta, end_theta],\n",
    ")\n",
    "\n",
    "leg_2_xs = joint_position[0] - np.cos(leg_2_thetas)*desired_radius\n",
    "leg_2_ys = joint_position[1] * np.ones_like(leg_2_thetas)\n",
    "leg_2_zs = joint_position[2] + np.sin(leg_2_thetas)*desired_radius# + sys_consts.r\n",
    "\n",
    "## Leg 1\n",
    "init_x = leg_2_xs[0]\n",
    "init_y = joint_position[1]\n",
    "init_z = joint_position[2] - 3*sys_consts.r\n",
    "leg_1_end_z = leg_2_zs[0]\n",
    "\n",
    "leg_1_duration = (leg_1_end_z - init_z)/initial_z_speed\n",
    "leg_1_ts = np.arange(0,leg_1_duration,opt_DT)\n",
    "\n",
    "leg_1_thetas = init_theta*np.ones_like(leg_1_ts)\n",
    "leg_1_xs = init_x*np.ones_like(leg_1_ts)\n",
    "leg_1_ys = init_y*np.ones_like(leg_1_ts)\n",
    "leg_1_zs = np.interp(\n",
    "   leg_1_ts,\n",
    "    [0, leg_1_duration],\n",
    "    [init_z, leg_1_end_z],\n",
    ")\n",
    "\n",
    "# Stich together\n",
    "opt_ts = np.concatenate((leg_1_ts, leg_2_ts+leg_1_duration))\n",
    "xs = np.concatenate((leg_1_xs, leg_2_xs))\n",
    "ys = np.concatenate((leg_1_ys, leg_2_ys))\n",
    "zs = np.concatenate((leg_1_zs, leg_2_zs))\n",
    "thetas = np.concatenate((leg_1_thetas, leg_2_thetas))"
   ]
  },
  {
   "cell_type": "code",
   "execution_count": null,
   "id": "72bcd480-e449-4c05-9f12-9e9628c0b9d2",
   "metadata": {},
   "outputs": [],
   "source": [
    "out_ts = np.arange(0, opt_ts[-1], out_DT)"
   ]
  },
  {
   "cell_type": "markdown",
   "id": "4dc45920-346d-4ab6-a9fd-8cf5fc94ceab",
   "metadata": {},
   "source": [
    "## Check trajectory"
   ]
  },
  {
   "cell_type": "code",
   "execution_count": null,
   "id": "8170569a-9852-4229-91b1-c62fda7a0860",
   "metadata": {},
   "outputs": [],
   "source": [
    "plt.figure()\n",
    "plt.subplot(221)\n",
    "plt.plot(opt_ts, xs)\n",
    "plt.title(\"$x$\")\n",
    "plt.subplot(222)\n",
    "plt.plot(opt_ts, ys)\n",
    "plt.title(\"$y$\")\n",
    "plt.subplot(223)\n",
    "plt.plot(opt_ts, zs)\n",
    "plt.title(\"$z$\")\n",
    "plt.subplot(224)\n",
    "plt.plot(opt_ts, thetas)\n",
    "plt.title(r\"$\\theta$\")\n",
    "plt.show()"
   ]
  },
  {
   "cell_type": "code",
   "execution_count": null,
   "id": "b78d1749-e8e8-4f1a-bf30-20a905208a19",
   "metadata": {},
   "outputs": [],
   "source": [
    "plt.plot(xs, zs)\n",
    "\n",
    "plt.gca().set_aspect(\"equal\")"
   ]
  },
  {
   "cell_type": "markdown",
   "id": "8b736256-a928-4f1e-a1fc-5995bb720451",
   "metadata": {},
   "source": [
    "# Set margins"
   ]
  },
  {
   "cell_type": "code",
   "execution_count": null,
   "id": "1bab7557-23f4-4762-8213-8da492425ea7",
   "metadata": {},
   "outputs": [],
   "source": [
    "# Margin from joint limit\n",
    "q_margin = 20 * np.pi/180"
   ]
  },
  {
   "cell_type": "markdown",
   "id": "b912f66e-a19e-4366-8b86-f2d5ebd9bfc8",
   "metadata": {},
   "source": [
    "# Get initial values"
   ]
  },
  {
   "cell_type": "code",
   "execution_count": null,
   "id": "d4df816a-3ca6-45a9-8cac-bba29ef27e2a",
   "metadata": {},
   "outputs": [],
   "source": [
    "# Grab bodies and frames\n",
    "end_effector_body = mbp_plant.GetBodyByName(manipulator.data[\"contact_body_name\"])\n",
    "end_effector_frame = end_effector_body.body_frame()\n",
    "false_body_frame = mbp_plant.GetBodyByName(\"false_body\").body_frame()\n",
    "pedestal_base_frame = mbp_plant.GetBodyByName(plant.pedestal.pedestal_base_name).body_frame()"
   ]
  },
  {
   "cell_type": "code",
   "execution_count": null,
   "id": "da9284a6-ac09-454c-bc8a-f2a7351a53f0",
   "metadata": {},
   "outputs": [],
   "source": [
    "# Get initial position\n",
    "starting_q = np.array([\n",
    "    # Panda joints\n",
    "    -1.90831538,\n",
    "    -0.74013834,\n",
    "    2.29209901,\n",
    "    -2.58333082,\n",
    "    4.52633766,\n",
    "    0.60032527,\n",
    "    -3.10678351,\n",
    "    # Slack in z direction\n",
    "    2,\n",
    "    # Quaternion orientation of pedestal\n",
    "    1,\n",
    "    0,\n",
    "    0,\n",
    "    0,\n",
    "    # Position of pedestal, taken as somewhat arbitrary initial values from a previous sucessful run\n",
    "    -0.004,\n",
    "    -0.6,\n",
    "    plant.pedestal.PEDESTAL_BASE_Z_DIM/2\n",
    "])\n",
    "mbp_plant.SetPositions(ik_context, starting_q)\n",
    "vis.Publish(vis_context)"
   ]
  },
  {
   "cell_type": "code",
   "execution_count": null,
   "id": "f133c0ed-e290-4d20-aa20-2992eee81540",
   "metadata": {},
   "outputs": [],
   "source": [
    "# Grab joint limits\n",
    "lower_lims_raw = []\n",
    "upper_lims_raw = []\n",
    "vel_lims_raw = []\n",
    "accel_lims_raw = []\n",
    "\n",
    "for i in range(1,8):\n",
    "    jnt = mbp_plant.GetJointByName(\"panda_joint\" + str(i))\n",
    "    lower_lims_raw.append(jnt.position_lower_limits()[0])\n",
    "    upper_lims_raw.append(jnt.position_upper_limits()[0])\n",
    "    \n",
    "    lower_vel_limit = jnt.velocity_lower_limits()\n",
    "    upper_vel_limit = jnt.velocity_upper_limits()\n",
    "    assert -lower_vel_limit == upper_vel_limit\n",
    "    vel_lims_raw.append(upper_vel_limit[0])\n",
    "\n",
    "# I don't think the accel lims are in the URDF, but ther are here:\n",
    "# https://frankaemika.github.io/docs/control_parameters.html?highlight=joint%20limit\n",
    "accel_lims_raw = np.array([15, 7.5, 10, 12.5, 15, 20, 20])\n",
    "\n",
    "lower_lims_raw = np.array(lower_lims_raw)\n",
    "upper_lims_raw = np.array(upper_lims_raw)\n",
    "\n",
    "vel_lims_raw = np.array(vel_lims_raw)\n",
    "\n",
    "lower_lims = lower_lims_raw + q_margin\n",
    "upper_lims = upper_lims_raw - q_margin\n",
    "vel_lims = vel_lims_raw/2\n",
    "accel_lims = accel_lims_raw"
   ]
  },
  {
   "cell_type": "markdown",
   "id": "7c756e0f-a50d-4c50-a67d-bfe45f35a96e",
   "metadata": {},
   "source": [
    "# Run optimization"
   ]
  },
  {
   "cell_type": "markdown",
   "id": "30b9c985-346b-454c-9967-5d7138038426",
   "metadata": {},
   "source": [
    "## Set up geometries for collision checking"
   ]
  },
  {
   "cell_type": "code",
   "execution_count": null,
   "id": "224d5f63-f68d-4105-a887-f4a2acc13344",
   "metadata": {},
   "outputs": [],
   "source": [
    "# geometry_pairs = [\n",
    "#     # (\"paper_body0\", contact_body_name),\n",
    "#     (\"paper_body0\", \"panda_hand\"),\n",
    "#     (\"paper_body0\", \"panda_link8\"),\n",
    "#     (\"paper_body0\", \"panda_link7\"),\n",
    "#     (\"paper_body0\", \"panda_link6\"),\n",
    "#     (\"paper_body0\", \"panda_link5\"),\n",
    "#     (\"paper_body0\", \"panda_link4\"),\n",
    "#     (\"paper_body0\", \"panda_link3\"),\n",
    "#     (\"paper_body0\", \"panda_link2\"),\n",
    "#     (\"paper_body0\", \"panda_link1\"),\n",
    "#     (\"paper_body0\", \"panda_link0\"),\n",
    "#     (\"pedestal_left_body\", contact_body_name),\n",
    "#     (\"pedestal_left_body\", \"panda_hand\"),\n",
    "#     (\"pedestal_left_body\", \"panda_link8\"),\n",
    "#     (\"pedestal_left_body\", \"panda_link7\"),\n",
    "#     (\"pedestal_left_body\", \"panda_link6\"),\n",
    "#     (\"pedestal_left_body\", \"panda_link5\"),\n",
    "#     (\"pedestal_left_body\", \"panda_link4\"),\n",
    "#     (\"pedestal_left_body\", \"panda_link3\"),\n",
    "#     (\"pedestal_left_body\", \"panda_link2\"),\n",
    "#     (\"pedestal_left_body\", \"panda_link1\"),\n",
    "#     (\"pedestal_left_body\", \"panda_link0\"),\n",
    "#     (\"pedestal_right_body\", contact_body_name),\n",
    "#     (\"pedestal_right_body\", \"panda_hand\"),\n",
    "#     (\"pedestal_right_body\", \"panda_link8\"),\n",
    "#     (\"pedestal_right_body\", \"panda_link7\"),\n",
    "#     (\"pedestal_right_body\", \"panda_link6\"),\n",
    "#     (\"pedestal_right_body\", \"panda_link5\"),\n",
    "#     (\"pedestal_right_body\", \"panda_link4\"),\n",
    "#     (\"pedestal_right_body\", \"panda_link3\"),\n",
    "#     (\"pedestal_right_body\", \"panda_link2\"),\n",
    "#     (\"pedestal_right_body\", \"panda_link1\"),\n",
    "#     (\"pedestal_right_body\", \"panda_link0\"),\n",
    "#     (\"pedestal_bottom_body\", \"panda_hand\"),\n",
    "#     (\"pedestal_bottom_body\", \"panda_link8\"),\n",
    "#     (\"pedestal_bottom_body\", \"panda_link7\"),\n",
    "#     (\"pedestal_bottom_body\", \"panda_link6\"),\n",
    "#     (\"pedestal_bottom_body\", \"panda_link5\"),\n",
    "#     (\"pedestal_bottom_body\", \"panda_link4\"),\n",
    "#     (\"pedestal_bottom_body\", \"panda_link3\"),\n",
    "#     (\"pedestal_bottom_body\", \"panda_link2\"),\n",
    "#     (\"pedestal_bottom_body\", \"panda_link1\"),\n",
    "#     (\"pedestal_bottom_body\", \"panda_link0\"),\n",
    "# ]\n",
    "\n",
    "# # TODO: get this from joints?\n",
    "# adjacent_pairs = [\n",
    "#     (\"panda_link0\", \"panda_link1\"),\n",
    "#     (\"panda_link1\", \"panda_link2\"),\n",
    "#     (\"panda_link2\", \"panda_link3\"),\n",
    "#     (\"panda_link3\", \"panda_link4\"),\n",
    "#     (\"panda_link4\", \"panda_link5\"),\n",
    "#     (\"panda_link5\", \"panda_link6\"),\n",
    "#     (\"panda_link6\", \"panda_link7\"),\n",
    "#     (\"panda_link6\", \"panda_link8\"),\n",
    "#     (\"panda_link7\", \"panda_link8\"),\n",
    "#     (\"panda_link7\", \"panda_hand\"),\n",
    "#     (\"panda_link8\", \"panda_hand\"),\n",
    "# ]\n",
    "# panda_links = [\"panda_link\" + str(i) for i in range(9)]\n",
    "# panda_links += [\"panda_hand\"]\n",
    "# for link_1 in panda_links:\n",
    "#     for link_2 in panda_links:\n",
    "#         if link_1 == link_2:\n",
    "#             continue\n",
    "#         if (link_1, link_2) in adjacent_pairs:\n",
    "#             continue\n",
    "#         if (link_2, link_1) in adjacent_pairs:\n",
    "#             continue\n",
    "#         if (link_2, link_1) in geometry_pairs:\n",
    "#             continue\n",
    "#         if (link_1, link_2) in geometry_pairs:\n",
    "#             continue\n",
    "#         geometry_pairs.append((link_1, link_2))\n",
    "        \n",
    "# geometry_pair_idxs = set()\n",
    "# for name1, name2 in geometry_pairs:\n",
    "#     idxs = [\n",
    "#         int(mbp_plant.GetBodyByName(name1).index()),\n",
    "#         int(mbp_plant.GetBodyByName(name2).index())\n",
    "#     ]\n",
    "#     geometry_pair_idxs.add(tuple(sorted(idxs)))"
   ]
  },
  {
   "cell_type": "markdown",
   "id": "ceead15d-1f84-424b-a205-0d498fdcc0a2",
   "metadata": {},
   "source": [
    "## Run IK"
   ]
  },
  {
   "cell_type": "code",
   "execution_count": null,
   "id": "4fe429cf-db35-4317-b0cd-97313e413921",
   "metadata": {},
   "outputs": [],
   "source": [
    "# num_iter = 1000"
   ]
  },
  {
   "cell_type": "code",
   "execution_count": null,
   "id": "e874fb81-645c-46d8-b77f-a2bf3e0c366e",
   "metadata": {},
   "outputs": [],
   "source": [
    "# pedestal_x_range = [-10, 10]\n",
    "# pedestal_y_range = [-10, 10]\n",
    "# pedestal_z_range = [constants.IN_TO_M*3/8, plant.pedestal.PEDESTAL_BASE_Z_DIM*2]\n",
    "# def sample_q():\n",
    "#     q_sample = []\n",
    "#     rng = np.random.default_rng()\n",
    "#     for lb, ub in zip(lower_lims, upper_lims):\n",
    "#         angle_range = ub - lb\n",
    "#         sample = rng.random()*angle_range + lb\n",
    "#         q_sample.append(sample)\n",
    "#     q_sample.append(rng.random()*np.pi*2 - np.pi)\n",
    "    \n",
    "#     q_sample += [1,0,0,0] # Pedestal orientation\n",
    "    \n",
    "#     # x\n",
    "#     x_range = pedestal_x_range[1] - pedestal_x_range[0]\n",
    "#     sample = rng.random()*x_range + pedestal_x_range[0]\n",
    "#     q_sample.append(sample)\n",
    "    \n",
    "#     # y\n",
    "#     y_range = pedestal_y_range[1] - pedestal_y_range[0]\n",
    "#     sample = rng.random()*y_range + pedestal_y_range[0]\n",
    "#     q_sample.append(sample)\n",
    "    \n",
    "#     # z\n",
    "#     z_range = pedestal_z_range[1] - pedestal_z_range[0]\n",
    "#     sample = rng.random()*z_range + pedestal_z_range[0]\n",
    "#     q_sample.append(sample)\n",
    "    \n",
    "#     return q_sample"
   ]
  },
  {
   "cell_type": "code",
   "execution_count": null,
   "id": "b4df26d8-6c76-4f49-bed4-22254cae229b",
   "metadata": {},
   "outputs": [],
   "source": [
    "# angle_tol = 1e-2\n",
    "# pos_tol = 1e-3\n",
    "# collision_buffer = 1e-3"
   ]
  },
  {
   "cell_type": "code",
   "execution_count": null,
   "id": "147e5f0c-20f8-4935-a9d4-dfb1b813f22f",
   "metadata": {},
   "outputs": [],
   "source": [
    "# def violates_singularity(qs):\n",
    "#     last_theta_X = None\n",
    "#     last_theta_Y = None\n",
    "#     last_theta_Z = None\n",
    "#     theta_diff = np.pi\n",
    "\n",
    "#     last_qw = None\n",
    "#     last_qx = None\n",
    "#     last_qy = None\n",
    "#     last_qz = None\n",
    "#     q_diff = 0.5\n",
    "\n",
    "#     first_iter = True\n",
    "\n",
    "#     for i, q in enumerate(qs):\n",
    "#         mbp_plant.SetPositions(ik_context, q)\n",
    "\n",
    "#         ee_pose = mbp_plant.EvalBodyPoseInWorld(ik_context, end_effector_body)\n",
    "\n",
    "#         rpy = RollPitchYaw(ee_pose.rotation()).vector()\n",
    "#         quat_ = ee_pose.rotation().ToQuaternion()\n",
    "\n",
    "#         if not first_iter:\n",
    "#             if abs(rpy[0] - last_theta_X) > theta_diff:\n",
    "#                 return True\n",
    "#             if abs(rpy[1] - last_theta_Y) > theta_diff:\n",
    "#                 return True\n",
    "#             if abs(rpy[2] - last_theta_Z) > theta_diff:\n",
    "#                 return True\n",
    "\n",
    "#             if abs(quat_.w() - last_qw) > q_diff:\n",
    "#                 return True\n",
    "#             if abs(quat_.x() - last_qx) > q_diff:\n",
    "#                 return True\n",
    "#             if abs(quat_.y() - last_qy) > q_diff:\n",
    "#                 return True\n",
    "#             if abs(quat_.z() - last_qz) > q_diff:\n",
    "#                 return True\n",
    "\n",
    "#         last_theta_X = rpy[0]\n",
    "#         last_theta_Y = rpy[1]\n",
    "#         last_theta_Z = rpy[2]\n",
    "#         last_qw = quat_.w()\n",
    "#         last_qx = quat_.x()\n",
    "#         last_qy = quat_.y()\n",
    "#         last_qz = quat_.z()\n",
    "#         first_iter = False\n",
    "    \n",
    "#     return False"
   ]
  },
  {
   "cell_type": "code",
   "execution_count": null,
   "id": "aa23c14d-a25a-41fb-86be-dd73beac0bcb",
   "metadata": {},
   "outputs": [],
   "source": [
    "# def violates_fine_grain_collision(opt_qs):\n",
    "#     for q in opt_qs:\n",
    "#         mbp_plant.SetPositions(ik_context, q)\n",
    "#         mbp_plant.get_actuation_input_port().FixValue(ik_context, [0]*7) # Have to do this to use output port\n",
    "#         contact_results = mbp_plant.get_contact_results_output_port().Eval(ik_context)\n",
    "\n",
    "#         for i in range(contact_results.num_point_pair_contacts()):\n",
    "#             info = contact_results.point_pair_contact_info(i)\n",
    "#             idx_pair = tuple(sorted([int(info.bodyA_index()), int(info.bodyB_index())]))\n",
    "#             if idx_pair in geometry_pair_idxs:\n",
    "#                 return True\n",
    "#     return False"
   ]
  },
  {
   "cell_type": "code",
   "execution_count": null,
   "id": "72bca736-115b-4bf0-8ffb-d044a49d9dfe",
   "metadata": {},
   "outputs": [],
   "source": [
    "# def violates_kinematic_singularity(opt_qs):\n",
    "#     for q in opt_qs:\n",
    "#         mbp_plant.SetPositions(ik_context, q)\n",
    "#         mbp_plant.get_actuation_input_port().FixValue(ik_context, [0]*7) # Have to do this to use output port\n",
    "#         contact_results = mbp_plant.get_contact_results_output_port().Eval(ik_context)\n",
    "\n",
    "#         J = mbp_plant.CalcJacobianSpatialVelocity(\n",
    "#             ik_context,\n",
    "#             JacobianWrtVariable.kV,\n",
    "#             mbp_plant.GetFrameByName(contact_body_name),\n",
    "#             [0, 0, 0],\n",
    "#             mbp_plant.world_frame(),\n",
    "#             mbp_plant.world_frame())\n",
    "#         min_svd = np.min(np.linalg.svd(J)[1])\n",
    "#         print(min_svd)\n",
    "#         if min_svd < 0.05:\n",
    "#             return True\n",
    "#     return False"
   ]
  },
  {
   "cell_type": "code",
   "execution_count": null,
   "id": "496e137a-d387-4ddc-8699-6638c347b743",
   "metadata": {
    "tags": []
   },
   "outputs": [],
   "source": [
    "# opt_qs = []\n",
    "# for _ in range(num_iter):\n",
    "#     init_q = sample_q()\n",
    "    \n",
    "#     # Output arrays\n",
    "#     opt_qs = []\n",
    "\n",
    "#     is_success = True\n",
    "#     pedestal_X = constants.IN_TO_M*22\n",
    "#     pedestal_Y = -0.25\n",
    "#     for t, theta, x, y, z in zip(opt_ts, thetas, xs, ys, zs):\n",
    "#         # Create program\n",
    "#         ik = InverseKinematics(mbp_plant, ik_context, with_joint_limits=False)\n",
    "\n",
    "#         #Add collision constraints\n",
    "#         for body_name_i, body_name_j in geometry_pairs:\n",
    "#                 col_geos_i = mbp_plant.GetCollisionGeometriesForBody(mbp_plant.GetBodyByName(body_name_i))\n",
    "#                 col_geos_j = mbp_plant.GetCollisionGeometriesForBody(mbp_plant.GetBodyByName(body_name_j))\n",
    "                \n",
    "#                 # For now, just use first element\n",
    "#                 # This gives us a rougher check which runs faster; we check for finer grained collisions at the end\n",
    "#                 col_geos_i = [col_geos_i[0]]\n",
    "#                 col_geos_j = [col_geos_j[0]]\n",
    "                \n",
    "#                 for col_geo_i in col_geos_i:\n",
    "#                     for col_geo_j in col_geos_j:\n",
    "#                         geo_list = (col_geo_i, col_geo_j)\n",
    "#                         ik.AddDistanceConstraint(\n",
    "#                             distance_lower=collision_buffer, distance_upper=1e9, geometry_pair=geo_list)\n",
    "\n",
    "#         # End effector constraints\n",
    "#         ## Position\n",
    "#         p_WG_lower = np.array([[x-pos_tol, y-pos_tol, z-pos_tol]]).T\n",
    "#         p_WG_upper = np.array([[x+pos_tol, y+pos_tol, z+pos_tol]]).T\n",
    "#         ik.AddPositionConstraint(\n",
    "#             frameA=pedestal_base_frame,\n",
    "#             frameB=end_effector_frame, p_BQ=np.zeros(3),\n",
    "#             p_AQ_lower=p_WG_lower, p_AQ_upper=p_WG_upper)\n",
    "#         ## Orientation\n",
    "#         ik.AddOrientationConstraint(\n",
    "#             frameAbar=mbp_plant.world_frame(),\n",
    "#             R_AbarA=RotationMatrix.MakeZRotation(np.pi/2),\n",
    "#             frameBbar=false_body_frame,\n",
    "#             R_BbarB=RotationMatrix.MakeXRotation(-theta-offset_angle),\n",
    "#             theta_bound=angle_tol\n",
    "#         )\n",
    "\n",
    "#         # Pedestal constraints\n",
    "#         ## Position\n",
    "#         if len(opt_qs) == 0:\n",
    "#             p_WG_lower = np.array([[pedestal_x_range[0], pedestal_y_range[0], pedestal_z_range[0]]]).T\n",
    "#             p_WG_upper = np.array([[pedestal_x_range[1], pedestal_y_range[1], pedestal_z_range[1]]]).T\n",
    "#         else:\n",
    "#             p_WG_lower = np.array([[opt_qs[-1][-3], opt_qs[-1][-2], opt_qs[-1][-1]]]).T\n",
    "#             p_WG_upper = np.array([[opt_qs[-1][-3], opt_qs[-1][-2], opt_qs[-1][-1]]]).T\n",
    "#         ik.AddPositionConstraint(\n",
    "#             frameA=mbp_plant.world_frame(),\n",
    "#             frameB=pedestal_base_frame, p_BQ=np.zeros(3),\n",
    "#             p_AQ_lower=p_WG_lower, p_AQ_upper=p_WG_upper)\n",
    "#         ## Orientation\n",
    "#         ik.AddOrientationConstraint(\n",
    "#                 frameAbar=mbp_plant.world_frame(), R_AbarA=RotationMatrix(),#.MakeZRotation(np.pi),\n",
    "#                 frameBbar=pedestal_base_frame, R_BbarB=RotationMatrix(),\n",
    "#                 theta_bound=1e-3\n",
    "#             )\n",
    "        \n",
    "#         # Joint space constraints\n",
    "#         ## Add joint limit constraints\n",
    "#         for q_, lb, ub in zip(ik.q(), lower_lims, upper_lims):\n",
    "#             ik.prog().AddConstraint(q_ >= lb)\n",
    "#             ik.prog().AddConstraint(q_ <= ub)\n",
    "#         if len(opt_qs) > 0:\n",
    "#             # Add velocity constraints\n",
    "#             for q_, vel_lim, prev_q_ in zip(ik.q(), vel_lims, opt_qs[-1]): # TODOL reorder\n",
    "#                 ik.prog().AddConstraint(q_ >= prev_q_ - vel_lim*opt_DT)\n",
    "#                 ik.prog().AddConstraint(q_ <= prev_q_ + vel_lim*opt_DT)\n",
    "#                 vel = (q_ - prev_q_)/opt_DT\n",
    "#                 ik.prog().AddCost(vel**2)\n",
    "#         if len(opt_qs) > 1:\n",
    "#             for prev_prev_q_, prev_q_, q_, accel_lim in zip(opt_qs[-2], opt_qs[-1], ik.q(), accel_lims):\n",
    "#                 prev_vel = (prev_q_-prev_prev_q_)/opt_DT\n",
    "#                 vel = (q_ - prev_q_)/opt_DT\n",
    "#                 ik.prog().AddConstraint(vel >= prev_vel - accel_lim*opt_DT)\n",
    "#                 ik.prog().AddConstraint(vel <= prev_vel + accel_lim*opt_DT)\n",
    "\n",
    "#         # Seed\n",
    "#         if len(opt_qs) == 0:\n",
    "#             ik.prog().SetInitialGuess(ik.q(), init_q)\n",
    "#         else:\n",
    "#             ik.prog().SetInitialGuess(ik.q(), opt_qs[-1])\n",
    "\n",
    "#         # Solve and grab values\n",
    "#         result = Solve(ik.prog())\n",
    "#         if not result.is_success():\n",
    "#             is_success = False\n",
    "#             print(\"==================\")\n",
    "#             print(\"Failed at time {} for iter {}\".format(t, _))\n",
    "#             print(\"Failed constraints:\")\n",
    "#             print(\"------------------\")\n",
    "#             print(result.GetInfeasibleConstraintNames(ik.prog()))\n",
    "#             print(\"------------------\")\n",
    "#             print(\"==================\")\n",
    "#             break\n",
    "\n",
    "#         opt_qs.append(result.GetSolution(ik.q()))\n",
    "#     if is_success:\n",
    "#         # TODO: refactor this to do the checks earlier\n",
    "#         if violates_singularity(opt_qs):\n",
    "#             is_success = False\n",
    "#             print(\"==================\")\n",
    "#             print(\"Failed at time {} for iter {}\".format(t, _))\n",
    "#             print(\"Failed because of singularity violations.\")\n",
    "#             print(\"==================\")\n",
    "#             continue\n",
    "#         if violates_fine_grain_collision(opt_qs):\n",
    "#             is_success = False\n",
    "#             print(\"==================\")\n",
    "#             print(\"Failed at time {} for iter {}\".format(t, _))\n",
    "#             print(\"Failed because of collisions.\")\n",
    "#             print(\"==================\")\n",
    "#             continue\n",
    "#         if violates_kinematic_singularity(opt_qs):\n",
    "#             is_success = False\n",
    "#             print(\"==================\")\n",
    "#             print(\"Failed at time {} for iter {}\".format(t, _))\n",
    "#             print(\"Failed because of kinematic singularity.\")\n",
    "#             print(\"==================\")\n",
    "#             continue\n",
    "#         print(\"Success!\")\n",
    "#         print(\"Initial position:\", opt_qs[0])\n",
    "#         break\n",
    "# init_q = opt_qs[0]\n",
    "# opt_qs = np.array(opt_qs)"
   ]
  },
  {
   "cell_type": "markdown",
   "id": "033ca106-5d50-4ffc-8cd8-6f224446d475",
   "metadata": {},
   "source": [
    "## Interpolate"
   ]
  },
  {
   "cell_type": "code",
   "execution_count": null,
   "id": "1459ce8c-ed1a-4bee-b8fe-2df9d2a9fa50",
   "metadata": {},
   "outputs": [],
   "source": [
    "# opt_qs = np.array(opt_qs)"
   ]
  },
  {
   "cell_type": "code",
   "execution_count": null,
   "id": "01292107-17ca-48ca-bc78-ccbbbf213aca",
   "metadata": {},
   "outputs": [],
   "source": [
    "# out_qs = []\n",
    "# for i in range(opt_qs.shape[1]):\n",
    "#     out_qs.append(np.interp(\n",
    "#        out_ts,\n",
    "#         opt_ts,\n",
    "#         opt_qs[:,i],\n",
    "#     ))\n",
    "# out_qs = np.array(out_qs).T"
   ]
  },
  {
   "cell_type": "code",
   "execution_count": null,
   "id": "f5c501ea-7029-4fde-9704-e395ed9baac5",
   "metadata": {},
   "outputs": [],
   "source": [
    "out_qs_arm_ = np.load(\"qs_2_links.npz\")[\"qs\"]"
   ]
  },
  {
   "cell_type": "code",
   "execution_count": null,
   "id": "e8dce5ad-04d4-4037-b592-dbec6051cd4b",
   "metadata": {},
   "outputs": [],
   "source": [
    "out_qs_pedestal_tran_ = np.load(\"pedestal_xyz_2_links.npz\")[\"pedestal_xyz\"]"
   ]
  },
  {
   "cell_type": "code",
   "execution_count": null,
   "id": "69a0653b-7eea-42b2-83a4-597423c2141c",
   "metadata": {},
   "outputs": [],
   "source": [
    "# Add pedestal orientation and z slack, which sbouldn't matter now\n",
    "out_qs_2_no_repeats = np.concatenate(([0, 1,0,0,0], out_qs_pedestal_tran_))"
   ]
  },
  {
   "cell_type": "code",
   "execution_count": null,
   "id": "2648ad7c-16e2-4e27-b49d-a6e995253b35",
   "metadata": {},
   "outputs": [],
   "source": [
    "out_qs_2_ = np.repeat(np.expand_dims(out_qs_2_no_repeats,0), repeats=out_qs_arm_.shape[0], axis=0)"
   ]
  },
  {
   "cell_type": "code",
   "execution_count": null,
   "id": "6fb2b92e-c512-411f-98be-21803725cb03",
   "metadata": {},
   "outputs": [],
   "source": [
    "out_qs = np.hstack((out_qs_arm_, out_qs_2_))"
   ]
  },
  {
   "cell_type": "code",
   "execution_count": null,
   "id": "e101133f-1e5e-4d40-af48-cf0db448895d",
   "metadata": {},
   "outputs": [],
   "source": [
    "out_qs.shape"
   ]
  },
  {
   "cell_type": "markdown",
   "id": "3147c12f-b4d3-4e2a-8c93-77d5780fa495",
   "metadata": {},
   "source": [
    "# Results"
   ]
  },
  {
   "cell_type": "markdown",
   "id": "fdc0b2b9-e3ac-416c-b0e3-6f12956392e4",
   "metadata": {},
   "source": [
    "## Visualize in meshcat"
   ]
  },
  {
   "cell_type": "code",
   "execution_count": null,
   "id": "07ea44b5",
   "metadata": {},
   "outputs": [],
   "source": [
    "assert False"
   ]
  },
  {
   "cell_type": "code",
   "execution_count": null,
   "id": "3da1df8f-b944-4de7-a6bd-cd9fb82ddcae",
   "metadata": {
    "tags": []
   },
   "outputs": [],
   "source": [
    "t = 0\n",
    "dt = out_DT\n",
    "xs_out = []\n",
    "ys_out = []\n",
    "zs_out = []\n",
    "theta_Xs_out = []\n",
    "theta_Ys_out = []\n",
    "theta_Zs_out = []\n",
    "theta_Ls_out = []\n",
    "theta_L_EE_out = []\n",
    "\n",
    "q_ws = []\n",
    "q_xs = []\n",
    "q_ys = []\n",
    "q_zs = []\n",
    "\n",
    "for q in out_qs:\n",
    "    mbp_plant.SetPositions(ik_context, q)\n",
    "\n",
    "    # Evaluate end effector pose\n",
    "    X_W_EE = mbp_plant.EvalBodyPoseInWorld(ik_context, end_effector_body)\n",
    "    xs_out.append(X_W_EE.translation()[0])\n",
    "    ys_out.append(X_W_EE.translation()[1])\n",
    "    zs_out.append(X_W_EE.translation()[2])\n",
    "    theta_Xs_out.append(RollPitchYaw(X_W_EE.rotation()).vector()[0])\n",
    "    theta_Ys_out.append(RollPitchYaw(X_W_EE.rotation()).vector()[1])\n",
    "    theta_Zs_out.append(RollPitchYaw(X_W_EE.rotation()).vector()[2])\n",
    "    \n",
    "    q_ws.append(X_W_EE.rotation().ToQuaternion().w())\n",
    "    q_xs.append(X_W_EE.rotation().ToQuaternion().x())\n",
    "    q_ys.append(X_W_EE.rotation().ToQuaternion().y())\n",
    "    q_zs.append(X_W_EE.rotation().ToQuaternion().z())\n",
    "\n",
    "    # Visualize\n",
    "    visualization.AddMeshcatTriad(meshcat, \"man_pose\", X_PT=X_W_EE)\n",
    "    false_pose = mbp_plant.EvalBodyPoseInWorld(\n",
    "        ik_context, mbp_plant.GetBodyByName(\"false_body\"))\n",
    "    visualization.AddMeshcatTriad(meshcat, \"false_pose\", X_PT=false_pose, opacity=0.3)\n",
    "    \n",
    "    pedestal_xyz = np.array(q[-3:])+np.array(joint_position)\n",
    "    theta_L = RollPitchYaw(false_pose.rotation()).vector()[0]\n",
    "    if t > leg_1_duration: # Only update orientation map during leg2\n",
    "        theta_Ls_out.append(theta_L)\n",
    "    \n",
    "    X_W_L = RigidTransform(p=[\n",
    "        pedestal_xyz[0] - desired_contact_distance*np.cos(theta_L),\n",
    "        pedestal_xyz[1],\n",
    "        pedestal_xyz[2] + desired_contact_distance*np.sin(theta_L)\n",
    "    ], R=RotationMatrix.MakeYRotation(theta_L))\n",
    "    visualization.AddMeshcatTriad(meshcat, \"link_pose\", X_PT=X_W_L)\n",
    "\n",
    "    X_L_EE = X_W_L.inverse().multiply(X_W_EE)\n",
    "    R_L_EE = X_L_EE.rotation()\n",
    "    theta_L_EE_Z = RollPitchYaw(R_L_EE).vector()[2]\n",
    "    target_pose = X_W_L.multiply(RigidTransform(R=RotationMatrix.MakeZRotation(theta_L_EE_Z)))\n",
    "    visualization.AddMeshcatTriad(meshcat, \"target_pose\", X_PT=target_pose)\n",
    "    if t > leg_1_duration: # Only update orientation map during leg2\n",
    "        theta_L_EE_out.append(theta_L_EE_Z)\n",
    "\n",
    "    # Publish and increment time\n",
    "    vis.Publish(vis_context)\n",
    "    time.sleep(dt)\n",
    "    t += dt\n",
    "\n",
    "xs_out = np.array(xs_out)\n",
    "ys_out = np.array(ys_out)\n",
    "zs_out = np.array(zs_out)\n",
    "theta_Xs_out = np.array(theta_Xs_out)\n",
    "theta_Ys_out = np.array(theta_Ys_out)\n",
    "theta_Zs_out = np.array(theta_Zs_out)\n",
    "theta_Ls_out = np.array(theta_Ls_out)\n",
    "theta_L_EE_out = np.array(theta_L_EE_out)"
   ]
  },
  {
   "cell_type": "markdown",
   "id": "faefcdb1-71fa-4c1b-b2a9-09db4c567d84",
   "metadata": {},
   "source": [
    "## Plot results"
   ]
  },
  {
   "cell_type": "code",
   "execution_count": null,
   "id": "cadd0fc0-09dc-4052-93c8-b01eadfb7123",
   "metadata": {},
   "outputs": [],
   "source": [
    "plt.plot(out_ts, ys_out)\n",
    "plt.show()"
   ]
  },
  {
   "cell_type": "code",
   "execution_count": null,
   "id": "47e580b0-8563-4053-9a30-4a0fb1a0baf9",
   "metadata": {},
   "outputs": [],
   "source": [
    "plt.figure()\n",
    "# TODO: Subtract off pedestal values instead of initial values\n",
    "plt.plot(xs-xs[0]+xs_out[0], zs-zs[0]+zs_out[0], label=\"Desired\", color='purple', linestyle='--')\n",
    "plt.plot(xs_out, zs_out, label=\"Actual\", color='purple', alpha=0.3)\n",
    "plt.gca().set_aspect(\"equal\")"
   ]
  },
  {
   "cell_type": "code",
   "execution_count": null,
   "id": "f276540f-cd47-4031-9e79-43ab02e236d6",
   "metadata": {},
   "outputs": [],
   "source": [
    "plt.figure()\n",
    "plt.plot(out_ts, theta_Xs_out, label=r\"$\\theta_X$\", color='red')\n",
    "plt.plot(out_ts, theta_Ys_out, label=r\"$\\theta_Y$\", color='green')\n",
    "plt.plot(out_ts, theta_Zs_out, label=r\"$\\theta_Z$\", color='blue')\n",
    "plt.legend()\n",
    "plt.show()"
   ]
  },
  {
   "cell_type": "code",
   "execution_count": null,
   "id": "1d35763e-1f1c-4cfc-833a-be9f2a998505",
   "metadata": {},
   "outputs": [],
   "source": [
    "plt.figure()\n",
    "plt.plot(out_ts, q_ws, label=r\"$w$\", color='gray', linewidth=3, marker='o')\n",
    "plt.plot(out_ts, q_xs, label=r\"$x$\", color='r', linewidth=3, marker='o')\n",
    "plt.plot(out_ts, q_ys, label=r\"$y$\", color='g', linewidth=3, marker='o')\n",
    "plt.plot(out_ts, q_zs, label=r\"$z$\", color='b', linewidth=3, marker='o')\n",
    "plt.legend()\n",
    "plt.show()"
   ]
  },
  {
   "cell_type": "code",
   "execution_count": null,
   "id": "0b78e2b5-7804-4966-bfb8-a6bf26371722",
   "metadata": {},
   "outputs": [],
   "source": [
    "for i in range(8):\n",
    "    plt.subplot(2, 4, i+1)\n",
    "\n",
    "    plt.plot(out_ts, np.array(out_qs)[:,i])\n",
    "    if i < 7:\n",
    "        plt.ylim([-np.pi*1.1, np.pi*1.1])\n",
    "    plt.ylabel(\"Angle (radians)\")\n",
    "    plt.xlabel(\"Time (seconds)\")\n",
    "    plt.tight_layout()\n",
    "plt.show()"
   ]
  },
  {
   "cell_type": "code",
   "execution_count": null,
   "id": "27802318",
   "metadata": {},
   "outputs": [],
   "source": [
    "plt.figure()\n",
    "plt.plot(theta_Ls_out, theta_L_EE_out)\n",
    "plt.show()"
   ]
  },
  {
   "cell_type": "markdown",
   "id": "640d335a-da59-428c-bef3-45845c180bb5",
   "metadata": {},
   "source": [
    "## Query meshcat visualization"
   ]
  },
  {
   "cell_type": "code",
   "execution_count": null,
   "id": "01865a58-68fd-4e4c-a45a-b1755c924c6e",
   "metadata": {},
   "outputs": [],
   "source": [
    "query_idx = 2000"
   ]
  },
  {
   "cell_type": "code",
   "execution_count": null,
   "id": "08f9c8fe-f014-4aad-87ba-2d7df65c0f7f",
   "metadata": {},
   "outputs": [],
   "source": [
    "## Select what position to visualize\n",
    "# mbp_plant.SetPositions(ik_context, out_qs[0])\n",
    "mbp_plant.SetPositions(ik_context, out_qs[query_idx])\n",
    "# mbp_plant.SetPositions(ik_context, starting_q)\n",
    "# mbp_plant.SetPositions(ik_context, plant.manipulator.neutral_q + [0])\n",
    "\n",
    "ee_pose = mbp_plant.EvalBodyPoseInWorld(ik_context, end_effector_body)\n",
    "visualization.AddMeshcatTriad(meshcat, \"man_pose\", X_PT=ee_pose)\n",
    "false_pose = mbp_plant.EvalBodyPoseInWorld(\n",
    "    ik_context, mbp_plant.GetBodyByName(\"false_body\"))\n",
    "visualization.AddMeshcatTriad(meshcat, \"false_pose\", X_PT=false_pose, opacity=0.3)\n",
    "vis.Publish(vis_context)"
   ]
  },
  {
   "cell_type": "markdown",
   "id": "93294abd-91d5-4dbf-8681-b62efa592062",
   "metadata": {},
   "source": [
    "# Save results"
   ]
  },
  {
   "cell_type": "code",
   "execution_count": null,
   "id": "e2cd3070-d968-4180-bb72-ef4d52c42fb3",
   "metadata": {},
   "outputs": [],
   "source": [
    "# This prevents the whole script from running through when I do \"run all cells\",\n",
    "# which I want to do without necessarily overriding existing outputs\n",
    "assert False"
   ]
  },
  {
   "cell_type": "code",
   "execution_count": null,
   "id": "b8ff8d20-b489-42d2-bb27-a75387084a84",
   "metadata": {},
   "outputs": [],
   "source": [
    "file_qs = np.array(out_qs)[:,:7]"
   ]
  },
  {
   "cell_type": "code",
   "execution_count": null,
   "id": "cbea1b34-cb15-45a2-854b-ff67dcca49b0",
   "metadata": {},
   "outputs": [],
   "source": [
    "# np.savez(\"qs_{}_links.npz\".format(num_links.value), qs=file_qs)"
   ]
  },
  {
   "cell_type": "code",
   "execution_count": null,
   "id": "4dfbac8b-1090-4dd4-8ea7-0657df53a4ea",
   "metadata": {},
   "outputs": [],
   "source": [
    "# poses = []\n",
    "# for (x_, y_, z_, q_w_, q_x_, q_y_, q_z_) in zip(xs_out, ys_out, zs_out, q_ws, q_xs, q_ys, q_zs):\n",
    "#     pos_dict = {}\n",
    "#     pos_dict[\"position\"]  = [x_, y_, z_]\n",
    "#     pos_dict[\"orientation\"] = quaternion.quaternion(q_w_, q_x_, q_y_, q_z_)\n",
    "#     poses.append(pos_dict)\n",
    "# np.savez(\"x0s_{}_links.npz\".format(num_links.value), poses=poses)"
   ]
  },
  {
   "cell_type": "code",
   "execution_count": null,
   "id": "538c7e47-4b6c-4364-98b7-421b0d84ed03",
   "metadata": {},
   "outputs": [],
   "source": [
    "# np.savez(\"starting_q_{}_links.npz\".format(num_links.value), starting_q=file_qs[0])"
   ]
  },
  {
   "cell_type": "code",
   "execution_count": null,
   "id": "a3f48096-c82e-4fd0-bd32-25705b0b8c06",
   "metadata": {},
   "outputs": [],
   "source": [
    "# np.savez(\"pedestal_xyz_{}_links.npz\".format(num_links.value), pedestal_xyz=out_qs[0][-3:])"
   ]
  },
  {
   "cell_type": "code",
   "execution_count": null,
   "id": "1f5c0c7e",
   "metadata": {},
   "outputs": [],
   "source": [
    "np.savez(\"x0s_sim_{}_links.npz\".format(num_links.value), poses=np.vstack([\n",
    "        theta_Xs_out,\n",
    "        theta_Ys_out,\n",
    "        theta_Zs_out,\n",
    "        xs_out,\n",
    "        ys_out,\n",
    "        zs_out\n",
    "    ]), ts=out_ts[:-1],\n",
    ")"
   ]
  },
  {
   "cell_type": "code",
   "execution_count": null,
   "id": "c3705739",
   "metadata": {},
   "outputs": [],
   "source": [
    "np.savez(\"orientation_map_{}_links.npz\".format(num_links.value), \n",
    "    theta_Ls=theta_Ls_out,\n",
    "    theta_L_EE=theta_L_EE_out\n",
    ")"
   ]
  },
  {
   "cell_type": "markdown",
   "id": "d325213d-04c2-40ba-8bec-8d898bc060fb",
   "metadata": {},
   "source": [
    "# Tests"
   ]
  },
  {
   "cell_type": "code",
   "execution_count": null,
   "id": "0ed4846d-4be0-40e1-9fa5-ef2145e4aae3",
   "metadata": {},
   "outputs": [],
   "source": [
    "test2_ = np.load(\"x0s_sim_2_links.npz\")\n",
    "test4_ = np.load(\"x0s_sim_4_links.npz\")"
   ]
  },
  {
   "cell_type": "code",
   "execution_count": null,
   "id": "5fc88317-60fe-4f94-a157-b6511255ff23",
   "metadata": {},
   "outputs": [],
   "source": [
    "test2_[\"poses\"].shape\n",
    "test2_[\"ts\"].shape"
   ]
  },
  {
   "cell_type": "code",
   "execution_count": null,
   "id": "04849244-56f2-4c63-9ebf-e612900079f6",
   "metadata": {},
   "outputs": [],
   "source": [
    "test4_[\"poses\"].shape"
   ]
  },
  {
   "cell_type": "code",
   "execution_count": null,
   "id": "f4be7e16-8249-4c85-b321-677bfbc377c3",
   "metadata": {},
   "outputs": [],
   "source": []
  },
  {
   "cell_type": "markdown",
   "id": "cfe777f4-b723-4fe8-b542-7bb0ddb7b2e1",
   "metadata": {},
   "source": [
    "# Backwards"
   ]
  },
  {
   "cell_type": "code",
   "execution_count": null,
   "id": "feb05e2b-c14a-40b2-ad12-6baaa25e125a",
   "metadata": {},
   "outputs": [],
   "source": [
    "import warnings\n",
    "from pydrake.all import Quaternion, RollPitchYaw\n"
   ]
  },
  {
   "cell_type": "code",
   "execution_count": null,
   "id": "117c4c2c-14d2-43b7-a73e-49080e972b15",
   "metadata": {},
   "outputs": [],
   "source": [
    "def process_poses(poses):\n",
    "    xs = []\n",
    "    ys = []\n",
    "    zs = []\n",
    "    theta_xs = []\n",
    "    theta_ys = []\n",
    "    theta_zs = []\n",
    "    q_ws = []\n",
    "    q_xs = []\n",
    "    q_ys = []\n",
    "    q_zs = []\n",
    "    \n",
    "    for pose in poses:\n",
    "        xs.append(pose[\"position\"][0])\n",
    "        ys.append(pose[\"position\"][1])\n",
    "        zs.append(pose[\"position\"][2])\n",
    "\n",
    "        quat_vec = np.array([\n",
    "            pose['orientation'].w,\n",
    "            pose['orientation'].x,\n",
    "            pose['orientation'].y,\n",
    "            pose['orientation'].z\n",
    "        ])\n",
    "\n",
    "        q_ws.append(quat_vec[0])\n",
    "        q_xs.append(quat_vec[1])\n",
    "        q_ys.append(quat_vec[2])\n",
    "        q_zs.append(quat_vec[3])\n",
    "        \n",
    "        quat = Quaternion(\n",
    "            w=pose['orientation'].w,\n",
    "            x=pose['orientation'].x,\n",
    "            y=pose['orientation'].y,\n",
    "            z=pose['orientation'].z,\n",
    "        )\n",
    "        rpy = RollPitchYaw(quat).vector()\n",
    "        theta_xs.append(rpy[0])\n",
    "        theta_ys.append(rpy[1])\n",
    "        theta_zs.append(rpy[2])\n",
    "    return {\n",
    "        'x': np.array(xs),\n",
    "        'y': np.array(ys),\n",
    "        'z': np.array(zs),\n",
    "        'theta_x': np.array(theta_xs),\n",
    "        'theta_y': np.array(theta_ys),\n",
    "        'theta_z': np.array(theta_zs),\n",
    "        'q_w': np.array(q_ws), \n",
    "        'q_x': np.array(q_xs),\n",
    "        'q_y': np.array(q_ys),\n",
    "        'q_z': np.array(q_zs),\n",
    "    }"
   ]
  },
  {
   "cell_type": "code",
   "execution_count": null,
   "id": "5342ccaa-af01-49a6-b36f-bfdc933e7afa",
   "metadata": {},
   "outputs": [],
   "source": [
    "def process_poses_log(poses):\n",
    "    xs = poses[()]['x']\n",
    "    ys = poses[()]['y']\n",
    "    zs = poses[()]['z']\n",
    "    theta_xs = []\n",
    "    theta_ys = []\n",
    "    theta_zs = []\n",
    "    q_ws = []\n",
    "    q_xs = []\n",
    "    q_ys = []\n",
    "    q_zs = []\n",
    "    \n",
    "    for i in range(len(poses[()]['x'])):\n",
    "        quat = Quaternion(\n",
    "            w=poses[()]['q_w'][i],\n",
    "            x=poses[()]['q_x'][i],\n",
    "            y=poses[()]['q_y'][i],\n",
    "            z=poses[()]['q_z'][i],\n",
    "        )\n",
    "        rpy = RollPitchYaw(quat).vector()\n",
    "        theta_xs.append(rpy[0])\n",
    "        theta_ys.append(rpy[1])\n",
    "        theta_zs.append(rpy[2])\n",
    "\n",
    "        q_ws.append(poses[()]['q_w'][i])\n",
    "        q_xs.append(poses[()]['q_x'][i])\n",
    "        q_ys.append(poses[()]['q_y'][i])\n",
    "        q_zs.append(poses[()]['q_z'][i])\n",
    "    return {\n",
    "        'x': xs,\n",
    "        'y': ys,\n",
    "        'z': zs,\n",
    "        'theta_x': np.array(theta_xs),\n",
    "        'theta_y': np.array(theta_ys),\n",
    "        'theta_z': np.array(theta_zs),\n",
    "        'q_w': np.array(q_ws), \n",
    "        'q_x': np.array(q_xs),\n",
    "        'q_y': np.array(q_ys),\n",
    "        'q_z': np.array(q_zs),\n",
    "    }"
   ]
  },
  {
   "cell_type": "code",
   "execution_count": null,
   "id": "31618e71-77dc-4f75-9f33-a75c37a5d2f4",
   "metadata": {},
   "outputs": [],
   "source": [
    "def load_data(run_num, gain, prefix=\"q_ee\"):\n",
    "    pref_path = \"/Users/dani/Documents/lis/notes/testing/2022-04-29/\"\n",
    "    # Load npz\n",
    "    log_npz = np.load(pref_path + \"test1/runs/run{}/{}_log.npz\".format(run_num, prefix), allow_pickle=True)\n",
    "    \n",
    "    # Handle time\n",
    "    dt = log_npz[\"dt\"][()]\n",
    "    end_time = log_npz[\"end_time\"][()]\n",
    "    act_t = log_npz['t_log'] - log_npz['t_log'][0]\n",
    "    des_t = np.arange(0, end_time, dt)\n",
    "    \n",
    "    print(\"dt:\", dt)\n",
    "    print(\"end_time:\", end_time)\n",
    "\n",
    "    # Pull out trajectories\n",
    "    poses_fixed__npz = np.load(pref_path + \"test1/x0s/x0s.npz\".format(end_time, dt), allow_pickle=True)\n",
    "    position_traj__npz = np.load(pref_path + \"test1/qs/qs.npz\".format(end_time, dt), allow_pickle=True)\n",
    "    \n",
    "    # Suppress numba warnings and prcess dicts\n",
    "    with warnings.catch_warnings():\n",
    "        warnings.simplefilter(\"ignore\")\n",
    "\n",
    "        dict_des_ee_poses = poses_fixed__npz[\"poses\"]\n",
    "        if 'ee_log' in log_npz.files:\n",
    "            log_act_ee_poses = log_npz['ee_log']\n",
    "\n",
    "        des_qs = position_traj__npz['qs']\n",
    "        if 'q_log' in log_npz.files:\n",
    "            dict_act_qs = log_npz['q_log']\n",
    "\n",
    "    if 'q_log' in log_npz.files:\n",
    "        act_qs = process_q_dict(dict_act_qs)\n",
    "    else:\n",
    "        act_qs = np.zeros((len(act_t), 7))*np.nan\n",
    "    if 'ee_log' in log_npz.files:\n",
    "        act_ee_poses = process_poses_log(log_act_ee_poses)\n",
    "    else:\n",
    "        act_ee_poses = {\n",
    "            'x': np.zeros_like(act_t)*np.nan,\n",
    "            'y': np.zeros_like(act_t)*np.nan,\n",
    "            'z': np.zeros_like(act_t)*np.nan,\n",
    "            'theta_x': np.zeros_like(act_t)*np.nan,\n",
    "            'theta_y': np.zeros_like(act_t)*np.nan,\n",
    "            'theta_z': np.zeros_like(act_t)*np.nan\n",
    "        }\n",
    "\n",
    "    des_ee_poses = process_poses(dict_des_ee_poses)\n",
    "\n",
    "    out_dict = {\n",
    "        \"q\": {\n",
    "            \"act\": act_qs,\n",
    "            \"des\": des_qs,\n",
    "        },\n",
    "        \"ee_pose\": {\n",
    "            \"act\": act_ee_poses,\n",
    "            \"des\": des_ee_poses\n",
    "        },\n",
    "        \"t\": {\n",
    "            \"act\": act_t,\n",
    "            \"des\": des_t\n",
    "        },\n",
    "        \"dt\": dt,\n",
    "        \"end_time\": end_time,\n",
    "        \"gain\": gain\n",
    "    }\n",
    "    return out_dict"
   ]
  },
  {
   "cell_type": "code",
   "execution_count": null,
   "id": "95e095ca-d3c4-4128-86da-64294f62fd94",
   "metadata": {},
   "outputs": [],
   "source": [
    "run_data = load_data(1, 40, prefix=\"data\")"
   ]
  },
  {
   "cell_type": "code",
   "execution_count": null,
   "id": "31068d4a-a9e0-462f-9a24-ad786370c1b0",
   "metadata": {},
   "outputs": [],
   "source": [
    "run_data"
   ]
  },
  {
   "cell_type": "code",
   "execution_count": null,
   "id": "f1a3e309-1d8c-40b6-8700-64ab79dc6a38",
   "metadata": {},
   "outputs": [],
   "source": [
    "joint_position = "
   ]
  },
  {
   "cell_type": "code",
   "execution_count": null,
   "id": "6774f85d-f1bb-4142-9c0a-735f17840424",
   "metadata": {},
   "outputs": [],
   "source": [
    "plt.figure()\n",
    "labels = [\"Desired\", \"Actual\"]\n",
    "keys = [\"des\", \"act\"]\n",
    "cmaps = [\"cool\", \"hot\"]\n",
    "\n",
    "for label, key, cmap in zip(labels, keys, cmaps):\n",
    "    plt.scatter(\n",
    "        run_data['ee_pose'][key]['x'],\n",
    "        run_data['ee_pose'][key]['z'],\n",
    "        c=run_data['t'][key],\n",
    "        label=label, cmap=cmap)\n",
    "    \n",
    "\n",
    "plt.scatter([0.48199032], [0.53412184])\n",
    "plt.xlabel(\"$x$ position (m)\")\n",
    "plt.ylabel(\"$z$ position (m)\")\n",
    "plt.gca().set_aspect(\"equal\")\n",
    "plt.legend()\n",
    "plt.show()"
   ]
  },
  {
   "cell_type": "code",
   "execution_count": null,
   "id": "85f7ed35-16ad-45de-9eef-999c4e352fe1",
   "metadata": {},
   "outputs": [],
   "source": [
    "prog = MathematicalProgram()\n",
    "\n",
    "x_0 = prog.NewContinuousVariables(1, 1, name=\"x_0\")\n",
    "z_0 = prog.NewContinuousVariables(1, 1, name=\"y_0\")\n",
    "r = prog.NewContinuousVariables(1, 1, name=\"r\")\n",
    "\n",
    "for x, z in zip(run_data['ee_pose'][\"des\"]['x'], run_data['ee_pose'][\"des\"]['z']):\n",
    "    lhs = (x-x_0[0,0])**2 + (z-z_0[0,0])**2\n",
    "    rhs = r[0,0]**2\n",
    "    prog.AddCost((lhs - rhs)**2)\n",
    "    prog.AddConstraint(r[0,0] >= 0.001)\n",
    "result = Solve(prog)\n",
    "if result.is_success():\n",
    "    print(result.GetSolution())"
   ]
  },
  {
   "cell_type": "code",
   "execution_count": null,
   "id": "a56df20e-3938-42a5-bc35-d58bc4acba00",
   "metadata": {},
   "outputs": [],
   "source": [
    "plt.figure()\n",
    "plt.plot(run_data['ee_pose'][\"des\"]['x'], run_data['ee_pose'][\"des\"]['z'])\n",
    "plt.scatter([result.GetSolution()[0]], [result.GetSolution()[1]], color='k')\n",
    "angs = np.linspace(0, np.pi*2, 200)\n",
    "plt.plot(result.GetSolution()[2]*np.cos(angs)+result.GetSolution()[0],\n",
    "         result.GetSolution()[2]*np.sin(angs)+result.GetSolution()[1],\n",
    "         linestyle='--', color='k')\n",
    "plt.gca().set_aspect(\"equal\")"
   ]
  },
  {
   "cell_type": "code",
   "execution_count": null,
   "id": "a5c757e5-56a9-406d-af88-92fc5cf19302",
   "metadata": {},
   "outputs": [],
   "source": [
    "p_WJ = np.array([result.GetSolution()[0], run_data['ee_pose']['des']['y'][0], result.GetSolution()[1]])\n",
    "p_PJ = np.array(joint_position)+np.array([0,0,sys_consts.r])"
   ]
  },
  {
   "cell_type": "code",
   "execution_count": null,
   "id": "519a0621-2ca6-40f4-a4bc-027b126de197",
   "metadata": {},
   "outputs": [],
   "source": [
    "link_base = p_WJ - np.array([0,0,sys_consts.r])"
   ]
  },
  {
   "cell_type": "code",
   "execution_count": null,
   "id": "f34c2ccc-cd2e-428d-85f4-816ca30f12ac",
   "metadata": {},
   "outputs": [],
   "source": [
    "t = 0\n",
    "theta_Ls_out = []\n",
    "theta_L_EE_out = []\n",
    "ts = []\n",
    "for q in run_data['q']['des']:\n",
    "    q_ = np.concatenate((q, [0, 1, 0, 0, 0], p_WP))\n",
    "    mbp_plant.SetPositions(ik_context, q_)\n",
    "\n",
    "    # Evaluate end effector pose\n",
    "    X_W_EE = mbp_plant.EvalBodyPoseInWorld(ik_context, end_effector_body)\n",
    "\n",
    "    # Visualize\n",
    "    visualization.AddMeshcatTriad(meshcat, \"man_pose\", X_PT=X_W_EE)\n",
    "    false_pose = mbp_plant.EvalBodyPoseInWorld(\n",
    "        ik_context, mbp_plant.GetBodyByName(\"false_body\"))\n",
    "    visualization.AddMeshcatTriad(meshcat, \"false_pose\", X_PT=false_pose, opacity=0.3)\n",
    "\n",
    "    X_W_J = RigidTransform(p=link_base)\n",
    "    visualization.AddMeshcatTriad(meshcat, \"X_W_J\", X_PT=X_W_J)\n",
    "    \n",
    "    p_W_EE = X_W_EE.translation()\n",
    "    p_J_EE = p_W_EE - link_base\n",
    "    angle = np.arctan2(p_J_EE[2], p_J_EE[0])\n",
    "    # man_angle = \n",
    "    theta_L = angle - offset_angle #RollPitchYaw(false_pose.rotation()).vector()[0]\n",
    "    \n",
    "    theta_Ls_out.append(theta_L)\n",
    "    X_J_L = RigidTransform(\n",
    "        p=[np.cos(theta_L)*sys_consts.w_L/2, 0, np.sin(theta_L)*sys_consts.w_L/2],\n",
    "        R=RotationMatrix.MakeYRotation(-theta_L)\n",
    "    )\n",
    "    X_W_L = X_W_J.multiply(X_J_L)\n",
    "    \n",
    "    # X_W_L = RigidTransform(p=[\n",
    "    #     pedestal_xyz[0] - desired_contact_distance*np.cos(theta_L),\n",
    "    #     pedestal_xyz[1],\n",
    "    #     pedestal_xyz[2] + desired_contact_distance*np.sin(theta_L)\n",
    "    # ], R=RotationMatrix.MakeYRotation(theta_L))\n",
    "    # visualization.AddMeshcatTriad(meshcat, \"joint\", X_PT=X_W_L)\n",
    "    visualization.AddMeshcatTriad(meshcat, \"X_W_L\", X_PT=X_W_L)\n",
    "\n",
    "    X_L_EE = X_W_L.inverse().multiply(X_W_EE)\n",
    "    R_L_EE = X_L_EE.rotation()\n",
    "    theta_L_EE_Z = RollPitchYaw(R_L_EE).vector()[2]\n",
    "    target_pose = X_W_L.multiply(RigidTransform(R=RotationMatrix.MakeZRotation(theta_L_EE_Z)))\n",
    "    visualization.AddMeshcatTriad(meshcat, \"target_pose\", X_PT=target_pose)\n",
    "    theta_L_EE_out.append(theta_L_EE_Z)\n",
    "\n",
    "    # Publish and increment time\n",
    "    vis.Publish(vis_context)\n",
    "    ts.append(t)\n",
    "    time.sleep(dt)\n",
    "    t += dt\n",
    "\n",
    "# xs_out = np.array(xs_out)\n",
    "# ys_out = np.array(ys_out)\n",
    "# zs_out = np.array(zs_out)\n",
    "# theta_Xs_out = np.array(theta_Xs_out)\n",
    "# theta_Ys_out = np.array(theta_Ys_out)\n",
    "# theta_Zs_out = np.array(theta_Zs_out)\n",
    "ts = np.array(ts)\n",
    "theta_Ls_out = np.array(theta_Ls_out)\n",
    "theta_L_EE_out = np.array(theta_L_EE_out)"
   ]
  },
  {
   "cell_type": "code",
   "execution_count": null,
   "id": "af14466c-0da3-495f-a86c-63d4dd6a35db",
   "metadata": {},
   "outputs": [],
   "source": [
    "ts"
   ]
  },
  {
   "cell_type": "code",
   "execution_count": null,
   "id": "424fdbc9-5c77-417a-95d0-646540687436",
   "metadata": {},
   "outputs": [],
   "source": [
    "plt.figure()\n",
    "plt.plot(theta_Ls_out, theta_L_EE_out)\n",
    "plt.show()"
   ]
  },
  {
   "cell_type": "code",
   "execution_count": null,
   "id": "b4930e91-d19c-4225-a99d-2fbfabb70830",
   "metadata": {},
   "outputs": [],
   "source": [
    "np.savez(\"pedestal_xyz_{}_links.npz\".format(num_links.value), pedestal_xyz=p_WP)"
   ]
  },
  {
   "cell_type": "code",
   "execution_count": null,
   "id": "eedc0fb3-fcbd-41df-8f93-ea4ab873c09d",
   "metadata": {},
   "outputs": [],
   "source": [
    "np.savez(\"orientation_map_{}_links.npz\".format(num_links.value), \n",
    "    theta_Ls=theta_Ls_out,\n",
    "    theta_L_EE=theta_L_EE_out\n",
    ")"
   ]
  },
  {
   "cell_type": "code",
   "execution_count": null,
   "id": "753e0ae5-555c-477a-aad5-53b11ed03793",
   "metadata": {},
   "outputs": [],
   "source": [
    "np.savez(\"x0s_sim_{}_links.npz\".format(num_links.value), poses=np.vstack([\n",
    "        run_data['ee_pose']['des']['theta_x'],\n",
    "        run_data['ee_pose']['des']['theta_y'],\n",
    "        run_data['ee_pose']['des']['theta_z'],\n",
    "        run_data['ee_pose']['des']['x'],\n",
    "        run_data['ee_pose']['des']['y'],\n",
    "        run_data['ee_pose']['des']['z']\n",
    "    ]), ts=ts,\n",
    ")"
   ]
  },
  {
   "cell_type": "code",
   "execution_count": null,
   "id": "82733946-f5ab-46f4-90c6-362d1084ce55",
   "metadata": {},
   "outputs": [],
   "source": [
    "run_data['q']['des'][0]"
   ]
  },
  {
   "cell_type": "code",
   "execution_count": null,
   "id": "591b85d0-7944-4884-8e44-bd3a57aa44be",
   "metadata": {},
   "outputs": [],
   "source": [
    "np.savez(\"starting_q_{}_links.npz\".format(num_links.value), starting_q=run_data['q']['des'][0])"
   ]
  },
  {
   "cell_type": "code",
   "execution_count": null,
   "id": "593045cc-2254-448d-a86b-f8575f1fdb98",
   "metadata": {},
   "outputs": [],
   "source": []
  }
 ],
 "metadata": {
  "kernelspec": {
   "display_name": "Python 3",
   "language": "python",
   "name": "python3"
  },
  "language_info": {
   "codemirror_mode": {
    "name": "ipython",
    "version": 3
   },
   "file_extension": ".py",
   "mimetype": "text/x-python",
   "name": "python",
   "nbconvert_exporter": "python",
   "pygments_lexer": "ipython3",
   "version": "3.9.9"
  }
 },
 "nbformat": 4,
 "nbformat_minor": 5
}
