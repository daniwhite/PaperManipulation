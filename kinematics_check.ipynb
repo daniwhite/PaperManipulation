{
 "cells": [
  {
   "cell_type": "markdown",
   "id": "0262fd15-5770-44cb-88e8-03cc7f0651e8",
   "metadata": {},
   "source": [
    "# Setup"
   ]
  },
  {
   "cell_type": "markdown",
   "id": "93b63628-c68e-4947-8de1-85e3e55e6890",
   "metadata": {
    "tags": []
   },
   "source": [
    "## Imports"
   ]
  },
  {
   "cell_type": "code",
   "execution_count": 1,
   "id": "a3740f0a-9409-4808-a4a4-750748f99e37",
   "metadata": {},
   "outputs": [],
   "source": [
    "# Numpy, Scipy, Matplotlib\n",
    "import scipy.interpolate\n",
    "import matplotlib\n",
    "import matplotlib.pyplot as plt\n",
    "import numpy as np\n",
    "\n",
    "# Drake imports\n",
    "import pydrake\n",
    "from pydrake.all import (DiagramBuilder, RigidTransform, MathematicalProgram, RollPitchYaw,\n",
    "                        RotationMatrix, Meshcat, MeshcatVisualizerParams, MeshcatVisualizerCpp,\n",
    "                        InverseKinematics, Solve, SpatialInertia, UnitInertia)\n",
    "\n",
    "# Imports of other project files\n",
    "import constants\n",
    "import config\n",
    "\n",
    "import plant.simulation\n",
    "import plant.manipulator as manipulator\n",
    "\n",
    "import ctrl.aux\n",
    "import plant.pedestal\n",
    "\n",
    "import visualization\n",
    "\n",
    "# Other imports\n",
    "import time"
   ]
  },
  {
   "cell_type": "code",
   "execution_count": 2,
   "id": "77d6e274-72a5-4740-9249-70c5ae3ea607",
   "metadata": {},
   "outputs": [],
   "source": [
    "# Matplotlib configuring\n",
    "# USE FOR PAPER\n",
    "# plt.style.use(['science', 'no-latex'])\n",
    "# font = {'size'   : 14}\n",
    "# matplotlib.rc('font', **font)\n",
    "# default_figsize = (2*3,2*2)\n",
    "# USE GENERALLY\n",
    "font = {'size'   : 16}\n",
    "matplotlib.rc('font', **font)\n",
    "default_figsize = (16,8)"
   ]
  },
  {
   "cell_type": "code",
   "execution_count": 3,
   "id": "b7438b68-8c7b-450f-a345-7cf73acf15ad",
   "metadata": {},
   "outputs": [],
   "source": [
    "matplotlib.rcParams['figure.figsize'] = (16,8)\n",
    "matplotlib.rcParams['lines.linewidth'] = 5\n",
    "matplotlib.rcParams[\"axes.xmargin\"] = 0"
   ]
  },
  {
   "cell_type": "markdown",
   "id": "8d6932c2-026b-46a8-ab95-ff5353f6f047",
   "metadata": {
    "toc-hr-collapsed": true
   },
   "source": [
    "## Drake initialization"
   ]
  },
  {
   "cell_type": "code",
   "execution_count": 4,
   "id": "f21266a5-2e40-4123-bd3a-91a02c83eee4",
   "metadata": {},
   "outputs": [
    {
     "name": "stderr",
     "output_type": "stream",
     "text": [
      "[2022-02-09 08:14:02.123] [console] [info] Meshcat listening for connections at http://localhost:7001\n"
     ]
    }
   ],
   "source": [
    "meshcat = Meshcat()\n",
    "web_url = meshcat.web_url()"
   ]
  },
  {
   "cell_type": "markdown",
   "id": "5d1689d4-4acb-4c0a-ad29-cfff7e9f9491",
   "metadata": {},
   "source": [
    "### Constants"
   ]
  },
  {
   "cell_type": "code",
   "execution_count": 5,
   "id": "8c59b182-b998-44b9-a76f-6b5f549ed77c",
   "metadata": {},
   "outputs": [],
   "source": [
    "w_L = constants.nominal_sys_consts.w_L\n",
    "h_L = constants.nominal_sys_consts.h_L\n",
    "pedestal_x = plant.pedestal.PEDESTAL_X_DIM"
   ]
  },
  {
   "cell_type": "code",
   "execution_count": 6,
   "id": "cb54bb86-9b9f-4a48-89e4-1fcb7d5b47c1",
   "metadata": {},
   "outputs": [],
   "source": [
    "contact_body_name = manipulator.data[\"contact_body_name\"]"
   ]
  },
  {
   "cell_type": "markdown",
   "id": "89d5203c-bd95-4d1e-9813-836b7b029000",
   "metadata": {},
   "source": [
    "### Creat MBP"
   ]
  },
  {
   "cell_type": "code",
   "execution_count": 7,
   "id": "a9228edf-d32d-4a8e-845c-e8ce81e22e22",
   "metadata": {},
   "outputs": [],
   "source": [
    "builder = DiagramBuilder()\n",
    "\n",
    "mbp_plant, scene_graph = pydrake.multibody.plant.AddMultibodyPlantSceneGraph(\n",
    "    builder, time_step=1e-3)\n",
    "mbp_plant.set_stiction_tolerance(constants.v_stiction)\n",
    "mbp_plant.set_penetration_allowance(0.001)"
   ]
  },
  {
   "cell_type": "markdown",
   "id": "68f04ae0-5abd-494f-ab68-5bb584738854",
   "metadata": {},
   "source": [
    "### Add bodies"
   ]
  },
  {
   "cell_type": "code",
   "execution_count": 8,
   "id": "0b0604cd-b081-4491-9452-ef64bd39bdc5",
   "metadata": {},
   "outputs": [
    {
     "data": {
      "text/plain": [
       "ModelInstanceIndex(2)"
      ]
     },
     "execution_count": 8,
     "metadata": {},
     "output_type": "execute_result"
    }
   ],
   "source": [
    "# Arm\n",
    "manipulator.data[\"add_plant_function\"](\n",
    "    mbp_plant,\n",
    "    constants.nominal_sys_consts.m_M,\n",
    "    constants.nominal_sys_consts.r,\n",
    "    constants.nominal_sys_consts.mu,\n",
    "    scene_graph = scene_graph\n",
    ")"
   ]
  },
  {
   "cell_type": "code",
   "execution_count": 9,
   "id": "fc940f95-9961-4f4c-979b-3f3d74372849",
   "metadata": {},
   "outputs": [
    {
     "data": {
      "text/plain": [
       "ModelInstanceIndex(3)"
      ]
     },
     "execution_count": 9,
     "metadata": {},
     "output_type": "execute_result"
    }
   ],
   "source": [
    "# Pedestal\n",
    "plant.pedestal.AddPedestal(mbp_plant)"
   ]
  },
  {
   "cell_type": "code",
   "execution_count": 10,
   "id": "34b71c48-cd6a-4a65-8804-46719b5d30f9",
   "metadata": {},
   "outputs": [
    {
     "data": {
      "text/plain": [
       "<WeldJoint_[float] name='WorldBody_welds_to_paper_body0' index=14 model_instance=4>"
      ]
     },
     "execution_count": 10,
     "metadata": {},
     "output_type": "execute_result"
    }
   ],
   "source": [
    "# Paper\n",
    "paper_instance = mbp_plant.AddModelInstance(\"paper\")\n",
    "paper_dims = [constants.PLYWOOD_LENGTH, w_L, h_L]\n",
    "paper_body = mbp_plant.AddRigidBody(\n",
    "    \"paper_body0\", paper_instance,\n",
    "    SpatialInertia(1, p_PScm_E=np.array([0., 0., 0.]),\n",
    "                   G_SP_E=UnitInertia.SolidBox(*paper_dims))\n",
    ")\n",
    "\n",
    "mbp_plant.RegisterCollisionGeometry(\n",
    "    paper_body, RigidTransform(), pydrake.geometry.Box(*paper_dims), \"paper_body0\",\n",
    "    pydrake.multibody.plant.CoulombFriction(1,1)\n",
    ")\n",
    "mbp_plant.RegisterVisualGeometry(\n",
    "    paper_body, RigidTransform(), pydrake.geometry.Box(*paper_dims),\n",
    "    \"paper_body0\", [0, 1, 0, 1])\n",
    "mbp_plant.WeldFrames(\n",
    "    mbp_plant.world_frame(),\n",
    "    mbp_plant.GetBodyByName(\"paper_body0\").body_frame(),\n",
    "    RigidTransform(RotationMatrix(\n",
    "    ), [0, 0, plant.pedestal.PEDESTAL_Z_DIM+h_L/2])\n",
    ")"
   ]
  },
  {
   "cell_type": "code",
   "execution_count": 11,
   "id": "2367a812-c4f2-499e-9916-6c42b8bf48f8",
   "metadata": {},
   "outputs": [],
   "source": [
    "# False body\n",
    "empty_inertia = SpatialInertia(0, [0, 0, 0], UnitInertia(0, 0, 0))\n",
    "false_body_instance = mbp_plant.AddModelInstance(\"false\")\n",
    "mbp_plant.AddRigidBody(\"false_body\", false_body_instance, empty_inertia)\n",
    "\n",
    "end_effector_z_rotation = mbp_plant.AddJoint(pydrake.multibody.tree.RevoluteJoint(\n",
    "    \"contact_body_name_z_rotation\",\n",
    "    mbp_plant.GetFrameByName(contact_body_name),\n",
    "    mbp_plant.GetFrameByName(\"false_body\"),\n",
    "    [0, 0, 1],\n",
    "    damping=0\n",
    "))"
   ]
  },
  {
   "cell_type": "code",
   "execution_count": 12,
   "id": "c7bb405a-c53f-4205-8358-72e3a246acb0",
   "metadata": {},
   "outputs": [],
   "source": [
    "mbp_plant.Finalize()"
   ]
  },
  {
   "cell_type": "markdown",
   "id": "33fd7935-3eea-45c2-985d-07d832e99dca",
   "metadata": {},
   "source": [
    "### Build diagram"
   ]
  },
  {
   "cell_type": "code",
   "execution_count": 13,
   "id": "a5fea354-b969-4243-81db-fdab8da69dfc",
   "metadata": {},
   "outputs": [],
   "source": [
    "meshcat_params = MeshcatVisualizerParams()\n",
    "vis = MeshcatVisualizerCpp.AddToBuilder(\n",
    "    builder,\n",
    "    scene_graph.get_query_output_port(),\n",
    "    meshcat,\n",
    "    meshcat_params)\n",
    "\n",
    "diagram = builder.Build()\n",
    "context = diagram.CreateDefaultContext()\n",
    "ik_context = mbp_plant.GetMyContextFromRoot(context)\n",
    "vis_context = vis.GetMyContextFromRoot(context)"
   ]
  },
  {
   "cell_type": "markdown",
   "id": "47201358-60f9-4c58-9d0e-b4ed9fce1212",
   "metadata": {},
   "source": [
    "# Create end effector traj"
   ]
  },
  {
   "cell_type": "code",
   "execution_count": 14,
   "id": "f24db91b-e660-4904-8943-04689679a7f9",
   "metadata": {},
   "outputs": [],
   "source": [
    "end_time = 30\n",
    "DT = 0.1"
   ]
  },
  {
   "cell_type": "code",
   "execution_count": 15,
   "id": "f6f72052-8d5d-4a4d-bfb3-c9c77747cae2",
   "metadata": {},
   "outputs": [],
   "source": [
    "ts = np.arange(0,end_time,DT);"
   ]
  },
  {
   "cell_type": "code",
   "execution_count": 16,
   "id": "9c74fb0b-88a7-47c4-8667-30a2dac6ce0c",
   "metadata": {},
   "outputs": [],
   "source": [
    "joint_position = [\n",
    "    0,\n",
    "    w_L - constants.PEDESTAL_Y_DIM/2,\n",
    "    plant.pedestal.PEDESTAL_Z_DIM + constants.nominal_sys_consts.h_L/2\n",
    "]"
   ]
  },
  {
   "cell_type": "code",
   "execution_count": 17,
   "id": "048e3c7c-3f51-41dc-b9ec-53632d7564f1",
   "metadata": {},
   "outputs": [],
   "source": [
    "desired_radius = w_L/2"
   ]
  },
  {
   "cell_type": "code",
   "execution_count": 18,
   "id": "a23c25a8-9bdc-4e57-a645-8c0851e09f2a",
   "metadata": {},
   "outputs": [],
   "source": [
    "theta_Xs = np.interp(\n",
    "   ts,\n",
    "    [0, end_time],\n",
    "    [0, np.pi],\n",
    ")\n",
    "ys = joint_position[1] + np.cos(theta_Xs)*desired_radius\n",
    "zs = joint_position[2] + np.sin(theta_Xs)*desired_radius + constants.nominal_sys_consts.r"
   ]
  },
  {
   "cell_type": "markdown",
   "id": "8b736256-a928-4f1e-a1fc-5995bb720451",
   "metadata": {},
   "source": [
    "# Set margins"
   ]
  },
  {
   "cell_type": "code",
   "execution_count": 19,
   "id": "f5764e09-ddc9-4e7c-83d4-a65974f9e1ff",
   "metadata": {},
   "outputs": [],
   "source": [
    "# Margin between edge of the link and the CoM of the manipulator\n",
    "x_margin = 3*constants.IN_TO_M"
   ]
  },
  {
   "cell_type": "code",
   "execution_count": 20,
   "id": "1bab7557-23f4-4762-8213-8da492425ea7",
   "metadata": {},
   "outputs": [],
   "source": [
    "# Margin from joint limit\n",
    "q_margin = 20 * np.pi/180"
   ]
  },
  {
   "cell_type": "markdown",
   "id": "b912f66e-a19e-4366-8b86-f2d5ebd9bfc8",
   "metadata": {},
   "source": [
    "# Get initial values"
   ]
  },
  {
   "cell_type": "code",
   "execution_count": 21,
   "id": "d4df816a-3ca6-45a9-8cac-bba29ef27e2a",
   "metadata": {},
   "outputs": [],
   "source": [
    "# Grab bodies and frames\n",
    "end_effector_body = mbp_plant.GetBodyByName(manipulator.data[\"contact_body_name\"])\n",
    "end_effector_frame = end_effector_body.body_frame()\n",
    "false_body_frame = mbp_plant.GetBodyByName(\"false_body\").body_frame()"
   ]
  },
  {
   "cell_type": "code",
   "execution_count": 22,
   "id": "da9284a6-ac09-454c-bc8a-f2a7351a53f0",
   "metadata": {},
   "outputs": [],
   "source": [
    "# Get initial position\n",
    "starting_q = np.array([\n",
    "    -1.90831538,\n",
    "    -0.74013834,\n",
    "    2.29209901,\n",
    "    -2.58333082,\n",
    "    4.52633766,\n",
    "    0.60032527,\n",
    "    -3.10678351,\n",
    "    np.pi\n",
    "])"
   ]
  },
  {
   "cell_type": "code",
   "execution_count": 23,
   "id": "2cc08397-c9b0-4a89-87ad-7b1e533ba12c",
   "metadata": {},
   "outputs": [],
   "source": [
    "# Initialize plant + visualizations\n",
    "mbp_plant.SetPositions(ik_context, starting_q)\n",
    "vis.Publish(vis_context)\n",
    "\n",
    "man_pose = mbp_plant.EvalBodyPoseInWorld(ik_context, mbp_plant.GetBodyByName(contact_body_name))\n",
    "visualization.AddMeshcatTriad(meshcat, \"man_pose\", X_PT=man_pose)\n",
    "\n",
    "false_pose = mbp_plant.EvalBodyPoseInWorld(ik_context, mbp_plant.GetBodyByName(\"false_body\"))\n",
    "visualization.AddMeshcatTriad(meshcat, \"false_pose\", X_PT=false_pose)"
   ]
  },
  {
   "cell_type": "code",
   "execution_count": 24,
   "id": "654dac01-4126-4d78-aafe-bf58ccc55a67",
   "metadata": {},
   "outputs": [],
   "source": [
    "# Actually grab starting values\n",
    "starting_ee_pose = mbp_plant.EvalBodyPoseInWorld(ik_context, end_effector_body)\n",
    "starting_x = starting_ee_pose.translation()[0]\n",
    "starting_theta_Z = RollPitchYaw(starting_ee_pose.rotation()).vector()[2]"
   ]
  },
  {
   "cell_type": "code",
   "execution_count": 25,
   "id": "f133c0ed-e290-4d20-aa20-2992eee81540",
   "metadata": {},
   "outputs": [],
   "source": [
    "# Grab joint limits\n",
    "lower_lims_raw = []\n",
    "upper_lims_raw = []\n",
    "vel_lims_raw = []\n",
    "for i in range(1,8):\n",
    "    jnt = mbp_plant.GetJointByName(\"panda_joint\" + str(i))\n",
    "    lower_lims_raw.append(jnt.position_lower_limits()[0])\n",
    "    upper_lims_raw.append(jnt.position_upper_limits()[0])\n",
    "    \n",
    "    lower_vel_limit = jnt.velocity_lower_limits()\n",
    "    upper_vel_limit = jnt.velocity_upper_limits()\n",
    "    assert -lower_vel_limit == upper_vel_limit\n",
    "    vel_lims_raw.append(upper_vel_limit[0])\n",
    "lower_lims_raw = np.array(lower_lims_raw)\n",
    "upper_lims_raw = np.array(upper_lims_raw)\n",
    "vel_lims_raw = np.array(vel_lims_raw)\n",
    "\n",
    "lower_lims = lower_lims_raw + q_margin\n",
    "upper_lims = upper_lims_raw + q_margin\n",
    "vel_lims = vel_lims_raw/2"
   ]
  },
  {
   "cell_type": "code",
   "execution_count": 26,
   "id": "681853ee-7444-4708-88f0-21e7a89f4bf4",
   "metadata": {},
   "outputs": [
    {
     "data": {
      "text/plain": [
       "array([1.0875, 1.0875, 1.0875, 1.0875, 1.305 , 1.305 , 1.305 ])"
      ]
     },
     "execution_count": 26,
     "metadata": {},
     "output_type": "execute_result"
    }
   ],
   "source": [
    "vel_lims"
   ]
  },
  {
   "cell_type": "markdown",
   "id": "7c756e0f-a50d-4c50-a67d-bfe45f35a96e",
   "metadata": {},
   "source": [
    "# Run optimization"
   ]
  },
  {
   "cell_type": "markdown",
   "id": "30b9c985-346b-454c-9967-5d7138038426",
   "metadata": {},
   "source": [
    "## Set up geometries for collision checking"
   ]
  },
  {
   "cell_type": "code",
   "execution_count": 27,
   "id": "224d5f63-f68d-4105-a887-f4a2acc13344",
   "metadata": {},
   "outputs": [],
   "source": [
    "geometry_pairs = [\n",
    "    # (\"paper_body0\", contact_body_name),\n",
    "    (\"paper_body0\", \"panda_hand\"),\n",
    "    (\"paper_body0\", \"panda_link8\"),\n",
    "    (\"paper_body0\", \"panda_link7\"),\n",
    "    (\"paper_body0\", \"panda_link6\"),\n",
    "    (\"paper_body0\", \"panda_link5\"),\n",
    "    (\"paper_body0\", \"panda_link4\"),\n",
    "    (\"paper_body0\", \"panda_link3\"),\n",
    "    (\"pedestal_left_body\", contact_body_name),\n",
    "    (\"pedestal_left_body\", \"panda_hand\"),\n",
    "    (\"pedestal_left_body\", \"panda_link8\"),\n",
    "    (\"pedestal_left_body\", \"panda_link7\"),\n",
    "    (\"pedestal_left_body\", \"panda_link6\"),\n",
    "    (\"pedestal_left_body\", \"panda_link5\"),\n",
    "    (\"pedestal_left_body\", \"panda_link4\"),\n",
    "    (\"pedestal_left_body\", \"panda_link3\"),\n",
    "    (\"pedestal_right_body\", contact_body_name),\n",
    "    (\"pedestal_right_body\", \"panda_hand\"),\n",
    "    (\"pedestal_right_body\", \"panda_link8\"),\n",
    "    (\"pedestal_right_body\", \"panda_link7\"),\n",
    "    (\"pedestal_right_body\", \"panda_link6\"),\n",
    "    (\"pedestal_right_body\", \"panda_link5\"),\n",
    "    (\"pedestal_right_body\", \"panda_link4\"),\n",
    "    (\"pedestal_right_body\", \"panda_link3\"),\n",
    "    (\"pedestal_right_body\", \"panda_link3\"),\n",
    "    (\"pedestal_bottom_body\", \"panda_hand\"),\n",
    "    (\"pedestal_bottom_body\", \"panda_link8\"),\n",
    "    (\"pedestal_bottom_body\", \"panda_link7\"),\n",
    "    (\"pedestal_bottom_body\", \"panda_link6\"),\n",
    "    (\"pedestal_bottom_body\", \"panda_link5\"),\n",
    "    (\"pedestal_bottom_body\", \"panda_link4\"),\n",
    "    (\"pedestal_bottom_body\", \"panda_link3\"),\n",
    "]\n",
    "\n",
    "# TODO: get this from joints?\n",
    "adjacent_pairs = [\n",
    "    (\"panda_link0\", \"panda_link1\"),\n",
    "    (\"panda_link1\", \"panda_link2\"),\n",
    "    (\"panda_link2\", \"panda_link3\"),\n",
    "    (\"panda_link3\", \"panda_link4\"),\n",
    "    (\"panda_link4\", \"panda_link5\"),\n",
    "    (\"panda_link5\", \"panda_link6\"),\n",
    "    (\"panda_link6\", \"panda_link7\"),\n",
    "    (\"panda_link6\", \"panda_link8\"),\n",
    "    (\"panda_link7\", \"panda_link8\"),\n",
    "    (\"panda_link7\", \"panda_hand\"),\n",
    "    (\"panda_link8\", \"panda_hand\"),\n",
    "]\n",
    "panda_links = [\"panda_link\" + str(i) for i in range(9)]\n",
    "panda_links += [\"panda_hand\"]\n",
    "for link_1 in panda_links:\n",
    "    for link_2 in panda_links:\n",
    "        if link_1 == link_2:\n",
    "            continue\n",
    "        if (link_1, link_2) in adjacent_pairs:\n",
    "            continue\n",
    "        if (link_2, link_1) in adjacent_pairs:\n",
    "            continue\n",
    "        if (link_2, link_1) in geometry_pairs:\n",
    "            continue\n",
    "        if (link_1, link_2) in geometry_pairs:\n",
    "            continue\n",
    "        geometry_pairs.append((link_1, link_2))"
   ]
  },
  {
   "cell_type": "markdown",
   "id": "ceead15d-1f84-424b-a205-0d498fdcc0a2",
   "metadata": {},
   "source": [
    "## Run IK"
   ]
  },
  {
   "cell_type": "code",
   "execution_count": 28,
   "id": "4fe429cf-db35-4317-b0cd-97313e413921",
   "metadata": {},
   "outputs": [],
   "source": [
    "num_iter = 1000"
   ]
  },
  {
   "cell_type": "code",
   "execution_count": 29,
   "id": "e874fb81-645c-46d8-b77f-a2bf3e0c366e",
   "metadata": {},
   "outputs": [],
   "source": [
    "def sample_q():\n",
    "    q_sample = []\n",
    "    rng = np.random.default_rng()\n",
    "    for lb, ub in zip(lower_lims, upper_lims):\n",
    "        angle_range = ub - lb\n",
    "        sample = rng.random()*angle_range + lb\n",
    "        q_sample.append(sample)\n",
    "    q_sample.append(rng.random()*np.pi*2)\n",
    "    return q_sample"
   ]
  },
  {
   "cell_type": "code",
   "execution_count": 30,
   "id": "b4df26d8-6c76-4f49-bed4-22254cae229b",
   "metadata": {},
   "outputs": [],
   "source": [
    "angle_tol = 1e-4\n",
    "pos_tol = 1e-4\n",
    "collision_buffer = 1e-2"
   ]
  },
  {
   "cell_type": "code",
   "execution_count": 31,
   "id": "496e137a-d387-4ddc-8699-6638c347b743",
   "metadata": {},
   "outputs": [
    {
     "name": "stdout",
     "output_type": "stream",
     "text": [
      "Failed at time 4.6000000000000005 for iter 0\n",
      "Failed at time 0.0 for iter 1\n",
      "Failed at time 4.5 for iter 2\n",
      "Failed at time 7.7 for iter 3\n",
      "Failed at time 7.7 for iter 4\n",
      "Failed at time 4.7 for iter 5\n",
      "Failed at time 7.7 for iter 6\n",
      "Failed at time 6.5 for iter 7\n",
      "Failed at time 6.5 for iter 8\n",
      "Failed at time 6.5 for iter 9\n",
      "Failed at time 7.7 for iter 10\n",
      "Success!\n",
      "Initial position: [ 1.41434569 -0.88926738 -2.10260353 -2.32577571  1.84577743  0.76911041\n",
      " -0.46301146  2.53037197]\n"
     ]
    }
   ],
   "source": [
    "best_q = starting_q\n",
    "best_success_rate = 0\n",
    "best_successes = []\n",
    "\n",
    "for _ in range(num_iter):\n",
    "    init_q = sample_q()\n",
    "    \n",
    "    # Output arrays\n",
    "    qs = []\n",
    "    # successes = []\n",
    "\n",
    "    is_success = True\n",
    "    for t, theta_X, y, z in zip(ts, theta_Xs, ys, zs):\n",
    "        # Create program\n",
    "        ik = InverseKinematics(mbp_plant, ik_context, with_joint_limits=True)\n",
    "\n",
    "        # Add collision contstraints\n",
    "        for body_name_i, body_name_j in geometry_pairs:\n",
    "                geo_list = (\n",
    "                    mbp_plant.GetCollisionGeometriesForBody(\n",
    "                        mbp_plant.GetBodyByName(body_name_i))[0],\n",
    "                    mbp_plant.GetCollisionGeometriesForBody(\n",
    "                        mbp_plant.GetBodyByName(body_name_j))[0],\n",
    "                )\n",
    "                ik.AddDistanceConstraint(\n",
    "                    distance_lower=collision_buffer, distance_upper=1e9, geometry_pair=geo_list)\n",
    "\n",
    "        # Add position constraint\n",
    "        p_WG_lower = np.array([[-pos_tol, y-pos_tol, z-pos_tol]]).T\n",
    "        p_WG_upper = np.array([[pos_tol, y+pos_tol, z+pos_tol]]).T\n",
    "        ik.AddPositionConstraint(\n",
    "            frameA=mbp_plant.world_frame(), frameB=end_effector_frame, p_BQ=np.zeros(3),\n",
    "            p_AQ_lower=p_WG_lower, p_AQ_upper=p_WG_upper)\n",
    "\n",
    "        # Add orientation constraint\n",
    "        R_WG = RotationMatrix.MakeXRotation(theta_X)\n",
    "        ik.AddOrientationConstraint(\n",
    "            frameAbar=mbp_plant.world_frame(), R_AbarA=R_WG,\n",
    "            frameBbar=false_body_frame, R_BbarB=RotationMatrix(),\n",
    "            theta_bound=angle_tol\n",
    "        )\n",
    "\n",
    "        # Add joint limit constraints\n",
    "        for q_, lb, ub in zip(ik.q(), lower_lims, upper_lims):\n",
    "            ik.prog().AddConstraint(q_ >= lb)\n",
    "            ik.prog().AddConstraint(q_ <= ub)\n",
    "\n",
    "        # Set seed as previous q\n",
    "        if len(qs) == 0:\n",
    "            # print(init_q)\n",
    "            ik.prog().SetInitialGuess(ik.q(), init_q)\n",
    "        else:\n",
    "            ik.prog().SetInitialGuess(ik.q(), qs[-1])\n",
    "        \n",
    "            # Add velocity constraints\n",
    "            for q_, vel_lim, prev_q_ in zip(ik.q(), vel_lims, qs[-1]):\n",
    "                ik.prog().AddConstraint(q_ >= prev_q_ - vel_lim*DT)\n",
    "                ik.prog().AddConstraint(q_ <= prev_q_ + vel_lim*DT)\n",
    "\n",
    "        # Solve and grab values\n",
    "        result = Solve(ik.prog())\n",
    "        if not result.is_success():\n",
    "            is_success = False\n",
    "            print(\"Failed at time {} for iter {}\".format(t, _))\n",
    "            break\n",
    "\n",
    "        qs.append(result.GetSolution(ik.q()))\n",
    "    if is_success:\n",
    "        print(\"Success!\")\n",
    "        print(\"Initial position:\", qs[0])\n",
    "        break\n",
    "init_q = qs[0]"
   ]
  },
  {
   "cell_type": "markdown",
   "id": "3147c12f-b4d3-4e2a-8c93-77d5780fa495",
   "metadata": {},
   "source": [
    "# Results"
   ]
  },
  {
   "cell_type": "markdown",
   "id": "fdc0b2b9-e3ac-416c-b0e3-6f12956392e4",
   "metadata": {},
   "source": [
    "## Visualize in meshcat"
   ]
  },
  {
   "cell_type": "code",
   "execution_count": 45,
   "id": "3da1df8f-b944-4de7-a6bd-cd9fb82ddcae",
   "metadata": {
    "tags": []
   },
   "outputs": [],
   "source": [
    "t = 0\n",
    "dt = 0.1\n",
    "xs_out = []\n",
    "ys_out = []\n",
    "zs_out = []\n",
    "theta_Xs_out = []\n",
    "theta_Ys_out = []\n",
    "theta_Zs_out = []\n",
    "\n",
    "for q in qs:\n",
    "    mbp_plant.SetPositions(ik_context, q)\n",
    "\n",
    "    # Evaluate end effector pose\n",
    "    ee_pose = mbp_plant.EvalBodyPoseInWorld(ik_context, end_effector_body)\n",
    "    xs_out.append(ee_pose.translation()[0])\n",
    "    ys_out.append(ee_pose.translation()[1])\n",
    "    zs_out.append(ee_pose.translation()[2])\n",
    "    theta_Xs_out.append(RollPitchYaw(ee_pose.rotation()).vector()[0])\n",
    "    theta_Ys_out.append(RollPitchYaw(ee_pose.rotation()).vector()[1])\n",
    "    theta_Zs_out.append(RollPitchYaw(ee_pose.rotation()).vector()[2])\n",
    "\n",
    "    # Visualize\n",
    "    visualization.AddMeshcatTriad(meshcat, \"man_pose\", X_PT=ee_pose)\n",
    "    false_pose = mbp_plant.EvalBodyPoseInWorld(\n",
    "        ik_context, mbp_plant.GetBodyByName(\"false_body\"))\n",
    "    visualization.AddMeshcatTriad(meshcat, \"false_pose\", X_PT=false_pose, opacity=0.3)\n",
    "\n",
    "    # Publish and increment time\n",
    "    vis.Publish(vis_context)\n",
    "    time.sleep(dt)\n",
    "    t += dt\n",
    "\n",
    "xs_out = np.array(xs_out)\n",
    "ys_out = np.array(ys_out)\n",
    "zs_out = np.array(zs_out)\n",
    "theta_Xs_out = np.array(theta_Xs_out)\n",
    "theta_Ys_out = np.array(theta_Ys_out)\n",
    "theta_Zs_out = np.array(theta_Zs_out)"
   ]
  },
  {
   "cell_type": "markdown",
   "id": "faefcdb1-71fa-4c1b-b2a9-09db4c567d84",
   "metadata": {},
   "source": [
    "## Plot results"
   ]
  },
  {
   "cell_type": "code",
   "execution_count": 33,
   "id": "47e580b0-8563-4053-9a30-4a0fb1a0baf9",
   "metadata": {},
   "outputs": [
    {
     "data": {
      "image/png": "[encoded data removed]",
      "text/plain": [
       "<Figure size 1152x576 with 1 Axes>"
      ]
     },
     "metadata": {
      "needs_background": "light"
     },
     "output_type": "display_data"
    }
   ],
   "source": [
    "plt.figure()\n",
    "plt.plot(ys, zs, label=\"Desired\", color='purple', linestyle='--')\n",
    "plt.plot(ys_out, zs_out, label=\"Actual\", color='purple', alpha=0.3)\n",
    "plt.gca().set_aspect(\"equal\")"
   ]
  },
  {
   "cell_type": "code",
   "execution_count": 34,
   "id": "f276540f-cd47-4031-9e79-43ab02e236d6",
   "metadata": {},
   "outputs": [
    {
     "data": {
      "text/plain": [
       "<matplotlib.legend.Legend at 0x183115a60>"
      ]
     },
     "execution_count": 34,
     "metadata": {},
     "output_type": "execute_result"
    },
    {
     "data": {
      "image/png": "[encoded data removed]",
      "text/plain": [
       "<Figure size 1152x576 with 1 Axes>"
      ]
     },
     "metadata": {
      "needs_background": "light"
     },
     "output_type": "display_data"
    }
   ],
   "source": [
    "theta_Zs_out_ = theta_Zs_out.copy()\n",
    "theta_Zs_out_[theta_Zs_out_ > 0] -= np.pi*2\n",
    "\n",
    "plt.figure()\n",
    "plt.plot(ts, theta_Xs, label=r\"Desired $\\theta_X$\", color='red', linestyle='--')\n",
    "plt.plot(ts, -theta_Xs_out, label=r\"Actual $\\theta_X$\", color='red', alpha=0.4)\n",
    "plt.axhline(0, label=r\"Desired $\\theta_Y$\", color='green', linestyle='--')\n",
    "plt.plot(ts, -theta_Ys_out, label=r\"Actual $\\theta_Y$\", color='green', alpha=0.4)\n",
    "plt.plot(ts, theta_Zs_out_, label=r\"$\\theta_Z$\", color='blue')\n",
    "plt.legend()\n",
    "# plt.gca().set_aspect(\"equal\")"
   ]
  },
  {
   "cell_type": "code",
   "execution_count": 35,
   "id": "bbf997d5-a522-47a0-b8c7-bcc98807ac80",
   "metadata": {},
   "outputs": [
    {
     "data": {
      "text/plain": [
       "array([-2.40366453, -0.97343351, -2.40366453])"
      ]
     },
     "execution_count": 35,
     "metadata": {},
     "output_type": "execute_result"
    }
   ],
   "source": [
    "RollPitchYaw(\n",
    "    RotationMatrix.MakeXRotation(2).multiply(\n",
    "        RotationMatrix.MakeZRotation(2))\n",
    ").vector()"
   ]
  },
  {
   "cell_type": "code",
   "execution_count": 36,
   "id": "2bf92e03-2a52-41ed-9d69-aa4c91038289",
   "metadata": {},
   "outputs": [
    {
     "data": {
      "text/plain": [
       "array([2., 0., 2.])"
      ]
     },
     "execution_count": 36,
     "metadata": {},
     "output_type": "execute_result"
    }
   ],
   "source": [
    "RollPitchYaw([2,0,2]).vector()"
   ]
  },
  {
   "cell_type": "code",
   "execution_count": 37,
   "id": "df0960ba-9494-454b-b89b-5e284f9756e6",
   "metadata": {},
   "outputs": [
    {
     "data": {
      "text/plain": [
       "array([ 2., -0.,  0.])"
      ]
     },
     "execution_count": 37,
     "metadata": {},
     "output_type": "execute_result"
    }
   ],
   "source": [
    "RollPitchYaw(\n",
    "    RotationMatrix.MakeXRotation(2)\n",
    ").vector()"
   ]
  },
  {
   "cell_type": "code",
   "execution_count": 38,
   "id": "3d01b284-393b-4289-8753-7008e8477940",
   "metadata": {},
   "outputs": [
    {
     "data": {
      "text/plain": [
       "array([ 0., -0.,  2.])"
      ]
     },
     "execution_count": 38,
     "metadata": {},
     "output_type": "execute_result"
    }
   ],
   "source": [
    "RollPitchYaw(\n",
    "    RotationMatrix.MakeZRotation(2)\n",
    ").vector()"
   ]
  },
  {
   "cell_type": "code",
   "execution_count": 39,
   "id": "a50005fe-68ab-470d-bb73-a824dc11ea67",
   "metadata": {},
   "outputs": [
    {
     "data": {
      "text/plain": [
       "array([-2.40366453, -0.97343351, -2.40366453])"
      ]
     },
     "execution_count": 39,
     "metadata": {},
     "output_type": "execute_result"
    }
   ],
   "source": [
    "RollPitchYaw(RotationMatrix(RollPitchYaw(\n",
    "    RotationMatrix.MakeXRotation(2)\n",
    ")).multiply(RotationMatrix(RollPitchYaw(\n",
    "    RotationMatrix.MakeZRotation(2)\n",
    ")))).vector()"
   ]
  },
  {
   "cell_type": "markdown",
   "id": "640d335a-da59-428c-bef3-45845c180bb5",
   "metadata": {},
   "source": [
    "## Query meshcat visualization"
   ]
  },
  {
   "cell_type": "code",
   "execution_count": 40,
   "id": "01865a58-68fd-4e4c-a45a-b1755c924c6e",
   "metadata": {},
   "outputs": [],
   "source": [
    "query_idx = 200"
   ]
  },
  {
   "cell_type": "code",
   "execution_count": 41,
   "id": "08f9c8fe-f014-4aad-87ba-2d7df65c0f7f",
   "metadata": {},
   "outputs": [],
   "source": [
    "mbp_plant.SetPositions(ik_context, qs[query_idx])\n",
    "ee_pose = mbp_plant.EvalBodyPoseInWorld(ik_context, end_effector_body)\n",
    "visualization.AddMeshcatTriad(meshcat, \"man_pose\", X_PT=ee_pose)\n",
    "false_pose = mbp_plant.EvalBodyPoseInWorld(\n",
    "    ik_context, mbp_plant.GetBodyByName(\"false_body\"))\n",
    "visualization.AddMeshcatTriad(meshcat, \"false_pose\", X_PT=false_pose, opacity=0.3)\n",
    "vis.Publish(vis_context)"
   ]
  },
  {
   "cell_type": "markdown",
   "id": "93294abd-91d5-4dbf-8681-b62efa592062",
   "metadata": {},
   "source": [
    "# Save results"
   ]
  },
  {
   "cell_type": "code",
   "execution_count": 42,
   "id": "b8ff8d20-b489-42d2-bb27-a75387084a84",
   "metadata": {},
   "outputs": [],
   "source": [
    "out_qs = np.array(qs)[:,:7]"
   ]
  },
  {
   "cell_type": "code",
   "execution_count": 46,
   "id": "cbea1b34-cb15-45a2-854b-ff67dcca49b0",
   "metadata": {},
   "outputs": [],
   "source": [
    "np.savez(\"position_traj.npz\", qs=out_qs)"
   ]
  },
  {
   "cell_type": "code",
   "execution_count": 44,
   "id": "56f44b59-540c-42c7-82aa-b6d35bbcd1b4",
   "metadata": {},
   "outputs": [],
   "source": [
    "# Query visualization"
   ]
  }
 ],
 "metadata": {
  "kernelspec": {
   "display_name": "Python 3.9.9 64-bit",
   "language": "python",
   "name": "python399jvsc74a57bd0aee8b7b246df8f9039afb4144a1f6fd8d2ca17a180786b69acc140d282b71a49"
  },
  "language_info": {
   "codemirror_mode": {
    "name": "ipython",
    "version": 3
   },
   "file_extension": ".py",
   "mimetype": "text/x-python",
   "name": "python",
   "nbconvert_exporter": "python",
   "pygments_lexer": "ipython3",
   "version": "3.9.9"
  }
 },
 "nbformat": 4,
 "nbformat_minor": 5
}
