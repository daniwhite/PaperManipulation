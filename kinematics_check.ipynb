{
 "cells": [
  {
   "cell_type": "markdown",
   "id": "0262fd15-5770-44cb-88e8-03cc7f0651e8",
   "metadata": {},
   "source": [
    "# Setup"
   ]
  },
  {
   "cell_type": "markdown",
   "id": "93b63628-c68e-4947-8de1-85e3e55e6890",
   "metadata": {
    "tags": []
   },
   "source": [
    "## Imports"
   ]
  },
  {
   "cell_type": "code",
   "execution_count": null,
   "id": "a3740f0a-9409-4808-a4a4-750748f99e37",
   "metadata": {},
   "outputs": [],
   "source": [
    "# Numpy, Scipy, Matplotlib\n",
    "import scipy.interpolate\n",
    "import matplotlib\n",
    "import matplotlib.pyplot as plt\n",
    "import matplotlib.patches as patches\n",
    "import matplotlib.cm as cm\n",
    "import numpy as np\n",
    "\n",
    "# Drake imports\n",
    "import pydrake\n",
    "from pydrake.all import (\n",
    "    DirectCollocation, DirectTranscription, MathematicalProgram,\n",
    "    InputPortSelection, LogVectorOutput\n",
    ")\n",
    "from pydrake.all import FindResourceOrThrow\n",
    "from pydrake.all import (MultibodyPlant, Parser, DiagramBuilder, Simulator, RigidTransform,\n",
    "                         PlanarSceneGraphVisualizer, SceneGraph, TrajectorySource,\n",
    "                         SnoptSolver, MultibodyPositionToGeometryPose, PiecewisePolynomial,\n",
    "                         MathematicalProgram, JacobianWrtVariable, eq, RollPitchYaw, AutoDiffXd, BodyIndex,\n",
    "                        RotationMatrix, Meshcat,MeshcatVisualizerParams, MeshcatVisualizerCpp, MeshcatVisualizer,\n",
    "                        Adder, Gain, ConstantVectorSource, Demultiplexer, Multiplexer, InverseKinematics,\n",
    "                        Solve, SpatialInertia, UnitInertia)\n",
    "\n",
    "# Other imports\n",
    "import importlib\n",
    "import re\n",
    "import enum\n",
    "from IPython.display import display, SVG, Image\n",
    "import pydot\n",
    "\n",
    "# Imports of other project files\n",
    "import constants\n",
    "import config\n",
    "\n",
    "import plant.simulation\n",
    "import plant.manipulator as manipulator\n",
    "\n",
    "\n",
    "import ctrl.aux\n",
    "import plant.pedestal\n",
    "\n",
    "import visualization"
   ]
  },
  {
   "cell_type": "code",
   "execution_count": null,
   "id": "77d6e274-72a5-4740-9249-70c5ae3ea607",
   "metadata": {},
   "outputs": [],
   "source": [
    "# Matplotlib configuring\n",
    "# USE FOR PAPER\n",
    "# plt.style.use(['science', 'no-latex'])\n",
    "# font = {'size'   : 14}\n",
    "# matplotlib.rc('font', **font)\n",
    "# default_figsize = (2*3,2*2)\n",
    "# USE GENERALLY\n",
    "font = {'size'   : 16}\n",
    "matplotlib.rc('font', **font)\n",
    "default_figsize = (16,8)"
   ]
  },
  {
   "cell_type": "code",
   "execution_count": null,
   "id": "b7438b68-8c7b-450f-a345-7cf73acf15ad",
   "metadata": {},
   "outputs": [],
   "source": [
    "matplotlib.rcParams['figure.figsize'] = (16,8)\n",
    "matplotlib.rcParams['lines.linewidth'] = 5\n",
    "matplotlib.rcParams[\"axes.xmargin\"] = 0"
   ]
  },
  {
   "cell_type": "markdown",
   "id": "8d6932c2-026b-46a8-ab95-ff5353f6f047",
   "metadata": {},
   "source": [
    "## Drake initialization"
   ]
  },
  {
   "cell_type": "code",
   "execution_count": null,
   "id": "f21266a5-2e40-4123-bd3a-91a02c83eee4",
   "metadata": {},
   "outputs": [],
   "source": [
    "meshcat = Meshcat()\n",
    "web_url = meshcat.web_url()"
   ]
  },
  {
   "cell_type": "code",
   "execution_count": null,
   "id": "d3a6f099-89a2-4b83-bb10-ca78a7e9ec4b",
   "metadata": {},
   "outputs": [],
   "source": [
    "builder = DiagramBuilder()"
   ]
  },
  {
   "cell_type": "code",
   "execution_count": null,
   "id": "34b71c48-cd6a-4a65-8804-46719b5d30f9",
   "metadata": {},
   "outputs": [],
   "source": [
    "mbp_plant, scene_graph = pydrake.multibody.plant.AddMultibodyPlantSceneGraph(builder, time_step=config.DT)\n",
    "mbp_plant.set_stiction_tolerance(constants.v_stiction)\n",
    "mbp_plant.set_penetration_allowance(0.001)\n",
    "\n",
    "manipulator.data[\"add_plant_function\"](\n",
    "    mbp_plant,\n",
    "    constants.nominal_sys_consts.m_M,\n",
    "    constants.nominal_sys_consts.r,\n",
    "    constants.nominal_sys_consts.mu,\n",
    "    scene_graph = scene_graph\n",
    ")\n",
    "plant.pedestal.AddPedestal(mbp_plant)"
   ]
  },
  {
   "cell_type": "code",
   "execution_count": null,
   "id": "8c59b182-b998-44b9-a76f-6b5f549ed77c",
   "metadata": {},
   "outputs": [],
   "source": [
    "w_L = constants.nominal_sys_consts.w_L\n",
    "h_L = constants.nominal_sys_consts.h_L"
   ]
  },
  {
   "cell_type": "code",
   "execution_count": null,
   "id": "6d33c70e-cdda-44f1-8733-e3237ba72874",
   "metadata": {},
   "outputs": [],
   "source": [
    "pedestal_x = plant.pedestal.PEDESTAL_X_DIM"
   ]
  },
  {
   "cell_type": "code",
   "execution_count": null,
   "id": "454d35a5-34c7-4b4d-9f1b-c20a2393116b",
   "metadata": {},
   "outputs": [],
   "source": [
    "paper_instance = mbp_plant.AddModelInstance(\"paper\")\n",
    "paper_dims = [constants.PLYWOOD_LENGTH, w_L, h_L]\n",
    "paper_body = mbp_plant.AddRigidBody(\n",
    "    \"paper_body0\", paper_instance,\n",
    "    SpatialInertia(1, p_PScm_E=np.array([0., 0., 0.]),\n",
    "                   G_SP_E=UnitInertia.SolidBox(*paper_dims))\n",
    ")\n",
    "\n",
    "mbp_plant.RegisterCollisionGeometry(\n",
    "    paper_body, RigidTransform(), pydrake.geometry.Box(*paper_dims), \"paper_body0\",\n",
    "    pydrake.multibody.plant.CoulombFriction(1,1)\n",
    ")\n",
    "\n",
    "mbp_plant.RegisterVisualGeometry(\n",
    "    paper_body, RigidTransform(), pydrake.geometry.Box(*paper_dims),\n",
    "    \"paper_body0\", [0, 1, 0, 1])\n",
    "mbp_plant.WeldFrames(\n",
    "    mbp_plant.world_frame(),\n",
    "    mbp_plant.GetBodyByName(\"paper_body0\").body_frame(),\n",
    "    RigidTransform(RotationMatrix(\n",
    "    ), [0, 0, plant.pedestal.PEDESTAL_Z_DIM+h_L/2])\n",
    ")"
   ]
  },
  {
   "cell_type": "code",
   "execution_count": null,
   "id": "cb54bb86-9b9f-4a48-89e4-1fcb7d5b47c1",
   "metadata": {},
   "outputs": [],
   "source": [
    "contact_body_name = manipulator.data[\"contact_body_name\"]"
   ]
  },
  {
   "cell_type": "code",
   "execution_count": null,
   "id": "6f76cd89-53b3-4f89-afe7-b13a64bac64e",
   "metadata": {},
   "outputs": [],
   "source": [
    "empty_inertia = SpatialInertia(0, [0, 0, 0], UnitInertia(0, 0, 0))\n",
    "false_body_instance = mbp_plant.AddModelInstance(\"false\")\n",
    "mbp_plant.AddRigidBody(\"false_body\", false_body_instance, empty_inertia)"
   ]
  },
  {
   "cell_type": "code",
   "execution_count": null,
   "id": "2367a812-c4f2-499e-9916-6c42b8bf48f8",
   "metadata": {},
   "outputs": [],
   "source": [
    "end_effector_z_rotation = mbp_plant.AddJoint(pydrake.multibody.tree.RevoluteJoint(\n",
    "    \"contact_body_name_z_rotation\",\n",
    "    # mbp_plant.world_frame(),\n",
    "    mbp_plant.GetFrameByName(contact_body_name),\n",
    "    mbp_plant.GetFrameByName(\"false_body\"),\n",
    "    [0, 0, 1],\n",
    "    damping=0\n",
    "))"
   ]
  },
  {
   "cell_type": "code",
   "execution_count": null,
   "id": "a5fea354-b969-4243-81db-fdab8da69dfc",
   "metadata": {},
   "outputs": [],
   "source": [
    "mbp_plant.Finalize()\n",
    "\n",
    "meshcat_params = MeshcatVisualizerParams()\n",
    "vis = MeshcatVisualizerCpp.AddToBuilder(\n",
    "    builder,\n",
    "    scene_graph.get_query_output_port(),\n",
    "    meshcat,\n",
    "    meshcat_params)\n",
    "\n",
    "diagram = builder.Build()\n",
    "context = diagram.CreateDefaultContext()\n",
    "ik_context = mbp_plant.GetMyContextFromRoot(context)\n",
    "vis_context = vis.GetMyContextFromRoot(context)"
   ]
  },
  {
   "cell_type": "markdown",
   "id": "47201358-60f9-4c58-9d0e-b4ed9fce1212",
   "metadata": {},
   "source": [
    "# Create end effector traj"
   ]
  },
  {
   "cell_type": "code",
   "execution_count": null,
   "id": "f24db91b-e660-4904-8943-04689679a7f9",
   "metadata": {},
   "outputs": [],
   "source": [
    "end_time = 30"
   ]
  },
  {
   "cell_type": "code",
   "execution_count": null,
   "id": "f6f72052-8d5d-4a4d-bfb3-c9c77747cae2",
   "metadata": {},
   "outputs": [],
   "source": [
    "ts = np.arange(0,end_time,0.1);"
   ]
  },
  {
   "cell_type": "code",
   "execution_count": null,
   "id": "9c74fb0b-88a7-47c4-8667-30a2dac6ce0c",
   "metadata": {},
   "outputs": [],
   "source": [
    "joint_position = [\n",
    "    0,\n",
    "    w_L - constants.PEDESTAL_Y_DIM/2,\n",
    "    plant.pedestal.PEDESTAL_Z_DIM + constants.nominal_sys_consts.h_L/2\n",
    "]"
   ]
  },
  {
   "cell_type": "code",
   "execution_count": null,
   "id": "048e3c7c-3f51-41dc-b9ec-53632d7564f1",
   "metadata": {},
   "outputs": [],
   "source": [
    "desired_radius = w_L/2"
   ]
  },
  {
   "cell_type": "code",
   "execution_count": null,
   "id": "a23c25a8-9bdc-4e57-a645-8c0851e09f2a",
   "metadata": {},
   "outputs": [],
   "source": [
    "theta_Xs = np.interp(\n",
    "   ts,\n",
    "    [0, end_time],\n",
    "    [0, np.pi],\n",
    ")\n",
    "ys = joint_position[1] + np.cos(theta_Xs)*desired_radius\n",
    "zs = joint_position[2] + np.sin(theta_Xs)*desired_radius + constants.nominal_sys_consts.r"
   ]
  },
  {
   "cell_type": "code",
   "execution_count": null,
   "id": "f5764e09-ddc9-4e7c-83d4-a65974f9e1ff",
   "metadata": {},
   "outputs": [],
   "source": [
    "# Margin between edge of the link and the CoM of the manipulator\n",
    "x_margin = 3*constants.IN_TO_M"
   ]
  },
  {
   "cell_type": "markdown",
   "id": "b912f66e-a19e-4366-8b86-f2d5ebd9bfc8",
   "metadata": {},
   "source": [
    "# Generate initial values"
   ]
  },
  {
   "cell_type": "code",
   "execution_count": null,
   "id": "d4df816a-3ca6-45a9-8cac-bba29ef27e2a",
   "metadata": {},
   "outputs": [],
   "source": [
    "end_effector_body = mbp_plant.GetBodyByName(manipulator.data[\"contact_body_name\"])\n",
    "end_effector_frame = end_effector_body.body_frame()\n",
    "false_body_frame = mbp_plant.GetBodyByName(\"false_body\").body_frame()"
   ]
  },
  {
   "cell_type": "code",
   "execution_count": null,
   "id": "da9284a6-ac09-454c-bc8a-f2a7351a53f0",
   "metadata": {},
   "outputs": [],
   "source": [
    "starting_q = np.array([\n",
    "    -1.90831538,\n",
    "    -0.74013834,\n",
    "    2.29209901,\n",
    "    -2.58333082,\n",
    "    4.52633766,\n",
    "    0.60032527,\n",
    "    -3.10678351,\n",
    "    np.pi\n",
    "])"
   ]
  },
  {
   "cell_type": "code",
   "execution_count": null,
   "id": "654dac01-4126-4d78-aafe-bf58ccc55a67",
   "metadata": {},
   "outputs": [],
   "source": [
    "mbp_plant.SetPositions(ik_context, starting_q)\n",
    "vis.Publish(vis_context)\n",
    "starting_ee_pose = mbp_plant.EvalBodyPoseInWorld(ik_context, end_effector_body)\n",
    "starting_x = starting_ee_pose.translation()[0]\n",
    "starting_theta_Z = RollPitchYaw(starting_ee_pose.rotation()).vector()[2]\n",
    "# starting_q[-1] = -starting_theta_Z\n",
    "# mbp_plant.SetPositions(ik_context, starting_q)\n",
    "man_pose = mbp_plant.EvalBodyPoseInWorld(ik_context, mbp_plant.GetBodyByName(contact_body_name))\n",
    "visualization.AddMeshcatTriad(meshcat, \"man_pose\", X_PT=man_pose)\n",
    "false_pose = mbp_plant.EvalBodyPoseInWorld(ik_context, mbp_plant.GetBodyByName(\"false_body\"))\n",
    "visualization.AddMeshcatTriad(meshcat, \"false_pose\", X_PT=false_pose)\n",
    "# vis.Publish(vis_context)"
   ]
  },
  {
   "cell_type": "code",
   "execution_count": null,
   "id": "a56cfe85-1d52-4090-8fec-b81447a632e0",
   "metadata": {},
   "outputs": [],
   "source": [
    "mbp_plant.num_positions()"
   ]
  },
  {
   "cell_type": "markdown",
   "id": "7c756e0f-a50d-4c50-a67d-bfe45f35a96e",
   "metadata": {},
   "source": [
    "# Run optimization"
   ]
  },
  {
   "cell_type": "markdown",
   "id": "30b9c985-346b-454c-9967-5d7138038426",
   "metadata": {},
   "source": [
    "## Set up geometries for collision checking"
   ]
  },
  {
   "cell_type": "code",
   "execution_count": null,
   "id": "224d5f63-f68d-4105-a887-f4a2acc13344",
   "metadata": {},
   "outputs": [],
   "source": [
    "geometry_pairs = [\n",
    "    # (\"paper_body0\", contact_body_name),\n",
    "    (\"paper_body0\", \"panda_hand\"),\n",
    "    (\"paper_body0\", \"panda_link8\"),\n",
    "    (\"paper_body0\", \"panda_link7\"),\n",
    "    (\"paper_body0\", \"panda_link6\"),\n",
    "    (\"paper_body0\", \"panda_link5\"),\n",
    "    (\"paper_body0\", \"panda_link4\"),\n",
    "    (\"paper_body0\", \"panda_link3\"),\n",
    "    (\"pedestal_left_body\", contact_body_name),\n",
    "    (\"pedestal_left_body\", \"panda_hand\"),\n",
    "    (\"pedestal_left_body\", \"panda_link8\"),\n",
    "    (\"pedestal_left_body\", \"panda_link7\"),\n",
    "    (\"pedestal_left_body\", \"panda_link6\"),\n",
    "    (\"pedestal_left_body\", \"panda_link5\"),\n",
    "    (\"pedestal_left_body\", \"panda_link4\"),\n",
    "    (\"pedestal_left_body\", \"panda_link3\"),\n",
    "    (\"pedestal_right_body\", contact_body_name),\n",
    "    (\"pedestal_right_body\", \"panda_hand\"),\n",
    "    (\"pedestal_right_body\", \"panda_link8\"),\n",
    "    (\"pedestal_right_body\", \"panda_link7\"),\n",
    "    (\"pedestal_right_body\", \"panda_link6\"),\n",
    "    (\"pedestal_right_body\", \"panda_link5\"),\n",
    "    (\"pedestal_right_body\", \"panda_link4\"),\n",
    "    (\"pedestal_right_body\", \"panda_link3\"),\n",
    "    (\"pedestal_right_body\", \"panda_link3\"),\n",
    "    (\"pedestal_bottom_body\", \"panda_hand\"),\n",
    "    (\"pedestal_bottom_body\", \"panda_link8\"),\n",
    "    (\"pedestal_bottom_body\", \"panda_link7\"),\n",
    "    (\"pedestal_bottom_body\", \"panda_link6\"),\n",
    "    (\"pedestal_bottom_body\", \"panda_link5\"),\n",
    "    (\"pedestal_bottom_body\", \"panda_link4\"),\n",
    "    (\"pedestal_bottom_body\", \"panda_link3\"),\n",
    "]\n",
    "\n",
    "# TODO: get this from joints?\n",
    "adjacent_pairs = [\n",
    "    (\"panda_link0\", \"panda_link1\"),\n",
    "    (\"panda_link1\", \"panda_link2\"),\n",
    "    (\"panda_link2\", \"panda_link3\"),\n",
    "    (\"panda_link3\", \"panda_link4\"),\n",
    "    (\"panda_link4\", \"panda_link5\"),\n",
    "    (\"panda_link5\", \"panda_link6\"),\n",
    "    (\"panda_link6\", \"panda_link7\"),\n",
    "    (\"panda_link6\", \"panda_link8\"),\n",
    "    (\"panda_link7\", \"panda_link8\"),\n",
    "    (\"panda_link7\", \"panda_hand\"),\n",
    "    (\"panda_link8\", \"panda_hand\"),\n",
    "]\n",
    "panda_links = [\"panda_link\" + str(i) for i in range(9)]\n",
    "panda_links += [\"panda_hand\"]\n",
    "for link_1 in panda_links:\n",
    "    for link_2 in panda_links:\n",
    "        if link_1 == link_2:\n",
    "            continue\n",
    "        if (link_1, link_2) in adjacent_pairs:\n",
    "            continue\n",
    "        if (link_2, link_1) in adjacent_pairs:\n",
    "            continue\n",
    "        if (link_2, link_1) in geometry_pairs:\n",
    "            continue\n",
    "        if (link_1, link_2) in geometry_pairs:\n",
    "            continue\n",
    "        geometry_pairs.append((link_1, link_2))"
   ]
  },
  {
   "cell_type": "markdown",
   "id": "ceead15d-1f84-424b-a205-0d498fdcc0a2",
   "metadata": {},
   "source": [
    "## Run IK"
   ]
  },
  {
   "cell_type": "code",
   "execution_count": null,
   "id": "1b51164f-8424-4984-9621-5dfe915828c5",
   "metadata": {},
   "outputs": [],
   "source": []
  },
  {
   "cell_type": "code",
   "execution_count": null,
   "id": "496e137a-d387-4ddc-8699-6638c347b743",
   "metadata": {},
   "outputs": [],
   "source": [
    "qs = [starting_q]\n",
    "xs = [starting_x]\n",
    "theta_Zs = [starting_theta_Z]\n",
    "successes = [True]\n",
    "\n",
    "for t, theta_X, y, z in zip(ts, theta_Xs, ys, zs):\n",
    "    ik = InverseKinematics(mbp_plant, ik_context, with_joint_limits=True)\n",
    "    # collision_constraint = ik.AddMinimumDistanceConstraint(1e-6, 1e-3)\n",
    "    for body_name_i, body_name_j in geometry_pairs:\n",
    "            # print(geometry_body_names[i], geometry_body_names[j])\n",
    "            geo_list = (\n",
    "                mbp_plant.GetCollisionGeometriesForBody(\n",
    "                    mbp_plant.GetBodyByName(body_name_i))[0],\n",
    "                mbp_plant.GetCollisionGeometriesForBody(\n",
    "                    mbp_plant.GetBodyByName(body_name_j))[0],\n",
    "            )\n",
    "            # geometries = mbp_plant.CollectRegisteredGeometries(body_list)\n",
    "            ik.AddDistanceConstraint(distance_lower=1e-3, distance_upper=1e9, geometry_pair=geo_list)\n",
    "    \n",
    "    # p_WG_lower = np.array([[-(pedestal_x/2 - x_margin), y-1e-3, z-1e-3]]).T\n",
    "    # p_WG_upper = np.array([[(pedestal_x/2 - x_margin), y+1e-3, z+1e-3]]).T\n",
    "    \n",
    "    p_WG_lower = np.array([[-1e-2, y-1e-2, z-1e-2]]).T\n",
    "    p_WG_upper = np.array([[1e-2, y+1e-2, z+1e-2]]).T\n",
    "    # p_WG_lower = np.array([[-10, y-1e-3, z-1e-3]]).T\n",
    "    # p_WG_upper = np.array([[10, y+1e-3, z+1e-3]]).T\n",
    "    # print(y, z)\n",
    "    \n",
    "    ik.AddPositionConstraint(\n",
    "        frameA=mbp_plant.world_frame(), frameB=end_effector_frame, p_BQ=np.zeros(3),\n",
    "        p_AQ_lower=p_WG_lower, p_AQ_upper=p_WG_upper)\n",
    "    \n",
    "    # ik.AddOrientationConstraint(\n",
    "    #     frameA=mbp_plant.world_frame(), frameB=end_effector_frame\n",
    "    \n",
    "    R_WG = RotationMatrix.MakeXRotation(theta_X)\n",
    "    ik.AddOrientationConstraint(\n",
    "        frameAbar=mbp_plant.world_frame(), R_AbarA=R_WG,\n",
    "        frameBbar=false_body_frame, R_BbarB=RotationMatrix(),\n",
    "        theta_bound=0.01*np.pi\n",
    "    )\n",
    "        \n",
    "    # ik.prog().AddConstraint(ik.q()[-1] == -theta_Zs[-1])\n",
    "    ik.prog().SetInitialGuess(ik.q(), qs[-1])\n",
    "    \n",
    "    result = Solve(ik.prog())\n",
    "    if not result.is_success():\n",
    "        print(result.GetInfeasibleConstraintNames(ik.prog()))\n",
    "    successes.append(result.is_success())\n",
    "    qs.append(result.GetSolution(ik.q()))\n",
    "\n",
    "    mbp_plant.SetPositions(ik_context, qs[-1])\n",
    "    ee_pose = mbp_plant.EvalBodyPoseInWorld(ik_context, end_effector_body)\n",
    "    theta_Z = RollPitchYaw(ee_pose.rotation()).vector()[2]\n",
    "    theta_Zs.append(theta_Z)\n",
    "    # else:\n",
    "        # print(\"Failure at time {}\".format(t))\n",
    "        # qs.append(result.GetSolution(ik.q()))"
   ]
  },
  {
   "cell_type": "code",
   "execution_count": null,
   "id": "d06e3d3e-8d3b-4b4a-99b2-4c956ecb8f6e",
   "metadata": {},
   "outputs": [],
   "source": [
    "print(\"Success rate: {:.2f}%\".format(100*np.count_nonzero(successes)/len(successes)))"
   ]
  },
  {
   "cell_type": "markdown",
   "id": "3147c12f-b4d3-4e2a-8c93-77d5780fa495",
   "metadata": {},
   "source": [
    "## Visualize results"
   ]
  },
  {
   "cell_type": "code",
   "execution_count": null,
   "id": "ade904b8-870d-46ac-a6bc-d0b9e9b9ff38",
   "metadata": {},
   "outputs": [],
   "source": [
    "import time"
   ]
  },
  {
   "cell_type": "code",
   "execution_count": null,
   "id": "3da1df8f-b944-4de7-a6bd-cd9fb82ddcae",
   "metadata": {
    "tags": []
   },
   "outputs": [],
   "source": [
    "# vis.StartRecording()\n",
    "t = 0\n",
    "dt = 0.1\n",
    "xs_out = []\n",
    "ys_out = []\n",
    "zs_out = []\n",
    "for q, success in zip(qs, successes):\n",
    "    if success and True:\n",
    "        mbp_plant.SetPositions(ik_context, q)\n",
    "        ee_pose = mbp_plant.EvalBodyPoseInWorld(ik_context, end_effector_body)\n",
    "        xs_out.append(ee_pose.translation()[0])\n",
    "        ys_out.append(ee_pose.translation()[1])\n",
    "        zs_out.append(ee_pose.translation()[2])\n",
    "        vis.Publish(vis_context)\n",
    "        # diagram.Publish(context)\n",
    "\n",
    "        man_pose = mbp_plant.EvalBodyPoseInWorld(ik_context, mbp_plant.GetBodyByName(contact_body_name))\n",
    "        visualization.AddMeshcatTriad(meshcat, \"man_pose\", X_PT=man_pose)\n",
    "        false_pose = mbp_plant.EvalBodyPoseInWorld(ik_context, mbp_plant.GetBodyByName(\"false_body\"))\n",
    "        visualization.AddMeshcatTriad(meshcat, \"false_pose\", X_PT=false_pose, opacity=0.3)\n",
    "        \n",
    "        \n",
    "        time.sleep(dt)\n",
    "        t += dt\n",
    "    # break\n",
    "    # print(end_effector_z_rotation.get_angle(ik_context))\n",
    "# vis.StopRecording()\n",
    "# vis.PublishRecording()"
   ]
  },
  {
   "cell_type": "code",
   "execution_count": null,
   "id": "bc8de60f-95ce-4428-9593-ff1df0142834",
   "metadata": {},
   "outputs": [],
   "source": []
  },
  {
   "cell_type": "code",
   "execution_count": null,
   "id": "47e580b0-8563-4053-9a30-4a0fb1a0baf9",
   "metadata": {},
   "outputs": [],
   "source": [
    "plt.figure()\n",
    "plt.plot(ys, zs, label=\"Desired\", color='purple', linestyle='--')\n",
    "plt.plot(ys_out, zs_out, label=\"Actual\", color='purple', alpha=0.3)\n",
    "plt.gca().set_aspect(\"equal\")"
   ]
  },
  {
   "cell_type": "code",
   "execution_count": null,
   "id": "0a7f6efd-8d51-40f1-9d53-a7de9844cd32",
   "metadata": {},
   "outputs": [],
   "source": [
    "successes"
   ]
  },
  {
   "cell_type": "code",
   "execution_count": null,
   "id": "db3637c3-cb47-42e6-bffe-c0af1b67d930",
   "metadata": {},
   "outputs": [],
   "source": [
    "offset = np.zeros(7)\n",
    "# offset[-1] += np.pi/2\n",
    "test_pose = qs[0] + offset\n",
    "mbp_plant.SetPositions(ik_context, test_pose)\n",
    "vis.Publish(vis_context)\n",
    "mbp_plant.EvalBodyPoseInWorld(ik_context, mbp_plant.GetBodyByName(\"panda_link7\"))"
   ]
  },
  {
   "cell_type": "code",
   "execution_count": null,
   "id": "365616ef-dc7b-48cc-b9a3-83f2f06d3306",
   "metadata": {},
   "outputs": [],
   "source": [
    "mbp_plant.EvalBodyPoseInWorld(ik_context, mbp_plant.GetBodyByName(\"panda_link7\"))"
   ]
  },
  {
   "cell_type": "code",
   "execution_count": null,
   "id": "fb2e1556-54ee-4e66-aacc-3cdaa65a02fc",
   "metadata": {},
   "outputs": [],
   "source": []
  }
 ],
 "metadata": {
  "kernelspec": {
   "display_name": "Python 3.9.9 64-bit",
   "language": "python",
   "name": "python399jvsc74a57bd0aee8b7b246df8f9039afb4144a1f6fd8d2ca17a180786b69acc140d282b71a49"
  },
  "language_info": {
   "codemirror_mode": {
    "name": "ipython",
    "version": 3
   },
   "file_extension": ".py",
   "mimetype": "text/x-python",
   "name": "python",
   "nbconvert_exporter": "python",
   "pygments_lexer": "ipython3",
   "version": "3.9.9"
  }
 },
 "nbformat": 4,
 "nbformat_minor": 5
}
