{
 "cells": [
  {
   "cell_type": "code",
   "execution_count": null,
   "id": "7a45c4e7-c0d7-4b05-a250-ebf23a976382",
   "metadata": {},
   "outputs": [],
   "source": [
    "import matplotlib\n",
    "import matplotlib.pyplot as plt\n",
    "import numpy as np"
   ]
  },
  {
   "cell_type": "code",
   "execution_count": null,
   "id": "bef810ea-555b-47e2-80b7-6be8b7187e58",
   "metadata": {},
   "outputs": [],
   "source": [
    "base_path = \"sweeps/\""
   ]
  },
  {
   "cell_type": "code",
   "execution_count": null,
   "id": "7b7d25be-ce4e-4c41-b2d9-c11f106f0cee",
   "metadata": {},
   "outputs": [],
   "source": [
    "matplotlib.rcParams['figure.figsize'] = (16,8)\n",
    "matplotlib.rcParams[\"axes.xmargin\"] = 0"
   ]
  },
  {
   "cell_type": "code",
   "execution_count": null,
   "id": "5dab5acc-5468-458e-aaf8-30b1e9db092b",
   "metadata": {},
   "outputs": [],
   "source": [
    "def plot_bool_in_bg(x_axis, y_axis):\n",
    "    ylims = plt.ylim()\n",
    "    ylim_range = ylims[1] - ylims[0]\n",
    "    no_val = ylims[0]+ylim_range*0.2\n",
    "    yes_val = ylims[0]+ylim_range*0.8\n",
    "    contacts_to_plot = np.ones_like(x_axis)*no_val\n",
    "    contacts_to_plot[y_axis == 1] = yes_val\n",
    "    plt.plot(x_axis, contacts_to_plot, linestyle=':', zorder=0)"
   ]
  },
  {
   "cell_type": "markdown",
   "id": "14cf3359-6ebb-4b79-a596-2bf62d92369c",
   "metadata": {},
   "source": [
    "# ff_FN"
   ]
  },
  {
   "cell_type": "code",
   "execution_count": null,
   "id": "e51bfedf-a84e-4e7e-8ca6-c7037f92939e",
   "metadata": {},
   "outputs": [],
   "source": [
    "data = np.load(base_path + \"ff_FN.npz\")\n",
    "plt.plot(data[\"x_axis\"], data[\"y_axis\"], '--o')\n",
    "plot_bool_in_bg(data[\"x_axis\"], data[\"successes\"])\n",
    "plt.show()"
   ]
  }
 ],
 "metadata": {
  "kernelspec": {
   "display_name": "Python 3",
   "language": "python",
   "name": "python3"
  },
  "language_info": {
   "codemirror_mode": {
    "name": "ipython",
    "version": 3
   },
   "file_extension": ".py",
   "mimetype": "text/x-python",
   "name": "python",
   "nbconvert_exporter": "python",
   "pygments_lexer": "ipython3",
   "version": "3.9.9"
  }
 },
 "nbformat": 4,
 "nbformat_minor": 5
}
