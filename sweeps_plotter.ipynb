{
 "cells": [
  {
   "cell_type": "markdown",
   "id": "9e52f1d7-ed36-4ff7-a79a-8dfcf2c78214",
   "metadata": {},
   "source": [
    "# Setup\n",
    "## Imports"
   ]
  },
  {
   "cell_type": "code",
   "execution_count": null,
   "id": "7a45c4e7-c0d7-4b05-a250-ebf23a976382",
   "metadata": {},
   "outputs": [],
   "source": [
    "import matplotlib\n",
    "import matplotlib.pyplot as plt\n",
    "import matplotlib.cm as cm\n",
    "import numpy as np"
   ]
  },
  {
   "cell_type": "code",
   "execution_count": null,
   "id": "28f36657-7684-4287-a515-f122b75fcd04",
   "metadata": {},
   "outputs": [],
   "source": [
    "import constants\n",
    "import config"
   ]
  },
  {
   "cell_type": "code",
   "execution_count": null,
   "id": "f4fe7de4-b8f7-4532-815e-19a39bf6570f",
   "metadata": {},
   "outputs": [],
   "source": [
    "matplotlib.rcParams.update({\n",
    "    \"pgf.texsystem\": \"pdflatex\",\n",
    "    'font.family': 'serif',\n",
    "    'text.usetex': True,\n",
    "    'pgf.rcfonts': False,\n",
    "})"
   ]
  },
  {
   "cell_type": "markdown",
   "id": "df6c12a7-83e6-4240-84b5-9f38d24483d5",
   "metadata": {},
   "source": [
    "## Config"
   ]
  },
  {
   "cell_type": "code",
   "execution_count": null,
   "id": "bef810ea-555b-47e2-80b7-6be8b7187e58",
   "metadata": {},
   "outputs": [],
   "source": [
    "base_path = \"sweeps/\""
   ]
  },
  {
   "cell_type": "code",
   "execution_count": null,
   "id": "76aa7e5c-b5fe-4c96-8ac0-67df21542f3f",
   "metadata": {},
   "outputs": [],
   "source": [
    "offline_color = \"forestgreen\"\n",
    "measured_color = \"darkorchid\"\n",
    "constant_color = \"dodgerblue\""
   ]
  },
  {
   "cell_type": "code",
   "execution_count": null,
   "id": "1a75aa36",
   "metadata": {},
   "outputs": [],
   "source": [
    "success_angle = 0.99*np.pi"
   ]
  },
  {
   "cell_type": "markdown",
   "id": "0c32da53-6efa-44e1-b2cb-236fb64444c8",
   "metadata": {},
   "source": [
    "## Functions"
   ]
  },
  {
   "cell_type": "code",
   "execution_count": null,
   "id": "ff32c10c-ac54-4c62-bd8b-2057dffe562a",
   "metadata": {},
   "outputs": [],
   "source": [
    "def draw_trajs(datas, idxs=None, plot_manipulator=True, progs=None, num_times=5,\n",
    "              fig_height=2.1, cb_shrink=0.8, max_times=None):\n",
    "    if idxs is None:\n",
    "        sim_args = datas[\"sim_args\"][0]\n",
    "        datas = datas[\"out_data\"]\n",
    "    else:\n",
    "        sim_args = datas[\"sim_args\"][0]\n",
    "        datas = [datas[\"out_data\"][idx] for idx in idxs]\n",
    "    w_L = sim_args['sim_params'].w_L\n",
    "    h_L = sim_args['sim_params'].h_L\n",
    "    r = sim_args['sim_params'].r\n",
    "    if max_times is None:\n",
    "        max_times = np.ones(len(datas))\n",
    "\n",
    "    # Set to be arbitrary large/small numbers\n",
    "    # IMPORTANT: x and y here refer to PLOT x and ys, not sim\n",
    "    min_x = 10**9\n",
    "    min_y = 10**9\n",
    "    max_x = -10**9\n",
    "    max_y = -10**9\n",
    "\n",
    "    # Initialize plotting vars\n",
    "    fig, axs = plt.subplots(1, len(datas), figsize=(6,fig_height), constrained_layout=True, sharex=True, sharey=True)\n",
    "    if len(datas) == 1:\n",
    "        axs = [axs]\n",
    "    axs[0].set_ylabel(\"$z$ position\")\n",
    "    cmap = plt.get_cmap(\"viridis_r\")\n",
    "    \n",
    "    for i, data_, in enumerate(datas):\n",
    "        start_idx = data_[\"any_links_in_contact_idx\"]\n",
    "        start_time = data_[\"times\"][start_idx]\n",
    "        end_time = data_[\"times\"][-1]\n",
    "        time_range = end_time - start_time\n",
    "#         color_map = cm.ScalarMappable(cmap=\"viridis_r\", norm=plt.Normalize(start_time,start_time +time_range*max_time))\n",
    "        \n",
    "        if progs is None:\n",
    "            times_ = np.linspace(start_time, end_time, num_times)\n",
    "        else:\n",
    "            if type(progs[0]) is list:\n",
    "                progs_ = np.array(progs[i])\n",
    "            else:\n",
    "                progs_ = np.array(progs)\n",
    "            times_ = progs_*time_range + start_time\n",
    "        ax = axs[i]\n",
    "\n",
    "        # Draw rectangles over links\n",
    "        for t in times_:\n",
    "            c = cmap(((t-start_time)/time_range)/max_times[i])\n",
    "            idx = np.argmax(data_[\"times\"] >= t)\n",
    "\n",
    "            for x, y, ang in zip(\n",
    "                    data_[\"horizontal_paper_traces\"][:,idx],\n",
    "                    data_[\"vertical_paper_traces\"][:,idx],\n",
    "                    data_[\"angle_paper_traces\"][:,idx]):\n",
    "\n",
    "                x0 = x - np.cos(ang)*w_L/2\n",
    "                y0 = y - np.sin(ang)*w_L/2\n",
    "\n",
    "                rect = plt. Rectangle((x0, y0), w_L, h_L,\n",
    "                    angle=ang*180/np.pi, color=c,)\n",
    "                ax.add_patch(rect)\n",
    "\n",
    "                # Compute bounds to be used\n",
    "                min_x = min(x - w_L*1.1*0.5, min_x)\n",
    "                min_y = min(y - w_L*1.1*0.5, min_y)\n",
    "                max_x = max(x + w_L*1.1*0.5, max_x)\n",
    "                max_y = max(y + w_L*1.1*0.5, max_y)\n",
    "\n",
    "        # Add pedestal\n",
    "        ## Get first pedestal location\n",
    "        rect = plt.Rectangle(\n",
    "            (data_[\"horizontal_paper_traces\"][0,0]-w_L/2,\n",
    "             data_[\"vertical_paper_traces\"][0,0]-h_L/2),\n",
    "            10,\n",
    "            10,\n",
    "            angle=-90,\n",
    "            color=(0.2, 0.2, 0.2, 1.0)\n",
    "        )\n",
    "        ax.add_patch(rect)\n",
    "\n",
    "        # Add manipulator\n",
    "        if plot_manipulator:\n",
    "            for t in times_:\n",
    "                c = cmap((t-start_time)/time_range)\n",
    "                idx = np.argmax(data_[\"times\"] >= t)\n",
    "\n",
    "                x = data_[\"horizontal_manipulator_trace\"][idx]\n",
    "                y = data_[\"vertical_manipulator_trace\"][idx]\n",
    "\n",
    "                min_x = min(x - r*1.1, min_x)\n",
    "                min_y = min(y - r*1.1, min_y)\n",
    "                max_x = max(x + r*1.1, max_x)\n",
    "                max_y = max(y + r*1.1, max_y)\n",
    "\n",
    "                circ = plt.Circle((x, y), r*1.1, color=c, alpha=0.3, snap=False)\n",
    "                ax.add_patch(circ)\n",
    "\n",
    "        ax.set_xlabel(\"$y$ position\")\n",
    "        ax.set_aspect(\"equal\")\n",
    "\n",
    "    # Set lims (can do at the end because sharex and sharey are true)\n",
    "    min_plot_x = min_x - (max_x-min_x)*0.1\n",
    "    max_plot_x = max_x + (max_x-min_x)*0.1\n",
    "    min_x_tick = np.floor(min_plot_x*10)/10\n",
    "    max_x_tick = np.ceil(max_plot_x*10)/10\n",
    "    xticks = np.arange(min_x_tick, max_x_tick+1e-5, 0.1)\n",
    "    ax.set_xticks(xticks)\n",
    "\n",
    "    min_plot_y = min_y - (max_y-min_y)*0.1\n",
    "    max_plot_y = max_y + (max_y-min_y)*0.1\n",
    "    min_y_tick = np.floor(min_plot_y*10)/10\n",
    "    max_y_tick = np.ceil(max_plot_y*10)/10\n",
    "    yticks = np.arange(min_y_tick, max_y_tick+1e-5, 0.1)\n",
    "    ax.set_yticks(yticks)\n",
    "    ax.set_ylim(min_plot_y, max_plot_y)\n",
    "    plt.xlim(min_plot_x, max_plot_x)\n",
    "    cb = fig.colorbar(cm.ScalarMappable(cmap=\"viridis_r\"), shrink=cb_shrink)\n",
    "    cb.set_label(\"Normalized time\")\n",
    "#     ticks = np.linspace(0, 100, 6)\n",
    "#     cb.set_ticks(ticks/100)\n",
    "#     cb.set_ticklabels([str(int(tick)) + \"\\%\" for tick in ticks])\n",
    "\n",
    "    return fig, axs, cb"
   ]
  },
  {
   "cell_type": "markdown",
   "id": "58c27202-c9f6-4146-a4e9-bfd9faadde1c",
   "metadata": {},
   "source": [
    "# Intro sweeps"
   ]
  },
  {
   "cell_type": "code",
   "execution_count": null,
   "id": "35b47e56-6191-4629-9e9d-00baaf36d5bc",
   "metadata": {},
   "outputs": [],
   "source": [
    "data = np.load(base_path + \"traces.npz\", allow_pickle=True)"
   ]
  },
  {
   "cell_type": "code",
   "execution_count": null,
   "id": "92a4c789-87eb-43e2-8592-c9906356d993",
   "metadata": {},
   "outputs": [],
   "source": [
    "plot_manipulator=True\n",
    "data = np.load(base_path + \"traces.npz\", allow_pickle=True)\n",
    "sim_args = data[\"sim_args\"][0]\n",
    "\n",
    "fig, axs, cb = draw_trajs(data, plot_manipulator=plot_manipulator,\n",
    "               fig_height=3)\n",
    "titles = [\"Offline setpoint\\ntrajectory\",\n",
    "          r\"Link feedback with\" + \"\\n\" +\n",
    "          \"constant $F_{Nff}$\",\n",
    "          \"Link feedback with\" + \"\\n\" +\n",
    "          \"$F_{Nff}$ based on\" + \"\\n\" +\n",
    "          \"force measurements\"]\n",
    "for title, ax in zip(titles, axs):\n",
    "    ax.set_title(title)\n",
    "plt.suptitle(\"System behavior with various strategies\")\n",
    "# fig.savefig(\"traj_drawings.pgf\", backend=\"pgf\")\n",
    "plt.show()"
   ]
  },
  {
   "cell_type": "code",
   "execution_count": null,
   "id": "27448a3b-988f-4c57-bf6d-b0066e3f1fdf",
   "metadata": {},
   "outputs": [],
   "source": [
    "fig, axs = plt.subplots(1, 1, figsize=(6,4), constrained_layout=True)\n",
    "colors = [offline_color, constant_color, measured_color]\n",
    "titles = [\"Offline setpoint trajectory\",\n",
    "          r\"Link feedback with constant $F_{Nff}$\",\n",
    "          \"Link feedback with $F_{Nff}$ based on force measurements\"]\n",
    "for i, (data_, color, title) in enumerate(zip(data['out_data'], colors, titles)):\n",
    "    start_idx = data_[\"any_links_in_contact_idx\"]\n",
    "    plt.plot(data_[\"horizontal_paper_traces\"][-1,start_idx:],\n",
    "             data_[\"vertical_paper_traces\"][-1,start_idx:], color=color, label=title)\n",
    "    plt.plot(data_[\"horizontal_paper_traces\"][-1,start_idx],\n",
    "             data_[\"vertical_paper_traces\"][-1,start_idx],\n",
    "             marker='o', color=color)\n",
    "    plt.plot(data_[\"horizontal_paper_traces\"][-1,-1],\n",
    "             data_[\"vertical_paper_traces\"][-1,-1], marker='X', color=color)\n",
    "plt.legend(frameon=False)\n",
    "plt.xlabel(\"$y$ position\")\n",
    "plt.ylabel(\"$z$ position\")\n",
    "plt.gca().set_aspect(\"equal\")\n",
    "\n",
    "fig.savefig(\"traj_plots.pgf\", backend=\"pgf\")\n",
    "plt.show()"
   ]
  },
  {
   "cell_type": "markdown",
   "id": "1187702f-e80a-4a04-b74a-883e1a552cca",
   "metadata": {},
   "source": [
    "# Task parameters"
   ]
  },
  {
   "cell_type": "markdown",
   "id": "7f94b73b-779b-4e4e-a081-d4c56dda5ea9",
   "metadata": {},
   "source": [
    "## Stiffness"
   ]
  },
  {
   "cell_type": "code",
   "execution_count": null,
   "id": "0b276485-8e9a-4e16-944b-3a3efde0c709",
   "metadata": {},
   "outputs": [],
   "source": [
    "datas = [\n",
    "    np.load(base_path + \"measured_Fn__k_J.npz\", allow_pickle=True),\n",
    "    np.load(base_path + \"offline__k_J.npz\", allow_pickle=True),\n",
    "    np.load(base_path + \"constant_Fn__k_J.npz\", allow_pickle=True),\n",
    "]\n",
    "labels = [\"Measured $F_n$\", \"Offline trajectory\",\"Constant\"]\n",
    "colors = [measured_color,offline_color, constant_color]\n",
    "\n",
    "for i, (data, label, color) in enumerate(zip(datas, labels, colors)):\n",
    "    x_axis = data[\"sweep_vars\"][:,0]\n",
    "    y_axis = np.array([val[\"max_overall_theta\"] for val in data[\"out_data\"]])/success_angle\n",
    "    succ_idxs = data[\"successes\"].flatten()\n",
    "    fail_idxs = np.logical_not(succ_idxs)\n",
    "    plt.plot(x_axis, y_axis, linestyle='-', linewidth=2, label=label, zorder=i, color=color)\n",
    "#     plt.scatter(x_axis[succ_idxs], y_axis[succ_idxs], color=color, zorder=i, s=3)\n",
    "#     plt.scatter(x_axis[fail_idxs], y_axis[fail_idxs], facecolors='none', color=color, zorder=i, s=3)\n",
    "plt.legend(frameon=False)\n",
    "plt.xlabel(\"Joint stiffness (Nm/rad)\")\n",
    "plt.ylabel(\"Angle about joint (radians)\")\n",
    "plt.autoscale(enable=True, axis='x', tight=True)\n",
    "# plt.gcf().savefig(\"k_J_sweep.pgf\", backend=\"pgf\")\n",
    "# plt.xlim(0,0.5)\n",
    "plt.axhline(1, color='k', linestyle='--')\n",
    "# plt.ylim(0,1.05)\n",
    "plt.show()"
   ]
  },
  {
   "cell_type": "markdown",
   "id": "36a54c2c-cfde-42aa-8bf6-595b269a85f3",
   "metadata": {},
   "source": [
    "Rerun with several impedances"
   ]
  },
  {
   "cell_type": "code",
   "execution_count": null,
   "id": "5d490c03-e427-4219-8fbe-392df3f479a4",
   "metadata": {},
   "outputs": [],
   "source": [
    "data = np.load(base_path + \"measured_Fn__k_J.npz\", allow_pickle=True)\n",
    "fig, axs = plt.subplots(1, 1, figsize=(6,4), constrained_layout=True)\n",
    "\n",
    "color_map = cm.ScalarMappable(cmap=\"viridis_r\", norm=plt.Normalize(0,np.max(data['sweep_vars'])))\n",
    "for i, (data_, k_J) in enumerate(zip(data['out_data'][3:], data['sweep_vars'][3:,0])):\n",
    "    c = color_map.to_rgba(k_J)\n",
    "    start_idx = data_[\"any_links_in_contact_idx\"]\n",
    "    p = plt.plot(data_[\"horizontal_paper_traces\"][-1,start_idx:],\n",
    "             data_[\"vertical_paper_traces\"][-1,start_idx:], color=c)\n",
    "    plt.plot(data_[\"horizontal_paper_traces\"][-1,start_idx],\n",
    "             data_[\"vertical_paper_traces\"][-1,start_idx],\n",
    "             marker='o', color=c)\n",
    "    plt.plot(data_[\"horizontal_paper_traces\"][-1,-1],\n",
    "             data_[\"vertical_paper_traces\"][-1,-1], marker='X', color=c)\n",
    "plt.xlabel(\"$y$ position\")\n",
    "plt.ylabel(\"$z$ position\")\n",
    "\n",
    "cb = fig.colorbar(color_map)\n",
    "plt.gca().set_aspect(\"equal\")\n",
    "cb.set_label(\"Link stiffness (Nm/rad)\")\n",
    "plt.gcf().savefig(\"k_J_plot.pgf\", backend=\"pgf\")\n",
    "plt.show()"
   ]
  },
  {
   "cell_type": "markdown",
   "id": "58b90717",
   "metadata": {},
   "source": [
    "Possibly add more pictures of link behavior"
   ]
  },
  {
   "cell_type": "markdown",
   "id": "73ac7782-7a12-4402-b44b-b54371693942",
   "metadata": {
    "tags": []
   },
   "source": [
    "## Link mass"
   ]
  },
  {
   "cell_type": "markdown",
   "id": "1d72e1fa-60c5-443d-8055-6988ec032106",
   "metadata": {},
   "source": [
    "### Sweep"
   ]
  },
  {
   "cell_type": "code",
   "execution_count": null,
   "id": "fd3a33fb-b953-4f0a-b831-856b4eb666c1",
   "metadata": {},
   "outputs": [],
   "source": [
    "datas = [\n",
    "    np.load(base_path + \"measured_Fn__m_L.npz\", allow_pickle=True),\n",
    "    np.load(base_path + \"constant_Fn__m_L.npz\", allow_pickle=True),\n",
    "    np.load(base_path + \"offline__m_L.npz\", allow_pickle=True),\n",
    "]\n",
    "labels = [\"Measured $F_n$\", \"Constant\", \"Offline trajectory\"]\n",
    "colors = [measured_color, constant_color, offline_color]\n",
    "fig, axs = plt.subplots(3, 1, figsize=(6,4), constrained_layout=True,sharex=True,sharey=True)\n",
    "\n",
    "for i, (data, label, color, ax) in enumerate(zip(datas, labels, colors, axs)):\n",
    "    x_axis = data[\"sweep_vars\"]\n",
    "    y_axis = np.array([val[\"max_overall_theta\"] for val in data[\"out_data\"]])/success_angle\n",
    "    succ_idxs = data[\"successes\"].flatten()\n",
    "    fail_idxs = np.logical_not(succ_idxs)\n",
    "    ax.plot(x_axis, y_axis, '--', label=label, zorder=i, color=color)\n",
    "    ax.scatter(x_axis[succ_idxs], y_axis[succ_idxs], color=color, zorder=i)\n",
    "    ax.scatter(x_axis[fail_idxs], y_axis[fail_idxs], facecolors='none', color=color, zorder=i)\n",
    "    ax.set_ylabel(\"Progress\")\n",
    "# plt.legend(frameon=False)\n",
    "plt.xlabel(\"Link mass (kg)\")\n",
    "\n",
    "plt.gcf().savefig(\"m_L_sweep.pgf\", backend=\"pgf\")\n",
    "plt.show()"
   ]
  },
  {
   "cell_type": "markdown",
   "id": "66ecd92d",
   "metadata": {},
   "source": [
    "Explanation: In the middle, the stiffness is enough to pull it off; at the end, you can dump it and it will stay."
   ]
  },
  {
   "cell_type": "markdown",
   "id": "8e720899-6d04-4c49-8e03-aac6b58dc77c",
   "metadata": {},
   "source": [
    "### Trajectories with measured $F_N$"
   ]
  },
  {
   "cell_type": "code",
   "execution_count": null,
   "id": "095d0322",
   "metadata": {},
   "outputs": [],
   "source": [
    "data = np.load(base_path + \"measured_Fn__m_L.npz\", allow_pickle=True)\n",
    "fig, axs = plt.subplots(1, 1, figsize=(6,4), constrained_layout=True)\n",
    "\n",
    "idxs = [1,-4,-1]\n",
    "color_map = cm.ScalarMappable(cmap=\"viridis_r\", norm=plt.Normalize(0,np.max(data['sweep_vars'])))\n",
    "for i, (data_, k_J) in enumerate(zip(data['out_data'][idxs], data['sweep_vars'][idxs])):\n",
    "    c = color_map.to_rgba(k_J)\n",
    "    start_idx = data_[\"any_links_in_contact_idx\"]\n",
    "    p = plt.plot(data_[\"horizontal_paper_traces\"][-1,start_idx:],\n",
    "             data_[\"vertical_paper_traces\"][-1,start_idx:], color=c)\n",
    "    plt.plot(data_[\"horizontal_paper_traces\"][-1,start_idx],\n",
    "             data_[\"vertical_paper_traces\"][-1,start_idx],\n",
    "             marker='o', color=c)\n",
    "    plt.plot(data_[\"horizontal_paper_traces\"][-1,-1],\n",
    "             data_[\"vertical_paper_traces\"][-1,-1], marker='X', color=c)\n",
    "plt.xlabel(\"$y$ position\")\n",
    "plt.ylabel(\"$z$ position\")\n",
    "\n",
    "cb = fig.colorbar(color_map)\n",
    "plt.gca().set_aspect(\"equal\")\n",
    "cb.set_label(\"Link stiffness (Nm/rad)\")\n",
    "plt.gcf().savefig(\"k_J_plot.pgf\", backend=\"pgf\")\n",
    "plt.show()"
   ]
  },
  {
   "cell_type": "markdown",
   "id": "f435df7b",
   "metadata": {},
   "source": [
    "Add a dashed line"
   ]
  },
  {
   "cell_type": "code",
   "execution_count": null,
   "id": "db2bffe0",
   "metadata": {},
   "outputs": [],
   "source": [
    "data = np.load(base_path + \"measured_Fn__m_L.npz\", allow_pickle=True)\n",
    "\n",
    "idxs = [1,-4,-1]\n",
    "end_times = [None,3.5,None]\n",
    "fig, axs = plt.subplots(1, len(idxs), figsize=(6,2), constrained_layout=True,sharex=True,sharey=True)\n",
    "ax.set_ylabel(\"$z$ position\")\n",
    "color_map = cm.ScalarMappable(cmap=\"viridis_r\", norm=plt.Normalize(0,np.max(data['sweep_vars'])))\n",
    "for i, (data_, k_J, ax,end_time) in enumerate(zip(data['out_data'][idxs], data['sweep_vars'][idxs], axs, end_times)):\n",
    "    c = color_map.to_rgba(k_J)\n",
    "    start_idx = data_[\"any_links_in_contact_idx\"]\n",
    "    if end_time is None:\n",
    "        end_time = -1\n",
    "    else:\n",
    "        end_idx = np.argmax(data_[\"times\"] > end_time)\n",
    "    ax.scatter(data_[\"horizontal_paper_traces\"][-1,start_idx:end_idx:100],\n",
    "                data_[\"vertical_paper_traces\"][-1,start_idx:end_idx:100],\n",
    "                c=data_[\"times\"][start_idx:end_idx:100],s=2)\n",
    "    ax.set_aspect(\"equal\")\n",
    "    ax.set_xlabel(\"$y$ position\")\n",
    "\n",
    "# cb = fig.colorbar(color_map)\n",
    "# cb.set_label(\"Link stiffness (Nm/rad)\")\n",
    "# plt.gcf().savefig(\"k_J_plot.pgf\", backend=\"pgf\")\n",
    "plt.show()"
   ]
  },
  {
   "cell_type": "code",
   "execution_count": null,
   "id": "b0abd22e",
   "metadata": {},
   "outputs": [],
   "source": [
    "data = np.load(base_path + \"measured_Fn__m_L.npz\", allow_pickle=True)\n",
    "draw_trajs(data, [2, -4,-1], plot_manipulator=False, progs=[\n",
    "    [0,0.2,0.4,0.6,0.8,1],\n",
    "    [0,0.12,0.17,0.2,0.25,0.27,0.3],\n",
    "    [0.  , 0.1 , 0.5, 0.7, 0.8, 0.9],\n",
    "], max_times=[1,0.3,1,1], fig_height=3)\n",
    "plt.show()"
   ]
  },
  {
   "cell_type": "markdown",
   "id": "34adbc48",
   "metadata": {},
   "source": [
    "### Trajectories with constant $F_N$"
   ]
  },
  {
   "cell_type": "code",
   "execution_count": null,
   "id": "717d22a8",
   "metadata": {
    "scrolled": true
   },
   "outputs": [],
   "source": [
    "data = np.load(base_path + \"constant_Fn__m_L.npz\", allow_pickle=True)\n",
    "draw_trajs(data, [5, 6], plot_manipulator=False, progs=[0, 0.2,0.7,0.85,0.9,0.95],fig_height=2.5)\n",
    "plt.show()"
   ]
  },
  {
   "cell_type": "markdown",
   "id": "ec2678c1",
   "metadata": {},
   "source": [
    "### Trajectories with offline trajectory"
   ]
  },
  {
   "cell_type": "code",
   "execution_count": null,
   "id": "dedcb8bb",
   "metadata": {},
   "outputs": [],
   "source": [
    "data = np.load(base_path + \"offline__m_L.npz\", allow_pickle=True)\n",
    "draw_trajs(data, [6, 7], plot_manipulator=True, progs=[\n",
    "    list(np.linspace(0,1,5)),\n",
    "    list(np.linspace(0,0.4,5)),\n",
    "],fig_height=2.5, max_times=[1,0.4])\n",
    "plt.show()"
   ]
  },
  {
   "cell_type": "markdown",
   "id": "51806cda-7075-4388-ba0c-a2d1b08a5ae6",
   "metadata": {},
   "source": [
    "## Coefficient of friction"
   ]
  },
  {
   "cell_type": "code",
   "execution_count": null,
   "id": "5050798c-e82c-42da-bf65-4f673f1bf28e",
   "metadata": {},
   "outputs": [],
   "source": [
    "datas = [\n",
    "    np.load(base_path + \"measured_Fn__mu.npz\", allow_pickle=True),\n",
    "    np.load(base_path + \"constant_Fn__mu.npz\", allow_pickle=True),\n",
    "    np.load(base_path + \"offline__mu.npz\", allow_pickle=True),\n",
    "]\n",
    "labels = [\"Measured $F_n$\", \"Constant\", \"Offline trajectory\"]\n",
    "colors = [measured_color, constant_color, offline_color]\n",
    "\n",
    "for i, (data, label, color) in enumerate(zip(datas, labels, colors)):\n",
    "    x_axis = data[\"sweep_vars\"]\n",
    "    y_axis = np.array([val[\"max_overall_theta\"] for val in data[\"out_data\"]])\n",
    "    succ_idxs = data[\"successes\"].flatten()\n",
    "    fail_idxs = np.logical_not(succ_idxs)\n",
    "    p = plt.plot(x_axis, y_axis, '--', label=label, zorder=i, color=color)\n",
    "    plt.scatter(x_axis[succ_idxs], y_axis[succ_idxs], color=p[0].get_color(), zorder=i)\n",
    "    plt.scatter(x_axis[fail_idxs], y_axis[fail_idxs], facecolors='none', color=p[0].get_color(), zorder=i)\n",
    "plt.legend(frameon=False)\n",
    "plt.xlabel(\"Coefficient of friction\")\n",
    "plt.ylabel(\"Angle about joint (radians)\")\n",
    "plt.gcf().savefig(\"mu_sweep.pgf\", backend=\"pgf\")\n",
    "plt.show()"
   ]
  },
  {
   "cell_type": "code",
   "execution_count": null,
   "id": "7a66aa2d",
   "metadata": {},
   "outputs": [],
   "source": [
    "data = np.load(base_path + \"constant_Fn__mu.npz\", allow_pickle=True)\n",
    "draw_trajs(data, [3,4], plot_manipulator=True, fig_height=2.5,plot_pedestal=False)\n",
    "plt.show()"
   ]
  },
  {
   "cell_type": "code",
   "execution_count": null,
   "id": "91acd28f",
   "metadata": {},
   "outputs": [],
   "source": [
    "data = np.load(base_path + \"offline__mu.npz\", allow_pickle=True)\n",
    "draw_trajs(data, [8, 9], plot_manipulator=True, fig_height=2.5)\n",
    "plt.show()"
   ]
  },
  {
   "cell_type": "markdown",
   "id": "574ef045-7cdc-4b05-bcaf-0fe761dcc1c5",
   "metadata": {
    "tags": []
   },
   "source": [
    "# Control parameters"
   ]
  },
  {
   "cell_type": "markdown",
   "id": "978aeb0f-5066-44f1-96ca-97cd9509d662",
   "metadata": {
    "tags": []
   },
   "source": [
    "## Feedforward $F_N$"
   ]
  },
  {
   "cell_type": "code",
   "execution_count": null,
   "id": "e51bfedf-a84e-4e7e-8ca6-c7037f92939e",
   "metadata": {},
   "outputs": [],
   "source": [
    "datas = [\n",
    "    np.load(base_path + \"measured_Fn__ff_FN.npz\", allow_pickle=True),\n",
    "    np.load(base_path + \"constant_Fn__ff_FN.npz\", allow_pickle=True),\n",
    "]\n",
    "labels = [\"Measured $F_n$\", \"Constant\"]\n",
    "colors = [measured_color, constant_color]\n",
    "\n",
    "for i, (data, label, color) in enumerate(zip(datas, labels, colors)):\n",
    "    x_axis = data[\"sweep_vars\"]\n",
    "    y_axis = np.array([val[\"max_overall_theta\"] for val in data[\"out_data\"]])\n",
    "    succ_idxs = data[\"successes\"].flatten()\n",
    "    fail_idxs = np.logical_not(succ_idxs)\n",
    "    plt.plot(x_axis, y_axis, '-', label=label, zorder=i, color=color)\n",
    "#     plt.scatter(x_axis[succ_idxs], y_axis[succ_idxs], color=p[0].get_color(), zorder=i)\n",
    "#     plt.scatter(x_axis[fail_idxs], y_axis[fail_idxs], facecolors='none', color=p[0].get_color(), zorder=i)\n",
    "plt.legend(frameon=False)\n",
    "plt.xlabel(\"Additional $F_n$ (N)\")\n",
    "plt.ylabel(\"Angle about joint (radians)\")\n",
    "plt.autoscale(enable=True, axis='x', tight=True)\n",
    "plt.show()"
   ]
  },
  {
   "cell_type": "code",
   "execution_count": null,
   "id": "dccb70b3-c362-42ca-b485-4214c7b90a38",
   "metadata": {},
   "outputs": [],
   "source": [
    "data = np.load(base_path + \"constant_Fn__ff_FN.npz\", allow_pickle=True)\n",
    "fig, axs = plt.subplots(1, 1, figsize=(6,4), constrained_layout=True)\n",
    "\n",
    "color_map = cm.ScalarMappable(cmap=\"viridis_r\", norm=plt.Normalize(0,np.max(data['sweep_vars'])))\n",
    "for i, (data_, Fn_noise) in enumerate(zip(data['out_data'], data['sweep_vars'].flatten())):\n",
    "    c = color_map.to_rgba(Fn_noise)\n",
    "    start_idx = data_[\"any_links_in_contact_idx\"]\n",
    "    p = plt.plot(data_[\"horizontal_paper_traces\"][-1,start_idx:],\n",
    "             data_[\"vertical_paper_traces\"][-1,start_idx:], color=c)\n",
    "    plt.plot(data_[\"horizontal_paper_traces\"][-1,start_idx],\n",
    "             data_[\"vertical_paper_traces\"][-1,start_idx],\n",
    "             marker='o', color=c)\n",
    "    plt.plot(data_[\"horizontal_paper_traces\"][-1,-1],\n",
    "             data_[\"vertical_paper_traces\"][-1,-1], marker='X', color=c)\n",
    "plt.xlabel(\"$y$ position\")\n",
    "plt.ylabel(\"$z$ position\")\n",
    "\n",
    "cb = fig.colorbar(color_map)\n",
    "plt.gca().set_aspect(\"equal\")\n",
    "cb.set_label(\"Additional $F_n$ (N)\")\n",
    "plt.show()"
   ]
  },
  {
   "cell_type": "code",
   "execution_count": null,
   "id": "1320d45d-aa80-4299-a022-bf843f058c66",
   "metadata": {},
   "outputs": [],
   "source": [
    "data = np.load(base_path + \"constant_Fn__ff_FN.npz\", allow_pickle=True)\n",
    "idxs = [2, -6, -1]\n",
    "Fns = data[\"sweep_vars\"][idxs]\n",
    "datas = data[\"out_data\"][idxs]\n",
    "sim_args = data[\"sim_args\"][0]\n",
    "\n",
    "\n",
    "fig, axs, cb = draw_trajs(data, idxs=idxs, progs=[\n",
    "    [0, 0.2, 1],\n",
    "    [0,0.04, 0.4,1],\n",
    "    [0, 0.2, 0.4, 1]\n",
    "])\n",
    "\n",
    "for Fn, ax in zip(Fns, axs):\n",
    "    ax.set_title(\"$F_N$ = \" + str(Fn[0]))\n",
    "plt.suptitle(\"System behavior with constant feedforward $F_N$\")\n",
    "plt.show()"
   ]
  },
  {
   "cell_type": "markdown",
   "id": "9250139f-3c11-4c7e-9fb7-51c0c3b60d1c",
   "metadata": {},
   "source": [
    "## Impedance"
   ]
  },
  {
   "cell_type": "code",
   "execution_count": null,
   "id": "3378f87e-fd6a-46bb-b102-488290a2b78e",
   "metadata": {},
   "outputs": [],
   "source": [
    "datas = [\n",
    "    np.load(base_path + \"offline__impedance.npz\", allow_pickle=True),\n",
    "    np.load(base_path + \"measured_Fn__impedance.npz\", allow_pickle=True),\n",
    "]\n",
    "labels = [\"Offline\", \"Measured\"]\n",
    "colors = [offline_color, measured_color]\n",
    "\n",
    "for i, (data, label, color) in enumerate(zip(datas, labels, colors)):\n",
    "    x_axis = data[\"sweep_vars\"]\n",
    "    y_axis = np.array([val[\"max_overall_theta\"] for val in data[\"out_data\"]])\n",
    "    succ_idxs = data[\"successes\"].flatten()\n",
    "    fail_idxs = np.logical_not(succ_idxs)\n",
    "    p = plt.semilogx(x_axis, y_axis, '--', label=label, zorder=i, color=color)\n",
    "    plt.scatter(x_axis[succ_idxs], y_axis[succ_idxs], color=p[0].get_color(), zorder=i)\n",
    "    plt.scatter(x_axis[fail_idxs], y_axis[fail_idxs], facecolors='none', color=p[0].get_color(), zorder=i)\n",
    "plt.legend(frameon=False)\n",
    "plt.xlabel(\"Additional $F_n$ (N)\")\n",
    "plt.ylabel(\"Angle about joint (radians)\")\n",
    "plt.show()"
   ]
  },
  {
   "cell_type": "code",
   "execution_count": null,
   "id": "a3008658-96ae-42a5-99f0-377e0625488a",
   "metadata": {},
   "outputs": [],
   "source": [
    "data[\"exit_messages\"]"
   ]
  },
  {
   "cell_type": "code",
   "execution_count": null,
   "id": "f79e6d29-d6ba-4735-b385-6521e55c694b",
   "metadata": {},
   "outputs": [],
   "source": [
    "data[\"sweep_vars\"]"
   ]
  },
  {
   "cell_type": "markdown",
   "id": "1ff775d1-806d-4f9b-a819-7570861db8ad",
   "metadata": {},
   "source": [
    "# Noise\n",
    "## $F_n$"
   ]
  },
  {
   "cell_type": "code",
   "execution_count": null,
   "id": "df7ac32d-9b7f-448e-aff6-193d2646fc2a",
   "metadata": {},
   "outputs": [],
   "source": [
    "data = np.load(base_path + \"measured_Fn__Fn_noise.npz\", allow_pickle=True)"
   ]
  },
  {
   "cell_type": "code",
   "execution_count": null,
   "id": "5053d60d-9ca2-46c9-a0de-ad858234a1b2",
   "metadata": {},
   "outputs": [],
   "source": [
    "num_samples = data[\"num_samples\"]\n",
    "num_noises = int(data[\"sweep_vars\"].shape[0]/num_samples)\n",
    "noises = data[\"sweep_vars\"][::num_samples,0]\n",
    "raw_y_axis = np.array([val[\"max_overall_theta\"] for val in data[\"out_data\"]])\n",
    "raw_succ_idxs = data[\"successes\"].flatten()\n",
    "raw_fail_idxs = np.logical_not(raw_succ_idxs)\n",
    "portion_success = []\n",
    "\n",
    "for i, noise in enumerate(noises):\n",
    "    data_for_noise = raw_y_axis[i*num_samples:(i+1)*num_samples]\n",
    "    mean = np.mean(data_for_noise)\n",
    "    stddev = np.std(data_for_noise, ddof=1)\n",
    "    plt.plot(np.ones(num_samples)*noise, data_for_noise, ' o', markersize=4, color=measured_color)\n",
    "    plt.plot(noise, mean, ' x', markersize=5, color=measured_color)\n",
    "    plt.plot([noise, noise], [mean-2*stddev,mean+2*stddev], '-', color=measured_color)\n",
    "    \n",
    "    succ_idxs = raw_succ_idxs[i*num_samples:(i+1)*num_samples]\n",
    "    fail_idxs = raw_fail_idxs[i*num_samples:(i+1)*num_samples]\n",
    "    portion_success.append(np.count_nonzero(succ_idxs)/num_samples)\n",
    "plt.xlabel(\"Noise\")\n",
    "plt.ylabel(\"Angle about joint (radians)\")\n",
    "plt.show()"
   ]
  },
  {
   "cell_type": "code",
   "execution_count": null,
   "id": "2f4f8a40-f5cd-4f77-af86-b6ec85056ef0",
   "metadata": {},
   "outputs": [],
   "source": [
    "portion_success       "
   ]
  },
  {
   "cell_type": "code",
   "execution_count": null,
   "id": "2ee9472e-ee00-4082-8309-d03a9ebadc36",
   "metadata": {},
   "outputs": [],
   "source": [
    "fig, axs = plt.subplots(1, 1, figsize=(6,4), constrained_layout=True)\n",
    "\n",
    "color_map = cm.ScalarMappable(cmap=\"viridis_r\", norm=plt.Normalize(0,np.max(data['sweep_vars'])))\n",
    "for i, (data_, Fn_noise) in enumerate(zip(\n",
    "    data['out_data'][::data[\"num_samples\"]], data['sweep_vars'].flatten()[::data[\"num_samples\"]])):\n",
    "    print(Fn_noise)\n",
    "    c = color_map.to_rgba(Fn_noise)\n",
    "    start_idx = data_[\"any_links_in_contact_idx\"]\n",
    "    p = plt.plot(data_[\"horizontal_paper_traces\"][-1,start_idx:],\n",
    "             data_[\"vertical_paper_traces\"][-1,start_idx:], color=c)\n",
    "    plt.plot(data_[\"horizontal_paper_traces\"][-1,start_idx],\n",
    "             data_[\"vertical_paper_traces\"][-1,start_idx],\n",
    "             marker='o', color=c)\n",
    "    plt.plot(data_[\"horizontal_paper_traces\"][-1,-1],\n",
    "             data_[\"vertical_paper_traces\"][-1,-1], marker='X', color=c)\n",
    "plt.xlabel(\"$y$ position\")\n",
    "plt.ylabel(\"$z$ position\")\n",
    "\n",
    "cb = fig.colorbar(color_map)\n",
    "plt.gca().set_aspect(\"equal\")\n",
    "cb.set_label(\"$F_N$ noise\")\n",
    "plt.gcf().savefig(\"Fn_noise_plot.pgf\", backend=\"pgf\")\n",
    "plt.show()"
   ]
  },
  {
   "cell_type": "code",
   "execution_count": null,
   "id": "34d0ee11-69f4-4e36-aab0-f20655f9f42f",
   "metadata": {},
   "outputs": [],
   "source": [
    "plt.figure()\n",
    "plt.plot(data[\"out_data\"][0][\"times\"], data[\"out_data\"][0][\"max_F_ONs\"])\n",
    "plt.show()"
   ]
  },
  {
   "cell_type": "markdown",
   "id": "cdcfd795-5c6e-4956-b9ca-f93ff61695db",
   "metadata": {},
   "source": [
    "## Link noise"
   ]
  },
  {
   "cell_type": "code",
   "execution_count": null,
   "id": "c87296f7-d8e1-47c8-b170-05c7812d6ae1",
   "metadata": {},
   "outputs": [],
   "source": [
    "datas = [\n",
    "    np.load(base_path + \"measured_Fn__link_noise.npz\", allow_pickle=True),\n",
    "    np.load(base_path + \"constant_Fn__link_noise.npz\", allow_pickle=True),\n",
    "]\n",
    "labels = [\"Measured $F_n$\", \"Constant\"]\n",
    "colors = [measured_color, constant_color]\n",
    "fig, axs = plt.subplots(len(datas), 1, figsize=(6,4), constrained_layout=True, sharex=True, sharey=True)\n",
    "if len(datas) == 1:\n",
    "    axs = [axs]\n",
    "portion_successes = []\n",
    "\n",
    "for data, label, color, ax in zip(datas, labels, colors, axs):\n",
    "    num_samples = data[\"num_samples\"]\n",
    "    num_noises = int(data[\"sweep_vars\"].shape[0]/num_samples)\n",
    "    noises = data[\"sweep_vars\"][::num_samples,0]\n",
    "    raw_y_axis = np.array([val[\"max_overall_theta\"] for val in data[\"out_data\"]])\n",
    "    raw_succ_idxs = data[\"successes\"].flatten()\n",
    "    raw_fail_idxs = np.logical_not(raw_succ_idxs)\n",
    "    means = []\n",
    "    portion_success = []\n",
    "    \n",
    "    for i, noise in enumerate(noises):\n",
    "        # print(noise)\n",
    "        data_for_noise = raw_y_axis[i*num_samples:(i+1)*num_samples]\n",
    "        mean = np.mean(data_for_noise)\n",
    "        means.append(mean)\n",
    "        stddev = np.std(data_for_noise, ddof=1)\n",
    "        ax.semilogx(\n",
    "            [noise, noise], np.array([mean-2*stddev,mean+2*stddev])/success_angle, '-', color=color)\n",
    "        \n",
    "        x_axis = np.ones(num_samples)*noise\n",
    "        y_axis = data_for_noise\n",
    "        succ_idxs = raw_succ_idxs[i*num_samples:(i+1)*num_samples]\n",
    "        fail_idxs = raw_fail_idxs[i*num_samples:(i+1)*num_samples]\n",
    "        # print(succ_idxs)\n",
    "        # print(np.count_nonzero(succ_idxs))\n",
    "        \n",
    "        portion_success.append(np.count_nonzero(succ_idxs)/num_samples)\n",
    "        \n",
    "        ax.scatter(x_axis[succ_idxs], y_axis[succ_idxs]/success_angle, color=color, zorder=i, alpha=0.1)\n",
    "        ax.scatter(x_axis[fail_idxs], y_axis[fail_idxs]/success_angle, facecolors='none',\n",
    "                   color=color, zorder=i, alpha=0.5)\n",
    "    portion_successes.append(portion_success)\n",
    "        \n",
    "    ax.set_title(label)\n",
    "    ax.semilogx(noises, np.array(means)/success_angle, '--x', markersize=10, color=color)\n",
    "ax.set_xlabel(\"Link noise standard deviation\")\n",
    "ax.set_ylabel(\"Angle about joint (radians)\")\n",
    "plt.ylim(0,1.2)\n",
    "plt.show()"
   ]
  },
  {
   "cell_type": "code",
   "execution_count": null,
   "id": "ddb61409-5990-4621-9246-f15c05d2a06e",
   "metadata": {},
   "outputs": [],
   "source": [
    "portion_successes"
   ]
  },
  {
   "cell_type": "code",
   "execution_count": null,
   "id": "01c3b251-8e89-4b63-9975-ed61b5ba438a",
   "metadata": {},
   "outputs": [],
   "source": [
    "datas = [\n",
    "    np.load(base_path + \"measured_Fn__link_noise.npz\", allow_pickle=True),\n",
    "    np.load(base_path + \"constant_Fn__link_noise.npz\", allow_pickle=True),\n",
    "]\n",
    "labels = [\"Measured $F_n$\", \"Constant\"]\n",
    "colors = [measured_color, constant_color]\n",
    "fig, ax = plt.subplots(1, 1, figsize=(6,4), constrained_layout=True, sharex=True, sharey=True)\n",
    "portion_successes = []\n",
    "\n",
    "for data, label, color in zip(datas, labels, colors):\n",
    "    num_samples = data[\"num_samples\"]\n",
    "    num_noises = int(data[\"sweep_vars\"].shape[0]/num_samples)\n",
    "    noises = data[\"sweep_vars\"][::num_samples,0]\n",
    "    # raw_y_axis = np.array([val[\"max_overall_theta\"] for val in data[\"out_data\"]])\n",
    "    raw_succ_idxs = data[\"successes\"].flatten()\n",
    "    raw_fail_idxs = np.logical_not(raw_succ_idxs)\n",
    "    means = []\n",
    "    portion_success = []\n",
    "    \n",
    "    for i in range(len(noises)):\n",
    "        succ_idxs = raw_succ_idxs[i*num_samples:(i+1)*num_samples]\n",
    "        fail_idxs = raw_fail_idxs[i*num_samples:(i+1)*num_samples]\n",
    "        \n",
    "        portion_success.append(np.count_nonzero(succ_idxs)/num_samples)\n",
    "    portion_successes.append(portion_success)\n",
    "    ax.semilogx(noises, portion_success, color=color, zorder=i)\n",
    "        \n",
    "    ax.set_title(label)\n",
    "ax.set_xlabel(\"Link noise standard deviation\")\n",
    "ax.set_ylabel(\"Angle about joint (radians)\")\n",
    "plt.ylim(0,1.2)\n",
    "plt.show()"
   ]
  },
  {
   "cell_type": "code",
   "execution_count": null,
   "id": "b1b82b61-b63e-428e-a170-d25d2049f90f",
   "metadata": {},
   "outputs": [],
   "source": []
  }
 ],
 "metadata": {
  "kernelspec": {
   "display_name": "Python 3",
   "language": "python",
   "name": "python3"
  },
  "language_info": {
   "codemirror_mode": {
    "name": "ipython",
    "version": 3
   },
   "file_extension": ".py",
   "mimetype": "text/x-python",
   "name": "python",
   "nbconvert_exporter": "python",
   "pygments_lexer": "ipython3",
   "version": "3.9.9"
  }
 },
 "nbformat": 4,
 "nbformat_minor": 5
}
