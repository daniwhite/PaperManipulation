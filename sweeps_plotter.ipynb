{
 "cells": [
  {
   "cell_type": "code",
   "execution_count": null,
   "id": "7a45c4e7-c0d7-4b05-a250-ebf23a976382",
   "metadata": {},
   "outputs": [],
   "source": [
    "import matplotlib.pyplot as plt\n",
    "import numpy as np"
   ]
  },
  {
   "cell_type": "code",
   "execution_count": null,
   "id": "bef810ea-555b-47e2-80b7-6be8b7187e58",
   "metadata": {},
   "outputs": [],
   "source": [
    "base_path = \"sweep_scripts/\""
   ]
  },
  {
   "cell_type": "markdown",
   "id": "14cf3359-6ebb-4b79-a596-2bf62d92369c",
   "metadata": {},
   "source": [
    "# ff_FN"
   ]
  },
  {
   "cell_type": "code",
   "execution_count": null,
   "id": "e51bfedf-a84e-4e7e-8ca6-c7037f92939e",
   "metadata": {},
   "outputs": [],
   "source": [
    "data = np.load(base_path + \"ff_FN.npz\")\n",
    "plt.plot(data[\"x_axis\"], data[\"y_axis\"], '--o')\n",
    "plt.show()"
   ]
  }
 ],
 "metadata": {
  "kernelspec": {
   "display_name": "Python 3",
   "language": "python",
   "name": "python3"
  },
  "language_info": {
   "codemirror_mode": {
    "name": "ipython",
    "version": 3
   },
   "file_extension": ".py",
   "mimetype": "text/x-python",
   "name": "python",
   "nbconvert_exporter": "python",
   "pygments_lexer": "ipython3",
   "version": "3.9.9"
  }
 },
 "nbformat": 4,
 "nbformat_minor": 5
}
