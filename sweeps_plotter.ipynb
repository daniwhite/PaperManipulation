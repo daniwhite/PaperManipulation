{
 "cells": [
  {
   "cell_type": "code",
   "execution_count": null,
   "id": "7a45c4e7-c0d7-4b05-a250-ebf23a976382",
   "metadata": {},
   "outputs": [],
   "source": [
    "import matplotlib\n",
    "import matplotlib.pyplot as plt\n",
    "import matplotlib.cm as cm\n",
    "import numpy as np"
   ]
  },
  {
   "cell_type": "code",
   "execution_count": null,
   "id": "28f36657-7684-4287-a515-f122b75fcd04",
   "metadata": {},
   "outputs": [],
   "source": [
    "import constants\n",
    "import config"
   ]
  },
  {
   "cell_type": "code",
   "execution_count": null,
   "id": "bef810ea-555b-47e2-80b7-6be8b7187e58",
   "metadata": {},
   "outputs": [],
   "source": [
    "base_path = \"sweeps/\""
   ]
  },
  {
   "cell_type": "code",
   "execution_count": null,
   "id": "7b7d25be-ce4e-4c41-b2d9-c11f106f0cee",
   "metadata": {},
   "outputs": [],
   "source": [
    "# matplotlib.rcParams['figure.figsize'] = (16,8)\n",
    "# matplotlib.rcParams[\"axes.xmargin\"] = 0"
   ]
  },
  {
   "cell_type": "code",
   "execution_count": null,
   "id": "f4fe7de4-b8f7-4532-815e-19a39bf6570f",
   "metadata": {},
   "outputs": [],
   "source": [
    "# matplotlib.use(\"pgf\")\n",
    "matplotlib.rcParams.update({\n",
    "    \"pgf.texsystem\": \"pdflatex\",\n",
    "    'font.family': 'serif',\n",
    "    'text.usetex': True,\n",
    "    'pgf.rcfonts': False,\n",
    "})"
   ]
  },
  {
   "cell_type": "code",
   "execution_count": null,
   "id": "5dab5acc-5468-458e-aaf8-30b1e9db092b",
   "metadata": {},
   "outputs": [],
   "source": [
    "def plot_bool_in_bg(x_axis, y_axis):\n",
    "    ylims = plt.ylim()\n",
    "    ylim_range = ylims[1] - ylims[0]\n",
    "    no_val = ylims[0]+ylim_range*0.2\n",
    "    yes_val = ylims[0]+ylim_range*0.8\n",
    "    contacts_to_plot = np.ones_like(x_axis)*no_val\n",
    "    contacts_to_plot[y_axis == 1] = yes_val\n",
    "    plt.plot(x_axis, contacts_to_plot, linestyle=':', zorder=0)"
   ]
  },
  {
   "cell_type": "markdown",
   "id": "58c27202-c9f6-4146-a4e9-bfd9faadde1c",
   "metadata": {},
   "source": [
    "# Single run sweeps"
   ]
  },
  {
   "cell_type": "code",
   "execution_count": null,
   "id": "35b47e56-6191-4629-9e9d-00baaf36d5bc",
   "metadata": {},
   "outputs": [],
   "source": [
    "data = np.load(base_path + \"traces.npz\", allow_pickle=True)"
   ]
  },
  {
   "cell_type": "code",
   "execution_count": null,
   "id": "40cbcc25-b459-47b4-9cdd-e086445e365d",
   "metadata": {},
   "outputs": [],
   "source": [
    "plot_manipulator = True\n",
    "\n",
    "w_L = constants.nominal_sys_consts(config.NumLinks(4)).w_L\n",
    "h_L = constants.nominal_sys_consts(config.NumLinks(4)).h_L\n",
    "r = constants.nominal_sys_consts(config.NumLinks(4)).r\n",
    "\n",
    "# Set to be arbitrary large/small numbers\n",
    "# IMPORTANT: x and y here refer to PLOT x and ys, not sim\n",
    "min_x = 10**9\n",
    "min_y = 10**9\n",
    "max_x = -10**9\n",
    "max_y = -10**9\n",
    "\n",
    "# Initialize plotting vars\n",
    "fig, axs = plt.subplots(1, 3, figsize=(6,3), constrained_layout=True, sharex=True, sharey=True)\n",
    "axs[0].set_ylabel(\"$z$ position\")\n",
    "\n",
    "# Iterate over data\n",
    "titles = [\"Offline setpoint\\ntrajectory\",\n",
    "          r\"Link feedback with\" + \"\\n\" +\n",
    "          \"constant $F_{Nff}$\",\n",
    "          \"Link feedback with\" + \"\\n\" +\n",
    "          \"$F_{Nff}$ based on\" + \"\\n\" +\n",
    "          \"force measurements\"]\n",
    "cmap = plt.get_cmap(\"viridis_r\")\n",
    "for i, (data_, title) in enumerate(zip(data['y_axis'], titles)):\n",
    "    start_idx = data_[\"any_links_in_contact_idx\"]\n",
    "    start_time = data_[\"times\"][start_idx]\n",
    "    end_time = data_[\"times\"][-1]\n",
    "    time_range = end_time - start_time\n",
    "    times_ = np.linspace(start_time, end_time, 5)\n",
    "    ax = axs[i]\n",
    "\n",
    "    # Draw rectangles over links\n",
    "    for t in times_:\n",
    "        c = cmap((t-start_time)/time_range)\n",
    "        idx = np.argmax(data_[\"times\"] >= t)\n",
    "\n",
    "        for x, y, ang in zip(\n",
    "                data_[\"horizontal_paper_traces\"][:,idx],\n",
    "                data_[\"vertical_paper_traces\"][:,idx],\n",
    "                data_[\"angle_paper_traces\"][:,idx]):\n",
    "\n",
    "            x0 = x - np.cos(ang)*w_L/2\n",
    "            y0 = y - np.sin(ang)*w_L/2\n",
    "\n",
    "            rect = plt. Rectangle((x0, y0), w_L, h_L,\n",
    "                angle=ang*180/np.pi, color=c,)\n",
    "            ax.add_patch(rect)\n",
    "\n",
    "            # Compute bounds to be used\n",
    "            min_x = min(x - w_L*1.1*0.5, min_x)\n",
    "            min_y = min(y - w_L*1.1*0.5, min_y)\n",
    "            max_x = max(x + w_L*1.1*0.5, max_x)\n",
    "            max_y = max(y + w_L*1.1*0.5, max_y)\n",
    "\n",
    "    # Add pedestal\n",
    "    ## Get first pedestal location\n",
    "    rect = plt.Rectangle(\n",
    "        (data_[\"horizontal_paper_traces\"][0,0]+w_L/2,\n",
    "         data_[\"vertical_paper_traces\"][0,0]),\n",
    "        w_L,\n",
    "        10,\n",
    "        angle=180,\n",
    "        color=(0.2, 0.2, 0.2, 1.0)\n",
    "    )\n",
    "    ax.add_patch(rect)\n",
    "\n",
    "    # Add manipulator\n",
    "    if plot_manipulator:\n",
    "        for t in times_:\n",
    "            c = cmap((t-start_time)/time_range)\n",
    "            idx = np.argmax(data_[\"times\"] >= t)\n",
    "\n",
    "            x = data_[\"horizontal_manipulator_trace\"][idx]\n",
    "            y = data_[\"vertical_manipulator_trace\"][idx]\n",
    "\n",
    "            min_x = min(x - r*1.1, min_x)\n",
    "            min_y = min(y - r*1.1, min_y)\n",
    "            max_x = max(x + r*1.1, max_x)\n",
    "            max_y = max(y + r*1.1, max_y)\n",
    "\n",
    "            circ = plt.Circle((x, y), r*1.1, color=c, alpha=0.3, snap=False)\n",
    "            ax.add_patch(circ)\n",
    "\n",
    "    ax.set_xlabel(\"$y$ position\")\n",
    "    ax.set_aspect(\"equal\")\n",
    "    ax.title.set_text(title)\n",
    "    \n",
    "# Set lims (can do at the end because sharex and sharey are true)\n",
    "min_plot_x = min_x - (max_x-min_x)*0.1\n",
    "max_plot_x = max_x + (max_x-min_x)*0.1\n",
    "min_x_tick = np.floor(min_plot_x*10)/10\n",
    "max_x_tick = np.ceil(max_plot_x*10)/10\n",
    "xticks = np.arange(min_x_tick, max_x_tick+1e-5, 0.1)\n",
    "ax.set_xticks(xticks)\n",
    "\n",
    "min_plot_y = min_y - (max_y-min_y)*0.1\n",
    "max_plot_y = max_y + (max_y-min_y)*0.1\n",
    "min_y_tick = np.floor(min_plot_y*10)/10\n",
    "max_y_tick = np.ceil(max_plot_y*10)/10\n",
    "yticks = np.arange(min_y_tick, max_y_tick+1e-5, 0.1)\n",
    "ax.set_yticks(yticks)\n",
    "ax.set_ylim(min_plot_y, max_plot_y)\n",
    "plt.xlim(min_plot_x, max_plot_x)\n",
    "cb = fig.colorbar(cm.ScalarMappable(cmap=\"viridis_r\"), shrink=(0.5 if plot_manipulator else 0.6))\n",
    "cb.set_label(\"Progress\")\n",
    "ticks = np.linspace(0, 100, 6)\n",
    "cb.set_ticks(ticks/100)\n",
    "cb.set_ticklabels([str(int(tick)) + \"\\%\" for tick in ticks])\n",
    "\n",
    "fig.savefig(\"traj_drawings.pgf\", backend=\"pgf\")\n",
    "plt.show()"
   ]
  },
  {
   "cell_type": "code",
   "execution_count": null,
   "id": "27448a3b-988f-4c57-bf6d-b0066e3f1fdf",
   "metadata": {},
   "outputs": [],
   "source": [
    "w_L = constants.nominal_sys_consts(config.NumLinks(4)).w_L\n",
    "h_L = constants.nominal_sys_consts(config.NumLinks(4)).h_L\n",
    "r = constants.nominal_sys_consts(config.NumLinks(4)).r\n",
    "\n",
    "fig, axs = plt.subplots(1, 1, figsize=(6,4), constrained_layout=True)\n",
    "colors = [\"darkorchid\", \"forestgreen\", \"dodgerblue\"]\n",
    "titles = [\"Offline setpoint trajectory\",\n",
    "          r\"Link feedback with constant $F_{Nff}$\",\n",
    "          \"Link feedback with $F_{Nff}$ based on force measurements\"]\n",
    "for i, (data_, color, title) in enumerate(zip(data['y_axis'], colors, titles)):\n",
    "    start_idx = data_[\"any_links_in_contact_idx\"]\n",
    "    plt.plot(data_[\"horizontal_paper_traces\"][-1,start_idx:],\n",
    "             data_[\"vertical_paper_traces\"][-1,start_idx:], color=color, label=title)\n",
    "    plt.plot(data_[\"horizontal_paper_traces\"][-1,start_idx],\n",
    "             data_[\"vertical_paper_traces\"][-1,start_idx],\n",
    "             marker='o', color=color)\n",
    "    plt.plot(data_[\"horizontal_paper_traces\"][-1,-1],\n",
    "             data_[\"vertical_paper_traces\"][-1,-1], marker='X', color=color)\n",
    "plt.legend()\n",
    "plt.xlabel(\"$y$ position\")\n",
    "plt.ylabel(\"$z$ position\")\n",
    "plt.gca().set_aspect(\"equal\")\n",
    "\n",
    "\n",
    "fig.savefig(\"traj_plots.pgf\", backend=\"pgf\")\n",
    "plt.show()"
   ]
  },
  {
   "cell_type": "markdown",
   "id": "7a7d738d-6a11-47e9-b73d-2d3c05174c67",
   "metadata": {},
   "source": [
    "# Sweeps"
   ]
  },
  {
   "cell_type": "markdown",
   "id": "14cf3359-6ebb-4b79-a596-2bf62d92369c",
   "metadata": {},
   "source": [
    "## ff_FN"
   ]
  },
  {
   "cell_type": "code",
   "execution_count": null,
   "id": "e51bfedf-a84e-4e7e-8ca6-c7037f92939e",
   "metadata": {},
   "outputs": [],
   "source": [
    "data1 = np.load(base_path + \"constant__ff_FN.npz\")\n",
    "data2 = np.load(base_path + \"link_fb__ff_FN.npz\")\n",
    "\n",
    "plt.plot(data1[\"x_axis\"], data1[\"y_axis\"], '--o')\n",
    "plot_bool_in_bg(data1[\"x_axis\"], data1[\"successes\"])\n",
    "\n",
    "plt.plot(data2[\"x_axis\"], data2[\"y_axis\"], '--o')\n",
    "plot_bool_in_bg(data2[\"x_axis\"], data2[\"successes\"])\n",
    "# plt.show()"
   ]
  },
  {
   "cell_type": "markdown",
   "id": "73ac7782-7a12-4402-b44b-b54371693942",
   "metadata": {
    "tags": []
   },
   "source": [
    "## Link mass"
   ]
  },
  {
   "cell_type": "code",
   "execution_count": null,
   "id": "508b1074-764d-4563-991b-7758a2a9b7a5",
   "metadata": {},
   "outputs": [],
   "source": [
    "data = np.load(base_path + \"m_L.npz\")\n",
    "plt.plot(data[\"x_axis\"], data[\"y_axis\"], '--o')\n",
    "plot_bool_in_bg(data[\"x_axis\"], data[\"successes\"])\n",
    "plt.show()"
   ]
  },
  {
   "cell_type": "markdown",
   "id": "44664ee3-beaa-410c-9513-55bfcac1d7af",
   "metadata": {},
   "source": [
    "## Stiffness"
   ]
  },
  {
   "cell_type": "code",
   "execution_count": null,
   "id": "0b276485-8e9a-4e16-944b-3a3efde0c709",
   "metadata": {},
   "outputs": [],
   "source": [
    "data = np.load(base_path + \"k_J.npz\")\n",
    "plt.figure()\n",
    "plt.plot(data[\"x_axis\"][:,0], data[\"y_axis\"], '--o')\n",
    "plot_bool_in_bg(data[\"x_axis\"][:,0], data[\"successes\"])\n",
    "plt.show()"
   ]
  },
  {
   "cell_type": "markdown",
   "id": "51806cda-7075-4388-ba0c-a2d1b08a5ae6",
   "metadata": {},
   "source": [
    "# Coefficient of friction"
   ]
  },
  {
   "cell_type": "code",
   "execution_count": null,
   "id": "5050798c-e82c-42da-bf65-4f673f1bf28e",
   "metadata": {},
   "outputs": [],
   "source": [
    "data = np.load(base_path + \"mu.npz\", allow_pickle=True)\n",
    "plt.plot(data[\"x_axis\"], data[\"y_axis\"], '--o')\n",
    "ylims = plt.ylim()\n",
    "plt.ylim(0, ylims[1] + 0.1)\n",
    "plot_bool_in_bg(data[\"x_axis\"], data[\"successes\"])\n",
    "plt.show()"
   ]
  },
  {
   "cell_type": "markdown",
   "id": "6c2278f1-eb67-497a-87a0-c20da1ac6195",
   "metadata": {},
   "source": [
    "# Damping"
   ]
  },
  {
   "cell_type": "code",
   "execution_count": null,
   "id": "d7849d2c-5c5d-4fa6-8ce4-1eea451e6e00",
   "metadata": {},
   "outputs": [],
   "source": [
    "data = np.load(base_path + \"b_J.npz\")\n",
    "plt.plot(data[\"x_axis\"], data[\"y_axis\"], '--o')\n",
    "plot_bool_in_bg(data[\"x_axis\"], data[\"successes\"])\n",
    "plt.show()"
   ]
  }
 ],
 "metadata": {
  "kernelspec": {
   "display_name": "Python 3",
   "language": "python",
   "name": "python3"
  },
  "language_info": {
   "codemirror_mode": {
    "name": "ipython",
    "version": 3
   },
   "file_extension": ".py",
   "mimetype": "text/x-python",
   "name": "python",
   "nbconvert_exporter": "python",
   "pygments_lexer": "ipython3",
   "version": "3.9.9"
  }
 },
 "nbformat": 4,
 "nbformat_minor": 5
}
