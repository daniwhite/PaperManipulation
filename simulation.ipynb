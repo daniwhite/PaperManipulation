{
 "cells": [
  {
   "cell_type": "code",
   "execution_count": null,
   "metadata": {},
   "outputs": [],
   "source": [
    "# Suprress warnings\n",
    "import warnings\n",
    "with warnings.catch_warnings():\n",
    "    warnings.simplefilter(\"ignore\")\n",
    "\n",
    "    # Standard imports\n",
    "    import matplotlib.pyplot as plt\n",
    "    import numpy as np\n",
    "\n",
    "    # Drake imports\n",
    "    from meshcat.servers.zmqserver import start_zmq_server_as_subprocess\n",
    "    import pydrake.all\n",
    "    from pydrake.all import (\n",
    "        RigidTransform, RotationMatrix, RollPitchYaw, RevoluteSpring, LogOutput, SignalLogger, ForceElement, \n",
    "        DoorHinge, DoorHingeConfig, PidController, FixedInputPortValue\n",
    "    )\n",
    "from paper import Paper"
   ]
  },
  {
   "cell_type": "code",
   "execution_count": null,
   "metadata": {},
   "outputs": [],
   "source": [
    "# Meshcat init\n",
    "proc, zmq_url, web_url = start_zmq_server_as_subprocess()"
   ]
  },
  {
   "cell_type": "code",
   "execution_count": null,
   "metadata": {},
   "outputs": [],
   "source": [
    "# Constants\n",
    "PEDESTAL_WIDTH = 0.225\n",
    "PEDESTAL_HEIGHT = 0.1\n",
    "PEDESTAL_DEPTH = 0.3\n",
    "\n",
    "FINGER_RADIUS = 0.01"
   ]
  },
  {
   "cell_type": "code",
   "execution_count": null,
   "metadata": {},
   "outputs": [],
   "source": [
    "def AddPedestal(plant):\n",
    "    mu = 5.0\n",
    "    # Parse pedestal model\n",
    "    parser = pydrake.multibody.parsing.Parser(plant)\n",
    "    pedestal_instance = parser.AddModelFromFile(\"pedestal.sdf\")\n",
    "    pedestal_body = plant.GetBodyByName(\"pedestal_base\", pedestal_instance)\n",
    "\n",
    "    # Weld pedestal to world\n",
    "    plant.WeldFrames(\n",
    "        plant.world_frame(),\n",
    "        plant.GetFrameByName(\"pedestal_base\", pedestal_instance),\n",
    "        RigidTransform(RotationMatrix(), [0, 0, PEDESTAL_HEIGHT/2])\n",
    "    )\n",
    "    \n",
    "    return pedestal_instance"
   ]
  },
  {
   "cell_type": "code",
   "execution_count": null,
   "metadata": {},
   "outputs": [],
   "source": [
    "def AddPointFinger(plant, init_x=PEDESTAL_WIDTH*0.6, init_z=0):\n",
    "    mu = 1.0\n",
    "    radius = FINGER_RADIUS\n",
    "    finger = plant.AddModelInstance(\"finger\")\n",
    "\n",
    "    # Add false body at the origin that the finger \n",
    "    false_body = plant.AddRigidBody(\"false_body\", finger,\n",
    "        pydrake.multibody.tree.SpatialInertia(0, [0,0,0], pydrake.multibody.tree.UnitInertia(0,0,0)))\n",
    "\n",
    "    # Initialize finger body\n",
    "    finger_body = plant.AddRigidBody(\"body\", finger, \n",
    "        pydrake.multibody.tree.SpatialInertia(\n",
    "            mass=1.0,\n",
    "            p_PScm_E=np.array([0., 0., 0.]),\n",
    "            G_SP_E=pydrake.multibody.tree.UnitInertia(1.0, 1.0, 1.0)))\n",
    "\n",
    "    # Register geometry\n",
    "    shape = pydrake.geometry.Sphere(radius)\n",
    "    if plant.geometry_source_is_registered():\n",
    "        plant.RegisterCollisionGeometry(\n",
    "            finger_body, RigidTransform(), shape, \"body\", pydrake.multibody.plant.CoulombFriction(mu, mu))\n",
    "        plant.RegisterVisualGeometry(finger_body, RigidTransform(), shape, \"body\", [.9, .5, .5, 1.0])\n",
    "    \n",
    "    # Add control joins for x and z movement\n",
    "    finger_x = plant.AddJoint(pydrake.multibody.tree.PrismaticJoint(\n",
    "        \"finger_x\",\n",
    "        plant.world_frame(),\n",
    "        plant.GetFrameByName(\"false_body\"), [1, 0, 0], -1, 1))\n",
    "    plant.AddJointActuator(\"finger_x\", finger_x)\n",
    "    finger_x.set_default_translation(init_x)\n",
    "    finger_z = plant.AddJoint(pydrake.multibody.tree.PrismaticJoint(\n",
    "        \"finger_z\",\n",
    "        plant.GetFrameByName(\"false_body\"),\n",
    "        plant.GetFrameByName(\"body\"), [0, 0, 1], -1, 1))\n",
    "    finger_z.set_default_translation(init_z)\n",
    "    plant.AddJointActuator(\"finger_z\", finger_z)\n",
    "\n",
    "    return finger"
   ]
  },
  {
   "cell_type": "code",
   "execution_count": null,
   "metadata": {},
   "outputs": [],
   "source": [
    "class FingerControl(pydrake.systems.framework.LeafSystem):\n",
    "\n",
    "    def __init__(self, plant):\n",
    "        pydrake.systems.framework.LeafSystem.__init__(self)\n",
    "        self._plant = plant\n",
    "\n",
    "        self.DeclareVectorOutputPort(\n",
    "            \"finger_actuation\", pydrake.systems.framework.BasicVector(2), \n",
    "                                    self.CalcOutput)\n",
    "\n",
    "    def CalcOutput(self, context, output):\n",
    "        finger_mass = 1\n",
    "        g = self._plant.gravity_field().gravity_vector()[[0,2]]\n",
    "        output.SetFromVector(-finger_mass*g + [0, 0.05])"
   ]
  },
  {
   "cell_type": "code",
   "execution_count": null,
   "metadata": {},
   "outputs": [],
   "source": [
    "## Pre-finalize steps\n",
    "builder = pydrake.systems.framework.DiagramBuilder()\n",
    "\n",
    "# Add all elements\n",
    "plant, scene_graph = pydrake.multibody.plant.AddMultibodyPlantSceneGraph(builder, time_step=1e-4)\n",
    "pedestal_instance = AddPedestal(plant)\n",
    "# paper_instances = AddPaper(plant, num_links=10, default_joint_angle=-0.001)\n",
    "paper = Paper(plant, 10)\n",
    "paper.weld_paper_edge(PEDESTAL_WIDTH, PEDESTAL_HEIGHT)\n",
    "\n",
    "finger_instance = AddPointFinger(plant)\n",
    "finger_ctrlr = FingerControl(plant)"
   ]
  },
  {
   "cell_type": "code",
   "execution_count": null,
   "metadata": {},
   "outputs": [],
   "source": [
    "plant.Finalize()\n",
    "\n",
    "## Post finalize steps\n",
    "paper.init_ctrlrs(builder)\n",
    "\n",
    "# Conect finger controller\n",
    "builder.AddSystem(finger_ctrlr)\n",
    "builder.Connect(finger_ctrlr.get_output_port(), plant.get_actuation_input_port(finger_instance))\n",
    "\n",
    "# Visualization and logging\n",
    "poses_logger = LogOutput(plant.get_state_output_port(), builder)\n",
    "vis = pydrake.systems.meshcat_visualizer.ConnectMeshcatVisualizer(builder, scene_graph)\n",
    "\n",
    "# Build diagram and do actions requiring \n",
    "diagram = builder.Build()\n",
    "diagram_context = diagram.CreateDefaultContext()\n",
    "paper.connect_ctrlrs(diagram, diagram_context)"
   ]
  },
  {
   "cell_type": "code",
   "execution_count": null,
   "metadata": {},
   "outputs": [],
   "source": [
    "# Finalize simulation and visualization\n",
    "simulator = pydrake.systems.analysis.Simulator(diagram, diagram_context)\n",
    "simulator.Initialize()\n",
    "vis.start_recording()\n",
    "simulator.AdvanceTo(5)\n",
    "vis.stop_recording()\n",
    "vis.publish_recording()"
   ]
  },
  {
   "cell_type": "code",
   "execution_count": null,
   "metadata": {
    "scrolled": false
   },
   "outputs": [],
   "source": [
    "%matplotlib notebook\n",
    "\n",
    "plt.plot(poses_logger.sample_times(), poses_logger.data()[0,:], label=\"Position\")\n",
    "plt.plot(poses_logger.sample_times(), poses_logger.data()[1,:], label=\"Velocity\")\n",
    "plt.axhline(-np.pi/2, linestyle='--', color='k', label='Setpoint')\n",
    "plt.legend()\n",
    "plt.xlabel(\"Time (s)\")\n",
    "plt.show()"
   ]
  }
 ],
 "metadata": {
  "kernelspec": {
   "display_name": "Python 3",
   "language": "python",
   "name": "python3"
  },
  "language_info": {
   "codemirror_mode": {
    "name": "ipython",
    "version": 3
   },
   "file_extension": ".py",
   "mimetype": "text/x-python",
   "name": "python",
   "nbconvert_exporter": "python",
   "pygments_lexer": "ipython3",
   "version": "3.6.9"
  },
  "toc": {
   "base_numbering": 1,
   "nav_menu": {},
   "number_sections": true,
   "sideBar": true,
   "skip_h1_title": false,
   "title_cell": "Table of Contents",
   "title_sidebar": "Contents",
   "toc_cell": false,
   "toc_position": {
    "height": "calc(100% - 180px)",
    "left": "10px",
    "top": "150px",
    "width": "165px"
   },
   "toc_section_display": true,
   "toc_window_display": true
  }
 },
 "nbformat": 4,
 "nbformat_minor": 4
}
