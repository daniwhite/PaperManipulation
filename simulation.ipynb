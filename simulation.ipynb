{
 "cells": [
  {
   "cell_type": "markdown",
   "metadata": {},
   "source": [
    "# Imports"
   ]
  },
  {
   "cell_type": "code",
   "execution_count": null,
   "metadata": {},
   "outputs": [],
   "source": [
    "# Suprress warnings\n",
    "import warnings\n",
    "with warnings.catch_warnings():\n",
    "    warnings.simplefilter(\"ignore\")\n",
    "\n",
    "    # Standard imports\n",
    "    import matplotlib\n",
    "    import matplotlib.pyplot as plt\n",
    "    import matplotlib.patches as patches\n",
    "    import matplotlib.cm as cm\n",
    "    import numpy as np\n",
    "\n",
    "    # Drake imports\n",
    "    from meshcat.servers.zmqserver import start_zmq_server_as_subprocess\n",
    "    import pydrake\n",
    "    from pydrake.all import LogOutput, DirectCollocation, DirectTranscription, MathematicalProgram, InputPortSelection\n",
    "\n",
    "    import scipy.interpolate\n",
    "# Imports of other project files\n",
    "from log_wrapper import LogWrapper\n",
    "import constants\n",
    "import finger\n",
    "import pedestal\n",
    "from paper import Paper\n",
    "\n",
    "from pydrake.all import (MultibodyPlant, Parser, DiagramBuilder, Simulator, RigidTransform,\n",
    "                         PlanarSceneGraphVisualizer, SceneGraph, TrajectorySource,\n",
    "                         SnoptSolver, MultibodyPositionToGeometryPose, PiecewisePolynomial,\n",
    "                         MathematicalProgram, JacobianWrtVariable, eq, RollPitchYaw, AutoDiffXd, BodyIndex)\n",
    "\n",
    "# Other imports\n",
    "import importlib"
   ]
  },
  {
   "cell_type": "code",
   "execution_count": null,
   "metadata": {},
   "outputs": [],
   "source": [
    "# Matplotlib configuring\n",
    "plt.style.use(['science', 'no-latex'])\n",
    "font = {'size'   : 14}\n",
    "matplotlib.rc('font', **font)"
   ]
  },
  {
   "cell_type": "code",
   "execution_count": null,
   "metadata": {},
   "outputs": [],
   "source": [
    "# Meshcat init\n",
    "proc, zmq_url, web_url = start_zmq_server_as_subprocess()"
   ]
  },
  {
   "cell_type": "markdown",
   "metadata": {},
   "source": [
    "# Simulation setup\n",
    "## Pre-finalize steps"
   ]
  },
  {
   "cell_type": "code",
   "execution_count": null,
   "metadata": {},
   "outputs": [],
   "source": [
    "builder = pydrake.systems.framework.DiagramBuilder()\n",
    "\n",
    "# Add all elements\n",
    "plant, scene_graph = pydrake.multibody.plant.AddMultibodyPlantSceneGraph(builder, time_step=constants.DT)\n",
    "v_stiction=1e-3\n",
    "plant.set_stiction_tolerance(v_stiction)\n",
    "plant.set_penetration_allowance(0.001)\n",
    "pedestal_instance = pedestal.AddPedestal(plant)\n",
    "\n",
    "# These joint angles start the paper approximately the right spot, no matter how many links are used\n",
    "num_links = 2\n",
    "# def_joint_angles = list(np.zeros(num_links))\n",
    "# def_joint_angles[0] = np.pi/100\n",
    "# def_joint_angles[1] = np.pi/100\n",
    "# def_joint_angles[int(num_links*0.65)-2] = -np.pi/10\n",
    "# def_joint_angles[int(num_links*0.65)-1] = -np.pi/10\n",
    "# def_joint_angles[int(num_links*0.65)] = -np.pi/10\n",
    "# def_joint_angles[int(num_links*0.65)+1] = -np.pi/10\n",
    "# # def_joint_angles[int(num_links*0.65)+2] = -np.pi/10\n",
    "def_joint_angles = 0#np.pi/3\n",
    "\n",
    "paper = Paper(plant, scene_graph, num_links, \"NATURAL\", default_joint_angle=def_joint_angles,\n",
    "              stiffness=0,#2.5e-2,\n",
    "              damping=0,)#7.12547340446979e-06)\n",
    "paper.weld_paper_edge(pedestal.PEDESTAL_WIDTH, pedestal.PEDESTAL_HEIGHT)\n",
    "\n",
    "finger_instance, finger_body, finger_shape = finger.AddFinger(plant, constants.INIT_Y, constants.INIT_Z)\n",
    "\n",
    "# Set up logger (needs to happen after all bodies are added)\n",
    "log_wrapper = LogWrapper(plant.num_bodies(), int(finger_body.index()), paper)\n",
    "builder.AddSystem(log_wrapper)"
   ]
  },
  {
   "cell_type": "markdown",
   "metadata": {},
   "source": [
    "Calculate link inertia to use in damping calculations:"
   ]
  },
  {
   "cell_type": "code",
   "execution_count": null,
   "metadata": {},
   "outputs": [],
   "source": [
    "# paper.plant.get_body(BodyIndex(paper.get_free_edge_idx())).default_rotational_inertia().CalcPrincipalMomentsOfInertia()[0]"
   ]
  },
  {
   "cell_type": "markdown",
   "metadata": {},
   "source": [
    "## Controller selection"
   ]
  },
  {
   "cell_type": "code",
   "execution_count": null,
   "metadata": {},
   "outputs": [],
   "source": [
    "## CHOOSE CONTROL SYSTEM HERE BY UNCOMMENTING\n",
    "# # PD control: hits too low\n",
    "# finger_ctrlr = finger.PDFinger(\n",
    "#     plant,\n",
    "#     int(finger_instance),\n",
    "#     [\n",
    "#         [constants.INIT_Y, constants.INIT_Z],\n",
    "#         [constants.INIT_Y*1.1, constants.INIT_Z],\n",
    "#         [constants.INIT_Y*1.1, pedestal.PEDESTAL_HEIGHT+constants.FINGER_RADIUS/2+0.05],\n",
    "#         [0, pedestal.PEDESTAL_HEIGHT+constants.FINGER_RADIUS/2+0.05],\n",
    "#         [0, pedestal.PEDESTAL_HEIGHT+constants.FINGER_RADIUS/2],\n",
    "#     ],\n",
    "#     tspan_per_segment=1,\n",
    "#     ky=10,\n",
    "#     kz=10\n",
    "# )\n",
    "\n",
    "# PD control: hits too high\n",
    "# finger_ctrlr = finger.PDFinger(\n",
    "#     plant,\n",
    "#     int(finger_instance),\n",
    "#     [\n",
    "#         [constants.INIT_Y, constants.INIT_Z],\n",
    "#         [constants.INIT_Y*1.1, constants.INIT_Z],\n",
    "#         [constants.INIT_Y*1.1, pedestal.PEDESTAL_HEIGHT+constants.FINGER_RADIUS/2+0.08],\n",
    "#         [0, pedestal.PEDESTAL_HEIGHT+constants.FINGER_RADIUS/2+0.08],\n",
    "#         [0, pedestal.PEDESTAL_HEIGHT+constants.FINGER_RADIUS/2],\n",
    "#     ],\n",
    "#     tspan_per_segment=1,\n",
    "#     ky=10,\n",
    "#     kz=10\n",
    "# )\n",
    "\n",
    "\n",
    "# Edge feedback\n",
    "finger_ctrlr = finger.EdgeController(\n",
    "    plant,\n",
    "    paper,\n",
    "    finger_idx=int(finger_instance),\n",
    "    ll_idx=int(paper.get_free_edge_idx()),\n",
    "    F_Nd=2,\n",
    "    debug=True,\n",
    ")\n",
    "\n",
    "# # Optimization controller\n",
    "# finger_ctrlr = finger.OptimizationController(\n",
    "#     plant,\n",
    "#     paper,\n",
    "#     int(finger_instance),\n",
    "#     paper.get_free_edge_instance()\n",
    "# )\n",
    "\n",
    "# Blank controller\n",
    "# finger_ctrlr = finger.BlankController(\n",
    "#     plant,\n",
    "#     int(finger_instance)\n",
    "# )"
   ]
  },
  {
   "cell_type": "markdown",
   "metadata": {},
   "source": [
    "## Post-finalize steps"
   ]
  },
  {
   "cell_type": "code",
   "execution_count": null,
   "metadata": {},
   "outputs": [],
   "source": [
    "plant.Finalize()\n",
    "\n",
    "## Post finalize steps\n",
    "# Conect finger controller\n",
    "builder.AddSystem(finger_ctrlr)\n",
    "builder.Connect(finger_ctrlr.get_output_port(), plant.get_actuation_input_port(finger_instance))\n",
    "builder.Connect(plant.get_body_poses_output_port(), finger_ctrlr.get_input_port(0))\n",
    "builder.Connect(plant.get_body_spatial_velocities_output_port(), finger_ctrlr.get_input_port(1))\n",
    "builder.Connect(plant.get_contact_results_output_port(), finger_ctrlr.get_input_port(2))\n",
    "\n",
    "# Add logger\n",
    "builder.Connect(plant.get_body_poses_output_port(), log_wrapper.get_input_port(0))\n",
    "builder.Connect(plant.get_body_spatial_velocities_output_port(), log_wrapper.get_input_port(1))\n",
    "builder.Connect(plant.get_body_spatial_accelerations_output_port(), log_wrapper.get_input_port(2)) \n",
    "builder.Connect(plant.get_contact_results_output_port(), log_wrapper.get_input_port(3))\n",
    "builder.Connect(plant.get_reaction_forces_output_port(), log_wrapper.get_input_port(4))\n",
    "\n",
    "# Visualization and logging\n",
    "logger = LogOutput(log_wrapper.get_output_port(), builder)\n",
    "vis = pydrake.systems.meshcat_visualizer.ConnectMeshcatVisualizer(builder, scene_graph)\n",
    "vis.set_planar_viewpoint(camera_position=[1, 0, 0], xmin=-0.3, xmax=0.3, ymin=-0.3, ymax=0.3)\n",
    "\n",
    "# Build diagram and do actions requiring \n",
    "diagram = builder.Build()\n",
    "diagram_context = diagram.CreateDefaultContext()"
   ]
  },
  {
   "cell_type": "code",
   "execution_count": null,
   "metadata": {},
   "outputs": [],
   "source": [
    "if type(finger_ctrlr) is finger.OptimizationController:\n",
    "    finger_ctrlr.optimize(plant.GetPositions(diagram_context))"
   ]
  },
  {
   "cell_type": "markdown",
   "metadata": {},
   "source": [
    "# Run simulation"
   ]
  },
  {
   "cell_type": "code",
   "execution_count": null,
   "metadata": {},
   "outputs": [],
   "source": [
    "# Finalize simulation and visualization\n",
    "simulator = pydrake.systems.analysis.Simulator(diagram, diagram_context)\n",
    "simulator.Initialize()\n",
    "vis.start_recording()\n",
    "try:\n",
    "    simulator.AdvanceTo(constants.TSPAN)\n",
    "except RuntimeError as e:\n",
    "    print(e)\n",
    "\n",
    "# This way, we can use the actual time the simulation ran for\n",
    "effective_tspan = max(logger.sample_times())\n",
    "\n",
    "vis.stop_recording()\n",
    "vis.publish_recording()"
   ]
  },
  {
   "cell_type": "markdown",
   "metadata": {},
   "source": [
    "# Plots used in orginal paper"
   ]
  },
  {
   "cell_type": "code",
   "execution_count": null,
   "metadata": {},
   "outputs": [],
   "source": [
    "# This script is getting huge. We need to turn off parts that we're not using.\n",
    "generate_orig_plots = True"
   ]
  },
  {
   "cell_type": "code",
   "execution_count": null,
   "metadata": {},
   "outputs": [],
   "source": [
    "if generate_orig_plots:\n",
    "    # Plot manipulator position vs. trajectory\n",
    "    # PROGRAMMING: Use body index for finger instead of model instance\n",
    "    if type(finger_ctrlr) is finger.PDFinger:\n",
    "        plt.figure(figsize=(2*3,2*2))\n",
    "        plt.plot(logger.data()[log_wrapper.entries_per_body*int(finger_instance)+1],\n",
    "                 logger.data()[log_wrapper.entries_per_body*int(finger_instance)+2],\n",
    "                 label='Manipulator position')\n",
    "        plt.plot(finger_ctrlr.ys, finger_ctrlr.zs, label='Trajectory')\n",
    "        plt.xlabel(\"$y$ position\")\n",
    "        plt.ylabel(\"$z$ position\")\n",
    "        plt.legend()\n",
    "        plt.show()"
   ]
  },
  {
   "cell_type": "code",
   "execution_count": null,
   "metadata": {},
   "outputs": [],
   "source": [
    "if generate_orig_plots:\n",
    "    # Generate plots for paper\n",
    "    nb = plant.num_bodies()\n",
    "    y_traces = []\n",
    "    z_traces = []\n",
    "    theta_traces = []\n",
    "    for b in paper.link_idxs:\n",
    "        y_traces.append(logger.data()[log_wrapper.entries_per_body*b+1])\n",
    "        z_traces.append(logger.data()[log_wrapper.entries_per_body*b+2])\n",
    "        theta_traces.append(logger.data()[log_wrapper.entries_per_body*b+3])\n",
    "    y_traces = np.array(y_traces)\n",
    "    z_traces = np.array(z_traces)\n",
    "    theta_traces = np.array(theta_traces)\n",
    "\n",
    "    times_ = np.arange(0,effective_tspan, effective_tspan/10)\n",
    "    cmap = cm.get_cmap(\"viridis_r\")\n",
    "    plt.figure(figsize=(2*3,2*2))\n",
    "    if type(finger_ctrlr) is finger.PDFinger:\n",
    "        plt.plot(finger_ctrlr.ys, finger_ctrlr.zs, '--k', zorder=-1)\n",
    "    for t in times_:\n",
    "        c = cmap(t/effective_tspan)\n",
    "        idx = np.argmax(logger.sample_times() >= t)\n",
    "\n",
    "        # Plot paper\n",
    "        # PROGRAMMING: Account for paper thickness in plots\n",
    "        for y, z, theta in zip(y_traces[:,idx], z_traces[:,idx], theta_traces[:,idx]):\n",
    "            y0 = y - np.cos(theta)*paper.link_width/2\n",
    "            z0 = z - np.sin(theta)*paper.link_width/2\n",
    "            y1 = y + np.cos(theta)*paper.link_width/2\n",
    "            z1 = z + np.sin(theta)*paper.link_width/2\n",
    "            plt.plot([y0, y1], [z0, z1], color=c)\n",
    "\n",
    "\n",
    "        # Plot manipulator\n",
    "        plt.scatter(logger.data()[log_wrapper.entries_per_body*int(finger_instance)+1,idx], \n",
    "                    logger.data()[log_wrapper.entries_per_body*int(finger_instance)+2,idx],\n",
    "                    color=c, s=300, zorder=1)\n",
    "\n",
    "    xlim = plt.xlim()\n",
    "    ylim = plt.ylim()\n",
    "    plt.scatter([xlim[0]-50, xlim[0]-50], [ylim[0]-50, ylim[0]-50], c=[0, effective_tspan], cmap=cmap)\n",
    "    plt.xlim(xlim)\n",
    "    plt.ylim(ylim)\n",
    "    cb = plt.colorbar()\n",
    "    cb.set_label(\"Time\")\n",
    "    plt.xlabel(\"$y$ position\")\n",
    "    plt.ylabel(\"$z$ position\")\n",
    "    plt.show()"
   ]
  },
  {
   "cell_type": "markdown",
   "metadata": {},
   "source": [
    "# Drag plots"
   ]
  },
  {
   "cell_type": "markdown",
   "metadata": {},
   "source": [
    "This is a sanity check to see how much force we're neglecting by ignoring drag. The colored lines are the drag forces at each link, and the dashed black line is the force due to gravity for scale.\n",
    "\n",
    "Note that the formula for drag force is $\\rho v^2 C_d A_{paper}$.\n",
    "\n",
    "$C_d$ comes from [this site](https://www.engineersedge.com/fluid_flow/rectangular_flat_plate_drag_14036.htm), which says it depends on $L/d$. For 20 links, $L/d\\approx15$. Rounding this down to 10, we get $C_d=1.22$."
   ]
  },
  {
   "cell_type": "code",
   "execution_count": null,
   "metadata": {},
   "outputs": [],
   "source": [
    "generate_drag_plots = False"
   ]
  },
  {
   "cell_type": "code",
   "execution_count": null,
   "metadata": {},
   "outputs": [],
   "source": [
    "if generate_drag_plots:\n",
    "    # Plot drag forces\n",
    "    plt.figure(figsize=(16, 12))\n",
    "    nb = plant.num_bodies\n",
    "    vel_traces = []\n",
    "    for b in paper.link_idxs:\n",
    "        rho = 1.225\n",
    "        C_d = paper.link_width*paper.depth\n",
    "        vel_sqred = logger.data()[log_wrapper.entries_per_body*b+7]**2+logger.data()[log_wrapper.entries_per_body*b+8]**2\n",
    "        f = 0.5*rho*C_d*vel_sqred\n",
    "        plt.plot(f)\n",
    "\n",
    "    plt.axhline(paper.link_mass*9.81, color='black', linestyle='--')\n",
    "    plt.show()"
   ]
  },
  {
   "cell_type": "markdown",
   "metadata": {},
   "source": [
    "# Verifying equations hold\n",
    "We have the following free body diagrams:\n",
    "<img src=\"forces.png\" width=400px>\n",
    "<img src=\"link-moments.png\" width=400px>\n",
    "\n",
    "Which give us the following equations:\n",
    "$$\n",
    "\\begin{aligned}\n",
    "     m_La_{LT} &= F_{FL} + F_{GT} +F_{OT} \\\\\n",
    "    m_La_{LN} &= F_{NL} + F_{GN} +F_{ON} \\\\\n",
    "    m_Ma_{MT} &= F_{FM} + F_{CT} \\\\\n",
    "    m_Ma_{MN} &= F_{NM} + F_{CN} \\\\\n",
    "    a_{LT} &= a_{MT} \\\\\n",
    "    a_{LN} &= a_{MN} \\\\\n",
    "    a_{LT} &= -\\frac{w_L}{2}\\dot\\theta^2 \\\\\n",
    "    a_{LN} &= \\frac{w_L}{2}\\ddot\\theta \\\\\n",
    "    I_L\\ddot\\theta &= \\frac{w_L}{2}F_{ON}- \\frac{h_L}{2}F_{FL} - r_TF_{NL} \\\\\n",
    "    F_{NL} &= -F_{NM} \\\\\n",
    "    F_{FL} &= -F_{FM} \\\\\n",
    "    a_{NL} &= a_{Nd}  \\\\\n",
    "    F_{FL} &= 0\n",
    "\\end{aligned}\n",
    "$$\n",
    "For each of these equations, I want to plot the value on the left side and the value on the right side to see if they match."
   ]
  },
  {
   "cell_type": "markdown",
   "metadata": {},
   "source": [
    "## Loading signals\n",
    "Preparing all the signals we'll need."
   ]
  },
  {
   "cell_type": "code",
   "execution_count": null,
   "metadata": {},
   "outputs": [],
   "source": [
    "debug = finger_ctrlr.debug"
   ]
  },
  {
   "cell_type": "code",
   "execution_count": null,
   "metadata": {},
   "outputs": [],
   "source": [
    "l_times = logger.sample_times()\n",
    "d_times = np.array(debug['times'])"
   ]
  },
  {
   "cell_type": "markdown",
   "metadata": {},
   "source": [
    "### Helper functions"
   ]
  },
  {
   "cell_type": "code",
   "execution_count": null,
   "metadata": {},
   "outputs": [],
   "source": [
    "def get_N_proj(vec):\n",
    "    N_vec = np.matmul(N_hat_proj_mat, vec)\n",
    "    N_mag = np.linalg.norm(N_vec, axis=1)\n",
    "    N_sgn = np.sign(np.matmul(np.transpose(N_hats, [0, 2, 1]), N_vec))\n",
    "    N = N_mag.flatten()*N_sgn.flatten()\n",
    "    return N"
   ]
  },
  {
   "cell_type": "code",
   "execution_count": null,
   "metadata": {},
   "outputs": [],
   "source": [
    "def get_T_proj(vec):\n",
    "    T_vec = np.matmul(T_hat_proj_mat, vec)\n",
    "    T_mag = np.linalg.norm(T_vec, axis=1)\n",
    "    T_sgn = np.sign(np.matmul(np.transpose(T_hats, [0, 2, 1]), T_vec))\n",
    "    T = T_mag.flatten()*T_sgn.flatten()\n",
    "    return T"
   ]
  },
  {
   "cell_type": "code",
   "execution_count": null,
   "metadata": {},
   "outputs": [],
   "source": [
    "def diff_vec(vec):\n",
    "    d_vec = np.diff(vec, axis=0)\n",
    "    for i in range(vec.shape[1]):\n",
    "        d_vec[:, i] /= np.expand_dims(np.diff(l_times), 1)\n",
    "    d_vec = np.concatenate((d_vec, [d_vec[-1]]))\n",
    "    return d_vec"
   ]
  },
  {
   "cell_type": "code",
   "execution_count": null,
   "metadata": {},
   "outputs": [],
   "source": [
    "def plot_vec(sig1, sig1_label, sig2, sig2_label, finish_plotting=True, plot_x=True):\n",
    "    plt.figure(figsize=(16, 8))\n",
    "    lw = 5\n",
    "    if plot_x:\n",
    "        plt.plot(l_times, sig1[:,0], label=sig1_label + r' $\\hat x$ component', color='pink', linewidth=lw)\n",
    "    plt.plot(l_times, sig1[:,1], label=sig1_label + r' $\\hat y$ component', color='lightgreen', linewidth=lw)\n",
    "    plt.plot(l_times, sig1[:,2], label=sig1_label + r' $\\hat z$ component', color='lightskyblue', linewidth=lw)\n",
    "    \n",
    "    if plot_x:\n",
    "        plt.plot(l_times, sig2[:,0], label=sig2_label + r' $\\hat x$ component', color='red', linewidth=lw, linestyle='--')\n",
    "    plt.plot(l_times, sig2[:,1], label=sig2_label + r' $\\hat y$ component', color='green', linewidth=lw, linestyle='--')\n",
    "    plt.plot(l_times, sig2[:,2], label=sig2_label + r' $\\hat z$ component', color='blue', linewidth=lw, linestyle='--')\n",
    "    plt.xlabel(\"Time (seconds)\")\n",
    "    plt.legend()\n",
    "    plt.autoscale(enable=True, axis='x', tight=True)\n",
    "    if finish_plotting:\n",
    "        plt.show()"
   ]
  },
  {
   "cell_type": "code",
   "execution_count": null,
   "metadata": {},
   "outputs": [],
   "source": [
    "def moving_average(x, w):\n",
    "    return np.convolve(x, np.ones(w), 'same') / w"
   ]
  },
  {
   "cell_type": "code",
   "execution_count": null,
   "metadata": {},
   "outputs": [],
   "source": [
    "def moving_average_vec(x, w):\n",
    "    out = np.zeros_like(x)\n",
    "    for i in range(x.shape[1]):\n",
    "        out[:,i] = np.expand_dims(moving_average(x[:,i].flatten(), w), 1)\n",
    "    return out"
   ]
  },
  {
   "cell_type": "code",
   "execution_count": null,
   "metadata": {},
   "outputs": [],
   "source": [
    "def diff_arr(arr):\n",
    "    d_arr = np.diff(arr)/np.diff(l_times)\n",
    "    d_arr = np.concatenate((d_arr, [d_arr[-1]]))\n",
    "    return d_arr"
   ]
  },
  {
   "cell_type": "markdown",
   "metadata": {},
   "source": [
    "### Inputs\n",
    "These should all come from simulation/geometry, since they are inputs to the controller and are \"fixed\" from the controller's perspective.\n",
    "#### Geometric quantities ($m_L, m_M, w_L, I_L, h_L, \\mu$)"
   ]
  },
  {
   "cell_type": "code",
   "execution_count": null,
   "metadata": {},
   "outputs": [],
   "source": [
    "m_L = paper.link_mass\n",
    "m_M = constants.FINGER_MASS\n",
    "w_L = paper.link_width\n",
    "I_L = paper.plant.get_body(\n",
    "    BodyIndex(paper.get_free_edge_idx())).default_rotational_inertia().CalcPrincipalMomentsOfInertia()[0]\n",
    "I_M = finger_body.default_rotational_inertia().CalcPrincipalMomentsOfInertia()[0]\n",
    "h_L = paper.height\n",
    "mu = constants.FRICTION\n",
    "r = constants.FINGER_RADIUS"
   ]
  },
  {
   "cell_type": "markdown",
   "metadata": {},
   "source": [
    "#### Vectors which aren't determined by the force balance ($F_{GT}, F_{GN} \\hat T, \\hat N$)\n",
    "- [ ] PROGRAMMING: also get $\\hat T$ from simulation somehow"
   ]
  },
  {
   "cell_type": "code",
   "execution_count": null,
   "metadata": {},
   "outputs": [],
   "source": [
    "N_hats_raw = logger.data()[log_wrapper.contact_entry_start_idx+14:log_wrapper.contact_entry_start_idx+17,:]\n",
    "N_hats = np.expand_dims(N_hats_raw.T, 2)"
   ]
  },
  {
   "cell_type": "code",
   "execution_count": null,
   "metadata": {},
   "outputs": [],
   "source": [
    "T_hats_no_interp = np.array(debug['T_hats'])\n",
    "T_hats = scipy.interpolate.interp1d(d_times, T_hats_no_interp, axis=0)(l_times)"
   ]
  },
  {
   "cell_type": "markdown",
   "metadata": {},
   "source": [
    "It's also useful here to calculate project matrices:"
   ]
  },
  {
   "cell_type": "code",
   "execution_count": null,
   "metadata": {},
   "outputs": [],
   "source": [
    "T_hat_proj_mat = np.matmul(T_hats, np.transpose(T_hats, [0, 2, 1]))"
   ]
  },
  {
   "cell_type": "code",
   "execution_count": null,
   "metadata": {},
   "outputs": [],
   "source": [
    "N_hat_proj_mat = np.matmul(N_hats, np.transpose(N_hats, [0, 2, 1]))"
   ]
  },
  {
   "cell_type": "code",
   "execution_count": null,
   "metadata": {},
   "outputs": [],
   "source": [
    "g = 9.80665\n",
    "F_G = np.zeros([l_times.size, 3, 1])\n",
    "F_G[:,2,0] = -np.ones_like(l_times)*g*m_L\n",
    "F_GT = get_T_proj(F_G)\n",
    "F_GN = get_N_proj(F_G)"
   ]
  },
  {
   "cell_type": "markdown",
   "metadata": {},
   "source": [
    "#### Positions and velocities which are \"fixed'' until the next timestep ($\\dot\\theta^2, r_T, \\dot d_T$)"
   ]
  },
  {
   "cell_type": "markdown",
   "metadata": {},
   "source": [
    "##### Poses and velocities of objects"
   ]
  },
  {
   "cell_type": "code",
   "execution_count": null,
   "metadata": {},
   "outputs": [],
   "source": [
    "d_theta = logger.data()[log_wrapper.entries_per_body*paper.get_free_edge_idx() + 6 + 3]"
   ]
  },
  {
   "cell_type": "markdown",
   "metadata": {},
   "source": [
    "Note that $r_T$ here is calculated differently (but more accurately) than in the controller."
   ]
  },
  {
   "cell_type": "code",
   "execution_count": null,
   "metadata": {},
   "outputs": [],
   "source": [
    "p_contact = np.expand_dims(\n",
    "    logger.data()[log_wrapper.contact_entry_start_idx+11:log_wrapper.contact_entry_start_idx+14,:].T,\n",
    "    2)"
   ]
  },
  {
   "cell_type": "code",
   "execution_count": null,
   "metadata": {},
   "outputs": [],
   "source": [
    "p_link = np.expand_dims(\n",
    "    logger.data()[log_wrapper.entries_per_body*paper.get_free_edge_idx():\n",
    "                  log_wrapper.entries_per_body*paper.get_free_edge_idx()+3].T,\n",
    "    2)\n",
    "# Useful alias\n",
    "p_L = p_link"
   ]
  },
  {
   "cell_type": "code",
   "execution_count": null,
   "metadata": {},
   "outputs": [],
   "source": [
    "p_LN = get_N_proj(p_L)\n",
    "p_LT = get_T_proj(p_L)"
   ]
  },
  {
   "cell_type": "code",
   "execution_count": null,
   "metadata": {},
   "outputs": [],
   "source": [
    "v_L = np.expand_dims(\n",
    "    logger.data()[log_wrapper.entries_per_body*paper.get_free_edge_idx()+6:\n",
    "                  log_wrapper.entries_per_body*paper.get_free_edge_idx()+6+3].T,\n",
    "    2)"
   ]
  },
  {
   "cell_type": "code",
   "execution_count": null,
   "metadata": {},
   "outputs": [],
   "source": [
    "v_LN = get_N_proj(v_L)\n",
    "v_LT = get_T_proj(v_L)"
   ]
  },
  {
   "cell_type": "code",
   "execution_count": null,
   "metadata": {},
   "outputs": [],
   "source": [
    "p_M = np.expand_dims(logger.data()[log_wrapper.entries_per_body*int(finger_body.index()):\n",
    "                    log_wrapper.entries_per_body*int(finger_body.index())+3,:].T, 2)"
   ]
  },
  {
   "cell_type": "code",
   "execution_count": null,
   "metadata": {},
   "outputs": [],
   "source": [
    "p_MN = get_N_proj(p_M)\n",
    "p_MT = get_T_proj(p_M)"
   ]
  },
  {
   "cell_type": "code",
   "execution_count": null,
   "metadata": {},
   "outputs": [],
   "source": [
    "v_M = np.expand_dims(\n",
    "    logger.data()[log_wrapper.entries_per_body*int(finger_body.index())+6:\n",
    "                  log_wrapper.entries_per_body*int(finger_body.index())+6+3].T,\n",
    "    2)"
   ]
  },
  {
   "cell_type": "code",
   "execution_count": null,
   "metadata": {},
   "outputs": [],
   "source": [
    "v_MN = get_N_proj(v_M)\n",
    "v_MT = get_T_proj(v_M)"
   ]
  },
  {
   "cell_type": "markdown",
   "metadata": {},
   "source": [
    "##### Derived points and velocities"
   ]
  },
  {
   "cell_type": "code",
   "execution_count": null,
   "metadata": {},
   "outputs": [],
   "source": [
    "p_link_contact = p_contact - p_link\n",
    "p_link_contact_T = get_T_proj(p_link_contact)\n",
    "r_T = p_link_contact_T"
   ]
  },
  {
   "cell_type": "code",
   "execution_count": null,
   "metadata": {},
   "outputs": [],
   "source": [
    "p_LE = p_link+ (w_L/2)*T_hats-(h_L/2)*N_hats"
   ]
  },
  {
   "cell_type": "code",
   "execution_count": null,
   "metadata": {},
   "outputs": [],
   "source": [
    "p_LEN = get_N_proj(p_LE)\n",
    "p_LET = get_T_proj(p_LE)"
   ]
  },
  {
   "cell_type": "code",
   "execution_count": null,
   "metadata": {},
   "outputs": [],
   "source": [
    "# PROGRAMMING: get this from contact point instead"
   ]
  },
  {
   "cell_type": "code",
   "execution_count": null,
   "metadata": {},
   "outputs": [],
   "source": [
    "pen_depth = logger.data()[log_wrapper.contact_entry_start_idx+17]\n",
    "pen_vec = np.expand_dims(pen_depth, [1,2])*N_hats"
   ]
  },
  {
   "cell_type": "code",
   "execution_count": null,
   "metadata": {},
   "outputs": [],
   "source": [
    "p_C = p_contact\n",
    "p_CT = get_T_proj(p_C)\n",
    "p_CN = get_N_proj(p_C)"
   ]
  },
  {
   "cell_type": "code",
   "execution_count": null,
   "metadata": {},
   "outputs": [],
   "source": [
    "d_vec = p_C - p_LE + pen_vec/2\n",
    "d_T = get_T_proj(d_vec)\n",
    "d_N = get_N_proj(d_vec)"
   ]
  },
  {
   "cell_type": "code",
   "execution_count": null,
   "metadata": {},
   "outputs": [],
   "source": [
    "d_theta_L = logger.data()[log_wrapper.entries_per_body*paper.get_free_edge_idx() + 6 + 3]\n",
    "d_theta_M = logger.data()[log_wrapper.entries_per_body*int(finger_body.index()) + 6 + 3]"
   ]
  },
  {
   "cell_type": "code",
   "execution_count": null,
   "metadata": {},
   "outputs": [],
   "source": [
    "d_d_T = -d_theta_L*h_L/2-d_theta_L*r - v_LT + v_MT + d_theta_L*d_N\n",
    "d_d_N = -d_theta_L*w_L/2-v_LN+v_MN-d_theta_L*d_T"
   ]
  },
  {
   "cell_type": "code",
   "execution_count": null,
   "metadata": {},
   "outputs": [],
   "source": [
    "dd_d_T = np.diff(d_d_T)/np.diff(l_times)\n",
    "dd_d_T = np.concatenate((dd_d_T, [dd_d_T[-1]]))\n",
    "dd_d_N = np.diff(d_d_N)/np.diff(l_times)\n",
    "dd_d_N = np.concatenate((dd_d_N, [dd_d_N[-1]]))"
   ]
  },
  {
   "cell_type": "code",
   "execution_count": null,
   "metadata": {},
   "outputs": [],
   "source": [
    "d_d_vec = diff_vec(d_vec)\n",
    "d_d_vec_T = get_T_proj(d_d_vec)\n",
    "d_d_vec_N = get_N_proj(d_d_vec)"
   ]
  },
  {
   "cell_type": "code",
   "execution_count": null,
   "metadata": {},
   "outputs": [],
   "source": [
    "v_LE = diff_vec(p_LE)"
   ]
  },
  {
   "cell_type": "code",
   "execution_count": null,
   "metadata": {},
   "outputs": [],
   "source": [
    "v_LEN = get_N_proj(v_LE)\n",
    "v_LET = get_T_proj(v_LE)"
   ]
  },
  {
   "cell_type": "code",
   "execution_count": null,
   "metadata": {},
   "outputs": [],
   "source": [
    "v_contact = diff_vec(p_contact)\n",
    "a_contact = diff_vec(v_contact)"
   ]
  },
  {
   "cell_type": "code",
   "execution_count": null,
   "metadata": {},
   "outputs": [],
   "source": [
    "p_C = p_contact\n",
    "v_C = v_contact\n",
    "a_C = a_contact"
   ]
  },
  {
   "cell_type": "code",
   "execution_count": null,
   "metadata": {},
   "outputs": [],
   "source": [
    "p_E = p_LE\n",
    "v_E = diff_vec(p_E)\n",
    "a_E = diff_vec(v_E)"
   ]
  },
  {
   "cell_type": "markdown",
   "metadata": {},
   "source": [
    "###### Supporting plots"
   ]
  },
  {
   "cell_type": "code",
   "execution_count": null,
   "metadata": {},
   "outputs": [],
   "source": [
    "d_d_T_diff = diff_arr(d_T)\n",
    "d_d_N_diff = diff_arr(d_N)"
   ]
  },
  {
   "cell_type": "code",
   "execution_count": null,
   "metadata": {},
   "outputs": [],
   "source": [
    "d_p_M = diff_vec(p_M)"
   ]
  },
  {
   "cell_type": "code",
   "execution_count": null,
   "metadata": {},
   "outputs": [],
   "source": [
    "d_v_M = diff_vec(v_M)"
   ]
  },
  {
   "cell_type": "code",
   "execution_count": null,
   "metadata": {},
   "outputs": [],
   "source": [
    "plt.figure(figsize=(16, 8))\n",
    "lw = 5\n",
    "plt.subplot(211)\n",
    "plt.plot(l_times, d_T, label='$\\hat T$ component', linewidth=lw)\n",
    "plt.xlabel(\"Time (seconds)\")\n",
    "plt.legend()\n",
    "plt.subplot(212)\n",
    "plt.plot(l_times, d_N, label='$\\hat N$ component', linewidth=lw)\n",
    "plt.xlabel(\"Time (seconds)\")\n",
    "plt.legend()\n",
    "plt.show()"
   ]
  },
  {
   "cell_type": "code",
   "execution_count": null,
   "metadata": {},
   "outputs": [],
   "source": [
    "plt.figure(figsize=(16, 8))\n",
    "lw = 5\n",
    "plt.subplot(211)\n",
    "plt.plot(l_times, d_d_T, label='$\\hat T$ component', linewidth=lw)\n",
    "plt.xlabel(\"Time (seconds)\")\n",
    "plt.legend()\n",
    "plt.subplot(212)\n",
    "plt.plot(l_times, d_d_N, label='$\\hat N$ component', linewidth=lw)\n",
    "plt.xlabel(\"Time (seconds)\")\n",
    "plt.legend()\n",
    "plt.show()"
   ]
  },
  {
   "cell_type": "code",
   "execution_count": null,
   "metadata": {},
   "outputs": [],
   "source": [
    "plt.figure(figsize=(16, 8))\n",
    "lw = 5\n",
    "plt.plot(l_times, d_p_M[:,0,:], label='$\\dot p_{Mx}$', color='pink', linewidth=lw)\n",
    "plt.plot(l_times, d_p_M[:,1,:], label='$\\dot p_{My}$', color='lightgreen', linewidth=lw)\n",
    "plt.plot(l_times, d_p_M[:,2,:], label='$\\dot p_{Mz}$', color='lightskyblue', linewidth=lw)\n",
    "plt.plot(l_times, v_M[:,0,:], '--', label='$v_{Mx}$', color='red', linewidth=lw)\n",
    "plt.plot(l_times, v_M[:,1,:], '--', label='$v_{My}$', color='green', linewidth=lw)\n",
    "plt.plot(l_times, v_M[:,2,:], '--', label='$v_{Mz}$', color='blue', linewidth=lw)\n",
    "plt.xlabel(\"Time (seconds)\")\n",
    "plt.legend()\n",
    "plt.show()"
   ]
  },
  {
   "cell_type": "markdown",
   "metadata": {},
   "source": [
    "#### Control inputs ($a_{Nd}$)\n",
    "- [ ] PROGRAMMING: Pass in `a_Nd` instead of `F_Nd`"
   ]
  },
  {
   "cell_type": "code",
   "execution_count": null,
   "metadata": {},
   "outputs": [],
   "source": [
    "a_Nd = finger_ctrlr.F_Nd/paper.link_mass"
   ]
  },
  {
   "cell_type": "code",
   "execution_count": null,
   "metadata": {},
   "outputs": [],
   "source": [
    "bar_d_T = d_T"
   ]
  },
  {
   "cell_type": "markdown",
   "metadata": {},
   "source": [
    "### Outputs\n",
    "These should all come directly from simulation, except for control forces.\n",
    "#### Accelerations of both objects ($a_{LT}, a_{LN}, a_{MT}, a_{MN}, \\ddot\\theta$)"
   ]
  },
  {
   "cell_type": "code",
   "execution_count": null,
   "metadata": {},
   "outputs": [],
   "source": [
    "a_link_raw = logger.data()[log_wrapper.entries_per_body*paper.link_idxs[-1] + 12:\n",
    "                     log_wrapper.entries_per_body*paper.link_idxs[-1]+12+3,:]\n",
    "a_link = np.expand_dims(a_link_raw.T, 2)"
   ]
  },
  {
   "cell_type": "code",
   "execution_count": null,
   "metadata": {},
   "outputs": [],
   "source": [
    "a_LT_vec = np.matmul(T_hat_proj_mat, a_link)\n",
    "a_LT_mag = np.linalg.norm(a_LT_vec, axis=1)\n",
    "a_LT_sgn = np.sign(np.matmul(\n",
    "    np.transpose(T_hats, [0, 2, 1]),\n",
    "    a_LT_vec))\n",
    "a_LT = a_LT_mag.flatten()*a_LT_sgn.flatten()"
   ]
  },
  {
   "cell_type": "code",
   "execution_count": null,
   "metadata": {},
   "outputs": [],
   "source": [
    "a_LN_vec = np.matmul(N_hat_proj_mat, a_link)\n",
    "a_LN_mag = np.linalg.norm(a_LN_vec, axis=1)\n",
    "a_LN_sgn = np.sign(np.matmul(\n",
    "    np.transpose(N_hats, [0, 2, 1]),\n",
    "    a_LN_vec))\n",
    "a_LN = a_LN_mag.flatten()*a_LN_sgn.flatten()"
   ]
  },
  {
   "cell_type": "code",
   "execution_count": null,
   "metadata": {},
   "outputs": [],
   "source": [
    "a_man_raw = logger.data()[log_wrapper.entries_per_body*int(finger_body.index()) + 12:\n",
    "                     log_wrapper.entries_per_body*int(finger_body.index())+12+3,:]\n",
    "a_man = np.expand_dims(a_man_raw.T, 2)"
   ]
  },
  {
   "cell_type": "code",
   "execution_count": null,
   "metadata": {},
   "outputs": [],
   "source": [
    "a_MT = get_T_proj(a_man)\n",
    "a_MN = get_N_proj(a_man)"
   ]
  },
  {
   "cell_type": "code",
   "execution_count": null,
   "metadata": {},
   "outputs": [],
   "source": [
    "a_MN_vec = np.matmul(N_hat_proj_mat, a_man)\n",
    "a_MN_mag = np.linalg.norm(a_MN_vec, axis=1)\n",
    "a_MN_sgn = np.sign(np.matmul(\n",
    "    np.transpose(N_hats, [0, 2, 1]),\n",
    "    a_MN_vec))\n",
    "a_MN = a_MN_mag.flatten()*a_MN_sgn.flatten()"
   ]
  },
  {
   "cell_type": "code",
   "execution_count": null,
   "metadata": {},
   "outputs": [],
   "source": [
    "dd_theta = logger.data()[log_wrapper.entries_per_body*paper.get_free_edge_idx() + 12 + 3,:]"
   ]
  },
  {
   "cell_type": "code",
   "execution_count": null,
   "metadata": {},
   "outputs": [],
   "source": [
    "dd_theta_L = logger.data()[log_wrapper.entries_per_body*paper.get_free_edge_idx() + 12 + 3,:]\n",
    "dd_theta_M = logger.data()[log_wrapper.entries_per_body*int(finger_body.index()) + 12 + 3,:]"
   ]
  },
  {
   "cell_type": "markdown",
   "metadata": {},
   "source": [
    "#### $\\ddot d_T$"
   ]
  },
  {
   "cell_type": "code",
   "execution_count": null,
   "metadata": {},
   "outputs": [],
   "source": [
    "dd_d_vec = diff_vec(d_d_vec)\n",
    "dd_d_vec_T = get_T_proj(dd_d_vec)\n",
    "dd_d_vec_N = get_N_proj(dd_d_vec)"
   ]
  },
  {
   "cell_type": "markdown",
   "metadata": {},
   "source": [
    "##### Plots to check signals "
   ]
  },
  {
   "cell_type": "code",
   "execution_count": null,
   "metadata": {},
   "outputs": [],
   "source": [
    "plt.figure(figsize=(16, 8))\n",
    "lw = 5\n",
    "plt.subplot(211)\n",
    "plt.plot(l_times, dd_d_T, label='$\\hat T$ component', linewidth=lw)\n",
    "plt.xlabel(\"Time (seconds)\")\n",
    "plt.legend()\n",
    "plt.subplot(212)\n",
    "plt.plot(l_times, dd_d_N, label='$\\hat N$ component', linewidth=lw)\n",
    "plt.xlabel(\"Time (seconds)\")\n",
    "plt.legend()\n",
    "plt.show()"
   ]
  },
  {
   "cell_type": "code",
   "execution_count": null,
   "metadata": {},
   "outputs": [],
   "source": [
    "plt.figure(figsize=(16, 8))\n",
    "lw = 5\n",
    "plt.plot(l_times, d_v_M[:,0,:], label='$\\dot v_{Mx}$', color='pink', linewidth=lw)\n",
    "plt.plot(l_times, d_v_M[:,1,:], label='$\\dot v_{My}$', color='lightgreen', linewidth=lw)\n",
    "plt.plot(l_times, d_v_M[:,2,:], label='$\\dot v_{Mz}$', color='lightskyblue', linewidth=lw)\n",
    "plt.plot(l_times, a_man[:,0,:], '--', label='$a_{Mx}$', color='red', linewidth=lw)\n",
    "plt.plot(l_times, a_man[:,1,:], '--', label='$a_{My}$', color='green', linewidth=lw)\n",
    "plt.plot(l_times, a_man[:,2,:], '--', label='$a_{Mz}$', color='blue', linewidth=lw)\n",
    "plt.xlabel(\"Time (seconds)\")\n",
    "plt.ylim(-1e3, 1e3)\n",
    "plt.legend()\n",
    "plt.show()"
   ]
  },
  {
   "cell_type": "markdown",
   "metadata": {},
   "source": [
    "#### Contact, object, and control forces on each object ($F_{NL}, F_{FL}, F_{ON}, F_{OT}, F_{NM}, F_{FM}, F_{CT}, F_{CN}$"
   ]
  },
  {
   "cell_type": "markdown",
   "metadata": {},
   "source": [
    "##### Contact"
   ]
  },
  {
   "cell_type": "code",
   "execution_count": null,
   "metadata": {},
   "outputs": [],
   "source": [
    "F_contact_M_raw = logger.data()[log_wrapper.contact_entry_start_idx+0:log_wrapper.contact_entry_start_idx+3,:]\n",
    "F_contact_M = np.expand_dims(F_contact_M_raw.T, 2)"
   ]
  },
  {
   "cell_type": "code",
   "execution_count": null,
   "metadata": {},
   "outputs": [],
   "source": [
    "F_NM_vec = np.matmul(N_hat_proj_mat, F_contact_M)\n",
    "F_FM_vec = F_contact_M - F_NM_vec"
   ]
  },
  {
   "cell_type": "code",
   "execution_count": null,
   "metadata": {},
   "outputs": [],
   "source": [
    "F_NM_mag = np.linalg.norm(F_NM_vec, axis=1)\n",
    "F_NM_sgn = np.sign(np.matmul(\n",
    "    np.transpose(N_hats, [0, 2, 1]),\n",
    "    F_NM_vec))\n",
    "F_NM = F_NM_mag.flatten()*F_NM_sgn.flatten()"
   ]
  },
  {
   "cell_type": "code",
   "execution_count": null,
   "metadata": {},
   "outputs": [],
   "source": [
    "F_FM_mag = np.linalg.norm(F_FM_vec, axis=1)\n",
    "F_FM_sgn = np.sign(np.matmul(\n",
    "    np.transpose(T_hats, [0, 2, 1]),\n",
    "    F_FM_vec))\n",
    "F_FM = F_FM_mag.flatten()*F_FM_sgn.flatten()"
   ]
  },
  {
   "cell_type": "code",
   "execution_count": null,
   "metadata": {},
   "outputs": [],
   "source": [
    "F_FL = -F_FM\n",
    "F_NL = -F_NM"
   ]
  },
  {
   "cell_type": "markdown",
   "metadata": {},
   "source": [
    "##### Object"
   ]
  },
  {
   "cell_type": "code",
   "execution_count": null,
   "metadata": {},
   "outputs": [],
   "source": [
    "joint_force_in_compliance_frame = logger.data()[\n",
    "    log_wrapper.joint_entry_start_idx:log_wrapper.joint_entry_start_idx+3,:]"
   ]
  },
  {
   "cell_type": "code",
   "execution_count": null,
   "metadata": {},
   "outputs": [],
   "source": [
    "F_OT = joint_force_in_compliance_frame[1,:]\n",
    "F_ON = joint_force_in_compliance_frame[2,:]"
   ]
  },
  {
   "cell_type": "markdown",
   "metadata": {},
   "source": [
    "##### Control"
   ]
  },
  {
   "cell_type": "code",
   "execution_count": null,
   "metadata": {},
   "outputs": [],
   "source": [
    "F_CT_no_interp = np.array(debug['F_CTs'])\n",
    "F_CT = scipy.interpolate.interp1d(d_times, F_CT_no_interp, axis=0)(l_times)\n",
    "F_CN_no_interp = np.array(debug['F_CNs'])\n",
    "F_CN = scipy.interpolate.interp1d(d_times, F_CN_no_interp, axis=0)(l_times)"
   ]
  },
  {
   "cell_type": "code",
   "execution_count": null,
   "metadata": {},
   "outputs": [],
   "source": [
    "tau_M_no_interp = np.array(debug['taus'])\n",
    "tau_M = scipy.interpolate.interp1d(d_times, tau_M_no_interp, axis=0)(l_times)"
   ]
  },
  {
   "cell_type": "code",
   "execution_count": null,
   "metadata": {},
   "outputs": [],
   "source": [
    "omega_L = d_theta\n",
    "omega_M = logger.data()[log_wrapper.entries_per_body*int(finger_body.index()) + 6 + 3]"
   ]
  },
  {
   "cell_type": "code",
   "execution_count": null,
   "metadata": {},
   "outputs": [],
   "source": [
    "omega_vec_L = np.expand_dims(np.vstack((omega_L, np.zeros_like(omega_L), np.zeros_like(omega_L))).T, 2)\n",
    "omega_vec_M = np.expand_dims(np.vstack((omega_M, np.zeros_like(omega_M), np.zeros_like(omega_M))).T, 2)"
   ]
  },
  {
   "cell_type": "code",
   "execution_count": null,
   "metadata": {},
   "outputs": [],
   "source": [
    "slip_speed = logger.data()[log_wrapper.contact_entry_start_idx+10,:]\n",
    "a_s = np.diff(slip_speed)/np.diff(l_times)\n",
    "a_s = np.concatenate((a_s, [a_s[-1]]))\n",
    "p_MConM = p_C - p_M\n",
    "p_LConL = p_C - p_L\n",
    "v_WConM = v_M + np.cross(omega_vec_M, p_MConM, axis=1)\n",
    "v_WConMN = get_N_proj(v_WConM)\n",
    "v_WConMT = get_T_proj(v_WConM)\n",
    "v_WConL = v_L + np.cross(omega_vec_L, p_LConL, axis=1)\n",
    "v_WConLN = get_N_proj(v_WConL)\n",
    "v_WConLT = get_T_proj(v_WConL)\n",
    "\n",
    "p_LConLN = get_N_proj(p_C - p_L)\n",
    "p_LConLT = get_T_proj(p_C - p_L)\n",
    "p_MConMN = get_N_proj(p_C - p_M)\n",
    "p_MConMT = get_T_proj(p_C - p_M)"
   ]
  },
  {
   "cell_type": "code",
   "execution_count": null,
   "metadata": {},
   "outputs": [],
   "source": [
    "a_M_diff = diff_vec(v_M)\n",
    "a_MT_diff = get_T_proj(a_M_diff)\n",
    "a_MN_diff = get_N_proj(a_M_diff)"
   ]
  },
  {
   "cell_type": "markdown",
   "metadata": {},
   "source": [
    "## Plotting settings"
   ]
  },
  {
   "cell_type": "code",
   "execution_count": null,
   "metadata": {},
   "outputs": [],
   "source": [
    "lw = 5"
   ]
  },
  {
   "cell_type": "code",
   "execution_count": null,
   "metadata": {},
   "outputs": [],
   "source": [
    "figsize = (16, 8)"
   ]
  },
  {
   "cell_type": "code",
   "execution_count": null,
   "metadata": {},
   "outputs": [],
   "source": [
    "plot_supporting_plots = True"
   ]
  },
  {
   "cell_type": "code",
   "execution_count": null,
   "metadata": {},
   "outputs": [],
   "source": [
    "t_lose_contact = l_times[np.argmax(slip_speed > v_stiction)] #l_times[idx_lose_contact]\n",
    "t_lose_contact"
   ]
  },
  {
   "cell_type": "code",
   "execution_count": null,
   "metadata": {},
   "outputs": [],
   "source": [
    "contact_point = logger.data()[log_wrapper.contact_entry_start_idx+11:log_wrapper.contact_entry_start_idx+14,:]"
   ]
  },
  {
   "cell_type": "code",
   "execution_count": null,
   "metadata": {},
   "outputs": [],
   "source": [
    "def get_first_false_idx(arr):\n",
    "    if len(arr.shape) > 1:\n",
    "        nan_arr = np.any(np.isnan(arr), axis=0)\n",
    "    else:\n",
    "        nan_arr = np.isnan(arr)\n",
    "    first_false_idx = None\n",
    "    for i, val in enumerate(nan_arr):\n",
    "        if not val:\n",
    "            first_false_idx = i\n",
    "            break\n",
    "    return first_false_idx"
   ]
  },
  {
   "cell_type": "code",
   "execution_count": null,
   "metadata": {},
   "outputs": [],
   "source": [
    "def idx_from_t(t):\n",
    "    return np.argmax(l_times > t)"
   ]
  },
  {
   "cell_type": "code",
   "execution_count": null,
   "metadata": {},
   "outputs": [],
   "source": [
    "first_false_idx = None\n",
    "for i, val in enumerate(np.any(np.isnan(contact_point), axis=0)):\n",
    "    if not val:\n",
    "        first_false_idx = i\n",
    "        break\n",
    "idx_make_contact = i\n",
    "t_make_contact = l_times[idx_make_contact]"
   ]
  },
  {
   "cell_type": "code",
   "execution_count": null,
   "metadata": {},
   "outputs": [],
   "source": [
    "t_start = t_make_contact + 0.002\n",
    "t_end = t_lose_contact - 1e-4\n",
    "idx_start = np.argmax(l_times > t_start)\n",
    "idx_end = np.argmax(l_times > t_end)\n",
    "idx_lose_contact = np.argmax(np.isnan(F_FL[idx_start:])) + idx_start"
   ]
  },
  {
   "cell_type": "code",
   "execution_count": null,
   "metadata": {},
   "outputs": [],
   "source": [
    "0.01 - t_make_contact"
   ]
  },
  {
   "cell_type": "code",
   "execution_count": null,
   "metadata": {},
   "outputs": [],
   "source": [
    "def plot_eq(lhs, lhs_label, rhs, rhs_label, lhs_alpha=1, rhs_alpha=1, lw=5, finish_plotting=True, plot_diff=True, figsize_=None, plot_err_as_pct=False):\n",
    "    if figsize_ is not None:\n",
    "        plt.figure(figsize=figsize_)\n",
    "    else:\n",
    "        plt.figure(figsize=figsize)\n",
    "    if isinstance(lhs, float) or isinstance(lhs, int):\n",
    "        lhs = np.ones_like(l_times)*lhs\n",
    "    if isinstance(rhs, float) or isinstance(rhs, int):\n",
    "        rhs = np.ones_like(l_times)*rhs\n",
    "        \n",
    "    b = np.broadcast(lhs, rhs)\n",
    "    if np.count_nonzero(np.array(b.shape) > 1000) > 1:\n",
    "        raise ValueError(\"Broadcast shape of lhs and rhs is {}, which is too large.\".format(b.shape))\n",
    "        \n",
    "    plt.subplot(211)\n",
    "    error = lhs[idx_start:idx_end]-rhs[idx_start:idx_end]\n",
    "    if plot_err_as_pct:\n",
    "        lhs_range = np.nanmax(lhs[idx_start:idx_end]) - np.nanmin(lhs[idx_start:idx_end])\n",
    "        rhs_range = np.nanmax(rhs[idx_start:idx_end]) - np.nanmin(rhs[idx_start:idx_end])\n",
    "        \n",
    "        lhs_max_val = np.nanmax(np.abs(lhs[idx_start:idx_end]))\n",
    "        rhs_max_val = np.nanmax(np.abs(rhs[idx_start:idx_end]))\n",
    "        error /= np.nanmax([lhs_max_val, rhs_max_val])\n",
    "        error *= 100\n",
    "        \n",
    "    plt.plot(l_times[idx_start:idx_end],\n",
    "            error,\n",
    "            linewidth=lw)\n",
    "    plt.autoscale(enable=True, axis='x', tight=True)\n",
    "    plt.xlabel(\"Time (s)\")\n",
    "    if plot_err_as_pct:\n",
    "        plt.ylabel(\"Error (percent of max val)\")\n",
    "    else:\n",
    "        plt.ylabel(\"Error\")\n",
    "    plt.title(\"Difference between {} and {}\".format(lhs_label, rhs_label))\n",
    "    \n",
    "    \n",
    "    plt.subplot(212)\n",
    "    plt.plot(l_times[idx_start:idx_end],\n",
    "             lhs[idx_start:idx_end],\n",
    "             label=lhs_label, linewidth=lw, color='lightskyblue', zorder=0, alpha=lhs_alpha)\n",
    "    plt.plot(l_times[idx_start:idx_end],\n",
    "             rhs[idx_start:idx_end],\n",
    "             label=rhs_label, linewidth=lw, color='b', linestyle='--', zorder=1, alpha=rhs_alpha)\n",
    "    plt.autoscale(enable=True, axis='x', tight=True)\n",
    "    \n",
    "    \n",
    "#     plt.axvline(t_make_contact, color='green', linewidth=lw)\n",
    "#     plt.axvline(t_lose_contact, color='red', linewidth=lw)\n",
    "    \n",
    "    plt.legend()\n",
    "    plt.xlabel(\"Time (s)\")\n",
    "    \n",
    "    if finish_plotting:\n",
    "        plt.show()"
   ]
  },
  {
   "cell_type": "code",
   "execution_count": null,
   "metadata": {},
   "outputs": [],
   "source": [
    "errors = []\n",
    "max_errors = []\n",
    "labels = []"
   ]
  },
  {
   "cell_type": "code",
   "execution_count": null,
   "metadata": {},
   "outputs": [],
   "source": [
    "def update_error(lhs, lhs_label, rhs, rhs_label):\n",
    "    error = ((lhs) - (rhs))[idx_start:idx_end]\n",
    "    label = r\"$\\left(\" + lhs_label.replace(\"$\", \"\") + r\"\\right) - \\left(\" + rhs_label.replace(\"$\", \"\") + r\"\\right)$\"\n",
    "    label_idx = None\n",
    "    for i, l in enumerate(labels):\n",
    "        if l == label:\n",
    "            label_idx = i\n",
    "            break\n",
    "    max_error = np.nanmax(np.abs(error))\n",
    "    if label_idx is None:\n",
    "        errors.append(error)\n",
    "        labels.append(label)\n",
    "        max_errors.append(max_error)\n",
    "    else:\n",
    "        errors[label_idx] = error\n",
    "        max_errors[label_idx] = max_error"
   ]
  },
  {
   "cell_type": "markdown",
   "metadata": {},
   "source": [
    "### Supporting plots"
   ]
  },
  {
   "cell_type": "code",
   "execution_count": null,
   "metadata": {
    "scrolled": false
   },
   "outputs": [],
   "source": [
    "plot_eq(d_d_T_diff, \"Diff\", d_d_T, \"Formula\", plot_err_as_pct=True)"
   ]
  },
  {
   "cell_type": "code",
   "execution_count": null,
   "metadata": {},
   "outputs": [],
   "source": [
    "plot_eq(d_d_N_diff, \"Diff\", d_d_N, \"Formula\", plot_err_as_pct=True)"
   ]
  },
  {
   "cell_type": "code",
   "execution_count": null,
   "metadata": {},
   "outputs": [],
   "source": [
    "plot_eq(a_MN, \"Sim\", a_MN_diff, \"Diff\")"
   ]
  },
  {
   "cell_type": "code",
   "execution_count": null,
   "metadata": {},
   "outputs": [],
   "source": [
    "plot_eq(a_MT, \"Sim\", a_MT_diff, \"Diff\")"
   ]
  },
  {
   "cell_type": "code",
   "execution_count": null,
   "metadata": {},
   "outputs": [],
   "source": [
    "plot_eq(moving_average(a_MT, 3), \"Sim\", moving_average(a_MT_diff, 3), \"Diff\")"
   ]
  },
  {
   "cell_type": "markdown",
   "metadata": {},
   "source": [
    "## Plots (environmental constraints)\n",
    "There are things where I expect them to be satisfied no matter what, no matter the succes my controller."
   ]
  },
  {
   "cell_type": "markdown",
   "metadata": {},
   "source": [
    "### $m_La_{LT} = F_{FL} + F_{GT} +F_{OT}$\n",
    "*If this plot is correct:*\n",
    "The free body diagram is correct in thet $\\hat T$ direction on the link."
   ]
  },
  {
   "cell_type": "code",
   "execution_count": null,
   "metadata": {},
   "outputs": [],
   "source": [
    "lhs_label = r'$m_La_{LT}$'\n",
    "rhs_label = r'$F_{FL} + F_{GT} +F_{OT}$'\n",
    "\n",
    "lhs = m_L*a_LT\n",
    "\n",
    "rhs = F_FL+F_GT+F_OT\n",
    "\n",
    "plot_eq(lhs, lhs_label, rhs, rhs_label)\n",
    "update_error(lhs, lhs_label, rhs, rhs_label)"
   ]
  },
  {
   "cell_type": "markdown",
   "metadata": {},
   "source": [
    "### $m_La_{LN} = F_{NL} + F_{GN} +F_{ON}$\n",
    "*If this plot is correct:*\n",
    "The free body diagram is correct in thet $\\hat N$ direction on the link."
   ]
  },
  {
   "cell_type": "code",
   "execution_count": null,
   "metadata": {},
   "outputs": [],
   "source": [
    "lhs_label = r'$m_La_{LN}$'\n",
    "rhs_label = r'$F_{NL} + F_{GN} +F_{ON}$'\n",
    "\n",
    "lhs = m_L*a_LN\n",
    "\n",
    "rhs = F_NL + F_GN + F_ON\n",
    "\n",
    "plot_eq(lhs, lhs_label, rhs, rhs_label, finish_plotting=False)\n",
    "update_error(lhs, lhs_label, rhs, rhs_label)"
   ]
  },
  {
   "cell_type": "markdown",
   "metadata": {},
   "source": [
    "### $m_Ma_{MT} = F_{FM} + F_{CT}$\n",
    "*If this plot is correct:*\n",
    "The free body diagram is correct in thet $\\hat T$ direction on the manipulator."
   ]
  },
  {
   "cell_type": "code",
   "execution_count": null,
   "metadata": {},
   "outputs": [],
   "source": [
    "lhs_label = r'$m_Ma_{MT}$'\n",
    "rhs_label = r'$F_{FM} + F_{CT}$'\n",
    "\n",
    "lhs = m_M*a_MT\n",
    "\n",
    "rhs = F_FM + F_CT\n",
    "\n",
    "plot_eq(lhs, lhs_label, rhs, rhs_label, rhs_alpha=0.2, finish_plotting=False)\n",
    "update_error(lhs, lhs_label, rhs, rhs_label)"
   ]
  },
  {
   "cell_type": "markdown",
   "metadata": {},
   "source": [
    "### $m_Ma_{MN} = F_{NM} + F_{CN}$\n",
    "*If this plot is correct:*\n",
    "The free body diagram is correct in thet $\\hat TN direction on the manipulator."
   ]
  },
  {
   "cell_type": "code",
   "execution_count": null,
   "metadata": {},
   "outputs": [],
   "source": [
    "lhs_label = r'$m_Ma_{MN}$'\n",
    "rhs_label = r'$ F_{NM} + F_{CN}$'\n",
    "\n",
    "lhs = m_M*a_MN\n",
    "\n",
    "rhs = F_NM+F_CN\n",
    "\n",
    "plot_eq(lhs, lhs_label, rhs, rhs_label, finish_plotting=False)\n",
    "update_error(lhs, lhs_label, rhs, rhs_label)"
   ]
  },
  {
   "cell_type": "markdown",
   "metadata": {},
   "source": [
    "### $a_{LT} = -\\frac{w_L}{2}\\dot\\theta_L^2$"
   ]
  },
  {
   "cell_type": "code",
   "execution_count": null,
   "metadata": {},
   "outputs": [],
   "source": [
    "lhs_label = r'$a_{LT}$'\n",
    "rhs_label = r'$-\\frac{w_L}{2}\\dot\\theta^2$'\n",
    "\n",
    "lhs = a_LT\n",
    "\n",
    "rhs = -(w_L/2)*d_theta_L**2\n",
    "\n",
    "plot_eq(lhs, lhs_label, rhs, rhs_label)\n",
    "update_error(lhs, lhs_label, rhs, rhs_label)"
   ]
  },
  {
   "cell_type": "markdown",
   "metadata": {},
   "source": [
    "### $a_{LN} = \\frac{w_L}{2}\\ddot\\theta$"
   ]
  },
  {
   "cell_type": "code",
   "execution_count": null,
   "metadata": {},
   "outputs": [],
   "source": [
    "lhs_label = r'$a_{LN}$'\n",
    "rhs_label = r'$\\frac{w_L}{2}\\ddot\\theta$'\n",
    "\n",
    "lhs = a_LN\n",
    "\n",
    "rhs = dd_theta_L*w_L/2\n",
    "\n",
    "plot_eq(lhs, lhs_label, rhs, rhs_label, rhs_alpha=0.2, finish_plotting=False)\n",
    "update_error(lhs, lhs_label, rhs, rhs_label)"
   ]
  },
  {
   "cell_type": "markdown",
   "metadata": {},
   "source": [
    "### $I_L\\ddot\\theta_L = -\\frac{w_L}{2}F_{ON} + \\frac{h_L}{2}F_{FL} + (p_{CT}-p_{LT})F_{NL}$"
   ]
  },
  {
   "cell_type": "code",
   "execution_count": null,
   "metadata": {},
   "outputs": [],
   "source": [
    "lhs_label = r'$I_L\\ddot\\theta$'\n",
    "rhs_label = r'$-\\frac{w_L}{2}F_{ON} + \\frac{h_L}{2}F_{FL} + (p_{CT}-p_{LT})F_{NL}$'\n",
    "\n",
    "lhs = I_L*dd_theta_L\n",
    "\n",
    "rhs = (-w_L/2)*F_ON + (h_L/2)*F_FL + (p_CT-p_LT)*F_NL\n",
    "\n",
    "plot_eq(lhs, lhs_label, rhs, rhs_label, finish_plotting=False)\n",
    "update_error(lhs, lhs_label, rhs, rhs_label)"
   ]
  },
  {
   "cell_type": "markdown",
   "metadata": {},
   "source": [
    "### $I_M\\ddot\\theta_M = \\tau_M-F_{FM}r$"
   ]
  },
  {
   "cell_type": "code",
   "execution_count": null,
   "metadata": {
    "scrolled": false
   },
   "outputs": [],
   "source": [
    "lhs = I_M*dd_theta_M\n",
    "lhs_label = r'$I_M\\ddot\\theta_M$'\n",
    "rhs = tau_M-F_FM*r\n",
    "rhs_label = r\"$\\tau_M-F_{FM}r$\"\n",
    "plot_eq(lhs, lhs_label, rhs, rhs_label, finish_plotting=False)#, plot_err_as_pct=True)\n",
    "update_error(lhs, lhs_label, rhs, rhs_label)"
   ]
  },
  {
   "cell_type": "markdown",
   "metadata": {},
   "source": [
    "### $F_{NL} = -F_{NM}$"
   ]
  },
  {
   "cell_type": "code",
   "execution_count": null,
   "metadata": {
    "scrolled": false
   },
   "outputs": [],
   "source": [
    "lhs_label = r'$F_{NL}$'\n",
    "rhs_label = r'$-F_{NM}$'\n",
    "\n",
    "lhs = F_NL\n",
    "\n",
    "rhs = -F_NM\n",
    "\n",
    "plot_eq(lhs, lhs_label, rhs, rhs_label, finish_plotting=False)\n",
    "update_error(lhs, lhs_label, rhs, rhs_label)"
   ]
  },
  {
   "cell_type": "markdown",
   "metadata": {},
   "source": [
    "### $-\\ddot\\theta_L h_L/2 - \\ddot\\theta_L r + \\dot\\theta_L^2 w_L/2 - a_{LT} + a_{MT} = -\\ddot\\theta_L {d}_N + \\ddot{d}_T - \\dot\\theta_L^2 {d}_T - 2\\dot\\theta_L \\dot{d}_N$"
   ]
  },
  {
   "cell_type": "code",
   "execution_count": null,
   "metadata": {
    "scrolled": false
   },
   "outputs": [],
   "source": [
    "lhs = -dd_theta_L*(h_L/2+r) + d_theta_L**2*w_L/2 - a_LT + a_MT_diff\n",
    "lhs_label = r\"$-\\ddot\\theta_L h_L/2 - \\ddot\\theta_L r + \\dot\\theta_L^2 w_L/2 - a_{LT} + a_{MT}$\"\n",
    "\n",
    "rhs = -dd_theta_L*d_N + dd_d_T - d_theta_L**2*d_T - 2*d_theta_L*d_d_N\n",
    "rhs_label = r\"$-\\ddot\\theta_L {d}_N + \\ddot{d}_T - \\dot\\theta_L^2 {d}_T - 2\\dot\\theta_L \\dot{d}_N$\"\n",
    "\n",
    "plot_eq(lhs, lhs_label, rhs, rhs_label, finish_plotting=False, plot_err_as_pct=False, rhs_alpha=0.1)\n",
    "update_error(lhs, lhs_label, rhs, rhs_label)"
   ]
  },
  {
   "cell_type": "markdown",
   "metadata": {},
   "source": [
    "#### Supporting plots"
   ]
  },
  {
   "cell_type": "code",
   "execution_count": null,
   "metadata": {},
   "outputs": [],
   "source": [
    "plot_eq(slip_speed * np.sign(dd_d_T), \"$v_s$\", moving_average(dd_d_T, 100), \"d_d_T\", rhs_alpha=0.1, finish_plotting=False)\n",
    "# plt.ylim(-10, 10)"
   ]
  },
  {
   "cell_type": "markdown",
   "metadata": {},
   "source": [
    "##### Position"
   ]
  },
  {
   "cell_type": "code",
   "execution_count": null,
   "metadata": {},
   "outputs": [],
   "source": [
    "lhs = d_T\n",
    "lhs_label = \"$d_T$\"\n",
    "rhs = p_MT - (p_LT + w_L/2)\n",
    "rhs_label = \"$p_{MT} - (p_{LT} + w_L/2)$\"\n",
    "plot_eq(lhs, lhs_label, rhs, rhs_label, finish_plotting=False, plot_err_as_pct=False)"
   ]
  },
  {
   "cell_type": "code",
   "execution_count": null,
   "metadata": {},
   "outputs": [],
   "source": [
    "lhs = d_N\n",
    "lhs_label = \"$d_N$\"\n",
    "rhs = p_MN + r - (p_LN - h_L/2)\n",
    "rhs_label = \"$p_{MN} + r - (p_{LN} - h_L/2)$\"\n",
    "plot_eq(lhs, lhs_label, rhs, rhs_label, finish_plotting=False, plot_err_as_pct=False)"
   ]
  },
  {
   "cell_type": "markdown",
   "metadata": {},
   "source": [
    "#### Velocity"
   ]
  },
  {
   "cell_type": "code",
   "execution_count": null,
   "metadata": {},
   "outputs": [],
   "source": [
    "lhs = -d_theta_L*d_N + moving_average(d_d_T_diff, 10)\n",
    "lhs_label = r\"$-\\dot\\theta_L {d}_N + \\dot{d}_T$\"\n",
    "rhs = -d_theta_L*(h_L/2+r)-v_LT+v_MT\n",
    "rhs_label = r\"$-\\dot\\theta_L h_L/2 - \\dot\\theta_L r - v_{LT} + v_{MT}$\"\n",
    "plot_eq(lhs, lhs_label, rhs, rhs_label, finish_plotting=False, plot_err_as_pct=False)"
   ]
  },
  {
   "cell_type": "code",
   "execution_count": null,
   "metadata": {},
   "outputs": [],
   "source": [
    "lhs = d_theta_L*d_T + moving_average(d_d_N_diff, 10)\n",
    "lhs_label = r\"$-\\dot\\theta_L {d}_T + \\dot{d}_N$\"\n",
    "rhs = -d_theta_L*(w_L/2)-v_LN+v_MN\n",
    "rhs_label = r\"$-\\dot\\theta_L w_L/2 - v_{LN} + v_{MN}$\"\n",
    "plot_eq(lhs, lhs_label, rhs, rhs_label, finish_plotting=False, plot_err_as_pct=False)"
   ]
  },
  {
   "cell_type": "markdown",
   "metadata": {},
   "source": [
    "##### Error components"
   ]
  },
  {
   "cell_type": "code",
   "execution_count": null,
   "metadata": {},
   "outputs": [],
   "source": [
    "plt.figure(figsize=(16,8))\n",
    "plt.plot(l_times[idx_start:idx_end], moving_average(a_MT, 100)[idx_start:idx_end], linewidth=5, label=r\"$a_{MT}$\")\n",
    "plt.plot(l_times[idx_start:idx_end], (-dd_theta_L*(h_L/2+r-d_N))[idx_start:idx_end], linewidth=5, label=r\"$-\\ddot\\theta_L\\left(h_L/2+r-d_N\\right)$\")\n",
    "plt.plot(l_times[idx_start:idx_end], (d_theta_L**2*(w_L/2+d_T))[idx_start:idx_end], linewidth=5, label=r\"$\\dot\\theta_L^2\\left(w_L+d_T\\right)$\")\n",
    "plt.plot(l_times[idx_start:idx_end], (a_LT)[idx_start:idx_end], linewidth=5, label=r\"$a_{LT}$\")\n",
    "plt.plot(l_times[idx_start:idx_end], (d_theta_L*d_d_N)[idx_start:idx_end], linewidth=5, label=r\"$\\dot\\theta\\dot d_N$\")\n",
    "plt.legend()\n",
    "plt.autoscale(enable=True, axis='x', tight=True)"
   ]
  },
  {
   "cell_type": "code",
   "execution_count": null,
   "metadata": {},
   "outputs": [],
   "source": [
    "plt.figure(figsize=(16,8))\n",
    "\n",
    "# plt.plot(l_times[idx_start:idx_end], minus_mean(a_MT[idx_start:idx_end]), lw=5, label=r\"$a_{MT}$\")\n",
    "\n",
    "# plt.plot(l_times[idx_start:idx_end], minus_mean(dd_theta_L[idx_start:idx_end]), lw=5,label=r\"$\\ddot\\theta_L$\")\n",
    "# plt.plot(l_times[idx_start:idx_end], minus_mean(dd_theta_M[idx_start:idx_end]), lw=5, label=r\"$\\ddot\\theta_M$\")\n",
    "\n",
    "# plt.plot(l_times[idx_start:idx_end], minus_mean(a_LT[idx_start:idx_end]), lw=5, label=r\"$a_{LT}$\")\n",
    "# plt.plot(l_times[idx_start:idx_end], minus_mean(a_MN[idx_start:idx_end]), lw=5, label=r\"$a_{MN}$\")\n",
    "# plt.plot(l_times[idx_start:idx_end], minus_mean(a_LN[idx_start:idx_end]), lw=5, label=r\"$a_{LN}$\")\n",
    "\n",
    "plt.autoscale(enable=True, axis='x', tight=True)\n",
    "plt.plot(l_times[idx_start:idx_end],\n",
    "         (moving_average(-dd_theta_L*h_L/2 - dd_theta_L*r + d_theta_L**2*w_L/2 - a_LT + a_MT, 10)\n",
    "         -\n",
    "         moving_average(-dd_theta_L*d_N + dd_d_T - d_theta_L**2*d_T - 2*d_theta_L*d_d_N, 10))[\n",
    "             idx_start:idx_end],\n",
    "         lw=5, label=\"Error\", color='black')\n",
    "plt.legend()\n",
    "plt.show()"
   ]
  },
  {
   "cell_type": "code",
   "execution_count": null,
   "metadata": {},
   "outputs": [],
   "source": [
    "def minus_mean(arr):\n",
    "    return arr - np.mean(arr)"
   ]
  },
  {
   "cell_type": "markdown",
   "metadata": {},
   "source": [
    "### $-\\ddot\\theta_L w_L/2 - \\dot\\theta_L^2 h_L/2 - \\dot\\theta_L^2 r - a_{LN} + a_{MN} = \\ddot\\theta_L {d}_T + \\ddot{d}_N - \\dot\\theta_L^2 {d}_N + 2 \\dot\\theta_L \\dot{d}_T$"
   ]
  },
  {
   "cell_type": "code",
   "execution_count": null,
   "metadata": {},
   "outputs": [],
   "source": [
    "lhs = -dd_theta_L*w_L/2 - d_theta_L**2*h_L/2 - d_theta_L**2*r - a_LN + a_MN\n",
    "lhs_label = r\"$-\\ddot\\theta_L w_L/2 - \\dot\\theta_L^2 h_L/2 - \\dot\\theta_L^2 r - a_{LN} + a_{MN}$ (differentiating geometry)\"\n",
    "\n",
    "rhs = dd_theta_L*d_T + dd_d_N - d_theta_L**2*d_N + 2*d_theta_L*d_d_T\n",
    "rhs_label = r\"$\\ddot\\theta_L {d}_T + \\ddot{d}_N - \\dot\\theta_L^2 {d}_N + 2 \\dot\\theta_L \\dot{d}_T$ (differentiating vector)\"\n",
    "\n",
    "plot_eq(lhs, lhs_label, rhs, rhs_label, finish_plotting=False, plot_err_as_pct=True)\n",
    "\n",
    "lhs_label = r\"$-\\ddot\\theta_L w_L/2 - \\dot\\theta_L^2 h_L/2 - \\dot\\theta_L^2 r - a_{LN} + a_{MN}$\"\n",
    "rhs_label = r\"$\\ddot\\theta_L {d}_T + \\ddot{d}_N - \\dot\\theta_L^2 {d}_N + 2 \\dot\\theta_L \\dot{d}_T$\"\n",
    "update_error(lhs, lhs_label, rhs, rhs_label)\n",
    "plt.show()"
   ]
  },
  {
   "cell_type": "code",
   "execution_count": null,
   "metadata": {},
   "outputs": [],
   "source": [
    "lhs = moving_average(diff_arr(d_theta_L), 100)\n",
    "lhs_label = r\"diff res\"\n",
    "\n",
    "rhs = dd_theta_L\n",
    "rhs_label = r\"actual\"\n",
    "\n",
    "plot_eq(lhs, lhs_label, rhs, rhs_label, finish_plotting=False, plot_err_as_pct=True)\n",
    "plt.plot(l_times, moving_average(dd_d_N, 100))\n",
    "plt.ylim(-500, 100)\n",
    "plt.show()"
   ]
  },
  {
   "cell_type": "markdown",
   "metadata": {},
   "source": [
    "## Plot errors"
   ]
  },
  {
   "cell_type": "code",
   "execution_count": null,
   "metadata": {},
   "outputs": [],
   "source": [
    "plt.figure(figsize=(16,8))\n",
    "plt.barh(labels[::-1], max_errors[::-1])\n",
    "plt.show()"
   ]
  },
  {
   "cell_type": "code",
   "execution_count": null,
   "metadata": {
    "scrolled": false
   },
   "outputs": [],
   "source": [
    "plt.figure(figsize=(16,16))\n",
    "for err, lab in zip(errors[:], labels[:]):\n",
    "    plt.plot(l_times[idx_start:idx_end], err, label=lab)\n",
    "plt.autoscale(enable=True, axis='x', tight=True)\n",
    "plt.legend(bbox_to_anchor=(0, -0.5), loc='lower left')\n",
    "plt.show()"
   ]
  },
  {
   "cell_type": "code",
   "execution_count": null,
   "metadata": {},
   "outputs": [],
   "source": [
    "plt.figure(figsize=(16,8))\n",
    "# plt.plot(l_times[idx_start:idx_end], errors[0], label=labels[0])\n",
    "# plt.plot(l_times[idx_start:idx_end], errors[1], label=labels[1])\n",
    "plt.plot(l_times[idx_start:idx_end], errors[2], label=labels[2])\n",
    "# plt.plot(l_times[idx_start:idx_end], errors[3], label=labels[3])\n",
    "# plt.plot(l_times[idx_start:idx_end], errors[4], label=labels[4])\n",
    "# plt.plot(l_times[idx_start:idx_end], errors[5], label=labels[5])\n",
    "# plt.plot(l_times[idx_start:idx_end], errors[6], label=labels[6])\n",
    "# plt.plot(l_times[idx_start:idx_end], errors[7], label=labels[7])\n",
    "# plt.plot(l_times[idx_start:idx_end], errors[8], label=labels[8])\n",
    "\n",
    "plt.plot(l_times[idx_start:idx_end], errors[9], label=labels[9])\n",
    "\n",
    "# plt.plot(l_times[idx_start:idx_end], errors[10], label=labels[10])\n",
    "plt.autoscale(enable=True, axis='x', tight=True)\n",
    "plt.legend()\n",
    "plt.show()"
   ]
  },
  {
   "cell_type": "markdown",
   "metadata": {},
   "source": [
    "## Plots (artificial constraints)\n",
    "These will only be satisfied if the controller is successful."
   ]
  },
  {
   "cell_type": "markdown",
   "metadata": {},
   "source": [
    "### $F_{FL} = 0$"
   ]
  },
  {
   "cell_type": "code",
   "execution_count": null,
   "metadata": {},
   "outputs": [],
   "source": [
    "lhs_label = r'$F_{FL}$'\n",
    "rhs_label = r'0'\n",
    "\n",
    "lhs = F_FL\n",
    "\n",
    "rhs = 0\n",
    "\n",
    "plot_eq(lhs, lhs_label, rhs, rhs_label)"
   ]
  },
  {
   "cell_type": "markdown",
   "metadata": {},
   "source": [
    "### $a_{LN} = a_{Nd}$"
   ]
  },
  {
   "cell_type": "code",
   "execution_count": null,
   "metadata": {},
   "outputs": [],
   "source": [
    "lhs_label = r'$a_{LN}$'\n",
    "rhs_label = r'$a_{Nd}$'\n",
    "\n",
    "lhs = a_LN\n",
    "\n",
    "rhs = a_Nd\n",
    "\n",
    "plot_eq(lhs, lhs_label, rhs, rhs_label)"
   ]
  },
  {
   "cell_type": "markdown",
   "metadata": {},
   "source": [
    "# dump"
   ]
  },
  {
   "cell_type": "markdown",
   "metadata": {},
   "source": [
    "### $a_{MT}-a_{LT} + \\ddot\\theta_L p_{LConL, N}- \\ddot\\theta_M p_{MConM, N}\n",
    "     =\n",
    "    \\dot\\theta_L\\left(v_{LN}-v_{WConM, N}\\right)\n",
    "    +\n",
    "    \\dot\\theta_M\\left(v_{WConM, N} - v_{MN}\\right)$"
   ]
  },
  {
   "cell_type": "code",
   "execution_count": null,
   "metadata": {
    "scrolled": true
   },
   "outputs": [],
   "source": [
    "lhs = moving_average(a_MT-a_LT + dd_theta_L*p_LConLN- dd_theta_M*p_LConLN, 10)\n",
    "lhs_label = r\"$a_{MT}-a_{LT} + \\ddot\\theta_L p_{LConL, N}- \\ddot\\theta_M p_{MConM, N}$\"\n",
    "rhs = d_theta_L*(v_LN-v_WConMN) + d_theta_M*(v_WConMN - v_MN)\n",
    "rhs_label = r\"\\dot\\theta_L\\left(v_{LN}-v_{WConM, N}\\right) + \\dot\\theta_M\\left(v_{WConM, N} - v_{MN}\\right)$\"\n",
    "\n",
    "plot_eq(lhs, lhs_label, rhs, rhs_label)"
   ]
  },
  {
   "cell_type": "markdown",
   "metadata": {},
   "source": [
    "### $\\bar d_{T}\\ddot\\theta +2\\dot d_T\\dot\\theta= a_{MN} - a_{LN} - \\frac{w_L}{2}\\ddot\\theta - \\left(r+ \\frac{h_L}{2}\\right)\\dot\\theta^2$"
   ]
  },
  {
   "cell_type": "code",
   "execution_count": null,
   "metadata": {},
   "outputs": [],
   "source": [
    "plot_vec(p_C, \"$p_C$\", p_M + r*N_hats, r\"$p_M +r\\hat N$\")"
   ]
  },
  {
   "cell_type": "code",
   "execution_count": null,
   "metadata": {},
   "outputs": [],
   "source": [
    "lhs_label = r'$\\bar d_{T}\\ddot\\theta +2\\dot d_T\\dot\\theta$'\n",
    "rhs_label = r'$a_{MN} - a_{LN} - \\frac{w_L}{2}\\ddot\\theta - \\left(r+ \\frac{h_L}{2}\\right)\\dot\\theta^2$'\n",
    "\n",
    "lhs = bar_d_T*dd_theta_L+2*d_d_T*d_theta_L\n",
    "\n",
    "rhs = a_MN-a_LN-w_L*dd_theta_L/2-(r+h_L/2)*d_theta_L**2\n",
    "\n",
    "plot_eq(lhs, lhs_label, rhs, rhs_label)"
   ]
  },
  {
   "cell_type": "markdown",
   "metadata": {},
   "source": [
    "### $ \\ddot d_T - \\bar d_{T} \\dot\\theta^2  = a_{MT} - a_{LT} - \\left(r+ \\frac{h_L}{2}\\right)\\ddot\\theta + \\frac{w_L}{2}\\dot\\theta^2$"
   ]
  },
  {
   "cell_type": "code",
   "execution_count": null,
   "metadata": {},
   "outputs": [],
   "source": [
    "lhs_label = r'$\\bar d_{T} \\dot\\theta^2+\\ddot d_T$'\n",
    "rhs_label = r'$a_{MT} - a_{LT} - \\left(r+ \\frac{h_L}{2}\\right)\\ddot\\theta + \\frac{w_L}{2}\\dot\\theta^2$'\n",
    "\n",
    "lhs = -d_T*d_theta**2+dd_d_T\n",
    "\n",
    "rhs = a_MT-a_LT-(r+h_L/2)*dd_theta+(w_L/2)*d_theta**2\n",
    "\n",
    "plot_eq(lhs, lhs_label, rhs, rhs_label, finish_plotting=False)\n",
    "\n",
    "plt.legend()\n",
    "plt.show()"
   ]
  },
  {
   "cell_type": "markdown",
   "metadata": {},
   "source": [
    "### $F_{FL} = -F_{FM}$"
   ]
  },
  {
   "cell_type": "code",
   "execution_count": null,
   "metadata": {
    "scrolled": false
   },
   "outputs": [],
   "source": [
    "lhs_label = r'$F_{FL}$'\n",
    "rhs_label = r'$-F_{FM}$'\n",
    "\n",
    "lhs = F_FL\n",
    "\n",
    "rhs = -F_FM\n",
    "\n",
    "plot_eq(lhs, lhs_label, rhs, rhs_label, rhs_alpha=0.5)"
   ]
  },
  {
   "cell_type": "markdown",
   "metadata": {},
   "source": [
    "# Debugging $\\vec d_T$ plots 1"
   ]
  },
  {
   "cell_type": "markdown",
   "metadata": {},
   "source": [
    "## Velocity formulas "
   ]
  },
  {
   "cell_type": "code",
   "execution_count": null,
   "metadata": {},
   "outputs": [],
   "source": [
    "d_vec = p_C - p_LE + pen_vec/2\n",
    "d_T = np.matmul(np.transpose(T_hats, [0, 2, 1]), vec).flatten()\n",
    "d_N = np.matmul(np.transpose(N_hats, [0, 2, 1]), vec).flatten()"
   ]
  },
  {
   "cell_type": "code",
   "execution_count": null,
   "metadata": {},
   "outputs": [],
   "source": [
    "d_T.shape"
   ]
  },
  {
   "cell_type": "code",
   "execution_count": null,
   "metadata": {},
   "outputs": [],
   "source": [
    "d_d_T = np.diff(d_T)/np.diff(l_times)\n",
    "d_d_T = np.concatenate((d_d_T, [d_d_T[-1]]))\n",
    "d_d_N = np.diff(d_N)/np.diff(l_times)\n",
    "d_d_N = np.concatenate((d_d_N, [d_d_N[-1]]))"
   ]
  },
  {
   "cell_type": "code",
   "execution_count": null,
   "metadata": {},
   "outputs": [],
   "source": [
    "d_d_vec = diff_vec(d_vec)\n",
    "d_d_vec_T = get_T_proj(d_d_vec)\n",
    "d_d_vec_N = get_N_proj(d_d_vec)"
   ]
  },
  {
   "cell_type": "code",
   "execution_count": null,
   "metadata": {},
   "outputs": [],
   "source": [
    "dd_d_T = np.diff(d_d_T)/np.diff(l_times)\n",
    "dd_d_T = np.concatenate((dd_d_T, [dd_d_T[-1]]))\n",
    "dd_d_N = np.diff(d_d_N)/np.diff(l_times)\n",
    "dd_d_N = np.concatenate((dd_d_N, [dd_d_N[-1]]))"
   ]
  },
  {
   "cell_type": "code",
   "execution_count": null,
   "metadata": {},
   "outputs": [],
   "source": [
    "def vel(w_T, w_N, d_w_T, d_w_N, d_theta):\n",
    "    T_comp = d_w_T-w_N*d_theta\n",
    "    N_comp = d_w_N + w_T*d_theta\n",
    "    return T_comp, N_comp"
   ]
  },
  {
   "cell_type": "code",
   "execution_count": null,
   "metadata": {},
   "outputs": [],
   "source": [
    "d_d_T_form, d_d_N_form = vel(d_T, d_N, d_d_T, d_d_N, d_theta)"
   ]
  },
  {
   "cell_type": "code",
   "execution_count": null,
   "metadata": {},
   "outputs": [],
   "source": [
    "plot_eq(d_d_T_form, \"Fomula\", d_d_vec_T, \"Measured\")"
   ]
  },
  {
   "cell_type": "code",
   "execution_count": null,
   "metadata": {},
   "outputs": [],
   "source": [
    "plot_eq(d_d_N_form, \"Fomula\", d_d_vec_N, \"Measured\")"
   ]
  },
  {
   "cell_type": "markdown",
   "metadata": {},
   "source": [
    "## Accel formulas"
   ]
  },
  {
   "cell_type": "code",
   "execution_count": null,
   "metadata": {},
   "outputs": [],
   "source": [
    "def acc(w_T, w_N, d_w_T, d_w_N, dd_w_T, dd_w_N, d_theta, dd_theta):\n",
    "    T_comp = dd_w_T-2*d_w_N*d_theta-w_N*dd_theta-w_T*d_theta**2\n",
    "    N_comp = dd_w_N+2*d_w_T*d_theta+w_T*dd_theta-w_N*d_theta**2\n",
    "    return T_comp, N_comp"
   ]
  },
  {
   "cell_type": "code",
   "execution_count": null,
   "metadata": {},
   "outputs": [],
   "source": [
    "dd_d_T_form, dd_d_N_form = acc(d_T, d_N, d_d_T, d_d_N, dd_d_T, dd_d_N, d_theta,dd_theta)"
   ]
  },
  {
   "cell_type": "code",
   "execution_count": null,
   "metadata": {},
   "outputs": [],
   "source": [
    "plot_eq(dd_d_T_form, \"Fomula\", dd_d_vec_T, \"Measured\")"
   ]
  },
  {
   "cell_type": "code",
   "execution_count": null,
   "metadata": {},
   "outputs": [],
   "source": [
    "plot_eq(dd_d_N_form, \"Fomula\", dd_d_vec_N, \"Measured\")"
   ]
  },
  {
   "cell_type": "code",
   "execution_count": null,
   "metadata": {},
   "outputs": [],
   "source": [
    "vec = p_M - p_L + (r+h_L/2)*N_hats - (w_L/2)*T_hats\n",
    "plot_vec(d_vec, r\"$\\vec d$\", vec, r\"$p_M - p_L + \\left(r+\\frac{h_L}{2}\\right)\\hat N -\\frac{w_L}{2}\\hat T$\")"
   ]
  },
  {
   "cell_type": "code",
   "execution_count": null,
   "metadata": {},
   "outputs": [],
   "source": [
    "vec"
   ]
  },
  {
   "cell_type": "markdown",
   "metadata": {},
   "source": [
    "# Debugging $\\vec d_T$ plots 2"
   ]
  },
  {
   "cell_type": "markdown",
   "metadata": {},
   "source": [
    "## $\\hat T$ component of $\\vec d_T$"
   ]
  },
  {
   "cell_type": "code",
   "execution_count": null,
   "metadata": {},
   "outputs": [],
   "source": [
    "lhs_label = r'$d_T$'\n",
    "rhs_label = r'$p_{MT}-p_{LT}+w_L/2$'\n",
    "lhs = d_T\n",
    "rhs = p_MT-p_LT - (w_L)/2\n",
    "\n",
    "plot_eq(lhs, lhs_label, rhs, rhs_label)"
   ]
  },
  {
   "cell_type": "markdown",
   "metadata": {},
   "source": [
    "## $\\hat N$ component of $\\vec d_T$"
   ]
  },
  {
   "cell_type": "code",
   "execution_count": null,
   "metadata": {},
   "outputs": [],
   "source": [
    "lhs_label = r'$0$'\n",
    "rhs_label = r'$p_{MN}-p_{LN}+r+h_l/2$'\n",
    "lhs = d_N\n",
    "rhs = p_MN-(p_LN - (h_L)/2)+r\n",
    "\n",
    "plot_eq(lhs, lhs_label, rhs, rhs_label, finish_plotting=False)\n",
    "plt.show()"
   ]
  },
  {
   "cell_type": "markdown",
   "metadata": {},
   "source": [
    "These differ by penetration depth."
   ]
  },
  {
   "cell_type": "markdown",
   "metadata": {},
   "source": [
    "## $\\hat T$ component of $\\frac{d}{dt}\\left(\\vec d_T\\right)$"
   ]
  },
  {
   "cell_type": "code",
   "execution_count": null,
   "metadata": {},
   "outputs": [],
   "source": [
    "# lhs_label = r'$\\dot d_T$'\n",
    "# rhs_label = r'$v_{MT}-v_{LT}-\\frac{\\dot\\theta}{2}\\left(2r + h_L\\right)$'\n",
    "# lhs = d_d_T\n",
    "# rhs = v_MT-v_LT-d_theta*(2*r+h_L)/2\n",
    "\n",
    "# plot_eq(lhs, lhs_label, rhs, rhs_label, finish_plotting=False)"
   ]
  },
  {
   "cell_type": "code",
   "execution_count": null,
   "metadata": {},
   "outputs": [],
   "source": [
    "# lhs_label = r'$\\dot d_T$'\n",
    "# rhs_label = r'$v_{MT}-v_{LT}-\\frac{\\dot\\theta}{2}\\left(2r + h_L\\right)$'\n",
    "# lhs = d_d_T\n",
    "# rhs = v_MT-v_LT-d_theta*(2*r+h_L)/2\n",
    "\n",
    "# plot_eq(lhs, lhs_label, rhs, rhs_label, finish_plotting=False)"
   ]
  },
  {
   "cell_type": "markdown",
   "metadata": {},
   "source": [
    "## $\\hat N$ component of $\\frac{d}{dt}\\left(\\vec d_T\\right)$"
   ]
  },
  {
   "cell_type": "code",
   "execution_count": null,
   "metadata": {},
   "outputs": [],
   "source": [
    "lhs_label = r'$d_T\\dot\\theta$'\n",
    "rhs_label = r'$v_{MT}-v_{LT}-\\frac{\\dot\\theta}{2}\\left(2r + h_L\\right)$'\n",
    "lhs = d_T*d_theta\n",
    "rhs = v_MN-v_LN-d_theta*w_L/2\n",
    "\n",
    "plot_eq(lhs, lhs_label, rhs, rhs_label, finish_plotting=False)"
   ]
  },
  {
   "cell_type": "markdown",
   "metadata": {},
   "source": [
    "## $\\hat T$ component of $\\frac{d^2}{dt^2}\\left(\\vec d_T\\right)$"
   ]
  },
  {
   "cell_type": "code",
   "execution_count": null,
   "metadata": {},
   "outputs": [],
   "source": [
    "lhs_label = r'$\\ddot d_T-d_T\\dot\\theta^2$'\n",
    "rhs_label = r'$a_{MT}-a_{LT}-\\left(r+h_L/2\\right)\\ddot\\theta+w_l\\dot\\theta^2/2$'\n",
    "lhs = dd_d_T-d_T*d_theta**2\n",
    "rhs = a_MT-a_LT-dd_theta*(2*r+h_L)/2+(d_theta**2)*(w_L)/2\n",
    "\n",
    "plot_eq(lhs, lhs_label, rhs, rhs_label, finish_plotting=False)\n",
    "ylims = plt.ylim()\n",
    "plt.plot(l_times, moving_average(dd_d_T, 100), linewidth=5, \n",
    "         label=r'Measured $\\hat T$ component of $\\ddot{\\vec d}$', \n",
    "         color='green', zorder=0)\n",
    "plt.ylim(ylims)\n",
    "plt.legend()\n",
    "plt.show()"
   ]
  },
  {
   "cell_type": "markdown",
   "metadata": {},
   "source": [
    "## $\\hat N$ component of $\\frac{d^2}{dt^2}\\left(\\vec d_T\\right)$"
   ]
  },
  {
   "cell_type": "code",
   "execution_count": null,
   "metadata": {},
   "outputs": [],
   "source": [
    "lhs_label = r'$2\\dot d_T\\dot\\theta+d_T\\ddot\\theta$'\n",
    "rhs_label = r'$a_{MN}-a_{LN}-\\left(r+h_L/2\\right)\\ddot\\theta+w_l\\dot\\theta^2/2$'\n",
    "lhs = 2*d_d_T*d_theta + d_T*dd_theta\n",
    "rhs = a_MN-a_LN-dd_theta*w_L/2-(d_theta**2)*(r+h_L/2)\n",
    "\n",
    "plot_eq(lhs, lhs_label, rhs, rhs_label, finish_plotting=False)\n",
    "ylims = plt.ylim()\n",
    "plt.plot(l_times, moving_average(dd_d_N, 100), \n",
    "         label=r'Measured $\\hat N$ component of $\\ddot{\\vec d}$', \n",
    "         color='green', linewidth=5, zorder=0)\n",
    "plt.ylim(ylims)\n",
    "plt.legend()\n",
    "plt.show()"
   ]
  },
  {
   "cell_type": "markdown",
   "metadata": {},
   "source": [
    "# What's slip speed?\n",
    "Supposedly, `speed between body A and B at contact point C.`"
   ]
  },
  {
   "cell_type": "code",
   "execution_count": null,
   "metadata": {},
   "outputs": [],
   "source": [
    "v_S = np.matmul(\n",
    "    np.transpose(T_hats, [0, 2, 1]),\n",
    "    (v_WConM - v_WConL)\n",
    ")\n",
    "s_S = np.abs(v_S)"
   ]
  },
  {
   "cell_type": "code",
   "execution_count": null,
   "metadata": {},
   "outputs": [],
   "source": [
    "plt.figure(figsize=(16,8))\n",
    "ylims = plt.ylim()\n",
    "# plt.plot(l_times, v_C_L_T-v_C_M_T, linewidth=5)\n",
    "plt.plot(l_times, slip_speed, linewidth=5)\n",
    "plt.plot(l_times, s_S.flatten(), linewidth=5, linestyle=':')\n",
    "plt.autoscale(enable=True, axis='x', tight=True)\n",
    "plt.ylim(-1, 1)\n",
    "plt.show()"
   ]
  },
  {
   "cell_type": "code",
   "execution_count": null,
   "metadata": {},
   "outputs": [],
   "source": [
    "F_F = np.abs(F_FL)"
   ]
  },
  {
   "cell_type": "code",
   "execution_count": null,
   "metadata": {},
   "outputs": [],
   "source": [
    "def step5(x):\n",
    "    '''Python version of MultibodyPlant::StribeckModel::step5 method'''\n",
    "    x3 = x * x * x\n",
    "    return x3 * (10 + x * (6 * x - 15))\n",
    "\n",
    "def stribeck(us, uk, v):\n",
    "    '''\n",
    "    Python version of MultibodyPlant::StribeckModel::ComputeFrictionCoefficient\n",
    "    \n",
    "    From\n",
    "    https://github.com/RobotLocomotion/drake/blob/b09e40db4b1c01232b22f7705fb98aa99ef91f87/multibody/plant/images/stiction.py\n",
    "    '''\n",
    "    u = np.zeros_like(v) + uk\n",
    "    u[v < 1] = us * step5(v[v < 1])\n",
    "    mask = (v >= 1) & (v < 3)\n",
    "    u[mask] = us - (us - uk) * step5((v[mask] - 1) / 2)\n",
    "    return u"
   ]
  },
  {
   "cell_type": "code",
   "execution_count": null,
   "metadata": {},
   "outputs": [],
   "source": [
    "logger.data()[log_wrapper.contact_entry_start_idx+10,:]\n",
    "mus = stribeck(mu, mu, np.abs(s_S)/v_stiction).flatten()"
   ]
  },
  {
   "cell_type": "code",
   "execution_count": null,
   "metadata": {},
   "outputs": [],
   "source": [
    "mus.shape"
   ]
  },
  {
   "cell_type": "code",
   "execution_count": null,
   "metadata": {},
   "outputs": [],
   "source": [
    "F_NL.shape"
   ]
  },
  {
   "cell_type": "code",
   "execution_count": null,
   "metadata": {},
   "outputs": [],
   "source": [
    "F_F = F_NL*mus"
   ]
  },
  {
   "cell_type": "code",
   "execution_count": null,
   "metadata": {},
   "outputs": [],
   "source": [
    "plt.plot(l_times, mus)"
   ]
  },
  {
   "cell_type": "code",
   "execution_count": null,
   "metadata": {},
   "outputs": [],
   "source": [
    "plot_eq(F_F, \"Calculated\", F_FL, \"Measured\", finish_plotting=False)\n",
    "plt.ylim(-1, 3)"
   ]
  },
  {
   "cell_type": "code",
   "execution_count": null,
   "metadata": {},
   "outputs": [],
   "source": [
    "plt.figure(figsize=(16,8))\n",
    "plt.plot(l_times, F_NL*mus-F_FL, linewidth=5)\n",
    "plt.ylim(-2e-4,1e-7)\n",
    "plt.autoscale(enable=True, axis='x', tight=True)"
   ]
  },
  {
   "cell_type": "code",
   "execution_count": null,
   "metadata": {},
   "outputs": [],
   "source": [
    "(F_NL*mus-F_FL)[1000]"
   ]
  },
  {
   "cell_type": "markdown",
   "metadata": {},
   "source": [
    "## Change in slip speed"
   ]
  },
  {
   "cell_type": "markdown",
   "metadata": {},
   "source": [
    "### First step"
   ]
  },
  {
   "cell_type": "code",
   "execution_count": null,
   "metadata": {},
   "outputs": [],
   "source": [
    "a_WConL = diff_vec(v_WConL)\n",
    "a_WConM = diff_vec(v_WConM)"
   ]
  },
  {
   "cell_type": "code",
   "execution_count": null,
   "metadata": {},
   "outputs": [],
   "source": [
    "a_s_1 = \\\n",
    "    np.expand_dims(d_theta, [1, 2]) \\\n",
    "    * \\\n",
    "    np.matmul(\n",
    "        np.transpose(N_hats, [0, 2, 1]),\n",
    "        v_WConL - v_WConM\n",
    "    ) \\\n",
    "    + \\\n",
    "    np.matmul(\n",
    "        np.transpose(T_hats, [0, 2, 1]),\n",
    "        a_WConL - a_WConM\n",
    "    )\n",
    "a_s_1 = a_s_1.flatten()"
   ]
  },
  {
   "cell_type": "code",
   "execution_count": null,
   "metadata": {},
   "outputs": [],
   "source": [
    "lhs = a_s\n",
    "lhs_label = r\"$a_s$\"\n",
    "rhs = a_s_1\n",
    "rhs_label = r\"$\\dot\\theta\\hat N^T \\left(\\vec v_{WConL}-\\vec v_{WConM}\\right) + \\hat T^T \\left(\\vec a_{WConL}-\\vec a_{WConM}\\right)$\"\n",
    "\n",
    "plot_eq(lhs, lhs_label, rhs, rhs_label, finish_plotting=False, figsize_=(16,24))\n",
    "plt.xlim(0.049, 0.052)\n",
    "plt.ylim(-40, 40)"
   ]
  },
  {
   "cell_type": "markdown",
   "metadata": {},
   "source": [
    "### Velocity cross products"
   ]
  },
  {
   "cell_type": "markdown",
   "metadata": {},
   "source": [
    "The WCon terms are already calculated through cross products."
   ]
  },
  {
   "cell_type": "markdown",
   "metadata": {},
   "source": [
    "### Acceleration cross products"
   ]
  },
  {
   "cell_type": "code",
   "execution_count": null,
   "metadata": {},
   "outputs": [],
   "source": [
    "alpha_L = np.expand_dims(np.vstack((dd_theta_L, np.zeros_like(dd_theta_L), np.zeros_like(dd_theta_L))).T, 2)\n",
    "alpha_M = np.expand_dims(np.vstack((dd_theta_M, np.zeros_like(dd_theta_M), np.zeros_like(dd_theta_M))).T, 2)"
   ]
  },
  {
   "cell_type": "code",
   "execution_count": null,
   "metadata": {},
   "outputs": [],
   "source": [
    "a_L = diff_vec(v_L)\n",
    "a_M = diff_vec(v_M)"
   ]
  },
  {
   "cell_type": "code",
   "execution_count": null,
   "metadata": {},
   "outputs": [],
   "source": [
    "a_WConL_cross = a_L + \\\n",
    "    np.cross(alpha_L, p_C-p_L, axis=1) + \\\n",
    "    np.cross(omega_vec_L, v_WConL-v_L, axis=1)\n",
    "a_WConM_cross = a_M + \\\n",
    "    np.cross(alpha_M, p_C-p_M, axis=1) + \\\n",
    "    np.cross(omega_vec_M, v_WConL-v_M, axis=1)"
   ]
  },
  {
   "cell_type": "code",
   "execution_count": null,
   "metadata": {},
   "outputs": [],
   "source": [
    "a_s_2 = \\\n",
    "    np.expand_dims(d_theta, [1, 2]) \\\n",
    "    * \\\n",
    "    np.matmul(\n",
    "        np.transpose(N_hats, [0, 2, 1]),\n",
    "        v_WConL - v_WConM\n",
    "    ) \\\n",
    "    + \\\n",
    "    np.matmul(\n",
    "        np.transpose(T_hats, [0, 2, 1]),\n",
    "        a_WConL_cross - a_WConM_cross\n",
    "    )\n",
    "a_s_2 = a_s_2.flatten()"
   ]
  },
  {
   "cell_type": "code",
   "execution_count": null,
   "metadata": {},
   "outputs": [],
   "source": [
    "lhs = a_s\n",
    "lhs_label = r\"$a_s$\"\n",
    "rhs = a_s_2\n",
    "rhs_label = r\"$\\dot\\theta\\hat N^T \\left(\\vec v_{WConL}-\\vec v_{WConM}\\right) + \\hat T^T \\left(\\vec a_{WConL}-\\vec a_{WConM}\\right)$\"\n",
    "\n",
    "plot_eq(lhs, lhs_label, rhs, rhs_label)"
   ]
  },
  {
   "cell_type": "markdown",
   "metadata": {},
   "source": [
    "### Explicit cross products"
   ]
  },
  {
   "cell_type": "code",
   "execution_count": null,
   "metadata": {},
   "outputs": [],
   "source": [
    "alpha_cross_p_L = \\\n",
    "    np.expand_dims(\n",
    "    -dd_theta_L*p_LConLN,\n",
    "    [1, 2])*T_hats \\\n",
    "    + \\\n",
    "    np.expand_dims(\n",
    "    dd_theta_L*p_LConLT,\n",
    "    [1, 2])*N_hats"
   ]
  },
  {
   "cell_type": "code",
   "execution_count": null,
   "metadata": {},
   "outputs": [],
   "source": [
    "alpha_cross_p_M = \\\n",
    "    np.expand_dims(\n",
    "    -dd_theta_M*p_MConMN,\n",
    "    [1, 2])*T_hats \\\n",
    "    + \\\n",
    "    np.expand_dims(\n",
    "    dd_theta_M*p_MConMT,\n",
    "    [1, 2])*N_hats"
   ]
  },
  {
   "cell_type": "code",
   "execution_count": null,
   "metadata": {},
   "outputs": [],
   "source": [
    "a_WConL_cross_alpha = a_L + \\\n",
    "    alpha_cross_p_L + \\\n",
    "    np.cross(omega_vec_L, v_WConL-v_L, axis=1)\n",
    "a_WConM_cross_alpha = a_M + \\\n",
    "    alpha_cross_p_M + \\\n",
    "    np.cross(omega_vec_M, v_WConL-v_M, axis=1)"
   ]
  },
  {
   "cell_type": "code",
   "execution_count": null,
   "metadata": {},
   "outputs": [],
   "source": [
    "a_s_3 = \\\n",
    "    np.expand_dims(d_theta, [1, 2]) \\\n",
    "    * \\\n",
    "    np.matmul(\n",
    "        np.transpose(N_hats, [0, 2, 1]),\n",
    "        v_WConL - v_WConM\n",
    "    ) \\\n",
    "    + \\\n",
    "    np.matmul(\n",
    "        np.transpose(T_hats, [0, 2, 1]),\n",
    "        a_WConL_cross_alpha - a_WConM_cross_alpha\n",
    "    )\n",
    "a_s_3 = a_s_3.flatten()"
   ]
  },
  {
   "cell_type": "code",
   "execution_count": null,
   "metadata": {},
   "outputs": [],
   "source": [
    "lhs = a_s\n",
    "lhs_label = r\"$a_s$\"\n",
    "rhs = a_s_3\n",
    "rhs_label = r\"$\\dot\\theta\\hat N^T \\left(\\vec v_{WConL}-\\vec v_{WConM}\\right) + \\hat T^T \\left(\\vec a_{WConL}-\\vec a_{WConM}\\right)$\"\n",
    "\n",
    "plot_eq(lhs, lhs_label, rhs, rhs_label)"
   ]
  },
  {
   "cell_type": "markdown",
   "metadata": {},
   "source": [
    "### Omega cross v"
   ]
  },
  {
   "cell_type": "code",
   "execution_count": null,
   "metadata": {},
   "outputs": [],
   "source": [
    "omega_cross_v_L = \\\n",
    "    np.expand_dims(\n",
    "    -d_theta_L*(v_WConLN-v_LN),\n",
    "    [1, 2])*T_hats \\\n",
    "    + \\\n",
    "    np.expand_dims(\n",
    "    d_theta_L*(v_WConLT-v_LT),\n",
    "    [1, 2])*N_hats"
   ]
  },
  {
   "cell_type": "code",
   "execution_count": null,
   "metadata": {},
   "outputs": [],
   "source": [
    "omega_cross_v_M = \\\n",
    "    np.expand_dims(\n",
    "    -d_theta_M*(v_WConMN-v_MN),\n",
    "    [1, 2])*T_hats \\\n",
    "    + \\\n",
    "    np.expand_dims(\n",
    "    d_theta_M*(v_WConMT-v_MT),\n",
    "    [1, 2])*N_hats"
   ]
  },
  {
   "cell_type": "code",
   "execution_count": null,
   "metadata": {},
   "outputs": [],
   "source": [
    "a_WConL_cross_sum = a_L+alpha_cross_p_L+omega_cross_v_L\n",
    "a_WConM_cross_sum = a_M+alpha_cross_p_M+omega_cross_v_M"
   ]
  },
  {
   "cell_type": "code",
   "execution_count": null,
   "metadata": {},
   "outputs": [],
   "source": [
    "a_s_4 = \\\n",
    "    np.expand_dims(d_theta, [1, 2]) \\\n",
    "    * \\\n",
    "    np.matmul(\n",
    "        np.transpose(N_hats, [0, 2, 1]),\n",
    "        v_WConL - v_WConM\n",
    "    ) \\\n",
    "    + \\\n",
    "    np.matmul(\n",
    "        np.transpose(T_hats, [0, 2, 1]),\n",
    "        a_WConL_cross_sum - a_WConM_cross_sum\n",
    "    )\n",
    "a_s_4 = a_s_4.flatten()"
   ]
  },
  {
   "cell_type": "code",
   "execution_count": null,
   "metadata": {},
   "outputs": [],
   "source": [
    "lhs = a_s\n",
    "lhs_label = r\"$a_s$\"\n",
    "rhs = a_s_4\n",
    "rhs_label = 'as4'\n",
    "plot_eq(lhs, lhs_label, rhs, rhs_label)"
   ]
  },
  {
   "cell_type": "markdown",
   "metadata": {},
   "source": [
    "### Explicit accel projects"
   ]
  },
  {
   "cell_type": "code",
   "execution_count": null,
   "metadata": {},
   "outputs": [],
   "source": [
    "acc_L_T = a_LT -dd_theta_L*p_LConLN-d_theta_L*(v_WConLN-v_LN)\n",
    "acc_M_T = a_MT -dd_theta_M*p_MConMN-d_theta_M*(v_WConMN-v_MN)"
   ]
  },
  {
   "cell_type": "code",
   "execution_count": null,
   "metadata": {},
   "outputs": [],
   "source": [
    "a_s_5 = \\\n",
    "    np.expand_dims(d_theta, [1, 2]) \\\n",
    "    * \\\n",
    "    np.matmul(\n",
    "        np.transpose(N_hats, [0, 2, 1]),\n",
    "        v_WConL - v_WConM\n",
    "    ) \\\n",
    "    + \\\n",
    "    np.expand_dims(acc_L_T - acc_M_T, [1, 2])\n",
    "a_s_5 = a_s_5.flatten()"
   ]
  },
  {
   "cell_type": "code",
   "execution_count": null,
   "metadata": {},
   "outputs": [],
   "source": [
    "lhs = a_s\n",
    "lhs_label = r\"$a_s$\"\n",
    "rhs = a_s_5\n",
    "rhs_label = 'as5'\n",
    "plot_eq(lhs, lhs_label, rhs, rhs_label)"
   ]
  },
  {
   "cell_type": "markdown",
   "metadata": {},
   "source": [
    "### Explicit vel projects"
   ]
  },
  {
   "cell_type": "code",
   "execution_count": null,
   "metadata": {},
   "outputs": [],
   "source": [
    "a_s_6 = \\\n",
    "    d_theta_L*( \\\n",
    "    v_WConLN - v_WConMN) \\\n",
    "    + \\\n",
    "    acc_L_T - acc_M_T"
   ]
  },
  {
   "cell_type": "code",
   "execution_count": null,
   "metadata": {},
   "outputs": [],
   "source": [
    "lhs = a_s\n",
    "lhs_label = r\"$a_s$\"\n",
    "rhs = a_s_6\n",
    "rhs_label = 'as6'\n",
    "plot_eq(lhs, lhs_label, rhs, rhs_label)"
   ]
  },
  {
   "cell_type": "markdown",
   "metadata": {},
   "source": [
    "### Combining terms"
   ]
  },
  {
   "cell_type": "code",
   "execution_count": null,
   "metadata": {},
   "outputs": [],
   "source": [
    "a_s_7 = 0\n",
    "a_s_7 += d_theta_L*(v_WConLN - v_WConMN)\n",
    "a_s_7 += a_LT -dd_theta_L*p_LConLN-d_theta_L*(v_WConLN-v_LN)\n",
    "a_s_7 += -a_MT +dd_theta_M*p_MConMN+d_theta_M*(v_WConMN-v_MN)"
   ]
  },
  {
   "cell_type": "code",
   "execution_count": null,
   "metadata": {},
   "outputs": [],
   "source": [
    "a_s_7 = 0\n",
    "a_s_7 += d_theta_L*(v_LN- v_WConMN)\n",
    "a_s_7 +=  a_LT - dd_theta_L*p_LConLN\n",
    "a_s_7 += -a_MT + dd_theta_M*p_MConMN\n",
    "a_s_7 += d_theta_M*(v_WConMN-v_MN)"
   ]
  },
  {
   "cell_type": "code",
   "execution_count": null,
   "metadata": {},
   "outputs": [],
   "source": [
    "lhs = a_s\n",
    "lhs_label = r\"$a_s$\"\n",
    "rhs = a_s_7\n",
    "rhs_label = 'as6'\n",
    "plot_eq(lhs, lhs_label, rhs, rhs_label)"
   ]
  },
  {
   "cell_type": "markdown",
   "metadata": {},
   "source": [
    "### Last step"
   ]
  },
  {
   "cell_type": "code",
   "execution_count": null,
   "metadata": {},
   "outputs": [],
   "source": [
    "lhs = a_s\n",
    "lhs_label = r\"$a_s$\"\n",
    "rhs = d_theta_L*(v_LN-v_WConMN)\n",
    "rhs += a_LT\n",
    "rhs += -dd_theta_L*p_LConLN\n",
    "rhs += -a_MT\n",
    "rhs += dd_theta_M*p_MConMN\n",
    "rhs += d_theta_M*(v_WConMN-v_MN)\n",
    "rhs_label = r\"$\\dot\\theta_L\" +  \\\n",
    "    r\"\\left(2v_{WConL, N}-v_{WConM, N}- v_{LN}\\right)\" + \\\n",
    "    r\"+\" + \\\n",
    "    r\"a_{LT}\" + \\\n",
    "    r\"+\" + \\\n",
    "    r\"\\ddot\\theta_L p_{LConL, N}\" +  \\\n",
    "    r\"-\" + \\\n",
    "    r\"a_{MT}\" + \\\n",
    "    r\"-\" + \\\n",
    "    r\"\\ddot\\theta_M p_{MConM, N}\" + \\\n",
    "    r\"-\" + \\\n",
    "    r\"\\dot\\theta_M\\left(v_{WConM, N} - v_{MN}\\right)$\"\n",
    "\n",
    "plot_eq(lhs, lhs_label, rhs, rhs_label)"
   ]
  },
  {
   "cell_type": "markdown",
   "metadata": {},
   "source": [
    "# Other useful plots"
   ]
  },
  {
   "cell_type": "code",
   "execution_count": null,
   "metadata": {},
   "outputs": [],
   "source": [
    "plt.figure(figsize=(16, 8))\n",
    "lw = 5\n",
    "plt.plot(d_times, debug['F_CTs'], label='$F_{CT}$', linewidth=lw)\n",
    "plt.plot(d_times, debug['F_CNs'], label='$F_{CN}$',linewidth=lw)\n",
    "plt.xlabel(\"Time (seconds)\")\n",
    "plt.ylim(-1,1)\n",
    "plt.axvline(0.1)\n",
    "plt.legend()\n",
    "plt.show()"
   ]
  },
  {
   "cell_type": "code",
   "execution_count": null,
   "metadata": {},
   "outputs": [],
   "source": [
    "## Plotting normal for"
   ]
  },
  {
   "cell_type": "markdown",
   "metadata": {},
   "source": [
    "## Verifying we have the same $\\hat N$"
   ]
  },
  {
   "cell_type": "code",
   "execution_count": null,
   "metadata": {},
   "outputs": [],
   "source": [
    "N_hats_sim = N_hats"
   ]
  },
  {
   "cell_type": "code",
   "execution_count": null,
   "metadata": {},
   "outputs": [],
   "source": [
    "N_hats_ctrl = np.array(debug['N_hats'])"
   ]
  },
  {
   "cell_type": "code",
   "execution_count": null,
   "metadata": {},
   "outputs": [],
   "source": [
    "plt.figure(figsize=(16, 8))\n",
    "lw = 5\n",
    "plt.plot(l_times, N_hats_sim[:,0,:], label='$\\hat n_{BA_W,x}$', color='pink', linewidth=lw)\n",
    "plt.plot(l_times, N_hats_sim[:,1,:], label='$\\hat n_{BA_W,y}$', color='lightgreen', linewidth=lw)\n",
    "plt.plot(l_times, N_hats_sim[:,2,:], label='$\\hat n_{BA_W,z}$', color='lightskyblue', linewidth=lw)\n",
    "plt.plot(d_times, N_hats_ctrl[:,0,:], '--', label='$\\hat N_x$', color='red', linewidth=lw)\n",
    "plt.plot(d_times, N_hats_ctrl[:,1,:], '--', label='$\\hat N_y$', color='green', linewidth=lw)\n",
    "plt.plot(d_times, N_hats_ctrl[:,2,:], '--', label='$\\hat N_z$', color='blue', linewidth=lw)\n",
    "plt.xlabel(\"Time (seconds)\")\n",
    "plt.legend()\n",
    "plt.show()"
   ]
  },
  {
   "cell_type": "markdown",
   "metadata": {},
   "source": [
    "The signals line up, so our calculation of $\\hat N$ matches what Drake gets."
   ]
  },
  {
   "cell_type": "markdown",
   "metadata": {},
   "source": [
    "## Does penetration depth make a big difference?\n",
    "In other words, does $\\vec p_{C} + \\epsilon \\hat N = \\vec p_{M} + r\\hat N$ match up, and what's the magnitude of $\\epsilon$?"
   ]
  },
  {
   "cell_type": "code",
   "execution_count": null,
   "metadata": {},
   "outputs": [],
   "source": [
    "epsilon_vec = np.expand_dims(pen_depth/2, [1, 2])*N_hats"
   ]
  },
  {
   "cell_type": "code",
   "execution_count": null,
   "metadata": {},
   "outputs": [],
   "source": [
    "d_epsilon_vec = diff_vec(epsilon_vec)\n",
    "d_epsilon_vec_N = get_N_proj(d_epsilon_vec)\n",
    "d_epsilon_vec_T = get_T_proj(d_epsilon_vec)\n",
    "dd_epsilon_vec = diff_vec(d_epsilon_vec)\n",
    "dd_epsilon_vec_N = get_N_proj(dd_epsilon_vec)\n",
    "dd_epsilon_vec_T = get_T_proj(dd_epsilon_vec)"
   ]
  },
  {
   "cell_type": "code",
   "execution_count": null,
   "metadata": {},
   "outputs": [],
   "source": [
    "dd_d_T_ = dd_d_T - dd_epsilon_vec_T\n",
    "dd_d_N_ = dd_d_N - dd_epsilon_vec_N\n",
    "d_d_T_ = d_d_T - d_epsilon_vec_T\n",
    "d_d_N_ = d_d_N - d_epsilon_vec_N"
   ]
  },
  {
   "cell_type": "code",
   "execution_count": null,
   "metadata": {},
   "outputs": [],
   "source": [
    "plt.figure(figsize=(16,8))\n",
    "ylims = plt.ylim()\n",
    "plt.plot(l_times, dd_epsilon_vec_T, linewidth=5)\n",
    "plt.autoscale(enable=True, axis='x', tight=True)\n",
    "plt.ylim(-10, 10)\n",
    "plt.show()"
   ]
  },
  {
   "cell_type": "code",
   "execution_count": null,
   "metadata": {},
   "outputs": [],
   "source": [
    "sig1_label = r'$\\vec p_{C} + \\epsilon \\hat N$'\n",
    "sig2_label = r'$\\vec p_{M} + r\\hat N$'\n",
    "sig1 = p_C + epsilon_vec\n",
    "sig2 = p_M+r*N_hats\n",
    "\n",
    "plot_vec(sig1, sig1_label, sig2, sig2_label)"
   ]
  },
  {
   "cell_type": "code",
   "execution_count": null,
   "metadata": {},
   "outputs": [],
   "source": [
    "sig1_label = r'$\\vec p_{C} + \\epsilon \\hat N$'\n",
    "sig2_label = r'$\\vec p_{M} + r\\hat N$'\n",
    "sig1 = p_C + epsilon_vec - (p_M+r*N_hats)\n",
    "sig2 = p_C + epsilon_vec - (p_M+r*N_hats)\n",
    "\n",
    "plot_vec(sig1, sig1_label, sig2, sig2_label)"
   ]
  },
  {
   "cell_type": "code",
   "execution_count": null,
   "metadata": {},
   "outputs": [],
   "source": [
    "plt.figure(figsize=(16,8))\n",
    "ylims = plt.ylim()\n",
    "plt.plot(l_times, d_epsilon_vec_N, linewidth=5, \n",
    "         label=r'$\\hat N$ component of $\\ddot{\\vec\\epsilon}$')\n",
    "plt.plot(l_times, d_epsilon_vec_T, linewidth=5, \n",
    "         label=r'$\\hat T$ component of $\\ddot{\\vec\\epsilon}$')\n",
    "plt.autoscale(enable=True, axis='x', tight=True)\n",
    "plt.ylim(-1, 1)\n",
    "plt.legend()\n",
    "plt.show()"
   ]
  },
  {
   "cell_type": "code",
   "execution_count": null,
   "metadata": {},
   "outputs": [],
   "source": [
    "plt.figure(figsize=(16,8))\n",
    "ylims = plt.ylim()\n",
    "plt.plot(l_times, dd_epsilon_vec_N, linewidth=5, \n",
    "         label=r'$\\hat N$ component of $\\ddot{\\vec\\epsilon}$')\n",
    "plt.plot(l_times, dd_epsilon_vec_T, linewidth=5, \n",
    "         label=r'$\\hat T$ component of $\\ddot{\\vec\\epsilon}$')\n",
    "plt.autoscale(enable=True, axis='x', tight=True)\n",
    "plt.ylim(-100, 100)\n",
    "plt.legend()\n",
    "plt.show()"
   ]
  },
  {
   "cell_type": "markdown",
   "metadata": {},
   "source": [
    "### Conclusion\n",
    "It's alright to neglect $\\epsilon$."
   ]
  },
  {
   "cell_type": "markdown",
   "metadata": {},
   "source": [
    "##  $d_N$ and separation speed"
   ]
  },
  {
   "cell_type": "code",
   "execution_count": null,
   "metadata": {},
   "outputs": [],
   "source": [
    "separation_speed = logger.data()[log_wrapper.contact_entry_start_idx+9,:]"
   ]
  },
  {
   "cell_type": "code",
   "execution_count": null,
   "metadata": {},
   "outputs": [],
   "source": [
    "lw=5\n",
    "plt.figure(figsize=(16, 8))\n",
    "plt.plot(d_times, np.array(debug['d_Ns']), label='$d_N$', linewidth=lw)\n",
    "plt.axhline(-(constants.FINGER_RADIUS), label='Contact $d_N$ (finger radius)', linestyle='--', color='k', linewidth=lw)\n",
    "plt.legend()\n",
    "plt.xlabel(\"Time (seconds)\")\n",
    "plt.ylabel(\"Distance (m)\")\n",
    "plt.autoscale(enable=True, axis='x', tight=True)\n",
    "plt.show()"
   ]
  },
  {
   "cell_type": "markdown",
   "metadata": {},
   "source": [
    "$d_N$ settles at the contact value, which is what we expect."
   ]
  },
  {
   "cell_type": "code",
   "execution_count": null,
   "metadata": {},
   "outputs": [],
   "source": [
    "lw=5\n",
    "plt.figure(figsize=(16, 8))\n",
    "plt.plot(l_times, separation_speed, label=\"Separation speed\", linewidth=lw)\n",
    "plt.axhline(0, color='k', linestyle='--', label='Contact', linewidth=lw)\n",
    "plt.legend()\n",
    "plt.xlabel(\"Time (seconds)\")\n",
    "plt.ylabel(\"Velocity (m/s)\")\n",
    "plt.show()"
   ]
  },
  {
   "cell_type": "markdown",
   "metadata": {},
   "source": [
    "Separation speed settles at zero, which is what we expect; means we don't break contact."
   ]
  },
  {
   "cell_type": "markdown",
   "metadata": {},
   "source": [
    "## Moving contact point\n",
    " - [ ] PROGRAMMING: Add arrow heads to contact point plots"
   ]
  },
  {
   "cell_type": "code",
   "execution_count": null,
   "metadata": {},
   "outputs": [],
   "source": [
    "lw=5\n",
    "plt.figure(figsize=(16, 8))\n",
    "plt.plot(d_times, debug['d_Ts'], label='$d_T$', linewidth=lw)\n",
    "plt.axhline(-(0), label='Bounds on $d_T$ (0 and link width)', linestyle='--', color='k', linewidth=lw)\n",
    "plt.axhline(-(paper.link_width), linestyle='--', color='k', linewidth=lw)\n",
    "plt.legend()\n",
    "plt.xlabel(\"Time (seconds)\")\n",
    "plt.ylabel(\"Distance (m)\")\n",
    "plt.autoscale(enable=True, axis='x', tight=True)\n",
    "plt.show()"
   ]
  },
  {
   "cell_type": "markdown",
   "metadata": {},
   "source": [
    "This plot shows that $d_T$ changes during the simulation an amount which is significant relative to its bounds."
   ]
  },
  {
   "cell_type": "code",
   "execution_count": null,
   "metadata": {},
   "outputs": [],
   "source": [
    "contact_point = logger.data()[log_wrapper.contact_entry_start_idx+11:log_wrapper.contact_entry_start_idx+14,:]"
   ]
  },
  {
   "cell_type": "markdown",
   "metadata": {},
   "source": [
    "Sanity check on contact point data:"
   ]
  },
  {
   "cell_type": "code",
   "execution_count": null,
   "metadata": {},
   "outputs": [],
   "source": [
    "plt.figure(figsize=(12,12))\n",
    "\n",
    "plt.plot(contact_point[1,:], contact_point[2,:], color='k', linestyle='--', linewidth='5')\n",
    "plt.gca().set_aspect('equal', 'box')\n",
    "plt.show()"
   ]
  },
  {
   "cell_type": "code",
   "execution_count": null,
   "metadata": {},
   "outputs": [],
   "source": [
    "man_point = logger.data()[log_wrapper.entries_per_body*int(finger_body.index()):\n",
    "                          log_wrapper.entries_per_body*int(finger_body.index())+3,:]"
   ]
  },
  {
   "cell_type": "code",
   "execution_count": null,
   "metadata": {},
   "outputs": [],
   "source": [
    "plt.figure(figsize=(12,12))\n",
    "plt.gca().add_patch(plt.Circle((0, 0), constants.FINGER_RADIUS, color='r'))\n",
    "plt.plot(contact_point[1,:]-man_point[1,:], contact_point[2,:]-man_point[2,:], color='k', linestyle='--', linewidth='5')\n",
    "plt.gca().set_aspect('equal', 'box')\n",
    "plt.show()"
   ]
  },
  {
   "cell_type": "markdown",
   "metadata": {},
   "source": [
    "Shows the contacat point moves around on the surface of the manipulator."
   ]
  },
  {
   "cell_type": "markdown",
   "metadata": {},
   "source": [
    "## Friction plots"
   ]
  },
  {
   "cell_type": "code",
   "execution_count": null,
   "metadata": {},
   "outputs": [],
   "source": [
    "slip_speed = logger.data()[log_wrapper.contact_entry_start_idx+10,:]"
   ]
  },
  {
   "cell_type": "code",
   "execution_count": null,
   "metadata": {},
   "outputs": [],
   "source": [
    "t_slip = l_times[np.argmax(slip_speed > v_stiction)]"
   ]
  },
  {
   "cell_type": "code",
   "execution_count": null,
   "metadata": {},
   "outputs": [],
   "source": [
    "lw=5\n",
    "plt.figure(figsize=(16,12))\n",
    "plt.plot(l_times, abs(F_FL), label=r\"$\\left|F_{FL}\\right|$\", linewidth=lw, color='lightskyblue', zorder=0)\n",
    "plt.plot(l_times, abs(F_FM), label=r\"$\\left|F_{ML}\\right|$\", linewidth=lw, color='b', linestyle='--', zorder=1)\n",
    "plt.plot(l_times, abs(F_NL)*constants.FRICTION, label=r\"$\\mu\\left|F_{NL}\\right|$\", linewidth=lw, color='k', linestyle=':')\n",
    "plt.axvline(t_slip, color='r', label=\"$t_{slip}$\", linewidth=lw)\n",
    "plt.ylim(-0, 2)\n",
    "plt.autoscale(enable=True, axis='x', tight=True)\n",
    "plt.legend()\n",
    "plt.xlabel(\"Time\")\n",
    "plt.show()"
   ]
  },
  {
   "cell_type": "markdown",
   "metadata": {},
   "source": [
    "This plot shows that although we remain within the static friction limit for the majority of the time, at $t_{slip}$ we exceed $v_{stiction}$ and move to dynamic friction."
   ]
  },
  {
   "cell_type": "code",
   "execution_count": null,
   "metadata": {},
   "outputs": [],
   "source": [
    "lw=5\n",
    "plt.figure(figsize=(16, 8))\n",
    "plt.axvline(t_slip, color='r', label=\"$t_{slip}$\", linewidth=lw)\n",
    "plt.plot(logger.sample_times(), slip_speed, label=\"slip speed\", linewidth=5)\n",
    "plt.axhline(v_stiction, linestyle=\"--\", color=\"k\", label=\"$v_{stiction}$\", linewidth=5)\n",
    "plt.xlabel(\"Time (seconds)\")\n",
    "plt.ylabel(\"Speed (m/s)\")\n",
    "plt.ylim(0, 2*v_stiction)\n",
    "plt.autoscale(enable=True, axis='x', tight=True)\n",
    "plt.legend()\n",
    "plt.show()"
   ]
  },
  {
   "cell_type": "markdown",
   "metadata": {},
   "source": [
    "This plot shows what's happening from the slip speed side. Similar to a tire spinning out, as soon as the slip speed exceeds $v_{stiction}$, the positive feedback of lowered friction sends the slip speed quite high."
   ]
  },
  {
   "cell_type": "markdown",
   "metadata": {},
   "source": [
    "## Penetration debugging"
   ]
  },
  {
   "cell_type": "code",
   "execution_count": null,
   "metadata": {},
   "outputs": [],
   "source": [
    "lw=5\n",
    "smooth_idxs = np.arange(800, 4000)\n",
    "plt.figure(figsize=(16, 8))\n",
    "plt.plot(l_times, a_MN, linewidth=lw)\n",
    "plt.plot(l_times[smooth_idxs], a_MN[smooth_idxs], linewidth=lw)\n",
    "plt.axvline(plant.get_contact_penalty_method_time_scale(), linewidth=lw, color='red')\n",
    "plt.ylim(-10, 40)\n",
    "# plt.autoscale(enable=True, axis='x', tight=True)\n",
    "plt.show()"
   ]
  },
  {
   "cell_type": "code",
   "execution_count": null,
   "metadata": {},
   "outputs": [],
   "source": [
    "finger_shape"
   ]
  },
  {
   "cell_type": "code",
   "execution_count": null,
   "metadata": {},
   "outputs": [],
   "source": [
    "# scene_graph.model_inspector().GetProximityProperties(finger_shape).GetProperty(\"material\", \"point_contact_stiffness\");"
   ]
  },
  {
   "cell_type": "code",
   "execution_count": null,
   "metadata": {},
   "outputs": [],
   "source": []
  },
  {
   "cell_type": "code",
   "execution_count": null,
   "metadata": {},
   "outputs": [],
   "source": [
    "logger.data().shape"
   ]
  },
  {
   "cell_type": "code",
   "execution_count": null,
   "metadata": {},
   "outputs": [],
   "source": [
    "pen_depth.shape"
   ]
  },
  {
   "cell_type": "code",
   "execution_count": null,
   "metadata": {},
   "outputs": [],
   "source": [
    "lw=5\n",
    "plt.figure(figsize=(16, 8))\n",
    "plt.plot(l_times, pen_depth)\n",
    "plt.ylim(-2,2)\n",
    "plt.autoscale(enable=True, axis='x', tight=True)\n",
    "plt.legend()\n",
    "plt.show()"
   ]
  },
  {
   "cell_type": "code",
   "execution_count": null,
   "metadata": {},
   "outputs": [],
   "source": [
    "# def get_stiffness_and_damping(penetration_allowance) {\n",
    "penetration_allowance = 0.001\n",
    "g = 9.81\n",
    "mass = 0.0\n",
    "\n",
    "for bi in range(plant.num_bodies()):\n",
    "    body = plant.get_body(BodyIndex(bi))\n",
    "    mass = max(mass, body.get_default_mass())\n",
    "\n",
    "combined_stiffness = mass * g / penetration_allowance\n",
    "omega = np.sqrt(combined_stiffness / mass)\n",
    "\n",
    "time_scale = 1.0 / omega\n",
    "\n",
    "damping_ratio = 1.0\n",
    "dissipation = damping_ratio * time_scale / penetration_allowance\n",
    "stiffness = 2 * combined_stiffness"
   ]
  },
  {
   "cell_type": "markdown",
   "metadata": {},
   "source": [
    "### Pentration into manipulator"
   ]
  },
  {
   "cell_type": "code",
   "execution_count": null,
   "metadata": {},
   "outputs": [],
   "source": [
    "pen_man_point = logger.data()[log_wrapper.contact_entry_start_idx+3:\n",
    "                                         log_wrapper.contact_entry_start_idx+6]"
   ]
  },
  {
   "cell_type": "code",
   "execution_count": null,
   "metadata": {},
   "outputs": [],
   "source": [
    "np.linalg.norm(pen_man_point[1:3:]-man_point[1:3,:], axis=0).shape"
   ]
  },
  {
   "cell_type": "code",
   "execution_count": null,
   "metadata": {},
   "outputs": [],
   "source": [
    "depth_man = np.linalg.norm(pen_man_point[1:3:]-man_point[1:3,:], axis=0)"
   ]
  },
  {
   "cell_type": "code",
   "execution_count": null,
   "metadata": {},
   "outputs": [],
   "source": [
    "l_times.shape"
   ]
  },
  {
   "cell_type": "code",
   "execution_count": null,
   "metadata": {},
   "outputs": [],
   "source": [
    "plt.figure(figsize=(12,12))\n",
    "plt.plot(l_times, depth_man, color='k', linestyle='-', linewidth='5')\n",
    "ylims = plt.ylim()\n",
    "plt.ylim(0,ylims[-1]*2)\n",
    "plt.show()"
   ]
  },
  {
   "cell_type": "markdown",
   "metadata": {},
   "source": [
    "### Penetration into link"
   ]
  },
  {
   "cell_type": "code",
   "execution_count": null,
   "metadata": {},
   "outputs": [],
   "source": [
    "link_point = logger.data()[log_wrapper.entries_per_body*int(paper.link_idxs[-1]):\n",
    "                           log_wrapper.entries_per_body*int(paper.link_idxs[-1])+3,:]"
   ]
  },
  {
   "cell_type": "code",
   "execution_count": null,
   "metadata": {},
   "outputs": [],
   "source": [
    "pen_link_point = logger.data()[log_wrapper.contact_entry_start_idx+6:\n",
    "                               log_wrapper.contact_entry_start_idx+9]"
   ]
  },
  {
   "cell_type": "code",
   "execution_count": null,
   "metadata": {},
   "outputs": [],
   "source": [
    "depth_link = np.linalg.norm(pen_link_point[1:3:]-link_point[1:3,:], axis=0)"
   ]
  },
  {
   "cell_type": "code",
   "execution_count": null,
   "metadata": {},
   "outputs": [],
   "source": [
    "plt.figure(figsize=(12,12))\n",
    "plt.plot(l_times, depth_man, color='k', linestyle='-', linewidth='5')\n",
    "ylims = plt.ylim()\n",
    "plt.ylim(0,ylims[-1]*2)\n",
    "plt.show()"
   ]
  },
  {
   "cell_type": "markdown",
   "metadata": {},
   "source": [
    "## Accel debugging"
   ]
  },
  {
   "cell_type": "code",
   "execution_count": null,
   "metadata": {},
   "outputs": [],
   "source": [
    "v_man_diff = np.diff(man_point[1:3,:])/np.diff(l_times)\n",
    "a_man_diff = np.diff(v_man_diff)/np.diff(l_times[:-1])"
   ]
  },
  {
   "cell_type": "code",
   "execution_count": null,
   "metadata": {},
   "outputs": [],
   "source": [
    "lw=5\n",
    "plt.figure(figsize=(16,16))\n",
    "for i in range(1,3):\n",
    "    plt.subplot(2,1,i)\n",
    "    plt.plot(l_times[:-2][::10], a_man_diff[i-1,:][::10], linewidth=lw)\n",
    "    plt.plot(l_times, a_man[:,i,0], linewidth=lw)\n",
    "    plt.ylim(-150, 150)\n",
    "    plt.legend()\n",
    "    plt.xlabel(\"Time\")\n",
    "plt.show()"
   ]
  },
  {
   "cell_type": "code",
   "execution_count": null,
   "metadata": {},
   "outputs": [],
   "source": [
    "v_contact_diff = np.diff(contact_point[1:3,:])/np.diff(l_times)\n",
    "a_contact_diff = np.diff(v_contact_diff)/np.diff(l_times[:-1])"
   ]
  },
  {
   "cell_type": "code",
   "execution_count": null,
   "metadata": {},
   "outputs": [],
   "source": [
    "a_contact_diff.shape"
   ]
  },
  {
   "cell_type": "code",
   "execution_count": null,
   "metadata": {},
   "outputs": [],
   "source": [
    "lw=5\n",
    "plt.figure(figsize=(16,16))\n",
    "for i in range(1,3):\n",
    "    plt.subplot(2,1,i)\n",
    "    plt.plot(l_times[:-2][::10], a_contact_diff[i-1,:][::10], linewidth=lw)\n",
    "    plt.plot(l_times, a_man[:,i,0], linewidth=lw)\n",
    "    plt.ylim(-150, 150)\n",
    "    plt.legend()\n",
    "    plt.xlabel(\"Time\")\n",
    "plt.show()"
   ]
  },
  {
   "cell_type": "markdown",
   "metadata": {},
   "source": [
    "## Other $\\vec d$ checks"
   ]
  },
  {
   "cell_type": "markdown",
   "metadata": {},
   "source": [
    "### $\\vec d \\triangleq \\vec p_C - \\vec p_E$ math"
   ]
  },
  {
   "cell_type": "markdown",
   "metadata": {},
   "source": [
    "#### $\\dot{\\vec d} = \\vec v_C - \\vec v_E$"
   ]
  },
  {
   "cell_type": "code",
   "execution_count": null,
   "metadata": {},
   "outputs": [],
   "source": [
    "sig1_label = r'$\\dot{\\vec d}$'\n",
    "sig2_label = r'$\\vec v_C - \\vec v_E$'\n",
    "\n",
    "sig1 = d_d_vec\n",
    "sig2 = v_C - v_E\n",
    "\n",
    "plot_vec(sig1, sig1_label, sig2, sig2_label)"
   ]
  },
  {
   "cell_type": "markdown",
   "metadata": {},
   "source": [
    "#### $\\ddot{\\vec d} = \\vec a_C - \\vec a_E$"
   ]
  },
  {
   "cell_type": "code",
   "execution_count": null,
   "metadata": {},
   "outputs": [],
   "source": [
    "sig1_label = r'$\\ddot{\\vec d}$'\n",
    "sig2_label = r'$\\vec a_C - \\vec a_E$'\n",
    "\n",
    "sig1 = moving_average_vec(dd_d_vec, 10)\n",
    "sig2 = moving_average_vec(a_C - a_E, 10)\n",
    "\n",
    "plot_vec(sig1, sig1_label, sig2, sig2_label, finish_plotting=False)\n",
    "plt.ylim(-1e3, 2e3)\n",
    "plt.show()"
   ]
  },
  {
   "cell_type": "markdown",
   "metadata": {},
   "source": [
    "#### How big a difference does it make to use delayed filter?"
   ]
  },
  {
   "cell_type": "code",
   "execution_count": null,
   "metadata": {},
   "outputs": [],
   "source": [
    "sig1_label = r'No delay'\n",
    "sig2_label = r'Delay'\n",
    "\n",
    "window = 100\n",
    "sig1 = moving_average_vec(dd_d_vec, window)\n",
    "\n",
    "plt.figure(figsize=(16, 8))\n",
    "lw = 5\n",
    "plt.plot(l_times, sig1[:,0], label=sig1_label + r' $\\hat x$ component', color='pink', linewidth=lw)\n",
    "plt.plot(l_times, sig1[:,1], label=sig1_label + r' $\\hat y$ component', color='lightgreen', linewidth=lw)\n",
    "plt.plot(l_times, sig1[:,2], label=sig1_label + r' $\\hat z$ component', color='lightskyblue', linewidth=lw)\n",
    "\n",
    "plt.plot(l_times[window:], sig1[window:,0], label=sig2_label + r' $\\hat x$ component', color='red', linewidth=lw, linestyle='--')\n",
    "plt.plot(l_times[window:], sig1[window:,1], label=sig2_label + r' $\\hat y$ component', color='green', linewidth=lw, linestyle='--')\n",
    "plt.plot(l_times[window:], sig1[window:,2], label=sig2_label + r' $\\hat z$ component', color='blue', linewidth=lw, linestyle='--')\n",
    "plt.xlabel(\"Time (seconds)\")\n",
    "plt.legend()\n",
    "plt.autoscale(enable=True, axis='x', tight=True)\n",
    "plt.ylim(-1e3, 2e3)\n",
    "plt.show()"
   ]
  },
  {
   "cell_type": "code",
   "execution_count": null,
   "metadata": {},
   "outputs": [],
   "source": [
    "np.mean(np.diff(l_times))*100"
   ]
  },
  {
   "cell_type": "code",
   "execution_count": null,
   "metadata": {},
   "outputs": [],
   "source": [
    "sig1_label = r'No delay'\n",
    "sig2_label = r'Delay'\n",
    "\n",
    "window = 100\n",
    "sig1 = moving_average_vec(dd_d_vec, window)\n",
    "\n",
    "plt.figure(figsize=(16, 8))\n",
    "lw = 5\n",
    "plt.plot(l_times, sig1[:,0], label=sig1_label + r' $\\hat x$ component', color='pink', linewidth=lw)\n",
    "plt.plot(l_times, sig1[:,1], label=sig1_label + r' $\\hat y$ component', color='lightgreen', linewidth=lw)\n",
    "plt.plot(l_times, sig1[:,2], label=sig1_label + r' $\\hat z$ component', color='lightskyblue', linewidth=lw)\n",
    "\n",
    "plt.plot(l_times[window:], sig1[window:,0], label=sig2_label + r' $\\hat x$ component', color='red', linewidth=lw, linestyle='--')\n",
    "plt.plot(l_times[window:], sig1[window:,1], label=sig2_label + r' $\\hat y$ component', color='green', linewidth=lw, linestyle='--')\n",
    "plt.plot(l_times[window:], sig1[window:,2], label=sig2_label + r' $\\hat z$ component', color='blue', linewidth=lw, linestyle='--')\n",
    "plt.xlabel(\"Time (seconds)\")\n",
    "plt.legend()\n",
    "plt.xlim(0.05, 0.051)\n",
    "plt.ylim(-1e3, 2e3)\n",
    "plt.show()"
   ]
  },
  {
   "cell_type": "markdown",
   "metadata": {},
   "source": [
    "Using averages should be fine."
   ]
  },
  {
   "cell_type": "markdown",
   "metadata": {},
   "source": [
    "### $p_C = p_M + r\\hat N$"
   ]
  },
  {
   "cell_type": "code",
   "execution_count": null,
   "metadata": {},
   "outputs": [],
   "source": [
    "sig1_label = r'$p_C$'\n",
    "sig2_label = r'$p_M + r\\hat N$'\n",
    "\n",
    "sig1 = p_C\n",
    "sig2 = p_M + r*N_hats\n",
    "\n",
    "plot_vec(sig1, sig1_label, sig2, sig2_label, finish_plotting=False)\n",
    "# plt.ylim(-1e3, 2e3)\n",
    "plt.show()"
   ]
  },
  {
   "cell_type": "code",
   "execution_count": null,
   "metadata": {},
   "outputs": [],
   "source": [
    "pen_depth = logger.data()[log_wrapper.contact_entry_start_idx+17]"
   ]
  },
  {
   "cell_type": "code",
   "execution_count": null,
   "metadata": {
    "scrolled": true
   },
   "outputs": [],
   "source": [
    "lhs = np.linalg.norm(p_C-(p_M + r*N_hats), axis=1)\n",
    "lhs_label = r'$\\left|\\left|p_C-\\left(p_M+r\\hat N\\right)\\right|\\right|$'\n",
    "rhs = np.expand_dims(pen_depth/2, 1)\n",
    "rhs_label = \"Penetration depth/2\"\n",
    "\n",
    "plot_eq(lhs, lhs_label, rhs, rhs_label)"
   ]
  }
 ],
 "metadata": {
  "kernelspec": {
   "display_name": "Python 3",
   "language": "python",
   "name": "python3"
  },
  "language_info": {
   "codemirror_mode": {
    "name": "ipython",
    "version": 3
   },
   "file_extension": ".py",
   "mimetype": "text/x-python",
   "name": "python",
   "nbconvert_exporter": "python",
   "pygments_lexer": "ipython3",
   "version": "3.6.9"
  },
  "toc": {
   "base_numbering": 1,
   "nav_menu": {},
   "number_sections": true,
   "sideBar": false,
   "skip_h1_title": false,
   "title_cell": "Table of Contents",
   "title_sidebar": "Contents",
   "toc_cell": false,
   "toc_position": {
    "height": "665px",
    "left": "1162px",
    "top": "794px",
    "width": "318px"
   },
   "toc_section_display": true,
   "toc_window_display": true
  }
 },
 "nbformat": 4,
 "nbformat_minor": 4
}
