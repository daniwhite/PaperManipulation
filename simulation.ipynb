{
 "cells": [
  {
   "cell_type": "code",
   "execution_count": null,
   "metadata": {},
   "outputs": [],
   "source": [
    "# Suprress warnings\n",
    "import warnings\n",
    "with warnings.catch_warnings():\n",
    "    warnings.simplefilter(\"ignore\")\n",
    "\n",
    "    # Standard imports\n",
    "    import matplotlib.pyplot as plt\n",
    "    import matplotlib.cm as cm\n",
    "    import numpy as np\n",
    "\n",
    "    # Drake imports\n",
    "    from meshcat.servers.zmqserver import start_zmq_server_as_subprocess\n",
    "    import pydrake.all\n",
    "    from pydrake.all import (\n",
    "        RigidTransform, RotationMatrix, RollPitchYaw, RevoluteSpring, LogOutput, SignalLogger, ForceElement, \n",
    "        DoorHinge, DoorHingeConfig, PidController, FixedInputPortValue\n",
    "    )\n",
    "\n",
    "# Imports of other project files\n",
    "import body_pose_wrapper\n",
    "import constants\n",
    "import finger\n",
    "import pedestal\n",
    "from paper import Paper\n",
    "\n",
    "# Other imports\n",
    "import importlib"
   ]
  },
  {
   "cell_type": "code",
   "execution_count": null,
   "metadata": {},
   "outputs": [],
   "source": [
    "# Meshcat init\n",
    "proc, zmq_url, web_url = start_zmq_server_as_subprocess()"
   ]
  },
  {
   "cell_type": "code",
   "execution_count": null,
   "metadata": {},
   "outputs": [],
   "source": [
    "# Generate trajectory\n",
    "pts = [\n",
    "        [constants.INIT_X, constants.INIT_Z],\n",
    "        [constants.INIT_X*1.1, constants.INIT_Z],\n",
    "        [constants.INIT_X*1.1, pedestal.PEDESTAL_HEIGHT+constants.FINGER_RADIUS/2+0.065],\n",
    "        [0, pedestal.PEDESTAL_HEIGHT+constants.FINGER_RADIUS/2+0.065],\n",
    "        [0, pedestal.PEDESTAL_HEIGHT+constants.FINGER_RADIUS/2],\n",
    "    ]\n",
    "\n",
    "def pts_to_traj(pts, tspan_per_segment, dt):\n",
    "    xs = []\n",
    "    zs = []\n",
    "    xdots = [0]\n",
    "    zdots = [0]\n",
    "    \n",
    "    for segment_i in range(len(pts)-1):\n",
    "        start_pt = pts[segment_i]\n",
    "        end_pt = pts[segment_i+1]\n",
    "        for prog_frac in np.arange(0, tspan_per_segment, dt)/tspan_per_segment:\n",
    "            new_x = start_pt[0] + (end_pt[0] - start_pt[0])*prog_frac\n",
    "            xs.append(new_x)\n",
    "            new_z = start_pt[1] + (end_pt[1] - start_pt[1])*prog_frac\n",
    "            zs.append(new_z)\n",
    "    \n",
    "    for i in range(len(xs)-1):\n",
    "        xdots.append((xs[i+1]-xs[i])/dt)\n",
    "        zdots.append((zs[i+1]-zs[i])/dt)\n",
    "        \n",
    "    return xs, zs, xdots, zdots\n",
    "\n",
    "traj = pts_to_traj(pts, 5, constants.DT)"
   ]
  },
  {
   "cell_type": "code",
   "execution_count": null,
   "metadata": {},
   "outputs": [],
   "source": [
    "## Pre-finalize steps\n",
    "builder = pydrake.systems.framework.DiagramBuilder()\n",
    "\n",
    "# Add all elements\n",
    "plant, scene_graph = pydrake.multibody.plant.AddMultibodyPlantSceneGraph(builder, time_step=constants.DT)\n",
    "pedestal_instance = pedestal.AddPedestal(plant)\n",
    "\n",
    "paper = Paper(plant, 20)\n",
    "paper.weld_paper_edge(pedestal.PEDESTAL_WIDTH, pedestal.PEDESTAL_HEIGHT)\n",
    "pose_wrapper = body_pose_wrapper.BodyPoseWrapper(24*6, [RigidTransform(), RigidTransform()])\n",
    "builder.AddSystem(pose_wrapper)\n",
    "\n",
    "finger_instance = finger.AddFinger(plant, constants.INIT_X, constants.INIT_Z)\n",
    "finger_ctrlr = finger.PDFinger(plant, traj)"
   ]
  },
  {
   "cell_type": "code",
   "execution_count": null,
   "metadata": {},
   "outputs": [],
   "source": [
    "plant.Finalize()\n",
    "\n",
    "## Post finalize steps\n",
    "paper.init_ctrlrs(builder)\n",
    "\n",
    "# Conect finger controller\n",
    "builder.AddSystem(finger_ctrlr)\n",
    "builder.Connect(finger_ctrlr.get_output_port(), plant.get_actuation_input_port(finger_instance))\n",
    "builder.Connect(plant.get_state_output_port(finger_instance), finger_ctrlr.get_input_port())\n",
    "builder.Connect(plant.get_body_poses_output_port(), pose_wrapper.get_input_port())\n",
    "\n",
    "# Visualization and logging\n",
    "man_logger = LogOutput(plant.get_state_output_port(finger_instance), builder)\n",
    "poses_logger = LogOutput(pose_wrapper.get_output_port(), builder)\n",
    "vis = pydrake.systems.meshcat_visualizer.ConnectMeshcatVisualizer(builder, scene_graph)\n",
    "\n",
    "# Build diagram and do actions requiring \n",
    "diagram = builder.Build()\n",
    "diagram_context = diagram.CreateDefaultContext()\n",
    "paper.connect_ctrlrs(diagram, diagram_context)"
   ]
  },
  {
   "cell_type": "code",
   "execution_count": null,
   "metadata": {},
   "outputs": [],
   "source": [
    "# Finalize simulation and visualization\n",
    "simulator = pydrake.systems.analysis.Simulator(diagram, diagram_context)\n",
    "simulator.Initialize()\n",
    "vis.start_recording()\n",
    "simulator.AdvanceTo(constants.TSPAN)\n",
    "vis.stop_recording()\n",
    "vis.publish_recording()"
   ]
  },
  {
   "cell_type": "code",
   "execution_count": null,
   "metadata": {},
   "outputs": [],
   "source": [
    "# Plot manipulator position vs. trajectory\n",
    "plt.figure()\n",
    "plt.plot(man_logger.data()[0,:], man_logger.data()[1,:], label='Manipulator position')\n",
    "plt.plot(traj[0], traj[1], label='Trajectory')\n",
    "plt.xlabel(\"$x$ position\")\n",
    "plt.ylabel(\"$z$ position\")\n",
    "plt.show()"
   ]
  },
  {
   "cell_type": "code",
   "execution_count": null,
   "metadata": {},
   "outputs": [],
   "source": [
    "# Generate plots for paper\n",
    "nb = plant.num_bodies()\n",
    "paper_idxs = [int(i) for i in paper.paper_instances]\n",
    "x_traces = []\n",
    "z_traces = []\n",
    "for b in paper_idxs:\n",
    "    x_traces.append(poses_logger.data()[6*b])\n",
    "    z_traces.append(poses_logger.data()[6*b+2])\n",
    "x_traces = np.array(x_traces)\n",
    "z_traces = np.array(z_traces)\n",
    "\n",
    "times = np.arange(2,constants.TSPAN+1,2)\n",
    "cmap = cm.get_cmap(\"viridis_r\")\n",
    "plt.figure(figsize=(2*3,2*2))\n",
    "plt.plot(traj[0], traj[1], '--k', zorder=-1)\n",
    "for t in times:\n",
    "    c = cmap(t/constants.TSPAN)\n",
    "    idx = int(t/constants.DT)\n",
    "    plt.plot(x_traces[:-1,idx], z_traces[:-1,idx], color=c)\n",
    "    plt.scatter(man_logger.data()[0,idx], man_logger.data()[1,idx], color=c, s=300, zorder=1)\n",
    "\n",
    "xlim = plt.xlim()\n",
    "ylim = plt.ylim()\n",
    "plt.scatter([xlim[0]-50, xlim[0]-50], [ylim[0]-50, ylim[0]-50], c=[0, constants.TSPAN], cmap=cmap)\n",
    "plt.xlim(xlim)\n",
    "plt.ylim(ylim)\n",
    "cb = plt.colorbar()\n",
    "cb.set_label(\"Time\")\n",
    "plt.xlabel(\"$x$ position\")\n",
    "plt.ylabel(\"$z$ position\")\n",
    "plt.show()"
   ]
  }
 ],
 "metadata": {
  "kernelspec": {
   "display_name": "Python 3",
   "language": "python",
   "name": "python3"
  },
  "language_info": {
   "codemirror_mode": {
    "name": "ipython",
    "version": 3
   },
   "file_extension": ".py",
   "mimetype": "text/x-python",
   "name": "python",
   "nbconvert_exporter": "python",
   "pygments_lexer": "ipython3",
   "version": "3.6.9"
  },
  "toc": {
   "base_numbering": 1,
   "nav_menu": {},
   "number_sections": true,
   "sideBar": true,
   "skip_h1_title": false,
   "title_cell": "Table of Contents",
   "title_sidebar": "Contents",
   "toc_cell": false,
   "toc_position": {
    "height": "calc(100% - 180px)",
    "left": "10px",
    "top": "150px",
    "width": "165px"
   },
   "toc_section_display": true,
   "toc_window_display": true
  }
 },
 "nbformat": 4,
 "nbformat_minor": 4
}
