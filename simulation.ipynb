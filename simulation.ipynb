{
 "cells": [
  {
   "cell_type": "markdown",
   "metadata": {},
   "source": [
    "# Imports"
   ]
  },
  {
   "cell_type": "code",
   "execution_count": null,
   "metadata": {},
   "outputs": [],
   "source": [
    "# Numpy, Scipy, Matplotlib\n",
    "import scipy.interpolate\n",
    "import matplotlib\n",
    "import matplotlib.pyplot as plt\n",
    "import matplotlib.patches as patches\n",
    "import matplotlib.cm as cm\n",
    "import numpy as np\n",
    "import time\n",
    "\n",
    "# Drake imports\n",
    "import pydrake\n",
    "from pydrake.all import (\n",
    "    DirectCollocation, DirectTranscription, MathematicalProgram,\n",
    "    InputPortSelection, LogVectorOutput\n",
    ")\n",
    "from pydrake.all import FindResourceOrThrow\n",
    "from pydrake.all import (MultibodyPlant, Parser, DiagramBuilder, Simulator, RigidTransform,\n",
    "                         PlanarSceneGraphVisualizer, SceneGraph, TrajectorySource,\n",
    "                         SnoptSolver, MultibodyPositionToGeometryPose, PiecewisePolynomial,\n",
    "                         MathematicalProgram, JacobianWrtVariable, eq, RollPitchYaw, AutoDiffXd, BodyIndex,\n",
    "                        RotationMatrix, Meshcat,MeshcatVisualizerParams, MeshcatVisualizerCpp, MeshcatVisualizer,\n",
    "                        Adder, Gain, ConstantVectorSource, Demultiplexer, Multiplexer, AngleAxis)\n",
    "\n",
    "# Other imports\n",
    "import importlib\n",
    "import re\n",
    "import enum\n",
    "from IPython.display import display, SVG, Image\n",
    "import pydot\n",
    "\n",
    "# Imports of other project files\n",
    "import constants\n",
    "import config\n",
    "from config import hinge_rotation_axis\n",
    "\n",
    "import plant.simulation\n",
    "import plant.manipulator as manipulator\n",
    "\n",
    "\n",
    "import ctrl.aux\n",
    "\n",
    "import copy"
   ]
  },
  {
   "cell_type": "code",
   "execution_count": null,
   "metadata": {},
   "outputs": [],
   "source": [
    "# Matplotlib configuring\n",
    "# USE FOR PAPER\n",
    "# plt.style.use(['science', 'no-latex'])\n",
    "# font = {'size'   : 14}\n",
    "# matplotlib.rc('font', **font)\n",
    "# default_figsize = (2*3,2*2)\n",
    "# USE GENERALLY\n",
    "font = {'size'   : 16}\n",
    "matplotlib.rc('font', **font)\n",
    "default_figsize = (16,8)"
   ]
  },
  {
   "cell_type": "code",
   "execution_count": null,
   "metadata": {},
   "outputs": [],
   "source": [
    "matplotlib.rcParams['figure.figsize'] = (16,8)\n",
    "matplotlib.rcParams['lines.linewidth'] = 5\n",
    "matplotlib.rcParams[\"axes.xmargin\"] = 0"
   ]
  },
  {
   "cell_type": "markdown",
   "metadata": {
    "tags": []
   },
   "source": [
    "# Meshcat init"
   ]
  },
  {
   "cell_type": "code",
   "execution_count": null,
   "metadata": {},
   "outputs": [],
   "source": [
    "meshcat = Meshcat()\n",
    "web_url = meshcat.web_url()"
   ]
  },
  {
   "cell_type": "markdown",
   "metadata": {
    "toc-hr-collapsed": true
   },
   "source": [
    "# Simulation setup"
   ]
  },
  {
   "cell_type": "code",
   "execution_count": null,
   "metadata": {},
   "outputs": [],
   "source": [
    "ctrl_paradigm = plant.simulation.CtrlParadigm.INVERSE_DYNAMICS\n",
    "impedance_type = plant.simulation.ImpedanceType.NONE\n",
    "n_hat_force_compensation_source = plant.simulation.NHatForceCompensationSource.NONE"
   ]
  },
  {
   "cell_type": "code",
   "execution_count": null,
   "metadata": {},
   "outputs": [],
   "source": [
    "sim = plant.simulation.Simulation(\n",
    "    DT=0.0001, num_links=config.NumLinks.FOUR, TSPAN=50,\n",
    "    ctrl_paradigm=ctrl_paradigm,\n",
    "    impedance_type=impedance_type,\n",
    "    n_hat_force_compensation_source=n_hat_force_compensation_source,\n",
    "    meshcat=meshcat,\n",
    "    exit_when_folded=True,\n",
    "    impedance_stiffness=[40, 40, 40, 400, 400, 400],\n",
    "    const_ff_Fn=2\n",
    ")"
   ]
  },
  {
   "cell_type": "markdown",
   "metadata": {},
   "source": [
    "### Final diagram"
   ]
  },
  {
   "cell_type": "markdown",
   "metadata": {},
   "source": [
    "Print SVG:"
   ]
  },
  {
   "cell_type": "code",
   "execution_count": null,
   "metadata": {},
   "outputs": [],
   "source": [
    "#SVG(pydot.graph_from_dot_data(sim.get_viz_str())[0].create_svg())"
   ]
  },
  {
   "cell_type": "markdown",
   "metadata": {},
   "source": [
    "Print PNG:"
   ]
  },
  {
   "cell_type": "code",
   "execution_count": null,
   "metadata": {
    "tags": []
   },
   "outputs": [],
   "source": [
    "Image(pydot.graph_from_dot_data(sim.get_viz_str())[0].create_png())"
   ]
  },
  {
   "cell_type": "markdown",
   "metadata": {},
   "source": [
    "# Run simulation"
   ]
  },
  {
   "cell_type": "code",
   "execution_count": null,
   "metadata": {},
   "outputs": [],
   "source": [
    "t_start_ = time.time()\n",
    "log = sim.run_sim()\n",
    "print(time.time() - t_start_)"
   ]
  },
  {
   "cell_type": "code",
   "execution_count": null,
   "metadata": {},
   "outputs": [],
   "source": [
    "# This way, we can use the actual time the simulation ran for\n",
    "effective_tspan = max(log.sample_times())\n",
    "print(\"effective_tspan:\", effective_tspan)"
   ]
  },
  {
   "cell_type": "markdown",
   "metadata": {
    "toc-hr-collapsed": true
   },
   "source": [
    "# Define helper functions"
   ]
  },
  {
   "cell_type": "code",
   "execution_count": null,
   "metadata": {},
   "outputs": [],
   "source": [
    "# Friction helper functions\n",
    "def step5(x):\n",
    "    '''Python version of MultibodyPlant::StribeckModel::step5 method'''\n",
    "    x3 = x * x * x\n",
    "    return x3 * (10 + x * (6 * x - 15))\n",
    "\n",
    "def stribeck(us, uk, v):\n",
    "    '''\n",
    "    Python version of MultibodyPlant::StribeckModel::ComputeFrictionCoefficient\n",
    "    \n",
    "    From\n",
    "    https://github.com/RobotLocomotion/drake/blob/b09e40db4b1c01232b22f7705fb98aa99ef91f87/multibody/plant/images/stiction.py\n",
    "    '''\n",
    "    u = np.zeros_like(v) + uk\n",
    "    u[v < 1] = us * step5(v[v < 1])\n",
    "    mask = (v >= 1) & (v < 3)\n",
    "    u[mask] = us - (us - uk) * step5((v[mask] - 1) / 2)\n",
    "    return u"
   ]
  },
  {
   "cell_type": "code",
   "execution_count": null,
   "metadata": {},
   "outputs": [],
   "source": [
    "def T(vec):\n",
    "    return np.transpose(vec, [0, 2, 1])"
   ]
  },
  {
   "cell_type": "markdown",
   "metadata": {},
   "source": [
    "## `diff` functions"
   ]
  },
  {
   "cell_type": "code",
   "execution_count": null,
   "metadata": {},
   "outputs": [],
   "source": [
    "def diff_vec(vec):\n",
    "    d_vec = np.diff(vec, axis=0)\n",
    "    for i in range(vec.shape[1]):\n",
    "        d_vec[:, i] /= np.expand_dims(np.diff(l_times), 1)\n",
    "    d_vec = np.concatenate((d_vec, [d_vec[-1]]))\n",
    "    return d_vec"
   ]
  },
  {
   "cell_type": "code",
   "execution_count": null,
   "metadata": {},
   "outputs": [],
   "source": [
    "def diff_arr(arr):\n",
    "    d_arr = np.diff(arr)/np.diff(l_times)\n",
    "    d_arr = np.concatenate((d_arr, [d_arr[-1]]))\n",
    "    return d_arr"
   ]
  },
  {
   "cell_type": "code",
   "execution_count": null,
   "metadata": {},
   "outputs": [],
   "source": [
    "def diff_mat(mat):\n",
    "    d_mat = np.diff(mat, axis=0)\n",
    "    for i in range(mat.shape[1]):\n",
    "        for j in range(mat.shape[2]):\n",
    "            d_mat[:, i, j] /= np.diff(l_times)\n",
    "    d_mat = np.concatenate((d_mat, [d_mat[-1]]))\n",
    "    return d_mat"
   ]
  },
  {
   "cell_type": "markdown",
   "metadata": {},
   "source": [
    "## `plot` functions"
   ]
  },
  {
   "cell_type": "code",
   "execution_count": null,
   "metadata": {},
   "outputs": [],
   "source": [
    "def plot_components(sig, finish_plotting=True):\n",
    "    plt.figure()\n",
    "    plt.plot(l_times, sig[:,0], color='r')\n",
    "    plt.plot(l_times, sig[:,1], color='g')\n",
    "    plt.plot(l_times, sig[:,2], color='b')\n",
    "    if finish_plotting:\n",
    "        plt.show()"
   ]
  },
  {
   "cell_type": "code",
   "execution_count": null,
   "metadata": {},
   "outputs": [],
   "source": [
    "def plot_vec(sig1, sig1_label, sig2, sig2_label, finish_plotting=True, start_time=None,\n",
    "             plot_error=False, create_fig=True):\n",
    "    if start_time is None:\n",
    "        idx_start_ = idx_start\n",
    "    else:\n",
    "        idx_start_ = np.argmax(l_times > start_time)\n",
    "    if create_fig:\n",
    "        plt.figure(figsize=(16, 8))\n",
    "    lw = 5\n",
    "    \n",
    "    if plot_error:\n",
    "        plt.subplot(2,1,1)\n",
    "        plt.plot(l_times[idx_start_:idx_end], (sig1 - sig2)[:,0][idx_start_:idx_end], label=r' $\\hat x$ error', color='r', linewidth=lw, alpha=0.5)\n",
    "        plt.plot(l_times[idx_start_:idx_end], (sig1 - sig2)[:,1][idx_start_:idx_end], label=r' $\\hat y$ error', color='g', linewidth=lw, alpha=0.5)\n",
    "        plt.plot(l_times[idx_start_:idx_end], (sig1 - sig2)[:,2][idx_start_:idx_end], label=r' $\\hat z$ error', color='b', linewidth=lw, alpha=0.5)\n",
    "        plt.xlabel(\"Time (seconds)\")\n",
    "        plt.legend()\n",
    "        plt.autoscale(enable=True, axis='x', tight=True)\n",
    "        plt.subplot(2,1,2)\n",
    "    \n",
    "    plt.plot(l_times[idx_start_:idx_end], sig1[:,0][idx_start_:idx_end], label=sig1_label + r' $\\hat x$ component', color='pink', linewidth=lw)\n",
    "    plt.plot(l_times[idx_start_:idx_end], sig1[:,1][idx_start_:idx_end], label=sig1_label + r' $\\hat y$ component', color='lightgreen', linewidth=lw)\n",
    "    plt.plot(l_times[idx_start_:idx_end], sig1[:,2][idx_start_:idx_end], label=sig1_label + r' $\\hat z$ component', color='lightskyblue', linewidth=lw)\n",
    "    \n",
    "    plt.plot(l_times[idx_start_:idx_end], sig2[:,0][idx_start_:idx_end], label=sig2_label + r' $\\hat x$ component', color='red', linewidth=lw, linestyle='--')\n",
    "    plt.plot(l_times[idx_start_:idx_end], sig2[:,1][idx_start_:idx_end], label=sig2_label + r' $\\hat y$ component', color='green', linewidth=lw, linestyle='--')\n",
    "    plt.plot(l_times[idx_start_:idx_end], sig2[:,2][idx_start_:idx_end], label=sig2_label + r' $\\hat z$ component', color='blue', linewidth=lw, linestyle='--')\n",
    "    plt.xlabel(\"Time (seconds)\")\n",
    "    plt.legend()\n",
    "    plt.autoscale(enable=True, axis='x', tight=True)\n",
    "    if finish_plotting:\n",
    "        plt.show()"
   ]
  },
  {
   "cell_type": "code",
   "execution_count": null,
   "metadata": {},
   "outputs": [],
   "source": [
    "def plot_vec_HTN(sig1, sig1_label, sig2, sig2_label, finish_plotting=True, start_time=None,\n",
    "                 plot_error=False, create_fig=True):\n",
    "    if start_time is None:\n",
    "        idx_start_ = idx_start\n",
    "    else:\n",
    "        idx_start_ = np.argmax(l_times > start_time)\n",
    "    if create_fig:\n",
    "        plt.figure(figsize=(16, 8))\n",
    "    lw = 5\n",
    "    \n",
    "    T_proj1 = np.matmul(T(sig1), T_hat).flatten()\n",
    "    T_proj2 = np.matmul(T(sig2), T_hat).flatten()\n",
    "    N_proj1 = np.matmul(T(sig1), N_hat).flatten()\n",
    "    N_proj2 = np.matmul(T(sig2), N_hat).flatten()\n",
    "    \n",
    "    if plot_error:\n",
    "        plt.subplot(2,1,1)\n",
    "        plt.plot(l_times[idx_start_:idx_end], (T_proj1 - T_proj2)[idx_start_:idx_end], label=r' $\\hat H$ error', color='r', linewidth=lw, alpha=0.5)\n",
    "        plt.plot(l_times[idx_start_:idx_end], (sig1 - sig2)[:,hinge_rotation_axis][idx_start_:idx_end], label=r' $\\hat T$ error', color='g', linewidth=lw, alpha=0.5)\n",
    "        plt.plot(l_times[idx_start_:idx_end], (N_proj2 - N_proj2)[idx_start_:idx_end], label=r' $\\hat N$ error', color='b', linewidth=lw, alpha=0.5)\n",
    "        plt.xlabel(\"Time (seconds)\")\n",
    "        plt.legend()\n",
    "        plt.autoscale(enable=True, axis='x', tight=True)\n",
    "        plt.subplot(2,1,2)\n",
    "    \n",
    "    plt.plot(l_times[idx_start_:idx_end], sig1[:,hinge_rotation_axis][idx_start_:idx_end], label=sig1_label + r' $\\hat H$ component', color='pink', linewidth=lw)\n",
    "    plt.plot(l_times[idx_start_:idx_end], T_proj1[idx_start_:idx_end], label=sig1_label + r' $\\hat T$ component', color='lightgreen', linewidth=lw)\n",
    "    plt.plot(l_times[idx_start_:idx_end], N_proj1[idx_start_:idx_end], label=sig1_label + r' $\\hat N$ component', color='lightskyblue', linewidth=lw)\n",
    "    \n",
    "    plt.plot(l_times[idx_start_:idx_end], sig2[:,hinge_rotation_axis][idx_start_:idx_end], label=sig2_label + r' $\\hat H$ component', color='red', linewidth=lw, linestyle='--')\n",
    "    plt.plot(l_times[idx_start_:idx_end], T_proj2[idx_start_:idx_end], label=sig2_label + r' $\\hat T$ component', color='green', linewidth=lw, linestyle='--')\n",
    "    plt.plot(l_times[idx_start_:idx_end], N_proj2[idx_start_:idx_end], label=sig2_label + r' $\\hat N$ component', color='blue', linewidth=lw, linestyle='--')\n",
    "    plt.xlabel(\"Time (seconds)\")\n",
    "    plt.legend()\n",
    "    plt.autoscale(enable=True, axis='x', tight=True)\n",
    "    if finish_plotting:\n",
    "        plt.show()"
   ]
  },
  {
   "cell_type": "code",
   "execution_count": null,
   "metadata": {},
   "outputs": [],
   "source": [
    "def plot_eq(lhs, lhs_label, rhs, rhs_label, lhs_alpha=1, rhs_alpha=1, lw=5, finish_plotting=True, \n",
    "            plot_diff=True, figsize_=None, plot_err_as_pct=False, t_start_=None, newline_in_title=False,\n",
    "            t_end_=None, create_fig=True):\n",
    "    # Can't set these to be default params because I don't want to have to define t_start\n",
    "    # before this function is defined\n",
    "    if t_start_ is None:\n",
    "        t_start_ = t_start\n",
    "    if t_end_ is None:\n",
    "        t_end_ = t_end\n",
    "\n",
    "    if create_fig:\n",
    "        if figsize_ is not None:\n",
    "            plt.figure(figsize=figsize_)\n",
    "        else:\n",
    "            plt.figure(figsize=default_figsize)\n",
    "    if isinstance(lhs, float) or isinstance(lhs, int):\n",
    "        lhs = np.ones_like(l_times)*lhs\n",
    "    if isinstance(rhs, float) or isinstance(rhs, int):\n",
    "        rhs = np.ones_like(l_times)*rhs\n",
    "    idx_start = np.argmax(l_times > t_start_)\n",
    "    idx_end = np.argmax(l_times > t_end_)\n",
    "    if idx_end == 0:\n",
    "        idx_end = len(l_times) - 1\n",
    "        \n",
    "    b = np.broadcast(lhs, rhs)\n",
    "    if np.count_nonzero(np.array(b.shape) > 1000) > 1:\n",
    "        raise ValueError(\"Broadcast shape of lhs and rhs is {}, which is too large.\".format(b.shape))\n",
    "        \n",
    "    if plot_diff:\n",
    "        plt.subplot(211)\n",
    "        error = lhs[idx_start:idx_end]-rhs[idx_start:idx_end]\n",
    "        if plot_err_as_pct:\n",
    "            lhs_range = np.nanmax(lhs[idx_start:idx_end]) - np.nanmin(lhs[idx_start:idx_end])\n",
    "            rhs_range = np.nanmax(rhs[idx_start:idx_end]) - np.nanmin(rhs[idx_start:idx_end])\n",
    "\n",
    "            lhs_max_val = np.nanmax(np.abs(lhs[idx_start:idx_end]))\n",
    "            rhs_max_val = np.nanmax(np.abs(rhs[idx_start:idx_end]))\n",
    "            error /= np.nanmax([lhs_max_val, rhs_max_val])\n",
    "            error *= 100\n",
    "\n",
    "        plt.plot(l_times[idx_start:idx_end],\n",
    "                error,\n",
    "                linewidth=lw)\n",
    "        plt.autoscale(enable=True, axis='x', tight=True)\n",
    "        plt.xlabel(\"Time (s)\")\n",
    "        if plot_err_as_pct:\n",
    "            plt.ylabel(\"Error (percent of max val)\")\n",
    "        else:\n",
    "            plt.ylabel(\"Error\")\n",
    "        if newline_in_title:\n",
    "            plt.title(\"Difference between {}\\n and {}\".format(lhs_label, rhs_label))\n",
    "        else:\n",
    "            plt.title(\"Difference between {} and {}\".format(lhs_label, rhs_label))\n",
    "\n",
    "\n",
    "        plt.subplot(212)\n",
    "    plt.plot(l_times[idx_start:idx_end],\n",
    "             lhs[idx_start:idx_end],\n",
    "             label=lhs_label, linewidth=lw, color='lightskyblue', zorder=0, alpha=lhs_alpha)\n",
    "    plt.plot(l_times[idx_start:idx_end],\n",
    "             rhs[idx_start:idx_end],\n",
    "             label=rhs_label, linewidth=lw, color='b', linestyle='--', zorder=1, alpha=rhs_alpha)\n",
    "    plt.autoscale(enable=True, axis='x', tight=True)\n",
    "    \n",
    "#     plt.axvline(t[np.argmax(in_contact)] + 0.5, color='k', linewidth=lw, linestyle='--')\n",
    "    \n",
    "    \n",
    "#     plt.axvline(t[first_contact_idx], color='green', linewidth=lw)\n",
    "#     plt.axvline(t_lose_contact, color='red', linewidth=lw)\n",
    "    \n",
    "    plt.legend()\n",
    "    plt.xlabel(\"Time (s)\")\n",
    "    \n",
    "    if finish_plotting:\n",
    "        plt.show()"
   ]
  },
  {
   "cell_type": "markdown",
   "metadata": {
    "tags": []
   },
   "source": [
    "# Load signals"
   ]
  },
  {
   "cell_type": "markdown",
   "metadata": {},
   "source": [
    "## Load times and `debug` dict"
   ]
  },
  {
   "cell_type": "code",
   "execution_count": null,
   "metadata": {},
   "outputs": [],
   "source": [
    "if hasattr(sim.fold_ctrl, \"debug\"):\n",
    "    debug = sim.fold_ctrl.debug\n",
    "    \n",
    "    min_key_length = np.inf\n",
    "    for k in debug.keys():\n",
    "        if len(debug[k]) > 0 and len(debug[k]) < min_key_length:\n",
    "            print(k)\n",
    "            min_key_length = len(debug[k])\n",
    "    for k in debug.keys():\n",
    "        debug[k] = debug[k][:min_key_length]\n",
    "\n",
    "    d_times = np.array(debug['times'])\n",
    "else:\n",
    "    debug = None"
   ]
  },
  {
   "cell_type": "code",
   "execution_count": null,
   "metadata": {},
   "outputs": [],
   "source": [
    "l_times = log.sample_times()"
   ]
  },
  {
   "cell_type": "markdown",
   "metadata": {
    "tags": []
   },
   "source": [
    "## Inputs\n",
    "These should all come from simulation/geometry, since they are inputs to the controller and are \"fixed\" from the controller's perspective."
   ]
  },
  {
   "cell_type": "code",
   "execution_count": null,
   "metadata": {},
   "outputs": [],
   "source": [
    "nq = manipulator.data['nq']"
   ]
  },
  {
   "cell_type": "markdown",
   "metadata": {},
   "source": [
    "### Geometric quantities ($m_L, m_M, w_L, I_L, h_L, \\mu$)"
   ]
  },
  {
   "cell_type": "code",
   "execution_count": null,
   "metadata": {},
   "outputs": [],
   "source": [
    "m_L = sim.sim_sys_consts.m_L\n",
    "w_L = sim.sim_sys_consts.w_L\n",
    "I_L = sim.sim_sys_consts.I_L\n",
    "h_L = sim.sim_sys_consts.h_L\n",
    "# mu = 2*mu_paper/(1+mu_paper) # 2μₘμₙ/(μₘ + μₙ)\n",
    "mu = sim.sim_sys_consts.mu\n",
    "b_J = sim.sim_sys_consts.b_J\n",
    "k_J = sim.sim_sys_consts.k_J"
   ]
  },
  {
   "cell_type": "markdown",
   "metadata": {},
   "source": [
    "### Gravity, unit vectors ($F_{GT}, F_{GN}, \\hat T, \\hat N$)"
   ]
  },
  {
   "cell_type": "code",
   "execution_count": null,
   "metadata": {},
   "outputs": [],
   "source": [
    "# Assume plane contact, so all N_hat should point the same direction\n",
    "# TODO: verify all point in the same direction\n",
    "N_hat_raw = log.data()[sim.log_wrapper.contact_entry_start_idx+14:sim.log_wrapper.contact_entry_start_idx+17,:].copy() # So it's writeable\n",
    "N_hat = np.expand_dims(N_hat_raw.T, 2)\n",
    "N_hat[:,0][np.isnan(N_hat[:,0])] = 0\n",
    "N_hat[:,1][np.isnan(N_hat[:,1])] = 0\n",
    "N_hat[:,2][np.isnan(N_hat[:,2])] = 1"
   ]
  },
  {
   "cell_type": "code",
   "execution_count": null,
   "metadata": {},
   "outputs": [],
   "source": [
    "H_hat = np.zeros_like(N_hat)\n",
    "H_hat[:,hinge_rotation_axis] = 1"
   ]
  },
  {
   "cell_type": "code",
   "execution_count": null,
   "metadata": {},
   "outputs": [],
   "source": [
    "# T hat can be defined by rotating N hat about hinge axis by -90 degrees\n",
    "rot = RotationMatrix(AngleAxis(axis=H_hat[0].flatten(), angle=-np.pi/2)).matrix()\n",
    "\n",
    "T_hat = np.matmul(rot, N_hat)"
   ]
  },
  {
   "cell_type": "markdown",
   "metadata": {},
   "source": [
    "It's also useful here to calculate project matrices:"
   ]
  },
  {
   "cell_type": "code",
   "execution_count": null,
   "metadata": {},
   "outputs": [],
   "source": [
    "N_hat_proj_mat = np.matmul(N_hat, np.transpose(N_hat, [0, 2, 1]))"
   ]
  },
  {
   "cell_type": "code",
   "execution_count": null,
   "metadata": {},
   "outputs": [],
   "source": [
    "g = sim.plant.gravity_field().gravity_vector()[-1]*-1\n",
    "F_G = np.zeros([l_times.size, 3, 1])\n",
    "F_G[:,2,0] = -np.ones_like(l_times)*g*m_L\n",
    "F_GT = np.matmul(T(F_G), T_hat).flatten()\n",
    "F_GN = np.matmul(T(F_G), N_hat).flatten()"
   ]
  },
  {
   "cell_type": "code",
   "execution_count": null,
   "metadata": {},
   "outputs": [],
   "source": [
    "idx = sim.log_wrapper.tau_g_start_idx\n",
    "length = manipulator.data[\"nq\"]\n",
    "tau_g = np.expand_dims(log.data()[idx:idx+length].T, 2)"
   ]
  },
  {
   "cell_type": "markdown",
   "metadata": {},
   "source": [
    "### Positions, velocities ($\\dot\\theta^2, r_T, \\dot d_T$)"
   ]
  },
  {
   "cell_type": "markdown",
   "metadata": {},
   "source": [
    "#### Object poses & vels"
   ]
  },
  {
   "cell_type": "markdown",
   "metadata": {},
   "source": [
    "##### Link"
   ]
  },
  {
   "cell_type": "markdown",
   "metadata": {},
   "source": [
    "Position:"
   ]
  },
  {
   "cell_type": "code",
   "execution_count": null,
   "metadata": {},
   "outputs": [],
   "source": [
    "idx = sim.log_wrapper.get_idx(\"pos\", \"trn\", sim.ll_idx)\n",
    "length = 3\n",
    "p_L = np.expand_dims(log.data()[idx:idx+length].T, 2)\n",
    "p_LN = np.matmul(T(p_L), N_hat).flatten()\n",
    "p_LT = np.matmul(T(p_L), T_hat).flatten()\n",
    "p_LH = p_L[:,hinge_rotation_axis].flatten()"
   ]
  },
  {
   "cell_type": "code",
   "execution_count": null,
   "metadata": {},
   "outputs": [],
   "source": [
    "idx = sim.log_wrapper.get_idx(\"pos\", \"rot\", sim.ll_idx)\n",
    "length = 3\n",
    "rot_vec_L = np.expand_dims(log.data()[idx:idx+length].T, 2)"
   ]
  },
  {
   "cell_type": "code",
   "execution_count": null,
   "metadata": {},
   "outputs": [],
   "source": [
    "theta_LX = log.data()[sim.log_wrapper.get_idx(\"pos\", \"rot\", sim.ll_idx)]\n",
    "theta_LY = log.data()[sim.log_wrapper.get_idx(\"pos\", \"rot\", sim.ll_idx)+1]\n",
    "theta_LZ = log.data()[sim.log_wrapper.get_idx(\"pos\", \"rot\", sim.ll_idx)+2]"
   ]
  },
  {
   "cell_type": "code",
   "execution_count": null,
   "metadata": {},
   "outputs": [],
   "source": [
    "theta_L = log.data()[sim.log_wrapper.get_idx(\"pos\", \"rot\", sim.ll_idx) + hinge_rotation_axis].copy()\n",
    "# Fix issue in RPY singularity\n",
    "theta_L[theta_LZ > np.pi/2] = theta_L[theta_LZ > np.pi/2]*-1 + np.pi"
   ]
  },
  {
   "cell_type": "markdown",
   "metadata": {},
   "source": [
    "Velocity:"
   ]
  },
  {
   "cell_type": "code",
   "execution_count": null,
   "metadata": {},
   "outputs": [],
   "source": [
    "idx = sim.log_wrapper.get_idx(\"vel\", \"trn\", sim.ll_idx)\n",
    "length = 3\n",
    "v_L = np.expand_dims(log.data()[idx:idx+length].T,2)\n",
    "v_LN = np.matmul(T(v_L), N_hat).flatten()\n",
    "v_LT = np.matmul(T(v_L), T_hat).flatten()\n",
    "v_LH = v_L[:,hinge_rotation_axis].flatten()"
   ]
  },
  {
   "cell_type": "code",
   "execution_count": null,
   "metadata": {},
   "outputs": [],
   "source": [
    "d_theta_L = log.data()[sim.log_wrapper.get_idx(\"vel\", \"rot\", sim.ll_idx) + hinge_rotation_axis]"
   ]
  },
  {
   "cell_type": "code",
   "execution_count": null,
   "metadata": {},
   "outputs": [],
   "source": [
    "idx = sim.log_wrapper.get_idx(\"vel\", \"rot\", sim.ll_idx)\n",
    "length = 3\n",
    "omega_vec_L = np.expand_dims(log.data()[idx:idx+length].T, 2)"
   ]
  },
  {
   "cell_type": "markdown",
   "metadata": {},
   "source": [
    "##### Manipulator"
   ]
  },
  {
   "cell_type": "markdown",
   "metadata": {},
   "source": [
    "Position:"
   ]
  },
  {
   "cell_type": "code",
   "execution_count": null,
   "metadata": {},
   "outputs": [],
   "source": [
    "idx = sim.log_wrapper.get_idx(\"pos\", \"trn\", sim.contact_body_idx)\n",
    "length = 3\n",
    "p_M = np.expand_dims(log.data()[idx:idx+length].T, 2)\n",
    "p_MN = np.matmul(T(p_M), N_hat).flatten()\n",
    "p_MT = np.matmul(T(p_M), T_hat).flatten()\n",
    "p_MH = p_M[:,hinge_rotation_axis].flatten()"
   ]
  },
  {
   "cell_type": "code",
   "execution_count": null,
   "metadata": {},
   "outputs": [],
   "source": [
    "idx = sim.log_wrapper.get_idx(\"pos\", \"rot\", sim.contact_body_idx)\n",
    "length = 3\n",
    "rot_vec_M = np.expand_dims(log.data()[idx:idx+length].T, 2)"
   ]
  },
  {
   "cell_type": "code",
   "execution_count": null,
   "metadata": {},
   "outputs": [],
   "source": [
    "theta_MX = log.data()[sim.log_wrapper.get_idx(\"pos\", \"rot\", sim.contact_body_idx)]\n",
    "theta_MY = log.data()[sim.log_wrapper.get_idx(\"pos\", \"rot\", sim.contact_body_idx)+1]\n",
    "theta_MZ = log.data()[sim.log_wrapper.get_idx(\"pos\", \"rot\", sim.contact_body_idx)+2]"
   ]
  },
  {
   "cell_type": "markdown",
   "metadata": {},
   "source": [
    "Velocity:"
   ]
  },
  {
   "cell_type": "code",
   "execution_count": null,
   "metadata": {},
   "outputs": [],
   "source": [
    "idx = sim.log_wrapper.get_idx(\"vel\", \"trn\", sim.contact_body_idx)\n",
    "length = 3\n",
    "v_M = np.expand_dims(log.data()[idx:idx+length].T, 2)\n",
    "v_MN = np.matmul(T(v_M), N_hat).flatten()\n",
    "v_MT = np.matmul(T(v_M), T_hat).flatten()\n",
    "v_MH = v_M[:,hinge_rotation_axis].flatten()"
   ]
  },
  {
   "cell_type": "code",
   "execution_count": null,
   "metadata": {},
   "outputs": [],
   "source": [
    "idx = sim.log_wrapper.get_idx(\"vel\", \"rot\", sim.contact_body_idx)\n",
    "length = 3\n",
    "omega_vec_M = np.expand_dims(log.data()[idx:idx+length].T, 2)"
   ]
  },
  {
   "cell_type": "code",
   "execution_count": null,
   "metadata": {},
   "outputs": [],
   "source": [
    "omega_MX = omega_vec_M[:,0].flatten()\n",
    "omega_MY = omega_vec_M[:,1].flatten()\n",
    "omega_MZ = omega_vec_M[:,2].flatten()"
   ]
  },
  {
   "cell_type": "markdown",
   "metadata": {},
   "source": [
    "Roll, pitch, and yaw rates:"
   ]
  },
  {
   "cell_type": "code",
   "execution_count": null,
   "metadata": {},
   "outputs": [],
   "source": [
    "d_theta_MX = diff_arr(theta_MX)\n",
    "d_theta_MY = diff_arr(theta_MY)\n",
    "d_theta_MZ = diff_arr(theta_MZ)"
   ]
  },
  {
   "cell_type": "markdown",
   "metadata": {},
   "source": [
    "##### Other terms"
   ]
  },
  {
   "cell_type": "code",
   "execution_count": null,
   "metadata": {},
   "outputs": [],
   "source": [
    "x_hat = np.zeros((len(l_times), 3, 1))\n",
    "x_hat[:,0,:] = 1\n",
    "\n",
    "y_hat = np.zeros((len(l_times), 3, 1))\n",
    "y_hat[:,1,:] = 1\n",
    "\n",
    "z_hat = np.zeros((len(l_times), 3, 1))\n",
    "z_hat[:,2,:] = 1"
   ]
  },
  {
   "cell_type": "markdown",
   "metadata": {},
   "source": [
    "#### Manipulator eq. terms"
   ]
  },
  {
   "cell_type": "code",
   "execution_count": null,
   "metadata": {},
   "outputs": [],
   "source": [
    "idx = sim.log_wrapper.J_start_idx\n",
    "length = manipulator.data[\"nq\"]*6\n",
    "J = np.transpose(log.data()[idx:idx+length].reshape(6, nq, len(l_times)), [2, 0, 1])\n",
    "J_rotational = J[:,:3,:]\n",
    "J_translational = J[:,3:,:]"
   ]
  },
  {
   "cell_type": "code",
   "execution_count": null,
   "metadata": {},
   "outputs": [],
   "source": [
    "idx = sim.log_wrapper.joint_centering_torque_start_idx\n",
    "length = manipulator.data[\"nq\"]\n",
    "joint_centering_torque = np.expand_dims(np.transpose(log.data()[idx:idx+length]), 2)"
   ]
  },
  {
   "cell_type": "code",
   "execution_count": null,
   "metadata": {},
   "outputs": [],
   "source": [
    "q = np.expand_dims((log.data()[sim.log_wrapper.state_start_idx:sim.log_wrapper.state_start_idx + nq,:]).T, 2)\n",
    "d_q = np.expand_dims((log.data()[sim.log_wrapper.state_start_idx + nq:sim.log_wrapper.state_start_idx + nq*2,:]).T, 2)"
   ]
  },
  {
   "cell_type": "code",
   "execution_count": null,
   "metadata": {},
   "outputs": [],
   "source": [
    "idx = sim.log_wrapper.M_start_idx\n",
    "length = manipulator.data[\"nq\"]*manipulator.data[\"nq\"]\n",
    "M = np.transpose(log.data()[idx:idx+length].reshape(nq, nq, len(l_times)), [2, 0, 1])"
   ]
  },
  {
   "cell_type": "code",
   "execution_count": null,
   "metadata": {},
   "outputs": [],
   "source": [
    "idx = sim.log_wrapper.Cv_start_idx\n",
    "length = manipulator.data[\"nq\"]\n",
    "Cv = np.expand_dims(log.data()[idx:idx+length].T, 2)"
   ]
  },
  {
   "cell_type": "code",
   "execution_count": null,
   "metadata": {},
   "outputs": [],
   "source": [
    "idx = sim.log_wrapper.Jdot_qdot_start_idx\n",
    "length = 6\n",
    "Jdot_qdot = np.expand_dims(log.data()[idx:idx+length].T, 2)"
   ]
  },
  {
   "cell_type": "markdown",
   "metadata": {},
   "source": [
    "#### Body derived terms\n",
    "Meaning terms derived from the positions/velocities of bodies"
   ]
  },
  {
   "cell_type": "code",
   "execution_count": null,
   "metadata": {},
   "outputs": [],
   "source": [
    "R = np.zeros((len(l_times), 3, 3))\n",
    "R[:,1,1] = np.cos(theta_L)\n",
    "R[:,1,2] = -np.sin(theta_L)\n",
    "R[:,2,1] = np.sin(theta_L)\n",
    "R[:,2,2] = np.cos(theta_L)"
   ]
  },
  {
   "cell_type": "code",
   "execution_count": null,
   "metadata": {},
   "outputs": [],
   "source": [
    "T_hat_geo = np.matmul(R, y_hat)\n",
    "N_hat_geo = np.matmul(R, z_hat)"
   ]
  },
  {
   "cell_type": "code",
   "execution_count": null,
   "metadata": {},
   "outputs": [],
   "source": [
    "# Link edge\n",
    "p_LE = p_L + (w_L/2)*T_hat-(h_L/2)*N_hat"
   ]
  },
  {
   "cell_type": "code",
   "execution_count": null,
   "metadata": {},
   "outputs": [],
   "source": [
    "J_dot = diff_vec(J)"
   ]
  },
  {
   "cell_type": "markdown",
   "metadata": {},
   "source": [
    "#### Contact terms\n",
    "TODO: edit out/simplify eventually"
   ]
  },
  {
   "cell_type": "code",
   "execution_count": null,
   "metadata": {},
   "outputs": [],
   "source": [
    "contact_point = log.data()[sim.log_wrapper.contact_entry_start_idx+11:sim.log_wrapper.contact_entry_start_idx+14,:]"
   ]
  },
  {
   "cell_type": "code",
   "execution_count": null,
   "metadata": {},
   "outputs": [],
   "source": [
    "p_C = np.expand_dims(contact_point.T, 2)\n",
    "p_CT = np.matmul(T(p_C), T_hat).flatten()\n",
    "p_CN = np.matmul(T(p_C), N_hat).flatten()"
   ]
  },
  {
   "cell_type": "code",
   "execution_count": null,
   "metadata": {},
   "outputs": [],
   "source": [
    "r = np.linalg.norm(p_C - p_M, axis=1).flatten()"
   ]
  },
  {
   "cell_type": "code",
   "execution_count": null,
   "metadata": {},
   "outputs": [],
   "source": [
    "# Assume all the slip speeds are the same\n",
    "# TODO: verify\n",
    "slip_speed = log.data()[sim.log_wrapper.contact_entry_start_idx+10,:]"
   ]
  },
  {
   "cell_type": "code",
   "execution_count": null,
   "metadata": {},
   "outputs": [],
   "source": [
    "# d vector\n",
    "d_vec = p_C - p_LE\n",
    "d_T = np.matmul(T(d_vec), T_hat).flatten()\n",
    "d_N = np.matmul(T(d_vec), N_hat).flatten()\n",
    "d_H = d_vec[:,hinge_rotation_axis].flatten()"
   ]
  },
  {
   "cell_type": "code",
   "execution_count": null,
   "metadata": {},
   "outputs": [],
   "source": [
    "d_d_T = -d_theta_L*h_L/2-d_theta_L*r - v_LT + v_MT + d_theta_L*d_N\n",
    "d_d_N = -d_theta_L*w_L/2-v_LN+v_MN-d_theta_L*d_T\n",
    "d_d_H = diff_arr(d_H)"
   ]
  },
  {
   "cell_type": "code",
   "execution_count": null,
   "metadata": {},
   "outputs": [],
   "source": [
    "dd_d_T = diff_arr(d_d_T)\n",
    "dd_d_N = diff_arr(d_d_N)\n",
    "dd_d_H = diff_arr(d_d_H)"
   ]
  },
  {
   "cell_type": "code",
   "execution_count": null,
   "metadata": {},
   "outputs": [],
   "source": [
    "d_d_vec = diff_vec(d_vec)\n",
    "d_d_vec_T = np.matmul(T(d_d_vec), T_hat).flatten()\n",
    "d_d_vec_N = np.matmul(T(d_d_vec), N_hat).flatten()"
   ]
  },
  {
   "cell_type": "code",
   "execution_count": null,
   "metadata": {},
   "outputs": [],
   "source": [
    "p_MConM = p_C - p_M\n",
    "p_LConL = p_C - p_L\n",
    "\n",
    "v_WConM = v_M + np.cross(omega_vec_M, p_MConM, axis=1)\n",
    "v_WConL = v_L + np.cross(omega_vec_L, p_LConL, axis=1)\n",
    "\n",
    "v_S_raw = v_WConM - v_WConL\n",
    "v_S_N = np.matmul(N_hat_proj_mat, v_S_raw)\n",
    "v_S = v_S_raw - v_S_N\n",
    "s_S = np.linalg.norm(v_S, axis=1).flatten()"
   ]
  },
  {
   "cell_type": "code",
   "execution_count": null,
   "metadata": {},
   "outputs": [],
   "source": [
    "s_hat = v_S/np.expand_dims(np.linalg.norm(v_S, axis=1), 2)\n",
    "s_hat_H = s_hat[:,hinge_rotation_axis].flatten()\n",
    "s_hat_T = np.matmul(T(s_hat), T_hat).flatten()"
   ]
  },
  {
   "cell_type": "code",
   "execution_count": null,
   "metadata": {},
   "outputs": [],
   "source": [
    "d_d_T_diff = diff_arr(d_T)\n",
    "d_d_N_diff = diff_arr(d_N)"
   ]
  },
  {
   "cell_type": "markdown",
   "metadata": {},
   "source": [
    "### Friction coefficients"
   ]
  },
  {
   "cell_type": "code",
   "execution_count": null,
   "metadata": {},
   "outputs": [],
   "source": [
    "mu_S = stribeck(1, 1, s_S/constants.v_stiction)"
   ]
  },
  {
   "cell_type": "markdown",
   "metadata": {
    "toc-hr-collapsed": true
   },
   "source": [
    "## Outputs\n",
    "These should all come directly from simulation, except for control forces.\n",
    "### Measured accelerations ($a_{LT}, a_{LN}, a_{MT}, a_{MN}, \\ddot\\theta$)"
   ]
  },
  {
   "cell_type": "code",
   "execution_count": null,
   "metadata": {},
   "outputs": [],
   "source": [
    "idx = sim.log_wrapper.get_idx(\"acc\", \"trn\", sim.ll_idx)\n",
    "length = 3\n",
    "a_L = np.expand_dims(log.data()[idx:idx+length].T, 2)\n",
    "a_LH = np.matmul(T(a_L), H_hat).flatten()\n",
    "a_LT = np.matmul(T(a_L), T_hat).flatten()\n",
    "a_LN = np.matmul(T(a_L), N_hat).flatten()"
   ]
  },
  {
   "cell_type": "code",
   "execution_count": null,
   "metadata": {},
   "outputs": [],
   "source": [
    "idx = sim.log_wrapper.get_idx(\"acc\", \"trn\", sim.contact_body_idx)\n",
    "length = 3\n",
    "a_M = np.expand_dims(log.data()[idx:idx+length].T, 2)\n",
    "a_MH = np.matmul(T(a_M), H_hat).flatten()\n",
    "a_MT = np.matmul(T(a_M), T_hat).flatten()\n",
    "a_MN = np.matmul(T(a_M), N_hat).flatten()\n",
    "a_MX = a_M[:,0].flatten()\n",
    "a_MY = a_M[:,1].flatten()\n",
    "a_MZ = a_M[:,2].flatten()"
   ]
  },
  {
   "cell_type": "code",
   "execution_count": null,
   "metadata": {},
   "outputs": [],
   "source": [
    "idx = sim.log_wrapper.get_idx(\"acc\", \"rot\", sim.contact_body_idx)\n",
    "length = 3\n",
    "alpha_M = np.expand_dims(log.data()[idx:idx+length].T, 2)\n",
    "alpha_MT = np.matmul(T(alpha_M), T_hat).flatten()\n",
    "alpha_MN = np.matmul(T(alpha_M), N_hat).flatten()\n",
    "alpha_MX = alpha_M[:,0].flatten()\n",
    "alpha_MY = alpha_M[:,1].flatten()\n",
    "alpha_MZ = alpha_M[:,2].flatten()"
   ]
  },
  {
   "cell_type": "code",
   "execution_count": null,
   "metadata": {},
   "outputs": [],
   "source": [
    "dd_theta_L = log.data()[sim.log_wrapper.get_idx(\"acc\", \"rot\", sim.ll_idx) + hinge_rotation_axis]\n",
    "dd_theta_M = log.data()[sim.log_wrapper.get_idx(\"acc\", \"rot\", sim.contact_body_idx)]"
   ]
  },
  {
   "cell_type": "code",
   "execution_count": null,
   "metadata": {},
   "outputs": [],
   "source": [
    "dd_q = np.expand_dims((log.data()[sim.log_wrapper.gen_accs_start_idx:\n",
    "                                     sim.log_wrapper.gen_accs_start_idx+nq,:]).T, 2)"
   ]
  },
  {
   "cell_type": "markdown",
   "metadata": {},
   "source": [
    "### Contact forces ($F_{NL}, F_{FL}, F_{NM}, F_{FM}$)\n",
    "Slightly different then just taking normal/tangent projections."
   ]
  },
  {
   "cell_type": "code",
   "execution_count": null,
   "metadata": {},
   "outputs": [],
   "source": [
    "F_NM = np.zeros(len(l_times))\n",
    "F_FMT = np.zeros(len(l_times))\n",
    "F_FMH = np.zeros(len(l_times))\n",
    "F_ContactM_XYZ = np.zeros((len(l_times), 3, 1))\n",
    "tau_contact = np.zeros((len(l_times), nq, 1))\n",
    "for i in range(sim.log_wrapper.max_contacts):\n",
    "    # Pull out terms\n",
    "    start_idx = sim.log_wrapper.contact_entry_start_idx + sim.log_wrapper.entries_per_contact*i\n",
    "    contact_point = np.expand_dims(log.data()[start_idx+11:start_idx+14,:].T, 2)\n",
    "    if np.all(np.isnan(contact_point)):\n",
    "        break\n",
    "\n",
    "    # Calculate intermediautes\n",
    "    lever_arm = contact_point - p_M\n",
    "    force = np.expand_dims(log.data()[start_idx+0:start_idx+3,:].T, 2)\n",
    "    torque = np.cross(lever_arm, force, axis=1)\n",
    "    wrench = np.hstack((torque, force))\n",
    "    \n",
    "    # Calculate updates\n",
    "    F_FMT_update = np.matmul(T(force), T_hat).flatten()\n",
    "    F_NM_update = np.matmul(T(force), N_hat).flatten()\n",
    "    F_FMH_update = force[:,hinge_rotation_axis].flatten()\n",
    "    F_ContactM_XYZ_update = force\n",
    "    \n",
    "    # Update\n",
    "    tau_contact += np.matmul(T(J), wrench)\n",
    "    F_FMT += F_FMT_update\n",
    "    F_NM += F_NM_update\n",
    "    F_FMH += F_FMH_update\n",
    "    F_ContactM_XYZ += F_ContactM_XYZ_update\n",
    "    \n",
    "F_NM = np.nan_to_num(F_NM)\n",
    "F_FMT = np.nan_to_num(F_FMT)\n",
    "F_FMH = np.nan_to_num(F_FMH)\n",
    "tau_contact = np.nan_to_num(tau_contact)\n",
    "F_ContactM_XYZ = np.nan_to_num(F_ContactM_XYZ)"
   ]
  },
  {
   "cell_type": "code",
   "execution_count": null,
   "metadata": {},
   "outputs": [],
   "source": [
    "F_FLT = -F_FMT\n",
    "F_FLH = -F_FMH\n",
    "F_NL = -F_NM"
   ]
  },
  {
   "cell_type": "code",
   "execution_count": null,
   "metadata": {},
   "outputs": [],
   "source": [
    "# Equivalent contact forces for each object\n",
    "F_contact_M = np.expand_dims(F_FMH, [1, 2])*H_hat + \\\n",
    "                  np.expand_dims(F_FMT, [1, 2])*T_hat + \\\n",
    "                  np.expand_dims(F_NM, [1, 2])*N_hat"
   ]
  },
  {
   "cell_type": "code",
   "execution_count": null,
   "metadata": {},
   "outputs": [],
   "source": [
    "F_ContactMX = F_contact_M[:,0].flatten()\n",
    "F_ContactMY = F_contact_M[:,1].flatten()\n",
    "F_ContactMZ = F_contact_M[:,2].flatten()"
   ]
  },
  {
   "cell_type": "code",
   "execution_count": null,
   "metadata": {},
   "outputs": [],
   "source": [
    "F_contact_L = np.expand_dims(F_FLH, [1, 2])*H_hat + \\\n",
    "              np.expand_dims(F_FLT, [1, 2])*T_hat + \\\n",
    "              np.expand_dims(F_NL, [1, 2])*N_hat"
   ]
  },
  {
   "cell_type": "markdown",
   "metadata": {},
   "source": [
    "### Object forces ($F_{ON}, F_{OT}, \\tau_O$) and other joint terms"
   ]
  },
  {
   "cell_type": "code",
   "execution_count": null,
   "metadata": {},
   "outputs": [],
   "source": [
    "idx = sim.log_wrapper.get_last_jnt_idx(\"trn\")\n",
    "joint_force_in_compliance_frame = log.data()[idx:idx+3]"
   ]
  },
  {
   "cell_type": "code",
   "execution_count": null,
   "metadata": {},
   "outputs": [],
   "source": [
    "# Copy makes it mutable\n",
    "# TODO: figure out how to make this more reliable\n",
    "F_OH = joint_force_in_compliance_frame[1,:].copy()\n",
    "F_OT = -joint_force_in_compliance_frame[0,:].copy() # X direction is opposite of T hat\n",
    "F_ON = joint_force_in_compliance_frame[2,:].copy()"
   ]
  },
  {
   "cell_type": "code",
   "execution_count": null,
   "metadata": {},
   "outputs": [],
   "source": [
    "idx = sim.log_wrapper.get_last_jnt_idx(\"rot\")\n",
    "joint_torque_in_compliance_frame = log.data()[idx:idx+3]"
   ]
  },
  {
   "cell_type": "code",
   "execution_count": null,
   "metadata": {},
   "outputs": [],
   "source": [
    "# Copy makes it mutable\n",
    "tau_O = joint_torque_in_compliance_frame[hinge_rotation_axis,:].copy()"
   ]
  },
  {
   "cell_type": "code",
   "execution_count": null,
   "metadata": {},
   "outputs": [],
   "source": [
    "F_OH = np.nan_to_num(F_OH)\n",
    "F_OT = np.nan_to_num(F_OT)\n",
    "F_ON = np.nan_to_num(F_ON)\n",
    "tau_O = np.nan_to_num(tau_O)"
   ]
  },
  {
   "cell_type": "code",
   "execution_count": null,
   "metadata": {},
   "outputs": [],
   "source": [
    "# Get transform from link CoM to joint EXPRESSED IN LINK FRAME\n",
    "X_LJ_L = sim.paper.joints[-1].frame_on_child().GetFixedPoseInBodyFrame()\n",
    "\n",
    "p_JL = []\n",
    "p_JC = []\n",
    "p_WJ = []\n",
    "rpy_WJ = []\n",
    "for p_L_, p_C_, theta_LX_, theta_LY_, theta_LZ_ in zip(p_L, p_C, theta_LX, theta_LY, theta_LZ):\n",
    "    # Construct transform of link CoM\n",
    "    X_WL_ = RigidTransform(\n",
    "        p=p_L_,\n",
    "        rpy=RollPitchYaw(theta_LX_, theta_LY_, theta_LZ_)\n",
    "    )\n",
    "    \n",
    "    # Get joint location EXPRESSED IN WORLD FRAME\n",
    "    X_WJ = X_WL_.multiply(X_LJ_L)\n",
    "    p_WJ.append(X_WJ.translation())\n",
    "    rpy_WJ.append(RollPitchYaw(X_WJ.rotation()).vector())\n",
    "    \n",
    "    # Calculate lever arms for later torque math\n",
    "    p_JL.append(p_L_.flatten() - X_WJ.translation())\n",
    "    p_JC.append(p_C_.flatten() - X_WJ.translation())\n",
    "p_JL = np.expand_dims(np.array(p_JL), 2)\n",
    "p_JC = np.expand_dims(np.array(p_JC), 2)\n",
    "p_WJ = np.expand_dims(np.array(p_WJ), 2)\n",
    "rpy_WJ = np.expand_dims(np.array(rpy_WJ), 2)"
   ]
  },
  {
   "cell_type": "code",
   "execution_count": null,
   "metadata": {},
   "outputs": [],
   "source": [
    "theta_WJ = rpy_WJ[:,1].flatten()\n",
    "d_theta_WJ = diff_arr(theta_WJ)\n",
    "dd_theta_WJ = diff_arr(d_theta_WJ)"
   ]
  },
  {
   "cell_type": "code",
   "execution_count": null,
   "metadata": {},
   "outputs": [],
   "source": [
    "# Get inertia relative to joint of link, via parallel axis theorem\n",
    "d_ = np.linalg.norm(p_JL, axis=1).flatten()\n",
    "I_LJ = I_L + m_L*d_**2"
   ]
  },
  {
   "cell_type": "code",
   "execution_count": null,
   "metadata": {},
   "outputs": [],
   "source": [
    "contact_torque_about_joint = np.cross(p_JC, F_contact_L, axis=1)[:,hinge_rotation_axis].flatten()\n",
    "gravity_torque_about_joint = np.cross(p_JL, F_G, axis=1)[:,hinge_rotation_axis].flatten()"
   ]
  },
  {
   "cell_type": "markdown",
   "metadata": {
    "tags": [],
    "toc-hr-collapsed": true
   },
   "source": [
    "## Control terms"
   ]
  },
  {
   "cell_type": "code",
   "execution_count": null,
   "metadata": {},
   "outputs": [],
   "source": [
    "idx = sim.log_wrapper.tau_ctrl_start_idx\n",
    "length = manipulator.data[\"nq\"]\n",
    "tau_ctrl = np.expand_dims(np.transpose(log.data()[idx:idx+length]), 2)"
   ]
  },
  {
   "cell_type": "code",
   "execution_count": null,
   "metadata": {},
   "outputs": [],
   "source": [
    "idx = sim.log_wrapper.tau_out_start_idx\n",
    "length = manipulator.data[\"nq\"]\n",
    "tau_out = np.expand_dims(np.transpose(log.data()[idx:idx+length]), 2)"
   ]
  },
  {
   "cell_type": "code",
   "execution_count": null,
   "metadata": {},
   "outputs": [],
   "source": [
    "idx = sim.log_wrapper.tau_contact_ctrl_idx\n",
    "length = manipulator.data[\"nq\"]\n",
    "tau_contact_ctrl = np.expand_dims(np.transpose(log.data()[idx:idx+length]), 2)"
   ]
  },
  {
   "cell_type": "code",
   "execution_count": null,
   "metadata": {},
   "outputs": [],
   "source": [
    "F_out = np.matmul(J_translational, tau_out)\n",
    "F_outN = np.matmul(T(F_out), N_hat).flatten()\n",
    "F_outT = np.matmul(T(F_out), T_hat).flatten()"
   ]
  },
  {
   "cell_type": "markdown",
   "metadata": {},
   "source": [
    "### Other outputs"
   ]
  },
  {
   "cell_type": "code",
   "execution_count": null,
   "metadata": {},
   "outputs": [],
   "source": [
    "forces_found = log.data()[-1,:]"
   ]
  },
  {
   "cell_type": "code",
   "execution_count": null,
   "metadata": {},
   "outputs": [],
   "source": [
    "in_contact = log.data()[sim.log_wrapper.calc_in_contact_start_idx]"
   ]
  },
  {
   "cell_type": "code",
   "execution_count": null,
   "metadata": {},
   "outputs": [],
   "source": [
    "t = l_times"
   ]
  },
  {
   "cell_type": "markdown",
   "metadata": {
    "tags": [],
    "toc-hr-collapsed": true
   },
   "source": [
    "# Set up plotting times"
   ]
  },
  {
   "cell_type": "markdown",
   "metadata": {
    "tags": [],
    "toc-hr-collapsed": true
   },
   "source": [
    "## Process contact times"
   ]
  },
  {
   "cell_type": "markdown",
   "metadata": {},
   "source": [
    "These are all derived by contact, so we should first inspect the contact plot:"
   ]
  },
  {
   "cell_type": "code",
   "execution_count": null,
   "metadata": {},
   "outputs": [],
   "source": [
    "plt.plot(l_times, in_contact, \"b--\", linewidth=2, label=\"Filtered\")\n",
    "plt.legend()\n",
    "plt.show()"
   ]
  },
  {
   "cell_type": "markdown",
   "metadata": {},
   "source": [
    "Select what data should be use to select contact:"
   ]
  },
  {
   "cell_type": "code",
   "execution_count": null,
   "metadata": {},
   "outputs": [],
   "source": [
    "contact_data = in_contact"
   ]
  },
  {
   "cell_type": "code",
   "execution_count": null,
   "metadata": {},
   "outputs": [],
   "source": [
    "first_contact_idx = np.argmax(contact_data)\n",
    "last_contact_idx = contact_data.size - np.argmax(contact_data[::-1]-1)-1\n",
    "l_times[last_contact_idx]"
   ]
  },
  {
   "cell_type": "code",
   "execution_count": null,
   "metadata": {},
   "outputs": [],
   "source": [
    "last_not_in_contact_idx = contact_data.size - np.argmax(np.logical_not(contact_data[::-1])-1)-1\n",
    "t_start_of_last_contact = t[min(last_not_in_contact_idx+1, len(l_times) - 1)]"
   ]
  },
  {
   "cell_type": "markdown",
   "metadata": {},
   "source": [
    "## Select final `t_start` and `t_end`"
   ]
  },
  {
   "cell_type": "code",
   "execution_count": null,
   "metadata": {},
   "outputs": [],
   "source": [
    "# t_start = 0\n",
    "t_start = t[first_contact_idx]"
   ]
  },
  {
   "cell_type": "code",
   "execution_count": null,
   "metadata": {},
   "outputs": [],
   "source": [
    "t_end = effective_tspan\n",
    "# t_end = t[last_contact_idx]-0.5"
   ]
  },
  {
   "cell_type": "code",
   "execution_count": null,
   "metadata": {},
   "outputs": [],
   "source": [
    "idx_start = np.argmax(l_times > t_start)\n",
    "idx_end = np.argmax(l_times > t_end)\n",
    "if idx_end == 0:\n",
    "    idx_end = len(l_times) - 1"
   ]
  },
  {
   "cell_type": "markdown",
   "metadata": {
    "tags": []
   },
   "source": [
    "# Plots (individual run)"
   ]
  },
  {
   "cell_type": "markdown",
   "metadata": {
    "tags": []
   },
   "source": [
    "## Verify controller input signals\n",
    "This plot automatically compares all outputs of `vision_processer` with what we have already loaded into the workspace."
   ]
  },
  {
   "cell_type": "code",
   "execution_count": null,
   "metadata": {},
   "outputs": [],
   "source": [
    "counter = 1\n",
    "ignored_keys = {'t'}\n",
    "\n",
    "# Get number of subplots\n",
    "num_subplots = 0\n",
    "for i, k in enumerate(sim.vision_processor.debug.keys()):\n",
    "    if k in ignored_keys:\n",
    "        continue\n",
    "    if k.endswith('_t'):\n",
    "        continue\n",
    "    if len(locals()[k].shape) > 1:\n",
    "        for i in range(locals()[k].shape[1]):\n",
    "            num_subplots += 1\n",
    "    else:\n",
    "        num_subplots += 1\n",
    "\n",
    "height_per_row = 6\n",
    "\n",
    "for i, k in enumerate(sim.vision_processor.debug.keys()):\n",
    "    if k in ignored_keys:\n",
    "        continue\n",
    "    if len(sim.vision_processor.debug[k]) == 0:\n",
    "        continue\n",
    "    if k.endswith('_t'):\n",
    "        continue\n",
    "    if len(locals()[k].shape) > 1:\n",
    "        for i in range(locals()[k].shape[1]):\n",
    "            if (counter%3) == 1:\n",
    "                plt.tight_layout()\n",
    "                plt.show()\n",
    "                plt.figure(figsize=(12, height_per_row))\n",
    "            plt.subplot(1, 3, (counter%3) + 1)\n",
    "            counter += 1\n",
    "            plt.title(k + '[' + str(i) + ']')\n",
    "            plt.plot(l_times, locals()[k][:,i], color='lightblue')\n",
    "            plt.plot(sim.vision_processor.debug[k + '_t'], np.array(sim.vision_processor.debug[k])[:,i], \\\n",
    "                     color='blue', linestyle='--')\n",
    "    else:\n",
    "        if (counter%3) == 1:\n",
    "            plt.tight_layout()\n",
    "            plt.show()\n",
    "            plt.figure(figsize=(12, height_per_row))\n",
    "        plt.subplot(1, 3, (counter%3) + 1)\n",
    "        counter += 1\n",
    "        plt.title(k)\n",
    "        plt.plot(l_times, locals()[k], color='lightblue')\n",
    "        plt.plot(sim.vision_processor.debug[k + '_t'], sim.vision_processor.debug[k], \\\n",
    "                 color='blue', linestyle='--')\n",
    "plt.tight_layout()\n",
    "plt.show()"
   ]
  },
  {
   "cell_type": "markdown",
   "metadata": {
    "tags": [],
    "toc-hr-collapsed": true
   },
   "source": [
    "## Inverse dynamics verification"
   ]
  },
  {
   "cell_type": "markdown",
   "metadata": {},
   "source": [
    "### Load debug signals"
   ]
  },
  {
   "cell_type": "code",
   "execution_count": null,
   "metadata": {},
   "outputs": [],
   "source": [
    "if (ctrl_paradigm == plant.simulation.CtrlParadigm.INVERSE_DYNAMICS):\n",
    "    debug_tau_contact = scipy.interpolate.interp1d(d_times, debug['tau_contact'], axis=0)(l_times)\n",
    "    debug_a_MH = scipy.interpolate.interp1d(d_times, debug['a_MH'], axis=0)(l_times)\n",
    "    debug_F_OT = scipy.interpolate.interp1d(d_times, debug['F_OT'], axis=0)(l_times)\n",
    "    debug_F_ON = scipy.interpolate.interp1d(d_times, debug['F_ON'], axis=0)(l_times)\n",
    "    debug_mu_S = scipy.interpolate.interp1d(d_times, debug['mu_S'], axis=0)(l_times)\n",
    "    debug_mu = scipy.interpolate.interp1d(d_times, debug['mu'], axis=0)(l_times)\n",
    "    debug_s_hat_T = scipy.interpolate.interp1d(d_times, debug['s_hat_T'], axis=0)(l_times)\n",
    "    debug_gravity_torque_about_joint = scipy.interpolate.interp1d(\n",
    "        d_times, debug['gravity_torque_about_joint'], axis=0)(l_times)\n",
    "    debug_contact_torque_about_joint = scipy.interpolate.interp1d(\n",
    "        d_times, debug['contact_torque_about_joint_out'], axis=0)(l_times)\n",
    "    debug_F_NM = scipy.interpolate.interp1d(d_times, debug['F_NM'], axis=0)(l_times)\n",
    "    debug_F_FMT = scipy.interpolate.interp1d(d_times, debug['F_FMT'], axis=0)(l_times).flatten()\n",
    "    debug_F_FMH = scipy.interpolate.interp1d(d_times, debug['F_FMH'], axis=0)(l_times)\n",
    "    debug_F_FMH = np.zeros_like(l_times)\n",
    "    debug_F_ContactMX = scipy.interpolate.interp1d(d_times, debug['F_ContactMX'], axis=0)(l_times)\n",
    "    debug_F_ContactMY = scipy.interpolate.interp1d(d_times, debug['F_ContactMY'], axis=0)(l_times)\n",
    "    debug_F_ContactMZ = scipy.interpolate.interp1d(d_times, debug['F_ContactMZ'], axis=0)(l_times)\n",
    "    debug_F_NL = scipy.interpolate.interp1d(d_times, debug['F_NL'], axis=0)(l_times)\n",
    "    debug_F_FLT = scipy.interpolate.interp1d(d_times, debug['F_FLT'], axis=0)(l_times).flatten()\n",
    "    debug_F_FLH = scipy.interpolate.interp1d(d_times, debug['F_FLH'], axis=0)(l_times)\n",
    "    debug_F_FLH = np.zeros_like(l_times)\n",
    "    debug_a_MX = scipy.interpolate.interp1d(d_times, debug['a_MX'], axis=0)(l_times)\n",
    "    debug_a_MT = scipy.interpolate.interp1d(d_times, debug['a_MT'], axis=0)(l_times)\n",
    "    debug_a_MY = scipy.interpolate.interp1d(d_times, debug['a_MY'], axis=0)(l_times)\n",
    "    debug_a_MZ = scipy.interpolate.interp1d(d_times, debug['a_MZ'], axis=0)(l_times)\n",
    "    debug_a_MN = scipy.interpolate.interp1d(d_times, debug['a_MN'], axis=0)(l_times)\n",
    "    debug_a_LT = scipy.interpolate.interp1d(d_times, debug['a_LT'], axis=0)(l_times)\n",
    "    debug_a_LN = scipy.interpolate.interp1d(d_times, debug['a_LN'], axis=0)(l_times)\n",
    "    debug_alpha_MX = scipy.interpolate.interp1d(d_times, debug['alpha_MX'], axis=0)(l_times)\n",
    "    debug_alpha_MY = scipy.interpolate.interp1d(d_times, debug['alpha_MY'], axis=0)(l_times)\n",
    "    debug_alpha_MZ = scipy.interpolate.interp1d(d_times, debug['alpha_MZ'], axis=0)(l_times)\n",
    "    debug_dd_theta_L = scipy.interpolate.interp1d(d_times, debug['dd_theta_L'], axis=0)(l_times)\n",
    "    debug_dd_d_N = scipy.interpolate.interp1d(d_times, debug['dd_d_N'], axis=0)(l_times)\n",
    "    debug_dd_d_T = scipy.interpolate.interp1d(d_times, debug['dd_d_T'], axis=0)(l_times)\n",
    "    debug_success = scipy.interpolate.interp1d(d_times, debug['is_success'], axis=0)(l_times)\n",
    "    debug_ddqs = []\n",
    "    for i in range(nq):\n",
    "        debug_ddqs.append(scipy.interpolate.interp1d(d_times, debug['ddq_' + str(i)], axis=0)(l_times))"
   ]
  },
  {
   "cell_type": "markdown",
   "metadata": {
    "tags": []
   },
   "source": [
    "### Automatic constraint plots\n",
    "These plots are automatically generated based on the constraints in the inverse dynamics controller"
   ]
  },
  {
   "cell_type": "code",
   "execution_count": null,
   "metadata": {},
   "outputs": [],
   "source": [
    "mapping = {'ddq': 'dd_q'}"
   ]
  },
  {
   "cell_type": "markdown",
   "metadata": {},
   "source": [
    "#### Checking debug versions of variables"
   ]
  },
  {
   "cell_type": "code",
   "execution_count": null,
   "metadata": {},
   "outputs": [],
   "source": [
    "if (ctrl_paradigm == plant.simulation.CtrlParadigm.INVERSE_DYNAMICS):\n",
    "    debug_ddq = np.expand_dims(np.array(debug_ddqs).T, 2)"
   ]
  },
  {
   "cell_type": "markdown",
   "metadata": {},
   "source": [
    "Commented out for now because of issue with A changing dimensions (it can plot some plots but not all)\n",
    "- [ ]  TODO: fix"
   ]
  },
  {
   "cell_type": "code",
   "execution_count": null,
   "metadata": {
    "tags": []
   },
   "outputs": [],
   "source": [
    "# if (ctrl_paradigm == plant.simulation.CtrlParadigm.INVERSE_DYNAMICS):\n",
    "#     time_key = 't' # TODO: make this an attribute\n",
    "#     for c_name, c_data in sim.fold_ctrl.constraint_data.items():\n",
    "#         if c_name == time_key:\n",
    "#             continue\n",
    "\n",
    "#         vars_interp = []\n",
    "#         for v in c_data['var_names']:\n",
    "#             v_name, v_idx_str = v.split('(')\n",
    "#             if v_name != 'tau_ctrl':\n",
    "#                 v_name = 'debug_' + v_name\n",
    "#             else:\n",
    "#                 v_name = 'tau_contact_ctrl'\n",
    "#             v_idx = int(v_idx_str[:-1])\n",
    "#             if v_name in mapping.keys():\n",
    "#                 v_name = mapping[v_name]\n",
    "#             local_data = locals()[v_name]\n",
    "#             if len(local_data.shape) > 1:\n",
    "#                 local_data = local_data[:,v_idx]\n",
    "#             else:\n",
    "#                 local_data = np.expand_dims(local_data, 1)\n",
    "#                 assert v_idx == 0\n",
    "#             vars_interp.append(local_data)\n",
    "#         vars_interp = np.array(vars_interp).transpose([1,0,2])\n",
    "\n",
    "#         A_interp = scipy.interpolate.interp1d(\n",
    "#             sim.fold_ctrl.constraint_data['t'],\n",
    "#             c_data['A'], axis=0)(l_times)\n",
    "\n",
    "#         b_interp = scipy.interpolate.interp1d(\n",
    "#             sim.fold_ctrl.constraint_data['t'],\n",
    "#             c_data['b'], axis=0)(l_times).flatten()\n",
    "#         plot_eq(np.matmul(A_interp, vars_interp).flatten(), r\"$Ax$\", b_interp, \"$b$\", finish_plotting=False)\n",
    "#         plt.suptitle(c_name)\n",
    "#         plt.show()"
   ]
  },
  {
   "cell_type": "markdown",
   "metadata": {
    "tags": []
   },
   "source": [
    "#### Checking \"groundtruth\" versions of variables\n",
    "Groundtruth here just means what we have loaded into `locals()` instead"
   ]
  },
  {
   "cell_type": "markdown",
   "metadata": {},
   "source": [
    "Commented out for now because of issue with A changing dimensions (it can plot some plots but not all)\n",
    "- [ ]  TODO: fix"
   ]
  },
  {
   "cell_type": "code",
   "execution_count": null,
   "metadata": {},
   "outputs": [],
   "source": [
    "# if (ctrl_paradigm == plant.simulation.CtrlParadigm.INVERSE_DYNAMICS):\n",
    "#     time_key = 't' # TODO: make this an attribute\n",
    "#     for c_name, c_data in sim.fold_ctrl.constraint_data.items():\n",
    "#         if c_name == time_key:\n",
    "#             continue\n",
    "\n",
    "#         vars_interp = []\n",
    "#         for v in c_data['var_names']:\n",
    "#             v_name, v_idx_str = v.split('(')\n",
    "#             v_idx = int(v_idx_str[:-1])\n",
    "#             if v_name in mapping.keys():\n",
    "#                 v_name = mapping[v_name]\n",
    "#             local_data = locals()[v_name]\n",
    "#             if len(local_data.shape) > 1:\n",
    "#                 local_data = local_data[:,v_idx]\n",
    "#             else:\n",
    "#                 local_data = np.expand_dims(local_data, 1)\n",
    "#                 assert v_idx == 0\n",
    "#             vars_interp.append(local_data)\n",
    "#         vars_interp = np.array(vars_interp).transpose([1,0,2])\n",
    "\n",
    "#         A_interp = scipy.interpolate.interp1d(\n",
    "#             sim.fold_ctrl.constraint_data['t'],\n",
    "#             c_data['A'], axis=0)(l_times)\n",
    "\n",
    "#         b_interp = scipy.interpolate.interp1d(\n",
    "#             sim.fold_ctrl.constraint_data['t'],\n",
    "#             c_data['b'], axis=0)(l_times).flatten()\n",
    "#         plot_eq(np.matmul(A_interp, vars_interp).flatten(), r\"$Ax$\", b_interp, \"$b$\", finish_plotting=False)\n",
    "#         plt.suptitle(c_name)\n",
    "#         plt.show()"
   ]
  },
  {
   "cell_type": "markdown",
   "metadata": {},
   "source": [
    "### Check decision variable values\n",
    "If these all match, then the inverse dynamics controller should have totally correct dynamics."
   ]
  },
  {
   "cell_type": "code",
   "execution_count": null,
   "metadata": {},
   "outputs": [],
   "source": [
    "if (ctrl_paradigm == plant.simulation.CtrlParadigm.INVERSE_DYNAMICS):\n",
    "    plot_eq(debug_F_NM, \"F_NM (debug)\", F_NM, \"F_NM (actual)\")\n",
    "    plot_eq(debug_F_FMT, \"F_FMT (debug)\", F_FMT, \"F_FMT (actual)\")\n",
    "    plot_eq(debug_F_FMH, \"F_FMH (debug)\", F_FMH, \"F_FMH (actual)\")\n",
    "    plot_eq(debug_F_ContactMY, \"F_ContactMY (debug)\", F_ContactMY, \"F_ContactMY (actual)\")\n",
    "    plot_eq(debug_F_ContactMZ, \"F_ContactMZ (debug)\", F_ContactMZ, \"F_ContactMZ (actual)\")\n",
    "    plot_eq(debug_F_NL, \"F_NL (debug)\", F_NL, \"F_NL (actual)\")\n",
    "    plot_eq(debug_F_FLT, \"F_FLT (debug)\", F_FLT, \"F_FLT (actual)\")\n",
    "    plot_eq(debug_F_FLH, \"F_FLH (debug)\", F_FLH, \"F_FLH (actual)\")\n",
    "    plot_eq(debug_a_MX, \"a_MX (debug)\", a_MX, \"a_MX (actual)\")\n",
    "    plot_eq(debug_a_MT, \"a_MT (debug)\", a_MT, \"a_MT (actual)\")\n",
    "    plot_eq(debug_a_MY, \"a_MY (debug)\", a_MY, \"a_MY (actual)\")\n",
    "    plot_eq(debug_a_MZ, \"a_MZ (debug)\", a_MZ, \"a_MZ (actual)\")\n",
    "    plot_eq(debug_a_MN, \"a_MN (debug)\", a_MN, \"a_MN (actual)\")\n",
    "    plot_eq(debug_a_LT, \"a_LT (debug)\", a_LT, \"a_LT (actual)\")\n",
    "    plot_eq(debug_a_LN, \"a_LN (debug)\", a_LN, \"a_LN (actual)\")\n",
    "    plot_eq(debug_alpha_MX, \"alpha_MX (debug)\", alpha_MX, \"alpha_MX (actual)\")\n",
    "    plot_eq(debug_alpha_MY, \"alpha_MY (debug)\", alpha_MY, \"alpha_MY (actual)\")\n",
    "    plot_eq(debug_alpha_MZ, \"alpha_MZ (debug)\", alpha_MZ, \"alpha_MZ (actual)\")\n",
    "    plot_eq(debug_dd_theta_L, \"dd_theta_L (debug)\", dd_theta_L, \"dd_theta_L (actual)\")\n",
    "    plot_eq(debug_dd_d_N, \"dd_d_N (debug)\", dd_d_N, \"dd_d_N (actual)\")\n",
    "    plot_eq(debug_dd_d_T, \"dd_d_T (debug)\", dd_d_T, \"dd_d_T (actual)\")\n",
    "    for i in range(nq):\n",
    "        plot_eq(debug_ddqs[i], \"dd_d \" + str(i) + \" (debug)\", dd_q[:,i].flatten(), \"dd_d \" + str(i) + \" (actual)\")"
   ]
  },
  {
   "cell_type": "markdown",
   "metadata": {
    "tags": [],
    "toc-hr-collapsed": true
   },
   "source": [
    "## Environmental constraints\n",
    "There are things where I expect them to be satisfied no matter what, no matter the success of my controller."
   ]
  },
  {
   "cell_type": "markdown",
   "metadata": {},
   "source": [
    "### Set up"
   ]
  },
  {
   "cell_type": "code",
   "execution_count": null,
   "metadata": {},
   "outputs": [],
   "source": [
    "errors = []\n",
    "max_errors = []\n",
    "med_errors = []\n",
    "max_error_pct = []\n",
    "med_error_pct = []\n",
    "error_labels = []"
   ]
  },
  {
   "cell_type": "code",
   "execution_count": null,
   "metadata": {},
   "outputs": [],
   "source": [
    "def update_error(lhs, lhs_label, rhs, rhs_label, newline_in_label=False):\n",
    "    error = ((lhs) - (rhs))[idx_start:idx_end]\n",
    "    \n",
    "    if isinstance(lhs, float) or isinstance(lhs, int):\n",
    "        lhs = np.ones_like(l_times)*lhs\n",
    "    if isinstance(rhs, float) or isinstance(rhs, int):\n",
    "        rhs = np.ones_like(l_times)*rhs\n",
    "    max_val_l = np.max(np.abs(lhs[idx_start:idx_end]))\n",
    "    max_val_r = np.max(np.abs(rhs[idx_start:idx_end]))\n",
    "    max_val = max(max_val_l,max_val_r)\n",
    "    \n",
    "    label = r\"$\\left(\" + lhs_label.replace(\"$\", \"\") + r\"\\right) \"\n",
    "    if newline_in_label:\n",
    "        label += \"$\\n$\"\n",
    "    label += \"- \\left(\" + rhs_label.replace(\"$\", \"\") + r\"\\right)$\"\n",
    "    label_idx = None\n",
    "    for i, l in enumerate(error_labels):\n",
    "        if l == label:\n",
    "            label_idx = i\n",
    "            break\n",
    "    max_error = np.nanmax(np.abs(error))\n",
    "    med_error = np.median(np.abs(error[np.logical_not(np.isnan(error))]))\n",
    "    if label_idx is None:\n",
    "        errors.append(error)\n",
    "        error_labels.append(label)\n",
    "        max_errors.append(max_error)\n",
    "        med_errors.append(med_error)\n",
    "        max_error_pct.append(max_error/max_val)\n",
    "        med_error_pct.append(max_error/max_val)\n",
    "    else:\n",
    "        errors[label_idx] = error\n",
    "        max_errors[label_idx] = max_error\n",
    "        med_errors[label_idx] = med_error\n",
    "        max_error_pct[label_idx] = max_error/max_val\n",
    "        med_error_pct[label_idx] = med_error/max_val"
   ]
  },
  {
   "cell_type": "markdown",
   "metadata": {
    "tags": []
   },
   "source": [
    "### Plots"
   ]
  },
  {
   "cell_type": "markdown",
   "metadata": {},
   "source": [
    "#### Link (H) accel $m_La_{LH} = F_{FLH} + F_{OX}$"
   ]
  },
  {
   "cell_type": "code",
   "execution_count": null,
   "metadata": {},
   "outputs": [],
   "source": [
    "lhs_label = r'$m_La_{LH}$'\n",
    "rhs_label = r'$F_{FLH} + F_{OH}$'\n",
    "\n",
    "lhs = m_L*a_LH\n",
    "\n",
    "rhs = F_FLH + F_OH\n",
    "\n",
    "plot_eq(lhs, lhs_label, rhs, rhs_label)\n",
    "update_error(lhs, lhs_label, rhs, rhs_label)"
   ]
  },
  {
   "cell_type": "markdown",
   "metadata": {},
   "source": [
    "#### Link (T) accel $m_La_{LT} = F_{FLT} + F_{GT} +F_{OT}$\n",
    "*If this plot is correct:*\n",
    "The free body diagram is correct in thet $\\hat T$ direction on the link."
   ]
  },
  {
   "cell_type": "code",
   "execution_count": null,
   "metadata": {},
   "outputs": [],
   "source": [
    "lhs_label = r'$m_La_{LT}$'\n",
    "rhs_label = r'$F_{FLT} + F_{GT} +F_{OT}$'\n",
    "\n",
    "lhs = m_L*a_LT\n",
    "# lhs /= np.max(np.abs(lhs[idx_start:idx_end]))\n",
    "\n",
    "rhs = F_GT+F_OT+F_FLT\n",
    "# rhs /= np.max(np.abs(rhs[idx_start:idx_end]))\n",
    "\n",
    "plot_eq(lhs, lhs_label, rhs, rhs_label)\n",
    "update_error(lhs, lhs_label, rhs, rhs_label)"
   ]
  },
  {
   "cell_type": "markdown",
   "metadata": {},
   "source": [
    "#### Link (N) accel $m_La_{LN} = F_{NL} + F_{GN} +F_{ON}$\n",
    "*If this plot is correct:*\n",
    "The free body diagram is correct in thet $\\hat N$ direction on the link."
   ]
  },
  {
   "cell_type": "code",
   "execution_count": null,
   "metadata": {},
   "outputs": [],
   "source": [
    "lhs_label = r'$m_La_{LN}$'\n",
    "rhs_label = r'$F_{NL} + F_{GN} +F_{ON}$'\n",
    "\n",
    "lhs = m_L*a_LN\n",
    "\n",
    "rhs = F_NL + F_GN + F_ON\n",
    "\n",
    "plot_eq(lhs, lhs_label, rhs, rhs_label)\n",
    "update_error(lhs, lhs_label, rhs, rhs_label)"
   ]
  },
  {
   "cell_type": "markdown",
   "metadata": {},
   "source": [
    "#### Link (H) angle accel $I_{LJ}\\ddot\\theta_L = p_{JC}\\times F_{contact} + p_{JL}\\times F_G + \\tau_O$\n",
    "*If this plot is correct:* The moment balance about the joint on the link is correct."
   ]
  },
  {
   "cell_type": "code",
   "execution_count": null,
   "metadata": {},
   "outputs": [],
   "source": [
    "lhs_label = r'$I_L\\ddot\\theta$'\n",
    "rhs_label = r'$p_{JC}\\times F_{contact} + p_{JL}\\times F_G + \\tau_O$'\n",
    "\n",
    "lhs = I_LJ*dd_theta_L\n",
    "rhs = gravity_torque_about_joint + contact_torque_about_joint + tau_O\n",
    "\n",
    "plot_eq(lhs, lhs_label, rhs, rhs_label)\n",
    "update_error(lhs, lhs_label, rhs, rhs_label)"
   ]
  },
  {
   "cell_type": "markdown",
   "metadata": {},
   "source": [
    "#### 3rd law normal forces $F_{NL} = -F_{NM}$\n",
    "*If this plot is correct:* Newton's 3rd law is correction applied to the normal forces."
   ]
  },
  {
   "cell_type": "code",
   "execution_count": null,
   "metadata": {},
   "outputs": [],
   "source": [
    "lhs_label = r'$F_{NL}$'\n",
    "rhs_label = r'$-F_{NM_{top}}-F_{NM_{bot}}$'\n",
    "\n",
    "lhs = F_NL\n",
    "\n",
    "rhs = -F_NM\n",
    "\n",
    "plot_eq(lhs, lhs_label, rhs, rhs_label)\n",
    "update_error(lhs, lhs_label, rhs, rhs_label)"
   ]
  },
  {
   "cell_type": "markdown",
   "metadata": {},
   "source": [
    "#### 3rd law friction forces $F_{FLT} = -F_{FMT}$\n",
    "*If this plot is correct:* Newton's 3rd law is correction applied to the friction forces in the tangent direction."
   ]
  },
  {
   "cell_type": "code",
   "execution_count": null,
   "metadata": {},
   "outputs": [],
   "source": [
    "lhs_label = r'$F_{FLT}$'\n",
    "rhs_label = r'$-F_{FMT}$'\n",
    "\n",
    "lhs = F_FLT\n",
    "\n",
    "rhs = -F_FMT\n",
    "\n",
    "plot_eq(lhs, lhs_label, rhs, rhs_label)\n",
    "update_error(lhs, lhs_label, rhs, rhs_label)"
   ]
  },
  {
   "cell_type": "markdown",
   "metadata": {},
   "source": [
    "#### d vec tangential derivative $-\\ddot\\theta_L h_L/2 - \\ddot\\theta_L r + \\dot\\theta_L^2 w_L/2 - a_{LT} + a_{MT} = -\\ddot\\theta_L {d}_N + \\ddot{d}_T - \\dot\\theta_L^2 {d}_T - 2\\dot\\theta_L \\dot{d}_N$\n",
    "*If this plot is correct:* The derivatives for  $\\vec d$  are correct."
   ]
  },
  {
   "cell_type": "code",
   "execution_count": null,
   "metadata": {},
   "outputs": [],
   "source": [
    "lhs = -dd_theta_L*(h_L/2+r) + d_theta_L**2*w_L/2 - a_LT + a_MT\n",
    "lhs_label = r\"$-\\ddot\\theta_L h_L/2 - \\ddot\\theta_L r + \\dot\\theta_L^2 w_L/2 - a_{LT} + a_{MT}$\"\n",
    "\n",
    "rhs = -dd_theta_L*d_N + dd_d_T - d_theta_L**2*d_T - 2*d_theta_L*d_d_N\n",
    "rhs_label = r\"$-\\ddot\\theta_L {d}_N + \\ddot{d}_T - \\dot\\theta_L^2 {d}_T - 2\\dot\\theta_L \\dot{d}_N$\"\n",
    "\n",
    "plot_eq(lhs, lhs_label, rhs, rhs_label)\n",
    "update_error(lhs, lhs_label, rhs, rhs_label, newline_in_label=True)"
   ]
  },
  {
   "cell_type": "markdown",
   "metadata": {},
   "source": [
    "#### d vec normal derivative $- \\frac{w_{L}}{2}\\ddot\\theta_{L} - \\frac{h_{L}}{2}\\dot\\theta_{L}^{2} - \\dot\\theta_{L}^{2} r - a_{LN} + a_{MN} = \\ddot\\theta_{L} d_{T} + \\ddot{d}_N - \\dot\\theta_{L}^{2} d_{N} + 2 \\dot\\theta_{L} \\dot{d}_T$\n",
    "*If this plot is correct:* The derivatives for  $\\vec d$  are correct."
   ]
  },
  {
   "cell_type": "code",
   "execution_count": null,
   "metadata": {},
   "outputs": [],
   "source": [
    "lhs = -dd_theta_L*w_L/2 - d_theta_L**2*h_L/2 - d_theta_L**2*r - a_LN + a_MN\n",
    "lhs_label = r\"$-\\ddot\\theta_L w_L/2 - \\dot\\theta_L^2 h_L/2 - \\dot\\theta_L^2 r - a_{LN} + a_{MN}$ (differentiating geometry)\"\n",
    "\n",
    "rhs = dd_theta_L*d_T + dd_d_N - d_theta_L**2*d_N + 2*d_theta_L*d_d_T\n",
    "rhs_label = r\"$\\ddot\\theta_L {d}_T + \\ddot{d}_N - \\dot\\theta_L^2 {d}_N + 2 \\dot\\theta_L \\dot{d}_T$ (differentiating vector)\"\n",
    "\n",
    "plot_eq(lhs, lhs_label, rhs, rhs_label, newline_in_title=True)\n",
    "\n",
    "lhs_label = r\"$-\\ddot\\theta_L w_L/2 - \\dot\\theta_L^2 h_L/2 - \\dot\\theta_L^2 r - a_{LN} + a_{MN}$\"\n",
    "rhs_label = r\"$\\ddot\\theta_L {d}_T + \\ddot{d}_N - \\dot\\theta_L^2 {d}_N + 2 \\dot\\theta_L \\dot{d}_T$\"\n",
    "update_error(lhs, lhs_label, rhs, rhs_label, newline_in_label=True)\n",
    "plt.show()"
   ]
  },
  {
   "cell_type": "markdown",
   "metadata": {},
   "source": [
    "#### No penetration $\\ddot d_N = 0$\n",
    "*If this plot is correct:* There is effectively no penetration between the rigid bodies."
   ]
  },
  {
   "cell_type": "code",
   "execution_count": null,
   "metadata": {},
   "outputs": [],
   "source": [
    "lhs_label = r'$\\ddot{d}_N$'\n",
    "rhs_label = r'0'\n",
    "\n",
    "lhs = dd_d_N\n",
    "\n",
    "rhs = 0\n",
    "\n",
    "plot_eq(lhs, lhs_label, rhs, rhs_label)\n",
    "update_error(lhs, lhs_label, rhs, rhs_label)"
   ]
  },
  {
   "cell_type": "markdown",
   "metadata": {},
   "source": [
    "#### Link (T) friction equation $F_{FLT}=\\mu\\mu_SF_{NL}\\hat s_T$"
   ]
  },
  {
   "cell_type": "code",
   "execution_count": null,
   "metadata": {},
   "outputs": [],
   "source": [
    "lhs_label = r'$\\mu\\mu_SF_{NL}\\hat s_T$'\n",
    "rhs_label = r'$F_{FLT}$'\n",
    "\n",
    "lhs = np.nan_to_num(mu_S*F_NL*mu*s_hat_T)\n",
    "rhs = F_FLT\n",
    "\n",
    "plot_eq(lhs, lhs_label, rhs, rhs_label)\n",
    "update_error(lhs, lhs_label, rhs, rhs_label)"
   ]
  },
  {
   "cell_type": "markdown",
   "metadata": {},
   "source": [
    "#### Link (x) friction equation $F_{FLX}=\\mu\\mu_SF_{NL}\\hat s_X$"
   ]
  },
  {
   "cell_type": "code",
   "execution_count": null,
   "metadata": {},
   "outputs": [],
   "source": [
    "lhs_label = r'$\\mu\\mu_SF_{NL}\\hat s_H$'\n",
    "rhs_label = r'$F_{FLH}$'\n",
    "\n",
    "lhs = np.nan_to_num(mu_S*F_NM*mu*s_hat_H)\n",
    "rhs = F_FMH\n",
    "\n",
    "plot_eq(lhs, lhs_label, rhs, rhs_label)\n",
    "update_error(lhs, lhs_label, rhs, rhs_label)"
   ]
  },
  {
   "cell_type": "markdown",
   "metadata": {},
   "source": [
    "#### Jacobian and (x) accel $a_{MX}=\\left(\\dot{J} \\dot{\\vec{q}} + J\\ddot{\\vec{q}}\\right)_3$"
   ]
  },
  {
   "cell_type": "code",
   "execution_count": null,
   "metadata": {},
   "outputs": [],
   "source": [
    "lhs_label = r'$a_{MX}$'\n",
    "rhs_label = r'$\\left(\\dot{J} \\dot{\\vec{q}} + J\\ddot{\\vec{q}}\\right)_3$'\n",
    "\n",
    "lhs = a_MX\n",
    "rhs = (Jdot_qdot + np.matmul(J, dd_q))[:,3].flatten()\n",
    "\n",
    "plot_eq(lhs, lhs_label, rhs, rhs_label)\n",
    "update_error(lhs, lhs_label, rhs, rhs_label)"
   ]
  },
  {
   "cell_type": "markdown",
   "metadata": {},
   "source": [
    "#### Jacobian and (y) accel $a_{MY}=\\left(\\dot{J} \\dot{\\vec{q}} + J\\ddot{\\vec{q}}\\right)_4$"
   ]
  },
  {
   "cell_type": "code",
   "execution_count": null,
   "metadata": {},
   "outputs": [],
   "source": [
    "lhs_label = r'$a_{MY}$'\n",
    "rhs_label = r'$\\left(\\dot{J} \\dot{\\vec{q}} + J\\ddot{\\vec{q}}\\right)_4$'\n",
    "\n",
    "lhs = a_MY\n",
    "rhs = (Jdot_qdot + np.matmul(J, dd_q))[:,4].flatten()\n",
    "\n",
    "plot_eq(lhs, lhs_label, rhs, rhs_label)\n",
    "update_error(lhs, lhs_label, rhs, rhs_label)"
   ]
  },
  {
   "cell_type": "markdown",
   "metadata": {},
   "source": [
    "#### Jacobian and (z) accel $a_{MZ}=\\left(\\dot{J} \\dot{\\vec{q}} + J\\ddot{\\vec{q}}\\right)_5$"
   ]
  },
  {
   "cell_type": "code",
   "execution_count": null,
   "metadata": {},
   "outputs": [],
   "source": [
    "lhs_label = r'$a_{MZ}$'\n",
    "rhs_label = r'$\\left(\\dot{J} \\dot{\\vec{q}} + J\\ddot{\\vec{q}}\\right)_5$'\n",
    "\n",
    "lhs = a_MZ\n",
    "rhs = (Jdot_qdot + np.matmul(J, dd_q))[:,5].flatten()\n",
    "\n",
    "plot_eq(lhs, lhs_label, rhs, rhs_label)\n",
    "update_error(lhs, lhs_label, rhs, rhs_label)"
   ]
  },
  {
   "cell_type": "markdown",
   "metadata": {},
   "source": [
    "#### Jacobian and (x) ang accel $\\alpha_{MX}=\\left(\\dot{J} \\dot{\\vec{q}} + J\\ddot{\\vec{q}}\\right)_0$"
   ]
  },
  {
   "cell_type": "code",
   "execution_count": null,
   "metadata": {},
   "outputs": [],
   "source": [
    "lhs_label = r'$\\alpha_{MX}$'\n",
    "rhs_label = r'$\\left(\\dot{J} \\dot{\\vec{q}} + J\\ddot{\\vec{q}}\\right)_0$'\n",
    "\n",
    "lhs = alpha_MX\n",
    "rhs = (Jdot_qdot + np.matmul(J, dd_q))[:,0].flatten()\n",
    "\n",
    "plot_eq(lhs, lhs_label, rhs, rhs_label)\n",
    "update_error(lhs, lhs_label, rhs, rhs_label)"
   ]
  },
  {
   "cell_type": "markdown",
   "metadata": {},
   "source": [
    "#### Jacobian and (y) ang accel $\\alpha_{MY}=\\left(\\dot{J} \\dot{\\vec{q}} + J\\ddot{\\vec{q}}\\right)_1$"
   ]
  },
  {
   "cell_type": "code",
   "execution_count": null,
   "metadata": {},
   "outputs": [],
   "source": [
    "lhs_label = r'$\\alpha_{MY}$'\n",
    "rhs_label = r'$\\left(\\dot{J} \\dot{\\vec{q}} + J\\ddot{\\vec{q}}\\right)_1$'\n",
    "\n",
    "lhs = alpha_MY\n",
    "rhs = (Jdot_qdot + np.matmul(J, dd_q))[:,1].flatten()\n",
    "\n",
    "plot_eq(lhs, lhs_label, rhs, rhs_label)\n",
    "update_error(lhs, lhs_label, rhs, rhs_label)"
   ]
  },
  {
   "cell_type": "markdown",
   "metadata": {},
   "source": [
    "#### Jacobian and (z) ang accel $\\alpha_{MZ}=\\left(\\dot{J} \\dot{\\vec{q}} + J\\ddot{\\vec{q}}\\right)_2$"
   ]
  },
  {
   "cell_type": "code",
   "execution_count": null,
   "metadata": {},
   "outputs": [],
   "source": [
    "lhs_label = r'$\\alpha_{MZ}$'\n",
    "rhs_label = r'$\\left(\\dot{J} \\dot{\\vec{q}} + J\\ddot{\\vec{q}}\\right)_2$'\n",
    "\n",
    "lhs = alpha_MZ\n",
    "rhs = (Jdot_qdot + np.matmul(J, dd_q))[:,2].flatten()\n",
    "\n",
    "plot_eq(lhs, lhs_label, rhs, rhs_label)\n",
    "update_error(lhs, lhs_label, rhs, rhs_label)"
   ]
  },
  {
   "cell_type": "markdown",
   "metadata": {},
   "source": [
    "#### Manipulator equation $M \\ddot q + C \\dot q = \\tau_g + \\vec \\tau_{\\text{contact}} + \\vec \\tau_{\\text{out}}$"
   ]
  },
  {
   "cell_type": "code",
   "execution_count": null,
   "metadata": {},
   "outputs": [],
   "source": [
    "lhs_ = np.matmul(M, dd_q) + Cv\n",
    "lhs_label_ = r\"M \\ddot q + C \\dot q\"\n",
    "rhs_ = tau_g + tau_contact + tau_out\n",
    "rhs_label_ = r\"\\tau_g + \\vec \\tau_{contact} + \\vec \\tau_{out}\"\n",
    "labels = [str(i) for i in range(nq)]\n",
    "\n",
    "for i, label in enumerate(labels):\n",
    "    lhs = lhs_[:,i,:]\n",
    "    lhs_label = r\"$\\left(\" + lhs_label_ + r\"\\right)_\" + label + \"$\"\n",
    "\n",
    "    rhs = rhs_[:,i,:]\n",
    "    rhs_label = r\"$\\left(\" + rhs_label_ + r\"\\right)_\" + label + \"$\"\n",
    "\n",
    "    plot_eq(lhs, lhs_label, rhs, rhs_label)\n",
    "    update_error(lhs, lhs_label, rhs, rhs_label)\n",
    "    plt.show()"
   ]
  },
  {
   "cell_type": "markdown",
   "metadata": {},
   "source": [
    "#### Tau out vs tau ctrl $\\vec \\tau_{\\text{out}} = \\vec\\tau_{\\text{ctrl}} - \\tau_g + \\tau_{\\text{joint centering}}$"
   ]
  },
  {
   "cell_type": "code",
   "execution_count": null,
   "metadata": {
    "scrolled": true
   },
   "outputs": [],
   "source": [
    "lhs_ = tau_out\n",
    "lhs_label_ = r\"\\tau_{out}\"\n",
    "rhs_ = tau_ctrl - tau_g + joint_centering_torque\n",
    "rhs_label_ = r\"\\vec\\tau_{ctrl} - \\tau_g + \\tau_{joint centering}\"\n",
    "labels = [str(i) for i in range(nq)]\n",
    "\n",
    "for i, label in enumerate(labels):\n",
    "    lhs = lhs_[:,i,:]\n",
    "    lhs_label = r\"$\\left(\" + lhs_label_ + r\"\\right)_\" + label + \"$\"\n",
    "\n",
    "    rhs = rhs_[:,i,:]\n",
    "    rhs_label = r\"$\\left(\" + rhs_label_ + r\"\\right)_\" + label + \"$\"\n",
    "\n",
    "    plot_eq(lhs, lhs_label, rhs, rhs_label)\n",
    "    update_error(lhs, lhs_label, rhs, rhs_label)\n",
    "    plt.show()"
   ]
  },
  {
   "cell_type": "markdown",
   "metadata": {},
   "source": [
    "### Plot errors\n",
    "How accurate is my modeling?"
   ]
  },
  {
   "cell_type": "markdown",
   "metadata": {},
   "source": [
    "#### Absolute error"
   ]
  },
  {
   "cell_type": "code",
   "execution_count": null,
   "metadata": {},
   "outputs": [],
   "source": [
    "plt.figure(figsize=(16,16))\n",
    "plt.barh(error_labels[::-1], np.array(max_errors[::-1]), label=\"Maximum error\")\n",
    "plt.barh(error_labels[::-1], np.array(med_errors[::-1]), label=\"Median error\")\n",
    "plt.axvline(1e-5, color='k', linestyle='--', label=\"1e-5\")\n",
    "plt.xscale(\"log\")\n",
    "plt.xlabel(\"Log(error)\")\n",
    "plt.xlabel(\"Error\")\n",
    "plt.ylabel(\"Equation\")\n",
    "plt.legend()\n",
    "# plt.xlim(0, 100)\n",
    "plt.show()"
   ]
  },
  {
   "cell_type": "markdown",
   "metadata": {},
   "source": [
    "#### Percent error"
   ]
  },
  {
   "cell_type": "code",
   "execution_count": null,
   "metadata": {},
   "outputs": [],
   "source": [
    "plt.figure(figsize=(16,16))\n",
    "plt.barh(error_labels[::-1], np.array(max_error_pct[::-1])*100, label=\"Maximum error\")\n",
    "plt.barh(error_labels[::-1], np.array(med_error_pct[::-1])*100, label=\"Median error\")\n",
    "plt.axvline(5, color='k', linestyle='--', label=\"5% error\")\n",
    "# plt.xscale(\"log\")\n",
    "# plt.xlabel(\"Log(error)\")\n",
    "plt.xlabel(\"Percent error\")\n",
    "plt.ylabel(\"Equation\")\n",
    "plt.legend()\n",
    "plt.xlim(0, 100)\n",
    "plt.show()"
   ]
  },
  {
   "cell_type": "markdown",
   "metadata": {},
   "source": [
    "### Environmental constraints (two link specific)"
   ]
  },
  {
   "cell_type": "code",
   "execution_count": null,
   "metadata": {},
   "outputs": [],
   "source": [
    "lhs = a_LT\n",
    "lhs_label = r\"$a_{LT}$\"\n",
    "rhs = -np.linalg.norm(p_JL,axis=1).flatten()*d_theta_L**2\n",
    "rhs_label = r\"$-\\frac{w_L}{2}\\dot\\theta^2$\"\n",
    "plot_eq(lhs, lhs_label, rhs, rhs_label)"
   ]
  },
  {
   "cell_type": "code",
   "execution_count": null,
   "metadata": {},
   "outputs": [],
   "source": [
    "lhs = a_LN\n",
    "lhs_label = r\"$a_{LN}$\"\n",
    "rhs = np.linalg.norm(p_JL,axis=1).flatten()*dd_theta_L\n",
    "rhs_label = r\"$\\frac{w_L}{2}\\ddot\\theta$\"\n",
    "plot_eq(lhs, lhs_label, rhs, rhs_label)"
   ]
  },
  {
   "cell_type": "code",
   "execution_count": null,
   "metadata": {},
   "outputs": [],
   "source": [
    "lhs = tau_O\n",
    "lhs_label = r\"$\\tau_O$\"\n",
    "rhs = -sim.sim_sys_consts.k_J*theta_L - sim.sim_sys_consts.b_J*d_theta_L\n",
    "rhs_label = r\"$-k_J\\theta_L-b_J\\dot\\theta_L$\"\n",
    "plot_eq(lhs, lhs_label, rhs, rhs_label)"
   ]
  },
  {
   "cell_type": "markdown",
   "metadata": {
    "tags": []
   },
   "source": [
    "## Controller performance"
   ]
  },
  {
   "cell_type": "markdown",
   "metadata": {},
   "source": [
    "### Inverse dynamics targets"
   ]
  },
  {
   "cell_type": "markdown",
   "metadata": {},
   "source": [
    "#### Load values"
   ]
  },
  {
   "cell_type": "code",
   "execution_count": null,
   "metadata": {},
   "outputs": [],
   "source": [
    "if (ctrl_paradigm == plant.simulation.CtrlParadigm.INVERSE_DYNAMICS):\n",
    "    # Second order targets\n",
    "    dd_d_Td = scipy.interpolate.interp1d(d_times, debug['dd_d_Td'], axis=0, fill_value=\"extrapolate\")(l_times)\n",
    "    dd_theta_Ld = scipy.interpolate.interp1d(d_times, debug['dd_theta_Ld'], axis=0, fill_value=\"extrapolate\")(l_times)\n",
    "    a_MHd = scipy.interpolate.interp1d(d_times, debug['a_MH_d'], axis=0, fill_value=\"extrapolate\")(l_times)\n",
    "    alpha_MXd = scipy.interpolate.interp1d(d_times, debug['alpha_MXd'], axis=0, fill_value=\"extrapolate\")(l_times).flatten()\n",
    "    alpha_MYd = scipy.interpolate.interp1d(d_times, debug['alpha_MYd'], axis=0, fill_value=\"extrapolate\")(l_times).flatten()\n",
    "    alpha_MZd = scipy.interpolate.interp1d(d_times, debug['alpha_MZd'], axis=0, fill_value=\"extrapolate\")(l_times).flatten()\n",
    "    dd_d_Nd = scipy.interpolate.interp1d(d_times, debug['dd_d_Nd'], axis=0, fill_value=\"extrapolate\")(l_times)\n",
    "    \n",
    "    # First order targets\n",
    "    d_theta_Ld = sim.fold_ctrl.d_theta_Ld*np.ones_like(l_times)\n",
    "    omega_MXd = scipy.interpolate.interp1d(d_times, debug['omega_MXd'], axis=0, fill_value=\"extrapolate\")(l_times)\n",
    "    omega_MYd = scipy.interpolate.interp1d(d_times, debug['omega_MYd'], axis=0, fill_value=\"extrapolate\")(l_times)\n",
    "    omega_MZd = scipy.interpolate.interp1d(d_times, debug['omega_MZd'], axis=0, fill_value=\"extrapolate\")(l_times)\n",
    "    d_theta_MXd = scipy.interpolate.interp1d(d_times, debug['omega_MXd'], axis=0, fill_value=\"extrapolate\")(l_times)\n",
    "    d_theta_MYd = scipy.interpolate.interp1d(d_times, debug['omega_MYd'], axis=0, fill_value=\"extrapolate\")(l_times)\n",
    "    d_theta_MZd = scipy.interpolate.interp1d(d_times, debug['omega_MZd'], axis=0, fill_value=\"extrapolate\")(l_times)\n",
    "    \n",
    "    theta_MXd = scipy.interpolate.interp1d(d_times, debug['theta_MXd'], axis=0, fill_value=\"extrapolate\")(l_times)\n",
    "    theta_MYd = scipy.interpolate.interp1d(d_times, debug['theta_MYd'], axis=0, fill_value=\"extrapolate\")(l_times)\n",
    "    theta_MZd = scipy.interpolate.interp1d(d_times, debug['theta_MZd'], axis=0, fill_value=\"extrapolate\")(l_times)"
   ]
  },
  {
   "cell_type": "markdown",
   "metadata": {},
   "source": [
    "#### Desired second accelerations\n",
    "These are all decision variables."
   ]
  },
  {
   "cell_type": "code",
   "execution_count": null,
   "metadata": {},
   "outputs": [],
   "source": [
    "if (ctrl_paradigm == plant.simulation.CtrlParadigm.INVERSE_DYNAMICS):\n",
    "    lhs = dd_d_Td\n",
    "    lhs_label = r\"$\\ddot{d}_{T_d}$\"\n",
    "    rhs = dd_d_T\n",
    "    rhs_label = r\"$\\ddot{d}_{T}$\"\n",
    "    plot_eq(lhs, lhs_label, rhs, rhs_label)"
   ]
  },
  {
   "cell_type": "code",
   "execution_count": null,
   "metadata": {},
   "outputs": [],
   "source": [
    "if (ctrl_paradigm == plant.simulation.CtrlParadigm.INVERSE_DYNAMICS):\n",
    "    lhs = dd_theta_Ld\n",
    "    lhs_label = r\"$\\ddot\\theta_{Ld}$\"\n",
    "    rhs = dd_theta_L\n",
    "    rhs_label = r\"$\\ddot\\theta_{L}$\"\n",
    "    plot_eq(lhs, lhs_label, rhs, rhs_label)"
   ]
  },
  {
   "cell_type": "code",
   "execution_count": null,
   "metadata": {},
   "outputs": [],
   "source": [
    "if (ctrl_paradigm == plant.simulation.CtrlParadigm.INVERSE_DYNAMICS):\n",
    "    lhs = a_MHd\n",
    "    lhs_label = r\"$a_{MHd}$\"\n",
    "    rhs = a_MH\n",
    "    rhs_label = r\"$a_{MH}$\"\n",
    "    plot_eq(lhs, lhs_label, rhs, rhs_label)"
   ]
  },
  {
   "cell_type": "code",
   "execution_count": null,
   "metadata": {},
   "outputs": [],
   "source": [
    "if (ctrl_paradigm == plant.simulation.CtrlParadigm.INVERSE_DYNAMICS):\n",
    "    lhs = alpha_MXd\n",
    "    lhs_label = r\"$\\alpha_{MX_d}$\"\n",
    "    rhs = alpha_MX\n",
    "    rhs_label = r\"$\\alpha_{MX}$\"\n",
    "    plot_eq(lhs, lhs_label, rhs, rhs_label)"
   ]
  },
  {
   "cell_type": "code",
   "execution_count": null,
   "metadata": {},
   "outputs": [],
   "source": [
    "if (ctrl_paradigm == plant.simulation.CtrlParadigm.INVERSE_DYNAMICS):\n",
    "    lhs = alpha_MYd\n",
    "    lhs_label = r\"$\\alpha_{MY_d}$\"\n",
    "    rhs = alpha_MY\n",
    "    rhs_label = r\"$\\alpha_{MY}$\"\n",
    "    plot_eq(lhs, lhs_label, rhs, rhs_label)"
   ]
  },
  {
   "cell_type": "code",
   "execution_count": null,
   "metadata": {},
   "outputs": [],
   "source": [
    "if (ctrl_paradigm == plant.simulation.CtrlParadigm.INVERSE_DYNAMICS):\n",
    "    lhs = alpha_MZd\n",
    "    lhs_label = r\"$\\alpha_{MZ_d}$\"\n",
    "    rhs = alpha_MZ\n",
    "    rhs_label = r\"$\\alpha_{MZ}$\"\n",
    "    plot_eq(lhs, lhs_label, rhs, rhs_label)"
   ]
  },
  {
   "cell_type": "code",
   "execution_count": null,
   "metadata": {},
   "outputs": [],
   "source": [
    "if (ctrl_paradigm == plant.simulation.CtrlParadigm.INVERSE_DYNAMICS):\n",
    "    lhs = dd_d_Nd\n",
    "    lhs_label = r\"$\\ddot{d}_{N_d}$\"\n",
    "    rhs = dd_d_N\n",
    "    rhs_label = r\"$\\ddot{d}_{N}$\"\n",
    "    plot_eq(lhs, lhs_label, rhs, rhs_label)"
   ]
  },
  {
   "cell_type": "markdown",
   "metadata": {},
   "source": [
    "#### Desired velocities"
   ]
  },
  {
   "cell_type": "code",
   "execution_count": null,
   "metadata": {},
   "outputs": [],
   "source": [
    "if (ctrl_paradigm == plant.simulation.CtrlParadigm.INVERSE_DYNAMICS):\n",
    "    plot_eq(omega_MX, r\"$\\omega_{MX}$\", omega_MXd, r\"$\\omega_{MXd}$\")\n",
    "    plot_eq(omega_MY, r\"$\\omega_{MY}$\", omega_MYd, r\"$\\omega_{MYd}$\")\n",
    "    plot_eq(omega_MZ, r\"$\\omega_{MZ}$\", omega_MZd, r\"$\\omega_{MZd}$\")\n",
    "    plot_eq(d_theta_MX, r\"$\\dot\\theta_{MX}$\", d_theta_MXd, r\"$\\dot\\theta_{MXd}$\")\n",
    "    plot_eq(d_theta_MY, r\"$\\dot\\theta_{MY}$\", d_theta_MYd, r\"$\\dot\\theta_{MYd}$\")\n",
    "    plot_eq(d_theta_MZ, r\"$\\dot\\theta_{MZ}$\", d_theta_MZd, r\"$\\dot\\theta_{MZd}$\")\n",
    "    plot_eq(d_theta_L, r\"$\\dot\\theta_{L}$\", d_theta_Ld, r\"$\\dot\\theta_{Ld}$\")"
   ]
  },
  {
   "cell_type": "markdown",
   "metadata": {},
   "source": [
    "#### Desired positions"
   ]
  },
  {
   "cell_type": "code",
   "execution_count": null,
   "metadata": {},
   "outputs": [],
   "source": [
    "if (ctrl_paradigm == plant.simulation.CtrlParadigm.INVERSE_DYNAMICS):\n",
    "    plot_eq(d_T, r\"$d_T$\", sim.fold_ctrl.d_Td, r\"$d_{Td}$\")\n",
    "    plot_eq(d_H, r\"$d_H$\", sim.fold_ctrl.d_Hd, r\"$d_{Hd}$\")\n",
    "    plot_eq(theta_MX, r\"$\\theta_{MX}$\", theta_MXd, r\"$\\theta_{MXd}$\")\n",
    "    plot_eq(theta_MY, r\"$\\theta_{MY}$\", theta_MYd, r\"$\\theta_{MYd}$\")\n",
    "    plot_eq(theta_MZ, r\"$\\theta_{MZ}$\", theta_MZd, r\"$\\theta_{MZd}$\")"
   ]
  },
  {
   "cell_type": "markdown",
   "metadata": {
    "tags": []
   },
   "source": [
    "#### Other plots"
   ]
  },
  {
   "cell_type": "code",
   "execution_count": null,
   "metadata": {},
   "outputs": [],
   "source": [
    "if (ctrl_paradigm == plant.simulation.CtrlParadigm.INVERSE_DYNAMICS):\n",
    "    lw=5\n",
    "    plt.figure(figsize=(16, 8))\n",
    "    plt.axhline(sim.fold_ctrl.d_Td, linestyle='--', color='gray', linewidth=lw, label=\"Desired $d_T$\")\n",
    "    plt.plot(l_times, d_T, label='$d_T$', linewidth=lw)\n",
    "    plt.axhline(-(0), label='Bounds on $d_T$ (0 and link width)', linestyle='--', color='k', linewidth=lw)\n",
    "    plt.axhline(-(sim.sim_sys_consts.w_L), linestyle='--', color='k', linewidth=lw)\n",
    "    plt.legend()\n",
    "    plt.xlabel(\"Time (seconds)\")\n",
    "    plt.ylabel(\"Distance (m)\")\n",
    "    plt.autoscale(enable=True, axis='x', tight=True)\n",
    "    plt.xlim(t_start, t_end)\n",
    "    plt.show()"
   ]
  },
  {
   "cell_type": "markdown",
   "metadata": {},
   "source": [
    "## Controller exits\n",
    "If `exit_when_folded` is true, this plot will not be as useful."
   ]
  },
  {
   "cell_type": "markdown",
   "metadata": {},
   "source": [
    "### Successful finish"
   ]
  },
  {
   "cell_type": "code",
   "execution_count": null,
   "metadata": {},
   "outputs": [],
   "source": [
    "idx = sim.log_wrapper.get_idx(\"pos\", \"trn\", sim.paper.link_idxs[0])\n",
    "length = 3\n",
    "p_FL = np.expand_dims(log.data()[idx:idx+length].T, 2)"
   ]
  },
  {
   "cell_type": "code",
   "execution_count": null,
   "metadata": {},
   "outputs": [],
   "source": [
    "link_z = sim.vision_processor.X_LJ_L.translation()[-1]"
   ]
  },
  {
   "cell_type": "code",
   "execution_count": null,
   "metadata": {},
   "outputs": [],
   "source": [
    "z_thresh = p_FL[0][-1,0] + 2*link_z + h_L\n",
    "z_thresh"
   ]
  },
  {
   "cell_type": "code",
   "execution_count": null,
   "metadata": {},
   "outputs": [],
   "source": [
    "final_idx = np.argmax(np.logical_and(\n",
    "    p_L[first_contact_idx:,2] < z_thresh,\n",
    "    theta_L[first_contact_idx:] > np.pi,\n",
    ")) + first_contact_idx"
   ]
  },
  {
   "cell_type": "code",
   "execution_count": null,
   "metadata": {},
   "outputs": [],
   "source": [
    "plt.figure()\n",
    "plt.subplot(121)\n",
    "plt.axhline(0, color='k', linewidth=2)\n",
    "plt.plot(l_times, theta_L)\n",
    "\n",
    "plt.axvline(l_times[first_contact_idx], color='g', alpha=0.2, label=\"First contact time\")\n",
    "plt.axvline(l_times[final_idx], color='r', alpha=0.2, label=\"Calculated final time\")\n",
    "plt.axhline(np.pi, color='black', linestyle='--', linewidth=2, label=r\"$\\theta_L$ threshold ($\\pi$)\")\n",
    "plt.legend()\n",
    "plt.title(r\"$\\theta_L$\")\n",
    "plt.xlabel(\"Time (s)\")\n",
    "plt.ylabel(\"Angle (radiancs)\")\n",
    "\n",
    "plt.subplot(122)\n",
    "plt.plot(l_times, p_L[:,2])\n",
    "plt.axvline(l_times[first_contact_idx], color='g', alpha=0.2, label=\"First contact time\")\n",
    "plt.axvline(l_times[final_idx], color='r', alpha=0.2, label=\"Calculated final time\")\n",
    "plt.axhline(z_thresh, color='black', linestyle='--', linewidth=2,\n",
    "            label=r\"$p_{LZ}$ threshold (\" + \"{:.2f}\".format(z_thresh) + \")\")\n",
    "plt.legend()\n",
    "plt.title(r\"$p_{LZ}$\")\n",
    "plt.xlabel(\"Time (s)\")\n",
    "plt.ylabel(\"Position (m)\")\n",
    "plt.show()"
   ]
  },
  {
   "cell_type": "markdown",
   "metadata": {},
   "source": [
    "### Unsuccessful finish"
   ]
  },
  {
   "cell_type": "code",
   "execution_count": null,
   "metadata": {},
   "outputs": [],
   "source": [
    "d_theta_L_mag_cutoff = 0.005 # TODO: get this programattically\n",
    "within_thresh = np.abs(d_theta_L) < d_theta_L_mag_cutoff\n",
    "\n",
    "start_idx_ = first_contact_idx\n",
    "\n",
    "plt.figure()\n",
    "plt.plot(l_times[start_idx_:], d_theta_L[start_idx_:], linewidth=2)\n",
    "plt.axhline(0, color='k', linewidth=2)\n",
    "plt.title(r\"$\\dot\\theta_L$\")\n",
    "plt.xlabel(\"Time (s)\")\n",
    "plt.ylabel(\"rad/sec\")\n",
    "\n",
    "ylims = plt.ylim()\n",
    "ylim_range = ylims[1] - ylims[0]\n",
    "no_val = ylims[0]+ylim_range*0.2\n",
    "yes_val = ylims[0]+ylim_range*0.8\n",
    "vals_to_plot = np.ones_like(l_times)*no_val\n",
    "vals_to_plot[within_thresh == 1] = yes_val\n",
    "plt.plot(l_times[start_idx_:], vals_to_plot[start_idx_:], linestyle='--', linewidth=2)\n",
    "plt.show()"
   ]
  },
  {
   "cell_type": "markdown",
   "metadata": {
    "tags": [],
    "toc-hr-collapsed": true
   },
   "source": [
    "## General inspection\n",
    "Any other plots used for just looking at values in the sim, not directly related to the controller."
   ]
  },
  {
   "cell_type": "markdown",
   "metadata": {},
   "source": [
    "### Meta controller plots"
   ]
  },
  {
   "cell_type": "code",
   "execution_count": null,
   "metadata": {},
   "outputs": [],
   "source": [
    "if (ctrl_paradigm == plant.simulation.CtrlParadigm.INVERSE_DYNAMICS):\n",
    "    plt.figure()\n",
    "    plt.plot(l_times, debug_success)\n",
    "    plt.ylim(-0.5,1.5)\n",
    "    plt.show()"
   ]
  },
  {
   "cell_type": "markdown",
   "metadata": {
    "tags": []
   },
   "source": [
    "#### Contact ctrl?"
   ]
  },
  {
   "cell_type": "code",
   "execution_count": null,
   "metadata": {},
   "outputs": [],
   "source": [
    "for i in range(nq):\n",
    "    plt.figure()\n",
    "    plt.plot(l_times, tau_ctrl[:,i], color=\"skyblue\", label=r\"$\\tau_{ctrl}$\")\n",
    "    plt.plot(l_times, tau_contact_ctrl[:,i], color=\"b\", linestyle='--', label=r\"$\\tau_{contact ctrl}$\")\n",
    "    \n",
    "    ylims = plt.ylim()\n",
    "    ylim_range = ylims[1] - ylims[0]\n",
    "    no_val = ylims[0]+ylim_range*0.2\n",
    "    yes_val = ylims[0]+ylim_range*0.8\n",
    "    contacts_to_plot = np.ones_like(l_times)*no_val\n",
    "    contacts_to_plot[in_contact == 1] = yes_val\n",
    "    plt.plot(l_times, contacts_to_plot, linestyle=':')\n",
    "    \n",
    "    plt.axvline(t_start, color='g', alpha=0.2, zorder=0)\n",
    "    plt.axvline(t_end, color='r', zorder=0, alpha=0.2)\n",
    "    \n",
    "    plt.legend()\n",
    "plt.show()"
   ]
  },
  {
   "cell_type": "markdown",
   "metadata": {
    "tags": [],
    "toc-hr-collapsed": true
   },
   "source": [
    "### Friction estimates"
   ]
  },
  {
   "cell_type": "markdown",
   "metadata": {},
   "source": [
    "#### Norm"
   ]
  },
  {
   "cell_type": "code",
   "execution_count": null,
   "metadata": {},
   "outputs": [],
   "source": [
    "lhs = np.linalg.norm(np.expand_dims(F_FLH, [1,2])*H_hat + np.expand_dims(F_FLT, [1,2])*T_hat, axis=1)\n",
    "lhs_label = r\"$||F_{FLT} + F_{FLH}||$\"\n",
    "\n",
    "rhs = np.abs(np.expand_dims(mu*mu_S*F_NL, 1))\n",
    "rhs_label = \"$|\\mu\\mu_{S}F_{NL}|$\"\n",
    "\n",
    "plot_eq(lhs, lhs_label, rhs, rhs_label)\n",
    "plt.show()"
   ]
  },
  {
   "cell_type": "code",
   "execution_count": null,
   "metadata": {},
   "outputs": [],
   "source": [
    "lhs = s_S\n",
    "lhs_label = r\"Slip speed candidate norm\"\n",
    "\n",
    "rhs = slip_speed\n",
    "rhs_label = \"Actual slip speed\"\n",
    "\n",
    "plot_eq(lhs, lhs_label, rhs, rhs_label)\n",
    "plt.show()"
   ]
  },
  {
   "cell_type": "markdown",
   "metadata": {},
   "source": [
    "#### Direction"
   ]
  },
  {
   "cell_type": "code",
   "execution_count": null,
   "metadata": {},
   "outputs": [],
   "source": [
    "F_hat = np.expand_dims(F_FLT, [1,2])*T_hat + np.expand_dims(F_FLH, [1,2])*H_hat\n",
    "F_hat = F_hat/np.expand_dims(np.linalg.norm(F_hat, axis=1), 2)"
   ]
  },
  {
   "cell_type": "code",
   "execution_count": null,
   "metadata": {},
   "outputs": [],
   "source": [
    "sig1 = s_hat\n",
    "sig1_label = r\"$\\hat s$\"\n",
    "\n",
    "sig2 = F_hat\n",
    "sig2_label = r\"$\\hat F$\"\n",
    "plot_vec(sig1, sig1_label, sig2, sig2_label, start_time=t_start_of_last_contact)"
   ]
  },
  {
   "cell_type": "code",
   "execution_count": null,
   "metadata": {},
   "outputs": [],
   "source": [
    "sig1 = s_hat\n",
    "sig1_label = r\"$\\hat s$\"\n",
    "\n",
    "sig2 = F_hat\n",
    "sig2_label = r\"$\\hat F$\"\n",
    "plot_vec_HTN(sig1, sig1_label, sig2, sig2_label, plot_error=True)#, start_time=t_start_of_last_contact)"
   ]
  },
  {
   "cell_type": "markdown",
   "metadata": {},
   "source": [
    "#### Comparison against actual values"
   ]
  },
  {
   "cell_type": "code",
   "execution_count": null,
   "metadata": {},
   "outputs": [],
   "source": [
    "F_mag = mu_S*F_NL*mu"
   ]
  },
  {
   "cell_type": "code",
   "execution_count": null,
   "metadata": {},
   "outputs": [],
   "source": [
    "F_F_est = s_hat*np.expand_dims(np.vstack((F_mag,F_mag,F_mag)).T, 2)"
   ]
  },
  {
   "cell_type": "code",
   "execution_count": null,
   "metadata": {},
   "outputs": [],
   "source": [
    "sig1 = F_F_est\n",
    "sig1_label = r\"Estimated friction\"\n",
    "\n",
    "sig2 = F_contact_L - N_hat_proj_mat@F_contact_L\n",
    "sig2_label = r\"Actual friction\"\n",
    "plot_vec_HTN(sig1, sig1_label, sig2, sig2_label, start_time=t_start_of_last_contact)"
   ]
  },
  {
   "cell_type": "markdown",
   "metadata": {
    "toc-hr-collapsed": true
   },
   "source": [
    "### Friction measurements"
   ]
  },
  {
   "cell_type": "markdown",
   "metadata": {},
   "source": [
    "#### Friction cone\n",
    "Whether or not we bump up against the friction cone."
   ]
  },
  {
   "cell_type": "code",
   "execution_count": null,
   "metadata": {},
   "outputs": [],
   "source": [
    "lw=5\n",
    "plt.figure(figsize=(16,8))\n",
    "plt.plot(l_times[idx_start:idx_end],\n",
    "         abs(F_FLT[idx_start:idx_end]), label=r\"$\\left|F_{FL}\\right|$\", linewidth=lw, color='lightskyblue', zorder=0)\n",
    "plt.plot(l_times[idx_start:idx_end],\n",
    "         abs(F_FMT[idx_start:idx_end]), label=r\"$\\left|F_{FM}\\right|$\", linewidth=lw, color='b', linestyle='--', zorder=1)\n",
    "plt.plot(l_times[idx_start:idx_end],\n",
    "         abs(F_NL[idx_start:idx_end])*mu, label=r\"$\\mu\\left|F_{NL}\\right|$\", linewidth=lw, color='k', linestyle=':')\n",
    "\n",
    "plt.autoscale(enable=True, axis='x', tight=True)\n",
    "plt.legend()\n",
    "plt.xlabel(\"Time\")\n",
    "plt.show()"
   ]
  },
  {
   "cell_type": "markdown",
   "metadata": {},
   "source": [
    "#### Slip speed"
   ]
  },
  {
   "cell_type": "code",
   "execution_count": null,
   "metadata": {},
   "outputs": [],
   "source": [
    "lw=5\n",
    "plt.figure(figsize=(16, 8))\n",
    "plt.plot(l_times[idx_start:idx_end], slip_speed[idx_start:idx_end], label=\"slip speed\", linewidth=5)\n",
    "plt.axhline(constants.v_stiction, linestyle=\"--\", color=\"k\", label=\"$v_{stiction}$\", linewidth=5)\n",
    "plt.xlabel(\"Time (seconds)\")\n",
    "plt.ylabel(\"Speed (m/s)\")\n",
    "# plt.ylim(0, 2*constants.v_stiction)\n",
    "plt.autoscale(enable=True, axis='x', tight=True)\n",
    "plt.legend()\n",
    "plt.show()"
   ]
  },
  {
   "cell_type": "markdown",
   "metadata": {},
   "source": [
    "### Joint torques"
   ]
  },
  {
   "cell_type": "code",
   "execution_count": null,
   "metadata": {},
   "outputs": [],
   "source": [
    "plt.figure(figsize=(16,8))\n",
    "plt.plot(l_times[idx_start:idx_end], \n",
    "         joint_torque_in_compliance_frame[0,idx_start:idx_end], linewidth=5, color='r', label=r\"\\tau_x\")\n",
    "plt.plot(l_times[idx_start:idx_end], \n",
    "         joint_torque_in_compliance_frame[1,idx_start:idx_end], linewidth=5, color='g', label=r\"\\tau_y\")\n",
    "plt.plot(l_times[idx_start:idx_end], \n",
    "         joint_torque_in_compliance_frame[2,idx_start:idx_end], linewidth=5, color='b', label=r\"\\tau_z\")\n",
    "plt.autoscale(enable=True, axis='x', tight=True)"
   ]
  },
  {
   "cell_type": "code",
   "execution_count": null,
   "metadata": {},
   "outputs": [],
   "source": [
    "lhs = a_LT\n",
    "lhs_label = r\"$a_{LT}$\"\n",
    "rhs = (-w_L/2)*d_theta_L**2\n",
    "rhs_label = r\"$-\\frac{w_L}{2}\\dot\\theta^2$\"\n",
    "plot_eq(lhs, lhs_label, rhs, rhs_label)"
   ]
  },
  {
   "cell_type": "code",
   "execution_count": null,
   "metadata": {},
   "outputs": [],
   "source": [
    "lhs = a_LN\n",
    "lhs_label = r\"$a_{LN}$\"\n",
    "rhs = (w_L/2)*dd_theta_L\n",
    "rhs_label = r\"$\\frac{w_L}{2}\\ddot\\theta$\"\n",
    "plot_eq(lhs, lhs_label, rhs, rhs_label)"
   ]
  },
  {
   "cell_type": "markdown",
   "metadata": {},
   "source": [
    "### Contact normal"
   ]
  },
  {
   "cell_type": "code",
   "execution_count": null,
   "metadata": {},
   "outputs": [],
   "source": [
    "plot_vec(N_hat, r\"True $\\hat N$\", N_hat_geo, r\"Geometric $\\hat N$\")"
   ]
  },
  {
   "cell_type": "markdown",
   "metadata": {
    "toc-hr-collapsed": true
   },
   "source": [
    "### Kinematic singularities\n",
    "How close we are to kinematic singularities, measured in various ways."
   ]
  },
  {
   "cell_type": "markdown",
   "metadata": {},
   "source": [
    "#### Singular value decomposition"
   ]
  },
  {
   "cell_type": "code",
   "execution_count": null,
   "metadata": {},
   "outputs": [],
   "source": [
    "min_svds = np.min(np.linalg.svd(J)[1], axis=1)\n",
    "plot_eq(min_svds, \"minimum singular value\", 0, \"0\")"
   ]
  },
  {
   "cell_type": "markdown",
   "metadata": {},
   "source": [
    "#### Volume of manipulability ellipsoid"
   ]
  },
  {
   "cell_type": "markdown",
   "metadata": {},
   "source": [
    "Page 195 of Modern Robotics says that the volume of the manipulability ellipsoid is proportional to $\\sqrt{\\det\\left(JJ^T\\right)}$."
   ]
  },
  {
   "cell_type": "code",
   "execution_count": null,
   "metadata": {},
   "outputs": [],
   "source": [
    "V = np.linalg.det(np.matmul(J, J.transpose([0, 2, 1])))"
   ]
  },
  {
   "cell_type": "code",
   "execution_count": null,
   "metadata": {},
   "outputs": [],
   "source": [
    "plot_eq(V, r\"$\\sqrt{\\det\\left(JJ^T\\right)}$\", 0, \"0\")"
   ]
  },
  {
   "cell_type": "markdown",
   "metadata": {},
   "source": [
    "#### Mass matrix deteriminant"
   ]
  },
  {
   "cell_type": "code",
   "execution_count": null,
   "metadata": {},
   "outputs": [],
   "source": [
    "plot_eq(np.linalg.det(M), \"determinant of the mass matrix\", 0, \"0\")"
   ]
  },
  {
   "cell_type": "markdown",
   "metadata": {
    "tags": []
   },
   "source": [
    "### Drag plots"
   ]
  },
  {
   "cell_type": "markdown",
   "metadata": {},
   "source": [
    "This is a sanity check to see how much force we're neglecting by ignoring drag. The colored lines are the drag forces at each link, and the dashed black line is the force due to gravity for scale.\n",
    "\n",
    "Note that the formula for drag force is $\\rho v^2 C_d A_{paper}$.\n",
    "\n",
    "$C_d$ comes from [this site](https://www.engineersedge.com/fluid_flow/rectangular_flat_plate_drag_14036.htm), which says it depends on $L/d$. For 20 links, $L/d\\approx15$. Rounding this down to 10, we get $C_d=1.22$."
   ]
  },
  {
   "cell_type": "code",
   "execution_count": null,
   "metadata": {},
   "outputs": [],
   "source": [
    "# Plot drag forces\n",
    "nb = sim.plant.num_bodies\n",
    "vel_traces = []\n",
    "for b in sim.paper.link_idxs:\n",
    "    rho = 1.225\n",
    "    C_d = sim.paper.w_L*sim.paper.x_dim\n",
    "    vel_sqr = log.data()[sim.log_wrapper.entries_per_body*b+7]**2+log.data()[sim.log_wrapper.entries_per_body*b+8]**2\n",
    "    f = 0.5*rho*C_d*vel_sqr\n",
    "    plt.plot(f)\n",
    "\n",
    "plt.axhline(sim.paper.m_L*9.81, color='black', linestyle='--')\n",
    "plt.show()"
   ]
  },
  {
   "cell_type": "markdown",
   "metadata": {},
   "source": [
    "### Plots used in original paper"
   ]
  },
  {
   "cell_type": "code",
   "execution_count": null,
   "metadata": {},
   "outputs": [],
   "source": [
    "non_vertical_axis = 1 - hinge_rotation_axis\n",
    "\n",
    "# Generate plots for paper\n",
    "nb = sim.plant.num_bodies()\n",
    "hor_traces = []\n",
    "ver_traces = []\n",
    "ang_traces = []\n",
    "for b in sim.paper.link_idxs:\n",
    "    hor_traces.append(log.data()[\n",
    "        sim.log_wrapper.get_idx(\"pos\", \"trn\", b) + non_vertical_axis])\n",
    "    ver_traces.append(log.data()[\n",
    "        sim.log_wrapper.get_idx(\"pos\", \"trn\", b) + 2])\n",
    "\n",
    "    ang_trace = np.array(log.data()[\n",
    "        sim.log_wrapper.get_idx(\"pos\", \"rot\", b) + hinge_rotation_axis])\n",
    "    # Handle RPY stuff\n",
    "    if hinge_rotation_axis == 1:\n",
    "        z_angs = log.data()[sim.log_wrapper.get_idx(\"pos\", \"rot\", b) + 2]\n",
    "        ang_trace[z_angs > np.pi/2] = ang_trace[z_angs > np.pi/2]*-1 + np.pi\n",
    "        ang_trace = ang_trace *-1\n",
    "    ang_traces.append(ang_trace)\n",
    "hor_traces = np.array(hor_traces)\n",
    "ver_traces = np.array(ver_traces)\n",
    "ang_traces = np.array(ang_traces)\n",
    "\n",
    "times_ = np.linspace(l_times[first_contact_idx],effective_tspan, 5)\n",
    "cmap = cm.get_cmap(\"viridis_r\")\n",
    "plt.figure(figsize=(8,8))\n",
    "\n",
    "# Set to be arbitrary large/small numbers\n",
    "# IMPORTANT: x and y here refer to PLOT x and ys, not sim\n",
    "min_x = 10**9\n",
    "min_y = 10**9\n",
    "max_x = -10**9\n",
    "max_y = -10**9\n",
    "\n",
    "# Add links\n",
    "for t in times_:\n",
    "    c = cmap(t/effective_tspan)\n",
    "    idx = np.argmax(log.sample_times() >= t)\n",
    "\n",
    "    for x, y, ang in zip(hor_traces[:,idx], ver_traces[:,idx], ang_traces[:,idx]):\n",
    "        min_x = min(x - w_L*1.1*0.5, min_x)\n",
    "        min_y = min(y - w_L*1.1*0.5, min_y)\n",
    "        max_x = max(x + w_L*1.1*0.5, max_x)\n",
    "        max_y = max(y + w_L*1.1*0.5, max_y)\n",
    "        \n",
    "        x0 = x - np.cos(ang)*w_L/2\n",
    "        y0 = y - np.sin(ang)*w_L/2\n",
    "\n",
    "        rect = plt. Rectangle(\n",
    "            (x0, y0),\n",
    "            sim.sim_sys_consts.w_L,\n",
    "            sim.sim_sys_consts.h_L,\n",
    "            angle=ang*180/np.pi,\n",
    "            color=c,\n",
    "        )\n",
    "        plt.gca().add_patch(rect)\n",
    "\n",
    "# Add pedestal\n",
    "## Get first pedestal location\n",
    "rect = plt. Rectangle(\n",
    "    (hor_traces[0,0]+sim.sim_sys_consts.w_L/2, ver_traces[0,0]),\n",
    "    sim.sim_sys_consts.w_L,\n",
    "    10,\n",
    "    angle=180,\n",
    "    color=(0.2, 0.2, 0.2, 1.0),\n",
    ")\n",
    "plt.gca().add_patch(rect)\n",
    "\n",
    "# Add manipulator\n",
    "for t in times_:\n",
    "    c = cmap(t/effective_tspan)\n",
    "    idx = np.argmax(log.sample_times() >= t)\n",
    "\n",
    "    x = log.data()[sim.log_wrapper.get_idx(\n",
    "        \"pos\", \"trn\", sim.contact_body_idx) + non_vertical_axis,idx]\n",
    "    y = log.data()[sim.log_wrapper.get_idx(\n",
    "        \"pos\", \"trn\", sim.contact_body_idx) + 2,idx]\n",
    "    \n",
    "    min_x = min(x - w_L*1.1*0.5, min_x)\n",
    "    min_y = min(y - w_L*1.1*0.5, min_y)\n",
    "    max_x = max(x + w_L*1.1*0.5, max_x)\n",
    "    max_y = max(y + w_L*1.1*0.5, max_y)\n",
    "\n",
    "    circ = plt.Circle((x, y), sim.sim_sys_consts.r, color=c, alpha=0.3)\n",
    "    plt.gca().add_patch(circ)\n",
    "\n",
    "cb.set_label(\"Time\")\n",
    "plt.xlabel(\"$y$ position\")\n",
    "plt.ylabel(\"$z$ position\")\n",
    "plt.xlim(min_x-0.03, max_x+0.03)\n",
    "plt.ylim(min_y-0.03, max_y+0.03)\n",
    "plt.gca().set_aspect(\"equal\")\n",
    "plt.show()"
   ]
  },
  {
   "cell_type": "code",
   "execution_count": null,
   "metadata": {},
   "outputs": [],
   "source": [
    "plt.figure(figsize=(6,8))\n",
    "plt.plot(p_L[first_contact_idx:,0], p_L[first_contact_idx:,2], '--', linewidth=2)\n",
    "plt.gca().set_aspect(\"equal\")"
   ]
  },
  {
   "cell_type": "code",
   "execution_count": null,
   "metadata": {},
   "outputs": [],
   "source": [
    "p_L[:,0].shape"
   ]
  },
  {
   "cell_type": "markdown",
   "metadata": {
    "tags": []
   },
   "source": [
    "# Debugging sandbox\n",
    "Plots that I don't intend to keep long-term, but are useful to have while debugging my current problem."
   ]
  },
  {
   "cell_type": "markdown",
   "metadata": {},
   "source": [
    "## Simplified normal acceleration analysis\n",
    "### Link vs. manipulator normal acceleration"
   ]
  },
  {
   "cell_type": "code",
   "execution_count": null,
   "metadata": {},
   "outputs": [],
   "source": [
    "plot_eq(a_MN, \"a_MN\", a_LN, \"a_LN\")"
   ]
  },
  {
   "cell_type": "markdown",
   "metadata": {},
   "source": [
    "This confirms we can analyze the two bodies as moving together."
   ]
  },
  {
   "cell_type": "markdown",
   "metadata": {},
   "source": [
    "### Adding together N hat equations\n",
    "Because they're moving together, everything should cancel. First, just adding back the sphere equations:"
   ]
  },
  {
   "cell_type": "code",
   "execution_count": null,
   "metadata": {},
   "outputs": [],
   "source": []
  },
  {
   "cell_type": "code",
   "execution_count": null,
   "metadata": {},
   "outputs": [],
   "source": [
    "# TODO"
   ]
  }
 ],
 "metadata": {
  "interpreter": {
   "hash": "aee8b7b246df8f9039afb4144a1f6fd8d2ca17a180786b69acc140d282b71a49"
  },
  "kernelspec": {
   "display_name": "Python 3",
   "language": "python",
   "name": "python3"
  },
  "language_info": {
   "codemirror_mode": {
    "name": "ipython",
    "version": 3
   },
   "file_extension": ".py",
   "mimetype": "text/x-python",
   "name": "python",
   "nbconvert_exporter": "python",
   "pygments_lexer": "ipython3",
   "version": "3.9.9"
  },
  "toc": {
   "base_numbering": 1,
   "nav_menu": {},
   "number_sections": true,
   "sideBar": false,
   "skip_h1_title": false,
   "title_cell": "Table of Contents",
   "title_sidebar": "Contents",
   "toc_cell": false,
   "toc_position": {
    "height": "665px",
    "left": "1140px",
    "top": "327px",
    "width": "324px"
   },
   "toc_section_display": true,
   "toc_window_display": true
  },
  "toc-autonumbering": true,
  "toc-showcode": false,
  "toc-showmarkdowntxt": false,
  "toc-showtags": false
 },
 "nbformat": 4,
 "nbformat_minor": 4
}
