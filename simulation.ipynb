{
 "cells": [
  {
   "cell_type": "code",
   "execution_count": null,
   "metadata": {},
   "outputs": [],
   "source": [
    "# Suprress warnings\n",
    "import warnings\n",
    "with warnings.catch_warnings():\n",
    "    warnings.simplefilter(\"ignore\")\n",
    "\n",
    "    # Standard imports\n",
    "    import matplotlib\n",
    "    import matplotlib.pyplot as plt\n",
    "    import matplotlib.cm as cm\n",
    "    import numpy as np\n",
    "\n",
    "    # Drake imports\n",
    "    from meshcat.servers.zmqserver import start_zmq_server_as_subprocess\n",
    "    import pydrake\n",
    "    from pydrake.all import LogOutput, DirectCollocation, DirectTranscription, MathematicalProgram, InputPortSelection\n",
    "\n",
    "# Imports of other project files\n",
    "from log_wrapper import LogWrapper\n",
    "import constants\n",
    "import finger\n",
    "import pedestal\n",
    "from paper import Paper\n",
    "\n",
    "from pydrake.all import (MultibodyPlant, Parser, DiagramBuilder, Simulator,\n",
    "                         PlanarSceneGraphVisualizer, SceneGraph, TrajectorySource,\n",
    "                         SnoptSolver, MultibodyPositionToGeometryPose, PiecewisePolynomial,\n",
    "                         MathematicalProgram, JacobianWrtVariable, eq, RollPitchYaw, AutoDiffXd)\n",
    "\n",
    "# Other imports\n",
    "import importlib"
   ]
  },
  {
   "cell_type": "code",
   "execution_count": null,
   "metadata": {},
   "outputs": [],
   "source": [
    "# Matplotlib configuring\n",
    "plt.style.use(['science', 'no-latex'])\n",
    "font = {'size'   : 14}\n",
    "matplotlib.rc('font', **font)"
   ]
  },
  {
   "cell_type": "code",
   "execution_count": null,
   "metadata": {},
   "outputs": [],
   "source": [
    "# Meshcat init\n",
    "proc, zmq_url, web_url = start_zmq_server_as_subprocess()"
   ]
  },
  {
   "cell_type": "code",
   "execution_count": null,
   "metadata": {},
   "outputs": [],
   "source": [
    "## Pre-finalize steps\n",
    "builder = pydrake.systems.framework.DiagramBuilder()\n",
    "\n",
    "# Add all elements\n",
    "plant, scene_graph = pydrake.multibody.plant.AddMultibodyPlantSceneGraph(builder, time_step=constants.DT)\n",
    "plant.set_stiction_tolerance(1)\n",
    "pedestal_instance = pedestal.AddPedestal(plant)\n",
    "\n",
    "# These joint angles start the paper approximately the right spot, no matter how many links are used\n",
    "num_links = 2\n",
    "# def_joint_angles = list(np.zeros(num_links))\n",
    "# def_joint_angles[0] = np.pi/100\n",
    "# def_joint_angles[1] = np.pi/100\n",
    "# def_joint_angles[int(num_links*0.65)-2] = -np.pi/10\n",
    "# def_joint_angles[int(num_links*0.65)-1] = -np.pi/10\n",
    "# def_joint_angles[int(num_links*0.65)] = -np.pi/10\n",
    "# def_joint_angles[int(num_links*0.65)+1] = -np.pi/10\n",
    "# # def_joint_angles[int(num_links*0.65)+2] = -np.pi/10\n",
    "def_joint_angles = np.pi/3\n",
    "\n",
    "paper = Paper(plant, scene_graph, num_links, \"NATURAL\", default_joint_angle=def_joint_angles, stiffness=2.5e-3, damping=7.12547340446979e-06)\n",
    "paper.weld_paper_edge(pedestal.PEDESTAL_WIDTH, pedestal.PEDESTAL_HEIGHT)\n",
    "\n",
    "finger_instance = finger.AddFinger(plant, constants.INIT_Y, constants.INIT_Z)\n",
    "\n",
    "# Set up logger (needs to happen after all bodies are added)\n",
    "log_wrapper = LogWrapper(plant.num_bodies())\n",
    "builder.AddSystem(log_wrapper)"
   ]
  },
  {
   "cell_type": "markdown",
   "metadata": {},
   "source": [
    "Calculate link inertia to use in damping calculations:"
   ]
  },
  {
   "cell_type": "code",
   "execution_count": null,
   "metadata": {},
   "outputs": [],
   "source": [
    "paper.plant.GetBodyByName(\"paper_body\", paper.get_free_edge_instance()).default_rotational_inertia().CalcPrincipalMomentsOfInertia()[0]"
   ]
  },
  {
   "cell_type": "code",
   "execution_count": null,
   "metadata": {},
   "outputs": [],
   "source": [
    "## CHOOSE CONTROL SYSTEM HERE BY UNCOMMENTING\n",
    "# # PD control: hits too low\n",
    "# finger_ctrlr = finger.PDFinger(\n",
    "#     plant,\n",
    "#     int(finger_instance),\n",
    "#     [\n",
    "#         [constants.INIT_Y, constants.INIT_Z],\n",
    "#         [constants.INIT_Y*1.1, constants.INIT_Z],\n",
    "#         [constants.INIT_Y*1.1, pedestal.PEDESTAL_HEIGHT+constants.FINGER_RADIUS/2+0.05],\n",
    "#         [0, pedestal.PEDESTAL_HEIGHT+constants.FINGER_RADIUS/2+0.05],\n",
    "#         [0, pedestal.PEDESTAL_HEIGHT+constants.FINGER_RADIUS/2],\n",
    "#     ],\n",
    "#     tspan_per_segment=1,\n",
    "#     ky=10,\n",
    "#     kz=10\n",
    "# )\n",
    "\n",
    "# PD control: hits too high\n",
    "# finger_ctrlr = finger.PDFinger(\n",
    "#     plant,\n",
    "#     int(finger_instance),\n",
    "#     [\n",
    "#         [constants.INIT_Y, constants.INIT_Z],\n",
    "#         [constants.INIT_Y*1.1, constants.INIT_Z],\n",
    "#         [constants.INIT_Y*1.1, pedestal.PEDESTAL_HEIGHT+constants.FINGER_RADIUS/2+0.08],\n",
    "#         [0, pedestal.PEDESTAL_HEIGHT+constants.FINGER_RADIUS/2+0.08],\n",
    "#         [0, pedestal.PEDESTAL_HEIGHT+constants.FINGER_RADIUS/2],\n",
    "#     ],\n",
    "#     tspan_per_segment=1,\n",
    "#     ky=10,\n",
    "#     kz=10\n",
    "# )\n",
    "\n",
    "\n",
    "# Edge feedback\n",
    "finger_ctrlr = finger.EdgeController(\n",
    "    plant,\n",
    "    paper,\n",
    "    int(finger_instance),\n",
    "    F_Nd=0.03,\n",
    "    debug=True,\n",
    ")\n",
    "\n",
    "# # Optimization controller\n",
    "# finger_ctrlr = finger.OptimizationController(\n",
    "#     plant,\n",
    "#     paper,\n",
    "#     int(finger_instance),\n",
    "#     paper.get_free_edge_instance()\n",
    "# )\n",
    "\n",
    "# Blank controller\n",
    "# finger_ctrlr = finger.BlankController(\n",
    "#     plant,\n",
    "#     int(finger_instance)\n",
    "# )"
   ]
  },
  {
   "cell_type": "code",
   "execution_count": null,
   "metadata": {},
   "outputs": [],
   "source": [
    "plant.Finalize()\n",
    "\n",
    "## Post finalize steps\n",
    "# Conect finger controller\n",
    "builder.AddSystem(finger_ctrlr)\n",
    "builder.Connect(finger_ctrlr.get_output_port(), plant.get_actuation_input_port(finger_instance))\n",
    "builder.Connect(plant.get_body_poses_output_port(), finger_ctrlr.get_input_port(0))\n",
    "builder.Connect(plant.get_body_spatial_velocities_output_port(), finger_ctrlr.get_input_port(1))\n",
    "\n",
    "# Add logger\n",
    "builder.Connect(plant.get_body_poses_output_port(), log_wrapper.get_input_port(0))\n",
    "builder.Connect(plant.get_body_spatial_velocities_output_port(), log_wrapper.get_input_port(1))\n",
    "\n",
    "# Visualization and logging\n",
    "logger = LogOutput(log_wrapper.get_output_port(), builder)\n",
    "vis = pydrake.systems.meshcat_visualizer.ConnectMeshcatVisualizer(builder, scene_graph)\n",
    "\n",
    "# Build diagram and do actions requiring \n",
    "diagram = builder.Build()\n",
    "diagram_context = diagram.CreateDefaultContext()"
   ]
  },
  {
   "cell_type": "code",
   "execution_count": null,
   "metadata": {},
   "outputs": [],
   "source": [
    "if type(finger_ctrlr) is finger.OptimizationController:\n",
    "    finger_ctrlr.optimize(plant.GetPositions(diagram_context))"
   ]
  },
  {
   "cell_type": "code",
   "execution_count": null,
   "metadata": {},
   "outputs": [],
   "source": [
    "# Finalize simulation and visualization\n",
    "simulator = pydrake.systems.analysis.Simulator(diagram, diagram_context)\n",
    "simulator.Initialize()\n",
    "vis.start_recording()\n",
    "simulator.AdvanceTo(constants.TSPAN)\n",
    "vis.stop_recording()\n",
    "vis.publish_recording()"
   ]
  },
  {
   "cell_type": "code",
   "execution_count": null,
   "metadata": {},
   "outputs": [],
   "source": [
    "# Plot manipulator position vs. trajectory\n",
    "if type(finger_ctrlr) is finger.PDFinger:\n",
    "    plt.figure(figsize=(2*3,2*2))\n",
    "    plt.plot(logger.data()[12*int(finger_instance)+1],\n",
    "             logger.data()[12*int(finger_instance)+2],\n",
    "             label='Manipulator position')\n",
    "    plt.plot(finger_ctrlr.ys, finger_ctrlr.zs, label='Trajectory')\n",
    "    plt.xlabel(\"$y$ position\")\n",
    "    plt.ylabel(\"$z$ position\")\n",
    "    plt.legend()\n",
    "    plt.show()"
   ]
  },
  {
   "cell_type": "code",
   "execution_count": null,
   "metadata": {},
   "outputs": [],
   "source": [
    "# Generate plots for paper\n",
    "nb = plant.num_bodies()\n",
    "paper_idxs = [int(i) for i in paper.link_instances]\n",
    "y_traces = []\n",
    "z_traces = []\n",
    "for b in paper_idxs:\n",
    "    y_traces.append(logger.data()[12*b+1])\n",
    "    z_traces.append(logger.data()[12*b+2])\n",
    "y_traces = np.array(y_traces)\n",
    "z_traces = np.array(z_traces)\n",
    "\n",
    "times = np.arange(0,constants.TSPAN,constants.TSPAN/10)\n",
    "cmap = cm.get_cmap(\"viridis_r\")\n",
    "plt.figure(figsize=(2*3,2*2))\n",
    "if type(finger_ctrlr) is finger.PDFinger:\n",
    "    plt.plot(finger_ctrlr.ys, finger_ctrlr.zs, '--k', zorder=-1)\n",
    "for t in times:\n",
    "    c = cmap(t/constants.TSPAN)\n",
    "    idx = int(t/constants.DT)\n",
    "    plt.plot(y_traces[:-1,idx], z_traces[:-1,idx], color=c)\n",
    "    plt.scatter(logger.data()[12*int(finger_instance)+1,idx], \n",
    "                logger.data()[12*int(finger_instance)+2,idx],\n",
    "                color=c, s=300, zorder=1)\n",
    "\n",
    "xlim = plt.xlim()\n",
    "ylim = plt.ylim()\n",
    "plt.scatter([xlim[0]-50, xlim[0]-50], [ylim[0]-50, ylim[0]-50], c=[0, constants.TSPAN], cmap=cmap)\n",
    "plt.xlim(xlim)\n",
    "plt.ylim(ylim)\n",
    "cb = plt.colorbar()\n",
    "cb.set_label(\"Time\")\n",
    "plt.xlabel(\"$y$ position\")\n",
    "plt.ylabel(\"$z$ position\")\n",
    "plt.show()"
   ]
  },
  {
   "cell_type": "markdown",
   "metadata": {},
   "source": [
    "This is a sanity check to see how much force we're neglecting by ignoring drag. The colored lines are the drag forces at each link, and the dashed black line is the force due to gravity for scale.\n",
    "\n",
    "Note that the formula for drag force is $\\rho v^2 C_d A_{paper}$.\n",
    "\n",
    "$C_d$ comes from [this site](https://www.engineersedge.com/fluid_flow/rectangular_flat_plate_drag_14036.htm), which says it depends on $L/d$. For 20 links, $L/d\\approx15$. Rounding this down to 10, we get $C_d=1.22$."
   ]
  },
  {
   "cell_type": "code",
   "execution_count": null,
   "metadata": {},
   "outputs": [],
   "source": [
    "# Plot drag forces\n",
    "plt.figure(figsize=(16, 12))\n",
    "nb = plant.num_bodies()\n",
    "paper_idxs = [int(i) for i in paper.link_instances]\n",
    "vel_traces = []\n",
    "for b in paper_idxs:\n",
    "    rho = 1.225\n",
    "    C_d = paper.link_width*paper.depth\n",
    "    vel_sqred = logger.data()[12*b+7]**2+logger.data()[12*b+8]**2\n",
    "    f = 0.5*rho*C_d*vel_sqred\n",
    "    plt.plot(f)\n",
    "\n",
    "plt.axhline(paper.link_mass*9.81, color='black', linestyle='--')\n",
    "plt.show()"
   ]
  }
 ],
 "metadata": {
  "kernelspec": {
   "display_name": "Python 3",
   "language": "python",
   "name": "python3"
  },
  "language_info": {
   "codemirror_mode": {
    "name": "ipython",
    "version": 3
   },
   "file_extension": ".py",
   "mimetype": "text/x-python",
   "name": "python",
   "nbconvert_exporter": "python",
   "pygments_lexer": "ipython3",
   "version": "3.6.9"
  },
  "toc": {
   "base_numbering": 1,
   "nav_menu": {},
   "number_sections": true,
   "sideBar": true,
   "skip_h1_title": false,
   "title_cell": "Table of Contents",
   "title_sidebar": "Contents",
   "toc_cell": false,
   "toc_position": {
    "height": "769px",
    "left": "754px",
    "top": "167px",
    "width": "165px"
   },
   "toc_section_display": true,
   "toc_window_display": true
  }
 },
 "nbformat": 4,
 "nbformat_minor": 4
}
