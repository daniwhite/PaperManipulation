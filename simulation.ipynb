{
 "cells": [
  {
   "cell_type": "markdown",
   "metadata": {},
   "source": [
    "# Imports"
   ]
  },
  {
   "cell_type": "code",
   "execution_count": null,
   "metadata": {},
   "outputs": [],
   "source": [
    "# Suprress warnings\n",
    "import warnings\n",
    "with warnings.catch_warnings():\n",
    "    warnings.simplefilter(\"ignore\")\n",
    "\n",
    "    # Standard imports\n",
    "    import matplotlib\n",
    "    import matplotlib.pyplot as plt\n",
    "    import matplotlib.cm as cm\n",
    "    import numpy as np\n",
    "\n",
    "    # Drake imports\n",
    "    from meshcat.servers.zmqserver import start_zmq_server_as_subprocess\n",
    "    import pydrake\n",
    "    from pydrake.all import LogOutput, DirectCollocation, DirectTranscription, MathematicalProgram, InputPortSelection\n",
    "\n",
    "# Imports of other project files\n",
    "from log_wrapper import LogWrapper\n",
    "import constants\n",
    "import finger\n",
    "import pedestal\n",
    "from paper import Paper\n",
    "\n",
    "from pydrake.all import (MultibodyPlant, Parser, DiagramBuilder, Simulator,\n",
    "                         PlanarSceneGraphVisualizer, SceneGraph, TrajectorySource,\n",
    "                         SnoptSolver, MultibodyPositionToGeometryPose, PiecewisePolynomial,\n",
    "                         MathematicalProgram, JacobianWrtVariable, eq, RollPitchYaw, AutoDiffXd, BodyIndex)\n",
    "\n",
    "# Other imports\n",
    "import importlib\n",
    "\n",
    "import scipy.interpolate"
   ]
  },
  {
   "cell_type": "code",
   "execution_count": null,
   "metadata": {},
   "outputs": [],
   "source": [
    "# Matplotlib configuring\n",
    "plt.style.use(['science', 'no-latex'])\n",
    "font = {'size'   : 14}\n",
    "matplotlib.rc('font', **font)"
   ]
  },
  {
   "cell_type": "code",
   "execution_count": null,
   "metadata": {},
   "outputs": [],
   "source": [
    "# Meshcat init\n",
    "proc, zmq_url, web_url = start_zmq_server_as_subprocess()"
   ]
  },
  {
   "cell_type": "markdown",
   "metadata": {},
   "source": [
    "# Simulation setup\n",
    "## Pre-finalize steps"
   ]
  },
  {
   "cell_type": "code",
   "execution_count": null,
   "metadata": {},
   "outputs": [],
   "source": [
    "builder = pydrake.systems.framework.DiagramBuilder()\n",
    "\n",
    "# Add all elements\n",
    "plant, scene_graph = pydrake.multibody.plant.AddMultibodyPlantSceneGraph(builder, time_step=constants.DT)\n",
    "v_stiction=1e-3\n",
    "plant.set_stiction_tolerance(v_stiction)\n",
    "pedestal_instance = pedestal.AddPedestal(plant)\n",
    "\n",
    "# These joint angles start the paper approximately the right spot, no matter how many links are used\n",
    "num_links = 2\n",
    "# def_joint_angles = list(np.zeros(num_links))\n",
    "# def_joint_angles[0] = np.pi/100\n",
    "# def_joint_angles[1] = np.pi/100\n",
    "# def_joint_angles[int(num_links*0.65)-2] = -np.pi/10\n",
    "# def_joint_angles[int(num_links*0.65)-1] = -np.pi/10\n",
    "# def_joint_angles[int(num_links*0.65)] = -np.pi/10\n",
    "# def_joint_angles[int(num_links*0.65)+1] = -np.pi/10\n",
    "# # def_joint_angles[int(num_links*0.65)+2] = -np.pi/10\n",
    "def_joint_angles = 0#np.pi/3\n",
    "\n",
    "paper = Paper(plant, scene_graph, num_links, \"NATURAL\", default_joint_angle=def_joint_angles,\n",
    "              stiffness=2.5e-2,\n",
    "              damping=7.12547340446979e-06)\n",
    "paper.weld_paper_edge(pedestal.PEDESTAL_WIDTH, pedestal.PEDESTAL_HEIGHT)\n",
    "\n",
    "finger_instance, finger_body = finger.AddFinger(plant, constants.INIT_Y, constants.INIT_Z)\n",
    "\n",
    "# Set up logger (needs to happen after all bodies are added)\n",
    "log_wrapper = LogWrapper(plant.num_bodies(), int(finger_body.index()), paper.get_free_edge_idx(), paper.joint_idxs)\n",
    "builder.AddSystem(log_wrapper)"
   ]
  },
  {
   "cell_type": "markdown",
   "metadata": {},
   "source": [
    "Calculate link inertia to use in damping calculations:"
   ]
  },
  {
   "cell_type": "code",
   "execution_count": null,
   "metadata": {},
   "outputs": [],
   "source": [
    "paper.plant.get_body(BodyIndex(paper.get_free_edge_idx())).default_rotational_inertia().CalcPrincipalMomentsOfInertia()[0]"
   ]
  },
  {
   "cell_type": "markdown",
   "metadata": {},
   "source": [
    "## Controller selection"
   ]
  },
  {
   "cell_type": "code",
   "execution_count": null,
   "metadata": {},
   "outputs": [],
   "source": [
    "## CHOOSE CONTROL SYSTEM HERE BY UNCOMMENTING\n",
    "# # PD control: hits too low\n",
    "# finger_ctrlr = finger.PDFinger(\n",
    "#     plant,\n",
    "#     int(finger_instance),\n",
    "#     [\n",
    "#         [constants.INIT_Y, constants.INIT_Z],\n",
    "#         [constants.INIT_Y*1.1, constants.INIT_Z],\n",
    "#         [constants.INIT_Y*1.1, pedestal.PEDESTAL_HEIGHT+constants.FINGER_RADIUS/2+0.05],\n",
    "#         [0, pedestal.PEDESTAL_HEIGHT+constants.FINGER_RADIUS/2+0.05],\n",
    "#         [0, pedestal.PEDESTAL_HEIGHT+constants.FINGER_RADIUS/2],\n",
    "#     ],\n",
    "#     tspan_per_segment=1,\n",
    "#     ky=10,\n",
    "#     kz=10\n",
    "# )\n",
    "\n",
    "# PD control: hits too high\n",
    "# finger_ctrlr = finger.PDFinger(\n",
    "#     plant,\n",
    "#     int(finger_instance),\n",
    "#     [\n",
    "#         [constants.INIT_Y, constants.INIT_Z],\n",
    "#         [constants.INIT_Y*1.1, constants.INIT_Z],\n",
    "#         [constants.INIT_Y*1.1, pedestal.PEDESTAL_HEIGHT+constants.FINGER_RADIUS/2+0.08],\n",
    "#         [0, pedestal.PEDESTAL_HEIGHT+constants.FINGER_RADIUS/2+0.08],\n",
    "#         [0, pedestal.PEDESTAL_HEIGHT+constants.FINGER_RADIUS/2],\n",
    "#     ],\n",
    "#     tspan_per_segment=1,\n",
    "#     ky=10,\n",
    "#     kz=10\n",
    "# )\n",
    "\n",
    "\n",
    "# Edge feedback\n",
    "finger_ctrlr = finger.EdgeController(\n",
    "    plant,\n",
    "    paper,\n",
    "    int(finger_instance),\n",
    "    F_Nd=2,\n",
    "    debug=True,\n",
    ")\n",
    "\n",
    "# # Optimization controller\n",
    "# finger_ctrlr = finger.OptimizationController(\n",
    "#     plant,\n",
    "#     paper,\n",
    "#     int(finger_instance),\n",
    "#     paper.get_free_edge_instance()\n",
    "# )\n",
    "\n",
    "# Blank controller\n",
    "# finger_ctrlr = finger.BlankController(\n",
    "#     plant,\n",
    "#     int(finger_instance)\n",
    "# )"
   ]
  },
  {
   "cell_type": "markdown",
   "metadata": {},
   "source": [
    "## Post-finalize steps"
   ]
  },
  {
   "cell_type": "code",
   "execution_count": null,
   "metadata": {},
   "outputs": [],
   "source": [
    "plant.Finalize()\n",
    "\n",
    "## Post finalize steps\n",
    "# Conect finger controller\n",
    "builder.AddSystem(finger_ctrlr)\n",
    "builder.Connect(finger_ctrlr.get_output_port(), plant.get_actuation_input_port(finger_instance))\n",
    "builder.Connect(plant.get_body_poses_output_port(), finger_ctrlr.get_input_port(0))\n",
    "builder.Connect(plant.get_body_spatial_velocities_output_port(), finger_ctrlr.get_input_port(1))\n",
    "\n",
    "# Add logger\n",
    "builder.Connect(plant.get_body_poses_output_port(), log_wrapper.get_input_port(0))\n",
    "builder.Connect(plant.get_body_spatial_velocities_output_port(), log_wrapper.get_input_port(1))\n",
    "builder.Connect(plant.get_body_spatial_accelerations_output_port(), log_wrapper.get_input_port(2)) \n",
    "builder.Connect(plant.get_contact_results_output_port(), log_wrapper.get_input_port(3))\n",
    "builder.Connect(plant.get_reaction_forces_output_port(), log_wrapper.get_input_port(4))\n",
    "\n",
    "# Visualization and logging\n",
    "logger = LogOutput(log_wrapper.get_output_port(), builder)\n",
    "vis = pydrake.systems.meshcat_visualizer.ConnectMeshcatVisualizer(builder, scene_graph)\n",
    "vis.set_planar_viewpoint(camera_position=[1, 0, 0], xmin=-0.3, xmax=0.3, ymin=-0.3, ymax=0.3)\n",
    "\n",
    "# Build diagram and do actions requiring \n",
    "diagram = builder.Build()\n",
    "diagram_context = diagram.CreateDefaultContext()"
   ]
  },
  {
   "cell_type": "code",
   "execution_count": null,
   "metadata": {},
   "outputs": [],
   "source": [
    "if type(finger_ctrlr) is finger.OptimizationController:\n",
    "    finger_ctrlr.optimize(plant.GetPositions(diagram_context))"
   ]
  },
  {
   "cell_type": "markdown",
   "metadata": {},
   "source": [
    "# Run simulation"
   ]
  },
  {
   "cell_type": "code",
   "execution_count": null,
   "metadata": {},
   "outputs": [],
   "source": [
    "# Finalize simulation and visualization\n",
    "simulator = pydrake.systems.analysis.Simulator(diagram, diagram_context)\n",
    "simulator.Initialize()\n",
    "vis.start_recording()\n",
    "try:\n",
    "    simulator.AdvanceTo(constants.TSPAN)\n",
    "except RuntimeError as e:\n",
    "    print(e)\n",
    "\n",
    "# This way, we can use the actual time the simulation ran for\n",
    "effective_tspan = max(logger.sample_times())\n",
    "\n",
    "vis.stop_recording()\n",
    "vis.publish_recording()"
   ]
  },
  {
   "cell_type": "markdown",
   "metadata": {},
   "source": [
    "# Plots used in orginal paper"
   ]
  },
  {
   "cell_type": "code",
   "execution_count": null,
   "metadata": {},
   "outputs": [],
   "source": [
    "# Plot manipulator position vs. trajectory\n",
    "# PROGRAMMING: Use body index for finger instead of model instance\n",
    "if type(finger_ctrlr) is finger.PDFinger:\n",
    "    plt.figure(figsize=(2*3,2*2))\n",
    "    plt.plot(logger.data()[log_wrapper.entries_per_body*int(finger_instance)+1],\n",
    "             logger.data()[log_wrapper.entries_per_body*int(finger_instance)+2],\n",
    "             label='Manipulator position')\n",
    "    plt.plot(finger_ctrlr.ys, finger_ctrlr.zs, label='Trajectory')\n",
    "    plt.xlabel(\"$y$ position\")\n",
    "    plt.ylabel(\"$z$ position\")\n",
    "    plt.legend()\n",
    "    plt.show()"
   ]
  },
  {
   "cell_type": "code",
   "execution_count": null,
   "metadata": {},
   "outputs": [],
   "source": [
    "# Generate plots for paper\n",
    "nb = plant.num_bodies()\n",
    "y_traces = []\n",
    "z_traces = []\n",
    "theta_traces = []\n",
    "for b in paper.link_idxs:\n",
    "    y_traces.append(logger.data()[log_wrapper.entries_per_body*b+1])\n",
    "    z_traces.append(logger.data()[log_wrapper.entries_per_body*b+2])\n",
    "    theta_traces.append(logger.data()[log_wrapper.entries_per_body*b+3])\n",
    "y_traces = np.array(y_traces)\n",
    "z_traces = np.array(z_traces)\n",
    "theta_traces = np.array(theta_traces)\n",
    "\n",
    "times_ = np.arange(0,effective_tspan, effective_tspan/10)\n",
    "cmap = cm.get_cmap(\"viridis_r\")\n",
    "plt.figure(figsize=(2*3,2*2))\n",
    "if type(finger_ctrlr) is finger.PDFinger:\n",
    "    plt.plot(finger_ctrlr.ys, finger_ctrlr.zs, '--k', zorder=-1)\n",
    "for t in times_:\n",
    "    c = cmap(t/effective_tspan)\n",
    "    idx = np.argmax(logger.sample_times() >= t)\n",
    "    \n",
    "    # Plot paper\n",
    "    # PROGRAMMING: Account for paper thickness in plots\n",
    "    for y, z, theta in zip(y_traces[:,idx], z_traces[:,idx], theta_traces[:,idx]):\n",
    "        y0 = y - np.cos(theta)*paper.link_width/2\n",
    "        z0 = z - np.sin(theta)*paper.link_width/2\n",
    "        y1 = y + np.cos(theta)*paper.link_width/2\n",
    "        z1 = z + np.sin(theta)*paper.link_width/2\n",
    "        plt.plot([y0, y1], [z0, z1], color=c)\n",
    "        \n",
    "    \n",
    "    # Plot manipulator\n",
    "    plt.scatter(logger.data()[log_wrapper.entries_per_body*int(finger_instance)+1,idx], \n",
    "                logger.data()[log_wrapper.entries_per_body*int(finger_instance)+2,idx],\n",
    "                color=c, s=300, zorder=1)\n",
    "\n",
    "xlim = plt.xlim()\n",
    "ylim = plt.ylim()\n",
    "plt.scatter([xlim[0]-50, xlim[0]-50], [ylim[0]-50, ylim[0]-50], c=[0, effective_tspan], cmap=cmap)\n",
    "plt.xlim(xlim)\n",
    "plt.ylim(ylim)\n",
    "cb = plt.colorbar()\n",
    "cb.set_label(\"Time\")\n",
    "plt.xlabel(\"$y$ position\")\n",
    "plt.ylabel(\"$z$ position\")\n",
    "plt.show()"
   ]
  },
  {
   "cell_type": "markdown",
   "metadata": {},
   "source": [
    "This is a sanity check to see how much force we're neglecting by ignoring drag. The colored lines are the drag forces at each link, and the dashed black line is the force due to gravity for scale.\n",
    "\n",
    "Note that the formula for drag force is $\\rho v^2 C_d A_{paper}$.\n",
    "\n",
    "$C_d$ comes from [this site](https://www.engineersedge.com/fluid_flow/rectangular_flat_plate_drag_14036.htm), which says it depends on $L/d$. For 20 links, $L/d\\approx15$. Rounding this down to 10, we get $C_d=1.22$."
   ]
  },
  {
   "cell_type": "code",
   "execution_count": null,
   "metadata": {},
   "outputs": [],
   "source": [
    "# Plot drag forces\n",
    "plt.figure(figsize=(16, 12))\n",
    "nb = plant.num_bodies\n",
    "vel_traces = []\n",
    "for b in paper.link_idxs:\n",
    "    rho = 1.225\n",
    "    C_d = paper.link_width*paper.depth\n",
    "    vel_sqred = logger.data()[log_wrapper.entries_per_body*b+7]**2+logger.data()[log_wrapper.entries_per_body*b+8]**2\n",
    "    f = 0.5*rho*C_d*vel_sqred\n",
    "    plt.plot(f)\n",
    "\n",
    "plt.axhline(paper.link_mass*9.81, color='black', linestyle='--')\n",
    "plt.show()"
   ]
  },
  {
   "cell_type": "markdown",
   "metadata": {},
   "source": [
    "# Debug plots"
   ]
  },
  {
   "cell_type": "code",
   "execution_count": null,
   "metadata": {},
   "outputs": [],
   "source": [
    "# Get debug dict\n",
    "debug = finger_ctrlr.debug\n",
    "times = debug['times'] # np.arange(len(debug['d_Ns']))*effective_tspan/len(debug['d_Ns'])\n",
    "dt = effective_tspan/len(debug['d_Ns'])"
   ]
  },
  {
   "cell_type": "markdown",
   "metadata": {},
   "source": [
    "## Unit vectors"
   ]
  },
  {
   "cell_type": "code",
   "execution_count": null,
   "metadata": {},
   "outputs": [],
   "source": [
    "N_Hats = np.array(debug['N_hats'])\n",
    "T_Hats = np.array(debug['T_hats'])"
   ]
  },
  {
   "cell_type": "code",
   "execution_count": null,
   "metadata": {},
   "outputs": [],
   "source": [
    "N_Hats_sim = logger.data()[log_wrapper.contact_entry_start_idx+8:log_wrapper.contact_entry_start_idx+11,:]"
   ]
  },
  {
   "cell_type": "code",
   "execution_count": null,
   "metadata": {},
   "outputs": [],
   "source": [
    "plt.figure(figsize=(16, 16))\n",
    "lw = 5\n",
    "plt.subplot(211)\n",
    "plt.plot(logger.sample_times(), N_Hats_sim[0,:], label='$\\hat n_{BA_W,x}$', color='pink', linewidth=lw)\n",
    "plt.plot(logger.sample_times(), N_Hats_sim[1,:], label='$\\hat n_{BA_W,y}$', color='lightgreen', linewidth=lw)\n",
    "plt.plot(logger.sample_times(), N_Hats_sim[2,:], label='$\\hat n_{BA_W,z}$', color='lightskyblue', linewidth=lw)\n",
    "plt.plot(times, N_Hats[:,0,:], '--', label='$\\hat N_x$', color='red', linewidth=lw)\n",
    "plt.plot(times, N_Hats[:,1,:], '--', label='$\\hat N_y$', color='green', linewidth=lw)\n",
    "plt.plot(times, N_Hats[:,2,:], '--', label='$\\hat N_z$', color='blue', linewidth=lw)\n",
    "plt.xlabel(\"Time (seconds)\")\n",
    "plt.legend()\n",
    "plt.subplot(212)\n",
    "plt.plot(times, T_Hats[:,0,:], label='$\\hat T_x$', color='red', linewidth=lw)\n",
    "plt.plot(times, T_Hats[:,1,:], label='$\\hat T_y$', color='green', linewidth=lw)\n",
    "plt.plot(times, T_Hats[:,2,:], label='$\\hat T_z$', color='blue', linewidth=lw)\n",
    "plt.xlabel(\"Time (seconds)\")\n",
    "plt.legend()\n",
    "plt.show()"
   ]
  },
  {
   "cell_type": "markdown",
   "metadata": {},
   "source": [
    "### Projection matrices\n",
    "Gives a $k\\times 3 \\times 3$ array that can be used with `matmul` and vectors stacked in a $k\\times 3 \\times 1$ shape."
   ]
  },
  {
   "cell_type": "code",
   "execution_count": null,
   "metadata": {},
   "outputs": [],
   "source": [
    "# Transpose with [0, 2, 1] swaps only the last two rows\n",
    "N_hat_proj_mats = np.matmul(N_Hats, np.transpose(N_Hats, [0, 2, 1]))\n",
    "T_hat_proj_mats = np.matmul(T_Hats, np.transpose(T_Hats, [0, 2, 1]))"
   ]
  },
  {
   "cell_type": "code",
   "execution_count": null,
   "metadata": {},
   "outputs": [],
   "source": [
    "N_hat_proj_mats_lt = scipy.interpolate.interp1d(times, N_hat_proj_mats,\n",
    "                                                  axis=0)(logger.sample_times())\n",
    "T_hat_proj_mats_lt = scipy.interpolate.interp1d(times, T_hat_proj_mats,\n",
    "                                                  axis=0)(logger.sample_times())"
   ]
  },
  {
   "cell_type": "markdown",
   "metadata": {},
   "source": [
    "## $d_T$ and $d_N$"
   ]
  },
  {
   "cell_type": "code",
   "execution_count": null,
   "metadata": {},
   "outputs": [],
   "source": [
    "separation_speed = logger.data()[log_wrapper.contact_entry_start_idx+3,:]\n",
    "slip_speed = logger.data()[log_wrapper.contact_entry_start_idx+4,:]"
   ]
  },
  {
   "cell_type": "code",
   "execution_count": null,
   "metadata": {},
   "outputs": [],
   "source": [
    "lw=1\n",
    "\n",
    "plt.figure(figsize=(12, 18))\n",
    "plt.subplot(311)\n",
    "plt.plot(times, np.array(debug['d_Ns']), label='$d_N$', linewidth=lw)\n",
    "plt.plot(times, debug['d_Ts'], label='$d_T$', linewidth=lw)\n",
    "plt.axhline(constants.FINGER_RADIUS, label='Min $d_N$', linestyle='--', color='k', linewidth=lw)\n",
    "plt.legend()\n",
    "plt.xlabel(\"Time (seconds)\")\n",
    "plt.ylabel(\"Distance (m)\")\n",
    "\n",
    "plt.subplot(312)\n",
    "plt.plot(logger.sample_times(), separation_speed, label=\"Separation speed\", linewidth=lw)\n",
    "plt.legend()\n",
    "plt.xlabel(\"Time (seconds)\")\n",
    "plt.ylabel(\"Velocity (m/s)\")\n",
    "\n",
    "plt.subplot(313)\n",
    "plt.plot(logger.sample_times(), slip_speed, label=\"slip speed\")\n",
    "plt.axhline(v_stiction, linestyle=\"--\", color=\"k\", label=\"$v_{stiction}$\")\n",
    "plt.legend()\n",
    "plt.xlabel(\"Time (seconds)\")\n",
    "plt.ylabel(\"Speed (m/s)\")\n",
    "plt.ylim(0, 2*v_stiction)\n",
    "plt.show()"
   ]
  },
  {
   "cell_type": "code",
   "execution_count": null,
   "metadata": {},
   "outputs": [],
   "source": [
    "plt.figure(figsize=(12, 12))\n",
    "step = 100\n",
    "\n",
    "lw=5\n",
    "\n",
    "plt.plot(times[:-step:step], \n",
    "         np.abs(np.diff(debug['d_Ts'][::step])/np.diff(times[::step])/100), \n",
    "         label='$\\left|\\\\dot d_T\\\\right|/100$', linewidth=lw)\n",
    "plt.plot(times[:-step:step], \n",
    "         np.abs(np.diff(debug['d_coms'][::step])/np.diff(times[::step])/10), \n",
    "         label='$\\left|\\\\dot d_{comT}\\\\right|/10$', linewidth=lw)\n",
    "\n",
    "\n",
    "plt.plot(logger.sample_times(), slip_speed*10, label=\"slip speed $\\\\times 10$\", linewidth=lw)\n",
    "\n",
    "plt.axhline(v_stiction*10, color='k', label=\"$v_{stiction}\\\\times 10$\", linestyle='--', linewidth=lw)\n",
    "plt.legend()\n",
    "plt.ylim(0, 0.02)\n",
    "plt.xlim(logger.sample_times()[0], logger.sample_times()[-1])\n",
    "plt.ylabel(\"Speed (m/s)\")\n",
    "\n",
    "plt.show()"
   ]
  },
  {
   "cell_type": "code",
   "execution_count": null,
   "metadata": {},
   "outputs": [],
   "source": [
    "plt.figure(figsize=(12, 12))\n",
    "lw = 5\n",
    "plt.plot(times, debug['d_Ts'], label='$d_T$', linewidth=lw)\n",
    "plt.plot(times, debug['d_com_Ts'], label='$d_{comT}$', linewidth=lw)\n",
    "plt.plot(times, debug['d_coms'], label='$d_{com}$', linewidth=lw)\n",
    "\n",
    "plt.legend()\n",
    "plt.ylabel(\"Distance (m)\")\n",
    "plt.xlim(logger.sample_times()[0], logger.sample_times()[-1])\n",
    "\n",
    "plt.show()"
   ]
  },
  {
   "cell_type": "markdown",
   "metadata": {},
   "source": [
    "## Positions\n",
    "### Link state"
   ]
  },
  {
   "cell_type": "code",
   "execution_count": null,
   "metadata": {},
   "outputs": [],
   "source": [
    "plt.figure(figsize=(12, 12))\n",
    "plt.plot(times, debug['omega_xs'], label='$\\omega_x$')\n",
    "plt.plot(times, np.array(debug['theta_xs']), label='$\\\\theta_x$')\n",
    "plt.legend()\n",
    "plt.ylim(-2*np.pi, 2*np.pi)\n",
    "plt.yticks(np.arange(-2, 2.5, 0.5)*np.pi, [\n",
    "    '$-2\\pi$',\n",
    "    '$-3\\pi/2$',\n",
    "    '$-\\pi$',\n",
    "    '$-\\pi/2$',\n",
    "    '$0$',\n",
    "    '$\\pi/2$',\n",
    "    '$\\pi$',\n",
    "    '$3\\pi/2$',\n",
    "    '$2\\pi$',\n",
    "])\n",
    "plt.xlabel(\"Time (seconds)\")\n",
    "plt.axhline(np.pi, linestyle='--', color='k')\n",
    "plt.axhline(-np.pi, linestyle='--', color='k')\n",
    "plt.show()"
   ]
  },
  {
   "cell_type": "markdown",
   "metadata": {},
   "source": [
    "#### Rotation matrices"
   ]
  },
  {
   "cell_type": "code",
   "execution_count": null,
   "metadata": {},
   "outputs": [],
   "source": [
    "thetas = np.array(debug['theta_xs'])"
   ]
  },
  {
   "cell_type": "code",
   "execution_count": null,
   "metadata": {},
   "outputs": [],
   "source": [
    "# Rotating theta about the x axis\n",
    "Rs = np.zeros((thetas.size, 3, 3))\n",
    "Rs[:, 1, 1] = np.cos(thetas)\n",
    "Rs[:, 1, 2] = -np.sin(thetas)\n",
    "Rs[:, 2, 1] = np.cos(thetas)\n",
    "Rs[:, 2, 2] = np.sin(thetas)\n",
    "R_invs = np.transpose(Rs, [0, 2, 1])"
   ]
  },
  {
   "cell_type": "markdown",
   "metadata": {},
   "source": [
    "### Manipulator state"
   ]
  },
  {
   "cell_type": "code",
   "execution_count": null,
   "metadata": {},
   "outputs": [],
   "source": [
    "finger_idx = int(finger_body.index())"
   ]
  },
  {
   "cell_type": "code",
   "execution_count": null,
   "metadata": {},
   "outputs": [],
   "source": [
    "man_point = logger.data()[log_wrapper.entries_per_body*finger_idx:log_wrapper.entries_per_body*finger_idx+3]"
   ]
  },
  {
   "cell_type": "code",
   "execution_count": null,
   "metadata": {},
   "outputs": [],
   "source": [
    "plt.figure(figsize=(12, 12))\n",
    "lw=5\n",
    "# plt.plot(logger.sample_times(), logger.data()[\n",
    "#     log_wrapper.entries_per_body*finger_idx], label=\"$x$\", linewidth=lw, linestyle='--')\n",
    "plt.plot(logger.sample_times(), logger.data()[\n",
    "    log_wrapper.entries_per_body*finger_idx+1], label=\"$y$\", linewidth=lw)\n",
    "plt.plot(logger.sample_times(), logger.data()[\n",
    "    log_wrapper.entries_per_body*finger_idx+2], label=\"$z$\", linewidth=lw)\n",
    "plt.plot(logger.sample_times(), logger.data()[\n",
    "    log_wrapper.entries_per_body*finger_idx+3], label=\"$\\\\theta_x$\", linewidth=lw, linestyle='--')\n",
    "plt.plot(logger.sample_times(), logger.data()[\n",
    "    log_wrapper.entries_per_body*finger_idx+4], label=\"$\\\\theta_y$\", linewidth=lw, linestyle='dashdot')\n",
    "plt.plot(logger.sample_times(), logger.data()[\n",
    "    log_wrapper.entries_per_body*finger_idx+5], label=\"$\\\\theta_z$\", linewidth=lw, linestyle=':')\n",
    "plt.legend()\n",
    "plt.xlabel(\"Time (seconds)\")\n",
    "plt.ylabel(\"Position (m or radians)\")\n",
    "plt.show()"
   ]
  },
  {
   "cell_type": "markdown",
   "metadata": {},
   "source": [
    "### Contact point\n",
    " - [ ] PROGRAMMING: Add arrow heads to contact point plots"
   ]
  },
  {
   "cell_type": "code",
   "execution_count": null,
   "metadata": {},
   "outputs": [],
   "source": [
    "contact_point = logger.data()[log_wrapper.contact_entry_start_idx+5:log_wrapper.contact_entry_start_idx+8,:]"
   ]
  },
  {
   "cell_type": "code",
   "execution_count": null,
   "metadata": {},
   "outputs": [],
   "source": [
    "contact_point.shape"
   ]
  },
  {
   "cell_type": "code",
   "execution_count": null,
   "metadata": {},
   "outputs": [],
   "source": [
    "plt.figure(figsize=(12,12))\n",
    "\n",
    "plt.plot(contact_point[1,:], contact_point[2,:], color='k', linestyle='--', linewidth='5')\n",
    "plt.gca().set_aspect('equal', 'box')\n",
    "plt.show()"
   ]
  },
  {
   "cell_type": "code",
   "execution_count": null,
   "metadata": {},
   "outputs": [],
   "source": [
    "plt.figure(figsize=(12,12))\n",
    "plt.gca().add_patch(plt.Circle((0, 0), constants.FINGER_RADIUS, color='r'))\n",
    "plt.plot(contact_point[1,:]-man_point[1,:], contact_point[2,:]-man_point[2,:], color='k', linestyle='--', linewidth='5')\n",
    "plt.gca().set_aspect('equal', 'box')\n",
    "plt.show()"
   ]
  },
  {
   "cell_type": "markdown",
   "metadata": {},
   "source": [
    "#### Contact point vs. speeds"
   ]
  },
  {
   "cell_type": "code",
   "execution_count": null,
   "metadata": {},
   "outputs": [],
   "source": [
    "v_contact_point_no_interp = (np.diff(contact_point)/logger.sample_times()[:-1]).T"
   ]
  },
  {
   "cell_type": "code",
   "execution_count": null,
   "metadata": {},
   "outputs": [],
   "source": [
    "v_contact_point = scipy.interpolate.interp1d(\n",
    "    logger.sample_times()[:-1], v_contact_point_no_interp, axis=0, fill_value=\"extrapolate\")(times)"
   ]
  },
  {
   "cell_type": "code",
   "execution_count": null,
   "metadata": {},
   "outputs": [],
   "source": [
    "# Check interpolation\n",
    "lw=3\n",
    "plt.figure(figsize=(12,12))\n",
    "\n",
    "plt.subplot(311)\n",
    "plt.plot(times, v_contact_point[:,0],linewidth=lw)\n",
    "plt.plot(logger.sample_times()[:-1], v_contact_point_no_interp[:,0],linewidth=lw, linestyle='--')\n",
    "plt.xlabel(\"Time (s)\")\n",
    "plt.ylabel(\"Velocity (m/s)\")\n",
    "plt.title(\"$\\hat x$ component\")\n",
    "\n",
    "plt.subplot(312)\n",
    "plt.plot(times, v_contact_point[:,1],linewidth=lw)\n",
    "plt.plot(logger.sample_times()[:-1], v_contact_point_no_interp[:,1],linewidth=lw, linestyle='--')\n",
    "plt.xlabel(\"Time (s)\")\n",
    "plt.ylabel(\"Velocity (m/s)\")\n",
    "plt.title(\"$\\hat y$ component\")\n",
    "\n",
    "plt.subplot(313)\n",
    "plt.plot(times, v_contact_point[:,2],linewidth=lw)\n",
    "plt.plot(logger.sample_times()[:-1], v_contact_point_no_interp[:,2],linewidth=lw, linestyle='--')\n",
    "plt.xlabel(\"Time (s)\")\n",
    "plt.ylabel(\"Velocity (m/s)\")\n",
    "plt.title(\"$\\hat z$ component\")\n",
    "\n",
    "plt.show()"
   ]
  },
  {
   "cell_type": "markdown",
   "metadata": {},
   "source": [
    "They match up, so we've interpolated correctly."
   ]
  },
  {
   "cell_type": "code",
   "execution_count": null,
   "metadata": {},
   "outputs": [],
   "source": [
    "# Convert to matrix in manipulator basis\n",
    "M_v_contact_point = np.expand_dims(v_contact_point, 2)"
   ]
  },
  {
   "cell_type": "code",
   "execution_count": null,
   "metadata": {},
   "outputs": [],
   "source": [
    "# Change to compliance basis\n",
    "C_v_contact_point = np.matmul(R_invs, M_v_contact_point)"
   ]
  },
  {
   "cell_type": "code",
   "execution_count": null,
   "metadata": {},
   "outputs": [],
   "source": [
    "lw=3\n",
    "plt.figure(figsize=(16,24))\n",
    "\n",
    "plt.subplot(311)\n",
    "plt.plot(times, C_v_contact_point[:,0],linewidth=lw, label=r\"$_Cv_{contact, x}$\")\n",
    "plt.xlabel(\"Time (s)\")\n",
    "plt.ylabel(\"Velocity (m/s)\")\n",
    "plt.title(\"$\\hat x$ component\")\n",
    "\n",
    "# PROGRAMMING: Is slip speed properly filled with NaNs?\n",
    "plt.subplot(312)\n",
    "plt.plot(times, C_v_contact_point[:,1],linewidth=lw, label=r\"$_Cv_{contact, T}$\")\n",
    "ylims = plt.ylim()\n",
    "plt.plot(logger.sample_times(), slip_speed, linewidth=lw, label=\"Slip speed\")\n",
    "plt.axhline(v_stiction, color='k', linestyle='--', label=r'$v_{stiction}$')\n",
    "plt.ylim(ylims)\n",
    "plt.xlabel(\"Time (s)\")\n",
    "plt.ylabel(\"Velocity (m/s)\")\n",
    "plt.title(\"$\\hat T$ component\")\n",
    "plt.legend()\n",
    "\n",
    "plt.subplot(313)\n",
    "plt.plot(times, C_v_contact_point[:,2],linewidth=lw, label=r\"$_Cv_{contact, N}$\")\n",
    "ylims = plt.ylim()\n",
    "plt.plot(logger.sample_times(), separation_speed, linewidth=lw, label=\"Separation speed\")\n",
    "plt.axhline(0, color='k', linestyle='--')\n",
    "plt.ylim(ylims)\n",
    "plt.xlabel(\"Time (s)\")\n",
    "plt.ylabel(\"Velocity (m/s)\")\n",
    "plt.title(\"$\\hat N$ component\")\n",
    "\n",
    "plt.show()"
   ]
  },
  {
   "cell_type": "markdown",
   "metadata": {},
   "source": [
    "Hm. I would expect these to link up more closely. Let's double check their defintions in drake documentation:\n",
    "\n",
    "`slip_speed` ([link](https://drake.mit.edu/doxygen_cxx/classdrake_1_1multibody_1_1_point_pair_contact_info.html#a6d2da20c96fa99be810b28ef0705214c)):\n",
    "> Returns the slip speed between body A and B at contact point C.\n",
    "\n",
    "`separation speed` ([link](https://drake.mit.edu/doxygen_cxx/classdrake_1_1multibody_1_1_point_pair_contact_info.html#a61a3bf4aed134902cb0354fa20feedb4])):\n",
    "> Returns the separation speed between body A and B along the normal direction (see PenetrationAsPointPair::nhat_BA_W) at the contact point.\n",
    ">\n",
    "> It is defined positive for bodies moving apart in the normal direction.\n",
    "\n",
    "Hm. I'm intrigued by `nhat_BA_W`; maybe my $\\hat N$ is not what Drake is using. Let's check its definition:"
   ]
  },
  {
   "cell_type": "markdown",
   "metadata": {},
   "source": [
    "## Forces"
   ]
  },
  {
   "cell_type": "code",
   "execution_count": null,
   "metadata": {},
   "outputs": [],
   "source": [
    "# Friction force on manipulor, assuming static friction\n",
    "total_m_FF = np.array(debug['F_GTs'])+np.array(debug['F_OTs'])-np.array(debug['F_CTs'])\n",
    "# Total force on the link in the N hat direction \n",
    "total_l_FN = np.array(debug['F_Ns'])+np.array(debug['F_GNs'])+np.array(debug['F_ONs'])"
   ]
  },
  {
   "cell_type": "markdown",
   "metadata": {},
   "source": [
    "### $\\hat N$ acceleration\n",
    "Take the acceleration in the $\\hat N$ direction and then multiply by the mass. This is a check that the forces I'm summing in the $\\hat N$ direction are actually all the forces on the object."
   ]
  },
  {
   "cell_type": "code",
   "execution_count": null,
   "metadata": {},
   "outputs": [],
   "source": [
    "ll_idx = paper.get_free_edge_idx()\n",
    "a_vecs_no_interp = logger.data()[log_wrapper.entries_per_body*ll_idx+12:log_wrapper.entries_per_body*ll_idx+15].T\n",
    "a_vecs_no_interp = np.expand_dims(a_vecs_no_interp, 2)"
   ]
  },
  {
   "cell_type": "code",
   "execution_count": null,
   "metadata": {},
   "outputs": [],
   "source": [
    "M_a_vecs = scipy.interpolate.interp1d(logger.sample_times(), a_vecs_no_interp, axis=0)(times)\n",
    "C_a_vecs = np.matmul(R_invs, M_a_vecs)\n",
    "a_N = C_a_vecs[:,2]\n",
    "F_from_acc = paper.link_mass*a_N"
   ]
  },
  {
   "cell_type": "markdown",
   "metadata": {},
   "source": [
    "### Contact forces"
   ]
  },
  {
   "cell_type": "code",
   "execution_count": null,
   "metadata": {},
   "outputs": [],
   "source": [
    "M_F_contact_yz = logger.data()[log_wrapper.contact_entry_start_idx+1:log_wrapper.contact_entry_start_idx+3,:]"
   ]
  },
  {
   "cell_type": "code",
   "execution_count": null,
   "metadata": {
    "scrolled": false
   },
   "outputs": [],
   "source": [
    "plt.figure(figsize=(12,12))\n",
    "plt.plot(logger.sample_times(), M_F_contact_yz[0,:])\n",
    "plt.plot(logger.sample_times(), M_F_contact_yz[1,:])\n",
    "plt.show()"
   ]
  },
  {
   "cell_type": "code",
   "execution_count": null,
   "metadata": {},
   "outputs": [],
   "source": [
    "# Add on empty row of zeros for x\n",
    "M_F_contact_x = np.zeros((1, M_F_contact_yz.shape[1]))\n",
    "M_F_contact_no_interp = np.expand_dims(np.vstack((M_F_contact_x, M_F_contact_yz)).T, 2)\n",
    "M_F_contact = scipy.interpolate.interp1d(logger.sample_times(), M_F_contact_no_interp, axis=0)(times)"
   ]
  },
  {
   "cell_type": "code",
   "execution_count": null,
   "metadata": {},
   "outputs": [],
   "source": [
    "# Get T and N hat projections\n",
    "C_F_contact = np.matmul(R_invs, M_F_contact)\n",
    "F_contact_T = C_F_contact[:,1]\n",
    "F_contact_N = C_F_contact[:,2]"
   ]
  },
  {
   "cell_type": "markdown",
   "metadata": {},
   "source": [
    "### Joint forces"
   ]
  },
  {
   "cell_type": "code",
   "execution_count": null,
   "metadata": {},
   "outputs": [],
   "source": [
    "joint_force = logger.data()[log_wrapper.joint_entry_start_idx:log_wrapper.joint_entry_start_idx+6,:]\n",
    "joint_force.shape"
   ]
  },
  {
   "cell_type": "code",
   "execution_count": null,
   "metadata": {},
   "outputs": [],
   "source": [
    "plt.figure(figsize=(16, 24))\n",
    "plt.subplot(211)\n",
    "plt.title(\"Force\")\n",
    "plt.plot(logger.sample_times(), joint_force[0,:], label=r'$F_x$', color='red')\n",
    "plt.plot(logger.sample_times(), joint_force[1,:], label=r'$F_y$', color='green')\n",
    "plt.plot(logger.sample_times(), joint_force[2,:], label=r'$F_z$', color='blue')\n",
    "plt.xlabel(\"Time (seconds)\")\n",
    "plt.ylim(-20, 20)\n",
    "plt.legend()\n",
    "plt.subplot(212)\n",
    "plt.title(\"Torque\")\n",
    "plt.plot(logger.sample_times(), joint_force[3,:], label=r'$\\tau_x$', color='red')\n",
    "plt.plot(logger.sample_times(), joint_force[4,:], label=r'$\\tau_y$', color='green')\n",
    "plt.plot(logger.sample_times(), joint_force[5,:], label=r'$\\tau_z$', color='blue')\n",
    "plt.axvline(logger.sample_times()[1500])\n",
    "plt.axvline(logger.sample_times()[22500])\n",
    "plt.ylim(-1, 1)\n",
    "plt.xlabel(\"Time (seconds)\")\n",
    "plt.legend()\n",
    "plt.show()"
   ]
  },
  {
   "cell_type": "code",
   "execution_count": null,
   "metadata": {},
   "outputs": [],
   "source": [
    "np.max(np.abs(joint_force[4:6,1500:22500]))"
   ]
  },
  {
   "cell_type": "code",
   "execution_count": null,
   "metadata": {},
   "outputs": [],
   "source": [
    "M_F_O = np.expand_dims(joint_force[0:3:].T, 2)\n",
    "M_F_O.shape"
   ]
  },
  {
   "cell_type": "code",
   "execution_count": null,
   "metadata": {},
   "outputs": [],
   "source": [
    "C_F_O = np.matmul(N_hat_proj_mats_lt, M_F_O)"
   ]
  },
  {
   "cell_type": "code",
   "execution_count": null,
   "metadata": {},
   "outputs": [],
   "source": [
    "plt.figure(figsize=(16, 24))\n",
    "plt.title(\"Force\")\n",
    "plt.plot(logger.sample_times(), C_F_O[:,0], label=r'$F_x$', color='red')\n",
    "plt.plot(logger.sample_times(), C_F_O[:,1], label=r'$F_T$', color='green')\n",
    "plt.plot(logger.sample_times(), C_F_O[:,2], label=r'$F_N$', color='blue')\n",
    "plt.xlabel(\"Time (seconds)\")\n",
    "plt.ylim(-20, 20)\n",
    "plt.legend()\n",
    "plt.show()"
   ]
  },
  {
   "cell_type": "markdown",
   "metadata": {},
   "source": [
    "### Tangential"
   ]
  },
  {
   "cell_type": "code",
   "execution_count": null,
   "metadata": {},
   "outputs": [],
   "source": [
    "plt.figure(figsize=(16, 16))\n",
    "lw = 5\n",
    "plt.title(\"Tangential forces\")\n",
    "F_GTs = np.array(debug['F_GTs'])\n",
    "F_OTs = np.array(debug['F_OTs'])\n",
    "F_CTs = np.array(debug['F_CTs'])\n",
    "plt.plot(times, debug['F_GTs'], label='$F_{GT}$', linewidth=lw, linestyle='--')\n",
    "plt.plot(times, debug['F_OTs'], label='$F_{OT}$', linewidth=lw, linestyle='--')\n",
    "plt.plot(times, debug['F_CTs'], label='$F_{CT}$', linewidth=lw, linestyle='--')\n",
    "# plt.plot(times, F_GTs + F_OTs, label='$F_{GT}+F_{OT}$', linewidth=lw, linestyle='--')\n",
    "plt.plot(times, total_m_FF, label='$F_F$ inferred from static friction force balance', linewidth=lw)\n",
    "plt.plot(times, -2*constants.FRICTION*np.array(debug['F_Ns']), 'k--', label=\"Bound on friction force\", linewidth=lw)\n",
    "plt.plot(times, 2*constants.FRICTION*np.array(debug['F_Ns']), 'k--', linewidth=lw)\n",
    "plt.plot(times, F_contact_T, label=\"Measured $F_F$\", linewidth=lw)\n",
    "# plt.plot(times, np.array(debug['d_Ts'])*100, label='$d_T\\\\times 100$', linewidth=lw)\n",
    "# plt.plot(logger.sample_times(), separation_speed, label=\"Separation speed\", linewidth=lw)\n",
    "plt.legend()\n",
    "plt.xlabel(\"Time (seconds)\")\n",
    "plt.ylabel(\"$\\hat T$ force (N)\")\n",
    "plt.ylim(-5, 5)\n",
    "plt.show()\n",
    "\n",
    "# PROGRAMMING: Let's get the actual contact forces, and possibly also compare the tangential acceleration, on this plot."
   ]
  },
  {
   "cell_type": "markdown",
   "metadata": {},
   "source": [
    "### Normal"
   ]
  },
  {
   "cell_type": "code",
   "execution_count": null,
   "metadata": {},
   "outputs": [],
   "source": [
    "plt.figure(figsize=(16, 16))\n",
    "lw = 5\n",
    "plt.title(\"Normal forces\")\n",
    "plt.plot(times, debug['F_CNs'], label='$F_{CN}$', linewidth=lw)\n",
    "plt.plot(times, debug['F_GNs'], label='$F_{GN}$', linewidth=lw)\n",
    "plt.plot(times, debug['F_ONs'], label='$F_{ON}$', linewidth=lw)\n",
    "plt.plot(times, total_l_FN, label='Total $\\hat N$ force on link', linewidth=lw)\n",
    "# plt.plot(times, F_from_acc, label='Total force, according to acceleration')\n",
    "plt.plot(times, -F_contact_N, label='Actual F_N', linewidth=lw)\n",
    "# plt.axhline(finger_ctrlr.F_Nd, color='k', linestyle='--', label='Target force')\n",
    "plt.ylim(-finger_ctrlr.F_Nd*2, finger_ctrlr.F_Nd*2)\n",
    "plt.legend()\n",
    "plt.xlabel(\"Time (seconds)\")\n",
    "plt.ylabel(\"$\\hat N$ force (N)\")\n",
    "plt.show()\n",
    "\n",
    "# PROGRAMMING: Why is the force not what my setpoint is?"
   ]
  },
  {
   "cell_type": "code",
   "execution_count": null,
   "metadata": {},
   "outputs": [],
   "source": [
    "plt.figure(figsize=(16, 16))\n",
    "lw = 5\n",
    "plt.title(\"Contact normal forces\")\n",
    "plt.plot(times, debug['F_Ns'], label='$F_{N}$', linewidth=lw)\n",
    "plt.plot(times, -F_contact_N, label='Actual $F_N$', linewidth=lw)\n",
    "plt.ylim(-5, 5)\n",
    "plt.legend()\n",
    "plt.xlabel(\"Time (seconds)\")\n",
    "plt.ylabel(\"$\\hat N$ force (N)\")\n",
    "plt.show()\n",
    "\n",
    "# PROGRAMMING: Why is the force not what my setpoint is?"
   ]
  },
  {
   "cell_type": "markdown",
   "metadata": {},
   "source": [
    "### Comparing magnitudes"
   ]
  },
  {
   "cell_type": "code",
   "execution_count": null,
   "metadata": {},
   "outputs": [],
   "source": [
    "cal_contact_force = np.sqrt(np.array(debug['F_Ns'])**2 + total_m_FF**2)\n",
    "sim_contact_force = np.linalg.norm(M_F_contact_yz[0:2,:], axis=0)"
   ]
  },
  {
   "cell_type": "code",
   "execution_count": null,
   "metadata": {},
   "outputs": [],
   "source": [
    "plt.figure(figsize=(12,12))\n",
    "plt.plot(times, cal_contact_force, linewidth=lw)\n",
    "ylims = plt.ylim()\n",
    "plt.plot(logger.sample_times(), sim_contact_force, linewidth=lw)\n",
    "plt.ylim(ylims)\n",
    "plt.ylabel(\"Force (N)\")\n",
    "plt.xlabel(\"Time (seconds)\")\n",
    "plt.show()"
   ]
  },
  {
   "cell_type": "markdown",
   "metadata": {},
   "source": [
    "## Control forces"
   ]
  },
  {
   "cell_type": "markdown",
   "metadata": {},
   "source": [
    "### Link frame"
   ]
  },
  {
   "cell_type": "code",
   "execution_count": null,
   "metadata": {},
   "outputs": [],
   "source": [
    "plt.figure(figsize=(12, 12))\n",
    "plt.plot(times, debug['F_CTs'], label='$F_{CT}$')\n",
    "plt.plot(times, debug['F_CNs'], label='$F_{NT}$')\n",
    "plt.legend()\n",
    "plt.xlabel(\"Time (seconds)\")\n",
    "plt.show()"
   ]
  },
  {
   "cell_type": "markdown",
   "metadata": {},
   "source": [
    "### Manipulator frame"
   ]
  },
  {
   "cell_type": "code",
   "execution_count": null,
   "metadata": {},
   "outputs": [],
   "source": [
    "plt.figure(figsize=(12, 12))\n",
    "plt.plot(times, debug['theta_xs'], label='$\\\\theta_x$')\n",
    "plt.plot(times, debug['omega_xs'], label='$\\omega_x$')\n",
    "plt.legend()\n",
    "plt.show()"
   ]
  },
  {
   "cell_type": "code",
   "execution_count": null,
   "metadata": {},
   "outputs": [],
   "source": [
    "F_Ms = np.array(debug['F_Ms'])\n",
    "plt.figure(figsize=(12, 12))\n",
    "plt.plot(times, F_Ms[:,0,:], label='$F_M$ $x$ component', color='red')\n",
    "plt.plot(times, F_Ms[:,1,:], label='$F_M$ $y$ component', color='green')\n",
    "plt.plot(times, F_Ms[:,2,:], label='$F_M$ $z$ component', color='blue')\n",
    "plt.xlabel(\"Time (seconds)\")\n",
    "plt.legend()\n",
    "plt.show()"
   ]
  }
 ],
 "metadata": {
  "kernelspec": {
   "display_name": "Python 3",
   "language": "python",
   "name": "python3"
  },
  "language_info": {
   "codemirror_mode": {
    "name": "ipython",
    "version": 3
   },
   "file_extension": ".py",
   "mimetype": "text/x-python",
   "name": "python",
   "nbconvert_exporter": "python",
   "pygments_lexer": "ipython3",
   "version": "3.6.9"
  },
  "toc": {
   "base_numbering": 1,
   "nav_menu": {},
   "number_sections": true,
   "sideBar": true,
   "skip_h1_title": false,
   "title_cell": "Table of Contents",
   "title_sidebar": "Contents",
   "toc_cell": false,
   "toc_position": {
    "height": "769px",
    "left": "754px",
    "top": "167px",
    "width": "267px"
   },
   "toc_section_display": true,
   "toc_window_display": true
  }
 },
 "nbformat": 4,
 "nbformat_minor": 4
}
