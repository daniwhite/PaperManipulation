{
 "cells": [
  {
   "cell_type": "markdown",
   "metadata": {},
   "source": [
    "# Imports"
   ]
  },
  {
   "cell_type": "code",
   "execution_count": null,
   "metadata": {},
   "outputs": [],
   "source": [
    "# Suprress warnings\n",
    "import warnings\n",
    "with warnings.catch_warnings():\n",
    "    warnings.simplefilter(\"ignore\")\n",
    "\n",
    "    # Standard imports\n",
    "    import matplotlib\n",
    "    import matplotlib.pyplot as plt\n",
    "    import matplotlib.cm as cm\n",
    "    import numpy as np\n",
    "\n",
    "    # Drake imports\n",
    "    from meshcat.servers.zmqserver import start_zmq_server_as_subprocess\n",
    "    import pydrake\n",
    "    from pydrake.all import LogOutput, DirectCollocation, DirectTranscription, MathematicalProgram, InputPortSelection\n",
    "\n",
    "# Imports of other project files\n",
    "from log_wrapper import LogWrapper\n",
    "import constants\n",
    "import finger\n",
    "import pedestal\n",
    "from paper import Paper\n",
    "\n",
    "from pydrake.all import (MultibodyPlant, Parser, DiagramBuilder, Simulator,\n",
    "                         PlanarSceneGraphVisualizer, SceneGraph, TrajectorySource,\n",
    "                         SnoptSolver, MultibodyPositionToGeometryPose, PiecewisePolynomial,\n",
    "                         MathematicalProgram, JacobianWrtVariable, eq, RollPitchYaw, AutoDiffXd, BodyIndex)\n",
    "\n",
    "# Other imports\n",
    "import importlib\n",
    "\n",
    "import scipy.interpolate"
   ]
  },
  {
   "cell_type": "code",
   "execution_count": null,
   "metadata": {},
   "outputs": [],
   "source": [
    "# Matplotlib configuring\n",
    "plt.style.use(['science', 'no-latex'])\n",
    "font = {'size'   : 14}\n",
    "matplotlib.rc('font', **font)"
   ]
  },
  {
   "cell_type": "code",
   "execution_count": null,
   "metadata": {},
   "outputs": [],
   "source": [
    "# Meshcat init\n",
    "proc, zmq_url, web_url = start_zmq_server_as_subprocess()"
   ]
  },
  {
   "cell_type": "markdown",
   "metadata": {},
   "source": [
    "# Simulation setup\n",
    "## Pre-finalize steps"
   ]
  },
  {
   "cell_type": "code",
   "execution_count": null,
   "metadata": {},
   "outputs": [],
   "source": [
    "builder = pydrake.systems.framework.DiagramBuilder()\n",
    "\n",
    "# Add all elements\n",
    "plant, scene_graph = pydrake.multibody.plant.AddMultibodyPlantSceneGraph(builder, time_step=constants.DT)\n",
    "v_stiction=1e-3\n",
    "plant.set_stiction_tolerance(v_stiction)\n",
    "pedestal_instance = pedestal.AddPedestal(plant)\n",
    "\n",
    "# These joint angles start the paper approximately the right spot, no matter how many links are used\n",
    "num_links = 2\n",
    "# def_joint_angles = list(np.zeros(num_links))\n",
    "# def_joint_angles[0] = np.pi/100\n",
    "# def_joint_angles[1] = np.pi/100\n",
    "# def_joint_angles[int(num_links*0.65)-2] = -np.pi/10\n",
    "# def_joint_angles[int(num_links*0.65)-1] = -np.pi/10\n",
    "# def_joint_angles[int(num_links*0.65)] = -np.pi/10\n",
    "# def_joint_angles[int(num_links*0.65)+1] = -np.pi/10\n",
    "# # def_joint_angles[int(num_links*0.65)+2] = -np.pi/10\n",
    "def_joint_angles = 0#np.pi/3\n",
    "\n",
    "paper = Paper(plant, scene_graph, num_links, \"NATURAL\", default_joint_angle=def_joint_angles,\n",
    "              stiffness=0,#2.5e-2,\n",
    "              damping=0,)#7.12547340446979e-06)\n",
    "paper.weld_paper_edge(pedestal.PEDESTAL_WIDTH, pedestal.PEDESTAL_HEIGHT)\n",
    "\n",
    "finger_instance, finger_body = finger.AddFinger(plant, constants.INIT_Y, constants.INIT_Z)\n",
    "\n",
    "# Set up logger (needs to happen after all bodies are added)\n",
    "log_wrapper = LogWrapper(plant.num_bodies(), int(finger_body.index()), paper)\n",
    "builder.AddSystem(log_wrapper)"
   ]
  },
  {
   "cell_type": "markdown",
   "metadata": {},
   "source": [
    "Calculate link inertia to use in damping calculations:"
   ]
  },
  {
   "cell_type": "code",
   "execution_count": null,
   "metadata": {},
   "outputs": [],
   "source": [
    "paper.plant.get_body(BodyIndex(paper.get_free_edge_idx())).default_rotational_inertia().CalcPrincipalMomentsOfInertia()[0]"
   ]
  },
  {
   "cell_type": "markdown",
   "metadata": {},
   "source": [
    "## Controller selection"
   ]
  },
  {
   "cell_type": "code",
   "execution_count": null,
   "metadata": {},
   "outputs": [],
   "source": [
    "## CHOOSE CONTROL SYSTEM HERE BY UNCOMMENTING\n",
    "# # PD control: hits too low\n",
    "# finger_ctrlr = finger.PDFinger(\n",
    "#     plant,\n",
    "#     int(finger_instance),\n",
    "#     [\n",
    "#         [constants.INIT_Y, constants.INIT_Z],\n",
    "#         [constants.INIT_Y*1.1, constants.INIT_Z],\n",
    "#         [constants.INIT_Y*1.1, pedestal.PEDESTAL_HEIGHT+constants.FINGER_RADIUS/2+0.05],\n",
    "#         [0, pedestal.PEDESTAL_HEIGHT+constants.FINGER_RADIUS/2+0.05],\n",
    "#         [0, pedestal.PEDESTAL_HEIGHT+constants.FINGER_RADIUS/2],\n",
    "#     ],\n",
    "#     tspan_per_segment=1,\n",
    "#     ky=10,\n",
    "#     kz=10\n",
    "# )\n",
    "\n",
    "# PD control: hits too high\n",
    "# finger_ctrlr = finger.PDFinger(\n",
    "#     plant,\n",
    "#     int(finger_instance),\n",
    "#     [\n",
    "#         [constants.INIT_Y, constants.INIT_Z],\n",
    "#         [constants.INIT_Y*1.1, constants.INIT_Z],\n",
    "#         [constants.INIT_Y*1.1, pedestal.PEDESTAL_HEIGHT+constants.FINGER_RADIUS/2+0.08],\n",
    "#         [0, pedestal.PEDESTAL_HEIGHT+constants.FINGER_RADIUS/2+0.08],\n",
    "#         [0, pedestal.PEDESTAL_HEIGHT+constants.FINGER_RADIUS/2],\n",
    "#     ],\n",
    "#     tspan_per_segment=1,\n",
    "#     ky=10,\n",
    "#     kz=10\n",
    "# )\n",
    "\n",
    "\n",
    "# Edge feedback\n",
    "finger_ctrlr = finger.EdgeController(\n",
    "    plant,\n",
    "    paper,\n",
    "    int(finger_instance),\n",
    "    F_Nd=2,\n",
    "    debug=True,\n",
    ")\n",
    "\n",
    "# # Optimization controller\n",
    "# finger_ctrlr = finger.OptimizationController(\n",
    "#     plant,\n",
    "#     paper,\n",
    "#     int(finger_instance),\n",
    "#     paper.get_free_edge_instance()\n",
    "# )\n",
    "\n",
    "# Blank controller\n",
    "# finger_ctrlr = finger.BlankController(\n",
    "#     plant,\n",
    "#     int(finger_instance)\n",
    "# )"
   ]
  },
  {
   "cell_type": "markdown",
   "metadata": {},
   "source": [
    "## Post-finalize steps"
   ]
  },
  {
   "cell_type": "code",
   "execution_count": null,
   "metadata": {},
   "outputs": [],
   "source": [
    "plant.Finalize()\n",
    "\n",
    "## Post finalize steps\n",
    "# Conect finger controller\n",
    "builder.AddSystem(finger_ctrlr)\n",
    "builder.Connect(finger_ctrlr.get_output_port(), plant.get_actuation_input_port(finger_instance))\n",
    "builder.Connect(plant.get_body_poses_output_port(), finger_ctrlr.get_input_port(0))\n",
    "builder.Connect(plant.get_body_spatial_velocities_output_port(), finger_ctrlr.get_input_port(1))\n",
    "\n",
    "# Add logger\n",
    "builder.Connect(plant.get_body_poses_output_port(), log_wrapper.get_input_port(0))\n",
    "builder.Connect(plant.get_body_spatial_velocities_output_port(), log_wrapper.get_input_port(1))\n",
    "builder.Connect(plant.get_body_spatial_accelerations_output_port(), log_wrapper.get_input_port(2)) \n",
    "builder.Connect(plant.get_contact_results_output_port(), log_wrapper.get_input_port(3))\n",
    "builder.Connect(plant.get_reaction_forces_output_port(), log_wrapper.get_input_port(4))\n",
    "\n",
    "# Visualization and logging\n",
    "logger = LogOutput(log_wrapper.get_output_port(), builder)\n",
    "vis = pydrake.systems.meshcat_visualizer.ConnectMeshcatVisualizer(builder, scene_graph)\n",
    "vis.set_planar_viewpoint(camera_position=[1, 0, 0], xmin=-0.3, xmax=0.3, ymin=-0.3, ymax=0.3)\n",
    "\n",
    "# Build diagram and do actions requiring \n",
    "diagram = builder.Build()\n",
    "diagram_context = diagram.CreateDefaultContext()"
   ]
  },
  {
   "cell_type": "code",
   "execution_count": null,
   "metadata": {},
   "outputs": [],
   "source": [
    "if type(finger_ctrlr) is finger.OptimizationController:\n",
    "    finger_ctrlr.optimize(plant.GetPositions(diagram_context))"
   ]
  },
  {
   "cell_type": "markdown",
   "metadata": {},
   "source": [
    "# Run simulation"
   ]
  },
  {
   "cell_type": "code",
   "execution_count": null,
   "metadata": {},
   "outputs": [],
   "source": [
    "# Finalize simulation and visualization\n",
    "simulator = pydrake.systems.analysis.Simulator(diagram, diagram_context)\n",
    "simulator.Initialize()\n",
    "vis.start_recording()\n",
    "try:\n",
    "    simulator.AdvanceTo(constants.TSPAN)\n",
    "except RuntimeError as e:\n",
    "    print(e)\n",
    "\n",
    "# This way, we can use the actual time the simulation ran for\n",
    "effective_tspan = max(logger.sample_times())\n",
    "\n",
    "vis.stop_recording()\n",
    "vis.publish_recording()"
   ]
  },
  {
   "cell_type": "markdown",
   "metadata": {},
   "source": [
    "# Plots used in orginal paper"
   ]
  },
  {
   "cell_type": "code",
   "execution_count": null,
   "metadata": {},
   "outputs": [],
   "source": [
    "# Plot manipulator position vs. trajectory\n",
    "# PROGRAMMING: Use body index for finger instead of model instance\n",
    "if type(finger_ctrlr) is finger.PDFinger:\n",
    "    plt.figure(figsize=(2*3,2*2))\n",
    "    plt.plot(logger.data()[log_wrapper.entries_per_body*int(finger_instance)+1],\n",
    "             logger.data()[log_wrapper.entries_per_body*int(finger_instance)+2],\n",
    "             label='Manipulator position')\n",
    "    plt.plot(finger_ctrlr.ys, finger_ctrlr.zs, label='Trajectory')\n",
    "    plt.xlabel(\"$y$ position\")\n",
    "    plt.ylabel(\"$z$ position\")\n",
    "    plt.legend()\n",
    "    plt.show()"
   ]
  },
  {
   "cell_type": "code",
   "execution_count": null,
   "metadata": {},
   "outputs": [],
   "source": [
    "# Generate plots for paper\n",
    "nb = plant.num_bodies()\n",
    "y_traces = []\n",
    "z_traces = []\n",
    "theta_traces = []\n",
    "for b in paper.link_idxs:\n",
    "    y_traces.append(logger.data()[log_wrapper.entries_per_body*b+1])\n",
    "    z_traces.append(logger.data()[log_wrapper.entries_per_body*b+2])\n",
    "    theta_traces.append(logger.data()[log_wrapper.entries_per_body*b+3])\n",
    "y_traces = np.array(y_traces)\n",
    "z_traces = np.array(z_traces)\n",
    "theta_traces = np.array(theta_traces)\n",
    "\n",
    "times_ = np.arange(0,effective_tspan, effective_tspan/10)\n",
    "cmap = cm.get_cmap(\"viridis_r\")\n",
    "plt.figure(figsize=(2*3,2*2))\n",
    "if type(finger_ctrlr) is finger.PDFinger:\n",
    "    plt.plot(finger_ctrlr.ys, finger_ctrlr.zs, '--k', zorder=-1)\n",
    "for t in times_:\n",
    "    c = cmap(t/effective_tspan)\n",
    "    idx = np.argmax(logger.sample_times() >= t)\n",
    "    \n",
    "    # Plot paper\n",
    "    # PROGRAMMING: Account for paper thickness in plots\n",
    "    for y, z, theta in zip(y_traces[:,idx], z_traces[:,idx], theta_traces[:,idx]):\n",
    "        y0 = y - np.cos(theta)*paper.link_width/2\n",
    "        z0 = z - np.sin(theta)*paper.link_width/2\n",
    "        y1 = y + np.cos(theta)*paper.link_width/2\n",
    "        z1 = z + np.sin(theta)*paper.link_width/2\n",
    "        plt.plot([y0, y1], [z0, z1], color=c)\n",
    "        \n",
    "    \n",
    "    # Plot manipulator\n",
    "    plt.scatter(logger.data()[log_wrapper.entries_per_body*int(finger_instance)+1,idx], \n",
    "                logger.data()[log_wrapper.entries_per_body*int(finger_instance)+2,idx],\n",
    "                color=c, s=300, zorder=1)\n",
    "\n",
    "xlim = plt.xlim()\n",
    "ylim = plt.ylim()\n",
    "plt.scatter([xlim[0]-50, xlim[0]-50], [ylim[0]-50, ylim[0]-50], c=[0, effective_tspan], cmap=cmap)\n",
    "plt.xlim(xlim)\n",
    "plt.ylim(ylim)\n",
    "cb = plt.colorbar()\n",
    "cb.set_label(\"Time\")\n",
    "plt.xlabel(\"$y$ position\")\n",
    "plt.ylabel(\"$z$ position\")\n",
    "plt.show()"
   ]
  },
  {
   "cell_type": "markdown",
   "metadata": {},
   "source": [
    "This is a sanity check to see how much force we're neglecting by ignoring drag. The colored lines are the drag forces at each link, and the dashed black line is the force due to gravity for scale.\n",
    "\n",
    "Note that the formula for drag force is $\\rho v^2 C_d A_{paper}$.\n",
    "\n",
    "$C_d$ comes from [this site](https://www.engineersedge.com/fluid_flow/rectangular_flat_plate_drag_14036.htm), which says it depends on $L/d$. For 20 links, $L/d\\approx15$. Rounding this down to 10, we get $C_d=1.22$."
   ]
  },
  {
   "cell_type": "code",
   "execution_count": null,
   "metadata": {},
   "outputs": [],
   "source": [
    "# Plot drag forces\n",
    "plt.figure(figsize=(16, 12))\n",
    "nb = plant.num_bodies\n",
    "vel_traces = []\n",
    "for b in paper.link_idxs:\n",
    "    rho = 1.225\n",
    "    C_d = paper.link_width*paper.depth\n",
    "    vel_sqred = logger.data()[log_wrapper.entries_per_body*b+7]**2+logger.data()[log_wrapper.entries_per_body*b+8]**2\n",
    "    f = 0.5*rho*C_d*vel_sqred\n",
    "    plt.plot(f)\n",
    "\n",
    "plt.axhline(paper.link_mass*9.81, color='black', linestyle='--')\n",
    "plt.show()"
   ]
  },
  {
   "cell_type": "markdown",
   "metadata": {},
   "source": [
    "# Careful debug plots\n",
    "What do we want to verify?\n",
    "\n",
    "If the net forces and torques on each object match my expectations, then I will be satisfied.\n",
    "\n",
    "We can use free body diagrams to determine the expected values, then compare to sim. First, we will do forces on each object, then torques on each object."
   ]
  },
  {
   "cell_type": "markdown",
   "metadata": {},
   "source": [
    "# Forces on manipulator"
   ]
  },
  {
   "cell_type": "markdown",
   "metadata": {},
   "source": [
    "## Expected values\n",
    "<img src=forces.png width=500px>\n",
    "From free body diagram:\n",
    "$$\n",
    "\\Sigma F_M = F_{CN} + F_{CT} + F_{FM} + F_{NM}\n",
    "$$\n",
    "Mapping from code to each of these terms:"
   ]
  },
  {
   "cell_type": "markdown",
   "metadata": {},
   "source": [
    "### $F_{CN}$"
   ]
  },
  {
   "cell_type": "code",
   "execution_count": null,
   "metadata": {},
   "outputs": [],
   "source": [
    "debug = finger_ctrlr.debug\n",
    "times = np.array(debug['times'])"
   ]
  },
  {
   "cell_type": "code",
   "execution_count": null,
   "metadata": {},
   "outputs": [],
   "source": [
    "F_CN_exp_scal = np.expand_dims(np.array(debug['F_CNs']), [1, 2])\n",
    "\n",
    "plt.figure(figsize=(16,8))\n",
    "plt.title(\"F_CN_exp_scal check\")\n",
    "plt.plot(times, F_CN_exp_scal[:,0,0])\n",
    "plt.show()"
   ]
  },
  {
   "cell_type": "markdown",
   "metadata": {},
   "source": [
    "These are scalar values (hence the `_scal` suffix). They need to be multiplied by the appropriate unit vector."
   ]
  },
  {
   "cell_type": "code",
   "execution_count": null,
   "metadata": {},
   "outputs": [],
   "source": [
    "F_CN_exp = np.multiply(F_CN_exp_scal, np.array(debug['N_hats']))\n",
    "\n",
    "plt.figure(figsize=(16,8))\n",
    "plt.title(\"F_CN_exp sanity check\")\n",
    "plt.plot(times, F_CN_exp[:,0,0])\n",
    "plt.plot(times, F_CN_exp[:,1,0])\n",
    "plt.plot(times, F_CN_exp[:,2,0])\n",
    "plt.show()"
   ]
  },
  {
   "cell_type": "markdown",
   "metadata": {},
   "source": [
    "### $F_{CT}$\n",
    "Follows the same process as $F_{CN}$."
   ]
  },
  {
   "cell_type": "code",
   "execution_count": null,
   "metadata": {},
   "outputs": [],
   "source": [
    "F_CT_exp_scal = np.expand_dims(debug['F_CTs'], [1, 2])\n",
    "\n",
    "plt.figure(figsize=(16,8))\n",
    "plt.title(\"F_CT_exp_scal sanity check\")\n",
    "plt.plot(times, F_CT_exp_scal[:,0,0])\n",
    "plt.ylim(-2, 0.5)\n",
    "plt.show()"
   ]
  },
  {
   "cell_type": "code",
   "execution_count": null,
   "metadata": {},
   "outputs": [],
   "source": [
    "F_CT_exp = np.multiply(F_CT_exp_scal, np.array(debug['T_hats']))\n",
    "\n",
    "plt.figure(figsize=(16,8))\n",
    "plt.title(\"F_CT_exp sanity check\")\n",
    "plt.plot(times, F_CT_exp[:,0,0])\n",
    "plt.plot(times, F_CT_exp[:,1,0])\n",
    "plt.plot(times, F_CT_exp[:,2,0])\n",
    "plt.ylim(-2, 2)\n",
    "plt.show()"
   ]
  },
  {
   "cell_type": "code",
   "execution_count": null,
   "metadata": {},
   "outputs": [],
   "source": [
    "F_ctrl_exp = F_CT_exp + F_CN_exp"
   ]
  },
  {
   "cell_type": "markdown",
   "metadata": {},
   "source": [
    "### $F_{FM}$"
   ]
  },
  {
   "cell_type": "markdown",
   "metadata": {},
   "source": [
    "- [ ] THINK: Is it accelerations or forces that have to be equal?\n",
    "\n",
    "Remember, friction force makes it so that the tangential forces between the two objects are the same. That implies the following equation:\n",
    "$$\n",
    "F_{FM} + F_{CT} = F_{FL} + F_{GT} + F_{OT}\n",
    "$$\n",
    "Using $F_{FL}=-F_{FM}$:\n",
    "$$\n",
    "F_{FM} + F_{CT} = -F_{FM} + F_{GT} + F_{OT}\n",
    "$$\n",
    "Rearranging terms:\n",
    "$$\n",
    "\\begin{aligned}\n",
    "2F_{FM} &= F_{GT} + F_{OT} - F_{CT} \\\\\n",
    "F_{FM} &= \\frac{F_{GT} + F_{OT} - F_{CT}}{2}\n",
    "\\end{aligned}\n",
    "$$"
   ]
  },
  {
   "cell_type": "markdown",
   "metadata": {},
   "source": [
    "First, we'll load in the summands and make sure they are vectors using unit vectors:"
   ]
  },
  {
   "cell_type": "code",
   "execution_count": null,
   "metadata": {},
   "outputs": [],
   "source": [
    "F_GT_exp = np.multiply(np.expand_dims(debug['F_GTs'], [1, 2]), np.array(debug['T_hats']))\n",
    "F_OT_exp = np.multiply(np.expand_dims(debug['F_OTs'], [1, 2]), np.array(debug['T_hats']))"
   ]
  },
  {
   "cell_type": "code",
   "execution_count": null,
   "metadata": {},
   "outputs": [],
   "source": [
    "F_FM_exp = (F_GT_exp + F_OT_exp - F_CT_exp)/2"
   ]
  },
  {
   "cell_type": "markdown",
   "metadata": {},
   "source": [
    "### $F_{NM}$\n",
    "The $F_N$ in the log is the force felt by the link, so we want the negative of that:"
   ]
  },
  {
   "cell_type": "code",
   "execution_count": null,
   "metadata": {},
   "outputs": [],
   "source": [
    "F_NM_exp_scal = -np.expand_dims(debug['F_Ns'], [1, 2])\n",
    "F_NM_exp = np.multiply(F_NM_exp_scal, np.array(debug['N_hats']))"
   ]
  },
  {
   "cell_type": "code",
   "execution_count": null,
   "metadata": {},
   "outputs": [],
   "source": [
    "F_contact_M_exp = F_FM_exp + F_NM_exp"
   ]
  },
  {
   "cell_type": "code",
   "execution_count": null,
   "metadata": {},
   "outputs": [],
   "source": [
    "F_M_exp = F_CN_exp + F_CT_exp + F_FM_exp + F_NM_exp"
   ]
  },
  {
   "cell_type": "markdown",
   "metadata": {},
   "source": [
    "## Simulation values\n",
    "### Contact forces\n",
    "The simulation just gives us the contact force in the world frame. So that's easy, for computing the whole thing."
   ]
  },
  {
   "cell_type": "code",
   "execution_count": null,
   "metadata": {},
   "outputs": [],
   "source": [
    "F_contact_M_sim_raw = logger.data()[\n",
    "    log_wrapper.contact_entry_start_idx+0:log_wrapper.contact_entry_start_idx+3,:]"
   ]
  },
  {
   "cell_type": "markdown",
   "metadata": {},
   "source": [
    "We have to put it on the same timescale as the debug values and fix the dimensions:"
   ]
  },
  {
   "cell_type": "code",
   "execution_count": null,
   "metadata": {},
   "outputs": [],
   "source": [
    "F_contact_M_sim = scipy.interpolate.interp1d(\n",
    "                                logger.sample_times(),    \n",
    "                                np.expand_dims(F_contact_M_sim_raw.T, 2), axis=0)(times)"
   ]
  },
  {
   "cell_type": "markdown",
   "metadata": {},
   "source": [
    "#### $F_{FM}$ and $F_{NM}$\n",
    "That being said, we still need to know the individual components. So we'll take the projection onto the normal that the simulation calculates."
   ]
  },
  {
   "cell_type": "code",
   "execution_count": null,
   "metadata": {},
   "outputs": [],
   "source": [
    "n_hats_sim_raw =  logger.data()[log_wrapper.contact_entry_start_idx+8:log_wrapper.contact_entry_start_idx+11,:]\n",
    "n_hats_sim = scipy.interpolate.interp1d(\n",
    "                        logger.sample_times(),    \n",
    "                        np.expand_dims(n_hats_sim_raw.T, 2), axis=0)(times)\n",
    "n_hats_sim.shape"
   ]
  },
  {
   "cell_type": "markdown",
   "metadata": {},
   "source": [
    "Calculating projection matrices:"
   ]
  },
  {
   "cell_type": "code",
   "execution_count": null,
   "metadata": {},
   "outputs": [],
   "source": [
    "n_projs_sim = np.matmul(n_hats_sim, np.transpose(n_hats_sim, [0, 2, 1]))\n",
    "n_projs_sim.shape"
   ]
  },
  {
   "cell_type": "markdown",
   "metadata": {},
   "source": [
    "Calculating normal force:"
   ]
  },
  {
   "cell_type": "code",
   "execution_count": null,
   "metadata": {},
   "outputs": [],
   "source": [
    "F_NM_sim = np.matmul(n_projs_sim, F_contact_M_sim)\n",
    "F_FM_sim = F_contact_M_sim - F_NM_sim"
   ]
  },
  {
   "cell_type": "markdown",
   "metadata": {},
   "source": [
    "### $F_{CT}$ and $F_{CN}$\n",
    "Given that these are set by my code, there's no reason that the expected values would be wrong unless I'm transforming them improperly. But just for the sake of that, yet's use the direct outputs form the controller instead of what we used in the \"expected\" section:"
   ]
  },
  {
   "cell_type": "code",
   "execution_count": null,
   "metadata": {},
   "outputs": [],
   "source": [
    "yhat = np.array([[[0], [1], [0]]])\n",
    "zhat = np.array([[[0], [0], [1]]])"
   ]
  },
  {
   "cell_type": "code",
   "execution_count": null,
   "metadata": {},
   "outputs": [],
   "source": [
    "# Not putting the \"sim\" or \"exp\" suffix because they're not really associated with either\n",
    "F_CYs = np.expand_dims(debug['F_CYs'], [1, 2])*yhat\n",
    "F_CZs = np.expand_dims(debug['F_CZs'], [1, 2])*zhat"
   ]
  },
  {
   "cell_type": "code",
   "execution_count": null,
   "metadata": {},
   "outputs": [],
   "source": [
    "F_ctrl_sim = F_CYs + F_CZs"
   ]
  },
  {
   "cell_type": "code",
   "execution_count": null,
   "metadata": {},
   "outputs": [],
   "source": [
    "F_M_sim = F_contact_M_sim + F_ctrl_sim"
   ]
  },
  {
   "cell_type": "markdown",
   "metadata": {},
   "source": [
    "## Acceleration forces\n",
    "In addition to what we calculated for each of the individual forcecs in sim, we can also see what the sum of forces is by looking at the acceleration. This will conform that my free body diagram is correct and that I didn't miss any forces when calculating the \"sim\" values."
   ]
  },
  {
   "cell_type": "code",
   "execution_count": null,
   "metadata": {},
   "outputs": [],
   "source": [
    "a_man_raw = logger.data()[log_wrapper.entries_per_body*int(finger_body.index()) + 12:\n",
    "                     log_wrapper.entries_per_body*int(finger_body.index())+12+3,:]\n",
    "a_man_no_interp = np.expand_dims(a_man_raw.T, 2)\n",
    "a_man = scipy.interpolate.interp1d(logger.sample_times(),\n",
    "                                    a_man_no_interp,\n",
    "                                    axis=0)(times)"
   ]
  },
  {
   "cell_type": "code",
   "execution_count": null,
   "metadata": {},
   "outputs": [],
   "source": [
    "F_acc_man = a_man*constants.FINGER_MASS"
   ]
  },
  {
   "cell_type": "markdown",
   "metadata": {},
   "source": [
    "## Comparison"
   ]
  },
  {
   "cell_type": "markdown",
   "metadata": {},
   "source": [
    "### All forces"
   ]
  },
  {
   "cell_type": "code",
   "execution_count": null,
   "metadata": {},
   "outputs": [],
   "source": [
    "lw=5\n",
    "plt.figure(figsize=(16,24))\n",
    "plt.subplot(211)\n",
    "plt.plot(times, F_M_sim[:,1], label=\"Simulation\", linewidth=lw, color='lightskyblue')\n",
    "plt.plot(times, F_acc_man[:,1], label=\"Acceleration\", linewidth=lw, color='teal', linestyle=':')\n",
    "plt.plot(times, F_M_exp[:,1], label=\"Expectation\", linewidth=lw, color='b', linestyle='--')\n",
    "plt.legend()\n",
    "plt.ylim(-5, 5)\n",
    "plt.title(r\"$\\hat y$ component\")\n",
    "plt.ylabel(\"Force (N)\")\n",
    "plt.xlabel(\"Time (s)\")\n",
    "plt.subplot(212)\n",
    "plt.plot(times, F_M_sim[:,2], label=\"Simulation\", linewidth=lw, color='lightskyblue')\n",
    "plt.plot(times, F_acc_man[:,2], label=\"Acceleration\", linewidth=lw, color='teal', linestyle=':')\n",
    "plt.plot(times, F_M_exp[:,2], label=\"Expectation\", linewidth=lw, color='b', linestyle='--')\n",
    "plt.legend()\n",
    "plt.ylim(-5, 5)\n",
    "plt.title(r\"$\\hat z$ component\")\n",
    "plt.ylabel(\"Force (N)\")\n",
    "plt.xlabel(\"Time (s)\")\n",
    "plt.show()"
   ]
  },
  {
   "cell_type": "markdown",
   "metadata": {},
   "source": [
    "### Control forces"
   ]
  },
  {
   "cell_type": "code",
   "execution_count": null,
   "metadata": {},
   "outputs": [],
   "source": [
    "lw=5\n",
    "plt.figure(figsize=(16,24))\n",
    "plt.subplot(211)\n",
    "plt.plot(times, F_ctrl_sim[:,1], label=\"Simulation\", linewidth=lw, color='lightskyblue')\n",
    "plt.plot(times, F_ctrl_exp[:,1], label=\"Expectation\", linewidth=lw, color='b', linestyle='--')\n",
    "plt.ylim(-5, 5)\n",
    "plt.legend()\n",
    "plt.title(r\"$\\hat y$ component\")\n",
    "plt.ylabel(\"Force (N)\")\n",
    "plt.xlabel(\"Time (s)\")\n",
    "plt.subplot(212)\n",
    "plt.plot(times, F_ctrl_sim[:,2], label=\"Simulation\", linewidth=lw, color='lightskyblue')\n",
    "plt.plot(times, F_ctrl_exp[:,2], label=\"Expectation\", linewidth=lw, color='b', linestyle='--')\n",
    "plt.ylim(-5, 5)\n",
    "plt.legend()\n",
    "plt.title(r\"$\\hat z$ component\")\n",
    "plt.ylabel(\"Force (N)\")\n",
    "plt.xlabel(\"Time (s)\")\n",
    "plt.show()"
   ]
  },
  {
   "cell_type": "markdown",
   "metadata": {},
   "source": [
    "### Contact forces"
   ]
  },
  {
   "cell_type": "code",
   "execution_count": null,
   "metadata": {},
   "outputs": [],
   "source": [
    "lw=5\n",
    "plt.figure(figsize=(16,24))\n",
    "plt.subplot(211)\n",
    "plt.plot(times, F_contact_M_sim[:,1], label=\"Simulation\", linewidth=lw, color='lightskyblue')\n",
    "plt.plot(times, F_contact_M_exp[:,1], label=\"Expectation\", linewidth=lw, color='b', linestyle='--')\n",
    "plt.ylim(-5, 5)\n",
    "plt.legend()\n",
    "plt.title(r\"$\\hat y$ component\")\n",
    "plt.ylabel(\"Force (N)\")\n",
    "plt.xlabel(\"Time (s)\")\n",
    "plt.subplot(212)\n",
    "plt.plot(times, F_contact_M_sim[:,2], label=\"Simulation\", linewidth=lw, color='lightskyblue')\n",
    "plt.plot(times, F_contact_M_exp[:,2], label=\"Expectation\", linewidth=lw, color='b', linestyle='--')\n",
    "plt.ylim(-5, 5)\n",
    "plt.legend()\n",
    "plt.title(r\"$\\hat z$ component\")\n",
    "plt.ylabel(\"Force (N)\")\n",
    "plt.xlabel(\"Time (s)\")\n",
    "plt.show()"
   ]
  },
  {
   "cell_type": "markdown",
   "metadata": {},
   "source": [
    "#### Normal forces"
   ]
  },
  {
   "cell_type": "code",
   "execution_count": null,
   "metadata": {},
   "outputs": [],
   "source": [
    "lw=5\n",
    "plt.figure(figsize=(16,24))\n",
    "plt.subplot(211)\n",
    "plt.plot(times, F_NM_sim[:,1], label=\"Simulation\", linewidth=lw, color='lightskyblue')\n",
    "plt.plot(times, F_NM_exp[:,1], label=\"Expectation\", linewidth=lw, color='b', linestyle='--')\n",
    "plt.ylim(-5, 5)\n",
    "plt.legend()\n",
    "plt.title(r\"$\\hat y$ component\")\n",
    "plt.ylabel(\"Force (N)\")\n",
    "plt.xlabel(\"Time (s)\")\n",
    "plt.subplot(212)\n",
    "plt.plot(times, F_NM_sim[:,2], label=\"Simulation\", linewidth=lw, color='lightskyblue')\n",
    "plt.plot(times, F_NM_exp[:,2], label=\"Expectation\", linewidth=lw, color='b', linestyle='--')\n",
    "plt.ylim(-5, 5)\n",
    "plt.legend()\n",
    "plt.title(r\"$\\hat z$ component\")\n",
    "plt.ylabel(\"Force (N)\")\n",
    "plt.xlabel(\"Time (s)\")\n",
    "plt.show()"
   ]
  },
  {
   "cell_type": "markdown",
   "metadata": {},
   "source": [
    "#### Friction forces"
   ]
  },
  {
   "cell_type": "code",
   "execution_count": null,
   "metadata": {},
   "outputs": [],
   "source": [
    "lw=5\n",
    "plt.figure(figsize=(16,24))\n",
    "plt.subplot(211)\n",
    "plt.plot(times, F_FM_sim[:,1], label=\"Simulation\", linewidth=lw, color='lightskyblue')\n",
    "plt.plot(times, F_FM_exp[:,1], label=\"Expectation\", linewidth=lw, color='b', linestyle='--')\n",
    "plt.ylim(-5, 5)\n",
    "plt.legend()\n",
    "plt.title(r\"$\\hat y$ component\")\n",
    "plt.ylabel(\"Force (N)\")\n",
    "plt.xlabel(\"Time (s)\")\n",
    "plt.subplot(212)\n",
    "plt.plot(times, F_FM_sim[:,2], label=\"Simulation\", linewidth=lw, color='lightskyblue')\n",
    "plt.plot(times, F_FM_exp[:,2], label=\"Expectation\", linewidth=lw, color='b', linestyle='--')\n",
    "plt.ylim(-5, 5)\n",
    "plt.legend()\n",
    "plt.title(r\"$\\hat z$ component\")\n",
    "plt.ylabel(\"Force (N)\")\n",
    "plt.xlabel(\"Time (s)\")\n",
    "plt.show()"
   ]
  },
  {
   "cell_type": "markdown",
   "metadata": {},
   "source": [
    "## Conclusions\n",
    "1. All forces here are correct except for friction.\n",
    "2. The free body diagram for the manipulator is correct and accelerations can be used to get the sum of forces."
   ]
  },
  {
   "cell_type": "markdown",
   "metadata": {},
   "source": [
    "What are the things that could make friction wrong?\n",
    "1. My modeling relating $F_{OT}$, $F_{GT}$, and $F_{CT}$ to the friction force is wrong.\n",
    "2. I'm calculating one of these forces incorrectly.\n",
    "\n",
    "I'm suscious these are related to each other, and given that $F_{OT}$ and $F_{ON}$ are calcuted differently, even if I can get normal forces to line up, that doesn't necessarily mean that the tangential forces will line up.\n",
    "\n",
    "Wait. Right now, the system isn't even applying stiffness or damping. So there should be no $F_ON$.\n",
    "\n",
    "Alright, so that means these problems both need to be solved simultaneously before I can get results. To debug object forces, however, I need to have a set up to debug objects on the link. So that's what I'll look at now.\n",
    "\n",
    "Actually: they don't need to be debugged simultaneously. Once I know the object forces, I can see if plugging in the sim terms gives me the friction values.\n",
    "\n",
    "So that means my current course of action is:\n",
    "- [ ] PROGRAMMING: Set up plots comparing link forces with actual forces. (I need all forces before I can do a friction checkc).\n",
    "- [ ] PROGRAMMING: If object forces don't match, check if friction formula is at least consistent among simulation forces."
   ]
  },
  {
   "cell_type": "markdown",
   "metadata": {},
   "source": [
    "# Forces on link\n",
    "## Expected values\n",
    "<img src=forces.png width=500px>"
   ]
  },
  {
   "cell_type": "markdown",
   "metadata": {},
   "source": [
    "From free body diagram:\n",
    "$$\n",
    "\\Sigma F_{LE} = F_{G} + {F_O} + F_{FLE} + F_{NLE}\n",
    "$$"
   ]
  },
  {
   "cell_type": "markdown",
   "metadata": {},
   "source": [
    "### $F_G$\n",
    "I already have the tangential force broken out, so I just need the normal component."
   ]
  },
  {
   "cell_type": "code",
   "execution_count": null,
   "metadata": {},
   "outputs": [],
   "source": [
    "F_GN_exp = np.multiply(np.expand_dims(debug['F_GNs'], [1, 2]), np.array(debug['N_hats']))\n",
    "F_G_exp = F_GN_exp + F_GT_exp"
   ]
  },
  {
   "cell_type": "markdown",
   "metadata": {},
   "source": [
    "### $F_O$\n",
    "Same deal as with $F_G$:"
   ]
  },
  {
   "cell_type": "code",
   "execution_count": null,
   "metadata": {},
   "outputs": [],
   "source": [
    "F_ON_exp = np.multiply(np.expand_dims(debug['F_ONs'], [1, 2]), np.array(debug['N_hats']))\n",
    "F_O_exp = F_ON_exp + F_OT_exp"
   ]
  },
  {
   "cell_type": "markdown",
   "metadata": {},
   "source": [
    "### $F_{FLE}$ and $F_{NLE}$\n",
    "These are just the negatives of the values I grabbed in the previous section:"
   ]
  },
  {
   "cell_type": "code",
   "execution_count": null,
   "metadata": {},
   "outputs": [],
   "source": [
    "F_FLE_exp = -F_FM_exp\n",
    "F_NLE_exp = -F_NM_exp\n",
    "F_contact_LE_exp = -F_contact_M_exp"
   ]
  },
  {
   "cell_type": "markdown",
   "metadata": {},
   "source": [
    "### Total"
   ]
  },
  {
   "cell_type": "code",
   "execution_count": null,
   "metadata": {},
   "outputs": [],
   "source": [
    "F_LE_exp = F_contact_LE_exp + F_O_exp + F_G_exp"
   ]
  },
  {
   "cell_type": "markdown",
   "metadata": {},
   "source": [
    "## Simulation values"
   ]
  },
  {
   "cell_type": "markdown",
   "metadata": {},
   "source": [
    "### Contact forces ($F_{FLE}$ and $F_{NLE}$)\n",
    "Similar to above: we can just take the negative of the values from the previous section."
   ]
  },
  {
   "cell_type": "code",
   "execution_count": null,
   "metadata": {},
   "outputs": [],
   "source": [
    "F_FLE_sim = -F_FM_sim\n",
    "F_NLE_sim = -F_NM_sim\n",
    "F_contact_LE_sim = -F_contact_M_sim"
   ]
  },
  {
   "cell_type": "markdown",
   "metadata": {},
   "source": [
    "### $F_G$\n",
    "This one is pretty simple, and we can avoid shenanigans by using the $\\hat z$ from the previous section:"
   ]
  },
  {
   "cell_type": "code",
   "execution_count": null,
   "metadata": {},
   "outputs": [],
   "source": [
    "F_G_sim = np.repeat(zhat*-9.80665*paper.link_mass, len(times), axis=0)"
   ]
  },
  {
   "cell_type": "markdown",
   "metadata": {},
   "source": [
    "### $F_O$\n",
    "Getting these from simulation has proved to be pretty tricky. The reaction forces from Drake are in a weird frame, and I may be fuckinbg up the translation. So I'm providing two versions: `F_O_sim_rxn` and `F_O_sim_acc`, where the second one just calculates $F_O$ as the only remaining force on the link, which could be wrong if my free body diagram is wrong."
   ]
  },
  {
   "cell_type": "markdown",
   "metadata": {},
   "source": [
    "#### From acceleration"
   ]
  },
  {
   "cell_type": "code",
   "execution_count": null,
   "metadata": {},
   "outputs": [],
   "source": [
    "a_link_raw = logger.data()[log_wrapper.entries_per_body*paper.link_idxs[-1] + 12:\n",
    "                     log_wrapper.entries_per_body*paper.link_idxs[-1]+12+3,:]\n",
    "a_link_no_interp = np.expand_dims(a_link_raw.T, 2)\n",
    "a_link = scipy.interpolate.interp1d(logger.sample_times(),\n",
    "                                    a_link_no_interp,\n",
    "                                    axis=0)(times)"
   ]
  },
  {
   "cell_type": "code",
   "execution_count": null,
   "metadata": {},
   "outputs": [],
   "source": [
    "F_LE_acc = a_link*paper.link_mass"
   ]
  },
  {
   "cell_type": "code",
   "execution_count": null,
   "metadata": {},
   "outputs": [],
   "source": [
    "F_O_sim_acc = F_LE_acc - F_G_sim - F_contact_LE_sim"
   ]
  },
  {
   "cell_type": "code",
   "execution_count": null,
   "metadata": {},
   "outputs": [],
   "source": [
    "F_ON_sim_acc = np.matmul(n_projs_sim, F_O_sim_acc)\n",
    "F_OT_sim_acc = F_O_sim_acc - F_ON_sim_acc"
   ]
  },
  {
   "cell_type": "markdown",
   "metadata": {},
   "source": [
    "#### From reaction forces"
   ]
  },
  {
   "cell_type": "markdown",
   "metadata": {},
   "source": [
    "\n",
    "We'll start off by using the joint forces given by drake, which come from the function `get_reaction_forces_output_port`, which includes this in its documentation:\n",
    "> This output port allows to evaluate the reaction force F_CJc_Jc on the child body C, at Jc, and expressed in Jc for all joints in the model. This port evaluates to a vector of type std::vector<SpatialForce<T>> and size num_joints() indexed by JointIndex, see Joint::index(). Each entry corresponds to the spatial force F_CJc_Jc applied on the joint's child body C (Joint::child_body()), at the joint's child frame Jc (Joint::frame_on_child()) and expressed in frame Jc."
   ]
  },
  {
   "cell_type": "markdown",
   "metadata": {},
   "source": [
    "So I need to convert the forces from the body frame to the world frame. This has two pieces:\n",
    "1. Make sure the bases of the forces match.\n",
    "2. Account for fictitious force as needed.\n",
    "\n",
    "First, to make the bases, match, we use the same logic as we converting between compliance basis and manipulator basis: the origin doesn't matter, but the directions of the unit vectors matter, so we apply the rotation of $J_C$ relative to the world to get the forces. We can get this with `CalcPoseInWorld`."
   ]
  },
  {
   "cell_type": "markdown",
   "metadata": {},
   "source": [
    "Next, to account for ficitious forces, we have to understand the ways in which that $J_C$ is accelerating in the world frame. We can use `CalcSpatialAccelerationInWorld` to get the acceleration of the frame in the world:\n",
    "> Computes and returns the spatial acceleration A_WF_W of this frame F in world frame W expressed in W as a function of the state stored in context.\n",
    "\n",
    "We then subtract this acceleration times the link mass to get the forces in the world frame."
   ]
  },
  {
   "cell_type": "markdown",
   "metadata": {},
   "source": [
    "Okay, actually, these methods make the simulation crash. But we already get the **body** poses and accelerations; can we use those to figure out $J_C$?\n",
    "\n",
    "Our goal is get $p_{WJ_C}$ and $p_{WJ_C}$, meaning the position and acceleration of the frame $J_C$ from the world frame $W$.\n",
    "\n",
    "Note that there is no rotation between $p_{J_C}$ and $p_{L}$, the position of the link body. So we can clearly write:\n",
    "$$\n",
    "p_{WJ_C} = p_{WL} + p_{LJ_C}\n",
    "$$\n",
    "This implies, by differentiating twice:\n",
    "\n",
    "$$\n",
    "a_{WJ_C} = a_{WL} + a_{LJ_C}\n",
    "$$"
   ]
  },
  {
   "cell_type": "markdown",
   "metadata": {},
   "source": [
    "Now, note what's said [here](https://drake.mit.edu/doxygen_cxx/classdrake_1_1multibody_1_1_fixed_offset_frame.html#a73bf37a30fd5b4f532113079b5a0dd77) in the documentation for `FixedOffsetFrame`:\n",
    "> The pose offset is given by a spatial transform X_PF, which is constant after construction. For instance, we could rigidly attach a frame F to move with a rigid body B at a fixed pose X_BF, where B is the BodyFrame associated with body B. Thus, the World frame pose X_WF of a FixedOffsetFrame F depends only on the World frame pose X_WP of its parent P, and the constant pose X_PF, with X_WF=X_WP*X_PF.\n",
    "\n",
    "This clearly means that $p_{LJ_C}$ is constant, so $a_{LJ_C}=0$ and $a_{WJ_C} = a_{LJ_C}$!"
   ]
  },
  {
   "cell_type": "markdown",
   "metadata": {},
   "source": [
    "What does this mean? It means we can use the rotation of the link to get the forces in the world basis, and then use the link's accelerations to get the fictitious forces."
   ]
  },
  {
   "cell_type": "markdown",
   "metadata": {},
   "source": [
    "What is the rotation of the last link? Well, that's exactly the $\\theta$ we've been using, so we just neeed to multiply by the rotation matrices. Or, even more simply, just use the $\\hat N$ and $\\hat T$ vectors I have already."
   ]
  },
  {
   "cell_type": "code",
   "execution_count": null,
   "metadata": {},
   "outputs": [],
   "source": [
    "joint_force_in_L = logger.data()[log_wrapper.joint_entry_start_idx:log_wrapper.joint_entry_start_idx+3,:]\n",
    "joint_force_in_L.shape"
   ]
  },
  {
   "cell_type": "code",
   "execution_count": null,
   "metadata": {},
   "outputs": [],
   "source": [
    "joint_force_T_scal = scipy.interpolate.interp1d(logger.sample_times(),\n",
    "                                           np.expand_dims(joint_force_in_L[1,:], [1, 2]),\n",
    "                                           axis=0)(times)\n",
    "joint_force_T = np.multiply(joint_force_T_scal, np.array(debug['T_hats']))\n",
    "joint_force_N_scal = scipy.interpolate.interp1d(logger.sample_times(),\n",
    "                                           np.expand_dims(joint_force_in_L[2,:], [1, 2]),\n",
    "                                           axis=0)(times)\n",
    "joint_force_N = np.multiply(joint_force_N_scal, np.array(debug['N_hats']))\n",
    "joint_force = joint_force_T + joint_force_N"
   ]
  },
  {
   "cell_type": "code",
   "execution_count": null,
   "metadata": {},
   "outputs": [],
   "source": [
    "# THINK: I'm not sure why I don't have to subtract off fictitious forces here...\n",
    "F_O_sim_rxn = joint_force #- paper.link_mass*a_link"
   ]
  },
  {
   "cell_type": "code",
   "execution_count": null,
   "metadata": {},
   "outputs": [],
   "source": [
    "F_ON_sim_rxn = np.matmul(n_projs_sim, F_O_sim_rxn)\n",
    "F_OT_sim_rxn = F_O_sim_rxn - F_ON_sim_rxn"
   ]
  },
  {
   "cell_type": "markdown",
   "metadata": {},
   "source": [
    "#### Comparison"
   ]
  },
  {
   "cell_type": "code",
   "execution_count": null,
   "metadata": {},
   "outputs": [],
   "source": [
    "lw=5\n",
    "plt.figure(figsize=(16,24))\n",
    "plt.subplot(211)\n",
    "plt.plot(times, F_O_sim_acc[:,1], label=\"Simulation\", linewidth=lw, color='lightskyblue')\n",
    "plt.plot(times, F_O_sim_rxn[:,1], label=\"Acceleration\", linewidth=lw, color='teal', linestyle=':')\n",
    "plt.legend()\n",
    "plt.ylim(-5, 5)\n",
    "plt.title(r\"$\\hat y$ component\")\n",
    "plt.ylabel(\"Force (N)\")\n",
    "plt.xlabel(\"Time (s)\")\n",
    "plt.subplot(212)\n",
    "plt.plot(times, F_O_sim_rxn[:,2], label=\"Simulation\", linewidth=lw, color='lightskyblue')\n",
    "plt.plot(times, F_O_sim_acc[:,2], label=\"Acceleration\", linewidth=lw, color='teal', linestyle=':')\n",
    "plt.legend()\n",
    "plt.ylim(-5, 5)\n",
    "plt.title(r\"$\\hat z$ component\")\n",
    "plt.ylabel(\"Force (N)\")\n",
    "plt.xlabel(\"Time (s)\")\n",
    "plt.show()"
   ]
  },
  {
   "cell_type": "markdown",
   "metadata": {},
   "source": [
    "### Total\n",
    "Doesn't make sense to sum forces using the `F_O_sim_acc`, because that is of course going to line up with acceleration."
   ]
  },
  {
   "cell_type": "code",
   "execution_count": null,
   "metadata": {},
   "outputs": [],
   "source": [
    "F_LE_sim = F_O_sim_rxn + F_G_sim + F_contact_LE_sim"
   ]
  },
  {
   "cell_type": "markdown",
   "metadata": {},
   "source": [
    "## Total according to revolute joint constraint"
   ]
  },
  {
   "cell_type": "code",
   "execution_count": null,
   "metadata": {},
   "outputs": [],
   "source": [
    "theta_dot_no_interp = logger.data()[log_wrapper.entries_per_body*paper.link_idxs[-1] + 6 + 3,:]\n",
    "theta_dot = scipy.interpolate.interp1d(logger.sample_times(),\n",
    "                                    theta_dot_no_interp,\n",
    "                                    axis=0)(times)"
   ]
  },
  {
   "cell_type": "code",
   "execution_count": null,
   "metadata": {},
   "outputs": [],
   "source": [
    "theta_ddot_no_interp = logger.data()[log_wrapper.entries_per_body*paper.link_idxs[-1] + 12 + 3,:]\n",
    "theta_ddot = scipy.interpolate.interp1d(logger.sample_times(),\n",
    "                                    theta_ddot_no_interp,\n",
    "                                    axis=0)(times)"
   ]
  },
  {
   "cell_type": "code",
   "execution_count": null,
   "metadata": {},
   "outputs": [],
   "source": [
    "r_JL = paper.link_width/2 + constants.EPSILON/2"
   ]
  },
  {
   "cell_type": "code",
   "execution_count": null,
   "metadata": {},
   "outputs": [],
   "source": [
    "m_L = paper.link_mass\n",
    "F_LE_jnt_T_scal = np.expand_dims(-r_JL*m_L*theta_dot**2, [1, 2])\n",
    "F_LE_jnt_T = np.multiply(F_LE_jnt_T_scal, np.array(debug['T_hats']))\n",
    "\n",
    "F_LE_jnt_N_scal = np.expand_dims(r_JL*m_L*theta_ddot, [1, 2])\n",
    "F_LE_jnt_N = np.multiply(F_LE_jnt_N_scal, np.array(debug['N_hats']))"
   ]
  },
  {
   "cell_type": "code",
   "execution_count": null,
   "metadata": {},
   "outputs": [],
   "source": [
    "F_LE_jnt = F_LE_jnt_N + F_LE_jnt_T"
   ]
  },
  {
   "cell_type": "markdown",
   "metadata": {},
   "source": [
    "## Other calculations"
   ]
  },
  {
   "cell_type": "code",
   "execution_count": null,
   "metadata": {},
   "outputs": [],
   "source": [
    "F_OT_eq  = -F_CT_exp-F_GT_exp\n",
    "m_M = constants.FINGER_MASS\n",
    "F_OT_eq -= (m_M+m_L)*(paper.link_width/2)*np.multiply(\n",
    "    np.expand_dims(theta_dot**2, [1,2]),\n",
    "    np.array(debug['T_hats']))"
   ]
  },
  {
   "cell_type": "markdown",
   "metadata": {},
   "source": [
    "## Comparison"
   ]
  },
  {
   "cell_type": "markdown",
   "metadata": {},
   "source": [
    "### All forces"
   ]
  },
  {
   "cell_type": "code",
   "execution_count": null,
   "metadata": {},
   "outputs": [],
   "source": [
    "lw=5\n",
    "plt.figure(figsize=(16,24))\n",
    "plt.subplot(211)\n",
    "plt.plot(times, F_LE_sim[:,1], label=\"Simulation\", linewidth=lw, color='lightskyblue')\n",
    "plt.plot(times, F_LE_acc[:,1], label=\"Acceleration\", linewidth=lw, color='teal', linestyle=':')\n",
    "plt.plot(times, F_LE_exp[:,1], label=\"Expectation\", linewidth=lw, color='b', linestyle='--')\n",
    "plt.plot(times, F_LE_jnt[:,1], label=\"Joint constraint\", linewidth=lw, color='navy', linestyle='--')\n",
    "plt.legend()\n",
    "plt.ylim(-3, 8)\n",
    "plt.title(r\"$\\hat y$ component\")\n",
    "plt.ylabel(\"Force (N)\")\n",
    "plt.xlabel(\"Time (s)\")\n",
    "plt.subplot(212)\n",
    "plt.plot(times, F_LE_sim[:,2], label=\"Simulation\", linewidth=lw, color='lightskyblue')\n",
    "plt.plot(times, F_LE_exp[:,2], label=\"Expectation\", linewidth=lw, color='b', linestyle='--')\n",
    "plt.plot(times, F_LE_acc[:,2], label=\"Acceleration\", linewidth=lw, color='teal', linestyle=':')\n",
    "plt.plot(times, F_LE_jnt[:,2], label=\"Joint constraint\", linewidth=lw, color='navy', linestyle='--')\n",
    "plt.legend()\n",
    "plt.ylim(-5, 2)\n",
    "plt.title(r\"$\\hat z$ component\")\n",
    "plt.ylabel(\"Force (N)\")\n",
    "plt.xlabel(\"Time (s)\")\n",
    "plt.show()"
   ]
  },
  {
   "cell_type": "markdown",
   "metadata": {},
   "source": [
    "#### Difference plots"
   ]
  },
  {
   "cell_type": "code",
   "execution_count": null,
   "metadata": {},
   "outputs": [],
   "source": [
    "lw=5\n",
    "plt.figure(figsize=(16,24))\n",
    "plt.subplot(211)\n",
    "plt.plot(times, F_LE_acc[:,1]-F_LE_jnt[:,1], linewidth=lw)\n",
    "plt.ylim(-0.5, 0.5)\n",
    "plt.title(r\"$\\hat y$ component\")\n",
    "plt.ylabel(\"Force (N)\")\n",
    "plt.xlabel(\"Time (s)\")\n",
    "plt.subplot(212)\n",
    "plt.plot(times, F_LE_acc[:,2]-F_LE_jnt[:,2], linewidth=lw)\n",
    "plt.ylim(-0.5, 0.5)\n",
    "plt.title(r\"$\\hat z$ component\")\n",
    "plt.ylabel(\"Force (N)\")\n",
    "plt.xlabel(\"Time (s)\")\n",
    "plt.show()"
   ]
  },
  {
   "cell_type": "markdown",
   "metadata": {},
   "source": [
    "#### Normal projects"
   ]
  },
  {
   "cell_type": "code",
   "execution_count": null,
   "metadata": {},
   "outputs": [],
   "source": [
    "F_LE_acc_N_vec = np.matmul(N_hat_proj_mat, F_LE_acc)\n",
    "F_LE_acc_N_mag = np.linalg.norm(F_LE_acc_N_vec, axis=1)\n",
    "F_LE_acc_N_sgn = np.sign(np.matmul(\n",
    "    np.transpose(np.array(debug['N_hats']), [0, 2, 1]),\n",
    "    F_LE_acc_N_vec))\n",
    "F_LE_acc_N = F_LE_acc_N_mag.flatten()*F_LE_acc_N_sgn.flatten()"
   ]
  },
  {
   "cell_type": "code",
   "execution_count": null,
   "metadata": {},
   "outputs": [],
   "source": [
    "a_LN_vec = np.multiply(np.expand_dims(a_LN, [1, 2]), np.array(debug['N_hats']))"
   ]
  },
  {
   "cell_type": "code",
   "execution_count": null,
   "metadata": {},
   "outputs": [],
   "source": [
    "lw=5\n",
    "plt.figure(figsize=(16,24))\n",
    "plt.subplot(211)\n",
    "plt.plot(times, F_LE_acc_N_vec[:,1], label=\"Acceleration\", linewidth=lw, color='teal', linestyle=':')\n",
    "plt.plot(times, F_LE_jnt_N[:,1], label=\"Joint constraint\", linewidth=lw, color='navy', linestyle='--')\n",
    "# plt.plot(times, m_L*a_LN_vec[:,1], label=\"Expectation\", linewidth=lw, color='b', linestyle='--')\n",
    "plt.legend()\n",
    "plt.ylim(-2, 2)\n",
    "plt.title(r\"$\\hat y$ component\")\n",
    "plt.ylabel(\"Force (N)\")\n",
    "plt.xlabel(\"Time (s)\")\n",
    "plt.subplot(212)\n",
    "plt.plot(times, F_LE_acc_N_vec[:,2], label=\"Acceleration\", linewidth=lw, color='teal', linestyle=':')\n",
    "plt.plot(times, F_LE_jnt_N[:,2], label=\"Joint constraint\", linewidth=lw, color='navy', linestyle='--')\n",
    "# plt.plot(times, m_L*a_LN_vec[:,2], label=\"Expectation\", linewidth=lw, color='b', linestyle='--')\n",
    "plt.legend()\n",
    "plt.ylim(-2, 2)\n",
    "plt.title(r\"$\\hat z$ component\")\n",
    "plt.ylabel(\"Force (N)\")\n",
    "plt.xlabel(\"Time (s)\")\n",
    "plt.show()"
   ]
  },
  {
   "cell_type": "markdown",
   "metadata": {},
   "source": [
    "### $F_G$"
   ]
  },
  {
   "cell_type": "code",
   "execution_count": null,
   "metadata": {},
   "outputs": [],
   "source": [
    "lw=5\n",
    "plt.figure(figsize=(16,24))\n",
    "plt.subplot(211)\n",
    "plt.plot(times, F_G_sim[:,1], label=\"Simulation\", linewidth=lw, color='lightskyblue')\n",
    "plt.plot(times, F_G_exp[:,1], label=\"Expectation\", linewidth=lw, color='b', linestyle='--')\n",
    "plt.legend()\n",
    "plt.ylim(-5, 5)\n",
    "plt.title(r\"$\\hat y$ component\")\n",
    "plt.ylabel(\"Force (N)\")\n",
    "plt.xlabel(\"Time (s)\")\n",
    "plt.subplot(212)\n",
    "plt.plot(times, F_G_sim[:,2], label=\"Simulation\", linewidth=lw, color='lightskyblue')\n",
    "plt.plot(times, F_G_exp[:,2], label=\"Expectation\", linewidth=lw, color='b', linestyle='--')\n",
    "plt.legend()\n",
    "plt.ylim(-5, 5)\n",
    "plt.title(r\"$\\hat z$ component\")\n",
    "plt.ylabel(\"Force (N)\")\n",
    "plt.xlabel(\"Time (s)\")\n",
    "plt.show()"
   ]
  },
  {
   "cell_type": "markdown",
   "metadata": {},
   "source": [
    "If this one didn't check out I'd be real sad haha..."
   ]
  },
  {
   "cell_type": "markdown",
   "metadata": {},
   "source": [
    "### Contact"
   ]
  },
  {
   "cell_type": "code",
   "execution_count": null,
   "metadata": {},
   "outputs": [],
   "source": [
    "lw=5\n",
    "plt.figure(figsize=(16,24))\n",
    "plt.subplot(211)\n",
    "plt.plot(times, F_contact_LE_sim[:,1], label=\"Simulation\", linewidth=lw, color='lightskyblue')\n",
    "plt.plot(times, F_contact_LE_exp[:,1], label=\"Expectation\", linewidth=lw, color='b', linestyle='--')\n",
    "plt.legend()\n",
    "plt.ylim(-5, 5)\n",
    "plt.title(r\"$\\hat y$ component\")\n",
    "plt.ylabel(\"Force (N)\")\n",
    "plt.xlabel(\"Time (s)\")\n",
    "plt.subplot(212)\n",
    "plt.plot(times, F_contact_LE_sim[:,2], label=\"Simulation\", linewidth=lw, color='lightskyblue')\n",
    "plt.plot(times, F_contact_LE_exp[:,2], label=\"Expectation\", linewidth=lw, color='b', linestyle='--')\n",
    "plt.legend()\n",
    "plt.ylim(-5, 5)\n",
    "plt.title(r\"$\\hat z$ component\")\n",
    "plt.ylabel(\"Force (N)\")\n",
    "plt.xlabel(\"Time (s)\")\n",
    "plt.show()"
   ]
  },
  {
   "cell_type": "markdown",
   "metadata": {},
   "source": [
    "#### Normal forces"
   ]
  },
  {
   "cell_type": "code",
   "execution_count": null,
   "metadata": {},
   "outputs": [],
   "source": [
    "lw=5\n",
    "plt.figure(figsize=(16,24))\n",
    "plt.subplot(211)\n",
    "plt.plot(times, F_NLE_sim[:,1], label=\"Simulation\", linewidth=lw, color='lightskyblue')\n",
    "plt.plot(times, F_NLE_exp[:,1], label=\"Expectation\", linewidth=lw, color='b', linestyle='--')\n",
    "plt.legend()\n",
    "plt.ylim(-5, 5)\n",
    "plt.title(r\"$\\hat y$ component\")\n",
    "plt.ylabel(\"Force (N)\")\n",
    "plt.xlabel(\"Time (s)\")\n",
    "plt.subplot(212)\n",
    "plt.plot(times, F_NLE_sim[:,2], label=\"Simulation\", linewidth=lw, color='lightskyblue')\n",
    "plt.plot(times, F_NLE_exp[:,2], label=\"Expectation\", linewidth=lw, color='b', linestyle='--')\n",
    "plt.legend()\n",
    "plt.ylim(-5, 5)\n",
    "plt.title(r\"$\\hat z$ component\")\n",
    "plt.ylabel(\"Force (N)\")\n",
    "plt.xlabel(\"Time (s)\")\n",
    "plt.show()"
   ]
  },
  {
   "cell_type": "markdown",
   "metadata": {},
   "source": [
    "#### Friction forces"
   ]
  },
  {
   "cell_type": "code",
   "execution_count": null,
   "metadata": {},
   "outputs": [],
   "source": [
    "lw=5\n",
    "plt.figure(figsize=(16,24))\n",
    "plt.subplot(211)\n",
    "plt.plot(times, F_FLE_sim[:,1], label=\"Simulation\", linewidth=lw, color='lightskyblue')\n",
    "plt.plot(times, F_FLE_exp[:,1], label=\"Expectation\", linewidth=lw, color='b', linestyle='--')\n",
    "plt.legend()\n",
    "plt.ylim(-5, 5)\n",
    "plt.title(r\"$\\hat y$ component\")\n",
    "plt.ylabel(\"Force (N)\")\n",
    "plt.xlabel(\"Time (s)\")\n",
    "plt.subplot(212)\n",
    "plt.plot(times, F_FLE_sim[:,2], label=\"Simulation\", linewidth=lw, color='lightskyblue')\n",
    "plt.plot(times, F_FLE_exp[:,2], label=\"Expectation\", linewidth=lw, color='b', linestyle='--')\n",
    "plt.legend()\n",
    "plt.ylim(-5, 5)\n",
    "plt.title(r\"$\\hat z$ component\")\n",
    "plt.ylabel(\"Force (N)\")\n",
    "plt.xlabel(\"Time (s)\")\n",
    "plt.show()"
   ]
  },
  {
   "cell_type": "markdown",
   "metadata": {},
   "source": [
    "As expected, the contact forces have the same results as with the manipulator. No surprise because they're symmetric."
   ]
  },
  {
   "cell_type": "markdown",
   "metadata": {},
   "source": [
    "### $F_O$"
   ]
  },
  {
   "cell_type": "markdown",
   "metadata": {},
   "source": [
    "#### All components"
   ]
  },
  {
   "cell_type": "code",
   "execution_count": null,
   "metadata": {},
   "outputs": [],
   "source": [
    "lw=5\n",
    "plt.figure(figsize=(16,24))\n",
    "plt.subplot(211)\n",
    "plt.plot(times, F_O_sim_rxn[:,1], label=\"Simulation (from reaction forces)\", linewidth=lw, color='lightskyblue')\n",
    "plt.plot(times, F_O_sim_acc[:,1], label=\"Simulation (from acceleration)\", linewidth=lw, color='teal')\n",
    "plt.plot(times, F_O_exp[:,1], label=\"Expectation\", linewidth=lw, color='b', linestyle='--')\n",
    "plt.legend()\n",
    "plt.ylim(-5, 5)\n",
    "plt.title(r\"$\\hat y$ component\")\n",
    "plt.ylabel(\"Force (N)\")\n",
    "plt.xlabel(\"Time (s)\")\n",
    "plt.subplot(212)\n",
    "plt.plot(times, F_O_sim_rxn[:,2], label=\"Simulation (from reaction forces)\", linewidth=lw, color='lightskyblue')\n",
    "plt.plot(times, F_O_sim_acc[:,2], label=\"Simulation (from acceleration)\", linewidth=lw, color='teal')\n",
    "plt.plot(times, F_O_exp[:,2], label=\"Expectation\", linewidth=lw, color='b', linestyle='--')\n",
    "plt.legend()\n",
    "plt.ylim(-5, 5)\n",
    "plt.title(r\"$\\hat z$ component\")\n",
    "plt.ylabel(\"Force (N)\")\n",
    "plt.xlabel(\"Time (s)\")\n",
    "plt.show()"
   ]
  },
  {
   "cell_type": "markdown",
   "metadata": {},
   "source": [
    "#### $F_{ON}$ only"
   ]
  },
  {
   "cell_type": "code",
   "execution_count": null,
   "metadata": {},
   "outputs": [],
   "source": [
    "lw=5\n",
    "plt.figure(figsize=(16,24))\n",
    "plt.subplot(211)\n",
    "plt.plot(times, F_ON_sim_acc[:,1], label=\"Simulation (from acceleration)\", linewidth=lw, color='teal')\n",
    "plt.plot(times, F_ON_exp[:,1], label=\"Expectation\", linewidth=lw, color='b', linestyle='--')\n",
    "plt.legend()\n",
    "plt.ylim(-5, 5)\n",
    "plt.title(r\"$\\hat y$ component\")\n",
    "plt.ylabel(\"Force (N)\")\n",
    "plt.xlabel(\"Time (s)\")\n",
    "plt.subplot(212)\n",
    "plt.plot(times, F_ON_sim_acc[:,2], label=\"Simulation (from acceleration)\", linewidth=lw, color='teal')\n",
    "plt.plot(times, F_ON_exp[:,2], label=\"Expectation\", linewidth=lw, color='b', linestyle='--')\n",
    "plt.legend()\n",
    "plt.ylim(-5, 5)\n",
    "plt.title(r\"$\\hat z$ component\")\n",
    "plt.ylabel(\"Force (N)\")\n",
    "plt.xlabel(\"Time (s)\")\n",
    "plt.show()"
   ]
  },
  {
   "cell_type": "markdown",
   "metadata": {},
   "source": [
    "# Checking friction relationship\n",
    "Clearly, friction is wrong in both cases. Am I using the wrong formula?"
   ]
  },
  {
   "cell_type": "markdown",
   "metadata": {},
   "source": [
    "## Old formula"
   ]
  },
  {
   "cell_type": "markdown",
   "metadata": {},
   "source": [
    "Remember, from the original math I did above:\n",
    "$$\n",
    "\\begin{aligned}\n",
    "2F_{FM} &= F_{GT} + F_{OT} - F_{CT} \\\\\n",
    "F_{FM} &= \\frac{F_{GT} + F_{OT} - F_{CT}}{2}\n",
    "\\end{aligned}\n",
    "$$\n",
    "So:\n",
    "$$\n",
    "\\begin{aligned}\n",
    "F_{FLE} &= -\\frac{F_{GT} + F_{OT} - F_{CT}}{2}\n",
    "\\end{aligned}\n",
    "$$"
   ]
  },
  {
   "cell_type": "code",
   "execution_count": null,
   "metadata": {},
   "outputs": [],
   "source": [
    "F_FLE_old_rxn = -(F_GT_exp + F_OT_sim_rxn - F_CT_exp)/2\n",
    "F_FLE_old_acc = -(F_GT_exp + F_OT_sim_acc - F_CT_exp)/2"
   ]
  },
  {
   "cell_type": "markdown",
   "metadata": {},
   "source": [
    "## New formula\n",
    "See p. 21 \"Rethinking Friction\" in notebook."
   ]
  },
  {
   "cell_type": "code",
   "execution_count": null,
   "metadata": {},
   "outputs": [],
   "source": [
    "m_L = paper.link_mass\n",
    "m_M = constants.FINGER_MASS\n",
    "F_FLE_new_rxn = (m_L*F_CT_exp-m_M*(F_GT_exp+F_OT_sim_rxn))/(m_L+m_M)\n",
    "F_FLE_new_acc = (m_L*F_CT_exp-m_M*(F_GT_exp+F_OT_sim_acc))/(m_L+m_M)"
   ]
  },
  {
   "cell_type": "markdown",
   "metadata": {},
   "source": [
    "### Comparison\n",
    "#### All forces"
   ]
  },
  {
   "cell_type": "code",
   "execution_count": null,
   "metadata": {},
   "outputs": [],
   "source": [
    "lw=5\n",
    "plt.figure(figsize=(16,24))\n",
    "for idx, label in enumerate([r\"$\\hat y$ component\", r\"$\\hat z$ component\"]):\n",
    "    plt.subplot(2,1,idx+1)\n",
    "    plt.plot(times, F_FLE_old_rxn[:,idx+1], label=\"Calculated (old, rxn)\", linewidth=lw)\n",
    "    plt.plot(times, F_FLE_new_rxn[:,idx+1], label=\"Calculated (new, rxn)\", linewidth=lw)\n",
    "    plt.plot(times, F_FLE_old_acc[:,idx+1], label=\"Calculated (old, acc)\", linewidth=lw)\n",
    "    plt.plot(times, F_FLE_new_acc[:,idx+1], label=\"Calculated (new, acc)\", linewidth=lw)\n",
    "    plt.plot(times, F_FLE_sim[:,idx+1], label=\"Actual friction\", linewidth=lw, color='k', linestyle='--')\n",
    "    plt.legend()\n",
    "    plt.ylim(-5, 5)\n",
    "    plt.title(label)\n",
    "    plt.ylabel(\"Force (N)\")\n",
    "    plt.xlabel(\"Time (s)\")\n",
    "plt.show()"
   ]
  },
  {
   "cell_type": "markdown",
   "metadata": {},
   "source": [
    "#### Only new and accelartion"
   ]
  },
  {
   "cell_type": "code",
   "execution_count": null,
   "metadata": {},
   "outputs": [],
   "source": [
    "lw=5\n",
    "plt.figure(figsize=(16,24))\n",
    "for idx, label in enumerate([r\"$\\hat y$ component\", r\"$\\hat z$ component\"]):\n",
    "    plt.subplot(2,1,idx+1)\n",
    "    plt.plot(times, F_FLE_new_acc[:,idx+1], label=\"Calculated (new, acc)\", linewidth=lw, color='red')\n",
    "    plt.plot(times, F_FLE_sim[:,idx+1], label=\"Actual friction\", linewidth=lw, color='green', alpha=0.5)\n",
    "#     plt.plot(times, (m_L*F_CT_exp/(m_L+m_M))[:,idx+1], label=\"$F_{CT}$ contributation\", linewidth=lw, linestyle=':')\n",
    "#     plt.plot(times, (-m_M*F_GT_exp/(m_L+m_M))[:,idx+1], label=\"$F_{GT}$ contributation\", linewidth=lw, linestyle=':')\n",
    "#     plt.plot(times, (-m_M*F_OT_sim/(m_L+m_M))[:,idx+1], label=\"$F_{OT}$ contributation\", linewidth=lw, linestyle=':')\n",
    "    plt.legend()\n",
    "    plt.ylim(-1, 1)\n",
    "    plt.title(label)\n",
    "    plt.ylabel(\"Force (N)\")\n",
    "    plt.xlabel(\"Time (s)\")\n",
    "plt.show()"
   ]
  },
  {
   "cell_type": "markdown",
   "metadata": {},
   "source": [
    "## Conclusions\n",
    "Hooray, that was the issue. I need to use the new formula."
   ]
  },
  {
   "cell_type": "markdown",
   "metadata": {},
   "source": [
    "# Checking normal force relationship"
   ]
  },
  {
   "cell_type": "code",
   "execution_count": null,
   "metadata": {},
   "outputs": [],
   "source": [
    "F_NLE_eq = (m_L*F_CN_exp-m_M*(F_ON_sim_acc+F_GN_exp))/(m_L+m_M)\n",
    "F_ONLE_component = -m_M*(F_ON_sim_acc)/(m_L+m_M)"
   ]
  },
  {
   "cell_type": "code",
   "execution_count": null,
   "metadata": {},
   "outputs": [],
   "source": [
    "lw=5\n",
    "plt.figure(figsize=(16,24))\n",
    "plt.subplot(211)\n",
    "plt.plot(times, F_NLE_sim[:,1], label=\"Simulation\", linewidth=lw, color='lightskyblue')\n",
    "plt.plot(times, F_NLE_eq[:,1], label=\"Equation\", linewidth=lw, color='b', linestyle='--')\n",
    "plt.plot(times, F_ONLE_component[:,1], label=\"$F_{ON}$ component\", linewidth=lw, color='teal')\n",
    "plt.legend()\n",
    "plt.ylim(-5, 5)\n",
    "plt.title(r\"$\\hat y$ component\")\n",
    "plt.ylabel(\"Force (N)\")\n",
    "plt.xlabel(\"Time (s)\")\n",
    "plt.subplot(212)\n",
    "plt.plot(times, F_NLE_sim[:,2], label=\"Simulation\", linewidth=lw, color='lightskyblue')\n",
    "plt.plot(times, F_NLE_eq[:,2], label=\"Equation\", linewidth=lw, color='b', linestyle='--')\n",
    "plt.plot(times, F_ONLE_component[:,2], label=\"$F_{ON}$ component\", linewidth=lw, color='teal')\n",
    "plt.legend()\n",
    "plt.ylim(-5, 5)\n",
    "plt.title(r\"$\\hat z$ component\")\n",
    "plt.ylabel(\"Force (N)\")\n",
    "plt.xlabel(\"Time (s)\")\n",
    "plt.show()"
   ]
  },
  {
   "cell_type": "markdown",
   "metadata": {},
   "source": [
    "## Conclusion\n",
    "The $F_{ON}$ component of normal force just doesn't make enough of a difference to matter, so that's why it seems wrong."
   ]
  },
  {
   "cell_type": "markdown",
   "metadata": {},
   "source": [
    "# Checking Linear algebra\n",
    "According to my linear algebra:\n",
    "$$\n",
    "\\begin{aligned}\n",
    "    a_{LT} &= - \\frac{\\dot\\theta^2 w_{L}}{2} \\\\\n",
    "    a_{LN} &= a_{Nd} \\\\\n",
    "    a_{MT} &= - \\frac{\\dot\\theta^2 w_{L}}{2} \\\\\n",
    "    a_{MN} &= a_{Nd} \\\\\n",
    "    \\ddot\\theta &= \\frac{2 a_{Nd}}{w_{L}} \\\\\n",
    "    F_{OT} &= - F_{GT} - \\frac{\\dot\\theta^2 m_{L} w_{L}}{2} \\\\\n",
    "    F_{ON} &= - \\frac{2 F_{GN} r_{T} w_{L} - 4 I_{L} a_{Nd} - 2 a_{Nd} m_{L} r_{T} w_{L}}{2 r_{T} w_{L} + w_{L}^{2}} \\\\\n",
    "    F_{CT} &= - \\frac{\\dot\\theta^2 m_{M} w_{L}}{2} \\\\\n",
    "    F_{CN} &= - \\frac{F_{GN} w_{L}^{2} + 4 I_{L} a_{Nd} - a_{Nd} m_{L} w_{L}^{2} - 2 a_{Nd} m_{M} r_{T} w_{L} - a_{Nd} m_{M} w_{L}^{2}}{2 r_{T} w_{L} + w_{L}^{2}} \\\\\n",
    "    F_{NL} &= - \\frac{F_{GN} w_{L}^{2} + 4 I_{L} a_{Nd} - a_{Nd} m_{L} w_{L}^{2}}{2 r_{T} w_{L} + w_{L}^{2}} \\\\\n",
    "    F_{FL} &= 0 \\\\\n",
    "    F_{NM} &= \\frac{F_{GN} w_{L}^{2} + 4 I_{L} a_{Nd} - a_{Nd} m_{L} w_{L}^{2}}{2 r_{T} w_{L} + w_{L}^{2}} \\\\\n",
    "    F_{FM} &= 0\\end{aligned}\n",
    "$$\n",
    "For each of these equations, I want to plot the value on the left side (i.e. value from simulation) and the value on the right side to see if they match."
   ]
  },
  {
   "cell_type": "markdown",
   "metadata": {},
   "source": [
    "## Solution values"
   ]
  },
  {
   "cell_type": "markdown",
   "metadata": {},
   "source": [
    "### $a_{LT} = - \\frac{\\dot\\theta^2 w_{L}}{2}$"
   ]
  },
  {
   "cell_type": "markdown",
   "metadata": {},
   "source": [
    "#### LHS"
   ]
  },
  {
   "cell_type": "code",
   "execution_count": null,
   "metadata": {},
   "outputs": [],
   "source": [
    "T_hat_proj_mat = np.matmul(np.array(debug['T_hats']), np.transpose(np.array(debug['T_hats']), [0, 2, 1]))"
   ]
  },
  {
   "cell_type": "code",
   "execution_count": null,
   "metadata": {},
   "outputs": [],
   "source": [
    "a_link_T_component_sim_vec = np.matmul(T_hat_proj_mat, a_link)\n",
    "a_link_T_component_sim_mag = np.linalg.norm(a_link_T_component_sim_vec, axis=1)\n",
    "a_link_T_component_sim_sgn = np.sign(np.matmul(\n",
    "    np.transpose(np.array(debug['T_hats']), [0, 2, 1]),\n",
    "    a_link_T_component_sim_vec))\n",
    "a_link_T_component_sim = a_link_T_component_sim_mag.flatten()*a_link_T_component_sim_sgn.flatten()\n",
    "a_LT = a_link_T_component_sim"
   ]
  },
  {
   "cell_type": "code",
   "execution_count": null,
   "metadata": {},
   "outputs": [],
   "source": [
    "lhs = a_link_T_component_sim"
   ]
  },
  {
   "cell_type": "markdown",
   "metadata": {},
   "source": [
    "#### RHS"
   ]
  },
  {
   "cell_type": "code",
   "execution_count": null,
   "metadata": {},
   "outputs": [],
   "source": [
    "d_theta_no_interp = logger.data()[log_wrapper.entries_per_body*paper.get_free_edge_idx() + 6 + 3]\n",
    "d_theta_sim = scipy.interpolate.interp1d(logger.sample_times(), d_theta_no_interp, axis=0)(times)\n",
    "d_theta = d_theta_sim"
   ]
  },
  {
   "cell_type": "code",
   "execution_count": null,
   "metadata": {},
   "outputs": [],
   "source": [
    "w_L = paper.link_width"
   ]
  },
  {
   "cell_type": "code",
   "execution_count": null,
   "metadata": {},
   "outputs": [],
   "source": [
    "rhs = (-(d_theta_sim**2*w_L/2)).flatten() # THINK: Why no division here?"
   ]
  },
  {
   "cell_type": "markdown",
   "metadata": {},
   "source": [
    "#### Plot"
   ]
  },
  {
   "cell_type": "code",
   "execution_count": null,
   "metadata": {},
   "outputs": [],
   "source": [
    "plt.figure(figsize=(16, 16))\n",
    "plt.plot(times, lhs, label=\"LHS\", linewidth=lw, color='lightskyblue')\n",
    "plt.plot(times, rhs, label=\"RHS\", linewidth=lw, color='b', linestyle='--')\n",
    "plt.ylim(-80, 5)\n",
    "plt.legend()\n",
    "plt.xlabel(\"Time\")"
   ]
  },
  {
   "cell_type": "markdown",
   "metadata": {},
   "source": [
    "### $a_{LN} = a_{Nd}$"
   ]
  },
  {
   "cell_type": "markdown",
   "metadata": {},
   "source": [
    "#### LHS"
   ]
  },
  {
   "cell_type": "code",
   "execution_count": null,
   "metadata": {},
   "outputs": [],
   "source": [
    "N_hat_proj_mat = np.matmul(np.array(debug['N_hats']), np.transpose(np.array(debug['N_hats']), [0, 2, 1]))"
   ]
  },
  {
   "cell_type": "code",
   "execution_count": null,
   "metadata": {},
   "outputs": [],
   "source": [
    "N_hat_proj_mat.shape"
   ]
  },
  {
   "cell_type": "code",
   "execution_count": null,
   "metadata": {},
   "outputs": [],
   "source": [
    "a_link_N_component_sim_vec = np.matmul(N_hat_proj_mat, a_link)\n",
    "a_link_N_component_sim_mag = np.linalg.norm(a_link_N_component_sim_vec, axis=1)\n",
    "a_link_N_component_sim_sgn = np.sign(np.matmul(\n",
    "    np.transpose(np.array(debug['N_hats']), [0, 2, 1]),\n",
    "    a_link_N_component_sim_vec))\n",
    "a_link_N_component_sim = a_link_N_component_sim_mag.flatten()*a_link_N_component_sim_sgn.flatten()\n",
    "a_LN = a_link_N_component_sim"
   ]
  },
  {
   "cell_type": "code",
   "execution_count": null,
   "metadata": {},
   "outputs": [],
   "source": [
    "a_link_N_component_sim_mag.shape"
   ]
  },
  {
   "cell_type": "code",
   "execution_count": null,
   "metadata": {},
   "outputs": [],
   "source": [
    "a_link_N_component_sim_vec.shape"
   ]
  },
  {
   "cell_type": "code",
   "execution_count": null,
   "metadata": {},
   "outputs": [],
   "source": [
    "a_link_N_component_sim_sgn.shape"
   ]
  },
  {
   "cell_type": "code",
   "execution_count": null,
   "metadata": {},
   "outputs": [],
   "source": [
    "lhs = a_link_N_component_sim"
   ]
  },
  {
   "cell_type": "markdown",
   "metadata": {},
   "source": [
    "#### Supporting plots"
   ]
  },
  {
   "cell_type": "code",
   "execution_count": null,
   "metadata": {},
   "outputs": [],
   "source": [
    "mult_a_LN = np.multiply(np.expand_dims(a_link_N_component_sim, [1, 2]), np.array(debug['N_hats']))\n",
    "mult_a_LT = np.multiply(np.expand_dims(a_link_T_component_sim, [1, 2]), np.array(debug['T_hats']))\n",
    "mult_a_L = mult_a_LT + mult_a_LN"
   ]
  },
  {
   "cell_type": "code",
   "execution_count": null,
   "metadata": {},
   "outputs": [],
   "source": [
    "plt.figure(figsize=(16, 24))\n",
    "for i in range(3):\n",
    "    plt.subplot(3,1,i+1)\n",
    "    plt.plot(times, a_link_N_component_sim_vec[:,i]+a_link_T_component_sim_vec[:,i])\n",
    "    plt.plot(times, a_link[:,i])\n",
    "    plt.plot(times, mult_a_L[:,i])\n",
    "    plt.ylim(-50, 50)\n",
    "plt.show()"
   ]
  },
  {
   "cell_type": "code",
   "execution_count": null,
   "metadata": {},
   "outputs": [],
   "source": [
    "plt.figure(figsize=(16, 24))\n",
    "for i in range(3):\n",
    "    plt.subplot(3,1,i+1)\n",
    "    plt.plot(times, a_link_T_component_sim_vec[:,i])\n",
    "    plt.plot(times, mult_a_LT[:,i])\n",
    "    plt.ylim(-50, 50)\n",
    "plt.show()"
   ]
  },
  {
   "cell_type": "code",
   "execution_count": null,
   "metadata": {},
   "outputs": [],
   "source": [
    "plt.figure(figsize=(16, 24))\n",
    "for i in range(3):\n",
    "    plt.subplot(3,1,i+1)\n",
    "    plt.plot(times, a_link_N_component_sim_vec[:,i])\n",
    "    plt.plot(times, mult_a_LN[:,i])\n",
    "    plt.ylim(-50, 50)\n",
    "plt.show()"
   ]
  },
  {
   "cell_type": "markdown",
   "metadata": {},
   "source": [
    "#### RHS"
   ]
  },
  {
   "cell_type": "code",
   "execution_count": null,
   "metadata": {},
   "outputs": [],
   "source": [
    "a_Nd = finger_ctrlr.F_Nd/paper.link_mass"
   ]
  },
  {
   "cell_type": "code",
   "execution_count": null,
   "metadata": {},
   "outputs": [],
   "source": [
    "rhs = a_Nd\n",
    "rhs"
   ]
  },
  {
   "cell_type": "markdown",
   "metadata": {},
   "source": [
    "#### Plot"
   ]
  },
  {
   "cell_type": "code",
   "execution_count": null,
   "metadata": {},
   "outputs": [],
   "source": [
    "plt.figure(figsize=(16, 16))\n",
    "plt.plot(times, lhs, label=\"LHS\", linewidth=lw, color='lightskyblue')\n",
    "plt.axhline(rhs, label=\"RHS\", linewidth=lw, color='b', linestyle='--')\n",
    "plt.legend()\n",
    "plt.xlabel(\"Time\")\n",
    "plt.ylim(-50, 50)\n",
    "plt.show()"
   ]
  },
  {
   "cell_type": "markdown",
   "metadata": {},
   "source": [
    "### $a_{MT} = - \\frac{\\dot\\theta^2 w_{L}}{2}$"
   ]
  },
  {
   "cell_type": "markdown",
   "metadata": {},
   "source": [
    "#### LHS"
   ]
  },
  {
   "cell_type": "code",
   "execution_count": null,
   "metadata": {},
   "outputs": [],
   "source": [
    "a_man_T_component_sim_vec = np.matmul(T_hat_proj_mat, a_man)\n",
    "a_man_T_component_sim_mag = np.linalg.norm(a_man_T_component_sim_vec, axis=1)\n",
    "a_man_T_component_sim_sgn = np.sign(np.matmul(\n",
    "    np.transpose(np.array(debug['T_hats']), [0, 2, 1]),\n",
    "    a_man_T_component_sim_vec))\n",
    "a_man_T_component_sim = a_man_T_component_sim_mag.flatten()*a_man_T_component_sim_sgn.flatten()\n",
    "a_MT = a_man_T_component_sim"
   ]
  },
  {
   "cell_type": "code",
   "execution_count": null,
   "metadata": {},
   "outputs": [],
   "source": [
    "lhs = a_man_T_component_sim"
   ]
  },
  {
   "cell_type": "markdown",
   "metadata": {},
   "source": [
    "#### RHS"
   ]
  },
  {
   "cell_type": "code",
   "execution_count": null,
   "metadata": {},
   "outputs": [],
   "source": [
    "rhs = (-(d_theta_sim**2*w_L/2)).flatten() # THINK: Why no division here?"
   ]
  },
  {
   "cell_type": "markdown",
   "metadata": {},
   "source": [
    "#### Plot"
   ]
  },
  {
   "cell_type": "code",
   "execution_count": null,
   "metadata": {},
   "outputs": [],
   "source": [
    "plt.figure(figsize=(16, 16))\n",
    "# PROGRAMMING: Plot filtered LHS here\n",
    "plt.plot(times, lhs, label=\"LHS\", linewidth=lw, color='lightskyblue')\n",
    "plt.plot(times, rhs, label=\"RHS\", linewidth=lw, color='b', linestyle='--')\n",
    "plt.ylim(-80, 5)\n",
    "plt.legend()\n",
    "plt.xlabel(\"Time\")\n",
    "plt.show()"
   ]
  },
  {
   "cell_type": "markdown",
   "metadata": {},
   "source": [
    "### $a_{MN} = a_{Nd}$"
   ]
  },
  {
   "cell_type": "markdown",
   "metadata": {},
   "source": [
    "#### LHS"
   ]
  },
  {
   "cell_type": "code",
   "execution_count": null,
   "metadata": {},
   "outputs": [],
   "source": [
    "a_man_N_component_sim_vec = np.matmul(N_hat_proj_mat, a_man)\n",
    "a_man_N_component_sim_mag = np.linalg.norm(a_man_N_component_sim_vec, axis=1)\n",
    "a_man_N_component_sim_sgn = np.sign(np.matmul(\n",
    "    np.transpose(np.array(debug['N_hats']), [0, 2, 1]),\n",
    "    a_man_N_component_sim_vec))\n",
    "a_man_N_component_sim = a_man_N_component_sim_mag.flatten()*a_man_N_component_sim_sgn.flatten()\n",
    "a_MN = a_man_N_component_sim"
   ]
  },
  {
   "cell_type": "code",
   "execution_count": null,
   "metadata": {},
   "outputs": [],
   "source": [
    "lhs = a_man_N_component_sim"
   ]
  },
  {
   "cell_type": "markdown",
   "metadata": {},
   "source": [
    "#### RHS"
   ]
  },
  {
   "cell_type": "code",
   "execution_count": null,
   "metadata": {},
   "outputs": [],
   "source": [
    "rhs = a_Nd"
   ]
  },
  {
   "cell_type": "markdown",
   "metadata": {},
   "source": [
    "#### Plot"
   ]
  },
  {
   "cell_type": "code",
   "execution_count": null,
   "metadata": {},
   "outputs": [],
   "source": [
    "plt.figure(figsize=(16, 16))\n",
    "plt.plot(times, lhs, label=\"LHS\", linewidth=lw, color='lightskyblue')\n",
    "plt.axhline(rhs, label=\"RHS\", linewidth=lw, color='b', linestyle='--')\n",
    "plt.ylim(-100, 100)\n",
    "plt.legend()\n",
    "plt.xlabel(\"Time\")\n",
    "plt.show()"
   ]
  },
  {
   "cell_type": "markdown",
   "metadata": {},
   "source": [
    "### $\\ddot\\theta = \\frac{2 a_{Nd}}{w_{L}}$"
   ]
  },
  {
   "cell_type": "markdown",
   "metadata": {},
   "source": [
    "#### LHS"
   ]
  },
  {
   "cell_type": "code",
   "execution_count": null,
   "metadata": {},
   "outputs": [],
   "source": [
    "dd_theta_no_interp = logger.data()[log_wrapper.entries_per_body*paper.get_free_edge_idx() + 12 + 3,:]\n",
    "dd_theta_sim = scipy.interpolate.interp1d(logger.sample_times(), dd_theta_no_interp, axis=0)(times)\n",
    "dd_theta = dd_theta_sim"
   ]
  },
  {
   "cell_type": "code",
   "execution_count": null,
   "metadata": {},
   "outputs": [],
   "source": [
    "dd_theta"
   ]
  },
  {
   "cell_type": "code",
   "execution_count": null,
   "metadata": {},
   "outputs": [],
   "source": [
    "paper.link_idxs[-1]"
   ]
  },
  {
   "cell_type": "code",
   "execution_count": null,
   "metadata": {},
   "outputs": [],
   "source": [
    "paper.get_free_edge_idx()"
   ]
  },
  {
   "cell_type": "code",
   "execution_count": null,
   "metadata": {},
   "outputs": [],
   "source": [
    "lhs = dd_theta_sim"
   ]
  },
  {
   "cell_type": "markdown",
   "metadata": {},
   "source": [
    "#### RHS"
   ]
  },
  {
   "cell_type": "code",
   "execution_count": null,
   "metadata": {},
   "outputs": [],
   "source": [
    "rhs = 2*a_Nd/w_L"
   ]
  },
  {
   "cell_type": "markdown",
   "metadata": {},
   "source": [
    "#### Plot"
   ]
  },
  {
   "cell_type": "code",
   "execution_count": null,
   "metadata": {},
   "outputs": [],
   "source": [
    "plt.figure(figsize=(16, 16))\n",
    "plt.plot(times, lhs, label=\"LHS\", linewidth=lw, color='lightskyblue')\n",
    "plt.axhline(rhs, label=\"RHS\", linewidth=lw, color='b', linestyle='--')\n",
    "plt.ylim(-1000, 1000)\n",
    "plt.legend()\n",
    "plt.xlabel(\"Time\")\n",
    "plt.show()"
   ]
  },
  {
   "cell_type": "markdown",
   "metadata": {},
   "source": [
    "### $F_{OT} = - F_{GT} - \\frac{\\dot\\theta^2 m_{L} w_{L}}{2}$"
   ]
  },
  {
   "cell_type": "markdown",
   "metadata": {},
   "source": [
    "#### LHS"
   ]
  },
  {
   "cell_type": "code",
   "execution_count": null,
   "metadata": {},
   "outputs": [],
   "source": [
    "F_OT_component_sim = joint_force_T_scal.flatten()\n",
    "F_OT = F_OT_component_sim"
   ]
  },
  {
   "cell_type": "code",
   "execution_count": null,
   "metadata": {},
   "outputs": [],
   "source": [
    "lhs = F_OT_component_sim"
   ]
  },
  {
   "cell_type": "markdown",
   "metadata": {},
   "source": [
    "#### RHS"
   ]
  },
  {
   "cell_type": "code",
   "execution_count": null,
   "metadata": {},
   "outputs": [],
   "source": [
    "F_GT_exp = np.array(debug['F_GTs'])\n",
    "F_GT = F_GT_exp"
   ]
  },
  {
   "cell_type": "code",
   "execution_count": null,
   "metadata": {},
   "outputs": [],
   "source": [
    "m_L = paper.link_mass"
   ]
  },
  {
   "cell_type": "code",
   "execution_count": null,
   "metadata": {},
   "outputs": [],
   "source": [
    "rhs = -F_GT_exp-(d_theta_sim**2)*m_L*w_L/2"
   ]
  },
  {
   "cell_type": "markdown",
   "metadata": {},
   "source": [
    "#### Plot"
   ]
  },
  {
   "cell_type": "code",
   "execution_count": null,
   "metadata": {},
   "outputs": [],
   "source": [
    "plt.figure(figsize=(16, 16))\n",
    "plt.plot(times, rhs, label=\"RHS\", linewidth=lw, color='b', linestyle='--', zorder=1)\n",
    "ylims = plt.ylim()\n",
    "plt.plot(times, lhs, label=\"LHS\", linewidth=lw, color='lightskyblue', zorder=0)\n",
    "plt.ylim(ylims)\n",
    "plt.legend()\n",
    "plt.xlabel(\"Time\")\n",
    "plt.show()"
   ]
  },
  {
   "cell_type": "markdown",
   "metadata": {},
   "source": [
    "### $F_{ON} = -\\frac{2 F_{GN} r_{T} w_{L} - 4 I_{L} a_{Nd} - 2 a_{Nd} m_{L} r_{T} w_{L}}{2 r_{T} w_{L} + w_{L}^{2}}$"
   ]
  },
  {
   "cell_type": "markdown",
   "metadata": {},
   "source": [
    "#### LHS"
   ]
  },
  {
   "cell_type": "code",
   "execution_count": null,
   "metadata": {},
   "outputs": [],
   "source": [
    "F_ON_component_sim = joint_force_N_scal.flatten()\n",
    "F_ON = F_ON_component_sim"
   ]
  },
  {
   "cell_type": "markdown",
   "metadata": {},
   "source": [
    "#### RHS"
   ]
  },
  {
   "cell_type": "code",
   "execution_count": null,
   "metadata": {},
   "outputs": [],
   "source": [
    "F_GN_component = np.array(debug['F_GNs'])"
   ]
  },
  {
   "cell_type": "code",
   "execution_count": null,
   "metadata": {},
   "outputs": [],
   "source": [
    "I_L = paper.plant.get_body(\n",
    "    BodyIndex(paper.get_free_edge_idx())).default_rotational_inertia().CalcPrincipalMomentsOfInertia()[0]"
   ]
  },
  {
   "cell_type": "code",
   "execution_count": null,
   "metadata": {},
   "outputs": [],
   "source": [
    "p_contact_no_interp = np.expand_dims(\n",
    "    logger.data()[log_wrapper.contact_entry_start_idx+5:log_wrapper.contact_entry_start_idx+8,:].T,\n",
    "    2)\n",
    "p_contact = scipy.interpolate.interp1d(logger.sample_times(), p_contact_no_interp, axis=0)(times)"
   ]
  },
  {
   "cell_type": "code",
   "execution_count": null,
   "metadata": {},
   "outputs": [],
   "source": [
    "p_link_no_interp = np.expand_dims(\n",
    "    logger.data()[log_wrapper.entries_per_body*paper.get_free_edge_idx():\n",
    "                  log_wrapper.entries_per_body*paper.get_free_edge_idx()+3].T,\n",
    "    2)\n",
    "p_link = scipy.interpolate.interp1d(logger.sample_times(), p_link_no_interp, axis=0)(times)"
   ]
  },
  {
   "cell_type": "code",
   "execution_count": null,
   "metadata": {},
   "outputs": [],
   "source": [
    "p_link_contact = p_contact - p_link\n",
    "p_link_contact_T_vec = np.matmul(T_hat_proj_mat, p_link_contact)\n",
    "p_link_contact_T_mag = np.linalg.norm(p_link_contact_T_vec, axis=1)\n",
    "p_link_contact_T_sgn = np.sign(np.matmul(\n",
    "    np.transpose(np.array(debug['T_hats']), [0, 2, 1]),\n",
    "    p_link_contact_T_vec))\n",
    "r_T_sim = p_link_contact_T_mag.flatten()*p_link_contact_T_sgn.flatten()\n",
    "r_T = r_T_sim"
   ]
  },
  {
   "cell_type": "code",
   "execution_count": null,
   "metadata": {},
   "outputs": [],
   "source": [
    "rhs = -(2*F_GN_component*r_T_sim*w_L - 4*I_L*a_Nd - 2*a_Nd*m_L*r_T_sim*w_L)/(2*r_T_sim*w_L + w_L**2)"
   ]
  },
  {
   "cell_type": "markdown",
   "metadata": {},
   "source": [
    "#### Plot"
   ]
  },
  {
   "cell_type": "code",
   "execution_count": null,
   "metadata": {},
   "outputs": [],
   "source": [
    "plt.figure(figsize=(16, 16))\n",
    "plt.plot(times, rhs, label=\"RHS\", linewidth=lw, color='b', linestyle='--', zorder=1)\n",
    "ylims = plt.ylim()\n",
    "plt.plot(times, lhs, label=\"LHS\", linewidth=lw, color='lightskyblue', zorder=0)\n",
    "# plt.ylim(ylims)\n",
    "plt.legend()\n",
    "plt.xlabel(\"Time\")\n",
    "plt.show()"
   ]
  },
  {
   "cell_type": "markdown",
   "metadata": {},
   "source": [
    "### $F_{CT} = - \\frac{\\dot\\theta^2 m_{M} w_{L}}{2}$"
   ]
  },
  {
   "cell_type": "markdown",
   "metadata": {},
   "source": [
    "#### LHS"
   ]
  },
  {
   "cell_type": "code",
   "execution_count": null,
   "metadata": {},
   "outputs": [],
   "source": [
    "F_CT = np.array(debug['F_CTs'])"
   ]
  },
  {
   "cell_type": "code",
   "execution_count": null,
   "metadata": {},
   "outputs": [],
   "source": [
    "lhs = F_CT"
   ]
  },
  {
   "cell_type": "markdown",
   "metadata": {},
   "source": [
    "#### RHS"
   ]
  },
  {
   "cell_type": "code",
   "execution_count": null,
   "metadata": {},
   "outputs": [],
   "source": [
    "m_M = constants.FINGER_MASS"
   ]
  },
  {
   "cell_type": "code",
   "execution_count": null,
   "metadata": {},
   "outputs": [],
   "source": [
    "rhs = -(d_theta**2)*m_M*w_L/2"
   ]
  },
  {
   "cell_type": "markdown",
   "metadata": {},
   "source": [
    "#### Plot"
   ]
  },
  {
   "cell_type": "code",
   "execution_count": null,
   "metadata": {},
   "outputs": [],
   "source": [
    "plt.figure(figsize=(16, 16))\n",
    "plt.plot(times, rhs, label=\"RHS\", linewidth=lw, color='b', linestyle='--', zorder=1)\n",
    "ylims = plt.ylim()\n",
    "plt.plot(times, lhs, label=\"LHS\", linewidth=lw, color='lightskyblue', zorder=0)\n",
    "plt.ylim(ylims)\n",
    "plt.legend()\n",
    "plt.xlabel(\"Time\")\n",
    "plt.show()"
   ]
  },
  {
   "cell_type": "markdown",
   "metadata": {},
   "source": [
    "### $F_{CN} = - \\frac{F_{GN} w_{L}^{2} + 4 I_{L} a_{Nd} - a_{Nd} m_{L} w_{L}^{2} - 2 a_{Nd} m_{M} r_{T} w_{L} - a_{Nd} m_{M} w_{L}^{2}}{2 r_{T} w_{L} + w_{L}^{2}}$"
   ]
  },
  {
   "cell_type": "markdown",
   "metadata": {},
   "source": [
    "#### LHS"
   ]
  },
  {
   "cell_type": "code",
   "execution_count": null,
   "metadata": {},
   "outputs": [],
   "source": [
    "F_CN = np.array(debug['F_CNs'])"
   ]
  },
  {
   "cell_type": "code",
   "execution_count": null,
   "metadata": {},
   "outputs": [],
   "source": [
    "lhs = F_CN"
   ]
  },
  {
   "cell_type": "markdown",
   "metadata": {},
   "source": [
    "#### RHS"
   ]
  },
  {
   "cell_type": "code",
   "execution_count": null,
   "metadata": {},
   "outputs": [],
   "source": [
    "F_GN = np.array(debug['F_GNs'])"
   ]
  },
  {
   "cell_type": "code",
   "execution_count": null,
   "metadata": {},
   "outputs": [],
   "source": [
    "rhs = -(F_GN*w_L**2 + 4*I_L*a_Nd - a_Nd*m_L*w_L**2 - 2*a_Nd*m_M*r_T*w_L - a_Nd*m_M*w_L**2)/(2*r_T*w_L + w_L**2)"
   ]
  },
  {
   "cell_type": "markdown",
   "metadata": {},
   "source": [
    "#### Plot"
   ]
  },
  {
   "cell_type": "code",
   "execution_count": null,
   "metadata": {},
   "outputs": [],
   "source": [
    "plt.figure(figsize=(16, 16))\n",
    "plt.plot(times, rhs, label=\"RHS\", linewidth=lw, color='b', linestyle='--', zorder=1)\n",
    "ylims = plt.ylim()\n",
    "plt.plot(times, lhs, label=\"LHS\", linewidth=lw, color='lightskyblue', zorder=0)\n",
    "plt.ylim(ylims)\n",
    "plt.legend()\n",
    "plt.xlabel(\"Time\")\n",
    "plt.show()"
   ]
  },
  {
   "cell_type": "markdown",
   "metadata": {},
   "source": [
    "### $F_{NL} = - \\frac{F_{GN} w_{L}^{2} + 4 I_{L} a_{Nd} - a_{Nd} m_{L} w_{L}^{2}}{2 r_{T} w_{L} + w_{L}^{2}}$"
   ]
  },
  {
   "cell_type": "markdown",
   "metadata": {},
   "source": [
    "#### LHS"
   ]
  },
  {
   "cell_type": "code",
   "execution_count": null,
   "metadata": {},
   "outputs": [],
   "source": [
    "F_NL_vec = -F_NM_sim\n",
    "F_NL_mag = np.linalg.norm(F_NL_vec, axis=1)\n",
    "F_NL_sgn = np.sign(np.matmul(\n",
    "    np.transpose(n_hats_sim, [0, 2, 1]),\n",
    "    F_NL_vec))\n",
    "F_NL = F_NL_mag.flatten()*F_NL_sgn.flatten()"
   ]
  },
  {
   "cell_type": "code",
   "execution_count": null,
   "metadata": {},
   "outputs": [],
   "source": [
    "lhs = F_NL"
   ]
  },
  {
   "cell_type": "markdown",
   "metadata": {},
   "source": [
    "#### RHS"
   ]
  },
  {
   "cell_type": "code",
   "execution_count": null,
   "metadata": {},
   "outputs": [],
   "source": [
    "rhs = -(F_GN*w_L**2 + 4*I_L*a_Nd - a_Nd*m_L*w_L**2)/(2*r_T*w_L + w_L**2)"
   ]
  },
  {
   "cell_type": "markdown",
   "metadata": {},
   "source": [
    "#### Plot"
   ]
  },
  {
   "cell_type": "code",
   "execution_count": null,
   "metadata": {},
   "outputs": [],
   "source": [
    "plt.figure(figsize=(16, 16))\n",
    "plt.plot(times, rhs, label=\"RHS\", linewidth=lw, color='b', linestyle='--', zorder=1)\n",
    "ylims = plt.ylim()\n",
    "plt.plot(times, lhs, label=\"LHS\", linewidth=lw, color='lightskyblue', zorder=0)\n",
    "plt.ylim(ylims)\n",
    "plt.legend()\n",
    "plt.xlabel(\"Time\")\n",
    "plt.show()"
   ]
  },
  {
   "cell_type": "markdown",
   "metadata": {},
   "source": [
    "### $F_{FL} = 0$"
   ]
  },
  {
   "cell_type": "markdown",
   "metadata": {},
   "source": [
    "#### LHS"
   ]
  },
  {
   "cell_type": "code",
   "execution_count": null,
   "metadata": {},
   "outputs": [],
   "source": [
    "# PROGRAMMING: Implement better way to get t hat projects from the sim with roation matrices\n",
    "F_FL_vec = -F_FM_sim\n",
    "F_FL_mag = np.linalg.norm(F_FL_vec, axis=1)\n",
    "F_FL_sgn = np.sign(np.matmul(\n",
    "    np.transpose(np.array(debug['T_hats']), [0, 2, 1]),\n",
    "    F_FL_vec))\n",
    "F_FL = F_FL_mag.flatten()*F_FL_sgn.flatten()"
   ]
  },
  {
   "cell_type": "code",
   "execution_count": null,
   "metadata": {},
   "outputs": [],
   "source": [
    "lhs = F_FL"
   ]
  },
  {
   "cell_type": "markdown",
   "metadata": {},
   "source": [
    "#### RHS"
   ]
  },
  {
   "cell_type": "code",
   "execution_count": null,
   "metadata": {},
   "outputs": [],
   "source": [
    "rhs = 0"
   ]
  },
  {
   "cell_type": "markdown",
   "metadata": {},
   "source": [
    "#### Plot"
   ]
  },
  {
   "cell_type": "code",
   "execution_count": null,
   "metadata": {},
   "outputs": [],
   "source": [
    "plt.figure(figsize=(16, 16))\n",
    "plt.plot(times, lhs, label=\"LHS\", linewidth=lw, color='lightskyblue')\n",
    "plt.axhline(rhs, label=\"RHS\", linewidth=lw, color='b', linestyle='--')\n",
    "plt.legend()\n",
    "plt.xlabel(\"Time\")\n",
    "plt.ylim(-0.1, 0.1)\n",
    "plt.show()"
   ]
  },
  {
   "cell_type": "markdown",
   "metadata": {},
   "source": [
    "### $F_{NM} = \\frac{F_{GN} w_{L}^{2} + 4 I_{L} a_{Nd} - a_{Nd} m_{L} w_{L}^{2}}{2 r_{T} w_{L} + w_{L}^{2}}$"
   ]
  },
  {
   "cell_type": "markdown",
   "metadata": {},
   "source": [
    "#### LHS"
   ]
  },
  {
   "cell_type": "code",
   "execution_count": null,
   "metadata": {},
   "outputs": [],
   "source": [
    "F_NM = -F_NL"
   ]
  },
  {
   "cell_type": "code",
   "execution_count": null,
   "metadata": {},
   "outputs": [],
   "source": [
    "lhs = F_NM"
   ]
  },
  {
   "cell_type": "markdown",
   "metadata": {},
   "source": [
    "#### RHS"
   ]
  },
  {
   "cell_type": "code",
   "execution_count": null,
   "metadata": {},
   "outputs": [],
   "source": [
    "rhs = (F_GN*w_L**2 + 4*I_L*a_Nd - a_Nd*m_L*w_L**2)/(2*r_T*w_L + w_L**2)"
   ]
  },
  {
   "cell_type": "markdown",
   "metadata": {},
   "source": [
    "#### Plot"
   ]
  },
  {
   "cell_type": "code",
   "execution_count": null,
   "metadata": {},
   "outputs": [],
   "source": [
    "plt.figure(figsize=(16, 16))\n",
    "plt.plot(times, rhs, label=\"RHS\", linewidth=lw, color='b', linestyle='--', zorder=1)\n",
    "ylims = plt.ylim()\n",
    "plt.plot(times, lhs, label=\"LHS\", linewidth=lw, color='lightskyblue', zorder=0)\n",
    "plt.ylim(ylims)\n",
    "plt.legend()\n",
    "plt.xlabel(\"Time\")\n",
    "plt.show()"
   ]
  },
  {
   "cell_type": "markdown",
   "metadata": {},
   "source": [
    "### $F_{FM} = 0$"
   ]
  },
  {
   "cell_type": "markdown",
   "metadata": {},
   "source": [
    "#### LHS"
   ]
  },
  {
   "cell_type": "code",
   "execution_count": null,
   "metadata": {},
   "outputs": [],
   "source": [
    "F_FM = -F_FL"
   ]
  },
  {
   "cell_type": "code",
   "execution_count": null,
   "metadata": {},
   "outputs": [],
   "source": [
    "lhs = -F_FM"
   ]
  },
  {
   "cell_type": "markdown",
   "metadata": {},
   "source": [
    "#### RHS"
   ]
  },
  {
   "cell_type": "code",
   "execution_count": null,
   "metadata": {},
   "outputs": [],
   "source": [
    "rhs = 0"
   ]
  },
  {
   "cell_type": "markdown",
   "metadata": {},
   "source": [
    "#### Plot"
   ]
  },
  {
   "cell_type": "code",
   "execution_count": null,
   "metadata": {},
   "outputs": [],
   "source": [
    "plt.figure(figsize=(16, 16))\n",
    "plt.plot(times, lhs, label=\"LHS\", linewidth=lw, color='lightskyblue')\n",
    "plt.axhline(rhs, label=\"RHS\", linewidth=lw, color='b', linestyle='--')\n",
    "plt.legend()\n",
    "plt.xlabel(\"Time\")\n",
    "plt.ylim(-0.1, 0.1)\n",
    "plt.show()"
   ]
  },
  {
   "cell_type": "markdown",
   "metadata": {},
   "source": [
    "## Original equation plots\n",
    "Original equations:\n",
    "$$\n",
    "\\begin{aligned}\n",
    "    m_La_{LT} &= F_{FL} + F_{GT} +F_{OT} \\\\\n",
    "    m_La_{LN} &= F_{NL} + F_{GN} +F_{ON} \\\\\n",
    "    m_Ma_{MT} &= F_{FM} + F_{CT} \\\\\n",
    "    m_Ma_{MN} &= F_{NM} + F_{CN} \\\\\n",
    "    a_{LT} &= a_{MT} \\\\\n",
    "    a_{LN} &= a_{MN} \\\\\n",
    "    a_{LT} &= -\\frac{w_L}{2}\\dot\\theta^2 \\\\\n",
    "    a_{LN} &= \\frac{w_L}{2}\\ddot\\theta \\\\\n",
    "    I_L\\ddot\\theta &= \\frac{w_L}{2}F_{ON}- \\frac{h_L}{2}F_{FL} - r_TF_{NL} \\\\\n",
    "    F_{NL} &= -F_{NM} \\\\\n",
    "    F_{FL} &= -F_{FM} \\\\\n",
    "    a_{NL} &= a_{Nd}  \\\\\n",
    "    F_{FL} &= 0\n",
    "\\end{aligned}\n",
    "$$"
   ]
  },
  {
   "cell_type": "markdown",
   "metadata": {},
   "source": [
    "### $m_La_{LT} = F_{FL} + F_{GT} +F_{OT}$"
   ]
  },
  {
   "cell_type": "markdown",
   "metadata": {},
   "source": [
    "#### LHS"
   ]
  },
  {
   "cell_type": "code",
   "execution_count": null,
   "metadata": {},
   "outputs": [],
   "source": [
    "lhs = m_L*a_LT"
   ]
  },
  {
   "cell_type": "markdown",
   "metadata": {},
   "source": [
    "#### RHS"
   ]
  },
  {
   "cell_type": "code",
   "execution_count": null,
   "metadata": {},
   "outputs": [],
   "source": [
    "rhs = F_FL+F_GT+F_OT"
   ]
  },
  {
   "cell_type": "markdown",
   "metadata": {},
   "source": [
    "#### Plot"
   ]
  },
  {
   "cell_type": "code",
   "execution_count": null,
   "metadata": {},
   "outputs": [],
   "source": [
    "plt.figure(figsize=(16, 16))\n",
    "plt.plot(times, lhs, label=\"LHS\", linewidth=lw, color='lightskyblue', zorder=0)\n",
    "plt.plot(times, rhs, label=\"RHS\", linewidth=lw, color='b', linestyle='--', zorder=1)\n",
    "plt.ylim(-10, 10)\n",
    "plt.legend()\n",
    "plt.xlabel(\"Time\")\n",
    "plt.show()"
   ]
  },
  {
   "cell_type": "markdown",
   "metadata": {},
   "source": [
    "### $m_La_{LN} = F_{NL} + F_{GN} +F_{ON}$"
   ]
  },
  {
   "cell_type": "markdown",
   "metadata": {},
   "source": [
    "#### LHS"
   ]
  },
  {
   "cell_type": "code",
   "execution_count": null,
   "metadata": {},
   "outputs": [],
   "source": [
    "lhs = m_L*a_LN"
   ]
  },
  {
   "cell_type": "markdown",
   "metadata": {},
   "source": [
    "#### RHS"
   ]
  },
  {
   "cell_type": "code",
   "execution_count": null,
   "metadata": {},
   "outputs": [],
   "source": [
    "rhs = F_NL + F_GN + F_ON"
   ]
  },
  {
   "cell_type": "markdown",
   "metadata": {},
   "source": [
    "#### Plot"
   ]
  },
  {
   "cell_type": "code",
   "execution_count": null,
   "metadata": {},
   "outputs": [],
   "source": [
    "plt.figure(figsize=(16, 16))\n",
    "plt.plot(times, lhs, label=\"LHS\", linewidth=lw, color='lightskyblue', zorder=0)\n",
    "plt.plot(times, rhs, label=\"RHS\", linewidth=lw, color='b', linestyle='--', zorder=1)\n",
    "plt.ylim(-2, 5)\n",
    "plt.legend()\n",
    "plt.xlabel(\"Time\")\n",
    "plt.show()"
   ]
  },
  {
   "cell_type": "markdown",
   "metadata": {},
   "source": [
    "### $m_Ma_{MT} = F_{FM} + F_{CT}$"
   ]
  },
  {
   "cell_type": "markdown",
   "metadata": {},
   "source": [
    "#### LHS"
   ]
  },
  {
   "cell_type": "code",
   "execution_count": null,
   "metadata": {},
   "outputs": [],
   "source": [
    "lhs = m_M*a_MT"
   ]
  },
  {
   "cell_type": "markdown",
   "metadata": {},
   "source": [
    "#### RHS"
   ]
  },
  {
   "cell_type": "code",
   "execution_count": null,
   "metadata": {},
   "outputs": [],
   "source": [
    "rhs = F_FM + F_CT"
   ]
  },
  {
   "cell_type": "markdown",
   "metadata": {},
   "source": [
    "#### Plot"
   ]
  },
  {
   "cell_type": "code",
   "execution_count": null,
   "metadata": {},
   "outputs": [],
   "source": [
    "plt.figure(figsize=(16, 16))\n",
    "plt.plot(times, lhs, label=\"LHS\", linewidth=lw, color='lightskyblue', zorder=0)\n",
    "plt.plot(times, rhs, label=\"RHS\", linewidth=lw, color='b', linestyle='--', zorder=1)\n",
    "plt.ylim(-0.3, 0.05)\n",
    "plt.legend()\n",
    "plt.xlabel(\"Time\")\n",
    "plt.show()"
   ]
  },
  {
   "cell_type": "markdown",
   "metadata": {},
   "source": [
    "### $m_Ma_{MN} = F_{NM} + F_{CN}$"
   ]
  },
  {
   "cell_type": "markdown",
   "metadata": {},
   "source": [
    "#### LHS"
   ]
  },
  {
   "cell_type": "code",
   "execution_count": null,
   "metadata": {},
   "outputs": [],
   "source": [
    "lhs = m_M*a_MN"
   ]
  },
  {
   "cell_type": "markdown",
   "metadata": {},
   "source": [
    "#### RHS"
   ]
  },
  {
   "cell_type": "code",
   "execution_count": null,
   "metadata": {},
   "outputs": [],
   "source": [
    "rhs = F_NM+F_CN"
   ]
  },
  {
   "cell_type": "markdown",
   "metadata": {},
   "source": [
    "#### Plot"
   ]
  },
  {
   "cell_type": "code",
   "execution_count": null,
   "metadata": {},
   "outputs": [],
   "source": [
    "plt.figure(figsize=(16, 16))\n",
    "plt.plot(times, lhs, label=\"LHS\", linewidth=lw, color='lightskyblue', zorder=0)\n",
    "plt.plot(times, rhs, label=\"RHS\", linewidth=lw, color='b', linestyle='--', zorder=1)\n",
    "plt.ylim(-0.1, 0.1)\n",
    "plt.legend()\n",
    "plt.xlabel(\"Time\")\n",
    "plt.show()"
   ]
  },
  {
   "cell_type": "markdown",
   "metadata": {},
   "source": [
    "### $a_{LT} = a_{MT}$"
   ]
  },
  {
   "cell_type": "markdown",
   "metadata": {},
   "source": [
    "#### LHS"
   ]
  },
  {
   "cell_type": "code",
   "execution_count": null,
   "metadata": {},
   "outputs": [],
   "source": [
    "lhs = a_LT"
   ]
  },
  {
   "cell_type": "markdown",
   "metadata": {},
   "source": [
    "#### RHS"
   ]
  },
  {
   "cell_type": "code",
   "execution_count": null,
   "metadata": {},
   "outputs": [],
   "source": [
    "rhs = a_MT"
   ]
  },
  {
   "cell_type": "markdown",
   "metadata": {},
   "source": [
    "#### Plot"
   ]
  },
  {
   "cell_type": "code",
   "execution_count": null,
   "metadata": {},
   "outputs": [],
   "source": [
    "plt.figure(figsize=(16, 16))\n",
    "plt.plot(times, lhs, label=\"LHS\", linewidth=lw, color='lightskyblue', zorder=0)\n",
    "plt.plot(times, rhs, label=\"RHS\", linewidth=lw, color='b', linestyle='--', zorder=1)\n",
    "plt.ylim(-100, 1)\n",
    "plt.legend()\n",
    "plt.xlabel(\"Time\")\n",
    "plt.show()"
   ]
  },
  {
   "cell_type": "markdown",
   "metadata": {},
   "source": [
    "### $a_{LN} = a_{MN}$"
   ]
  },
  {
   "cell_type": "markdown",
   "metadata": {},
   "source": [
    "#### LHS"
   ]
  },
  {
   "cell_type": "code",
   "execution_count": null,
   "metadata": {},
   "outputs": [],
   "source": [
    "lhs = a_LN"
   ]
  },
  {
   "cell_type": "markdown",
   "metadata": {},
   "source": [
    "#### RHS"
   ]
  },
  {
   "cell_type": "code",
   "execution_count": null,
   "metadata": {},
   "outputs": [],
   "source": [
    "rhs = a_MN"
   ]
  },
  {
   "cell_type": "markdown",
   "metadata": {},
   "source": [
    "#### Plot"
   ]
  },
  {
   "cell_type": "code",
   "execution_count": null,
   "metadata": {},
   "outputs": [],
   "source": [
    "plt.figure(figsize=(16, 16))\n",
    "plt.plot(times, lhs, label=\"LHS\", linewidth=lw, color='lightskyblue', zorder=0)\n",
    "plt.plot(times, rhs, label=\"RHS\", linewidth=lw, color='b', linestyle='--', zorder=1)\n",
    "plt.ylim(-10, 20)\n",
    "plt.legend()\n",
    "plt.xlabel(\"Time\")\n",
    "plt.show()"
   ]
  },
  {
   "cell_type": "markdown",
   "metadata": {},
   "source": [
    "#### Supporting plot"
   ]
  },
  {
   "cell_type": "code",
   "execution_count": null,
   "metadata": {},
   "outputs": [],
   "source": [
    "plt.figure(figsize=(16, 16))\n",
    "lw = 5\n",
    "plt.plot(times, a_link[:, 0,:], label='$a_{Lx}$', color='pink', linewidth=lw)\n",
    "plt.plot(times, a_link[:, 1,:], label='$a_{Ly}$', color='lightgreen', linewidth=lw)\n",
    "plt.plot(times, a_link[:, 2,:], label='$a_{Lz}$', color='lightskyblue', linewidth=lw)\n",
    "plt.plot(times, a_man[:,0,:], '--', label='$a_{Mx}$', color='red', linewidth=lw)\n",
    "plt.plot(times, a_man[:,1,:], '--', label='$a_{My}$', color='green', linewidth=lw)\n",
    "plt.plot(times, a_man[:,2,:], '--', label='$a_{Mz}$', color='blue', linewidth=lw)\n",
    "plt.xlabel(\"Time (seconds)\")\n",
    "plt.ylim(-50, 50)\n",
    "plt.legend()\n",
    "plt.show()"
   ]
  },
  {
   "cell_type": "markdown",
   "metadata": {},
   "source": [
    "### $a_{LT} = -\\frac{w_L}{2}\\dot\\theta^2$"
   ]
  },
  {
   "cell_type": "markdown",
   "metadata": {},
   "source": [
    "#### LHS"
   ]
  },
  {
   "cell_type": "code",
   "execution_count": null,
   "metadata": {},
   "outputs": [],
   "source": [
    "lhs = a_LT"
   ]
  },
  {
   "cell_type": "markdown",
   "metadata": {},
   "source": [
    "#### RHS"
   ]
  },
  {
   "cell_type": "code",
   "execution_count": null,
   "metadata": {},
   "outputs": [],
   "source": [
    "rhs = -(w_L/2)*d_theta**2"
   ]
  },
  {
   "cell_type": "markdown",
   "metadata": {},
   "source": [
    "#### Plot"
   ]
  },
  {
   "cell_type": "code",
   "execution_count": null,
   "metadata": {},
   "outputs": [],
   "source": [
    "plt.figure(figsize=(16, 16))\n",
    "plt.plot(times, lhs, label=\"LHS\", linewidth=lw, color='lightskyblue', zorder=0)\n",
    "plt.plot(times, rhs, label=\"RHS\", linewidth=lw, color='b', linestyle='--', zorder=1)\n",
    "plt.ylim(-70, 2)\n",
    "plt.legend()\n",
    "plt.xlabel(\"Time\")\n",
    "plt.show()"
   ]
  },
  {
   "cell_type": "markdown",
   "metadata": {},
   "source": [
    "### $a_{LN} = \\frac{w_L}{2}\\ddot\\theta$"
   ]
  },
  {
   "cell_type": "markdown",
   "metadata": {},
   "source": [
    "#### LHS"
   ]
  },
  {
   "cell_type": "code",
   "execution_count": null,
   "metadata": {},
   "outputs": [],
   "source": [
    "lhs = a_LN"
   ]
  },
  {
   "cell_type": "markdown",
   "metadata": {},
   "source": [
    "#### RHS"
   ]
  },
  {
   "cell_type": "code",
   "execution_count": null,
   "metadata": {},
   "outputs": [],
   "source": [
    "rhs = dd_theta*w_L/2"
   ]
  },
  {
   "cell_type": "code",
   "execution_count": null,
   "metadata": {},
   "outputs": [],
   "source": []
  },
  {
   "cell_type": "markdown",
   "metadata": {},
   "source": [
    "#### Plot"
   ]
  },
  {
   "cell_type": "code",
   "execution_count": null,
   "metadata": {},
   "outputs": [],
   "source": [
    "plt.figure(figsize=(16, 16))\n",
    "plt.plot(times, lhs, label=\"LHS\", linewidth=lw, color='lightskyblue', zorder=0)\n",
    "plt.plot(times, rhs, label=\"RHS\", linewidth=lw, color='b', linestyle='--', zorder=1)\n",
    "\n",
    "plt.ylim(-10, 20)\n",
    "plt.legend()\n",
    "plt.xlabel(\"Time\")\n",
    "plt.show()"
   ]
  },
  {
   "cell_type": "markdown",
   "metadata": {},
   "source": [
    "#### Supporting plot"
   ]
  },
  {
   "cell_type": "code",
   "execution_count": null,
   "metadata": {},
   "outputs": [],
   "source": [
    "a_LE_jnt = np.linalg.norm(F_LE_jnt_N, axis=1)/m_L\n",
    "a_LE_jnt.shape"
   ]
  },
  {
   "cell_type": "code",
   "execution_count": null,
   "metadata": {},
   "outputs": [],
   "source": [
    "a_LE_jnt.shape"
   ]
  },
  {
   "cell_type": "code",
   "execution_count": null,
   "metadata": {},
   "outputs": [],
   "source": [
    "plt.figure(figsize=(16, 16))\n",
    "plt.plot(times, np.abs(lhs), label=\"LHS\", linewidth=lw, color='lightskyblue', zorder=0)\n",
    "plt.plot(times, np.abs(rhs), label=\"RHS\", linewidth=lw, color='b', linestyle='--', zorder=1)\n",
    "plt.plot(times, a_LE_jnt.flatten(), label=\"From original F_LE_jnt calc\", linewidth=lw)\n",
    "\n",
    "plt.ylim(-10, 20)\n",
    "plt.legend()\n",
    "plt.xlabel(\"Time\")\n",
    "plt.show()"
   ]
  },
  {
   "cell_type": "markdown",
   "metadata": {},
   "source": [
    "### $I_L\\ddot\\theta = \\frac{w_L}{2}F_{ON}- \\frac{h_L}{2}F_{FL} - r_TF_{NL}$"
   ]
  },
  {
   "cell_type": "markdown",
   "metadata": {},
   "source": [
    "#### LHS"
   ]
  },
  {
   "cell_type": "code",
   "execution_count": null,
   "metadata": {},
   "outputs": [],
   "source": [
    "lhs = I_L*dd_theta"
   ]
  },
  {
   "cell_type": "markdown",
   "metadata": {},
   "source": [
    "#### RHS"
   ]
  },
  {
   "cell_type": "code",
   "execution_count": null,
   "metadata": {},
   "outputs": [],
   "source": [
    "h_L = paper.height"
   ]
  },
  {
   "cell_type": "code",
   "execution_count": null,
   "metadata": {},
   "outputs": [],
   "source": [
    "rhs = F_ON*w_L/2-h_L*F_FL/2-r_T*F_NL"
   ]
  },
  {
   "cell_type": "markdown",
   "metadata": {},
   "source": [
    "#### Plot"
   ]
  },
  {
   "cell_type": "code",
   "execution_count": null,
   "metadata": {},
   "outputs": [],
   "source": [
    "plt.figure(figsize=(16, 16))\n",
    "plt.plot(times, lhs, label=\"LHS\", linewidth=lw, color='lightskyblue', zorder=0)\n",
    "plt.plot(times, rhs, label=\"RHS\", linewidth=lw, color='b', linestyle='--', zorder=1)\n",
    "plt.ylim(-0.5, 0.5)\n",
    "plt.legend()\n",
    "plt.xlabel(\"Time\")\n",
    "plt.show()"
   ]
  },
  {
   "cell_type": "markdown",
   "metadata": {},
   "source": [
    "### $F_{NL} = -F_{NM}$"
   ]
  },
  {
   "cell_type": "markdown",
   "metadata": {},
   "source": [
    "#### LHS"
   ]
  },
  {
   "cell_type": "code",
   "execution_count": null,
   "metadata": {},
   "outputs": [],
   "source": [
    "lhs = F_NL"
   ]
  },
  {
   "cell_type": "markdown",
   "metadata": {},
   "source": [
    "#### RHS"
   ]
  },
  {
   "cell_type": "code",
   "execution_count": null,
   "metadata": {},
   "outputs": [],
   "source": [
    "rhs = -F_NM"
   ]
  },
  {
   "cell_type": "markdown",
   "metadata": {},
   "source": [
    "#### Plot"
   ]
  },
  {
   "cell_type": "code",
   "execution_count": null,
   "metadata": {},
   "outputs": [],
   "source": [
    "plt.figure(figsize=(16, 16))\n",
    "plt.plot(times, lhs, label=\"LHS\", linewidth=lw, color='lightskyblue', zorder=0)\n",
    "plt.plot(times, rhs, label=\"RHS\", linewidth=lw, color='b', linestyle='--', zorder=1)\n",
    "plt.ylim(0, 2)\n",
    "plt.legend()\n",
    "plt.xlabel(\"Time\")\n",
    "plt.show()"
   ]
  },
  {
   "cell_type": "markdown",
   "metadata": {},
   "source": [
    "### $F_{FL} = -F_{FM}$"
   ]
  },
  {
   "cell_type": "markdown",
   "metadata": {},
   "source": [
    "#### LHS"
   ]
  },
  {
   "cell_type": "code",
   "execution_count": null,
   "metadata": {},
   "outputs": [],
   "source": [
    "lhs = F_FL"
   ]
  },
  {
   "cell_type": "markdown",
   "metadata": {},
   "source": [
    "#### RHS"
   ]
  },
  {
   "cell_type": "code",
   "execution_count": null,
   "metadata": {},
   "outputs": [],
   "source": [
    "rhs = -F_FM"
   ]
  },
  {
   "cell_type": "markdown",
   "metadata": {},
   "source": [
    "#### Plot"
   ]
  },
  {
   "cell_type": "code",
   "execution_count": null,
   "metadata": {},
   "outputs": [],
   "source": [
    "plt.figure(figsize=(16, 16))\n",
    "plt.plot(times, lhs, label=\"LHS\", linewidth=lw, color='lightskyblue', zorder=0)\n",
    "plt.plot(times, rhs, label=\"RHS\", linewidth=lw, color='b', linestyle='--', zorder=1)\n",
    "plt.ylim(-0.1, 0.1)\n",
    "plt.legend()\n",
    "plt.xlabel(\"Time\")\n",
    "plt.show()"
   ]
  },
  {
   "cell_type": "markdown",
   "metadata": {},
   "source": [
    "### $a_{LN} = a_{Nd}$"
   ]
  },
  {
   "cell_type": "markdown",
   "metadata": {},
   "source": [
    "#### LHS"
   ]
  },
  {
   "cell_type": "code",
   "execution_count": null,
   "metadata": {},
   "outputs": [],
   "source": [
    "lhs = a_LN"
   ]
  },
  {
   "cell_type": "markdown",
   "metadata": {},
   "source": [
    "#### RHS"
   ]
  },
  {
   "cell_type": "code",
   "execution_count": null,
   "metadata": {},
   "outputs": [],
   "source": [
    "rhs = a_Nd"
   ]
  },
  {
   "cell_type": "markdown",
   "metadata": {},
   "source": [
    "#### Plot"
   ]
  },
  {
   "cell_type": "code",
   "execution_count": null,
   "metadata": {},
   "outputs": [],
   "source": [
    "plt.figure(figsize=(16, 16))\n",
    "plt.plot(times, lhs, label=\"LHS\", linewidth=lw, color='lightskyblue', zorder=0)\n",
    "plt.axhline(rhs, label=\"RHS\", linewidth=lw, color='b', linestyle='--', zorder=1)\n",
    "plt.ylim(-10, 50)\n",
    "plt.legend()\n",
    "plt.xlabel(\"Time\")\n",
    "plt.show()"
   ]
  },
  {
   "cell_type": "markdown",
   "metadata": {},
   "source": [
    "### $F_{FL} = 0$"
   ]
  },
  {
   "cell_type": "markdown",
   "metadata": {},
   "source": [
    "#### LHS"
   ]
  },
  {
   "cell_type": "code",
   "execution_count": null,
   "metadata": {},
   "outputs": [],
   "source": [
    "lhs = F_FL"
   ]
  },
  {
   "cell_type": "markdown",
   "metadata": {},
   "source": [
    "#### RHS"
   ]
  },
  {
   "cell_type": "code",
   "execution_count": null,
   "metadata": {},
   "outputs": [],
   "source": [
    "rhs = 0"
   ]
  },
  {
   "cell_type": "markdown",
   "metadata": {},
   "source": [
    "#### Plot"
   ]
  },
  {
   "cell_type": "code",
   "execution_count": null,
   "metadata": {},
   "outputs": [],
   "source": [
    "plt.figure(figsize=(16, 16))\n",
    "plt.plot(times, lhs, label=\"LHS\", linewidth=lw, color='lightskyblue', zorder=0)\n",
    "plt.axhline(rhs, label=\"RHS\", linewidth=lw, color='b', linestyle='--', zorder=1)\n",
    "plt.ylim(-0.1, 0.1)\n",
    "plt.legend()\n",
    "plt.xlabel(\"Time\")\n",
    "plt.show()"
   ]
  },
  {
   "cell_type": "markdown",
   "metadata": {},
   "source": [
    "# Debug plots"
   ]
  },
  {
   "cell_type": "code",
   "execution_count": null,
   "metadata": {},
   "outputs": [],
   "source": [
    "# Get debug dict\n",
    "debug = finger_ctrlr.debug\n",
    "times = np.array(debug['times']) # np.arange(len(debug['d_Ns']))*effective_tspan/len(debug['d_Ns'])\n",
    "dt = effective_tspan/len(debug['d_Ns'])"
   ]
  },
  {
   "cell_type": "markdown",
   "metadata": {},
   "source": [
    "## Unit vectors"
   ]
  },
  {
   "cell_type": "code",
   "execution_count": null,
   "metadata": {},
   "outputs": [],
   "source": [
    "N_Hats = np.array(debug['N_hats'])\n",
    "T_Hats = np.array(debug['T_hats'])"
   ]
  },
  {
   "cell_type": "code",
   "execution_count": null,
   "metadata": {},
   "outputs": [],
   "source": [
    "N_Hats_sim = logger.data()[log_wrapper.contact_entry_start_idx+8:log_wrapper.contact_entry_start_idx+11,:]"
   ]
  },
  {
   "cell_type": "code",
   "execution_count": null,
   "metadata": {},
   "outputs": [],
   "source": [
    "plt.figure(figsize=(16, 16))\n",
    "lw = 5\n",
    "plt.subplot(211)\n",
    "plt.plot(logger.sample_times(), N_Hats_sim[0,:], label='$\\hat n_{BA_W,x}$', color='pink', linewidth=lw)\n",
    "plt.plot(logger.sample_times(), N_Hats_sim[1,:], label='$\\hat n_{BA_W,y}$', color='lightgreen', linewidth=lw)\n",
    "plt.plot(logger.sample_times(), N_Hats_sim[2,:], label='$\\hat n_{BA_W,z}$', color='lightskyblue', linewidth=lw)\n",
    "plt.plot(times, N_Hats[:,0,:], '--', label='$\\hat N_x$', color='red', linewidth=lw)\n",
    "plt.plot(times, N_Hats[:,1,:], '--', label='$\\hat N_y$', color='green', linewidth=lw)\n",
    "plt.plot(times, N_Hats[:,2,:], '--', label='$\\hat N_z$', color='blue', linewidth=lw)\n",
    "plt.xlabel(\"Time (seconds)\")\n",
    "plt.legend()\n",
    "plt.subplot(212)\n",
    "plt.plot(times, T_Hats[:,0,:], label='$\\hat T_x$', color='red', linewidth=lw)\n",
    "plt.plot(times, T_Hats[:,1,:], label='$\\hat T_y$', color='green', linewidth=lw)\n",
    "plt.plot(times, T_Hats[:,2,:], label='$\\hat T_z$', color='blue', linewidth=lw)\n",
    "plt.xlabel(\"Time (seconds)\")\n",
    "plt.legend()\n",
    "plt.show()"
   ]
  },
  {
   "cell_type": "markdown",
   "metadata": {},
   "source": [
    "### Projection matrices\n",
    "Gives a $k\\times 3 \\times 3$ array that can be used with `matmul` and vectors stacked in a $k\\times 3 \\times 1$ shape."
   ]
  },
  {
   "cell_type": "code",
   "execution_count": null,
   "metadata": {},
   "outputs": [],
   "source": [
    "# Transpose with [0, 2, 1] swaps only the last two rows\n",
    "N_hat_proj_mats = np.matmul(N_Hats, np.transpose(N_Hats, [0, 2, 1]))\n",
    "T_hat_proj_mats = np.matmul(T_Hats, np.transpose(T_Hats, [0, 2, 1]))"
   ]
  },
  {
   "cell_type": "code",
   "execution_count": null,
   "metadata": {},
   "outputs": [],
   "source": [
    "N_hat_proj_mats_lt = scipy.interpolate.interp1d(times, N_hat_proj_mats,\n",
    "                                                  axis=0)(logger.sample_times())\n",
    "T_hat_proj_mats_lt = scipy.interpolate.interp1d(times, T_hat_proj_mats,\n",
    "                                                  axis=0)(logger.sample_times())"
   ]
  },
  {
   "cell_type": "markdown",
   "metadata": {},
   "source": [
    "## $d_T$ and $d_N$"
   ]
  },
  {
   "cell_type": "code",
   "execution_count": null,
   "metadata": {},
   "outputs": [],
   "source": [
    "separation_speed = logger.data()[log_wrapper.contact_entry_start_idx+3,:]\n",
    "slip_speed = logger.data()[log_wrapper.contact_entry_start_idx+4,:]"
   ]
  },
  {
   "cell_type": "code",
   "execution_count": null,
   "metadata": {},
   "outputs": [],
   "source": [
    "lw=1\n",
    "\n",
    "plt.figure(figsize=(12, 18))\n",
    "plt.subplot(311)\n",
    "plt.plot(times, np.array(debug['d_Ns']), label='$d_N$', linewidth=lw)\n",
    "plt.plot(times, debug['d_Ts'], label='$d_T$', linewidth=lw)\n",
    "plt.axhline(constants.FINGER_RADIUS, label='Min $d_N$', linestyle='--', color='k', linewidth=lw)\n",
    "plt.legend()\n",
    "plt.xlabel(\"Time (seconds)\")\n",
    "plt.ylabel(\"Distance (m)\")\n",
    "\n",
    "plt.subplot(312)\n",
    "plt.plot(logger.sample_times(), separation_speed, label=\"Separation speed\", linewidth=lw)\n",
    "plt.legend()\n",
    "plt.xlabel(\"Time (seconds)\")\n",
    "plt.ylabel(\"Velocity (m/s)\")\n",
    "\n",
    "plt.subplot(313)\n",
    "plt.plot(logger.sample_times(), slip_speed, label=\"slip speed\")\n",
    "plt.axhline(v_stiction, linestyle=\"--\", color=\"k\", label=\"$v_{stiction}$\")\n",
    "plt.legend()\n",
    "plt.xlabel(\"Time (seconds)\")\n",
    "plt.ylabel(\"Speed (m/s)\")\n",
    "plt.ylim(0, 2*v_stiction)\n",
    "plt.show()"
   ]
  },
  {
   "cell_type": "code",
   "execution_count": null,
   "metadata": {},
   "outputs": [],
   "source": [
    "plt.figure(figsize=(12, 12))\n",
    "step = 100\n",
    "\n",
    "lw=5\n",
    "\n",
    "plt.plot(times[:-step:step], \n",
    "         np.abs(np.diff(debug['d_Ts'][::step])/np.diff(times[::step])/100), \n",
    "         label='$\\left|\\\\dot d_T\\\\right|/100$', linewidth=lw)\n",
    "plt.plot(times[:-step:step], \n",
    "         np.abs(np.diff(debug['d_coms'][::step])/np.diff(times[::step])/10), \n",
    "         label='$\\left|\\\\dot d_{comT}\\\\right|/10$', linewidth=lw)\n",
    "\n",
    "\n",
    "plt.plot(logger.sample_times(), slip_speed*10, label=\"slip speed $\\\\times 10$\", linewidth=lw)\n",
    "\n",
    "plt.axhline(v_stiction*10, color='k', label=\"$v_{stiction}\\\\times 10$\", linestyle='--', linewidth=lw)\n",
    "plt.legend()\n",
    "plt.ylim(0, 0.02)\n",
    "plt.xlim(logger.sample_times()[0], logger.sample_times()[-1])\n",
    "plt.ylabel(\"Speed (m/s)\")\n",
    "\n",
    "plt.show()"
   ]
  },
  {
   "cell_type": "code",
   "execution_count": null,
   "metadata": {},
   "outputs": [],
   "source": [
    "plt.figure(figsize=(12, 12))\n",
    "lw = 5\n",
    "plt.plot(times, debug['d_Ts'], label='$d_T$', linewidth=lw)\n",
    "plt.plot(times, debug['d_com_Ts'], label='$d_{comT}$', linewidth=lw)\n",
    "plt.plot(times, debug['d_coms'], label='$d_{com}$', linewidth=lw)\n",
    "\n",
    "plt.legend()\n",
    "plt.ylabel(\"Distance (m)\")\n",
    "plt.xlim(logger.sample_times()[0], logger.sample_times()[-1])\n",
    "\n",
    "plt.show()"
   ]
  },
  {
   "cell_type": "markdown",
   "metadata": {},
   "source": [
    "## Positions\n",
    "### Link state"
   ]
  },
  {
   "cell_type": "code",
   "execution_count": null,
   "metadata": {},
   "outputs": [],
   "source": [
    "plt.figure(figsize=(12, 12))\n",
    "plt.plot(times, debug['omega_xs'], label='$\\omega_x$')\n",
    "plt.plot(times, np.array(debug['theta_xs']), label='$\\\\theta_x$')\n",
    "plt.legend()\n",
    "plt.ylim(-2*np.pi, 2*np.pi)\n",
    "plt.yticks(np.arange(-2, 2.5, 0.5)*np.pi, [\n",
    "    '$-2\\pi$',\n",
    "    '$-3\\pi/2$',\n",
    "    '$-\\pi$',\n",
    "    '$-\\pi/2$',\n",
    "    '$0$',\n",
    "    '$\\pi/2$',\n",
    "    '$\\pi$',\n",
    "    '$3\\pi/2$',\n",
    "    '$2\\pi$',\n",
    "])\n",
    "plt.xlabel(\"Time (seconds)\")\n",
    "plt.axhline(np.pi, linestyle='--', color='k')\n",
    "plt.axhline(-np.pi, linestyle='--', color='k')\n",
    "plt.show()"
   ]
  },
  {
   "cell_type": "markdown",
   "metadata": {},
   "source": [
    "#### Rotation matrices"
   ]
  },
  {
   "cell_type": "code",
   "execution_count": null,
   "metadata": {},
   "outputs": [],
   "source": [
    "thetas = np.array(debug['theta_xs'])"
   ]
  },
  {
   "cell_type": "code",
   "execution_count": null,
   "metadata": {},
   "outputs": [],
   "source": [
    "# Rotating theta about the x axis\n",
    "Rs = np.zeros((thetas.size, 3, 3))\n",
    "Rs[:, 1, 1] = np.cos(thetas)\n",
    "Rs[:, 1, 2] = -np.sin(thetas)\n",
    "Rs[:, 2, 1] = np.cos(thetas)\n",
    "Rs[:, 2, 2] = np.sin(thetas)\n",
    "R_invs = np.transpose(Rs, [0, 2, 1])"
   ]
  },
  {
   "cell_type": "markdown",
   "metadata": {},
   "source": [
    "### Manipulator state"
   ]
  },
  {
   "cell_type": "code",
   "execution_count": null,
   "metadata": {},
   "outputs": [],
   "source": [
    "finger_idx = int(finger_body.index())"
   ]
  },
  {
   "cell_type": "code",
   "execution_count": null,
   "metadata": {},
   "outputs": [],
   "source": [
    "man_point = logger.data()[log_wrapper.entries_per_body*finger_idx:log_wrapper.entries_per_body*finger_idx+3]"
   ]
  },
  {
   "cell_type": "code",
   "execution_count": null,
   "metadata": {},
   "outputs": [],
   "source": [
    "plt.figure(figsize=(12, 12))\n",
    "lw=5\n",
    "# plt.plot(logger.sample_times(), logger.data()[\n",
    "#     log_wrapper.entries_per_body*finger_idx], label=\"$x$\", linewidth=lw, linestyle='--')\n",
    "plt.plot(logger.sample_times(), logger.data()[\n",
    "    log_wrapper.entries_per_body*finger_idx+1], label=\"$y$\", linewidth=lw)\n",
    "plt.plot(logger.sample_times(), logger.data()[\n",
    "    log_wrapper.entries_per_body*finger_idx+2], label=\"$z$\", linewidth=lw)\n",
    "plt.plot(logger.sample_times(), logger.data()[\n",
    "    log_wrapper.entries_per_body*finger_idx+3], label=\"$\\\\theta_x$\", linewidth=lw, linestyle='--')\n",
    "plt.plot(logger.sample_times(), logger.data()[\n",
    "    log_wrapper.entries_per_body*finger_idx+4], label=\"$\\\\theta_y$\", linewidth=lw, linestyle='dashdot')\n",
    "plt.plot(logger.sample_times(), logger.data()[\n",
    "    log_wrapper.entries_per_body*finger_idx+5], label=\"$\\\\theta_z$\", linewidth=lw, linestyle=':')\n",
    "plt.legend()\n",
    "plt.xlabel(\"Time (seconds)\")\n",
    "plt.ylabel(\"Position (m or radians)\")\n",
    "plt.show()"
   ]
  },
  {
   "cell_type": "markdown",
   "metadata": {},
   "source": [
    "### Contact point\n",
    " - [ ] PROGRAMMING: Add arrow heads to contact point plots"
   ]
  },
  {
   "cell_type": "code",
   "execution_count": null,
   "metadata": {},
   "outputs": [],
   "source": [
    "contact_point = logger.data()[log_wrapper.contact_entry_start_idx+5:log_wrapper.contact_entry_start_idx+8,:]"
   ]
  },
  {
   "cell_type": "code",
   "execution_count": null,
   "metadata": {},
   "outputs": [],
   "source": [
    "contact_point.shape"
   ]
  },
  {
   "cell_type": "code",
   "execution_count": null,
   "metadata": {},
   "outputs": [],
   "source": [
    "plt.figure(figsize=(12,12))\n",
    "\n",
    "plt.plot(contact_point[1,:], contact_point[2,:], color='k', linestyle='--', linewidth='5')\n",
    "plt.gca().set_aspect('equal', 'box')\n",
    "plt.show()"
   ]
  },
  {
   "cell_type": "code",
   "execution_count": null,
   "metadata": {},
   "outputs": [],
   "source": [
    "plt.figure(figsize=(12,12))\n",
    "plt.gca().add_patch(plt.Circle((0, 0), constants.FINGER_RADIUS, color='r'))\n",
    "plt.plot(contact_point[1,:]-man_point[1,:], contact_point[2,:]-man_point[2,:], color='k', linestyle='--', linewidth='5')\n",
    "plt.gca().set_aspect('equal', 'box')\n",
    "plt.show()"
   ]
  },
  {
   "cell_type": "markdown",
   "metadata": {},
   "source": [
    "#### Contact point vs. speeds"
   ]
  },
  {
   "cell_type": "code",
   "execution_count": null,
   "metadata": {},
   "outputs": [],
   "source": [
    "v_contact_point_no_interp = (np.diff(contact_point)/logger.sample_times()[:-1]).T"
   ]
  },
  {
   "cell_type": "code",
   "execution_count": null,
   "metadata": {},
   "outputs": [],
   "source": [
    "v_contact_point = scipy.interpolate.interp1d(\n",
    "    logger.sample_times()[:-1], v_contact_point_no_interp, axis=0, fill_value=\"extrapolate\")(times)"
   ]
  },
  {
   "cell_type": "code",
   "execution_count": null,
   "metadata": {},
   "outputs": [],
   "source": [
    "# Check interpolation\n",
    "lw=3\n",
    "plt.figure(figsize=(12,12))\n",
    "\n",
    "plt.subplot(311)\n",
    "plt.plot(times, v_contact_point[:,0],linewidth=lw)\n",
    "plt.plot(logger.sample_times()[:-1], v_contact_point_no_interp[:,0],linewidth=lw, linestyle='--')\n",
    "plt.xlabel(\"Time (s)\")\n",
    "plt.ylabel(\"Velocity (m/s)\")\n",
    "plt.title(\"$\\hat x$ component\")\n",
    "\n",
    "plt.subplot(312)\n",
    "plt.plot(times, v_contact_point[:,1],linewidth=lw)\n",
    "plt.plot(logger.sample_times()[:-1], v_contact_point_no_interp[:,1],linewidth=lw, linestyle='--')\n",
    "plt.xlabel(\"Time (s)\")\n",
    "plt.ylabel(\"Velocity (m/s)\")\n",
    "plt.title(\"$\\hat y$ component\")\n",
    "\n",
    "plt.subplot(313)\n",
    "plt.plot(times, v_contact_point[:,2],linewidth=lw)\n",
    "plt.plot(logger.sample_times()[:-1], v_contact_point_no_interp[:,2],linewidth=lw, linestyle='--')\n",
    "plt.xlabel(\"Time (s)\")\n",
    "plt.ylabel(\"Velocity (m/s)\")\n",
    "plt.title(\"$\\hat z$ component\")\n",
    "\n",
    "plt.show()"
   ]
  },
  {
   "cell_type": "markdown",
   "metadata": {},
   "source": [
    "They match up, so we've interpolated correctly."
   ]
  },
  {
   "cell_type": "code",
   "execution_count": null,
   "metadata": {},
   "outputs": [],
   "source": [
    "# Convert to matrix in manipulator basis\n",
    "M_v_contact_point = np.expand_dims(v_contact_point, 2)"
   ]
  },
  {
   "cell_type": "code",
   "execution_count": null,
   "metadata": {},
   "outputs": [],
   "source": [
    "# Change to compliance basis\n",
    "C_v_contact_point = np.matmul(R_invs, M_v_contact_point)"
   ]
  },
  {
   "cell_type": "code",
   "execution_count": null,
   "metadata": {},
   "outputs": [],
   "source": [
    "lw=3\n",
    "plt.figure(figsize=(16,24))\n",
    "\n",
    "plt.subplot(311)\n",
    "plt.plot(times, C_v_contact_point[:,0],linewidth=lw, label=r\"$_Cv_{contact, x}$\")\n",
    "plt.xlabel(\"Time (s)\")\n",
    "plt.ylabel(\"Velocity (m/s)\")\n",
    "plt.title(\"$\\hat x$ component\")\n",
    "\n",
    "# PROGRAMMING: Is slip speed properly filled with NaNs?\n",
    "plt.subplot(312)\n",
    "plt.plot(times, C_v_contact_point[:,1],linewidth=lw, label=r\"$_Cv_{contact, T}$\")\n",
    "ylims = plt.ylim()\n",
    "plt.plot(logger.sample_times(), slip_speed, linewidth=lw, label=\"Slip speed\")\n",
    "plt.axhline(v_stiction, color='k', linestyle='--', label=r'$v_{stiction}$')\n",
    "plt.ylim(ylims)\n",
    "plt.xlabel(\"Time (s)\")\n",
    "plt.ylabel(\"Velocity (m/s)\")\n",
    "plt.title(\"$\\hat T$ component\")\n",
    "plt.legend()\n",
    "\n",
    "plt.subplot(313)\n",
    "plt.plot(times, np.abs(C_v_contact_point[:,2]),linewidth=lw, label=r\"$_Cv_{contact, N}$\")\n",
    "ylims = plt.ylim()\n",
    "plt.plot(logger.sample_times(), np.abs(separation_speed), linewidth=lw, label=\"Separation speed\")\n",
    "plt.axhline(0, color='k', linestyle='--')\n",
    "plt.ylim(ylims)\n",
    "plt.xlabel(\"Time (s)\")\n",
    "plt.ylabel(\"Velocity (m/s)\")\n",
    "plt.title(\"$\\hat N$ component\")\n",
    "\n",
    "plt.show()"
   ]
  },
  {
   "cell_type": "markdown",
   "metadata": {},
   "source": [
    "Hm. I would expect these to link up more closely. Let's double check their defintions in drake documentation:\n",
    "\n",
    "`slip_speed` ([link](https://drake.mit.edu/doxygen_cxx/classdrake_1_1multibody_1_1_point_pair_contact_info.html#a6d2da20c96fa99be810b28ef0705214c)):\n",
    "> Returns the slip speed between body A and B at contact point C.\n",
    "\n",
    "`separation speed` ([link](https://drake.mit.edu/doxygen_cxx/classdrake_1_1multibody_1_1_point_pair_contact_info.html#a61a3bf4aed134902cb0354fa20feedb4])):\n",
    "> Returns the separation speed between body A and B along the normal direction (see PenetrationAsPointPair::nhat_BA_W) at the contact point.\n",
    ">\n",
    "> It is defined positive for bodies moving apart in the normal direction.\n",
    "\n",
    "Hm. I'm intrigued by `nhat_BA_W`; maybe my $\\hat N$ is not what Drake is using. Let's check its definition:"
   ]
  },
  {
   "cell_type": "markdown",
   "metadata": {},
   "source": [
    "## Forces"
   ]
  },
  {
   "cell_type": "code",
   "execution_count": null,
   "metadata": {},
   "outputs": [],
   "source": [
    "# Friction force on manipulor, assuming static friction\n",
    "total_m_FF = np.array(debug['F_GTs'])+np.array(debug['F_OTs'])-np.array(debug['F_CTs'])\n",
    "# Total force on the link in the N hat direction \n",
    "total_l_FN = np.array(debug['F_Ns'])+np.array(debug['F_GNs'])+np.array(debug['F_ONs'])"
   ]
  },
  {
   "cell_type": "markdown",
   "metadata": {},
   "source": [
    "### $\\hat N$ acceleration\n",
    "Take the acceleration in the $\\hat N$ direction and then multiply by the mass. This is a check that the forces I'm summing in the $\\hat N$ direction are actually all the forces on the object."
   ]
  },
  {
   "cell_type": "code",
   "execution_count": null,
   "metadata": {},
   "outputs": [],
   "source": [
    "ll_idx = paper.get_free_edge_idx()\n",
    "a_vecs_no_interp = logger.data()[log_wrapper.entries_per_body*ll_idx+12:log_wrapper.entries_per_body*ll_idx+15].T\n",
    "a_vecs_no_interp = np.expand_dims(a_vecs_no_interp, 2)"
   ]
  },
  {
   "cell_type": "code",
   "execution_count": null,
   "metadata": {},
   "outputs": [],
   "source": [
    "M_a_vecs = scipy.interpolate.interp1d(logger.sample_times(), a_vecs_no_interp, axis=0)(times)\n",
    "C_a_vecs = np.matmul(R_invs, M_a_vecs)\n",
    "a_N = C_a_vecs[:,2]\n",
    "F_from_acc = paper.link_mass*a_N"
   ]
  },
  {
   "cell_type": "code",
   "execution_count": null,
   "metadata": {},
   "outputs": [],
   "source": [
    "a_N_projs = np.matmul(N_hat_proj_mats, M_a_vecs)\n",
    "a_N_signs = np.sign(np.matmul(np.transpose(N_Hats, [0, 2, 1]), a_N_projs))\n",
    "a_N_mags = np.linalg.norm(a_N_projs, axis=1)\n",
    "a_N = a_N_mags.flatten()*a_N_signs.flatten()\n",
    "# F_contact_M_N *= -1 # The \"F_N\" we use is on the link, not the manipulator\n",
    "F_from_acc = paper.link_mass*a_N"
   ]
  },
  {
   "cell_type": "markdown",
   "metadata": {},
   "source": [
    "### Contact forces"
   ]
  },
  {
   "cell_type": "code",
   "execution_count": null,
   "metadata": {},
   "outputs": [],
   "source": [
    "M_F_contact_M_yz = logger.data()[log_wrapper.contact_entry_start_idx+1:log_wrapper.contact_entry_start_idx+3,:]"
   ]
  },
  {
   "cell_type": "code",
   "execution_count": null,
   "metadata": {
    "scrolled": false
   },
   "outputs": [],
   "source": [
    "plt.figure(figsize=(12,12))\n",
    "plt.plot(logger.sample_times(), M_F_contact_M_yz[0,:], linewidth=5, label='$F_y$')\n",
    "plt.plot(logger.sample_times(), M_F_contact_M_yz[1,:], linewidth=5, label='$F_z$')\n",
    "plt.legend()\n",
    "plt.ylim(-10, 10)\n",
    "plt.show()"
   ]
  },
  {
   "cell_type": "code",
   "execution_count": null,
   "metadata": {},
   "outputs": [],
   "source": [
    "# Add on empty row of zeros for x\n",
    "M_F_contact_M_x = np.zeros((1, M_F_contact_M_yz.shape[1]))\n",
    "M_F_contact_M_no_interp = np.expand_dims(np.vstack((M_F_contact_M_x, M_F_contact_M_yz)).T, 2)\n",
    "M_F_contact = scipy.interpolate.interp1d(logger.sample_times(), M_F_contact_M_no_interp, axis=0)(times)"
   ]
  },
  {
   "cell_type": "markdown",
   "metadata": {},
   "source": [
    "This plot verifies the interpolation:"
   ]
  },
  {
   "cell_type": "code",
   "execution_count": null,
   "metadata": {},
   "outputs": [],
   "source": [
    "plt.figure(figsize=(12,12))\n",
    "lw=5\n",
    "plt.plot(logger.sample_times(), M_F_contact_M_yz[0,:], color='lightskyblue', label='$F_y$ before interp', linewidth=lw)\n",
    "plt.plot(logger.sample_times(), M_F_contact_M_yz[1,:], color='pink', label='$F_z$ before interp', linewidth=lw)\n",
    "plt.plot(times, M_F_contact[:,1], color='blue', linestyle='--', label='$F_y$ after interp', linewidth=lw)\n",
    "plt.plot(times, M_F_contact[:,2], color='red', linestyle='--', label='$F_z$ after interp', linewidth=lw)\n",
    "plt.ylim(-5, 5)\n",
    "plt.legend()\n",
    "plt.ylabel(\"Force (N)\")\n",
    "plt.xlabel(\"Time (s)\")\n",
    "plt.show()"
   ]
  },
  {
   "cell_type": "code",
   "execution_count": null,
   "metadata": {},
   "outputs": [],
   "source": [
    "# Get T and N hat projections\n",
    "C_F_contact = np.matmul(R_invs, M_F_contact)\n",
    "F_contact_M_T = C_F_contact[:,1]\n",
    "F_contact_M_N = C_F_contact[:,2]"
   ]
  },
  {
   "cell_type": "code",
   "execution_count": null,
   "metadata": {},
   "outputs": [],
   "source": [
    "F_contact_M_T_projs = np.matmul(T_hat_proj_mats, M_F_contact)\n",
    "F_contact_M_T_signs = np.sign(np.matmul(np.transpose(T_Hats, [0, 2, 1]), F_contact_M_T_projs))\n",
    "F_contact_M_T_mags = np.linalg.norm(F_contact_M_T_projs, axis=1)\n",
    "F_contact_M_T = F_contact_M_T_mags.flatten()*F_contact_M_T_signs.flatten()\n",
    "\n",
    "F_contact_M_N_projs = np.matmul(N_hat_proj_mats, M_F_contact)\n",
    "F_contact_M_N_signs = np.sign(np.matmul(np.transpose(N_Hats, [0, 2, 1]), F_contact_M_N_projs))\n",
    "F_contact_M_N_mags = np.linalg.norm(F_contact_M_N_projs, axis=1)\n",
    "F_contact_M_N = F_contact_M_N_mags.flatten()*F_contact_M_N_signs.flatten()\n",
    "F_contact_M_N *= -1 # The \"F_N\" we use is on the link, not the manipulator"
   ]
  },
  {
   "cell_type": "code",
   "execution_count": null,
   "metadata": {},
   "outputs": [],
   "source": [
    "separation_speed_interp = scipy.interpolate.interp1d(logger.sample_times(),\n",
    "                                                     logger.data()[log_wrapper.contact_entry_start_idx+3,:])(\n",
    "                                                        times)"
   ]
  },
  {
   "cell_type": "code",
   "execution_count": null,
   "metadata": {},
   "outputs": [],
   "source": [
    "plt.figure(figsize=(12,12))\n",
    "lw=5\n",
    "plt.plot(times, F_contact_M_T, linewidth=5, label='$F_T$')\n",
    "plt.plot(times, F_contact_M_N, linewidth=5, label='$F_N$')\n",
    "idxs = np.logical_and(separation_speed_interp <= 0, (F_contact_M_N <= 0).flatten())\n",
    "plt.plot(times[idxs], F_contact_M_N[idxs], ' *')\n",
    "plt.legend()\n",
    "\n",
    "plt.ylim(-10, 10)\n",
    "plt.show()"
   ]
  },
  {
   "cell_type": "code",
   "execution_count": null,
   "metadata": {},
   "outputs": [],
   "source": [
    "plt.figure(figsize=(12,12))\n",
    "plt.plot(times, separation_speed_interp, linewidth=5)\n",
    "plt.ylim(-1, 1)\n",
    "plt.show()"
   ]
  },
  {
   "cell_type": "code",
   "execution_count": null,
   "metadata": {},
   "outputs": [],
   "source": [
    "separation_speed"
   ]
  },
  {
   "cell_type": "markdown",
   "metadata": {},
   "source": [
    "### Joint forces"
   ]
  },
  {
   "cell_type": "code",
   "execution_count": null,
   "metadata": {},
   "outputs": [],
   "source": [
    "joint_force = logger.data()[log_wrapper.joint_entry_start_idx:log_wrapper.joint_entry_start_idx+6,:]\n",
    "joint_force.shape"
   ]
  },
  {
   "cell_type": "code",
   "execution_count": null,
   "metadata": {
    "scrolled": false
   },
   "outputs": [],
   "source": [
    "plt.figure(figsize=(16, 32))\n",
    "plt.subplot(211)\n",
    "plt.title(\"Force\")\n",
    "plt.plot(logger.sample_times(), joint_force[0,:], label=r'$F_x$', color='red')\n",
    "plt.plot(logger.sample_times(), joint_force[1,:], label=r'$F_y$', color='green')\n",
    "plt.plot(logger.sample_times(), joint_force[2,:], label=r'$F_z$', color='blue')\n",
    "plt.plot(times, debug['F_centripetal'], label=r'Centripetal force')\n",
    "plt.xlabel(\"Time (seconds)\")\n",
    "plt.ylim(-20, 20)\n",
    "plt.legend()\n",
    "plt.subplot(212)\n",
    "plt.title(\"Torque\")\n",
    "plt.plot(logger.sample_times(), joint_force[3,:], label=r'$\\tau_x$', color='red')\n",
    "plt.plot(logger.sample_times(), joint_force[4,:], label=r'$\\tau_y$', color='green')\n",
    "plt.plot(logger.sample_times(), joint_force[5,:], label=r'$\\tau_z$', color='blue')\n",
    "# plt.axvline(logger.sample_times()[1500])\n",
    "# plt.axvline(logger.sample_times()[22500])\n",
    "plt.ylim(-1, 1)\n",
    "plt.xlabel(\"Time (seconds)\")\n",
    "plt.legend()\n",
    "plt.show()"
   ]
  },
  {
   "cell_type": "code",
   "execution_count": null,
   "metadata": {},
   "outputs": [],
   "source": [
    "plt.figure(figsize=(16, 16))\n",
    "plt.title(\"Force\")\n",
    "plt.plot(logger.sample_times(), joint_force[0,:], label=r'$F_x$', color='red')\n",
    "plt.plot(logger.sample_times(), joint_force[1,:], label=r'$F_y$', color='green')\n",
    "plt.plot(logger.sample_times(), joint_force[2,:], label=r'$F_z$', color='blue')\n",
    "plt.plot(times, debug['F_centripetal'], label=r'Centripetal force')\n",
    "plt.legend()\n",
    "plt.ylim(-1, 1)\n",
    "plt.xlabel(\"Time (seconds)\")\n",
    "plt.legend()\n",
    "plt.show()"
   ]
  },
  {
   "cell_type": "code",
   "execution_count": null,
   "metadata": {},
   "outputs": [],
   "source": [
    "max(joint_force[1,:])"
   ]
  },
  {
   "cell_type": "markdown",
   "metadata": {},
   "source": []
  },
  {
   "cell_type": "code",
   "execution_count": null,
   "metadata": {},
   "outputs": [],
   "source": [
    "np.max(np.abs(joint_force[4:6,1500:22500]))"
   ]
  },
  {
   "cell_type": "code",
   "execution_count": null,
   "metadata": {},
   "outputs": [],
   "source": [
    "M_F_O = np.expand_dims(joint_force[0:3:].T, 2)\n",
    "M_F_O.shape"
   ]
  },
  {
   "cell_type": "code",
   "execution_count": null,
   "metadata": {},
   "outputs": [],
   "source": [
    "C_F_O = np.matmul(N_hat_proj_mats_lt, M_F_O)"
   ]
  },
  {
   "cell_type": "code",
   "execution_count": null,
   "metadata": {},
   "outputs": [],
   "source": [
    "np.linalg.norm(M_F_O,axis=1).shape"
   ]
  },
  {
   "cell_type": "code",
   "execution_count": null,
   "metadata": {},
   "outputs": [],
   "source": [
    "plt.figure(figsize=(16, 24))\n",
    "plt.title(\"Force\")\n",
    "plt.plot(logger.sample_times(), M_F_O[:,0], label=r'$F_x$', color='red')\n",
    "plt.plot(logger.sample_times(), M_F_O[:,1], label=r'$F_T$', color='green')\n",
    "plt.plot(logger.sample_times(), M_F_O[:,2], label=r'$F_N$', color='blue')\n",
    "plt.plot(logger.sample_times(), np.linalg.norm(M_F_O,axis=1), label='Total force')\n",
    "plt.plot(times, thetas)\n",
    "plt.xlabel(\"Time (seconds)\")\n",
    "plt.ylim(-20, 20)\n",
    "plt.legend()\n",
    "plt.show()"
   ]
  },
  {
   "cell_type": "markdown",
   "metadata": {},
   "source": [
    "### Tangential"
   ]
  },
  {
   "cell_type": "code",
   "execution_count": null,
   "metadata": {},
   "outputs": [],
   "source": [
    "plt.figure(figsize=(16, 16))\n",
    "lw = 5\n",
    "plt.title(\"Tangential forces\")\n",
    "F_GTs = np.array(debug['F_GTs'])\n",
    "F_OTs = np.array(debug['F_OTs'])\n",
    "F_CTs = np.array(debug['F_CTs'])\n",
    "plt.plot(times, debug['F_GTs'], label='$F_{GT}$', linewidth=lw, linestyle='--')\n",
    "plt.plot(times, debug['F_OTs'], label='$F_{OT}$', linewidth=lw, linestyle='--')\n",
    "plt.plot(times, debug['F_CTs'], label='$F_{CT}$', linewidth=lw, linestyle='--')\n",
    "# plt.plot(times, F_GTs + F_OTs, label='$F_{GT}+F_{OT}$', linewidth=lw, linestyle='--')\n",
    "plt.plot(times, total_m_FF, label='$F_F$ inferred from static friction force balance', linewidth=lw)\n",
    "plt.plot(times, -2*constants.FRICTION*np.array(debug['F_Ns']), 'k--', label=\"Bound on friction force\", linewidth=lw)\n",
    "plt.plot(times, 2*constants.FRICTION*np.array(debug['F_Ns']), 'k--', linewidth=lw)\n",
    "plt.plot(times, F_contact_M_T, label=\"Measured $F_F$\", linewidth=lw)\n",
    "plt.legend()\n",
    "plt.xlabel(\"Time (seconds)\")\n",
    "plt.ylabel(\"$\\hat T$ force (N)\")\n",
    "plt.ylim(-5, 5)\n",
    "plt.show()\n",
    "\n",
    "# PROGRAMMING: Let's get the actual contact forces, and possibly also compare the tangential acceleration, on this plot."
   ]
  },
  {
   "cell_type": "markdown",
   "metadata": {},
   "source": [
    "### Normal"
   ]
  },
  {
   "cell_type": "code",
   "execution_count": null,
   "metadata": {},
   "outputs": [],
   "source": [
    "plt.figure(figsize=(16, 16))\n",
    "lw = 5\n",
    "plt.title(\"Normal forces\")\n",
    "plt.plot(times, debug['F_CNs'], label='$F_{CN}$', linewidth=lw)\n",
    "plt.plot(times, debug['F_GNs'], label='$F_{GN}$', linewidth=lw)\n",
    "plt.plot(times, debug['F_ONs'], label='$F_{ON}$', linewidth=lw)\n",
    "plt.plot(times, total_l_FN, label='Total $\\hat N$ force on link', linewidth=lw)\n",
    "plt.plot(times, F_from_acc, label='Total force, according tto acceleration', linewidth=lw)\n",
    "plt.plot(times, F_contact_M_N, label='Actual F_N', linewidth=lw)\n",
    "# plt.axhline(finger_ctrlr.F_Nd, color='k', linestyle='--', label='Target force')\n",
    "plt.ylim(-finger_ctrlr.F_Nd*2, finger_ctrlr.F_Nd*2)\n",
    "plt.legend()\n",
    "plt.xlabel(\"Time (seconds)\")\n",
    "plt.ylabel(\"$\\hat N$ force (N)\")\n",
    "plt.show()"
   ]
  },
  {
   "cell_type": "code",
   "execution_count": null,
   "metadata": {},
   "outputs": [],
   "source": [
    "plt.figure(figsize=(16, 16))\n",
    "lw = 5\n",
    "plt.title(\"Contact normal forces\")\n",
    "plt.plot(times, debug['F_Ns'], label='$F_{N}$', linewidth=lw)\n",
    "plt.plot(times, F_contact_M_N, label='Actual $F_N$', linewidth=lw)\n",
    "plt.ylim(-5, 5)\n",
    "plt.legend()\n",
    "plt.xlabel(\"Time (seconds)\")\n",
    "plt.ylabel(\"$\\hat N$ force (N)\")\n",
    "plt.show()\n",
    "\n",
    "# PROGRAMMING: Why is the force not what my setpoint is?"
   ]
  },
  {
   "cell_type": "markdown",
   "metadata": {},
   "source": [
    "### Comparing magnitudes"
   ]
  },
  {
   "cell_type": "code",
   "execution_count": null,
   "metadata": {},
   "outputs": [],
   "source": [
    "cal_contact_force = np.sqrt(np.array(debug['F_Ns'])**2 + total_m_FF**2)\n",
    "sim_contact_force = np.linalg.norm(M_F_contact_M_yz[0:2,:], axis=0)"
   ]
  },
  {
   "cell_type": "code",
   "execution_count": null,
   "metadata": {},
   "outputs": [],
   "source": [
    "plt.figure(figsize=(12,12))\n",
    "plt.plot(times, cal_contact_force, linewidth=lw)\n",
    "ylims = plt.ylim()\n",
    "plt.plot(logger.sample_times(), sim_contact_force, linewidth=lw)\n",
    "plt.ylim(ylims)\n",
    "plt.ylabel(\"Force (N)\")\n",
    "plt.xlabel(\"Time (seconds)\")\n",
    "plt.show()"
   ]
  },
  {
   "cell_type": "markdown",
   "metadata": {},
   "source": [
    "## Control forces"
   ]
  },
  {
   "cell_type": "markdown",
   "metadata": {},
   "source": [
    "### Link frame"
   ]
  },
  {
   "cell_type": "code",
   "execution_count": null,
   "metadata": {},
   "outputs": [],
   "source": [
    "plt.figure(figsize=(12, 12))\n",
    "plt.plot(times, debug['F_CTs'], label='$F_{CT}$')\n",
    "plt.plot(times, debug['F_CNs'], label='$F_{NT}$')\n",
    "plt.legend()\n",
    "plt.xlabel(\"Time (seconds)\")\n",
    "plt.show()"
   ]
  },
  {
   "cell_type": "markdown",
   "metadata": {},
   "source": [
    "### Manipulator frame"
   ]
  },
  {
   "cell_type": "code",
   "execution_count": null,
   "metadata": {},
   "outputs": [],
   "source": [
    "plt.figure(figsize=(12, 12))\n",
    "plt.plot(times, debug['theta_xs'], label='$\\\\theta_x$')\n",
    "plt.plot(times, debug['omega_xs'], label='$\\omega_x$')\n",
    "plt.legend()\n",
    "plt.show()"
   ]
  },
  {
   "cell_type": "code",
   "execution_count": null,
   "metadata": {},
   "outputs": [],
   "source": [
    "F_Ms = np.array(debug['F_Ms'])\n",
    "plt.figure(figsize=(12, 12))\n",
    "plt.plot(times, F_Ms[:,0,:], label='$F_M$ $x$ component', color='red')\n",
    "plt.plot(times, F_Ms[:,1,:], label='$F_M$ $y$ component', color='green')\n",
    "plt.plot(times, F_Ms[:,2,:], label='$F_M$ $z$ component', color='blue')\n",
    "plt.xlabel(\"Time (seconds)\")\n",
    "plt.legend()\n",
    "plt.show()"
   ]
  }
 ],
 "metadata": {
  "kernelspec": {
   "display_name": "Python 3",
   "language": "python",
   "name": "python3"
  },
  "language_info": {
   "codemirror_mode": {
    "name": "ipython",
    "version": 3
   },
   "file_extension": ".py",
   "mimetype": "text/x-python",
   "name": "python",
   "nbconvert_exporter": "python",
   "pygments_lexer": "ipython3",
   "version": "3.6.9"
  },
  "toc": {
   "base_numbering": 1,
   "nav_menu": {},
   "number_sections": true,
   "sideBar": true,
   "skip_h1_title": false,
   "title_cell": "Table of Contents",
   "title_sidebar": "Contents",
   "toc_cell": false,
   "toc_position": {
    "height": "769px",
    "left": "754px",
    "top": "167px",
    "width": "381px"
   },
   "toc_section_display": true,
   "toc_window_display": true
  }
 },
 "nbformat": 4,
 "nbformat_minor": 4
}
