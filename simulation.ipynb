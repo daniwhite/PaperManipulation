{
 "cells": [
  {
   "cell_type": "markdown",
   "metadata": {},
   "source": [
    "# Imports"
   ]
  },
  {
   "cell_type": "code",
   "execution_count": null,
   "metadata": {},
   "outputs": [],
   "source": [
    "# Suprress warnings\n",
    "import warnings\n",
    "with warnings.catch_warnings():\n",
    "    warnings.simplefilter(\"ignore\")\n",
    "\n",
    "    # Standard imports\n",
    "    import matplotlib\n",
    "    import matplotlib.pyplot as plt\n",
    "    import matplotlib.patches as patches\n",
    "    import matplotlib.cm as cm\n",
    "    import numpy as np\n",
    "\n",
    "    # Drake imports\n",
    "    from meshcat.servers.zmqserver import start_zmq_server_as_subprocess\n",
    "    import pydrake\n",
    "    from pydrake.all import LogOutput, DirectCollocation, DirectTranscription, MathematicalProgram, InputPortSelection\n",
    "    from pydrake.all import FindResourceOrThrow\n",
    "    \n",
    "    import scipy.interpolate\n",
    "\n",
    "# Imports of other project files\n",
    "from log_wrapper import LogWrapper\n",
    "import controller\n",
    "import constants\n",
    "\n",
    "from plant.paper import Paper\n",
    "import plant.pedestal as pedestal\n",
    "import plant.manipulator as manipulator\n",
    "\n",
    "import perception.vision as vision\n",
    "import perception.proprioception as proprioception\n",
    "\n",
    "import ctrl.common\n",
    "import ctrl.aux\n",
    "import ctrl.inverse_dynamics\n",
    "import ctrl.kinematic_ctrlr\n",
    "\n",
    "from pydrake.all import (MultibodyPlant, Parser, DiagramBuilder, Simulator, RigidTransform,\n",
    "                         PlanarSceneGraphVisualizer, SceneGraph, TrajectorySource,\n",
    "                         SnoptSolver, MultibodyPositionToGeometryPose, PiecewisePolynomial,\n",
    "                         MathematicalProgram, JacobianWrtVariable, eq, RollPitchYaw, AutoDiffXd, BodyIndex,\n",
    "                        RotationMatrix, Meshcat,MeshcatVisualizerParams, MeshcatVisualizerCpp, MeshcatVisualizer,\n",
    "                        Adder, Gain)\n",
    "\n",
    "# Other imports\n",
    "import importlib\n",
    "import re"
   ]
  },
  {
   "cell_type": "code",
   "execution_count": null,
   "metadata": {},
   "outputs": [],
   "source": [
    "from IPython.display import display, SVG\n",
    "import pydot"
   ]
  },
  {
   "cell_type": "code",
   "execution_count": null,
   "metadata": {},
   "outputs": [],
   "source": [
    "# Matplotlib configuring\n",
    "# USE FOR PAPER\n",
    "# plt.style.use(['science', 'no-latex'])\n",
    "# font = {'size'   : 14}\n",
    "# matplotlib.rc('font', **font)\n",
    "# default_figsize = (2*3,2*2)\n",
    "# USE GENERALLY\n",
    "font = {'size'   : 16}\n",
    "matplotlib.rc('font', **font)\n",
    "default_figsize = (16,8)"
   ]
  },
  {
   "cell_type": "markdown",
   "metadata": {},
   "source": [
    "## Meshcat init (including link for new meshcat)"
   ]
  },
  {
   "cell_type": "code",
   "execution_count": null,
   "metadata": {},
   "outputs": [],
   "source": [
    "if constants.USE_NEW_MESHCAT:\n",
    "    meshcat = Meshcat()\n",
    "    web_url = meshcat.web_url()\n",
    "else:\n",
    "    proc, zmq_url, web_url = start_zmq_server_as_subprocess()"
   ]
  },
  {
   "cell_type": "markdown",
   "metadata": {},
   "source": [
    "# Simulation setup\n",
    "## Pre-finalize steps"
   ]
  },
  {
   "cell_type": "code",
   "execution_count": null,
   "metadata": {},
   "outputs": [],
   "source": [
    "builder = pydrake.systems.framework.DiagramBuilder()\n",
    "\n",
    "manipulator_acc_log = []\n",
    "manipulator_acc_log.append(np.zeros(7))\n",
    "\n",
    "# Add all elements\n",
    "plant, scene_graph = pydrake.multibody.plant.AddMultibodyPlantSceneGraph(builder, time_step=constants.DT)\n",
    "v_stiction=1e-3\n",
    "plant.set_stiction_tolerance(v_stiction)\n",
    "plant.set_penetration_allowance(0.001)\n",
    "pedestal_instance = pedestal.AddPedestal(plant)\n",
    "\n",
    "# These joint angles start the paper approximately the right spot, no matter how many links are used\n",
    "num_links = 2\n",
    "def_joint_angles = 0\n",
    "\n",
    "paper = Paper(plant, scene_graph, num_links, default_joint_angle=def_joint_angles,\n",
    "              stiffness=2.5e-1,\n",
    "              damping=1e-1)\n",
    "paper.weld_paper_edge(pedestal.PEDESTAL_WIDTH, pedestal.PEDESTAL_HEIGHT)"
   ]
  },
  {
   "cell_type": "markdown",
   "metadata": {},
   "source": [
    "Calculate link inertia to use in damping calculations:"
   ]
  },
  {
   "cell_type": "code",
   "execution_count": null,
   "metadata": {},
   "outputs": [],
   "source": [
    "manipulator_instance = manipulator.data[\"add_plant_function\"](plant, scene_graph)"
   ]
  },
  {
   "cell_type": "code",
   "execution_count": null,
   "metadata": {},
   "outputs": [],
   "source": [
    "# Set up logger (needs to happen after all bodies are added)\n",
    "contact_body = plant.GetBodyByName(manipulator.data[\"contact_body_name\"])\n",
    "log_wrapper = LogWrapper(plant.num_bodies(), int(contact_body.index()), paper)\n",
    "builder.AddSystem(log_wrapper)"
   ]
  },
  {
   "cell_type": "markdown",
   "metadata": {},
   "source": [
    "## Controller selection"
   ]
  },
  {
   "cell_type": "code",
   "execution_count": null,
   "metadata": {},
   "outputs": [],
   "source": [
    "ll_idx = paper.link_idxs[-1]\n",
    "contact_body_idx = int(contact_body.index())"
   ]
  },
  {
   "cell_type": "code",
   "execution_count": null,
   "metadata": {},
   "outputs": [],
   "source": [
    "I_L = plant.get_body(\n",
    "    BodyIndex(paper.link_idxs[-1])).default_rotational_inertia().CalcPrincipalMomentsOfInertia()[0]"
   ]
  },
  {
   "cell_type": "code",
   "execution_count": null,
   "metadata": {},
   "outputs": [],
   "source": [
    "sys_consts = ctrl.common.SystemConstants\n",
    "sys_consts.I_L = I_L\n",
    "sys_consts.v_stiction = v_stiction\n",
    "sys_consts.w_L = paper.link_width\n",
    "sys_consts.h_L = paper.height\n",
    "sys_consts.m_L = paper.link_mass\n",
    "sys_consts.m_M = manipulator.MASS\n",
    "sys_consts.b_J = paper.damping\n",
    "sys_consts.k_J = paper.stiffness\n",
    "sys_consts.g = plant.gravity_field().gravity_vector()[-1]*-1\n",
    "sys_consts.r =  manipulator.RADIUS\n",
    "mu_paper = constants.FRICTION\n",
    "sys_consts.mu = 2*mu_paper/(1+mu_paper)\n",
    "\n",
    "options = {\n",
    "    'model_friction': True,\n",
    "    'measure_joint_wrench': False,\n",
    "}"
   ]
  },
  {
   "cell_type": "code",
   "execution_count": null,
   "metadata": {},
   "outputs": [],
   "source": [
    "fold_ctrl = ctrl.inverse_dynamics.InverseDynamicsController(sys_consts=sys_consts, options=options)\n",
    "# fold_ctrl = ctrl.kinematic_ctrlr.KinematicController(sys_consts=sys_consts)\n",
    "builder.AddSystem(fold_ctrl)"
   ]
  },
  {
   "cell_type": "code",
   "execution_count": null,
   "metadata": {},
   "outputs": [],
   "source": [
    "ctrlr_is_inverse_dynamics = type(fold_ctrl) is ctrl.inverse_dynamics.InverseDynamicsController"
   ]
  },
  {
   "cell_type": "code",
   "execution_count": null,
   "metadata": {},
   "outputs": [],
   "source": [
    "ctrlr_is_kinematic_ctrlr = type(fold_ctrl) is ctrl.kinematic_ctrlr.KinematicController"
   ]
  },
  {
   "cell_type": "markdown",
   "metadata": {},
   "source": [
    "## Other pre-finalize step"
   ]
  },
  {
   "cell_type": "code",
   "execution_count": null,
   "metadata": {},
   "outputs": [],
   "source": [
    "vision_processor = vision.VisionProcessor(sys_consts)\n",
    "builder.AddSystem(vision_processor)\n",
    "vision = vision.VisionSystem(ll_idx=ll_idx, contact_body_idx=contact_body_idx)\n",
    "builder.AddSystem(vision)"
   ]
  },
  {
   "cell_type": "code",
   "execution_count": null,
   "metadata": {},
   "outputs": [],
   "source": [
    "proprioception = proprioception.ProprioceptionSystem()\n",
    "builder.AddSystem(proprioception)"
   ]
  },
  {
   "cell_type": "code",
   "execution_count": null,
   "metadata": {},
   "outputs": [],
   "source": [
    "adder = Adder(3, manipulator.data['nq'])\n",
    "builder.AddSystem(adder)\n",
    "tau_g_gain = Gain(-1, manipulator.data['nq'])\n",
    "builder.AddSystem(tau_g_gain)"
   ]
  },
  {
   "cell_type": "code",
   "execution_count": null,
   "metadata": {},
   "outputs": [],
   "source": [
    "joint_centering_ctrl = ctrl.aux.JointCenteringCtrl()\n",
    "builder.AddSystem(joint_centering_ctrl)"
   ]
  },
  {
   "cell_type": "code",
   "execution_count": null,
   "metadata": {},
   "outputs": [],
   "source": [
    "pre_contact_ctrl = ctrl.aux.PreContactCtrl()\n",
    "builder.AddSystem(pre_contact_ctrl)"
   ]
  },
  {
   "cell_type": "code",
   "execution_count": null,
   "metadata": {},
   "outputs": [],
   "source": [
    "ctrl_selector = ctrl.aux.CtrlSelector()\n",
    "builder.AddSystem(ctrl_selector)"
   ]
  },
  {
   "cell_type": "markdown",
   "metadata": {},
   "source": [
    "## Post-finalize steps"
   ]
  },
  {
   "cell_type": "code",
   "execution_count": null,
   "metadata": {},
   "outputs": [],
   "source": [
    "plant.Finalize()"
   ]
  },
  {
   "cell_type": "code",
   "execution_count": null,
   "metadata": {},
   "outputs": [],
   "source": [
    "# Set up vision\n",
    "builder.Connect(plant.get_body_poses_output_port(), vision.GetInputPort(\"poses\"))\n",
    "builder.Connect(plant.get_body_spatial_velocities_output_port(), vision.GetInputPort(\"vels\"))\n",
    "\n",
    "# Set up vision processor\n",
    "builder.Connect(vision.GetOutputPort(\"pose_L_translational\"), vision_processor.GetInputPort(\"pose_L_translational\"))\n",
    "builder.Connect(vision.GetOutputPort(\"pose_L_rotational\"), vision_processor.GetInputPort(\"pose_L_rotational\"))\n",
    "builder.Connect(vision.GetOutputPort(\"vel_L_translational\"), vision_processor.GetInputPort(\"vel_L_translational\"))\n",
    "builder.Connect(vision.GetOutputPort(\"vel_L_rotational\"), vision_processor.GetInputPort(\"vel_L_rotational\"))\n",
    "builder.Connect(vision.GetOutputPort(\"pose_M_translational\"), vision_processor.GetInputPort(\"pose_M_translational\"))\n",
    "builder.Connect(vision.GetOutputPort(\"pose_M_rotational\"), vision_processor.GetInputPort(\"pose_M_rotational\"))\n",
    "builder.Connect(vision.GetOutputPort(\"vel_M_translational\"), vision_processor.GetInputPort(\"vel_M_translational\"))\n",
    "builder.Connect(vision.GetOutputPort(\"vel_M_rotational\"), vision_processor.GetInputPort(\"vel_M_rotational\"))\n",
    "\n",
    "# Set up proprioception\n",
    "builder.Connect(plant.get_state_output_port(manipulator_instance), proprioception.GetInputPort(\"state\"))\n",
    "\n",
    "# Set up logger\n",
    "builder.Connect(plant.get_body_poses_output_port(), log_wrapper.GetInputPort(\"poses\"))\n",
    "builder.Connect(plant.get_body_spatial_velocities_output_port(), log_wrapper.GetInputPort(\"vels\"))\n",
    "builder.Connect(plant.get_body_spatial_accelerations_output_port(), log_wrapper.GetInputPort(\"accs\")) \n",
    "builder.Connect(plant.get_contact_results_output_port(), log_wrapper.GetInputPort(\"contact_results\"))\n",
    "builder.Connect(plant.get_reaction_forces_output_port(), log_wrapper.GetInputPort(\"joint_forces\"))\n",
    "builder.Connect(plant.get_generalized_acceleration_output_port(manipulator_instance),\n",
    "                log_wrapper.GetInputPort(\"manipulator_accs\"))\n",
    "builder.Connect(plant.get_state_output_port(manipulator_instance), log_wrapper.GetInputPort(\"state\"))\n",
    "builder.Connect(proprioception.GetOutputPort(\"tau_g\"), log_wrapper.GetInputPort(\"tau_g\"))\n",
    "builder.Connect(proprioception.GetOutputPort(\"M\"), log_wrapper.GetInputPort(\"M\"))\n",
    "builder.Connect(proprioception.GetOutputPort(\"Cv\"), log_wrapper.GetInputPort(\"Cv\"))\n",
    "builder.Connect(proprioception.GetOutputPort(\"J\"), log_wrapper.GetInputPort(\"J\"))\n",
    "builder.Connect(proprioception.GetOutputPort(\"Jdot_qdot\"), log_wrapper.GetInputPort(\"Jdot_qdot\"))\n",
    "builder.Connect(vision_processor.GetOutputPort(\"in_contact\"), log_wrapper.GetInputPort(\"in_contact\"))\n",
    "builder.Connect(joint_centering_ctrl.get_output_port(), log_wrapper.GetInputPort(\"joint_centering_torque\"))"
   ]
  },
  {
   "cell_type": "code",
   "execution_count": null,
   "metadata": {},
   "outputs": [],
   "source": [
    "if ctrlr_is_inverse_dynamics:\n",
    "    builder.Connect(vision_processor.GetOutputPort(\"theta_L\"), fold_ctrl.GetInputPort(\"theta_L\"))\n",
    "    builder.Connect(vision_processor.GetOutputPort(\"d_theta_L\"), fold_ctrl.GetInputPort(\"d_theta_L\"))\n",
    "    builder.Connect(vision_processor.GetOutputPort(\"p_LN\"), fold_ctrl.GetInputPort(\"p_LN\"))\n",
    "    builder.Connect(vision_processor.GetOutputPort(\"p_LT\"), fold_ctrl.GetInputPort(\"p_LT\"))\n",
    "    builder.Connect(vision_processor.GetOutputPort(\"theta_MX\"), fold_ctrl.GetInputPort(\"theta_MX\"))\n",
    "    builder.Connect(vision_processor.GetOutputPort(\"theta_MY\"), fold_ctrl.GetInputPort(\"theta_MY\"))\n",
    "    builder.Connect(vision_processor.GetOutputPort(\"theta_MZ\"), fold_ctrl.GetInputPort(\"theta_MZ\"))\n",
    "    builder.Connect(vision_processor.GetOutputPort(\"d_theta_MX\"), fold_ctrl.GetInputPort(\"d_theta_MX\"))\n",
    "    builder.Connect(vision_processor.GetOutputPort(\"d_theta_MY\"), fold_ctrl.GetInputPort(\"d_theta_MY\"))\n",
    "    builder.Connect(vision_processor.GetOutputPort(\"d_theta_MZ\"), fold_ctrl.GetInputPort(\"d_theta_MZ\"))\n",
    "    builder.Connect(vision_processor.GetOutputPort(\"F_GT\"), fold_ctrl.GetInputPort(\"F_GT\"))\n",
    "    builder.Connect(vision_processor.GetOutputPort(\"F_GN\"), fold_ctrl.GetInputPort(\"F_GN\"))\n",
    "    builder.Connect(vision_processor.GetOutputPort(\"d_X\"), fold_ctrl.GetInputPort(\"d_X\"))\n",
    "    builder.Connect(vision_processor.GetOutputPort(\"d_d_X\"), fold_ctrl.GetInputPort(\"d_d_X\"))\n",
    "    builder.Connect(vision_processor.GetOutputPort(\"d_N\"), fold_ctrl.GetInputPort(\"d_N\"))\n",
    "    builder.Connect(vision_processor.GetOutputPort(\"d_d_N\"), fold_ctrl.GetInputPort(\"d_d_N\"))\n",
    "    builder.Connect(vision_processor.GetOutputPort(\"d_T\"), fold_ctrl.GetInputPort(\"d_T\"))\n",
    "    builder.Connect(vision_processor.GetOutputPort(\"d_d_T\"), fold_ctrl.GetInputPort(\"d_d_T\"))\n",
    "    builder.Connect(vision_processor.GetOutputPort(\"p_CN\"), fold_ctrl.GetInputPort(\"p_CN\"))\n",
    "    builder.Connect(vision_processor.GetOutputPort(\"p_CT\"), fold_ctrl.GetInputPort(\"p_CT\"))\n",
    "    builder.Connect(vision_processor.GetOutputPort(\"p_MConM\"), fold_ctrl.GetInputPort(\"p_MConM\"))\n",
    "    builder.Connect(vision_processor.GetOutputPort(\"mu_S\"), fold_ctrl.GetInputPort(\"mu_S\"))\n",
    "    builder.Connect(vision_processor.GetOutputPort(\"hats_T\"), fold_ctrl.GetInputPort(\"hats_T\"))\n",
    "    builder.Connect(vision_processor.GetOutputPort(\"s_hat_X\"), fold_ctrl.GetInputPort(\"s_hat_X\"))\n",
    "    builder.Connect(proprioception.GetOutputPort(\"tau_g\"), fold_ctrl.GetInputPort(\"tau_g\"))\n",
    "    builder.Connect(proprioception.GetOutputPort(\"M\"), fold_ctrl.GetInputPort(\"M\"))\n",
    "    builder.Connect(proprioception.GetOutputPort(\"Cv\"), fold_ctrl.GetInputPort(\"Cv\"))\n",
    "    builder.Connect(proprioception.GetOutputPort(\"J\"), fold_ctrl.GetInputPort(\"J\"))\n",
    "    builder.Connect(proprioception.GetOutputPort(\"J_translational\"), fold_ctrl.GetInputPort(\"J_translational\"))\n",
    "    builder.Connect(proprioception.GetOutputPort(\"J_rotational\"), fold_ctrl.GetInputPort(\"J_rotational\"))\n",
    "    builder.Connect(proprioception.GetOutputPort(\"Jdot_qdot\"), fold_ctrl.GetInputPort(\"Jdot_qdot\"))\n",
    "    builder.Connect(joint_centering_ctrl.get_output_port(), fold_ctrl.GetInputPort(\"joint_centering_torque\"))\n",
    "elif ctrlr_is_kinematic_ctrlr:\n",
    "    builder.Connect(vision_processor.GetOutputPort(\"theta_L\"), fold_ctrl.GetInputPort(\"theta_L\"))\n",
    "    builder.Connect(vision_processor.GetOutputPort(\"d_theta_L\"), fold_ctrl.GetInputPort(\"d_theta_L\"))\n",
    "    builder.Connect(vision_processor.GetOutputPort(\"theta_MX\"), fold_ctrl.GetInputPort(\"theta_MX\"))\n",
    "    builder.Connect(vision_processor.GetOutputPort(\"theta_MY\"), fold_ctrl.GetInputPort(\"theta_MY\"))\n",
    "    builder.Connect(vision_processor.GetOutputPort(\"theta_MZ\"), fold_ctrl.GetInputPort(\"theta_MZ\"))\n",
    "    builder.Connect(vision_processor.GetOutputPort(\"d_theta_MX\"), fold_ctrl.GetInputPort(\"d_theta_MX\"))\n",
    "    builder.Connect(vision_processor.GetOutputPort(\"d_theta_MY\"), fold_ctrl.GetInputPort(\"d_theta_MY\"))\n",
    "    builder.Connect(vision_processor.GetOutputPort(\"d_theta_MZ\"), fold_ctrl.GetInputPort(\"d_theta_MZ\"))\n",
    "    builder.Connect(vision_processor.GetOutputPort(\"F_GN\"), fold_ctrl.GetInputPort(\"F_GN\"))\n",
    "    builder.Connect(vision_processor.GetOutputPort(\"d_X\"), fold_ctrl.GetInputPort(\"d_X\"))\n",
    "    builder.Connect(vision_processor.GetOutputPort(\"d_d_X\"), fold_ctrl.GetInputPort(\"d_d_X\"))\n",
    "    builder.Connect(vision_processor.GetOutputPort(\"d_T\"), fold_ctrl.GetInputPort(\"d_T\"))\n",
    "    builder.Connect(vision_processor.GetOutputPort(\"d_d_T\"), fold_ctrl.GetInputPort(\"d_d_T\"))\n",
    "    builder.Connect(vision_processor.GetOutputPort(\"T_hat\"), fold_ctrl.GetInputPort(\"T_hat\"))\n",
    "    builder.Connect(vision_processor.GetOutputPort(\"N_hat\"), fold_ctrl.GetInputPort(\"N_hat\"))\n",
    "    builder.Connect(proprioception.GetOutputPort(\"J_translational\"), fold_ctrl.GetInputPort(\"J_translational\"))\n",
    "    builder.Connect(proprioception.GetOutputPort(\"J_rotational\"), fold_ctrl.GetInputPort(\"J_rotational\"))"
   ]
  },
  {
   "cell_type": "code",
   "execution_count": null,
   "metadata": {},
   "outputs": [],
   "source": [
    "# Controller connections\n",
    "builder.Connect(vision_processor.GetOutputPort(\"in_contact\"), ctrl_selector.GetInputPort(\"in_contact\"))\n",
    "builder.Connect(fold_ctrl.get_output_port(), ctrl_selector.GetInputPort(\"contact_ctrl\"))\n",
    "builder.Connect(pre_contact_ctrl.get_output_port(), ctrl_selector.GetInputPort(\"pre_contact_ctrl\"))\n",
    "\n",
    "builder.Connect(ctrl_selector.get_output_port(), log_wrapper.GetInputPort(\"tau_ctrl\"))\n",
    "\n",
    "builder.Connect(proprioception.GetOutputPort(\"J\"), pre_contact_ctrl.GetInputPort(\"J\"))\n",
    "builder.Connect(vision_processor.GetOutputPort(\"v_MN\"), pre_contact_ctrl.GetInputPort(\"v_MN\"))\n",
    "builder.Connect(vision_processor.GetOutputPort(\"N_hat\"), pre_contact_ctrl.GetInputPort(\"N_hat\"))\n",
    "\n",
    "builder.Connect(proprioception.GetOutputPort(\"J\"), joint_centering_ctrl.GetInputPort(\"J\"))\n",
    "builder.Connect(proprioception.GetOutputPort(\"q\"), joint_centering_ctrl.GetInputPort(\"q\"))\n",
    "builder.Connect(proprioception.GetOutputPort(\"v\"), joint_centering_ctrl.GetInputPort(\"v\"))\n",
    "\n",
    "builder.Connect(proprioception.GetOutputPort(\"tau_g\"), tau_g_gain.get_input_port())\n",
    "\n",
    "builder.Connect(joint_centering_ctrl.get_output_port(), adder.get_input_port(0))\n",
    "builder.Connect(ctrl_selector.get_output_port(), adder.get_input_port(1))\n",
    "builder.Connect(tau_g_gain.get_output_port(), adder.get_input_port(2))\n",
    "\n",
    "builder.Connect(adder.get_output_port(), plant.get_actuation_input_port())\n",
    "builder.Connect(adder.get_output_port(), log_wrapper.GetInputPort(\"tau_out\"))"
   ]
  },
  {
   "cell_type": "code",
   "execution_count": null,
   "metadata": {},
   "outputs": [],
   "source": [
    "# Visualization and logging\n",
    "logger = LogOutput(log_wrapper.get_output_port(), builder)\n",
    "vis = pydrake.systems.meshcat_visualizer.ConnectMeshcatVisualizer(builder, scene_graph)\n",
    "\n",
    "# Build diagram and do actions requiring \n",
    "diagram = builder.Build()\n",
    "diagram_context = diagram.CreateDefaultContext()"
   ]
  },
  {
   "cell_type": "markdown",
   "metadata": {},
   "source": [
    "## Meschat link for old meschat"
   ]
  },
  {
   "cell_type": "markdown",
   "metadata": {},
   "source": [
    "## Visualize systems"
   ]
  },
  {
   "cell_type": "code",
   "execution_count": null,
   "metadata": {},
   "outputs": [],
   "source": [
    "objects_to_remove = [\n",
    "    \"SignalLogger\",\n",
    "    \"LogWrapper\",\n",
    "    \"scene_graph\",\n",
    "    \"meshcat\"\n",
    "]\n",
    "viz_str = diagram.GetGraphvizString()\n",
    "for obj in objects_to_remove:\n",
    "    expr = r'([0-9]{15}) \\[[^\\]]*label=\"[^\"]*' + obj\n",
    "    ID = re.search(expr, viz_str).group(1)\n",
    "    viz_str = re.sub(r\";[^;]*\" + ID + r\"[^;]+\", \"\", viz_str)"
   ]
  },
  {
   "cell_type": "code",
   "execution_count": null,
   "metadata": {},
   "outputs": [],
   "source": [
    "SVG(pydot.graph_from_dot_data(viz_str)[0].create_svg())"
   ]
  },
  {
   "cell_type": "markdown",
   "metadata": {},
   "source": [
    "# Run simulation"
   ]
  },
  {
   "cell_type": "code",
   "execution_count": null,
   "metadata": {},
   "outputs": [],
   "source": [
    "manipulator.data['set_positions'](diagram, diagram_context, plant, manipulator_instance)"
   ]
  },
  {
   "cell_type": "code",
   "execution_count": null,
   "metadata": {
    "scrolled": true
   },
   "outputs": [],
   "source": [
    "# Finalize simulation and visualization\n",
    "simulator = pydrake.systems.analysis.Simulator(diagram, diagram_context)\n",
    "simulator.Initialize()\n",
    "if not constants.USE_NEW_MESHCAT:\n",
    "    vis.start_recording()\n",
    "try:\n",
    "    simulator.AdvanceTo(constants.TSPAN)\n",
    "except RuntimeError as e:\n",
    "    print(e)\n",
    "except np.linalg.LinAlgError as e:\n",
    "    print(e)\n",
    "except AssertionError as e:\n",
    "    print(\"Optimization failed\")"
   ]
  },
  {
   "cell_type": "code",
   "execution_count": null,
   "metadata": {},
   "outputs": [],
   "source": [
    "# This way, we can use the actual time the simulation ran for\n",
    "effective_tspan = max(logger.sample_times())\n",
    "print(\"effective_tspan:\", effective_tspan)\n",
    "\n",
    "if not constants.USE_NEW_MESHCAT:\n",
    "    vis.stop_recording()\n",
    "    vis.publish_recording()"
   ]
  },
  {
   "cell_type": "markdown",
   "metadata": {},
   "source": [
    "# Plots used in orginal paper"
   ]
  },
  {
   "cell_type": "code",
   "execution_count": null,
   "metadata": {},
   "outputs": [],
   "source": [
    "# This script is getting huge. We need to turn off parts that we're not using.\n",
    "generate_paper_plots = False"
   ]
  },
  {
   "cell_type": "code",
   "execution_count": null,
   "metadata": {},
   "outputs": [],
   "source": [
    "if generate_paper_plots:\n",
    "    # Generate plots for paper\n",
    "    nb = plant.num_bodies()\n",
    "    y_traces = []\n",
    "    z_traces = []\n",
    "    theta_traces = []\n",
    "    for b in paper.link_idxs:\n",
    "        y_traces.append(logger.data()[log_wrapper.entries_per_body*b+1])\n",
    "        z_traces.append(logger.data()[log_wrapper.entries_per_body*b+2])\n",
    "        theta_traces.append(logger.data()[log_wrapper.entries_per_body*b+3])\n",
    "    y_traces = np.array(y_traces)\n",
    "    z_traces = np.array(z_traces)\n",
    "    theta_traces = np.array(theta_traces)\n",
    "\n",
    "    times_ = np.arange(0,effective_tspan, effective_tspan/10)\n",
    "    cmap = cm.get_cmap(\"viridis_r\")\n",
    "    plt.figure(figsize=(2*3,2*2))\n",
    "    for t in times_:\n",
    "        c = cmap(t/effective_tspan)\n",
    "        idx = np.argmax(logger.sample_times() >= t)\n",
    "\n",
    "        # Plot paper\n",
    "        # PROGRAMMING: Account for paper thickness in plots\n",
    "        for y, z, theta in zip(y_traces[:,idx], z_traces[:,idx], theta_traces[:,idx]):\n",
    "            y0 = y - np.cos(theta)*paper.link_width/2\n",
    "            z0 = z - np.sin(theta)*paper.link_width/2\n",
    "            y1 = y + np.cos(theta)*paper.link_width/2\n",
    "            z1 = z + np.sin(theta)*paper.link_width/2\n",
    "            plt.plot([y0, y1], [z0, z1], color=c)\n",
    "\n",
    "\n",
    "        # Plot manipulator\n",
    "        plt.scatter(logger.data()[log_wrapper.entries_per_body*contact_body_idx+1,idx], \n",
    "                    logger.data()[log_wrapper.entries_per_body*contact_body_idx+2,idx],\n",
    "                    color=c, s=300, zorder=1)\n",
    "\n",
    "    xlim = plt.xlim()\n",
    "    ylim = plt.ylim()\n",
    "    plt.scatter([xlim[0]-50, xlim[0]-50], [ylim[0]-50, ylim[0]-50], c=[0, effective_tspan], cmap=cmap)\n",
    "    plt.xlim(xlim)\n",
    "    plt.ylim(ylim)\n",
    "    cb = plt.colorbar()\n",
    "    cb.set_label(\"Time\")\n",
    "    plt.xlabel(\"$y$ position\")\n",
    "    plt.ylabel(\"$z$ position\")\n",
    "    plt.show()"
   ]
  },
  {
   "cell_type": "markdown",
   "metadata": {},
   "source": [
    "# Drag plots"
   ]
  },
  {
   "cell_type": "markdown",
   "metadata": {},
   "source": [
    "This is a sanity check to see how much force we're neglecting by ignoring drag. The colored lines are the drag forces at each link, and the dashed black line is the force due to gravity for scale.\n",
    "\n",
    "Note that the formula for drag force is $\\rho v^2 C_d A_{paper}$.\n",
    "\n",
    "$C_d$ comes from [this site](https://www.engineersedge.com/fluid_flow/rectangular_flat_plate_drag_14036.htm), which says it depends on $L/d$. For 20 links, $L/d\\approx15$. Rounding this down to 10, we get $C_d=1.22$."
   ]
  },
  {
   "cell_type": "code",
   "execution_count": null,
   "metadata": {},
   "outputs": [],
   "source": [
    "generate_drag_plots = False"
   ]
  },
  {
   "cell_type": "code",
   "execution_count": null,
   "metadata": {},
   "outputs": [],
   "source": [
    "if generate_drag_plots:\n",
    "    # Plot drag forces\n",
    "    plt.figure(figsize=(16, 12))\n",
    "    nb = plant.num_bodies\n",
    "    vel_traces = []\n",
    "    for b in paper.link_idxs:\n",
    "        rho = 1.225\n",
    "        C_d = paper.link_width*paper.depth\n",
    "        vel_sqred = logger.data()[log_wrapper.entries_per_body*b+7]**2+logger.data()[log_wrapper.entries_per_body*b+8]**2\n",
    "        f = 0.5*rho*C_d*vel_sqred\n",
    "        plt.plot(f)\n",
    "\n",
    "    plt.axhline(paper.link_mass*9.81, color='black', linestyle='--')\n",
    "    plt.show()"
   ]
  },
  {
   "cell_type": "markdown",
   "metadata": {},
   "source": [
    "# Loading signals\n",
    "Preparing all the signals we'll need."
   ]
  },
  {
   "cell_type": "code",
   "execution_count": null,
   "metadata": {},
   "outputs": [],
   "source": [
    "if hasattr(fold_ctrl, \"debug\"):\n",
    "    debug = fold_ctrl.debug\n",
    "    \n",
    "    min_key_length = np.inf\n",
    "    for k in debug.keys():\n",
    "        if len(debug[k]) > 0 and len(debug[k]) < min_key_length:\n",
    "            print(k)\n",
    "            min_key_length = len(debug[k])\n",
    "    for k in debug.keys():\n",
    "        debug[k] = debug[k][:min_key_length]\n",
    "\n",
    "    d_times = np.array(debug['times'])\n",
    "else:\n",
    "    debug = None"
   ]
  },
  {
   "cell_type": "code",
   "execution_count": null,
   "metadata": {},
   "outputs": [],
   "source": [
    "l_times = logger.sample_times()"
   ]
  },
  {
   "cell_type": "markdown",
   "metadata": {},
   "source": [
    "## Helper functions"
   ]
  },
  {
   "cell_type": "code",
   "execution_count": null,
   "metadata": {},
   "outputs": [],
   "source": [
    "def diff_vec(vec):\n",
    "    d_vec = np.diff(vec, axis=0)\n",
    "    for i in range(vec.shape[1]):\n",
    "        d_vec[:, i] /= np.expand_dims(np.diff(l_times), 1)\n",
    "    d_vec = np.concatenate((d_vec, [d_vec[-1]]))\n",
    "    return d_vec"
   ]
  },
  {
   "cell_type": "code",
   "execution_count": null,
   "metadata": {},
   "outputs": [],
   "source": [
    "def plot_vec(sig1, sig1_label, sig2, sig2_label, finish_plotting=True, plot_x=True, start_time=None):\n",
    "    if start_time is None:\n",
    "        idx_start_ = idx_start\n",
    "    else:\n",
    "        idx_start_ = np.argmax(l_times > start_time)\n",
    "    plt.figure(figsize=(16, 8))\n",
    "    lw = 5\n",
    "    if plot_x:\n",
    "        plt.plot(l_times[idx_start_:idx_end], sig1[:,0][idx_start_:idx_end], label=sig1_label + r' $\\hat x$ component', color='pink', linewidth=lw)\n",
    "    plt.plot(l_times[idx_start_:idx_end], sig1[:,1][idx_start_:idx_end], label=sig1_label + r' $\\hat y$ component', color='lightgreen', linewidth=lw)\n",
    "    plt.plot(l_times[idx_start_:idx_end], sig1[:,2][idx_start_:idx_end], label=sig1_label + r' $\\hat z$ component', color='lightskyblue', linewidth=lw)\n",
    "    \n",
    "    if plot_x:\n",
    "        plt.plot(l_times[idx_start_:idx_end], sig2[:,0][idx_start_:idx_end], label=sig2_label + r' $\\hat x$ component', color='red', linewidth=lw, linestyle='--')\n",
    "    plt.plot(l_times[idx_start_:idx_end], sig2[:,1][idx_start_:idx_end], label=sig2_label + r' $\\hat y$ component', color='green', linewidth=lw, linestyle='--')\n",
    "    plt.plot(l_times[idx_start_:idx_end], sig2[:,2][idx_start_:idx_end], label=sig2_label + r' $\\hat z$ component', color='blue', linewidth=lw, linestyle='--')\n",
    "    plt.xlabel(\"Time (seconds)\")\n",
    "    plt.legend()\n",
    "    plt.autoscale(enable=True, axis='x', tight=True)\n",
    "    if finish_plotting:\n",
    "        plt.show()"
   ]
  },
  {
   "cell_type": "code",
   "execution_count": null,
   "metadata": {},
   "outputs": [],
   "source": [
    "def plot_vec_XTN(sig1, sig1_label, sig2, sig2_label, finish_plotting=True, plot_x=True, start_time=None):\n",
    "    if start_time is None:\n",
    "        idx_start_ = idx_start\n",
    "    else:\n",
    "        idx_start_ = np.argmax(l_times > start_time)\n",
    "    plt.figure(figsize=(16, 8))\n",
    "    lw = 5\n",
    "    \n",
    "    T_proj1 = np.matmul(T(sig1), T_hat).flatten()\n",
    "    T_proj2 = np.matmul(T(sig2), T_hat).flatten()\n",
    "    N_proj1 = np.matmul(T(sig1), N_hat).flatten()\n",
    "    N_proj2 = np.matmul(T(sig2), N_hat).flatten()\n",
    "    \n",
    "    plt.plot(l_times[idx_start_:idx_end], sig1[:,0][idx_start_:idx_end], label=sig1_label + r' $\\hat x$ component', color='pink', linewidth=lw)\n",
    "    plt.plot(l_times[idx_start_:idx_end], T_proj1[idx_start_:idx_end], label=sig1_label + r' $\\hat T$ component', color='lightgreen', linewidth=lw)\n",
    "    plt.plot(l_times[idx_start_:idx_end], N_proj1[idx_start_:idx_end], label=sig1_label + r' $\\hat N$ component', color='lightskyblue', linewidth=lw)\n",
    "    \n",
    "    plt.plot(l_times[idx_start_:idx_end], sig2[:,0][idx_start_:idx_end], label=sig2_label + r' $\\hat x$ component', color='red', linewidth=lw, linestyle='--')\n",
    "    plt.plot(l_times[idx_start_:idx_end], T_proj2[idx_start_:idx_end], label=sig2_label + r' $\\hat T$ component', color='green', linewidth=lw, linestyle='--')\n",
    "    plt.plot(l_times[idx_start_:idx_end], N_proj2[idx_start_:idx_end], label=sig2_label + r' $\\hat N$ component', color='blue', linewidth=lw, linestyle='--')\n",
    "    plt.xlabel(\"Time (seconds)\")\n",
    "    plt.legend()\n",
    "    plt.autoscale(enable=True, axis='x', tight=True)\n",
    "    if finish_plotting:\n",
    "        plt.show()"
   ]
  },
  {
   "cell_type": "code",
   "execution_count": null,
   "metadata": {},
   "outputs": [],
   "source": [
    "def diff_arr(arr):\n",
    "    d_arr = np.diff(arr)/np.diff(l_times)\n",
    "    d_arr = np.concatenate((d_arr, [d_arr[-1]]))\n",
    "    return d_arr"
   ]
  },
  {
   "cell_type": "code",
   "execution_count": null,
   "metadata": {},
   "outputs": [],
   "source": [
    "# Friction helper functions\n",
    "def step5(x):\n",
    "    '''Python version of MultibodyPlant::StribeckModel::step5 method'''\n",
    "    x3 = x * x * x\n",
    "    return x3 * (10 + x * (6 * x - 15))\n",
    "\n",
    "def stribeck(us, uk, v):\n",
    "    '''\n",
    "    Python version of MultibodyPlant::StribeckModel::ComputeFrictionCoefficient\n",
    "    \n",
    "    From\n",
    "    https://github.com/RobotLocomotion/drake/blob/b09e40db4b1c01232b22f7705fb98aa99ef91f87/multibody/plant/images/stiction.py\n",
    "    '''\n",
    "    u = np.zeros_like(v) + uk\n",
    "    u[v < 1] = us * step5(v[v < 1])\n",
    "    mask = (v >= 1) & (v < 3)\n",
    "    u[mask] = us - (us - uk) * step5((v[mask] - 1) / 2)\n",
    "    return u"
   ]
  },
  {
   "cell_type": "code",
   "execution_count": null,
   "metadata": {},
   "outputs": [],
   "source": [
    "def T(vec):\n",
    "    return np.transpose(vec, [0, 2, 1])"
   ]
  },
  {
   "cell_type": "markdown",
   "metadata": {},
   "source": [
    "## Inputs\n",
    "These should all come from simulation/geometry, since they are inputs to the controller and are \"fixed\" from the controller's perspective."
   ]
  },
  {
   "cell_type": "code",
   "execution_count": null,
   "metadata": {},
   "outputs": [],
   "source": [
    "nq = manipulator.data['nq']"
   ]
  },
  {
   "cell_type": "markdown",
   "metadata": {},
   "source": [
    "### Geometric quantities ($m_L, m_M, w_L, I_L, h_L, \\mu$)"
   ]
  },
  {
   "cell_type": "code",
   "execution_count": null,
   "metadata": {},
   "outputs": [],
   "source": [
    "m_L = paper.link_mass\n",
    "w_L = paper.link_width\n",
    "I_L = paper.plant.get_body(\n",
    "    BodyIndex(paper.link_idxs[-1])).default_rotational_inertia().CalcPrincipalMomentsOfInertia()[0]\n",
    "h_L = paper.height\n",
    "mu_paper = constants.FRICTION\n",
    "mu = 2*mu_paper/(1+mu_paper) # 2μₘμₙ/(μₘ + μₙ)\n",
    "b_J = paper.damping\n",
    "k_J = paper.stiffness"
   ]
  },
  {
   "cell_type": "markdown",
   "metadata": {},
   "source": [
    "### Gravity, unit vectors ($F_{GT}, F_{GN}, \\hat T, \\hat N$)"
   ]
  },
  {
   "cell_type": "code",
   "execution_count": null,
   "metadata": {},
   "outputs": [],
   "source": [
    "# Assume plane contact, so all N_hat should point the same direction\n",
    "# TODO: verify all point in the same direction\n",
    "N_hat_raw = logger.data()[log_wrapper.contact_entry_start_idx+14:log_wrapper.contact_entry_start_idx+17,:].copy() # So it's writeable\n",
    "N_hat = np.expand_dims(N_hat_raw.T, 2)\n",
    "N_hat[:,0][np.isnan(N_hat[:,0])] = 0\n",
    "N_hat[:,1][np.isnan(N_hat[:,1])] = 0\n",
    "N_hat[:,2][np.isnan(N_hat[:,2])] = 1"
   ]
  },
  {
   "cell_type": "code",
   "execution_count": null,
   "metadata": {},
   "outputs": [],
   "source": [
    "T_hat = np.matmul(\n",
    "    np.array([\n",
    "        [1,  0, 0],\n",
    "        [0,  0, 1],\n",
    "        [0, -1, 0],\n",
    "    ]),\n",
    "    N_hat)"
   ]
  },
  {
   "cell_type": "markdown",
   "metadata": {},
   "source": [
    "It's also useful here to calculate project matrices:"
   ]
  },
  {
   "cell_type": "code",
   "execution_count": null,
   "metadata": {},
   "outputs": [],
   "source": [
    "N_hat_proj_mat = np.matmul(N_hat, np.transpose(N_hat, [0, 2, 1]))"
   ]
  },
  {
   "cell_type": "code",
   "execution_count": null,
   "metadata": {},
   "outputs": [],
   "source": [
    "g = plant.gravity_field().gravity_vector()[-1]*-1\n",
    "F_G = np.zeros([l_times.size, 3, 1])\n",
    "F_G[:,2,0] = -np.ones_like(l_times)*g*m_L\n",
    "F_GT = np.matmul(T(F_G), T_hat).flatten()\n",
    "F_GN = np.matmul(T(F_G), N_hat).flatten()"
   ]
  },
  {
   "cell_type": "code",
   "execution_count": null,
   "metadata": {},
   "outputs": [],
   "source": [
    "idx = log_wrapper.tau_g_start_idx\n",
    "length = manipulator.data[\"nq\"]\n",
    "tau_g = np.expand_dims(logger.data()[idx:idx+length].T, 2)"
   ]
  },
  {
   "cell_type": "markdown",
   "metadata": {},
   "source": [
    "### Positions, velocities ($\\dot\\theta^2, r_T, \\dot d_T$)"
   ]
  },
  {
   "cell_type": "markdown",
   "metadata": {},
   "source": [
    "#### Object poses & vels"
   ]
  },
  {
   "cell_type": "code",
   "execution_count": null,
   "metadata": {},
   "outputs": [],
   "source": [
    "idx = log_wrapper.get_idx(\"pos\", \"trn\", ll_idx)\n",
    "length = 3\n",
    "p_L = np.expand_dims(logger.data()[idx:idx+length].T, 2)\n",
    "p_LN = np.matmul(T(p_L), N_hat).flatten()\n",
    "p_LT = np.matmul(T(p_L), T_hat).flatten()\n",
    "p_LX = p_L[:,0].flatten()"
   ]
  },
  {
   "cell_type": "code",
   "execution_count": null,
   "metadata": {},
   "outputs": [],
   "source": [
    "theta_L = logger.data()[log_wrapper.get_idx(\"pos\", \"rot\", ll_idx)]"
   ]
  },
  {
   "cell_type": "code",
   "execution_count": null,
   "metadata": {},
   "outputs": [],
   "source": [
    "theta_MX = logger.data()[log_wrapper.get_idx(\"pos\", \"rot\", contact_body_idx)]\n",
    "theta_MY = logger.data()[log_wrapper.get_idx(\"pos\", \"rot\", contact_body_idx)+1]\n",
    "theta_MZ = logger.data()[log_wrapper.get_idx(\"pos\", \"rot\", contact_body_idx)+2]"
   ]
  },
  {
   "cell_type": "code",
   "execution_count": null,
   "metadata": {},
   "outputs": [],
   "source": [
    "d_theta_L = logger.data()[log_wrapper.get_idx(\"vel\", \"rot\", ll_idx)]\n",
    "d_theta_M = logger.data()[log_wrapper.get_idx(\"vel\", \"rot\", contact_body_idx)]"
   ]
  },
  {
   "cell_type": "code",
   "execution_count": null,
   "metadata": {},
   "outputs": [],
   "source": [
    "x_hat = np.zeros((len(l_times), 3, 1))\n",
    "x_hat[:,0,:] = 1\n",
    "\n",
    "y_hat = np.zeros((len(l_times), 3, 1))\n",
    "y_hat[:,1,:] = 1\n",
    "\n",
    "z_hat = np.zeros((len(l_times), 3, 1))\n",
    "z_hat[:,2,:] = 1"
   ]
  },
  {
   "cell_type": "code",
   "execution_count": null,
   "metadata": {},
   "outputs": [],
   "source": [
    "idx = log_wrapper.get_idx(\"vel\", \"trn\", ll_idx)\n",
    "length = 3\n",
    "v_L = np.expand_dims(logger.data()[idx:idx+length].T,2)\n",
    "v_LN = np.matmul(T(v_L), N_hat).flatten()\n",
    "v_LT = np.matmul(T(v_L), T_hat).flatten()\n",
    "v_LX = v_L[:,0].flatten()"
   ]
  },
  {
   "cell_type": "code",
   "execution_count": null,
   "metadata": {},
   "outputs": [],
   "source": [
    "idx = log_wrapper.get_idx(\"pos\", \"trn\", contact_body_idx)\n",
    "length = 3\n",
    "p_M = np.expand_dims(logger.data()[idx:idx+length].T, 2)\n",
    "p_MN = np.matmul(T(p_M), N_hat).flatten()\n",
    "p_MT = np.matmul(T(p_M), T_hat).flatten()\n",
    "p_MX = p_M[:,0].flatten()"
   ]
  },
  {
   "cell_type": "code",
   "execution_count": null,
   "metadata": {},
   "outputs": [],
   "source": [
    "idx = log_wrapper.get_idx(\"pos\", \"rot\", contact_body_idx)\n",
    "length = 3\n",
    "np.expand_dims(logger.data()[idx:idx+length].T, 2)[0]"
   ]
  },
  {
   "cell_type": "code",
   "execution_count": null,
   "metadata": {},
   "outputs": [],
   "source": [
    "idx = log_wrapper.get_idx(\"vel\", \"trn\", contact_body_idx)\n",
    "length = 3\n",
    "v_M = np.expand_dims(logger.data()[idx:idx+length].T, 2)\n",
    "v_MN = np.matmul(T(v_M), N_hat).flatten()\n",
    "v_MT = np.matmul(T(v_M), T_hat).flatten()\n",
    "v_MX = v_M[:,0].flatten()"
   ]
  },
  {
   "cell_type": "markdown",
   "metadata": {},
   "source": [
    "#### Manipulator eq. terms"
   ]
  },
  {
   "cell_type": "code",
   "execution_count": null,
   "metadata": {},
   "outputs": [],
   "source": [
    "idx = log_wrapper.J_start_idx\n",
    "length = manipulator.data[\"nq\"]*6\n",
    "J = np.transpose(logger.data()[idx:idx+length].reshape(6, nq, len(l_times)), [2, 0, 1])\n",
    "J_rotational = J[:,:3,:]\n",
    "J_translational = J[:,3:,:]"
   ]
  },
  {
   "cell_type": "code",
   "execution_count": null,
   "metadata": {},
   "outputs": [],
   "source": [
    "idx = log_wrapper.joint_centering_torque_start_idx\n",
    "length = manipulator.data[\"nq\"]\n",
    "joint_centering_torque = np.expand_dims(np.transpose(logger.data()[idx:idx+length]), 2)"
   ]
  },
  {
   "cell_type": "code",
   "execution_count": null,
   "metadata": {},
   "outputs": [],
   "source": [
    "q = np.expand_dims((logger.data()[log_wrapper.state_start_idx:log_wrapper.state_start_idx + nq,:]).T, 2)\n",
    "d_q = np.expand_dims((logger.data()[log_wrapper.state_start_idx + nq:log_wrapper.state_start_idx + nq*2,:]).T, 2)"
   ]
  },
  {
   "cell_type": "code",
   "execution_count": null,
   "metadata": {},
   "outputs": [],
   "source": [
    "idx = log_wrapper.M_start_idx\n",
    "length = manipulator.data[\"nq\"]*manipulator.data[\"nq\"]\n",
    "M = np.transpose(logger.data()[idx:idx+length].reshape(nq, nq, len(l_times)), [2, 0, 1])"
   ]
  },
  {
   "cell_type": "code",
   "execution_count": null,
   "metadata": {},
   "outputs": [],
   "source": [
    "idx = log_wrapper.Cv_start_idx\n",
    "length = manipulator.data[\"nq\"]\n",
    "Cv = np.expand_dims(logger.data()[idx:idx+length].T, 2)"
   ]
  },
  {
   "cell_type": "code",
   "execution_count": null,
   "metadata": {},
   "outputs": [],
   "source": [
    "idx = log_wrapper.Jdot_qdot_start_idx\n",
    "length = 6\n",
    "Jdot_qdot = np.expand_dims(logger.data()[idx:idx+length].T, 2)"
   ]
  },
  {
   "cell_type": "markdown",
   "metadata": {},
   "source": [
    "#### Body derived terms\n",
    "Meaning terms derived from the positions/velocities of bodies"
   ]
  },
  {
   "cell_type": "code",
   "execution_count": null,
   "metadata": {},
   "outputs": [],
   "source": [
    "R = np.zeros((len(l_times), 3, 3))\n",
    "R[:,1,1] = np.cos(theta_L)\n",
    "R[:,1,2] = -np.sin(theta_L)\n",
    "R[:,2,1] = np.sin(theta_L)\n",
    "R[:,2,2] = np.cos(theta_L)"
   ]
  },
  {
   "cell_type": "code",
   "execution_count": null,
   "metadata": {},
   "outputs": [],
   "source": [
    "T_hat_geo = np.matmul(R, y_hat)\n",
    "N_hat_geo = np.matmul(R, z_hat)"
   ]
  },
  {
   "cell_type": "code",
   "execution_count": null,
   "metadata": {},
   "outputs": [],
   "source": [
    "# Link edge\n",
    "p_LE = p_L + (w_L/2)*T_hat-(h_L/2)*N_hat"
   ]
  },
  {
   "cell_type": "code",
   "execution_count": null,
   "metadata": {},
   "outputs": [],
   "source": [
    "omega_vec_L = np.expand_dims(np.vstack((d_theta_L, np.zeros_like(d_theta_L), np.zeros_like(d_theta_L))).T, 2)\n",
    "idx = log_wrapper.get_idx(\"vel\", \"rot\", contact_body_idx)\n",
    "length = 3\n",
    "omega_vec_M = np.expand_dims(logger.data()[idx:idx+length].T, 2)"
   ]
  },
  {
   "cell_type": "code",
   "execution_count": null,
   "metadata": {},
   "outputs": [],
   "source": [
    "J_dot = diff_vec(J)"
   ]
  },
  {
   "cell_type": "markdown",
   "metadata": {},
   "source": [
    "#### Contact terms\n",
    "TODO: edit out/simplify eventually"
   ]
  },
  {
   "cell_type": "code",
   "execution_count": null,
   "metadata": {},
   "outputs": [],
   "source": [
    "contact_point = logger.data()[log_wrapper.contact_entry_start_idx+11:log_wrapper.contact_entry_start_idx+14,:]"
   ]
  },
  {
   "cell_type": "code",
   "execution_count": null,
   "metadata": {},
   "outputs": [],
   "source": [
    "p_C = np.expand_dims(contact_point.T, 2)\n",
    "p_CT = np.matmul(T(p_C), T_hat).flatten()\n",
    "p_CN = np.matmul(T(p_C), N_hat).flatten()"
   ]
  },
  {
   "cell_type": "code",
   "execution_count": null,
   "metadata": {},
   "outputs": [],
   "source": [
    "r = np.linalg.norm(p_C - p_M, axis=1).flatten()"
   ]
  },
  {
   "cell_type": "code",
   "execution_count": null,
   "metadata": {},
   "outputs": [],
   "source": [
    "# Assume all the slip speeds are the same\n",
    "# TODO: verify\n",
    "slip_speed = logger.data()[log_wrapper.contact_entry_start_idx+10,:]"
   ]
  },
  {
   "cell_type": "code",
   "execution_count": null,
   "metadata": {},
   "outputs": [],
   "source": [
    "# d vector\n",
    "d_vec = p_C - p_LE\n",
    "d_T = np.matmul(T(d_vec), T_hat).flatten()\n",
    "d_N = np.matmul(T(d_vec), N_hat).flatten()\n",
    "d_X = d_vec[:,0].flatten()"
   ]
  },
  {
   "cell_type": "code",
   "execution_count": null,
   "metadata": {},
   "outputs": [],
   "source": [
    "d_d_T = -d_theta_L*h_L/2-d_theta_L*r - v_LT + v_MT + d_theta_L*d_N\n",
    "d_d_N = -d_theta_L*w_L/2-v_LN+v_MN-d_theta_L*d_T\n",
    "d_d_X = diff_arr(d_X)"
   ]
  },
  {
   "cell_type": "code",
   "execution_count": null,
   "metadata": {},
   "outputs": [],
   "source": [
    "dd_d_T = diff_arr(d_d_T)\n",
    "dd_d_N = diff_arr(d_d_N)\n",
    "dd_d_X = diff_arr(d_d_X)"
   ]
  },
  {
   "cell_type": "code",
   "execution_count": null,
   "metadata": {},
   "outputs": [],
   "source": [
    "d_d_vec = diff_vec(d_vec)\n",
    "d_d_vec_T = np.matmul(T(d_d_vec), T_hat).flatten()\n",
    "d_d_vec_N = np.matmul(T(d_d_vec), N_hat).flatten()"
   ]
  },
  {
   "cell_type": "code",
   "execution_count": null,
   "metadata": {},
   "outputs": [],
   "source": [
    "p_MConM = p_C - p_M\n",
    "p_LConL = p_C - p_L\n",
    "\n",
    "v_WConM = v_M + np.cross(omega_vec_M, p_MConM, axis=1)\n",
    "v_WConL = v_L + np.cross(omega_vec_L, p_LConL, axis=1)\n",
    "\n",
    "v_S_raw = v_WConM - v_WConL\n",
    "v_S_N = np.matmul(N_hat_proj_mat, v_S_raw)\n",
    "v_S = v_S_raw - v_S_N\n",
    "v_S = v_S_raw - v_S_N\n",
    "s_S = np.linalg.norm(v_S, axis=1).flatten()"
   ]
  },
  {
   "cell_type": "code",
   "execution_count": null,
   "metadata": {},
   "outputs": [],
   "source": [
    "s_hat = v_S/np.expand_dims(np.linalg.norm(v_S, axis=1), 2)\n",
    "s_hat_X = s_hat[:,0].flatten()\n",
    "s_hat_T = np.matmul(T(s_hat), T_hat).flatten()"
   ]
  },
  {
   "cell_type": "code",
   "execution_count": null,
   "metadata": {},
   "outputs": [],
   "source": [
    "d_d_T_diff = diff_arr(d_T)\n",
    "d_d_N_diff = diff_arr(d_N)"
   ]
  },
  {
   "cell_type": "markdown",
   "metadata": {},
   "source": [
    "### Friction coeficients"
   ]
  },
  {
   "cell_type": "code",
   "execution_count": null,
   "metadata": {},
   "outputs": [],
   "source": [
    "mu_S = stribeck(1, 1, slip_speed/v_stiction)"
   ]
  },
  {
   "cell_type": "markdown",
   "metadata": {},
   "source": [
    "## Outputs\n",
    "These should all come directly from simulation, except for control forces.\n",
    "### Measured accelerations ($a_{LT}, a_{LN}, a_{MT}, a_{MN}, \\ddot\\theta$)"
   ]
  },
  {
   "cell_type": "code",
   "execution_count": null,
   "metadata": {},
   "outputs": [],
   "source": [
    "idx = log_wrapper.get_idx(\"acc\", \"trn\", ll_idx)\n",
    "length = 3\n",
    "a_L = np.expand_dims(logger.data()[idx:idx+length].T, 2)\n",
    "a_LX = np.matmul(T(a_L), x_hat).flatten()\n",
    "a_LT = np.matmul(T(a_L), T_hat).flatten()\n",
    "a_LN = np.matmul(T(a_L), N_hat).flatten()"
   ]
  },
  {
   "cell_type": "code",
   "execution_count": null,
   "metadata": {},
   "outputs": [],
   "source": [
    "idx = log_wrapper.get_idx(\"acc\", \"trn\", contact_body_idx)\n",
    "length = 3\n",
    "a_M = np.expand_dims(logger.data()[idx:idx+length].T, 2)\n",
    "a_MT = np.matmul(T(a_M), T_hat).flatten()\n",
    "a_MN = np.matmul(T(a_M), N_hat).flatten()\n",
    "a_MX = a_M[:,0].flatten()\n",
    "a_MY = a_M[:,1].flatten()\n",
    "a_MZ = a_M[:,2].flatten()"
   ]
  },
  {
   "cell_type": "code",
   "execution_count": null,
   "metadata": {},
   "outputs": [],
   "source": [
    "idx = log_wrapper.get_idx(\"acc\", \"rot\", contact_body_idx)\n",
    "length = 3\n",
    "alpha_M = np.expand_dims(logger.data()[idx:idx+length].T, 2)\n",
    "alpha_MT = np.matmul(T(alpha_M), T_hat).flatten()\n",
    "alpha_MN = np.matmul(T(alpha_M), N_hat).flatten()\n",
    "alpha_MX = alpha_M[:,0].flatten()\n",
    "alpha_MY = alpha_M[:,1].flatten()\n",
    "alpha_MZ = alpha_M[:,2].flatten()"
   ]
  },
  {
   "cell_type": "code",
   "execution_count": null,
   "metadata": {},
   "outputs": [],
   "source": [
    "dd_theta_L = logger.data()[log_wrapper.get_idx(\"acc\", \"rot\", ll_idx)]\n",
    "dd_theta_M = logger.data()[log_wrapper.get_idx(\"acc\", \"rot\", contact_body_idx)]"
   ]
  },
  {
   "cell_type": "code",
   "execution_count": null,
   "metadata": {},
   "outputs": [],
   "source": [
    "dd_q = np.expand_dims((logger.data()[log_wrapper.gen_accs_start_idx:\n",
    "                                     log_wrapper.gen_accs_start_idx+nq,:]).T, 2)"
   ]
  },
  {
   "cell_type": "markdown",
   "metadata": {},
   "source": [
    "### Contact forces ($F_{NL}, F_{FL}, F_{NM}, F_{FM}$)\n",
    "Slightly different then just taking normal/tangent projections."
   ]
  },
  {
   "cell_type": "code",
   "execution_count": null,
   "metadata": {},
   "outputs": [],
   "source": [
    "F_NM = np.zeros(len(l_times))\n",
    "F_FMT = np.zeros(len(l_times))\n",
    "F_FMX = np.zeros(len(l_times))\n",
    "F_ContactM_XYZ = np.zeros((len(l_times), 3, 1))\n",
    "tau_contact = np.zeros((len(l_times), nq, 1))\n",
    "for i in range(log_wrapper.max_contacts):\n",
    "    # Pull out terms\n",
    "    start_idx = log_wrapper.contact_entry_start_idx + log_wrapper.entries_per_contact*i\n",
    "    contact_point = np.expand_dims(logger.data()[start_idx+11:start_idx+14,:].T, 2)\n",
    "    if np.all(np.isnan(contact_point)):\n",
    "        break\n",
    "\n",
    "    # Calculate intermediautes\n",
    "    lever_arm = contact_point - p_M\n",
    "    force = np.expand_dims(logger.data()[start_idx+0:start_idx+3,:].T, 2)\n",
    "    torque = np.cross(lever_arm, force, axis=1)\n",
    "    wrench = np.hstack((torque, force))\n",
    "    \n",
    "    # Calculate updates\n",
    "    F_FMT_update = np.matmul(T(force), T_hat).flatten()\n",
    "    F_NM_update = np.matmul(T(force), N_hat).flatten()\n",
    "    F_FMX_update = force[:,0].flatten()\n",
    "    F_ContactM_XYZ_update = force\n",
    "    \n",
    "    # Update\n",
    "    tau_contact += np.matmul(T(J), wrench)\n",
    "    F_FMT += F_FMT_update\n",
    "    F_NM += F_NM_update\n",
    "    F_FMX += F_FMX_update\n",
    "    F_ContactM_XYZ += F_ContactM_XYZ_update\n",
    "    \n",
    "F_NM = np.nan_to_num(F_NM)\n",
    "F_FMT = np.nan_to_num(F_FMT)\n",
    "F_FMX = np.nan_to_num(F_FMX)\n",
    "tau_contact = np.nan_to_num(tau_contact)\n",
    "F_ContactM_XYZ = np.nan_to_num(F_ContactM_XYZ)"
   ]
  },
  {
   "cell_type": "code",
   "execution_count": null,
   "metadata": {},
   "outputs": [],
   "source": [
    "F_FLT = -F_FMT\n",
    "F_FLX = -F_FMX\n",
    "F_NL = -F_NM"
   ]
  },
  {
   "cell_type": "code",
   "execution_count": null,
   "metadata": {},
   "outputs": [],
   "source": [
    "# Equivalent contact forces for each object\n",
    "F_contact_M = np.expand_dims(F_FMX, [1, 2])*x_hat + \\\n",
    "                  np.expand_dims(F_FMT, [1, 2])*T_hat + \\\n",
    "                  np.expand_dims(F_NM, [1, 2])*N_hat"
   ]
  },
  {
   "cell_type": "code",
   "execution_count": null,
   "metadata": {},
   "outputs": [],
   "source": [
    "F_contact_L = np.expand_dims(F_FLX, [1, 2])*x_hat + \\\n",
    "              np.expand_dims(F_FLT, [1, 2])*T_hat + \\\n",
    "              np.expand_dims(F_NL, [1, 2])*N_hat"
   ]
  },
  {
   "cell_type": "markdown",
   "metadata": {},
   "source": [
    "### Object forces ($F_{ON}, F_{OT}, \\tau_O$)"
   ]
  },
  {
   "cell_type": "code",
   "execution_count": null,
   "metadata": {},
   "outputs": [],
   "source": [
    "idx = log_wrapper.get_last_jnt_idx(\"trn\")\n",
    "joint_force_in_compliance_frame = logger.data()[idx:idx+3]"
   ]
  },
  {
   "cell_type": "code",
   "execution_count": null,
   "metadata": {},
   "outputs": [],
   "source": [
    "# Copy makes it mutable\n",
    "F_OX = joint_force_in_compliance_frame[0,:].copy()\n",
    "F_OT = joint_force_in_compliance_frame[1,:].copy()\n",
    "F_ON = joint_force_in_compliance_frame[2,:].copy()"
   ]
  },
  {
   "cell_type": "code",
   "execution_count": null,
   "metadata": {},
   "outputs": [],
   "source": [
    "F_OX_orig = F_OX.copy()"
   ]
  },
  {
   "cell_type": "code",
   "execution_count": null,
   "metadata": {},
   "outputs": [],
   "source": [
    "joint_force_in_compliance_frame[0]"
   ]
  },
  {
   "cell_type": "code",
   "execution_count": null,
   "metadata": {},
   "outputs": [],
   "source": [
    "idx = log_wrapper.get_last_jnt_idx(\"rot\")\n",
    "joint_torque_in_compliance_frame = logger.data()[idx:idx+3]"
   ]
  },
  {
   "cell_type": "code",
   "execution_count": null,
   "metadata": {},
   "outputs": [],
   "source": [
    "# Copy makes it mutable\n",
    "tau_O = joint_torque_in_compliance_frame[0,:].copy()"
   ]
  },
  {
   "cell_type": "code",
   "execution_count": null,
   "metadata": {},
   "outputs": [],
   "source": [
    "F_OX = np.nan_to_num(F_OX)\n",
    "F_OT = np.nan_to_num(\n",
    "F_OT)\n",
    "F_ON = np.nan_to_num(\n",
    "F_ON)\n",
    "tau_O = np.nan_to_num(\n",
    "tau_O)"
   ]
  },
  {
   "cell_type": "markdown",
   "metadata": {},
   "source": [
    "## Control terms"
   ]
  },
  {
   "cell_type": "code",
   "execution_count": null,
   "metadata": {},
   "outputs": [],
   "source": [
    "idx = log_wrapper.tau_ctrl_start_idx\n",
    "length = manipulator.data[\"nq\"]\n",
    "tau_ctrl = np.expand_dims(np.transpose(logger.data()[idx:idx+length]), 2)"
   ]
  },
  {
   "cell_type": "code",
   "execution_count": null,
   "metadata": {},
   "outputs": [],
   "source": [
    "idx = log_wrapper.tau_out_start_idx\n",
    "length = manipulator.data[\"nq\"]\n",
    "tau_out = np.expand_dims(np.transpose(logger.data()[idx:idx+length]), 2)"
   ]
  },
  {
   "cell_type": "markdown",
   "metadata": {},
   "source": [
    "### Other outputs"
   ]
  },
  {
   "cell_type": "code",
   "execution_count": null,
   "metadata": {},
   "outputs": [],
   "source": [
    "forces_found = logger.data()[-1,:]"
   ]
  },
  {
   "cell_type": "code",
   "execution_count": null,
   "metadata": {},
   "outputs": [],
   "source": [
    "in_contact = logger.data()[log_wrapper.calc_in_contact_start_idx]"
   ]
  },
  {
   "cell_type": "code",
   "execution_count": null,
   "metadata": {},
   "outputs": [],
   "source": [
    "t = l_times"
   ]
  },
  {
   "cell_type": "markdown",
   "metadata": {},
   "source": [
    "# Plotting settings"
   ]
  },
  {
   "cell_type": "code",
   "execution_count": null,
   "metadata": {},
   "outputs": [],
   "source": [
    "lw = 5"
   ]
  },
  {
   "cell_type": "markdown",
   "metadata": {},
   "source": [
    "## Setting up time"
   ]
  },
  {
   "cell_type": "code",
   "execution_count": null,
   "metadata": {},
   "outputs": [],
   "source": [
    "plt.figure(figsize=(16,4))\n",
    "# plt.plot(l_times, raw_in_contact, color='skyblue', linewidth=2, label=\"Raw\")\n",
    "plt.plot(l_times, in_contact, \"b--\", linewidth=2, label=\"Filtered\")\n",
    "plt.legend()\n",
    "plt.autoscale(enable=True, axis='x', tight=True)"
   ]
  },
  {
   "cell_type": "code",
   "execution_count": null,
   "metadata": {},
   "outputs": [],
   "source": [
    "contact_data = in_contact"
   ]
  },
  {
   "cell_type": "code",
   "execution_count": null,
   "metadata": {},
   "outputs": [],
   "source": [
    "first_contact_idx = np.argmax(contact_data)\n",
    "last_contact_idx = contact_data.size - np.argmax(contact_data[::-1]-1)-1\n",
    "l_times[last_contact_idx]"
   ]
  },
  {
   "cell_type": "code",
   "execution_count": null,
   "metadata": {},
   "outputs": [],
   "source": [
    "last_not_in_contact_idx = contact_data.size - np.argmax(np.logical_not(contact_data[::-1])-1)-1\n",
    "t_start_of_last_contact = t[min(last_not_in_contact_idx+1, len(l_times) - 1)]"
   ]
  },
  {
   "cell_type": "code",
   "execution_count": null,
   "metadata": {},
   "outputs": [],
   "source": [
    "t_start = t[first_contact_idx]\n",
    "t_end = t[last_contact_idx]-0.5#0.05\n",
    "idx_start = np.argmax(l_times > t_start)\n",
    "idx_end = np.argmax(l_times > t_end)\n",
    "if idx_end == 0:\n",
    "    idx_end = len(l_times) - 1"
   ]
  },
  {
   "cell_type": "code",
   "execution_count": null,
   "metadata": {},
   "outputs": [],
   "source": [
    "t_start"
   ]
  },
  {
   "cell_type": "code",
   "execution_count": null,
   "metadata": {},
   "outputs": [],
   "source": [
    "t_end"
   ]
  },
  {
   "cell_type": "markdown",
   "metadata": {},
   "source": [
    "## Defining functions"
   ]
  },
  {
   "cell_type": "code",
   "execution_count": null,
   "metadata": {},
   "outputs": [],
   "source": [
    "def plot_eq(lhs, lhs_label, rhs, rhs_label, lhs_alpha=1, rhs_alpha=1, lw=5, finish_plotting=True, \n",
    "            plot_diff=True, figsize_=None, plot_err_as_pct=False, t_start=t_start, newline_in_title=False, t_end=t_end):\n",
    "    if figsize_ is not None:\n",
    "        plt.figure(figsize=figsize_)\n",
    "    else:\n",
    "        plt.figure(figsize=default_figsize)\n",
    "    if isinstance(lhs, float) or isinstance(lhs, int):\n",
    "        lhs = np.ones_like(l_times)*lhs\n",
    "    if isinstance(rhs, float) or isinstance(rhs, int):\n",
    "        rhs = np.ones_like(l_times)*rhs\n",
    "    idx_start = np.argmax(l_times > t_start)\n",
    "    idx_end = np.argmax(l_times > t_end)\n",
    "    if idx_end == 0:\n",
    "        idx_end = len(l_times) - 1\n",
    "        \n",
    "    b = np.broadcast(lhs, rhs)\n",
    "    if np.count_nonzero(np.array(b.shape) > 1000) > 1:\n",
    "        raise ValueError(\"Broadcast shape of lhs and rhs is {}, which is too large.\".format(b.shape))\n",
    "        \n",
    "    plt.subplot(211)\n",
    "    error = lhs[idx_start:idx_end]-rhs[idx_start:idx_end]\n",
    "    if plot_err_as_pct:\n",
    "        lhs_range = np.nanmax(lhs[idx_start:idx_end]) - np.nanmin(lhs[idx_start:idx_end])\n",
    "        rhs_range = np.nanmax(rhs[idx_start:idx_end]) - np.nanmin(rhs[idx_start:idx_end])\n",
    "        \n",
    "        lhs_max_val = np.nanmax(np.abs(lhs[idx_start:idx_end]))\n",
    "        rhs_max_val = np.nanmax(np.abs(rhs[idx_start:idx_end]))\n",
    "        error /= np.nanmax([lhs_max_val, rhs_max_val])\n",
    "        error *= 100\n",
    "        \n",
    "    plt.plot(l_times[idx_start:idx_end],\n",
    "            error,\n",
    "            linewidth=lw)\n",
    "    plt.autoscale(enable=True, axis='x', tight=True)\n",
    "    plt.xlabel(\"Time (s)\")\n",
    "    if plot_err_as_pct:\n",
    "        plt.ylabel(\"Error (percent of max val)\")\n",
    "    else:\n",
    "        plt.ylabel(\"Error\")\n",
    "    if newline_in_title:\n",
    "        plt.title(\"Difference between {}\\n and {}\".format(lhs_label, rhs_label))\n",
    "    else:\n",
    "        plt.title(\"Difference between {} and {}\".format(lhs_label, rhs_label))\n",
    "    \n",
    "    \n",
    "    plt.subplot(212)\n",
    "    plt.plot(l_times[idx_start:idx_end],\n",
    "             lhs[idx_start:idx_end],\n",
    "             label=lhs_label, linewidth=lw, color='lightskyblue', zorder=0, alpha=lhs_alpha)\n",
    "    plt.plot(l_times[idx_start:idx_end],\n",
    "             rhs[idx_start:idx_end],\n",
    "             label=rhs_label, linewidth=lw, color='b', linestyle='--', zorder=1, alpha=rhs_alpha)\n",
    "    plt.autoscale(enable=True, axis='x', tight=True)\n",
    "    \n",
    "#     plt.axvline(t[np.argmax(in_contact)] + 0.5, color='k', linewidth=lw, linestyle='--')\n",
    "    \n",
    "    \n",
    "#     plt.axvline(t[first_contact_idx], color='green', linewidth=lw)\n",
    "#     plt.axvline(t_lose_contact, color='red', linewidth=lw)\n",
    "    \n",
    "    plt.legend()\n",
    "    plt.xlabel(\"Time (s)\")\n",
    "    \n",
    "    if finish_plotting:\n",
    "        plt.show()"
   ]
  },
  {
   "cell_type": "code",
   "execution_count": null,
   "metadata": {},
   "outputs": [],
   "source": [
    "errors = []\n",
    "max_errors = []\n",
    "med_errors = []\n",
    "max_error_pct = []\n",
    "med_error_pct = []\n",
    "error_labels = []"
   ]
  },
  {
   "cell_type": "code",
   "execution_count": null,
   "metadata": {},
   "outputs": [],
   "source": [
    "def update_error(lhs, lhs_label, rhs, rhs_label, newline_in_label=False):\n",
    "    error = ((lhs) - (rhs))[idx_start:idx_end]\n",
    "    \n",
    "    if isinstance(lhs, float) or isinstance(lhs, int):\n",
    "        lhs = np.ones_like(l_times)*lhs\n",
    "    if isinstance(rhs, float) or isinstance(rhs, int):\n",
    "        rhs = np.ones_like(l_times)*rhs\n",
    "    max_val_l = np.max(np.abs(lhs[idx_start:idx_end]))\n",
    "    max_val_r = np.max(np.abs(rhs[idx_start:idx_end]))\n",
    "    max_val = max(max_val_l,max_val_r)\n",
    "    \n",
    "    label = r\"$\\left(\" + lhs_label.replace(\"$\", \"\") + r\"\\right) \"\n",
    "    if newline_in_label:\n",
    "        label += \"$\\n$\"\n",
    "    label += \"- \\left(\" + rhs_label.replace(\"$\", \"\") + r\"\\right)$\"\n",
    "    label_idx = None\n",
    "    for i, l in enumerate(error_labels):\n",
    "        if l == label:\n",
    "            label_idx = i\n",
    "            break\n",
    "    max_error = np.nanmax(np.abs(error))\n",
    "    med_error = np.median(np.abs(error[np.logical_not(np.isnan(error))]))\n",
    "    if label_idx is None:\n",
    "        errors.append(error)\n",
    "        error_labels.append(label)\n",
    "        max_errors.append(max_error)\n",
    "        med_errors.append(med_error)\n",
    "        max_error_pct.append(max_error/max_val)\n",
    "        med_error_pct.append(max_error/max_val)\n",
    "    else:\n",
    "        errors[label_idx] = error\n",
    "        max_errors[label_idx] = max_error\n",
    "        med_errors[label_idx] = med_error\n",
    "        max_error_pct[label_idx] = max_error/max_val\n",
    "        med_error_pct[label_idx] = med_error/max_val"
   ]
  },
  {
   "cell_type": "markdown",
   "metadata": {},
   "source": [
    "# Plots (environmental constraints)\n",
    "There are things where I expect them to be satisfied no matter what, no matter the succes my controller."
   ]
  },
  {
   "cell_type": "markdown",
   "metadata": {},
   "source": [
    "## Link (x) accel $m_La_{LX} = F_{FLX} + F_{OX}$"
   ]
  },
  {
   "cell_type": "code",
   "execution_count": null,
   "metadata": {},
   "outputs": [],
   "source": [
    "lhs_label = r'$m_La_{LX}$'\n",
    "rhs_label = r'$F_{FLX} + F_{OX}$'\n",
    "\n",
    "lhs = m_L*a_LX\n",
    "\n",
    "rhs = F_FLX + F_OX\n",
    "\n",
    "plot_eq(lhs, lhs_label, rhs, rhs_label)\n",
    "update_error(lhs, lhs_label, rhs, rhs_label)"
   ]
  },
  {
   "cell_type": "markdown",
   "metadata": {},
   "source": [
    "## Link (T) accel $m_La_{LT} = F_{FLT} + F_{GT} +F_{OT}$\n",
    "*If this plot is correct:*\n",
    "The free body diagram is correct in thet $\\hat T$ direction on the link."
   ]
  },
  {
   "cell_type": "code",
   "execution_count": null,
   "metadata": {},
   "outputs": [],
   "source": [
    "lhs_label = r'$m_La_{LT}$'\n",
    "rhs_label = r'$F_{FLT} + F_{GT} +F_{OT}$'\n",
    "\n",
    "lhs = m_L*a_LT\n",
    "# lhs /= np.max(np.abs(lhs[idx_start:idx_end]))\n",
    "\n",
    "rhs = F_GT+F_OT+F_FLT\n",
    "# rhs /= np.max(np.abs(rhs[idx_start:idx_end]))\n",
    "\n",
    "plot_eq(lhs, lhs_label, rhs, rhs_label)\n",
    "update_error(lhs, lhs_label, rhs, rhs_label)"
   ]
  },
  {
   "cell_type": "markdown",
   "metadata": {},
   "source": [
    "## Link (N) accel $m_La_{LN} = F_{NL} + F_{GN} +F_{ON}$\n",
    "*If this plot is correct:*\n",
    "The free body diagram is correct in thet $\\hat N$ direction on the link."
   ]
  },
  {
   "cell_type": "code",
   "execution_count": null,
   "metadata": {},
   "outputs": [],
   "source": [
    "lhs_label = r'$m_La_{LN}$'\n",
    "rhs_label = r'$F_{NL} + F_{GN} +F_{ON}$'\n",
    "\n",
    "lhs = m_L*a_LN\n",
    "\n",
    "rhs = F_NL + F_GN + F_ON\n",
    "\n",
    "plot_eq(lhs, lhs_label, rhs, rhs_label)\n",
    "update_error(lhs, lhs_label, rhs, rhs_label)"
   ]
  },
  {
   "cell_type": "markdown",
   "metadata": {},
   "source": [
    "## Link (x) angle accel $I_L\\ddot\\theta_L = -\\frac{w_L}{2}F_{ON} - (p_{CN}-p_{LN})F_{FL} + (p_{CT}-p_{LT})F_{NL}+\\tau_O$\n",
    "*If this plot is correct:* The moment balance on the link is correct."
   ]
  },
  {
   "cell_type": "code",
   "execution_count": null,
   "metadata": {},
   "outputs": [],
   "source": [
    "lhs_label = r'$I_L\\ddot\\theta$'\n",
    "rhs_label = r'$-\\frac{w_L}{2}F_{ON} - (p_{CN}-p_{LN})F_{FL} + (p_{CT}-p_{LT})F_{NL}+\\tau_O$'\n",
    "\n",
    "lhs = I_L*dd_theta_L\n",
    "\n",
    "N_lever_arm = np.nan_to_num(p_CN-p_LN)\n",
    "T_lever_arm = np.nan_to_num(p_CT-p_LT)\n",
    "rhs = (-w_L/2)*F_ON - N_lever_arm * F_FLT + T_lever_arm*F_NL + tau_O\n",
    "\n",
    "plot_eq(lhs, lhs_label, rhs, rhs_label)\n",
    "update_error(lhs, lhs_label, rhs, rhs_label)"
   ]
  },
  {
   "cell_type": "markdown",
   "metadata": {},
   "source": [
    "## 3rd law normal forces $F_{NL} = -F_{NM}$\n",
    "*If this plot is correct:* Newton's 3rd law is correction applied to the normal forces."
   ]
  },
  {
   "cell_type": "code",
   "execution_count": null,
   "metadata": {},
   "outputs": [],
   "source": [
    "lhs_label = r'$F_{NL}$'\n",
    "rhs_label = r'$-F_{NM_{top}}-F_{NM_{bot}}$'\n",
    "\n",
    "lhs = F_NL\n",
    "\n",
    "rhs = -F_NM\n",
    "\n",
    "plot_eq(lhs, lhs_label, rhs, rhs_label)\n",
    "update_error(lhs, lhs_label, rhs, rhs_label)"
   ]
  },
  {
   "cell_type": "markdown",
   "metadata": {},
   "source": [
    "## 3rd law friction forces $F_{FLT} = -F_{FMT}$\n",
    "*If this plot is correct:* Newton's 3rd law is correction applied to the friction forces in the tangent direction."
   ]
  },
  {
   "cell_type": "code",
   "execution_count": null,
   "metadata": {},
   "outputs": [],
   "source": [
    "lhs_label = r'$F_{FLT}$'\n",
    "rhs_label = r'$-F_{FMT}$'\n",
    "\n",
    "lhs = F_FLT\n",
    "\n",
    "rhs = -F_FMT\n",
    "\n",
    "plot_eq(lhs, lhs_label, rhs, rhs_label)\n",
    "update_error(lhs, lhs_label, rhs, rhs_label)"
   ]
  },
  {
   "cell_type": "markdown",
   "metadata": {},
   "source": [
    "## d vec tangential derivative $-\\ddot\\theta_L h_L/2 - \\ddot\\theta_L r + \\dot\\theta_L^2 w_L/2 - a_{LT} + a_{MT} = -\\ddot\\theta_L {d}_N + \\ddot{d}_T - \\dot\\theta_L^2 {d}_T - 2\\dot\\theta_L \\dot{d}_N$\n",
    "*If this plot is correct:* The derivatives for  $\\vec d$  are correct."
   ]
  },
  {
   "cell_type": "code",
   "execution_count": null,
   "metadata": {
    "scrolled": false
   },
   "outputs": [],
   "source": [
    "lhs = -dd_theta_L*(h_L/2+r) + d_theta_L**2*w_L/2 - a_LT + a_MT\n",
    "lhs_label = r\"$-\\ddot\\theta_L h_L/2 - \\ddot\\theta_L r + \\dot\\theta_L^2 w_L/2 - a_{LT} + a_{MT}$\"\n",
    "\n",
    "rhs = -dd_theta_L*d_N + dd_d_T - d_theta_L**2*d_T - 2*d_theta_L*d_d_N\n",
    "rhs_label = r\"$-\\ddot\\theta_L {d}_N + \\ddot{d}_T - \\dot\\theta_L^2 {d}_T - 2\\dot\\theta_L \\dot{d}_N$\"\n",
    "\n",
    "plot_eq(lhs, lhs_label, rhs, rhs_label)\n",
    "update_error(lhs, lhs_label, rhs, rhs_label, newline_in_label=True)"
   ]
  },
  {
   "cell_type": "markdown",
   "metadata": {},
   "source": [
    "## d vec normal derivative $- \\frac{w_{L}}{2}\\ddot\\theta_{L} - \\frac{h_{L}}{2}\\dot\\theta_{L}^{2} - \\dot\\theta_{L}^{2} r - a_{LN} + a_{MN} = \\ddot\\theta_{L} d_{T} + \\ddot{d}_N - \\dot\\theta_{L}^{2} d_{N} + 2 \\dot\\theta_{L} \\dot{d}_T$\n",
    "*If this plot is correct:* The derivatives for  $\\vec d$  are correct."
   ]
  },
  {
   "cell_type": "code",
   "execution_count": null,
   "metadata": {},
   "outputs": [],
   "source": [
    "lhs = -dd_theta_L*w_L/2 - d_theta_L**2*h_L/2 - d_theta_L**2*r - a_LN + a_MN\n",
    "lhs_label = r\"$-\\ddot\\theta_L w_L/2 - \\dot\\theta_L^2 h_L/2 - \\dot\\theta_L^2 r - a_{LN} + a_{MN}$ (differentiating geometry)\"\n",
    "\n",
    "rhs = dd_theta_L*d_T + dd_d_N - d_theta_L**2*d_N + 2*d_theta_L*d_d_T\n",
    "rhs_label = r\"$\\ddot\\theta_L {d}_T + \\ddot{d}_N - \\dot\\theta_L^2 {d}_N + 2 \\dot\\theta_L \\dot{d}_T$ (differentiating vector)\"\n",
    "\n",
    "plot_eq(lhs, lhs_label, rhs, rhs_label, newline_in_title=True)\n",
    "\n",
    "lhs_label = r\"$-\\ddot\\theta_L w_L/2 - \\dot\\theta_L^2 h_L/2 - \\dot\\theta_L^2 r - a_{LN} + a_{MN}$\"\n",
    "rhs_label = r\"$\\ddot\\theta_L {d}_T + \\ddot{d}_N - \\dot\\theta_L^2 {d}_N + 2 \\dot\\theta_L \\dot{d}_T$\"\n",
    "update_error(lhs, lhs_label, rhs, rhs_label, newline_in_label=True)\n",
    "plt.show()"
   ]
  },
  {
   "cell_type": "markdown",
   "metadata": {},
   "source": [
    "## No penetration $\\ddot d_N = 0$\n",
    "*If this plot is correct:* There is effectively no penetration between the rigid bodies."
   ]
  },
  {
   "cell_type": "code",
   "execution_count": null,
   "metadata": {},
   "outputs": [],
   "source": [
    "lhs_label = r'$\\ddot{d}_N$'\n",
    "rhs_label = r'0'\n",
    "\n",
    "lhs = dd_d_N\n",
    "\n",
    "rhs = 0\n",
    "\n",
    "plot_eq(lhs, lhs_label, rhs, rhs_label)\n",
    "update_error(lhs, lhs_label, rhs, rhs_label)"
   ]
  },
  {
   "cell_type": "markdown",
   "metadata": {},
   "source": [
    "## Link (T) friction equation $F_{FLT}=\\mu\\mu_SF_{NL}\\hat s_T$"
   ]
  },
  {
   "cell_type": "code",
   "execution_count": null,
   "metadata": {},
   "outputs": [],
   "source": [
    "lhs_label = r'$\\mu\\mu_SF_{NL}\\hat s_T$'\n",
    "rhs_label = r'$F_{FLT}$'\n",
    "\n",
    "lhs = np.nan_to_num(mu_S*F_NL*mu*s_hat_T)\n",
    "rhs = F_FLT\n",
    "\n",
    "plot_eq(lhs, lhs_label, rhs, rhs_label)\n",
    "update_error(lhs, lhs_label, rhs, rhs_label)"
   ]
  },
  {
   "cell_type": "markdown",
   "metadata": {},
   "source": [
    "## Link (x) friction equation $F_{FLX}=\\mu\\mu_SF_{NL}\\hat s_X$"
   ]
  },
  {
   "cell_type": "code",
   "execution_count": null,
   "metadata": {},
   "outputs": [],
   "source": [
    "lhs_label = r'$\\mu\\mu_SF_{NL}\\hat s_X$'\n",
    "rhs_label = r'$F_{FLX}$'\n",
    "\n",
    "lhs = np.nan_to_num(mu_S*F_NM*mu*s_hat_X)\n",
    "rhs = F_FMX\n",
    "\n",
    "plot_eq(lhs, lhs_label, rhs, rhs_label)\n",
    "update_error(lhs, lhs_label, rhs, rhs_label)"
   ]
  },
  {
   "cell_type": "markdown",
   "metadata": {},
   "source": [
    "## Jacobian and (x) accel $a_{MX}=\\left(\\dot{J} \\dot{\\vec{q}} + J\\ddot{\\vec{q}}\\right)_3$"
   ]
  },
  {
   "cell_type": "code",
   "execution_count": null,
   "metadata": {},
   "outputs": [],
   "source": [
    "lhs_label = r'$a_{MX}$'\n",
    "rhs_label = r'$\\left(\\dot{J} \\dot{\\vec{q}} + J\\ddot{\\vec{q}}\\right)_3$'\n",
    "\n",
    "lhs = a_MX\n",
    "rhs = (Jdot_qdot + np.matmul(J, dd_q))[:,3].flatten()\n",
    "\n",
    "plot_eq(lhs, lhs_label, rhs, rhs_label)\n",
    "update_error(lhs, lhs_label, rhs, rhs_label)"
   ]
  },
  {
   "cell_type": "markdown",
   "metadata": {},
   "source": [
    "## Jacobian and (y) accel $a_{MY}=\\left(\\dot{J} \\dot{\\vec{q}} + J\\ddot{\\vec{q}}\\right)_4$"
   ]
  },
  {
   "cell_type": "code",
   "execution_count": null,
   "metadata": {},
   "outputs": [],
   "source": [
    "lhs_label = r'$a_{MY}$'\n",
    "rhs_label = r'$\\left(\\dot{J} \\dot{\\vec{q}} + J\\ddot{\\vec{q}}\\right)_4$'\n",
    "\n",
    "lhs = a_MY\n",
    "rhs = (Jdot_qdot + np.matmul(J, dd_q))[:,4].flatten()\n",
    "\n",
    "plot_eq(lhs, lhs_label, rhs, rhs_label)\n",
    "update_error(lhs, lhs_label, rhs, rhs_label)"
   ]
  },
  {
   "cell_type": "markdown",
   "metadata": {},
   "source": [
    "## Jacobian and (z) accel $a_{MZ}=\\left(\\dot{J} \\dot{\\vec{q}} + J\\ddot{\\vec{q}}\\right)_5$"
   ]
  },
  {
   "cell_type": "code",
   "execution_count": null,
   "metadata": {},
   "outputs": [],
   "source": [
    "lhs_label = r'$a_{MZ}$'\n",
    "rhs_label = r'$\\left(\\dot{J} \\dot{\\vec{q}} + J\\ddot{\\vec{q}}\\right)_5$'\n",
    "\n",
    "lhs = a_MZ\n",
    "rhs = (Jdot_qdot + np.matmul(J, dd_q))[:,5].flatten()\n",
    "\n",
    "plot_eq(lhs, lhs_label, rhs, rhs_label)\n",
    "update_error(lhs, lhs_label, rhs, rhs_label)"
   ]
  },
  {
   "cell_type": "markdown",
   "metadata": {},
   "source": [
    "## Jacobian and (x) ang accel $\\alpha_{MX}=\\left(\\dot{J} \\dot{\\vec{q}} + J\\ddot{\\vec{q}}\\right)_0$"
   ]
  },
  {
   "cell_type": "code",
   "execution_count": null,
   "metadata": {},
   "outputs": [],
   "source": [
    "lhs_label = r'$\\alpha_{MX}$'\n",
    "rhs_label = r'$\\left(\\dot{J} \\dot{\\vec{q}} + J\\ddot{\\vec{q}}\\right)_0$'\n",
    "\n",
    "lhs = alpha_MX\n",
    "rhs = (Jdot_qdot + np.matmul(J, dd_q))[:,0].flatten()\n",
    "\n",
    "plot_eq(lhs, lhs_label, rhs, rhs_label)\n",
    "update_error(lhs, lhs_label, rhs, rhs_label)"
   ]
  },
  {
   "cell_type": "markdown",
   "metadata": {},
   "source": [
    "## Jacobian and (y) ang accel $\\alpha_{MY}=\\left(\\dot{J} \\dot{\\vec{q}} + J\\ddot{\\vec{q}}\\right)_1$"
   ]
  },
  {
   "cell_type": "code",
   "execution_count": null,
   "metadata": {},
   "outputs": [],
   "source": [
    "lhs_label = r'$\\alpha_{MY}$'\n",
    "rhs_label = r'$\\left(\\dot{J} \\dot{\\vec{q}} + J\\ddot{\\vec{q}}\\right)_1$'\n",
    "\n",
    "lhs = alpha_MY\n",
    "rhs = (Jdot_qdot + np.matmul(J, dd_q))[:,1].flatten()\n",
    "\n",
    "plot_eq(lhs, lhs_label, rhs, rhs_label)\n",
    "update_error(lhs, lhs_label, rhs, rhs_label)"
   ]
  },
  {
   "cell_type": "markdown",
   "metadata": {},
   "source": [
    "## Jacobian and (z) ang accel $\\alpha_{MZ}=\\left(\\dot{J} \\dot{\\vec{q}} + J\\ddot{\\vec{q}}\\right)_2$"
   ]
  },
  {
   "cell_type": "code",
   "execution_count": null,
   "metadata": {},
   "outputs": [],
   "source": [
    "lhs_label = r'$\\alpha_{MZ}$'\n",
    "rhs_label = r'$\\left(\\dot{J} \\dot{\\vec{q}} + J\\ddot{\\vec{q}}\\right)_2$'\n",
    "\n",
    "lhs = alpha_MZ\n",
    "rhs = (Jdot_qdot + np.matmul(J, dd_q))[:,2].flatten()\n",
    "\n",
    "plot_eq(lhs, lhs_label, rhs, rhs_label)\n",
    "update_error(lhs, lhs_label, rhs, rhs_label)"
   ]
  },
  {
   "cell_type": "markdown",
   "metadata": {},
   "source": [
    "## Manipulator equation $M \\ddot q + C \\dot q = \\tau_g + \\vec \\tau_{\\text{contact}} + \\vec \\tau_{\\text{out}}$"
   ]
  },
  {
   "cell_type": "code",
   "execution_count": null,
   "metadata": {
    "scrolled": false
   },
   "outputs": [],
   "source": [
    "lhs_ = np.matmul(M, dd_q) + Cv\n",
    "lhs_label_ = r\"M \\ddot q + C \\dot q\"\n",
    "rhs_ = tau_g + tau_contact + tau_out\n",
    "rhs_label_ = r\"\\tau_g + \\vec \\tau_{contact} + \\vec \\tau_{out}\"\n",
    "labels = [str(i) for i in range(nq)]\n",
    "\n",
    "for i, label in enumerate(labels):\n",
    "    lhs = lhs_[:,i,:]\n",
    "    lhs_label = r\"$\\left(\" + lhs_label_ + r\"\\right)_\" + label + \"$\"\n",
    "\n",
    "    rhs = rhs_[:,i,:]\n",
    "    rhs_label = r\"$\\left(\" + rhs_label_ + r\"\\right)_\" + label + \"$\"\n",
    "\n",
    "    plot_eq(lhs, lhs_label, rhs, rhs_label)\n",
    "    update_error(lhs, lhs_label, rhs, rhs_label)\n",
    "    plt.show()"
   ]
  },
  {
   "cell_type": "markdown",
   "metadata": {},
   "source": [
    "## Tau out vs tau ctrl $\\vec \\tau_{\\text{out}} = \\vec\\tau_{\\text{ctrl}} - \\tau_g + \\tau_{\\text{joint centering}}$"
   ]
  },
  {
   "cell_type": "code",
   "execution_count": null,
   "metadata": {
    "scrolled": false
   },
   "outputs": [],
   "source": [
    "lhs_ = tau_out\n",
    "lhs_label_ = r\"\\tau_{out}\"\n",
    "rhs_ = tau_ctrl - tau_g + joint_centering_torque\n",
    "rhs_label_ = r\"\\vec\\tau_{ctrl} - \\tau_g + \\tau_{joint centering}\"\n",
    "labels = [str(i) for i in range(nq)]\n",
    "\n",
    "for i, label in enumerate(labels):\n",
    "    lhs = lhs_[:,i,:]\n",
    "    lhs_label = r\"$\\left(\" + lhs_label_ + r\"\\right)_\" + label + \"$\"\n",
    "\n",
    "    rhs = rhs_[:,i,:]\n",
    "    rhs_label = r\"$\\left(\" + rhs_label_ + r\"\\right)_\" + label + \"$\"\n",
    "\n",
    "    plot_eq(lhs, lhs_label, rhs, rhs_label)\n",
    "    update_error(lhs, lhs_label, rhs, rhs_label)\n",
    "    plt.show()"
   ]
  },
  {
   "cell_type": "markdown",
   "metadata": {},
   "source": [
    "# Plot errors\n",
    "How accurate is my modeling?"
   ]
  },
  {
   "cell_type": "markdown",
   "metadata": {},
   "source": [
    "## Absolute error"
   ]
  },
  {
   "cell_type": "code",
   "execution_count": null,
   "metadata": {},
   "outputs": [],
   "source": [
    "plt.figure(figsize=(16,16))\n",
    "plt.barh(error_labels[::-1], np.array(max_errors[::-1]), label=\"Maximum error\")\n",
    "plt.barh(error_labels[::-1], np.array(med_errors[::-1]), label=\"Median error\")\n",
    "plt.axvline(1e-5, color='k', linestyle='--', label=\"1e-5\")\n",
    "plt.xscale(\"log\")\n",
    "plt.xlabel(\"Log(error)\")\n",
    "plt.xlabel(\"Error\")\n",
    "plt.ylabel(\"Equation\")\n",
    "plt.legend()\n",
    "# plt.xlim(0, 100)\n",
    "plt.show()"
   ]
  },
  {
   "cell_type": "markdown",
   "metadata": {},
   "source": [
    "## Percent error"
   ]
  },
  {
   "cell_type": "code",
   "execution_count": null,
   "metadata": {
    "scrolled": false
   },
   "outputs": [],
   "source": [
    "plt.figure(figsize=(16,16))\n",
    "plt.barh(error_labels[::-1], np.array(max_error_pct[::-1])*100, label=\"Maximum error\")\n",
    "plt.barh(error_labels[::-1], np.array(med_error_pct[::-1])*100, label=\"Median error\")\n",
    "plt.axvline(5, color='k', linestyle='--', label=\"5% error\")\n",
    "# plt.xscale(\"log\")\n",
    "# plt.xlabel(\"Log(error)\")\n",
    "plt.xlabel(\"Percent error\")\n",
    "plt.ylabel(\"Equation\")\n",
    "plt.legend()\n",
    "plt.xlim(0, 100)\n",
    "plt.show()"
   ]
  },
  {
   "cell_type": "markdown",
   "metadata": {},
   "source": [
    "# Environmental constraints (two link specific)"
   ]
  },
  {
   "cell_type": "code",
   "execution_count": null,
   "metadata": {},
   "outputs": [],
   "source": [
    "lhs = a_LT\n",
    "lhs_label = r\"$a_{LT}$\"\n",
    "rhs = (-w_L/2)*d_theta_L**2\n",
    "rhs_label = r\"$-\\frac{w_L}{2}\\dot\\theta^2$\"\n",
    "plot_eq(lhs, lhs_label, rhs, rhs_label)"
   ]
  },
  {
   "cell_type": "code",
   "execution_count": null,
   "metadata": {},
   "outputs": [],
   "source": [
    "lhs = a_LN\n",
    "lhs_label = r\"$a_{LN}$\"\n",
    "rhs = (w_L/2)*dd_theta_L\n",
    "rhs_label = r\"$\\frac{w_L}{2}\\ddot\\theta$\"\n",
    "plot_eq(lhs, lhs_label, rhs, rhs_label)"
   ]
  },
  {
   "cell_type": "markdown",
   "metadata": {},
   "source": [
    "# Control performance (for inverse dynamics)"
   ]
  },
  {
   "cell_type": "markdown",
   "metadata": {},
   "source": [
    "## Conformity to artificial constraints"
   ]
  },
  {
   "cell_type": "code",
   "execution_count": null,
   "metadata": {},
   "outputs": [],
   "source": [
    "if ctrlr_is_inverse_dynamics:\n",
    "    dd_d_Td = scipy.interpolate.interp1d(d_times, debug['dd_d_Td'], axis=0)(l_times)\n",
    "    dd_theta_Ld = scipy.interpolate.interp1d(d_times, debug['dd_theta_Ld'], axis=0)(l_times)\n",
    "    a_MXd = scipy.interpolate.interp1d(d_times, debug['a_MX_d'], axis=0)(l_times)\n",
    "    alpha_MXd = scipy.interpolate.interp1d(d_times, debug['alpha_MXd'], axis=0)(l_times)\n",
    "    alpha_MYd = scipy.interpolate.interp1d(d_times, debug['alpha_MYd'], axis=0)(l_times)\n",
    "    alpha_MZd = scipy.interpolate.interp1d(d_times, debug['alpha_MZd'], axis=0)(l_times)\n",
    "    dd_d_Nd = scipy.interpolate.interp1d(d_times, debug['dd_d_Nd'], axis=0)(l_times)"
   ]
  },
  {
   "cell_type": "code",
   "execution_count": null,
   "metadata": {},
   "outputs": [],
   "source": [
    "if ctrlr_is_inverse_dynamics:\n",
    "    lhs = dd_d_Td\n",
    "    lhs_label = r\"$\\ddot{d}_{T_d}$\"\n",
    "    rhs = dd_d_T\n",
    "    rhs_label = r\"$\\ddot{d}_{T}$\"\n",
    "    plot_eq(lhs, lhs_label, rhs, rhs_label)"
   ]
  },
  {
   "cell_type": "code",
   "execution_count": null,
   "metadata": {},
   "outputs": [],
   "source": [
    "if ctrlr_is_inverse_dynamics:\n",
    "    lhs = dd_theta_Ld\n",
    "    lhs_label = r\"$a_{LN_d}$\"\n",
    "    rhs = dd_theta_L\n",
    "    rhs_label = r\"$a_{LN}$\"\n",
    "    plot_eq(lhs, lhs_label, rhs, rhs_label)"
   ]
  },
  {
   "cell_type": "code",
   "execution_count": null,
   "metadata": {},
   "outputs": [],
   "source": [
    "if ctrlr_is_inverse_dynamics:\n",
    "    lhs = a_MXd\n",
    "    lhs_label = r\"$a_{MX_d}$\"\n",
    "    rhs = a_MX\n",
    "    rhs_label = r\"$a_{MX}$\"\n",
    "    plot_eq(lhs, lhs_label, rhs, rhs_label)"
   ]
  },
  {
   "cell_type": "code",
   "execution_count": null,
   "metadata": {},
   "outputs": [],
   "source": [
    "if ctrlr_is_inverse_dynamics:\n",
    "    lhs = alpha_MXd\n",
    "    lhs_label = r\"$\\alpha_{MX_d}$\"\n",
    "    rhs = alpha_MX\n",
    "    rhs_label = r\"$\\alpha_{MX}$\"\n",
    "    plot_eq(lhs, lhs_label, rhs, rhs_label)"
   ]
  },
  {
   "cell_type": "code",
   "execution_count": null,
   "metadata": {},
   "outputs": [],
   "source": [
    "if ctrlr_is_inverse_dynamics:\n",
    "    lhs = alpha_MYd\n",
    "    lhs_label = r\"$\\alpha_{MY_d}$\"\n",
    "    rhs = alpha_MY\n",
    "    rhs_label = r\"$\\alpha_{MY}$\"\n",
    "    plot_eq(lhs, lhs_label, rhs, rhs_label)"
   ]
  },
  {
   "cell_type": "code",
   "execution_count": null,
   "metadata": {},
   "outputs": [],
   "source": [
    "if ctrlr_is_inverse_dynamics:\n",
    "    lhs = alpha_MZd\n",
    "    lhs_label = r\"$\\alpha_{MZ_d}$\"\n",
    "    rhs = alpha_MZ\n",
    "    rhs_label = r\"$\\alpha_{MZ}$\"\n",
    "    plot_eq(lhs, lhs_label, rhs, rhs_label)"
   ]
  },
  {
   "cell_type": "code",
   "execution_count": null,
   "metadata": {},
   "outputs": [],
   "source": [
    "if ctrlr_is_inverse_dynamics:\n",
    "    lhs = dd_d_Nd\n",
    "    lhs_label = r\"$\\ddot{d}_{N_d}$\"\n",
    "    rhs = dd_d_N\n",
    "    rhs_label = r\"$\\ddot{d}_{N}$\"\n",
    "    plot_eq(lhs, lhs_label, rhs, rhs_label)"
   ]
  },
  {
   "cell_type": "markdown",
   "metadata": {},
   "source": [
    "## Control targets"
   ]
  },
  {
   "cell_type": "markdown",
   "metadata": {},
   "source": [
    "## theta X"
   ]
  },
  {
   "cell_type": "code",
   "execution_count": null,
   "metadata": {},
   "outputs": [],
   "source": [
    "if not (debug is None) and \"theta_MXd\" in debug.keys():\n",
    "    theta_MXd = scipy.interpolate.interp1d(d_times, debug['theta_MXd'], axis=0)(l_times)\n",
    "    plot_eq(theta_MX, r\"$\\theta_{MX}$\", theta_MXd, r\"$\\theta_{MXd}$\")"
   ]
  },
  {
   "cell_type": "markdown",
   "metadata": {},
   "source": [
    "## Theta y"
   ]
  },
  {
   "cell_type": "code",
   "execution_count": null,
   "metadata": {},
   "outputs": [],
   "source": [
    "if hasattr(fold_ctrl, \"theta_MYd\"):\n",
    "    plot_eq(theta_MY, r\"$\\theta_{MY}$\", fold_ctrl.theta_MYd, r\"$\\theta_{MYd}$\")"
   ]
  },
  {
   "cell_type": "markdown",
   "metadata": {},
   "source": [
    "### theta Z"
   ]
  },
  {
   "cell_type": "code",
   "execution_count": null,
   "metadata": {},
   "outputs": [],
   "source": [
    "if hasattr(fold_ctrl, \"theta_MZd\"):\n",
    "    plot_eq(theta_MZ, r\"$\\theta_{MZ}$\", fold_ctrl.theta_MZd, r\"$\\theta_{MZd}$\")"
   ]
  },
  {
   "cell_type": "markdown",
   "metadata": {},
   "source": [
    "### theta L"
   ]
  },
  {
   "cell_type": "code",
   "execution_count": null,
   "metadata": {},
   "outputs": [],
   "source": [
    "if hasattr(fold_ctrl, \"d_theta_Ld\"):\n",
    "    plot_eq(d_theta_L, r\"$\\dot\\theta_{L}$\", fold_ctrl.d_theta_Ld, r\"$\\dot\\theta_{Ld}$\")"
   ]
  },
  {
   "cell_type": "markdown",
   "metadata": {},
   "source": [
    "### d_T - $d_T = d_{T_d}$"
   ]
  },
  {
   "cell_type": "code",
   "execution_count": null,
   "metadata": {},
   "outputs": [],
   "source": [
    "if hasattr(fold_ctrl, \"d_Td\"):\n",
    "    plot_eq(d_T, \"$d_T$\", fold_ctrl.d_Td, \"$d_{Td}$\")"
   ]
  },
  {
   "cell_type": "code",
   "execution_count": null,
   "metadata": {},
   "outputs": [],
   "source": [
    "lw=5\n",
    "plt.figure(figsize=(16, 8))\n",
    "plt.axhline(fold_ctrl.d_Td, linestyle='--', color='gray', linewidth=lw, label=\"Desired $d_T$\")\n",
    "plt.plot(l_times, d_T, label='$d_T$', linewidth=lw)\n",
    "plt.axhline(-(0), label='Bounds on $d_T$ (0 and link width)', linestyle='--', color='k', linewidth=lw)\n",
    "plt.axhline(-(paper.link_width), linestyle='--', color='k', linewidth=lw)\n",
    "plt.legend()\n",
    "plt.xlabel(\"Time (seconds)\")\n",
    "plt.ylabel(\"Distance (m)\")\n",
    "plt.autoscale(enable=True, axis='x', tight=True)\n",
    "plt.xlim(t_start, t_end)\n",
    "plt.show()"
   ]
  },
  {
   "cell_type": "markdown",
   "metadata": {},
   "source": [
    "# Checking decision variable values"
   ]
  },
  {
   "cell_type": "code",
   "execution_count": null,
   "metadata": {},
   "outputs": [],
   "source": [
    "F_ContactMY = F_contact_M[:,1,0].flatten()\n",
    "F_ContactMZ = F_contact_M[:,2,0].flatten()"
   ]
  },
  {
   "cell_type": "code",
   "execution_count": null,
   "metadata": {},
   "outputs": [],
   "source": [
    "if ctrlr_is_inverse_dynamics:\n",
    "    debug_F_NM = scipy.interpolate.interp1d(d_times, debug['F_NM'], axis=0)(l_times)\n",
    "    debug_F_FMT = scipy.interpolate.interp1d(d_times, debug['F_FMT'], axis=0)(l_times)\n",
    "    debug_F_FMX = scipy.interpolate.interp1d(d_times, debug['F_FMX'], axis=0)(l_times)\n",
    "    debug_F_ContactMY = scipy.interpolate.interp1d(d_times, debug['F_ContactMY'], axis=0)(l_times)\n",
    "    debug_F_ContactMZ = scipy.interpolate.interp1d(d_times, debug['F_ContactMZ'], axis=0)(l_times)\n",
    "    debug_F_NL = scipy.interpolate.interp1d(d_times, debug['F_NL'], axis=0)(l_times)\n",
    "    debug_F_FLT = scipy.interpolate.interp1d(d_times, debug['F_FLT'], axis=0)(l_times)\n",
    "    debug_F_FLX = scipy.interpolate.interp1d(d_times, debug['F_FLX'], axis=0)(l_times)\n",
    "    debug_a_MX = scipy.interpolate.interp1d(d_times, debug['a_MX'], axis=0)(l_times)\n",
    "    debug_a_MT = scipy.interpolate.interp1d(d_times, debug['a_MT'], axis=0)(l_times)\n",
    "    debug_a_MY = scipy.interpolate.interp1d(d_times, debug['a_MY'], axis=0)(l_times)\n",
    "    debug_a_MZ = scipy.interpolate.interp1d(d_times, debug['a_MZ'], axis=0)(l_times)\n",
    "    debug_a_MN = scipy.interpolate.interp1d(d_times, debug['a_MN'], axis=0)(l_times)\n",
    "    debug_a_LT = scipy.interpolate.interp1d(d_times, debug['a_LT'], axis=0)(l_times)\n",
    "    debug_a_LN = scipy.interpolate.interp1d(d_times, debug['a_LN'], axis=0)(l_times)\n",
    "    debug_alpha_MX = scipy.interpolate.interp1d(d_times, debug['alpha_MX'], axis=0)(l_times)\n",
    "    debug_alpha_MY = scipy.interpolate.interp1d(d_times, debug['alpha_MY'], axis=0)(l_times)\n",
    "    debug_alpha_MZ = scipy.interpolate.interp1d(d_times, debug['alpha_MZ'], axis=0)(l_times)\n",
    "    debug_dd_theta_L = scipy.interpolate.interp1d(d_times, debug['dd_theta_L'], axis=0)(l_times)\n",
    "    debug_dd_d_N = scipy.interpolate.interp1d(d_times, debug['dd_d_N'], axis=0)(l_times)\n",
    "    debug_dd_d_T = scipy.interpolate.interp1d(d_times, debug['dd_d_T'], axis=0)(l_times)\n",
    "    debug_ddqs = []\n",
    "    for i in range(nq):\n",
    "        debug_ddqs.append(scipy.interpolate.interp1d(d_times, debug['ddq_' + str(i)], axis=0)(l_times))"
   ]
  },
  {
   "cell_type": "code",
   "execution_count": null,
   "metadata": {
    "scrolled": false
   },
   "outputs": [],
   "source": [
    "if ctrlr_is_inverse_dynamics:\n",
    "    plot_eq(debug_F_NM, \"F_NM (debug)\", F_NM, \"F_NM (actual)\")\n",
    "    plot_eq(debug_F_FMT, \"F_FMT (debug)\", F_FMT, \"F_FMT (actual)\")\n",
    "    plot_eq(debug_F_FMX, \"F_FMX (debug)\", F_FMX, \"F_FMX (actual)\")\n",
    "    plot_eq(debug_F_ContactMY, \"F_ContactMY (debug)\", F_ContactMY, \"F_ContactMY (actual)\")\n",
    "    plot_eq(debug_F_ContactMZ, \"F_ContactMZ (debug)\", F_ContactMZ, \"F_ContactMZ (actual)\")\n",
    "    plot_eq(debug_F_NL, \"F_NL (debug)\", F_NL, \"F_NL (actual)\")\n",
    "    plot_eq(debug_F_FLT, \"F_FLT (debug)\", F_FLT, \"F_FLT (actual)\")\n",
    "    plot_eq(debug_F_FLX, \"F_FLX (debug)\", F_FLX, \"F_FLX (actual)\")\n",
    "    plot_eq(debug_a_MX, \"a_MX (debug)\", a_MX, \"a_MX (actual)\")\n",
    "    plot_eq(debug_a_MT, \"a_MT (debug)\", a_MT, \"a_MT (actual)\")\n",
    "    plot_eq(debug_a_MY, \"a_MY (debug)\", a_MY, \"a_MY (actual)\")\n",
    "    plot_eq(debug_a_MZ, \"a_MZ (debug)\", a_MZ, \"a_MZ (actual)\")\n",
    "    plot_eq(debug_a_MN, \"a_MN (debug)\", a_MN, \"a_MN (actual)\")\n",
    "    plot_eq(debug_a_LT, \"a_LT (debug)\", a_LT, \"a_LT (actual)\")\n",
    "    plot_eq(debug_a_LN, \"a_LN (debug)\", a_LN, \"a_LN (actual)\")\n",
    "    plot_eq(debug_alpha_MX, \"alpha_MX (debug)\", alpha_MX, \"alpha_MX (actual)\")\n",
    "    plot_eq(debug_alpha_MY, \"alpha_MY (debug)\", alpha_MY, \"alpha_MY (actual)\")\n",
    "    plot_eq(debug_alpha_MZ, \"alpha_MZ (debug)\", alpha_MZ, \"alpha_MZ (actual)\")\n",
    "    plot_eq(debug_dd_theta_L, \"dd_theta_L (debug)\", dd_theta_L, \"dd_theta_L (actual)\")\n",
    "    plot_eq(debug_dd_d_N, \"dd_d_N (debug)\", dd_d_N, \"dd_d_N (actual)\")\n",
    "    plot_eq(debug_dd_d_T, \"dd_d_T (debug)\", dd_d_T, \"dd_d_T (actual)\")\n",
    "    for i in range(nq):\n",
    "        plot_eq(debug_ddqs[i], \"dd_d \" + str(i) + \" (debug)\", dd_q[:,i].flatten(), \"dd_d \" + str(i) + \" (actual)\")"
   ]
  },
  {
   "cell_type": "markdown",
   "metadata": {},
   "source": [
    "# Other plots\n",
    "These aren't necessarily constraints in the program, but I do want to check them."
   ]
  },
  {
   "cell_type": "markdown",
   "metadata": {},
   "source": [
    "## Friction\n",
    "### Norm"
   ]
  },
  {
   "cell_type": "code",
   "execution_count": null,
   "metadata": {},
   "outputs": [],
   "source": [
    "lhs = np.linalg.norm(np.expand_dims(F_FLX, [1,2])*x_hat + np.expand_dims(F_FLT, [1,2])*T_hat, axis=1)\n",
    "lhs_label = r\"$||F_{FLT} + F_{FLX}||$\"\n",
    "\n",
    "rhs = np.abs(np.expand_dims(mu*mu_S*F_NL, 1))\n",
    "rhs_label = \"$|\\mu\\mu_{S}F_{NL}|$\"\n",
    "\n",
    "plot_eq(lhs, lhs_label, rhs, rhs_label)\n",
    "plt.show()"
   ]
  },
  {
   "cell_type": "code",
   "execution_count": null,
   "metadata": {},
   "outputs": [],
   "source": [
    "lhs = s_S\n",
    "lhs_label = r\"Slip speed candidate norm\"\n",
    "\n",
    "rhs = slip_speed\n",
    "rhs_label = \"Actual slip speed\"\n",
    "\n",
    "plot_eq(lhs, lhs_label, rhs, rhs_label)\n",
    "plt.show()"
   ]
  },
  {
   "cell_type": "markdown",
   "metadata": {},
   "source": [
    "## Direction"
   ]
  },
  {
   "cell_type": "code",
   "execution_count": null,
   "metadata": {},
   "outputs": [],
   "source": [
    "F_hat = np.expand_dims(F_FLT, [1,2])*T_hat + np.expand_dims(F_FLX, [1,2])*x_hat\n",
    "F_hat = F_hat/np.expand_dims(np.linalg.norm(F_hat, axis=1), 2)"
   ]
  },
  {
   "cell_type": "code",
   "execution_count": null,
   "metadata": {},
   "outputs": [],
   "source": [
    "sig1 = s_hat\n",
    "sig1_label = r\"$\\hat s$\"\n",
    "\n",
    "sig2 = F_hat\n",
    "sig2_label = r\"$\\hat F$\"\n",
    "plot_vec(sig1, sig1_label, sig2, sig2_label, start_time=t_start_of_last_contact)"
   ]
  },
  {
   "cell_type": "code",
   "execution_count": null,
   "metadata": {},
   "outputs": [],
   "source": [
    "sig1 = s_hat\n",
    "sig1_label = r\"$\\hat s$\"\n",
    "\n",
    "sig2 = F_hat\n",
    "sig2_label = r\"$\\hat F$\"\n",
    "plot_vec_XTN(sig1, sig1_label, sig2, sig2_label, start_time=t_start_of_last_contact)"
   ]
  },
  {
   "cell_type": "markdown",
   "metadata": {},
   "source": [
    "## Actual values"
   ]
  },
  {
   "cell_type": "code",
   "execution_count": null,
   "metadata": {},
   "outputs": [],
   "source": [
    "F_mag = mu_S*F_NL*mu"
   ]
  },
  {
   "cell_type": "code",
   "execution_count": null,
   "metadata": {},
   "outputs": [],
   "source": [
    "F_F_est = s_hat*np.expand_dims(np.vstack((F_mag,F_mag,F_mag)).T, 2)"
   ]
  },
  {
   "cell_type": "code",
   "execution_count": null,
   "metadata": {},
   "outputs": [],
   "source": [
    "sig1 = F_F_est\n",
    "sig1_label = r\"Estimated friction\"\n",
    "\n",
    "sig2 = F_contact_L - N_hat_proj_mat@F_contact_L\n",
    "sig2_label = r\"Actual friction\"\n",
    "plot_vec_XTN(sig1, sig1_label, sig2, sig2_label, start_time=t_start_of_last_contact)"
   ]
  },
  {
   "cell_type": "markdown",
   "metadata": {},
   "source": [
    "# Pre-contact plots"
   ]
  },
  {
   "cell_type": "code",
   "execution_count": null,
   "metadata": {},
   "outputs": [],
   "source": [
    "plot_eq(v_MN, r\"$v_{MN}$\", pre_contact_ctrl.v_MNd, r\"$v_{MNd}$\", t_start=2, t_end=4)"
   ]
  },
  {
   "cell_type": "markdown",
   "metadata": {},
   "source": [
    "# Other useful plots"
   ]
  },
  {
   "cell_type": "markdown",
   "metadata": {},
   "source": [
    "## Friction plots"
   ]
  },
  {
   "cell_type": "code",
   "execution_count": null,
   "metadata": {},
   "outputs": [],
   "source": [
    "lw=5\n",
    "plt.figure(figsize=(16,8))\n",
    "plt.plot(l_times[idx_start:idx_end],\n",
    "         abs(F_FLT[idx_start:idx_end]), label=r\"$\\left|F_{FL}\\right|$\", linewidth=lw, color='lightskyblue', zorder=0)\n",
    "plt.plot(l_times[idx_start:idx_end],\n",
    "         abs(F_FMT[idx_start:idx_end]), label=r\"$\\left|F_{FM}\\right|$\", linewidth=lw, color='b', linestyle='--', zorder=1)\n",
    "plt.plot(l_times[idx_start:idx_end],\n",
    "         abs(F_NL[idx_start:idx_end])*mu, label=r\"$\\mu\\left|F_{NL}\\right|$\", linewidth=lw, color='k', linestyle=':')\n",
    "\n",
    "plt.autoscale(enable=True, axis='x', tight=True)\n",
    "plt.legend()\n",
    "plt.xlabel(\"Time\")\n",
    "plt.show()"
   ]
  },
  {
   "cell_type": "code",
   "execution_count": null,
   "metadata": {},
   "outputs": [],
   "source": [
    "lw=5\n",
    "plt.figure(figsize=(16, 8))\n",
    "plt.plot(l_times[idx_start:idx_end], slip_speed[idx_start:idx_end], label=\"slip speed\", linewidth=5)\n",
    "plt.axhline(v_stiction, linestyle=\"--\", color=\"k\", label=\"$v_{stiction}$\", linewidth=5)\n",
    "plt.xlabel(\"Time (seconds)\")\n",
    "plt.ylabel(\"Speed (m/s)\")\n",
    "# plt.ylim(0, 2*v_stiction)\n",
    "plt.autoscale(enable=True, axis='x', tight=True)\n",
    "plt.legend()\n",
    "plt.show()"
   ]
  },
  {
   "cell_type": "markdown",
   "metadata": {},
   "source": [
    "## Joint torques"
   ]
  },
  {
   "cell_type": "code",
   "execution_count": null,
   "metadata": {},
   "outputs": [],
   "source": [
    "plt.figure(figsize=(16,8))\n",
    "plt.plot(l_times[idx_start:idx_end], \n",
    "         joint_torque_in_compliance_frame[0,idx_start:idx_end], linewidth=5, color='r', label=r\"\\tau_x\")\n",
    "plt.plot(l_times[idx_start:idx_end], \n",
    "         joint_torque_in_compliance_frame[1,idx_start:idx_end], linewidth=5, color='g', label=r\"\\tau_y\")\n",
    "plt.plot(l_times[idx_start:idx_end], \n",
    "         joint_torque_in_compliance_frame[2,idx_start:idx_end], linewidth=5, color='b', label=r\"\\tau_z\")\n",
    "plt.autoscale(enable=True, axis='x', tight=True)"
   ]
  },
  {
   "cell_type": "code",
   "execution_count": null,
   "metadata": {},
   "outputs": [],
   "source": [
    "lhs = a_LT\n",
    "lhs_label = r\"$a_{LT}$\"\n",
    "rhs = (-w_L/2)*d_theta_L**2\n",
    "rhs_label = r\"$-\\frac{w_L}{2}\\dot\\theta^2$\"\n",
    "plot_eq(lhs, lhs_label, rhs, rhs_label)"
   ]
  },
  {
   "cell_type": "code",
   "execution_count": null,
   "metadata": {},
   "outputs": [],
   "source": [
    "lhs = a_LN\n",
    "lhs_label = r\"$a_{LN}$\"\n",
    "rhs = (w_L/2)*dd_theta_L\n",
    "rhs_label = r\"$\\frac{w_L}{2}\\ddot\\theta$\"\n",
    "plot_eq(lhs, lhs_label, rhs, rhs_label)"
   ]
  },
  {
   "cell_type": "markdown",
   "metadata": {},
   "source": [
    "# Contact normal"
   ]
  },
  {
   "cell_type": "code",
   "execution_count": null,
   "metadata": {},
   "outputs": [],
   "source": [
    "plot_vec(N_hat, r\"True $\\hat N$\", N_hat_geo, r\"Geometric $\\hat N$\")"
   ]
  },
  {
   "cell_type": "markdown",
   "metadata": {},
   "source": [
    "## Simplified normal acceleration analysis\n",
    "### Link vs. manipulator normal acceleration"
   ]
  },
  {
   "cell_type": "code",
   "execution_count": null,
   "metadata": {},
   "outputs": [],
   "source": [
    "plot_eq(a_MN, \"a_MN\", a_LN, \"a_LN\")"
   ]
  },
  {
   "cell_type": "markdown",
   "metadata": {},
   "source": [
    "After a small amount of settling time, the link and the manipulator move together, which can simplify our analysis."
   ]
  },
  {
   "cell_type": "markdown",
   "metadata": {},
   "source": [
    "### Total forces on the system"
   ]
  },
  {
   "cell_type": "code",
   "execution_count": null,
   "metadata": {},
   "outputs": [],
   "source": [
    "m_M = manipulator.MASS"
   ]
  },
  {
   "cell_type": "code",
   "execution_count": null,
   "metadata": {},
   "outputs": [],
   "source": [
    "F_Gtot = z_hat*(-g*(m_L+m_M))\n",
    "F_GNtot = np.matmul(T(F_Gtot), N_hat).flatten()"
   ]
  },
  {
   "cell_type": "code",
   "execution_count": null,
   "metadata": {},
   "outputs": [],
   "source": [
    "F_C = np.matmul(J_translational, tau_ctrl)\n",
    "F_CN = np.matmul(T(F_C), N_hat).flatten()"
   ]
  },
  {
   "cell_type": "code",
   "execution_count": null,
   "metadata": {},
   "outputs": [],
   "source": [
    "F_out = np.matmul(J_translational, tau_out)\n",
    "F_outN = np.matmul(T(F_out), N_hat).flatten()"
   ]
  },
  {
   "cell_type": "code",
   "execution_count": null,
   "metadata": {},
   "outputs": [],
   "source": [
    "plot_eq((m_L+m_M)*a_LN, \"(m_L+m_M)a_LN\",  F_ON + F_outN + F_GNtot, \"F_GNtot + F_ON\")"
   ]
  },
  {
   "cell_type": "markdown",
   "metadata": {},
   "source": [
    "After a similar settling time, the objects are moving together as a system, which again simplifies analysis."
   ]
  },
  {
   "cell_type": "markdown",
   "metadata": {},
   "source": [
    "# Debugging"
   ]
  },
  {
   "cell_type": "code",
   "execution_count": null,
   "metadata": {},
   "outputs": [],
   "source": [
    "plt.figure(figsize=(16,8))\n",
    "plt.plot(l_times, \n",
    "         joint_torque_in_compliance_frame[0], linewidth=5, color='r', label=r\"\\tau_x\")\n",
    "plt.plot(l_times, \n",
    "         joint_torque_in_compliance_frame[1], linewidth=5, color='g', label=r\"\\tau_y\")\n",
    "plt.plot(l_times, \n",
    "         joint_torque_in_compliance_frame[2], linewidth=5, color='b', label=r\"\\tau_z\")\n",
    "plt.autoscale(enable=True, axis='x', tight=True)"
   ]
  },
  {
   "cell_type": "code",
   "execution_count": null,
   "metadata": {},
   "outputs": [],
   "source": [
    "plot_eq(tau_O, \"tau_O\", -k_J*theta_L-b_J*d_theta_L, \"-k_J*theta_L-b_J*d_theta_L\")"
   ]
  },
  {
   "cell_type": "markdown",
   "metadata": {},
   "source": [
    "## $\\ddot\\theta_L$ dynamics"
   ]
  },
  {
   "cell_type": "code",
   "execution_count": null,
   "metadata": {},
   "outputs": [],
   "source": [
    "lhs_label = r'$I_L\\ddot\\theta$'\n",
    "rhs_label = r'$-\\frac{w_L}{2}F_{ON} + \\tau_O$'\n",
    "\n",
    "lhs = I_L*dd_theta_L\n",
    "\n",
    "N_lever_arm = np.nan_to_num(p_CN-p_LN)\n",
    "T_lever_arm = np.nan_to_num(p_CT-p_LT)\n",
    "rhs = (-w_L/2)*F_ON + T_lever_arm*F_NL + tau_O\n",
    "\n",
    "plot_eq(lhs, lhs_label, rhs, rhs_label)\n",
    "update_error(lhs, lhs_label, rhs, rhs_label)"
   ]
  },
  {
   "cell_type": "code",
   "execution_count": null,
   "metadata": {},
   "outputs": [],
   "source": [
    "# lhs = dd_theta_L*w_L*(m_M+m_L)/2 - F_GNtot\n",
    "# lhs_label = r\"$\\left(\\frac{w_L(m_M+m_L)}{2}\\right)\\ddot\\theta_L - F_{GNtot}$\"\n",
    "\n",
    "# rhs = F_ON\n",
    "# rhs_label = r\"$F_{ON}$\"\n",
    "# plot_eq(lhs, lhs_label, rhs, rhs_label)"
   ]
  },
  {
   "cell_type": "code",
   "execution_count": null,
   "metadata": {},
   "outputs": [],
   "source": [
    "plot_eq((m_L+m_M)*((w_L/2)*dd_theta_L)-F_CN - F_GN, r\"(m_L+m_M)\\ddot\\theta_L-F_GN-F_CN\",  F_ON, \"F_ON\")"
   ]
  },
  {
   "cell_type": "code",
   "execution_count": null,
   "metadata": {},
   "outputs": [],
   "source": [
    "lhs = I_L*dd_theta_L\n",
    "lhs_label = r\"$I_L\\ddot\\theta_L$\"\n",
    "rhs_label = r\"$\\frac{w_L}{2}\\left[\\left(\\frac{w_L(m_L+m_M)}{2}\\right)\\ddot\\theta_L-F_{GNtot}-F_{CN}\\right]+\\tau_O$\"\n",
    "rhs = (w_L/2)*((w_L*(m_L+m_M)/2)*dd_theta_L - F_GNtot - F_outN)+tau_O\n",
    "\n",
    "plot_eq(lhs, lhs_label, rhs, rhs_label)"
   ]
  },
  {
   "cell_type": "code",
   "execution_count": null,
   "metadata": {},
   "outputs": [],
   "source": [
    "I_L*dd_theta_L - (w_L/2)*((w_L*(m_L+m_M)/2)*dd_theta_L - F_GNtot - F_outN)+tau_O"
   ]
  },
  {
   "cell_type": "code",
   "execution_count": null,
   "metadata": {},
   "outputs": [],
   "source": [
    "lhs = I_L*dd_theta_L\n",
    "lhs_label = r\"$I_L\\ddot\\theta_L$\"\n",
    "rhs = (w_L/2)*((w_L*(m_L+m_M)/2)*dd_theta_L - F_GNtot - F_outN)+tau_O\n",
    "rhs_label = r\"$\\frac{w_L}{2}\\left[\\left(\\frac{w_L(m_L+m_M)}{2}\\right)\\ddot\\theta_L-F_{GNtot}-F_{CN}\\right]+\\tau_O$\"\n",
    "\n",
    "plot_eq(lhs, lhs_label, rhs, rhs_label)"
   ]
  },
  {
   "cell_type": "code",
   "execution_count": null,
   "metadata": {},
   "outputs": [],
   "source": [
    "lhs_label = r'$I_L\\ddot\\theta$'\n",
    "rhs_label = r'$\\frac{w_L}{2}\\left(\\left(-\\frac{w_L(m_L+m_M)}{2}\\ddot\\theta_L\\right)+F_{CN} + F_{GNtot}\\right) + \\tau_O$'\n",
    "\n",
    "lhs = I_L*dd_theta_L\n",
    "rhs = (w_L/2)*(-(m_L+m_M)*((w_L/2)*dd_theta_L)+F_outN + F_GNtot) + tau_O\n",
    "\n",
    "plot_eq(lhs, lhs_label, rhs, rhs_label)\n",
    "update_error(lhs, lhs_label, rhs, rhs_label)"
   ]
  },
  {
   "cell_type": "code",
   "execution_count": null,
   "metadata": {},
   "outputs": [],
   "source": [
    "lhs_label = r'$I_L\\ddot\\theta$'\n",
    "rhs_label = r'$-\\frac{w_L^2(m_L+m_M)}{4}\\ddot\\theta_L+\\frac{w_L}{2}F_{CN} + \\frac{w_L}{2}F_{GNtot} + \\tau_O$'\n",
    "\n",
    "lhs = I_L*dd_theta_L\n",
    "rhs = -(m_L+m_M)*((w_L**2/4)*dd_theta_L)+(w_L/2)*F_outN + (w_L/2)*F_GNtot + tau_O\n",
    "\n",
    "plot_eq(lhs, lhs_label, rhs, rhs_label)\n",
    "update_error(lhs, lhs_label, rhs, rhs_label)"
   ]
  },
  {
   "cell_type": "code",
   "execution_count": null,
   "metadata": {},
   "outputs": [],
   "source": [
    "lhs_label = r'$\\left(I_L-\\frac{w_L^2(m_L+m_M)}{4}\\right)\\ddot\\theta$'\n",
    "rhs_label = r'$\\frac{w_L}{2}F_{CN} + \\frac{w_L}{2}F_{GNtot} + \\tau_O$'\n",
    "\n",
    "lhs = (I_L+(m_L+m_M)*(w_L**2/4))*dd_theta_L\n",
    "rhs = (w_L/2)*F_outN + (w_L/2)*F_GNtot + tau_O\n",
    "\n",
    "plot_eq(lhs, lhs_label, rhs, rhs_label)\n",
    "update_error(lhs, lhs_label, rhs, rhs_label)"
   ]
  },
  {
   "cell_type": "code",
   "execution_count": null,
   "metadata": {},
   "outputs": [],
   "source": [
    "lhs_label = r'$\\left(I_L-\\frac{w_L^2(m_L+m_M)}{4}\\right)\\ddot\\theta$'\n",
    "rhs_label = r'$\\frac{w_L}{2}F_{CN} + \\frac{w_L}{2}F_{GN} + \\tau_O$'\n",
    "\n",
    "lhs = (I_L+(m_L+m_M)*(w_L**2/4))*dd_theta_L\n",
    "rhs = (w_L/2)*F_CN + (w_L/2)*F_GN + tau_O\n",
    "\n",
    "plot_eq(lhs, lhs_label, rhs, rhs_label)\n",
    "update_error(lhs, lhs_label, rhs, rhs_label)"
   ]
  },
  {
   "cell_type": "code",
   "execution_count": null,
   "metadata": {},
   "outputs": [],
   "source": [
    "lhs_label = r'$F_{CN}$'\n",
    "rhs_label = r'$F_{outN}$'\n",
    "\n",
    "lhs = F_CN\n",
    "rhs = F_outN\n",
    "\n",
    "plot_eq(lhs, lhs_label, rhs, rhs_label)\n",
    "update_error(lhs, lhs_label, rhs, rhs_label)"
   ]
  }
 ],
 "metadata": {
  "interpreter": {
   "hash": "aee8b7b246df8f9039afb4144a1f6fd8d2ca17a180786b69acc140d282b71a49"
  },
  "kernelspec": {
   "display_name": "Python 3",
   "language": "python",
   "name": "python3"
  },
  "language_info": {
   "codemirror_mode": {
    "name": "ipython",
    "version": 3
   },
   "file_extension": ".py",
   "mimetype": "text/x-python",
   "name": "python",
   "nbconvert_exporter": "python",
   "pygments_lexer": "ipython3",
   "version": "3.9.9"
  },
  "toc": {
   "base_numbering": 1,
   "nav_menu": {},
   "number_sections": true,
   "sideBar": false,
   "skip_h1_title": false,
   "title_cell": "Table of Contents",
   "title_sidebar": "Contents",
   "toc_cell": false,
   "toc_position": {
    "height": "665px",
    "left": "1140px",
    "top": "327px",
    "width": "324px"
   },
   "toc_section_display": true,
   "toc_window_display": true
  }
 },
 "nbformat": 4,
 "nbformat_minor": 4
}
