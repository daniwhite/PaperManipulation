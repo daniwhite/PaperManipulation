{
 "cells": [
  {
   "cell_type": "markdown",
   "metadata": {},
   "source": [
    "# Imports"
   ]
  },
  {
   "cell_type": "code",
   "execution_count": null,
   "metadata": {},
   "outputs": [],
   "source": [
    "# Suprress warnings\n",
    "import warnings\n",
    "with warnings.catch_warnings():\n",
    "    warnings.simplefilter(\"ignore\")\n",
    "\n",
    "    # Standard imports\n",
    "    import matplotlib\n",
    "    import matplotlib.pyplot as plt\n",
    "    import matplotlib.patches as patches\n",
    "    import matplotlib.cm as cm\n",
    "    import numpy as np\n",
    "\n",
    "    # Drake imports\n",
    "    from meshcat.servers.zmqserver import start_zmq_server_as_subprocess\n",
    "    import pydrake\n",
    "    from pydrake.all import LogOutput, DirectCollocation, DirectTranscription, MathematicalProgram, InputPortSelection\n",
    "    from pydrake.all import FindResourceOrThrow\n",
    "    \n",
    "    import scipy.interpolate\n",
    "# Imports of other project files\n",
    "from log_wrapper import LogWrapper\n",
    "import arm\n",
    "import constants\n",
    "import finger\n",
    "import pedestal\n",
    "from controllers import edge_controller\n",
    "from paper import Paper\n",
    "\n",
    "from pydrake.all import (MultibodyPlant, Parser, DiagramBuilder, Simulator, RigidTransform,\n",
    "                         PlanarSceneGraphVisualizer, SceneGraph, TrajectorySource,\n",
    "                         SnoptSolver, MultibodyPositionToGeometryPose, PiecewisePolynomial,\n",
    "                         MathematicalProgram, JacobianWrtVariable, eq, RollPitchYaw, AutoDiffXd, BodyIndex,\n",
    "                        RotationMatrix)\n",
    "\n",
    "# Other imports\n",
    "import importlib"
   ]
  },
  {
   "cell_type": "code",
   "execution_count": null,
   "metadata": {},
   "outputs": [],
   "source": [
    "from IPython.display import display, SVG\n",
    "import pydot"
   ]
  },
  {
   "cell_type": "code",
   "execution_count": null,
   "metadata": {},
   "outputs": [],
   "source": [
    "# Matplotlib configuring\n",
    "# USE FOR PAPER\n",
    "# plt.style.use(['science', 'no-latex'])\n",
    "# font = {'size'   : 14}\n",
    "# matplotlib.rc('font', **font)\n",
    "# USE GENERALLY\n",
    "font = {'size'   : 16}\n",
    "matplotlib.rc('font', **font)"
   ]
  },
  {
   "cell_type": "code",
   "execution_count": null,
   "metadata": {},
   "outputs": [],
   "source": [
    "# Meshcat init\n",
    "proc, zmq_url, web_url = start_zmq_server_as_subprocess()"
   ]
  },
  {
   "cell_type": "markdown",
   "metadata": {},
   "source": [
    "# Simulation setup\n",
    "## Pre-finalize steps"
   ]
  },
  {
   "cell_type": "code",
   "execution_count": null,
   "metadata": {},
   "outputs": [],
   "source": [
    "builder = pydrake.systems.framework.DiagramBuilder()\n",
    "\n",
    "jnt_frc_log = []\n",
    "\n",
    "# Add all elements\n",
    "plant, scene_graph = pydrake.multibody.plant.AddMultibodyPlantSceneGraph(builder, time_step=constants.DT)\n",
    "v_stiction=1e-3\n",
    "plant.set_stiction_tolerance(v_stiction)\n",
    "plant.set_penetration_allowance(0.001)\n",
    "pedestal_instance = pedestal.AddPedestal(plant)\n",
    "\n",
    "# These joint angles start the paper approximately the right spot, no matter how many links are used\n",
    "num_links = 2\n",
    "def_joint_angles = 0\n",
    "\n",
    "paper = Paper(plant, scene_graph, num_links, default_joint_angle=def_joint_angles,\n",
    "              stiffness=2.5e-1,\n",
    "              damping=7.12547340446979e-06)\n",
    "paper.weld_paper_edge(pedestal.PEDESTAL_WIDTH, pedestal.PEDESTAL_HEIGHT)\n",
    "\n",
    "# Set up logger (needs to happen after all bodies are added)\n",
    "# log_wrapper = LogWrapper(plant.num_bodies(), 0, paper, jnt_frc_log) # int(finger_body.index())\n",
    "# builder.AddSystem(log_wrapper)"
   ]
  },
  {
   "cell_type": "markdown",
   "metadata": {},
   "source": [
    "Calculate link inertia to use in damping calculations:"
   ]
  },
  {
   "cell_type": "code",
   "execution_count": null,
   "metadata": {},
   "outputs": [],
   "source": [
    "arm_instance = arm.AddArm(plant, scene_graph)"
   ]
  },
  {
   "cell_type": "markdown",
   "metadata": {},
   "source": [
    "## Controller selection"
   ]
  },
  {
   "cell_type": "code",
   "execution_count": null,
   "metadata": {},
   "outputs": [],
   "source": [
    "# I_L = plant.get_body(\n",
    "#     BodyIndex(paper.link_idxs[-1])).default_rotational_inertia().CalcPrincipalMomentsOfInertia()[0]\n",
    "# I_M = finger_body.default_rotational_inertia().CalcPrincipalMomentsOfInertia()[0]\n",
    "# sys_params = {\n",
    "#     'I_L': I_L,\n",
    "#     'I_M': I_M,\n",
    "#     'v_stiction': v_stiction,\n",
    "#     'w_L': paper.link_width,\n",
    "#     'm_L': paper.link_mass,\n",
    "#     'b_J': paper.damping,\n",
    "#     'k_J': paper.stiffness,\n",
    "#     'g': plant.gravity_field().gravity_vector()[-1]*-1,\n",
    "# }\n",
    "# finger_ctrlr = edge_controller.EdgeController(\n",
    "#     finger_idx=int(finger_body.index()),\n",
    "#     ll_idx=int(paper.link_idxs[-1]),\n",
    "#     sys_params=sys_params,\n",
    "#     debug=True,\n",
    "#     jnt_frc_log=jnt_frc_log\n",
    "# )"
   ]
  },
  {
   "cell_type": "code",
   "execution_count": null,
   "metadata": {},
   "outputs": [],
   "source": [
    "arm_ctrl = arm.ArmForceController()"
   ]
  },
  {
   "cell_type": "markdown",
   "metadata": {},
   "source": [
    "## Post-finalize steps"
   ]
  },
  {
   "cell_type": "code",
   "execution_count": null,
   "metadata": {},
   "outputs": [],
   "source": [
    "plant.Finalize()"
   ]
  },
  {
   "cell_type": "code",
   "execution_count": null,
   "metadata": {},
   "outputs": [],
   "source": [
    "## Post finalize steps\n",
    "# Conect finger controller\n",
    "# builder.AddSystem(finger_ctrlr)\n",
    "# builder.Connect(finger_ctrlr.get_output_port(), plant.get_actuation_input_port(finger_instance))\n",
    "# builder.Connect(plant.get_body_poses_output_port(), finger_ctrlr.get_input_port(0))\n",
    "# builder.Connect(plant.get_body_spatial_velocities_output_port(), finger_ctrlr.get_input_port(1))\n",
    "# builder.Connect(plant.get_contact_results_output_port(), finger_ctrlr.get_input_port(2))\n",
    "\n",
    "# Add logger\n",
    "# builder.Connect(plant.get_body_poses_output_port(), log_wrapper.get_input_port(0))\n",
    "# builder.Connect(plant.get_body_spatial_velocities_output_port(), log_wrapper.get_input_port(1))\n",
    "# builder.Connect(plant.get_body_spatial_accelerations_output_port(), log_wrapper.get_input_port(2)) \n",
    "# builder.Connect(plant.get_contact_results_output_port(), log_wrapper.get_input_port(3))\n",
    "# builder.Connect(plant.get_reaction_forces_output_port(), log_wrapper.get_input_port(4))\n",
    "builder.AddSystem(arm_ctrl)\n",
    "builder.Connect(plant.get_state_output_port(arm_instance), arm_ctrl.get_input_port())\n",
    "builder.Connect(arm_ctrl.get_output_port(), plant.get_actuation_input_port())\n",
    "\n",
    "\n",
    "\n",
    "# Visualization and logging\n",
    "# logger = LogOutput(log_wrapper.get_output_port(), builder)\n",
    "vis = pydrake.systems.meshcat_visualizer.ConnectMeshcatVisualizer(builder, scene_graph)\n",
    "# vis.set_planar_viewpoint(camera_position=[1, 0, 0], xmin=-0.3, xmax=0.3, ymin=-0.3, ymax=0.3)\n",
    "\n",
    "# Build diagram and do actions requiring \n",
    "diagram = builder.Build()\n",
    "diagram_context = diagram.CreateDefaultContext()"
   ]
  },
  {
   "cell_type": "code",
   "execution_count": null,
   "metadata": {},
   "outputs": [],
   "source": [
    "q0 = np.zeros(7)\n",
    "q0[0] = -np.pi/2\n",
    "q0[1] = 1.1\n",
    "q0[3] = -2\n",
    "q0[5] = 3*np.pi/2-0.2\n",
    "q0[6] = -np.pi/4\n",
    "plant_context = diagram.GetMutableSubsystemContext(plant, diagram_context)\n",
    "plant.SetPositions(plant_context, arm_instance, q0)"
   ]
  },
  {
   "cell_type": "code",
   "execution_count": null,
   "metadata": {},
   "outputs": [],
   "source": [
    "# SVG(pydot.graph_from_dot_data(diagram.GetGraphvizString())[0].create_svg())"
   ]
  },
  {
   "cell_type": "markdown",
   "metadata": {},
   "source": [
    "# Run simulation"
   ]
  },
  {
   "cell_type": "code",
   "execution_count": null,
   "metadata": {},
   "outputs": [],
   "source": [
    "# Finalize simulation and visualization\n",
    "simulator = pydrake.systems.analysis.Simulator(diagram, diagram_context)\n",
    "simulator.Initialize()\n",
    "vis.start_recording()\n",
    "try:\n",
    "    simulator.AdvanceTo(constants.TSPAN)\n",
    "except RuntimeError as e:\n",
    "    print(e)\n",
    "\n",
    "# # This way, we can use the actual time the simulation ran for\n",
    "# # effective_tspan = max(logger.sample_times())\n",
    "\n",
    "vis.stop_recording()\n",
    "vis.publish_recording()"
   ]
  },
  {
   "cell_type": "code",
   "execution_count": null,
   "metadata": {},
   "outputs": [],
   "source": [
    "ajflkdsjfakljsdklf"
   ]
  },
  {
   "cell_type": "markdown",
   "metadata": {},
   "source": [
    "# Plots used in orginal paper"
   ]
  },
  {
   "cell_type": "code",
   "execution_count": null,
   "metadata": {},
   "outputs": [],
   "source": [
    "# This script is getting huge. We need to turn off parts that we're not using.\n",
    "generate_orig_plots = True"
   ]
  },
  {
   "cell_type": "code",
   "execution_count": null,
   "metadata": {},
   "outputs": [],
   "source": [
    "if generate_orig_plots:\n",
    "    # Generate plots for paper\n",
    "    nb = plant.num_bodies()\n",
    "    y_traces = []\n",
    "    z_traces = []\n",
    "    theta_traces = []\n",
    "    for b in paper.link_idxs:\n",
    "        y_traces.append(logger.data()[log_wrapper.entries_per_body*b+1])\n",
    "        z_traces.append(logger.data()[log_wrapper.entries_per_body*b+2])\n",
    "        theta_traces.append(logger.data()[log_wrapper.entries_per_body*b+3])\n",
    "    y_traces = np.array(y_traces)\n",
    "    z_traces = np.array(z_traces)\n",
    "    theta_traces = np.array(theta_traces)\n",
    "\n",
    "    times_ = np.arange(0,effective_tspan, effective_tspan/10)\n",
    "    cmap = cm.get_cmap(\"viridis_r\")\n",
    "    plt.figure(figsize=(2*3,2*2))\n",
    "    for t in times_:\n",
    "        c = cmap(t/effective_tspan)\n",
    "        idx = np.argmax(logger.sample_times() >= t)\n",
    "\n",
    "        # Plot paper\n",
    "        # PROGRAMMING: Account for paper thickness in plots\n",
    "        for y, z, theta in zip(y_traces[:,idx], z_traces[:,idx], theta_traces[:,idx]):\n",
    "            y0 = y - np.cos(theta)*paper.link_width/2\n",
    "            z0 = z - np.sin(theta)*paper.link_width/2\n",
    "            y1 = y + np.cos(theta)*paper.link_width/2\n",
    "            z1 = z + np.sin(theta)*paper.link_width/2\n",
    "            plt.plot([y0, y1], [z0, z1], color=c)\n",
    "\n",
    "\n",
    "        # Plot manipulator\n",
    "        plt.scatter(logger.data()[log_wrapper.entries_per_body*int(finger_instance)+1,idx], \n",
    "                    logger.data()[log_wrapper.entries_per_body*int(finger_instance)+2,idx],\n",
    "                    color=c, s=300, zorder=1)\n",
    "\n",
    "    xlim = plt.xlim()\n",
    "    ylim = plt.ylim()\n",
    "    plt.scatter([xlim[0]-50, xlim[0]-50], [ylim[0]-50, ylim[0]-50], c=[0, effective_tspan], cmap=cmap)\n",
    "    plt.xlim(xlim)\n",
    "    plt.ylim(ylim)\n",
    "    cb = plt.colorbar()\n",
    "    cb.set_label(\"Time\")\n",
    "    plt.xlabel(\"$y$ position\")\n",
    "    plt.ylabel(\"$z$ position\")\n",
    "    plt.show()"
   ]
  },
  {
   "cell_type": "markdown",
   "metadata": {},
   "source": [
    "# Drag plots"
   ]
  },
  {
   "cell_type": "markdown",
   "metadata": {},
   "source": [
    "This is a sanity check to see how much force we're neglecting by ignoring drag. The colored lines are the drag forces at each link, and the dashed black line is the force due to gravity for scale.\n",
    "\n",
    "Note that the formula for drag force is $\\rho v^2 C_d A_{paper}$.\n",
    "\n",
    "$C_d$ comes from [this site](https://www.engineersedge.com/fluid_flow/rectangular_flat_plate_drag_14036.htm), which says it depends on $L/d$. For 20 links, $L/d\\approx15$. Rounding this down to 10, we get $C_d=1.22$."
   ]
  },
  {
   "cell_type": "code",
   "execution_count": null,
   "metadata": {},
   "outputs": [],
   "source": [
    "generate_drag_plots = False"
   ]
  },
  {
   "cell_type": "code",
   "execution_count": null,
   "metadata": {},
   "outputs": [],
   "source": [
    "if generate_drag_plots:\n",
    "    # Plot drag forces\n",
    "    plt.figure(figsize=(16, 12))\n",
    "    nb = plant.num_bodies\n",
    "    vel_traces = []\n",
    "    for b in paper.link_idxs:\n",
    "        rho = 1.225\n",
    "        C_d = paper.link_width*paper.depth\n",
    "        vel_sqred = logger.data()[log_wrapper.entries_per_body*b+7]**2+logger.data()[log_wrapper.entries_per_body*b+8]**2\n",
    "        f = 0.5*rho*C_d*vel_sqred\n",
    "        plt.plot(f)\n",
    "\n",
    "    plt.axhline(paper.link_mass*9.81, color='black', linestyle='--')\n",
    "    plt.show()"
   ]
  },
  {
   "cell_type": "markdown",
   "metadata": {},
   "source": [
    "# Verifying equations hold\n",
    "We have the following free body diagrams:\n",
    "<img src=\"forces.png\" width=400px>\n",
    "<img src=\"link-moments.png\" width=400px>\n",
    "\n",
    "Which give us the following equations:\n",
    "$$\n",
    "\\begin{aligned}\n",
    "     m_La_{LT} &= F_{FL} + F_{GT} +F_{OT} \\\\\n",
    "    m_La_{LN} &= F_{NL} + F_{GN} +F_{ON} \\\\\n",
    "    m_Ma_{MT} &= F_{FM} + F_{CT} \\\\\n",
    "    m_Ma_{MN} &= F_{NM} + F_{CN} \\\\\n",
    "    a_{LT} &= a_{MT} \\\\\n",
    "    a_{LN} &= a_{MN} \\\\\n",
    "    a_{LT} &= -\\frac{w_L}{2}\\dot\\theta^2 \\\\\n",
    "    a_{LN} &= \\frac{w_L}{2}\\ddot\\theta \\\\\n",
    "    I_L\\ddot\\theta &= \\frac{w_L}{2}F_{ON}- \\frac{h_L}{2}F_{FL} - r_TF_{NL} \\\\\n",
    "    F_{NL} &= -F_{NM} \\\\\n",
    "    F_{FL} &= -F_{FM} \\\\\n",
    "    a_{NL} &= a_{Nd}  \\\\\n",
    "    F_{FL} &= 0\n",
    "\\end{aligned}\n",
    "$$\n",
    "For each of these equations, I want to plot the value on the left side and the value on the right side to see if they match."
   ]
  },
  {
   "cell_type": "markdown",
   "metadata": {},
   "source": [
    "## Loading signals\n",
    "Preparing all the signals we'll need."
   ]
  },
  {
   "cell_type": "code",
   "execution_count": null,
   "metadata": {},
   "outputs": [],
   "source": [
    "debug = finger_ctrlr.debug"
   ]
  },
  {
   "cell_type": "code",
   "execution_count": null,
   "metadata": {},
   "outputs": [],
   "source": [
    "l_times = logger.sample_times()\n",
    "d_times = np.array(debug['times'])"
   ]
  },
  {
   "cell_type": "markdown",
   "metadata": {},
   "source": [
    "### Helper functions"
   ]
  },
  {
   "cell_type": "code",
   "execution_count": null,
   "metadata": {},
   "outputs": [],
   "source": [
    "def get_N_proj(vec):\n",
    "    N_vec = np.matmul(N_hat_proj_mat, vec)\n",
    "    N_mag = np.linalg.norm(N_vec, axis=1)\n",
    "    N_sgn = np.sign(np.matmul(np.transpose(N_hats, [0, 2, 1]), N_vec))\n",
    "    N = N_mag.flatten()*N_sgn.flatten()\n",
    "    return N"
   ]
  },
  {
   "cell_type": "code",
   "execution_count": null,
   "metadata": {},
   "outputs": [],
   "source": [
    "def get_T_proj(vec):\n",
    "    T_vec = np.matmul(T_hat_proj_mat, vec)\n",
    "    T_mag = np.linalg.norm(T_vec, axis=1)\n",
    "    T_sgn = np.sign(np.matmul(np.transpose(T_hats, [0, 2, 1]), T_vec))\n",
    "    T = T_mag.flatten()*T_sgn.flatten()\n",
    "    return T"
   ]
  },
  {
   "cell_type": "code",
   "execution_count": null,
   "metadata": {},
   "outputs": [],
   "source": [
    "def diff_vec(vec):\n",
    "    d_vec = np.diff(vec, axis=0)\n",
    "    for i in range(vec.shape[1]):\n",
    "        d_vec[:, i] /= np.expand_dims(np.diff(l_times), 1)\n",
    "    d_vec = np.concatenate((d_vec, [d_vec[-1]]))\n",
    "    return d_vec"
   ]
  },
  {
   "cell_type": "code",
   "execution_count": null,
   "metadata": {},
   "outputs": [],
   "source": [
    "def plot_vec(sig1, sig1_label, sig2, sig2_label, finish_plotting=True, plot_x=True):\n",
    "    plt.figure(figsize=(16, 8))\n",
    "    lw = 5\n",
    "    if plot_x:\n",
    "        plt.plot(l_times, sig1[:,0], label=sig1_label + r' $\\hat x$ component', color='pink', linewidth=lw)\n",
    "    plt.plot(l_times, sig1[:,1], label=sig1_label + r' $\\hat y$ component', color='lightgreen', linewidth=lw)\n",
    "    plt.plot(l_times, sig1[:,2], label=sig1_label + r' $\\hat z$ component', color='lightskyblue', linewidth=lw)\n",
    "    \n",
    "    if plot_x:\n",
    "        plt.plot(l_times, sig2[:,0], label=sig2_label + r' $\\hat x$ component', color='red', linewidth=lw, linestyle='--')\n",
    "    plt.plot(l_times, sig2[:,1], label=sig2_label + r' $\\hat y$ component', color='green', linewidth=lw, linestyle='--')\n",
    "    plt.plot(l_times, sig2[:,2], label=sig2_label + r' $\\hat z$ component', color='blue', linewidth=lw, linestyle='--')\n",
    "    plt.xlabel(\"Time (seconds)\")\n",
    "    plt.legend()\n",
    "    plt.autoscale(enable=True, axis='x', tight=True)\n",
    "    if finish_plotting:\n",
    "        plt.show()"
   ]
  },
  {
   "cell_type": "code",
   "execution_count": null,
   "metadata": {},
   "outputs": [],
   "source": [
    "def moving_average(x, w):\n",
    "    return np.convolve(x, np.ones(w), 'same') / w"
   ]
  },
  {
   "cell_type": "code",
   "execution_count": null,
   "metadata": {},
   "outputs": [],
   "source": [
    "def moving_average_vec(x, w):\n",
    "    out = np.zeros_like(x)\n",
    "    for i in range(x.shape[1]):\n",
    "        out[:,i] = np.expand_dims(moving_average(x[:,i].flatten(), w), 1)\n",
    "    return out"
   ]
  },
  {
   "cell_type": "code",
   "execution_count": null,
   "metadata": {},
   "outputs": [],
   "source": [
    "def diff_arr(arr):\n",
    "    d_arr = np.diff(arr)/np.diff(l_times)\n",
    "    d_arr = np.concatenate((d_arr, [d_arr[-1]]))\n",
    "    return d_arr"
   ]
  },
  {
   "cell_type": "code",
   "execution_count": null,
   "metadata": {},
   "outputs": [],
   "source": [
    "def step5(x):\n",
    "    '''Python version of MultibodyPlant::StribeckModel::step5 method'''\n",
    "    x3 = x * x * x\n",
    "    return x3 * (10 + x * (6 * x - 15))\n",
    "\n",
    "def stribeck(us, uk, v):\n",
    "    '''\n",
    "    Python version of MultibodyPlant::StribeckModel::ComputeFrictionCoefficient\n",
    "    \n",
    "    From\n",
    "    https://github.com/RobotLocomotion/drake/blob/b09e40db4b1c01232b22f7705fb98aa99ef91f87/multibody/plant/images/stiction.py\n",
    "    '''\n",
    "    u = np.zeros_like(v) + uk\n",
    "    u[v < 1] = us * step5(v[v < 1])\n",
    "    mask = (v >= 1) & (v < 3)\n",
    "    u[mask] = us - (us - uk) * step5((v[mask] - 1) / 2)\n",
    "    return u"
   ]
  },
  {
   "cell_type": "markdown",
   "metadata": {},
   "source": [
    "### Inputs\n",
    "These should all come from simulation/geometry, since they are inputs to the controller and are \"fixed\" from the controller's perspective.\n",
    "#### Geometric quantities ($m_L, m_M, w_L, I_L, h_L, \\mu$)"
   ]
  },
  {
   "cell_type": "code",
   "execution_count": null,
   "metadata": {},
   "outputs": [],
   "source": [
    "m_L = paper.link_mass\n",
    "m_M = finger.MASS\n",
    "w_L = paper.link_width\n",
    "I_L = paper.plant.get_body(\n",
    "    BodyIndex(paper.link_idxs[-1])).default_rotational_inertia().CalcPrincipalMomentsOfInertia()[0]\n",
    "I_M = finger_body.default_rotational_inertia().CalcPrincipalMomentsOfInertia()[0]\n",
    "h_L = paper.height\n",
    "mu = constants.FRICTION\n",
    "r = finger.RADIUS\n",
    "b_J = paper.damping\n",
    "k_J = paper.stiffness"
   ]
  },
  {
   "cell_type": "markdown",
   "metadata": {},
   "source": [
    "#### Vectors which aren't determined by the force balance ($F_{GT}, F_{GN} \\hat T, \\hat N$)\n",
    "- [ ] PROGRAMMING: also get $\\hat T$ from simulation somehow"
   ]
  },
  {
   "cell_type": "code",
   "execution_count": null,
   "metadata": {},
   "outputs": [],
   "source": [
    "N_hats_raw = logger.data()[log_wrapper.contact_entry_start_idx+14:log_wrapper.contact_entry_start_idx+17,:]\n",
    "N_hats = np.expand_dims(N_hats_raw.T, 2)"
   ]
  },
  {
   "cell_type": "code",
   "execution_count": null,
   "metadata": {},
   "outputs": [],
   "source": [
    "T_hats = np.matmul(\n",
    "    np.array([\n",
    "        [0,  0, 0],\n",
    "        [0,  0, 1],\n",
    "        [0, -1, 0],\n",
    "    ]),\n",
    "    N_hats)"
   ]
  },
  {
   "cell_type": "markdown",
   "metadata": {},
   "source": [
    "It's also useful here to calculate project matrices:"
   ]
  },
  {
   "cell_type": "code",
   "execution_count": null,
   "metadata": {},
   "outputs": [],
   "source": [
    "T_hat_proj_mat = np.matmul(T_hats, np.transpose(T_hats, [0, 2, 1]))"
   ]
  },
  {
   "cell_type": "code",
   "execution_count": null,
   "metadata": {},
   "outputs": [],
   "source": [
    "N_hat_proj_mat = np.matmul(N_hats, np.transpose(N_hats, [0, 2, 1]))"
   ]
  },
  {
   "cell_type": "code",
   "execution_count": null,
   "metadata": {},
   "outputs": [],
   "source": [
    "g = plant.gravity_field().gravity_vector()[-1]*-1\n",
    "F_G = np.zeros([l_times.size, 3, 1])\n",
    "F_G[:,2,0] = -np.ones_like(l_times)*g*m_L\n",
    "F_GT = get_T_proj(F_G)\n",
    "F_GN = get_N_proj(F_G)"
   ]
  },
  {
   "cell_type": "markdown",
   "metadata": {},
   "source": [
    "#### Positions and velocities which are \"fixed'' until the next timestep ($\\dot\\theta^2, r_T, \\dot d_T$)"
   ]
  },
  {
   "cell_type": "markdown",
   "metadata": {},
   "source": [
    "##### Poses and velocities of objects"
   ]
  },
  {
   "cell_type": "code",
   "execution_count": null,
   "metadata": {},
   "outputs": [],
   "source": [
    "contact_point = logger.data()[log_wrapper.contact_entry_start_idx+11:log_wrapper.contact_entry_start_idx+14,:]"
   ]
  },
  {
   "cell_type": "code",
   "execution_count": null,
   "metadata": {},
   "outputs": [],
   "source": [
    "p_C = np.expand_dims(contact_point.T, 2)\n",
    "p_CT = get_T_proj(p_C)\n",
    "p_CN = get_N_proj(p_C)"
   ]
  },
  {
   "cell_type": "code",
   "execution_count": null,
   "metadata": {},
   "outputs": [],
   "source": [
    "p_L = np.expand_dims(\n",
    "    logger.data()[log_wrapper.entries_per_body*paper.link_idxs[-1]:\n",
    "                  log_wrapper.entries_per_body*paper.link_idxs[-1]+3].T,\n",
    "    2)\n",
    "p_LN = get_N_proj(p_L)\n",
    "p_LT = get_T_proj(p_L)"
   ]
  },
  {
   "cell_type": "code",
   "execution_count": null,
   "metadata": {},
   "outputs": [],
   "source": [
    "theta_L = logger.data()[log_wrapper.entries_per_body*paper.link_idxs[-1] + 3]"
   ]
  },
  {
   "cell_type": "code",
   "execution_count": null,
   "metadata": {},
   "outputs": [],
   "source": [
    "v_L = np.expand_dims(\n",
    "    logger.data()[log_wrapper.entries_per_body*paper.link_idxs[-1]+6:\n",
    "                  log_wrapper.entries_per_body*paper.link_idxs[-1]+6+3].T,\n",
    "    2)\n",
    "v_LN = get_N_proj(v_L)\n",
    "v_LT = get_T_proj(v_L)"
   ]
  },
  {
   "cell_type": "code",
   "execution_count": null,
   "metadata": {},
   "outputs": [],
   "source": [
    "p_M = np.expand_dims(logger.data()[log_wrapper.entries_per_body*int(finger_body.index()):\n",
    "                    log_wrapper.entries_per_body*int(finger_body.index())+3,:].T, 2)\n",
    "p_MN = get_N_proj(p_M)\n",
    "p_MT = get_T_proj(p_M)"
   ]
  },
  {
   "cell_type": "code",
   "execution_count": null,
   "metadata": {},
   "outputs": [],
   "source": [
    "v_M = np.expand_dims(\n",
    "    logger.data()[log_wrapper.entries_per_body*int(finger_body.index())+6:\n",
    "                  log_wrapper.entries_per_body*int(finger_body.index())+6+3].T,\n",
    "    2)\n",
    "v_MN = get_N_proj(v_M)\n",
    "v_MT = get_T_proj(v_M)"
   ]
  },
  {
   "cell_type": "code",
   "execution_count": null,
   "metadata": {},
   "outputs": [],
   "source": [
    "slip_speed = logger.data()[log_wrapper.contact_entry_start_idx+10,:]"
   ]
  },
  {
   "cell_type": "markdown",
   "metadata": {},
   "source": [
    "##### Directly measured points and velocities"
   ]
  },
  {
   "cell_type": "code",
   "execution_count": null,
   "metadata": {},
   "outputs": [],
   "source": [
    "# Link edge\n",
    "p_LE = p_L + (w_L/2)*T_hats-(h_L/2)*N_hats\n",
    "p_LEN = get_N_proj(p_LE)\n",
    "p_LET = get_T_proj(p_LE)"
   ]
  },
  {
   "cell_type": "code",
   "execution_count": null,
   "metadata": {},
   "outputs": [],
   "source": [
    "# Penetration depth\n",
    "pen_depth = logger.data()[log_wrapper.contact_entry_start_idx+17]\n",
    "pen_vec = np.expand_dims(pen_depth, [1,2])*N_hats"
   ]
  },
  {
   "cell_type": "code",
   "execution_count": null,
   "metadata": {},
   "outputs": [],
   "source": [
    "# d vector\n",
    "d_vec = p_C - p_LE + pen_vec/2\n",
    "d_T = get_T_proj(d_vec)\n",
    "d_N = get_N_proj(d_vec)"
   ]
  },
  {
   "cell_type": "code",
   "execution_count": null,
   "metadata": {},
   "outputs": [],
   "source": [
    "d_theta_L = logger.data()[log_wrapper.entries_per_body*paper.link_idxs[-1] + 6 + 3]\n",
    "d_theta_M = logger.data()[log_wrapper.entries_per_body*int(finger_body.index()) + 6 + 3]"
   ]
  },
  {
   "cell_type": "code",
   "execution_count": null,
   "metadata": {},
   "outputs": [],
   "source": [
    "d_d_T = -d_theta_L*h_L/2-d_theta_L*r - v_LT + v_MT + d_theta_L*d_N\n",
    "d_d_N = -d_theta_L*w_L/2-v_LN+v_MN-d_theta_L*d_T"
   ]
  },
  {
   "cell_type": "code",
   "execution_count": null,
   "metadata": {},
   "outputs": [],
   "source": [
    "dd_d_T = diff_arr(d_d_T)\n",
    "dd_d_N = diff_arr(d_d_N)"
   ]
  },
  {
   "cell_type": "code",
   "execution_count": null,
   "metadata": {},
   "outputs": [],
   "source": [
    "d_d_vec = diff_vec(d_vec)\n",
    "d_d_vec_T = get_T_proj(d_d_vec)\n",
    "d_d_vec_N = get_N_proj(d_d_vec)"
   ]
  },
  {
   "cell_type": "code",
   "execution_count": null,
   "metadata": {},
   "outputs": [],
   "source": [
    "omega_vec_L = np.expand_dims(np.vstack((d_theta_L, np.zeros_like(d_theta_L), np.zeros_like(d_theta_L))).T, 2)\n",
    "omega_vec_M = np.expand_dims(np.vstack((d_theta_M, np.zeros_like(d_theta_M), np.zeros_like(d_theta_M))).T, 2)"
   ]
  },
  {
   "cell_type": "code",
   "execution_count": null,
   "metadata": {},
   "outputs": [],
   "source": [
    "p_MConM = p_C - p_M\n",
    "p_LConL = p_C - p_L\n",
    "v_WConM = v_M + np.cross(omega_vec_M, p_MConM, axis=1)\n",
    "v_WConMN = get_N_proj(v_WConM)\n",
    "\n",
    "v_WConL = v_L + np.cross(omega_vec_L, p_LConL, axis=1)\n",
    "\n",
    "p_LConLN = get_N_proj(p_C - p_L)\n",
    "\n",
    "p_MConMN = get_N_proj(p_C - p_M)"
   ]
  },
  {
   "cell_type": "code",
   "execution_count": null,
   "metadata": {},
   "outputs": [],
   "source": [
    "d_d_T_diff = diff_arr(d_T)\n",
    "d_d_N_diff = diff_arr(d_N)"
   ]
  },
  {
   "cell_type": "code",
   "execution_count": null,
   "metadata": {},
   "outputs": [],
   "source": [
    "v_S = np.matmul(\n",
    "    np.transpose(T_hats, [0, 2, 1]),\n",
    "    (v_WConM - v_WConL)\n",
    ")\n",
    "s_S = np.abs(v_S) # Slip speed"
   ]
  },
  {
   "cell_type": "markdown",
   "metadata": {},
   "source": [
    "#### Friction coeficients"
   ]
  },
  {
   "cell_type": "code",
   "execution_count": null,
   "metadata": {},
   "outputs": [],
   "source": [
    "stribeck_mu = stribeck(mu, mu, slip_speed/v_stiction)\n",
    "stribeck_sign_L = np.sign(v_S).flatten()"
   ]
  },
  {
   "cell_type": "code",
   "execution_count": null,
   "metadata": {},
   "outputs": [],
   "source": [
    "mu_SM = -stribeck_mu * stribeck_sign_L\n",
    "mu_SL = stribeck_mu * stribeck_sign_L"
   ]
  },
  {
   "cell_type": "markdown",
   "metadata": {},
   "source": [
    "#### Control inputs ($a_{Nd}$)"
   ]
  },
  {
   "cell_type": "code",
   "execution_count": null,
   "metadata": {},
   "outputs": [],
   "source": [
    "dd_theta_Ld = scipy.interpolate.interp1d(d_times, debug['dd_theta_Lds'], axis=0)(l_times)\n",
    "dd_d_Nd = scipy.interpolate.interp1d(d_times, debug['dd_d_Nds'], axis=0)(l_times)\n",
    "dd_d_Td = scipy.interpolate.interp1d(d_times, debug['dd_d_Tds'], axis=0)(l_times)\n",
    "dd_theta_Md = scipy.interpolate.interp1d(d_times, debug['dd_theta_Mds'], axis=0)(l_times)"
   ]
  },
  {
   "cell_type": "markdown",
   "metadata": {},
   "source": [
    "### Outputs\n",
    "These should all come directly from simulation, except for control forces.\n",
    "#### Measured accelerations ($a_{LT}, a_{LN}, a_{MT}, a_{MN}, \\ddot\\theta$)"
   ]
  },
  {
   "cell_type": "code",
   "execution_count": null,
   "metadata": {},
   "outputs": [],
   "source": [
    "a_L_raw = logger.data()[log_wrapper.entries_per_body*paper.link_idxs[-1] + 12:\n",
    "                     log_wrapper.entries_per_body*paper.link_idxs[-1]+12+3,:]\n",
    "a_L = np.expand_dims(a_L_raw.T, 2)\n",
    "a_LT = get_T_proj(a_L)\n",
    "a_LN = get_N_proj(a_L)"
   ]
  },
  {
   "cell_type": "code",
   "execution_count": null,
   "metadata": {},
   "outputs": [],
   "source": [
    "a_M_raw = logger.data()[log_wrapper.entries_per_body*int(finger_body.index()) + 12:\n",
    "                     log_wrapper.entries_per_body*int(finger_body.index())+12+3,:]\n",
    "a_M = np.expand_dims(a_M_raw.T, 2)\n",
    "a_MT = get_T_proj(a_M)\n",
    "a_MN = get_N_proj(a_M)"
   ]
  },
  {
   "cell_type": "code",
   "execution_count": null,
   "metadata": {},
   "outputs": [],
   "source": [
    "dd_theta_L = logger.data()[log_wrapper.entries_per_body*paper.link_idxs[-1] + 12 + 3,:]\n",
    "dd_theta_M = logger.data()[log_wrapper.entries_per_body*int(finger_body.index()) + 12 + 3,:]"
   ]
  },
  {
   "cell_type": "code",
   "execution_count": null,
   "metadata": {},
   "outputs": [],
   "source": [
    "a_s = diff_arr(slip_speed)"
   ]
  },
  {
   "cell_type": "code",
   "execution_count": null,
   "metadata": {},
   "outputs": [],
   "source": [
    "a_M_diff = diff_vec(v_M)\n",
    "a_MT_diff = get_T_proj(a_M_diff)\n",
    "a_MN_diff = get_N_proj(a_M_diff)"
   ]
  },
  {
   "cell_type": "markdown",
   "metadata": {},
   "source": [
    "#### Contact, object, and control forces on each object ($F_{NL}, F_{FL}, F_{ON}, F_{OT}, F_{NM}, F_{FM}, F_{CT}, F_{CN}$"
   ]
  },
  {
   "cell_type": "markdown",
   "metadata": {},
   "source": [
    "##### Contact\n",
    "Slightly different then just taking normal/tangent projections."
   ]
  },
  {
   "cell_type": "code",
   "execution_count": null,
   "metadata": {},
   "outputs": [],
   "source": [
    "F_contact_M_raw = logger.data()[log_wrapper.contact_entry_start_idx+0:log_wrapper.contact_entry_start_idx+3,:]\n",
    "F_contact_M = np.expand_dims(F_contact_M_raw.T, 2)"
   ]
  },
  {
   "cell_type": "code",
   "execution_count": null,
   "metadata": {},
   "outputs": [],
   "source": [
    "F_NM_vec = np.matmul(N_hat_proj_mat, F_contact_M)\n",
    "F_FM_vec = F_contact_M - F_NM_vec"
   ]
  },
  {
   "cell_type": "code",
   "execution_count": null,
   "metadata": {},
   "outputs": [],
   "source": [
    "F_NM_mag = np.linalg.norm(F_NM_vec, axis=1)\n",
    "F_NM_sgn = np.sign(np.matmul(\n",
    "    np.transpose(N_hats, [0, 2, 1]),\n",
    "    F_NM_vec))\n",
    "F_NM = F_NM_mag.flatten()*F_NM_sgn.flatten()"
   ]
  },
  {
   "cell_type": "code",
   "execution_count": null,
   "metadata": {},
   "outputs": [],
   "source": [
    "F_FM_mag = np.linalg.norm(F_FM_vec, axis=1)\n",
    "F_FM_sgn = np.sign(np.matmul(\n",
    "    np.transpose(T_hats, [0, 2, 1]),\n",
    "    F_FM_vec))\n",
    "F_FM = F_FM_mag.flatten()*F_FM_sgn.flatten()"
   ]
  },
  {
   "cell_type": "code",
   "execution_count": null,
   "metadata": {},
   "outputs": [],
   "source": [
    "F_FL = -F_FM\n",
    "F_NL = -F_NM"
   ]
  },
  {
   "cell_type": "markdown",
   "metadata": {},
   "source": [
    "##### Object"
   ]
  },
  {
   "cell_type": "code",
   "execution_count": null,
   "metadata": {},
   "outputs": [],
   "source": [
    "joint_force_in_compliance_frame = logger.data()[\n",
    "    log_wrapper.joint_entry_start_idx+6*(len(paper.joints) - 1):\n",
    "    log_wrapper.joint_entry_start_idx+6*(len(paper.joints) - 1)+3,:]"
   ]
  },
  {
   "cell_type": "code",
   "execution_count": null,
   "metadata": {},
   "outputs": [],
   "source": [
    "F_OT = joint_force_in_compliance_frame[1,:]\n",
    "F_ON = joint_force_in_compliance_frame[2,:]"
   ]
  },
  {
   "cell_type": "code",
   "execution_count": null,
   "metadata": {},
   "outputs": [],
   "source": [
    "joint_torque_in_compliance_frame = logger.data()[\n",
    "    log_wrapper.joint_entry_start_idx+6*(len(paper.joints) - 1)+3:\n",
    "    log_wrapper.joint_entry_start_idx+6*(len(paper.joints) - 1)+6,:]"
   ]
  },
  {
   "cell_type": "code",
   "execution_count": null,
   "metadata": {},
   "outputs": [],
   "source": [
    "tau_O = joint_torque_in_compliance_frame[0,:]"
   ]
  },
  {
   "cell_type": "markdown",
   "metadata": {},
   "source": [
    "##### Control"
   ]
  },
  {
   "cell_type": "code",
   "execution_count": null,
   "metadata": {},
   "outputs": [],
   "source": [
    "F_CT_no_interp = np.array(debug['F_CTs'])\n",
    "F_CT = scipy.interpolate.interp1d(d_times, F_CT_no_interp, axis=0)(l_times)\n",
    "F_CN_no_interp = np.array(debug['F_CNs'])\n",
    "F_CN = scipy.interpolate.interp1d(d_times, F_CN_no_interp, axis=0)(l_times)"
   ]
  },
  {
   "cell_type": "code",
   "execution_count": null,
   "metadata": {},
   "outputs": [],
   "source": [
    "tau_M_no_interp = np.array(debug['taus'])\n",
    "tau_M = scipy.interpolate.interp1d(d_times, tau_M_no_interp, axis=0)(l_times)"
   ]
  },
  {
   "cell_type": "markdown",
   "metadata": {},
   "source": [
    "## Plotting settings"
   ]
  },
  {
   "cell_type": "code",
   "execution_count": null,
   "metadata": {},
   "outputs": [],
   "source": [
    "lw = 5"
   ]
  },
  {
   "cell_type": "code",
   "execution_count": null,
   "metadata": {},
   "outputs": [],
   "source": [
    "figsize = (16, 8)"
   ]
  },
  {
   "cell_type": "code",
   "execution_count": null,
   "metadata": {},
   "outputs": [],
   "source": [
    "plot_supporting_plots = True"
   ]
  },
  {
   "cell_type": "code",
   "execution_count": null,
   "metadata": {},
   "outputs": [],
   "source": [
    "# PROGRAMMING: Actually detect loss of contact, not just slipping\n",
    "t_lose_contact = l_times[np.argmax(slip_speed > v_stiction)] #l_times[idx_lose_contact]"
   ]
  },
  {
   "cell_type": "code",
   "execution_count": null,
   "metadata": {},
   "outputs": [],
   "source": [
    "def get_first_false_idx(arr):\n",
    "    if len(arr.shape) > 1:\n",
    "        nan_arr = np.any(np.isnan(arr), axis=0)\n",
    "    else:\n",
    "        nan_arr = np.isnan(arr)\n",
    "    first_false_idx = None\n",
    "    for i, val in enumerate(nan_arr):\n",
    "        if not val:\n",
    "            first_false_idx = i\n",
    "            break\n",
    "    return first_false_idx"
   ]
  },
  {
   "cell_type": "code",
   "execution_count": null,
   "metadata": {},
   "outputs": [],
   "source": [
    "def idx_from_t(t):\n",
    "    return np.argmax(l_times > t)"
   ]
  },
  {
   "cell_type": "code",
   "execution_count": null,
   "metadata": {},
   "outputs": [],
   "source": [
    "first_false_idx = None\n",
    "for i, val in enumerate(np.any(np.isnan(contact_point), axis=0)):\n",
    "    if not val:\n",
    "        first_false_idx = i\n",
    "        break\n",
    "idx_make_contact = i\n",
    "t_make_contact = l_times[idx_make_contact]"
   ]
  },
  {
   "cell_type": "code",
   "execution_count": null,
   "metadata": {},
   "outputs": [],
   "source": [
    "t_start = t_make_contact + 0.005\n",
    "t_end = 0.116 # l_times[-1] #t_lose_contact #- 1e-4\n",
    "idx_start = np.argmax(l_times > t_start)\n",
    "idx_end = np.argmax(l_times > t_end)\n",
    "idx_lose_contact = np.argmax(np.isnan(F_FL[idx_start:])) + idx_start"
   ]
  },
  {
   "cell_type": "code",
   "execution_count": null,
   "metadata": {},
   "outputs": [],
   "source": [
    "def plot_eq(lhs, lhs_label, rhs, rhs_label, lhs_alpha=1, rhs_alpha=1, lw=5, finish_plotting=True, \n",
    "            plot_diff=True, figsize_=None, plot_err_as_pct=False, t_start=t_start, newline_in_title=False):\n",
    "    if figsize_ is not None:\n",
    "        plt.figure(figsize=figsize_)\n",
    "    else:\n",
    "        plt.figure(figsize=figsize)\n",
    "    if isinstance(lhs, float) or isinstance(lhs, int):\n",
    "        lhs = np.ones_like(l_times)*lhs\n",
    "    if isinstance(rhs, float) or isinstance(rhs, int):\n",
    "        rhs = np.ones_like(l_times)*rhs\n",
    "    idx_start = np.argmax(l_times > t_start)\n",
    "        \n",
    "    b = np.broadcast(lhs, rhs)\n",
    "    if np.count_nonzero(np.array(b.shape) > 1000) > 1:\n",
    "        raise ValueError(\"Broadcast shape of lhs and rhs is {}, which is too large.\".format(b.shape))\n",
    "        \n",
    "    plt.subplot(211)\n",
    "    error = lhs[idx_start:idx_end]-rhs[idx_start:idx_end]\n",
    "    if plot_err_as_pct:\n",
    "        lhs_range = np.nanmax(lhs[idx_start:idx_end]) - np.nanmin(lhs[idx_start:idx_end])\n",
    "        rhs_range = np.nanmax(rhs[idx_start:idx_end]) - np.nanmin(rhs[idx_start:idx_end])\n",
    "        \n",
    "        lhs_max_val = np.nanmax(np.abs(lhs[idx_start:idx_end]))\n",
    "        rhs_max_val = np.nanmax(np.abs(rhs[idx_start:idx_end]))\n",
    "        error /= np.nanmax([lhs_max_val, rhs_max_val])\n",
    "        error *= 100\n",
    "        \n",
    "    plt.plot(l_times[idx_start:idx_end],\n",
    "            error,\n",
    "            linewidth=lw)\n",
    "    plt.autoscale(enable=True, axis='x', tight=True)\n",
    "    plt.xlabel(\"Time (s)\")\n",
    "    if plot_err_as_pct:\n",
    "        plt.ylabel(\"Error (percent of max val)\")\n",
    "    else:\n",
    "        plt.ylabel(\"Error\")\n",
    "    if newline_in_title:\n",
    "        plt.title(\"Difference between {}\\n and {}\".format(lhs_label, rhs_label))\n",
    "    else:\n",
    "        plt.title(\"Difference between {} and {}\".format(lhs_label, rhs_label))\n",
    "    \n",
    "    \n",
    "    plt.subplot(212)\n",
    "    plt.plot(l_times[idx_start:idx_end],\n",
    "             lhs[idx_start:idx_end],\n",
    "             label=lhs_label, linewidth=lw, color='lightskyblue', zorder=0, alpha=lhs_alpha)\n",
    "    plt.plot(l_times[idx_start:idx_end],\n",
    "             rhs[idx_start:idx_end],\n",
    "             label=rhs_label, linewidth=lw, color='b', linestyle='--', zorder=1, alpha=rhs_alpha)\n",
    "    plt.autoscale(enable=True, axis='x', tight=True)\n",
    "    \n",
    "    \n",
    "#     plt.axvline(t_make_contact, color='green', linewidth=lw)\n",
    "#     plt.axvline(t_lose_contact, color='red', linewidth=lw)\n",
    "    \n",
    "    plt.legend()\n",
    "    plt.xlabel(\"Time (s)\")\n",
    "    \n",
    "    if finish_plotting:\n",
    "        plt.show()"
   ]
  },
  {
   "cell_type": "code",
   "execution_count": null,
   "metadata": {},
   "outputs": [],
   "source": [
    "errors = []\n",
    "max_errors = []\n",
    "med_errors = []\n",
    "labels = []"
   ]
  },
  {
   "cell_type": "code",
   "execution_count": null,
   "metadata": {},
   "outputs": [],
   "source": [
    "def update_error(lhs, lhs_label, rhs, rhs_label, newline_in_label=False):\n",
    "    error = ((lhs) - (rhs))[idx_start:idx_end]\n",
    "    \n",
    "    label = r\"$\\left(\" + lhs_label.replace(\"$\", \"\") + r\"\\right) \"\n",
    "    if newline_in_label:\n",
    "        label += \"$\\n$\"\n",
    "    label += \"- \\left(\" + rhs_label.replace(\"$\", \"\") + r\"\\right)$\"\n",
    "    label_idx = None\n",
    "    for i, l in enumerate(labels):\n",
    "        if l == label:\n",
    "            label_idx = i\n",
    "            break\n",
    "    max_error = np.nanmax(np.abs(error))\n",
    "    med_error = np.median(np.abs(error[np.logical_not(np.isnan(error))]))\n",
    "    if label_idx is None:\n",
    "        errors.append(error)\n",
    "        labels.append(label)\n",
    "        max_errors.append(max_error)\n",
    "        med_errors.append(med_error)\n",
    "    else:\n",
    "        errors[label_idx] = error\n",
    "        max_errors[label_idx] = max_error\n",
    "        med_errors[label_idx] = med_error"
   ]
  },
  {
   "cell_type": "markdown",
   "metadata": {},
   "source": [
    "## Plots (environmental constraints)\n",
    "There are things where I expect them to be satisfied no matter what, no matter the succes my controller."
   ]
  },
  {
   "cell_type": "markdown",
   "metadata": {},
   "source": [
    "### $m_La_{LT} = F_{FL} + F_{GT} +F_{OT}$\n",
    "*If this plot is correct:*\n",
    "The free body diagram is correct in thet $\\hat T$ direction on the link."
   ]
  },
  {
   "cell_type": "code",
   "execution_count": null,
   "metadata": {},
   "outputs": [],
   "source": [
    "lhs_label = r'$m_La_{LT}$'\n",
    "rhs_label = r'$F_{FL} + F_{GT} +F_{OT}$'\n",
    "\n",
    "lhs = m_L*a_LT\n",
    "\n",
    "rhs = F_FL+F_GT+F_OT\n",
    "\n",
    "plot_eq(lhs, lhs_label, rhs, rhs_label)\n",
    "update_error(lhs, lhs_label, rhs, rhs_label)"
   ]
  },
  {
   "cell_type": "markdown",
   "metadata": {},
   "source": [
    "### $m_La_{LN} = F_{NL} + F_{GN} +F_{ON}$\n",
    "*If this plot is correct:*\n",
    "The free body diagram is correct in thet $\\hat N$ direction on the link."
   ]
  },
  {
   "cell_type": "code",
   "execution_count": null,
   "metadata": {},
   "outputs": [],
   "source": [
    "lhs_label = r'$m_La_{LN}$'\n",
    "rhs_label = r'$F_{NL} + F_{GN} +F_{ON}$'\n",
    "\n",
    "lhs = m_L*a_LN\n",
    "\n",
    "rhs = F_NL + F_GN + F_ON\n",
    "\n",
    "plot_eq(lhs, lhs_label, rhs, rhs_label)\n",
    "update_error(lhs, lhs_label, rhs, rhs_label)"
   ]
  },
  {
   "cell_type": "markdown",
   "metadata": {},
   "source": [
    "### $m_Ma_{MT} = F_{FM} + F_{CT}$\n",
    "*If this plot is correct:*\n",
    "The free body diagram is correct in thet $\\hat T$ direction on the manipulator."
   ]
  },
  {
   "cell_type": "code",
   "execution_count": null,
   "metadata": {},
   "outputs": [],
   "source": [
    "lhs_label = r'$m_Ma_{MT}$'\n",
    "rhs_label = r'$F_{FM} + F_{CT}$'\n",
    "\n",
    "lhs = m_M*a_MT\n",
    "\n",
    "rhs = F_FM + F_CT\n",
    "\n",
    "plot_eq(lhs, lhs_label, rhs, rhs_label)\n",
    "update_error(lhs, lhs_label, rhs, rhs_label)"
   ]
  },
  {
   "cell_type": "markdown",
   "metadata": {},
   "source": [
    "### $m_Ma_{MN} = F_{NM} + F_{CN}$\n",
    "*If this plot is correct:*\n",
    "The free body diagram is correct in thet $\\hat TN direction on the manipulator."
   ]
  },
  {
   "cell_type": "code",
   "execution_count": null,
   "metadata": {},
   "outputs": [],
   "source": [
    "lhs_label = r'$m_Ma_{MN}$'\n",
    "rhs_label = r'$ F_{NM} + F_{CN}$'\n",
    "\n",
    "lhs = m_M*a_MN\n",
    "\n",
    "rhs = F_NM+F_CN\n",
    "\n",
    "plot_eq(lhs, lhs_label, rhs, rhs_label)\n",
    "update_error(lhs, lhs_label, rhs, rhs_label)"
   ]
  },
  {
   "cell_type": "markdown",
   "metadata": {},
   "source": [
    "### $I_L\\ddot\\theta_L = -\\frac{w_L}{2}F_{ON} - (p_{CN}-p_{LN})F_{FL} + (p_{CT}-p_{LT})F_{NL}+\\tau_O$\n",
    "*If this plot is correct:* The moment balance on the link is correct."
   ]
  },
  {
   "cell_type": "code",
   "execution_count": null,
   "metadata": {},
   "outputs": [],
   "source": [
    "lhs_label = r'$I_L\\ddot\\theta$'\n",
    "rhs_label = r'$-\\frac{w_L}{2}F_{ON} - (p_{CN}-p_{LN})F_{FL} + (p_{CT}-p_{LT})F_{NL}+\\tau_O$'\n",
    "\n",
    "lhs = I_L*dd_theta_L\n",
    "\n",
    "rhs = (-w_L/2)*F_ON - (p_CN-p_LN)*F_FL + (p_CT-p_LT)*F_NL + tau_O\n",
    "\n",
    "plot_eq(lhs, lhs_label, rhs, rhs_label)\n",
    "update_error(lhs, lhs_label, rhs, rhs_label)"
   ]
  },
  {
   "cell_type": "markdown",
   "metadata": {},
   "source": [
    "### $I_M\\ddot\\theta_M = \\tau_M-F_{FM}(p_{CN}-p_{MN})$\n",
    "*If this plot is correct:* The moment balance on the manipulator is correct."
   ]
  },
  {
   "cell_type": "code",
   "execution_count": null,
   "metadata": {
    "scrolled": false
   },
   "outputs": [],
   "source": [
    "lhs = I_M*dd_theta_M\n",
    "lhs_label = r'$I_M\\ddot\\theta_M$'\n",
    "rhs = tau_M-F_FM*(p_CN-p_MN)\n",
    "rhs_label = r\"$\\tau_M-F_{FM}(p_{CN}-p_{MN})$\"\n",
    "plot_eq(lhs, lhs_label, rhs, rhs_label)\n",
    "update_error(lhs, lhs_label, rhs, rhs_label)"
   ]
  },
  {
   "cell_type": "markdown",
   "metadata": {},
   "source": [
    "### $F_{NL} = -F_{NM}$\n",
    "*If this plot is correct:* Newton's 3rd law is correction applied to the normal forces."
   ]
  },
  {
   "cell_type": "code",
   "execution_count": null,
   "metadata": {
    "scrolled": false
   },
   "outputs": [],
   "source": [
    "lhs_label = r'$F_{NL}$'\n",
    "rhs_label = r'$-F_{NM}$'\n",
    "\n",
    "lhs = F_NL\n",
    "\n",
    "rhs = -F_NM\n",
    "\n",
    "plot_eq(lhs, lhs_label, rhs, rhs_label)\n",
    "update_error(lhs, lhs_label, rhs, rhs_label)"
   ]
  },
  {
   "cell_type": "markdown",
   "metadata": {},
   "source": [
    "### $-\\ddot\\theta_L h_L/2 - \\ddot\\theta_L r + \\dot\\theta_L^2 w_L/2 - a_{LT} + a_{MT} = -\\ddot\\theta_L {d}_N + \\ddot{d}_T - \\dot\\theta_L^2 {d}_T - 2\\dot\\theta_L \\dot{d}_N$\n",
    "*If this plot is correct:* The derivatives for  $\\vec d$  are correct."
   ]
  },
  {
   "cell_type": "code",
   "execution_count": null,
   "metadata": {
    "scrolled": false
   },
   "outputs": [],
   "source": [
    "lhs = -dd_theta_L*(h_L/2+r) + d_theta_L**2*w_L/2 - a_LT + a_MT_diff\n",
    "lhs_label = r\"$-\\ddot\\theta_L h_L/2 - \\ddot\\theta_L r + \\dot\\theta_L^2 w_L/2 - a_{LT} + a_{MT}$\"\n",
    "\n",
    "rhs = -dd_theta_L*d_N + dd_d_T - d_theta_L**2*d_T - 2*d_theta_L*d_d_N\n",
    "rhs_label = r\"$-\\ddot\\theta_L {d}_N + \\ddot{d}_T - \\dot\\theta_L^2 {d}_T - 2\\dot\\theta_L \\dot{d}_N$\"\n",
    "\n",
    "plot_eq(lhs, lhs_label, rhs, rhs_label)\n",
    "update_error(lhs, lhs_label, rhs, rhs_label, newline_in_label=True)"
   ]
  },
  {
   "cell_type": "markdown",
   "metadata": {},
   "source": [
    "### $-\\ddot\\theta_L w_L/2 - \\dot\\theta_L^2 h_L/2 - \\dot\\theta_L^2 r - a_{LN} + a_{MN} = \\ddot\\theta_L {d}_T + \\ddot{d}_N - \\dot\\theta_L^2 {d}_N + 2 \\dot\\theta_L \\dot{d}_T$\n",
    "*If this plot is correct:* The derivatives for  $\\vec d$  are correct."
   ]
  },
  {
   "cell_type": "code",
   "execution_count": null,
   "metadata": {},
   "outputs": [],
   "source": [
    "lhs = -dd_theta_L*w_L/2 - d_theta_L**2*h_L/2 - d_theta_L**2*r - a_LN + a_MN\n",
    "lhs_label = r\"$-\\ddot\\theta_L w_L/2 - \\dot\\theta_L^2 h_L/2 - \\dot\\theta_L^2 r - a_{LN} + a_{MN}$ (differentiating geometry)\"\n",
    "\n",
    "rhs = dd_theta_L*d_T + dd_d_N - d_theta_L**2*d_N + 2*d_theta_L*d_d_T\n",
    "rhs_label = r\"$\\ddot\\theta_L {d}_T + \\ddot{d}_N - \\dot\\theta_L^2 {d}_N + 2 \\dot\\theta_L \\dot{d}_T$ (differentiating vector)\"\n",
    "\n",
    "plot_eq(lhs, lhs_label, rhs, rhs_label, newline_in_title=True)\n",
    "\n",
    "lhs_label = r\"$-\\ddot\\theta_L w_L/2 - \\dot\\theta_L^2 h_L/2 - \\dot\\theta_L^2 r - a_{LN} + a_{MN}$\"\n",
    "rhs_label = r\"$\\ddot\\theta_L {d}_T + \\ddot{d}_N - \\dot\\theta_L^2 {d}_N + 2 \\dot\\theta_L \\dot{d}_T$\"\n",
    "update_error(lhs, lhs_label, rhs, rhs_label, newline_in_label=True)\n",
    "plt.show()"
   ]
  },
  {
   "cell_type": "markdown",
   "metadata": {},
   "source": [
    "### $F_{FL}=\\mu_{SL}F_{NL}$\n",
    "*If this plot is correct:* The friction model used matches what Drake uses."
   ]
  },
  {
   "cell_type": "code",
   "execution_count": null,
   "metadata": {},
   "outputs": [],
   "source": [
    "lhs = F_FL\n",
    "lhs_label = r\"$F_{FL}$\"\n",
    "\n",
    "rhs = mu_SL*F_NL\n",
    "rhs_label = r\"$\\mu_{SL}F_{NL}$\"\n",
    "\n",
    "plot_eq(lhs, lhs_label, rhs, rhs_label)\n",
    "\n",
    "update_error(lhs, lhs_label, rhs, rhs_label)\n",
    "plt.show()"
   ]
  },
  {
   "cell_type": "markdown",
   "metadata": {},
   "source": [
    "### $F_{FM}=\\mu_{SM}F_{NL}$\n",
    "*If this plot is correct:* The friction model used matches what Drake uses."
   ]
  },
  {
   "cell_type": "code",
   "execution_count": null,
   "metadata": {},
   "outputs": [],
   "source": [
    "lhs = F_FM\n",
    "lhs_label = r\"$F_{FM}$\"\n",
    "\n",
    "rhs = mu_SM*F_NL\n",
    "rhs_label = r\"$\\mu_{SM}F_{NL}$\"\n",
    "\n",
    "plot_eq(lhs, lhs_label, rhs, rhs_label)\n",
    "\n",
    "update_error(lhs, lhs_label, rhs, rhs_label)\n",
    "plt.show()"
   ]
  },
  {
   "cell_type": "markdown",
   "metadata": {},
   "source": [
    "## Plot errors"
   ]
  },
  {
   "cell_type": "code",
   "execution_count": null,
   "metadata": {},
   "outputs": [],
   "source": [
    "plt.figure(figsize=(16,16))\n",
    "plt.barh(labels[::-1], max_errors[::-1], label=\"Maximum error\")\n",
    "plt.barh(labels[::-1], med_errors[::-1], label=\"Median error\")\n",
    "plt.axvline(1e-5, color='k', linestyle='--', label=\"1e-5\")\n",
    "plt.xscale(\"log\")\n",
    "plt.xlabel(\"Log(error)\")\n",
    "plt.ylabel(\"Equation\")\n",
    "plt.legend()\n",
    "plt.xlim(10**-16, 10**3)\n",
    "plt.show()"
   ]
  },
  {
   "cell_type": "markdown",
   "metadata": {},
   "source": [
    "## Plots (artificial constraints)\n",
    "These will only be satisfied if the controller is successful."
   ]
  },
  {
   "cell_type": "markdown",
   "metadata": {},
   "source": [
    "### $\\ddot{d}_N = \\ddot{d}_{Nd}$"
   ]
  },
  {
   "cell_type": "code",
   "execution_count": null,
   "metadata": {
    "scrolled": false
   },
   "outputs": [],
   "source": [
    "lhs_label = r'$\\ddot{d}_N$'\n",
    "rhs_label = r'$\\ddot{d}_{Nd}$'\n",
    "\n",
    "lhs = dd_d_N\n",
    "\n",
    "rhs = dd_d_Nd\n",
    "\n",
    "plot_eq(lhs, lhs_label, rhs, rhs_label)"
   ]
  },
  {
   "cell_type": "markdown",
   "metadata": {},
   "source": [
    "### $\\ddot{d}_T = \\ddot{d}_{Td}$"
   ]
  },
  {
   "cell_type": "code",
   "execution_count": null,
   "metadata": {},
   "outputs": [],
   "source": [
    "lhs_label = r'$\\ddot{d}_T$'\n",
    "rhs_label = r'$\\ddot{d}_{Td}$'\n",
    "\n",
    "# lhs = moving_average(dd_d_T, 100)\n",
    "lhs = -dd_theta_L*(h_L/2+r) + d_theta_L**2*w_L/2 - a_LT + a_MT_diff - (dd_theta_L*d_N - d_theta_L**2*d_T - 2*d_theta_L*d_d_N)\n",
    "\n",
    "rhs = dd_d_Td\n",
    "\n",
    "plot_eq(lhs, lhs_label, rhs, rhs_label)"
   ]
  },
  {
   "cell_type": "markdown",
   "metadata": {},
   "source": [
    "### $\\ddot\\theta_L=\\ddot\\theta_{Ld}$"
   ]
  },
  {
   "cell_type": "code",
   "execution_count": null,
   "metadata": {},
   "outputs": [],
   "source": [
    "lhs_label = r'$\\ddot\\theta_L$'\n",
    "rhs_label = r'$\\ddot\\theta_{Ld}$'\n",
    "\n",
    "lhs = dd_theta_L\n",
    "\n",
    "rhs = dd_theta_Ld\n",
    "\n",
    "plot_eq(lhs, lhs_label, rhs, rhs_label)"
   ]
  },
  {
   "cell_type": "markdown",
   "metadata": {},
   "source": [
    "### $\\ddot\\theta_M=\\ddot\\theta_{Md}$"
   ]
  },
  {
   "cell_type": "code",
   "execution_count": null,
   "metadata": {},
   "outputs": [],
   "source": [
    "lhs_label = r'$\\ddot\\theta_M$'\n",
    "rhs_label = r'$\\ddot\\theta_{Md}$'\n",
    "\n",
    "lhs = dd_theta_M\n",
    "\n",
    "rhs = dd_theta_Md\n",
    "\n",
    "plot_eq(lhs, lhs_label, rhs, rhs_label)"
   ]
  },
  {
   "cell_type": "markdown",
   "metadata": {},
   "source": [
    "# Control targets\n",
    "These are checking that where feedback control is used, we actually hit the target.\n",
    "## $d_T$"
   ]
  },
  {
   "cell_type": "code",
   "execution_count": null,
   "metadata": {},
   "outputs": [],
   "source": [
    "plt.figure(figsize=(16,16))\n",
    "plt.subplot(311)\n",
    "plt.plot(l_times[idx_start:idx_end], d_T[idx_start:idx_end], color='r', linestyle='-', linewidth=5)\n",
    "plt.axhline(finger_ctrlr.d_Td, color='k', linestyle='--', linewidth=5)\n",
    "plt.autoscale(enable=True, axis='x', tight=True)\n",
    "\n",
    "plt.subplot(312)\n",
    "plt.plot(l_times[idx_start:idx_end], finger_ctrlr.d_Td-d_T[idx_start:idx_end],\n",
    "         color='g', linestyle='-', linewidth=5)\n",
    "plt.autoscale(enable=True, axis='x', tight=True)\n",
    "\n",
    "plt.subplot(313)\n",
    "plt.plot(l_times[idx_start:idx_end], dd_d_Td[idx_start:idx_end]*0.05, linestyle='-', linewidth=5)\n",
    "plt.autoscale(enable=True, axis='x', tight=True)\n",
    "plt.show()"
   ]
  },
  {
   "cell_type": "code",
   "execution_count": null,
   "metadata": {},
   "outputs": [],
   "source": [
    "lw=5\n",
    "plt.figure(figsize=(16, 8))\n",
    "plt.axhline(finger_ctrlr.d_Td, linestyle='--', color='gray', linewidth=lw, label=\"Desired $d_T$\")\n",
    "plt.plot(l_times, d_T, label='$d_T$', linewidth=lw)\n",
    "plt.axhline(-(0), label='Bounds on $d_T$ (0 and link width)', linestyle='--', color='k', linewidth=lw)\n",
    "plt.axhline(-(paper.link_width), linestyle='--', color='k', linewidth=lw)\n",
    "plt.legend()\n",
    "plt.xlabel(\"Time (seconds)\")\n",
    "plt.ylabel(\"Distance (m)\")\n",
    "plt.autoscale(enable=True, axis='x', tight=True)\n",
    "plt.xlim(t_start, t_end)\n",
    "plt.show()"
   ]
  },
  {
   "cell_type": "markdown",
   "metadata": {},
   "source": [
    "## $\\dot\\theta_L$"
   ]
  },
  {
   "cell_type": "code",
   "execution_count": null,
   "metadata": {},
   "outputs": [],
   "source": [
    "plt.figure(figsize=(16,16))\n",
    "plt.subplot(311)\n",
    "plt.plot(l_times[idx_start:idx_end], d_theta_L[idx_start:idx_end], color='r', linestyle='-', linewidth=5)\n",
    "plt.axhline(finger_ctrlr.d_theta_Ld, color='k', linestyle='--', linewidth=5)\n",
    "plt.autoscale(enable=True, axis='x', tight=True)\n",
    "\n",
    "plt.subplot(312)\n",
    "plt.plot(l_times[idx_start:idx_end], finger_ctrlr.d_theta_Ld-d_theta_L[idx_start:idx_end],\n",
    "         color='g', linestyle='-', linewidth=5)\n",
    "plt.autoscale(enable=True, axis='x', tight=True)\n",
    "\n",
    "plt.subplot(313)\n",
    "plt.plot(l_times[idx_start:idx_end], dd_theta_Ld[idx_start:idx_end]*0.05, linestyle='-', linewidth=5)\n",
    "plt.autoscale(enable=True, axis='x', tight=True)\n",
    "plt.show()"
   ]
  },
  {
   "cell_type": "markdown",
   "metadata": {},
   "source": [
    "# Control estimates"
   ]
  },
  {
   "cell_type": "code",
   "execution_count": null,
   "metadata": {},
   "outputs": [],
   "source": [
    "F_OT_debug = scipy.interpolate.interp1d(d_times, debug['F_OTs'], axis=0)(l_times)\n",
    "F_ON_debug = scipy.interpolate.interp1d(d_times, debug['F_ONs'], axis=0)(l_times)\n",
    "tau_O_debug = scipy.interpolate.interp1d(d_times, debug['tau_Os'], axis=0)(l_times)"
   ]
  },
  {
   "cell_type": "code",
   "execution_count": null,
   "metadata": {},
   "outputs": [],
   "source": [
    "plot_eq(F_OT_debug, \"debug\", F_OT, \"actual\")"
   ]
  },
  {
   "cell_type": "code",
   "execution_count": null,
   "metadata": {},
   "outputs": [],
   "source": [
    "plot_eq(F_ON_debug, \"debug\", F_ON, \"actual\")"
   ]
  },
  {
   "cell_type": "code",
   "execution_count": null,
   "metadata": {},
   "outputs": [],
   "source": [
    "plot_eq(tau_O_debug, \"debug\", tau_O, \"actual\")"
   ]
  },
  {
   "cell_type": "markdown",
   "metadata": {},
   "source": [
    "# Other useful plots"
   ]
  },
  {
   "cell_type": "markdown",
   "metadata": {},
   "source": [
    "## Friction plots"
   ]
  },
  {
   "cell_type": "code",
   "execution_count": null,
   "metadata": {},
   "outputs": [],
   "source": [
    "lw=5\n",
    "plt.figure(figsize=(16,8))\n",
    "plt.plot(l_times[idx_start:idx_end],\n",
    "         abs(F_FL[idx_start:idx_end]), label=r\"$\\left|F_{FL}\\right|$\", linewidth=lw, color='lightskyblue', zorder=0)\n",
    "plt.plot(l_times[idx_start:idx_end],\n",
    "         abs(F_FM[idx_start:idx_end]), label=r\"$\\left|F_{FM}\\right|$\", linewidth=lw, color='b', linestyle='--', zorder=1)\n",
    "plt.plot(l_times[idx_start:idx_end],\n",
    "         abs(F_NL[idx_start:idx_end])*constants.FRICTION, label=r\"$\\mu\\left|F_{NL}\\right|$\", linewidth=lw, color='k', linestyle=':')\n",
    "\n",
    "plt.autoscale(enable=True, axis='x', tight=True)\n",
    "plt.legend()\n",
    "plt.xlabel(\"Time\")\n",
    "plt.show()"
   ]
  },
  {
   "cell_type": "code",
   "execution_count": null,
   "metadata": {},
   "outputs": [],
   "source": [
    "lw=5\n",
    "plt.figure(figsize=(16, 8))\n",
    "plt.plot(l_times[idx_start:idx_end], slip_speed[idx_start:idx_end], label=\"slip speed\", linewidth=5)\n",
    "plt.axhline(v_stiction, linestyle=\"--\", color=\"k\", label=\"$v_{stiction}$\", linewidth=5)\n",
    "plt.xlabel(\"Time (seconds)\")\n",
    "plt.ylabel(\"Speed (m/s)\")\n",
    "# plt.ylim(0, 2*v_stiction)\n",
    "plt.autoscale(enable=True, axis='x', tight=True)\n",
    "plt.legend()\n",
    "plt.show()"
   ]
  },
  {
   "cell_type": "markdown",
   "metadata": {},
   "source": [
    "## Joint torques"
   ]
  },
  {
   "cell_type": "code",
   "execution_count": null,
   "metadata": {},
   "outputs": [],
   "source": [
    "plt.figure(figsize=(16,8))\n",
    "plt.plot(l_times[idx_start:idx_end], \n",
    "         joint_torque_in_compliance_frame[0,idx_start:idx_end], linewidth=5, color='r', label=r\"\\tau_x\")\n",
    "plt.plot(l_times[idx_start:idx_end], \n",
    "         joint_torque_in_compliance_frame[1,idx_start:idx_end], linewidth=5, color='g', label=r\"\\tau_y\")\n",
    "plt.plot(l_times[idx_start:idx_end], \n",
    "         joint_torque_in_compliance_frame[2,idx_start:idx_end], linewidth=5, color='b', label=r\"\\tau_z\")\n",
    "plt.autoscale(enable=True, axis='x', tight=True)"
   ]
  },
  {
   "cell_type": "code",
   "execution_count": null,
   "metadata": {},
   "outputs": [],
   "source": []
  }
 ],
 "metadata": {
  "kernelspec": {
   "display_name": "Python 3",
   "language": "python",
   "name": "python3"
  },
  "language_info": {
   "codemirror_mode": {
    "name": "ipython",
    "version": 3
   },
   "file_extension": ".py",
   "mimetype": "text/x-python",
   "name": "python",
   "nbconvert_exporter": "python",
   "pygments_lexer": "ipython3",
   "version": "3.6.9"
  },
  "toc": {
   "base_numbering": 1,
   "nav_menu": {},
   "number_sections": true,
   "sideBar": false,
   "skip_h1_title": false,
   "title_cell": "Table of Contents",
   "title_sidebar": "Contents",
   "toc_cell": false,
   "toc_position": {
    "height": "665px",
    "left": "1140px",
    "top": "327px",
    "width": "324px"
   },
   "toc_section_display": true,
   "toc_window_display": true
  }
 },
 "nbformat": 4,
 "nbformat_minor": 4
}
