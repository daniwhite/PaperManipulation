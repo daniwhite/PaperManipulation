{
 "cells": [
  {
   "cell_type": "markdown",
   "metadata": {},
   "source": [
    "# Imports"
   ]
  },
  {
   "cell_type": "code",
   "execution_count": null,
   "metadata": {},
   "outputs": [],
   "source": [
    "# Suprress warnings\n",
    "import warnings\n",
    "with warnings.catch_warnings():\n",
    "    warnings.simplefilter(\"ignore\")\n",
    "\n",
    "    # Standard imports\n",
    "    import matplotlib\n",
    "    import matplotlib.pyplot as plt\n",
    "    import matplotlib.patches as patches\n",
    "    import matplotlib.cm as cm\n",
    "    import numpy as np\n",
    "\n",
    "    # Drake imports\n",
    "    from meshcat.servers.zmqserver import start_zmq_server_as_subprocess\n",
    "    import pydrake\n",
    "    from pydrake.all import LogOutput, DirectCollocation, DirectTranscription, MathematicalProgram, InputPortSelection\n",
    "\n",
    "# Imports of other project files\n",
    "from log_wrapper import LogWrapper\n",
    "import constants\n",
    "import finger\n",
    "import pedestal\n",
    "from paper import Paper\n",
    "\n",
    "from pydrake.all import (MultibodyPlant, Parser, DiagramBuilder, Simulator, RigidTransform,\n",
    "                         PlanarSceneGraphVisualizer, SceneGraph, TrajectorySource,\n",
    "                         SnoptSolver, MultibodyPositionToGeometryPose, PiecewisePolynomial,\n",
    "                         MathematicalProgram, JacobianWrtVariable, eq, RollPitchYaw, AutoDiffXd, BodyIndex)\n",
    "\n",
    "# Other imports\n",
    "import importlib\n",
    "\n",
    "import scipy.interpolate"
   ]
  },
  {
   "cell_type": "code",
   "execution_count": null,
   "metadata": {},
   "outputs": [],
   "source": [
    "# Matplotlib configuring\n",
    "plt.style.use(['science', 'no-latex'])\n",
    "font = {'size'   : 14}\n",
    "matplotlib.rc('font', **font)"
   ]
  },
  {
   "cell_type": "code",
   "execution_count": null,
   "metadata": {},
   "outputs": [],
   "source": [
    "# Meshcat init\n",
    "proc, zmq_url, web_url = start_zmq_server_as_subprocess()"
   ]
  },
  {
   "cell_type": "markdown",
   "metadata": {},
   "source": [
    "# Simulation setup\n",
    "## Pre-finalize steps"
   ]
  },
  {
   "cell_type": "code",
   "execution_count": null,
   "metadata": {},
   "outputs": [],
   "source": [
    "builder = pydrake.systems.framework.DiagramBuilder()\n",
    "\n",
    "# Add all elements\n",
    "plant, scene_graph = pydrake.multibody.plant.AddMultibodyPlantSceneGraph(builder, time_step=constants.DT)\n",
    "v_stiction=1e-3\n",
    "plant.set_stiction_tolerance(v_stiction)\n",
    "plant.set_penetration_allowance(0.001)\n",
    "pedestal_instance = pedestal.AddPedestal(plant)\n",
    "\n",
    "# These joint angles start the paper approximately the right spot, no matter how many links are used\n",
    "num_links = 2\n",
    "# def_joint_angles = list(np.zeros(num_links))\n",
    "# def_joint_angles[0] = np.pi/100\n",
    "# def_joint_angles[1] = np.pi/100\n",
    "# def_joint_angles[int(num_links*0.65)-2] = -np.pi/10\n",
    "# def_joint_angles[int(num_links*0.65)-1] = -np.pi/10\n",
    "# def_joint_angles[int(num_links*0.65)] = -np.pi/10\n",
    "# def_joint_angles[int(num_links*0.65)+1] = -np.pi/10\n",
    "# # def_joint_angles[int(num_links*0.65)+2] = -np.pi/10\n",
    "def_joint_angles = 0#np.pi/3\n",
    "\n",
    "paper = Paper(plant, scene_graph, num_links, \"NATURAL\", default_joint_angle=def_joint_angles,\n",
    "              stiffness=0,#2.5e-2,\n",
    "              damping=0,)#7.12547340446979e-06)\n",
    "paper.weld_paper_edge(pedestal.PEDESTAL_WIDTH, pedestal.PEDESTAL_HEIGHT)\n",
    "\n",
    "finger_instance, finger_body, finger_shape = finger.AddFinger(plant, constants.INIT_Y, constants.INIT_Z)\n",
    "\n",
    "# Set up logger (needs to happen after all bodies are added)\n",
    "log_wrapper = LogWrapper(plant.num_bodies(), int(finger_body.index()), paper)\n",
    "builder.AddSystem(log_wrapper)"
   ]
  },
  {
   "cell_type": "markdown",
   "metadata": {},
   "source": [
    "Calculate link inertia to use in damping calculations:"
   ]
  },
  {
   "cell_type": "code",
   "execution_count": null,
   "metadata": {},
   "outputs": [],
   "source": [
    "paper.plant.get_body(BodyIndex(paper.get_free_edge_idx())).default_rotational_inertia().CalcPrincipalMomentsOfInertia()[0]"
   ]
  },
  {
   "cell_type": "markdown",
   "metadata": {},
   "source": [
    "## Controller selection"
   ]
  },
  {
   "cell_type": "code",
   "execution_count": null,
   "metadata": {},
   "outputs": [],
   "source": [
    "## CHOOSE CONTROL SYSTEM HERE BY UNCOMMENTING\n",
    "# # PD control: hits too low\n",
    "# finger_ctrlr = finger.PDFinger(\n",
    "#     plant,\n",
    "#     int(finger_instance),\n",
    "#     [\n",
    "#         [constants.INIT_Y, constants.INIT_Z],\n",
    "#         [constants.INIT_Y*1.1, constants.INIT_Z],\n",
    "#         [constants.INIT_Y*1.1, pedestal.PEDESTAL_HEIGHT+constants.FINGER_RADIUS/2+0.05],\n",
    "#         [0, pedestal.PEDESTAL_HEIGHT+constants.FINGER_RADIUS/2+0.05],\n",
    "#         [0, pedestal.PEDESTAL_HEIGHT+constants.FINGER_RADIUS/2],\n",
    "#     ],\n",
    "#     tspan_per_segment=1,\n",
    "#     ky=10,\n",
    "#     kz=10\n",
    "# )\n",
    "\n",
    "# PD control: hits too high\n",
    "# finger_ctrlr = finger.PDFinger(\n",
    "#     plant,\n",
    "#     int(finger_instance),\n",
    "#     [\n",
    "#         [constants.INIT_Y, constants.INIT_Z],\n",
    "#         [constants.INIT_Y*1.1, constants.INIT_Z],\n",
    "#         [constants.INIT_Y*1.1, pedestal.PEDESTAL_HEIGHT+constants.FINGER_RADIUS/2+0.08],\n",
    "#         [0, pedestal.PEDESTAL_HEIGHT+constants.FINGER_RADIUS/2+0.08],\n",
    "#         [0, pedestal.PEDESTAL_HEIGHT+constants.FINGER_RADIUS/2],\n",
    "#     ],\n",
    "#     tspan_per_segment=1,\n",
    "#     ky=10,\n",
    "#     kz=10\n",
    "# )\n",
    "\n",
    "\n",
    "# Edge feedback\n",
    "finger_ctrlr = finger.EdgeController(\n",
    "    plant,\n",
    "    paper,\n",
    "    int(finger_instance),\n",
    "    F_Nd=2,\n",
    "    debug=True,\n",
    ")\n",
    "\n",
    "# # Optimization controller\n",
    "# finger_ctrlr = finger.OptimizationController(\n",
    "#     plant,\n",
    "#     paper,\n",
    "#     int(finger_instance),\n",
    "#     paper.get_free_edge_instance()\n",
    "# )\n",
    "\n",
    "# Blank controller\n",
    "# finger_ctrlr = finger.BlankController(\n",
    "#     plant,\n",
    "#     int(finger_instance)\n",
    "# )"
   ]
  },
  {
   "cell_type": "markdown",
   "metadata": {},
   "source": [
    "## Post-finalize steps"
   ]
  },
  {
   "cell_type": "code",
   "execution_count": null,
   "metadata": {},
   "outputs": [],
   "source": [
    "plant.Finalize()\n",
    "\n",
    "## Post finalize steps\n",
    "# Conect finger controller\n",
    "builder.AddSystem(finger_ctrlr)\n",
    "builder.Connect(finger_ctrlr.get_output_port(), plant.get_actuation_input_port(finger_instance))\n",
    "builder.Connect(plant.get_body_poses_output_port(), finger_ctrlr.get_input_port(0))\n",
    "builder.Connect(plant.get_body_spatial_velocities_output_port(), finger_ctrlr.get_input_port(1))\n",
    "\n",
    "# Add logger\n",
    "builder.Connect(plant.get_body_poses_output_port(), log_wrapper.get_input_port(0))\n",
    "builder.Connect(plant.get_body_spatial_velocities_output_port(), log_wrapper.get_input_port(1))\n",
    "builder.Connect(plant.get_body_spatial_accelerations_output_port(), log_wrapper.get_input_port(2)) \n",
    "builder.Connect(plant.get_contact_results_output_port(), log_wrapper.get_input_port(3))\n",
    "builder.Connect(plant.get_reaction_forces_output_port(), log_wrapper.get_input_port(4))\n",
    "\n",
    "# Visualization and logging\n",
    "logger = LogOutput(log_wrapper.get_output_port(), builder)\n",
    "vis = pydrake.systems.meshcat_visualizer.ConnectMeshcatVisualizer(builder, scene_graph)\n",
    "vis.set_planar_viewpoint(camera_position=[1, 0, 0], xmin=-0.3, xmax=0.3, ymin=-0.3, ymax=0.3)\n",
    "\n",
    "# Build diagram and do actions requiring \n",
    "diagram = builder.Build()\n",
    "diagram_context = diagram.CreateDefaultContext()"
   ]
  },
  {
   "cell_type": "code",
   "execution_count": null,
   "metadata": {},
   "outputs": [],
   "source": [
    "if type(finger_ctrlr) is finger.OptimizationController:\n",
    "    finger_ctrlr.optimize(plant.GetPositions(diagram_context))"
   ]
  },
  {
   "cell_type": "markdown",
   "metadata": {},
   "source": [
    "# Run simulation"
   ]
  },
  {
   "cell_type": "code",
   "execution_count": null,
   "metadata": {},
   "outputs": [],
   "source": [
    "# Finalize simulation and visualization\n",
    "simulator = pydrake.systems.analysis.Simulator(diagram, diagram_context)\n",
    "simulator.Initialize()\n",
    "vis.start_recording()\n",
    "try:\n",
    "    simulator.AdvanceTo(constants.TSPAN)\n",
    "except RuntimeError as e:\n",
    "    print(e)\n",
    "\n",
    "# This way, we can use the actual time the simulation ran for\n",
    "effective_tspan = max(logger.sample_times())\n",
    "\n",
    "vis.stop_recording()\n",
    "vis.publish_recording()"
   ]
  },
  {
   "cell_type": "markdown",
   "metadata": {},
   "source": [
    "# Plots used in orginal paper"
   ]
  },
  {
   "cell_type": "code",
   "execution_count": null,
   "metadata": {},
   "outputs": [],
   "source": [
    "# This script is getting huge. We need to turn off parts that we're not using.\n",
    "generate_orig_plots = False"
   ]
  },
  {
   "cell_type": "code",
   "execution_count": null,
   "metadata": {},
   "outputs": [],
   "source": [
    "if generate_orig_plots:\n",
    "    # Plot manipulator position vs. trajectory\n",
    "    # PROGRAMMING: Use body index for finger instead of model instance\n",
    "    if type(finger_ctrlr) is finger.PDFinger:\n",
    "        plt.figure(figsize=(2*3,2*2))\n",
    "        plt.plot(logger.data()[log_wrapper.entries_per_body*int(finger_instance)+1],\n",
    "                 logger.data()[log_wrapper.entries_per_body*int(finger_instance)+2],\n",
    "                 label='Manipulator position')\n",
    "        plt.plot(finger_ctrlr.ys, finger_ctrlr.zs, label='Trajectory')\n",
    "        plt.xlabel(\"$y$ position\")\n",
    "        plt.ylabel(\"$z$ position\")\n",
    "        plt.legend()\n",
    "        plt.show()"
   ]
  },
  {
   "cell_type": "code",
   "execution_count": null,
   "metadata": {},
   "outputs": [],
   "source": [
    "if generate_orig_plots:\n",
    "    # Generate plots for paper\n",
    "    nb = plant.num_bodies()\n",
    "    y_traces = []\n",
    "    z_traces = []\n",
    "    theta_traces = []\n",
    "    for b in paper.link_idxs:\n",
    "        y_traces.append(logger.data()[log_wrapper.entries_per_body*b+1])\n",
    "        z_traces.append(logger.data()[log_wrapper.entries_per_body*b+2])\n",
    "        theta_traces.append(logger.data()[log_wrapper.entries_per_body*b+3])\n",
    "    y_traces = np.array(y_traces)\n",
    "    z_traces = np.array(z_traces)\n",
    "    theta_traces = np.array(theta_traces)\n",
    "\n",
    "    times_ = np.arange(0,effective_tspan, effective_tspan/10)\n",
    "    cmap = cm.get_cmap(\"viridis_r\")\n",
    "    plt.figure(figsize=(2*3,2*2))\n",
    "    if type(finger_ctrlr) is finger.PDFinger:\n",
    "        plt.plot(finger_ctrlr.ys, finger_ctrlr.zs, '--k', zorder=-1)\n",
    "    for t in times_:\n",
    "        c = cmap(t/effective_tspan)\n",
    "        idx = np.argmax(logger.sample_times() >= t)\n",
    "\n",
    "        # Plot paper\n",
    "        # PROGRAMMING: Account for paper thickness in plots\n",
    "        for y, z, theta in zip(y_traces[:,idx], z_traces[:,idx], theta_traces[:,idx]):\n",
    "            y0 = y - np.cos(theta)*paper.link_width/2\n",
    "            z0 = z - np.sin(theta)*paper.link_width/2\n",
    "            y1 = y + np.cos(theta)*paper.link_width/2\n",
    "            z1 = z + np.sin(theta)*paper.link_width/2\n",
    "            plt.plot([y0, y1], [z0, z1], color=c)\n",
    "\n",
    "\n",
    "        # Plot manipulator\n",
    "        plt.scatter(logger.data()[log_wrapper.entries_per_body*int(finger_instance)+1,idx], \n",
    "                    logger.data()[log_wrapper.entries_per_body*int(finger_instance)+2,idx],\n",
    "                    color=c, s=300, zorder=1)\n",
    "\n",
    "    xlim = plt.xlim()\n",
    "    ylim = plt.ylim()\n",
    "    plt.scatter([xlim[0]-50, xlim[0]-50], [ylim[0]-50, ylim[0]-50], c=[0, effective_tspan], cmap=cmap)\n",
    "    plt.xlim(xlim)\n",
    "    plt.ylim(ylim)\n",
    "    cb = plt.colorbar()\n",
    "    cb.set_label(\"Time\")\n",
    "    plt.xlabel(\"$y$ position\")\n",
    "    plt.ylabel(\"$z$ position\")\n",
    "    plt.show()"
   ]
  },
  {
   "cell_type": "markdown",
   "metadata": {},
   "source": [
    "# Drag plots"
   ]
  },
  {
   "cell_type": "markdown",
   "metadata": {},
   "source": [
    "This is a sanity check to see how much force we're neglecting by ignoring drag. The colored lines are the drag forces at each link, and the dashed black line is the force due to gravity for scale.\n",
    "\n",
    "Note that the formula for drag force is $\\rho v^2 C_d A_{paper}$.\n",
    "\n",
    "$C_d$ comes from [this site](https://www.engineersedge.com/fluid_flow/rectangular_flat_plate_drag_14036.htm), which says it depends on $L/d$. For 20 links, $L/d\\approx15$. Rounding this down to 10, we get $C_d=1.22$."
   ]
  },
  {
   "cell_type": "code",
   "execution_count": null,
   "metadata": {},
   "outputs": [],
   "source": [
    "generate_drag_plots = False"
   ]
  },
  {
   "cell_type": "code",
   "execution_count": null,
   "metadata": {},
   "outputs": [],
   "source": [
    "if generate_drag_plots:\n",
    "    # Plot drag forces\n",
    "    plt.figure(figsize=(16, 12))\n",
    "    nb = plant.num_bodies\n",
    "    vel_traces = []\n",
    "    for b in paper.link_idxs:\n",
    "        rho = 1.225\n",
    "        C_d = paper.link_width*paper.depth\n",
    "        vel_sqred = logger.data()[log_wrapper.entries_per_body*b+7]**2+logger.data()[log_wrapper.entries_per_body*b+8]**2\n",
    "        f = 0.5*rho*C_d*vel_sqred\n",
    "        plt.plot(f)\n",
    "\n",
    "    plt.axhline(paper.link_mass*9.81, color='black', linestyle='--')\n",
    "    plt.show()"
   ]
  },
  {
   "cell_type": "markdown",
   "metadata": {},
   "source": [
    "# Verifying equations hold\n",
    "We have the following free body diagrams:\n",
    "<img src=\"forces.png\" width=400px>\n",
    "<img src=\"link-moments.png\" width=400px>\n",
    "\n",
    "Which give us the following equations:\n",
    "$$\n",
    "\\begin{aligned}\n",
    "     m_La_{LT} &= F_{FL} + F_{GT} +F_{OT} \\\\\n",
    "    m_La_{LN} &= F_{NL} + F_{GN} +F_{ON} \\\\\n",
    "    m_Ma_{MT} &= F_{FM} + F_{CT} \\\\\n",
    "    m_Ma_{MN} &= F_{NM} + F_{CN} \\\\\n",
    "    a_{LT} &= a_{MT} \\\\\n",
    "    a_{LN} &= a_{MN} \\\\\n",
    "    a_{LT} &= -\\frac{w_L}{2}\\dot\\theta^2 \\\\\n",
    "    a_{LN} &= \\frac{w_L}{2}\\ddot\\theta \\\\\n",
    "    I_L\\ddot\\theta &= \\frac{w_L}{2}F_{ON}- \\frac{h_L}{2}F_{FL} - r_TF_{NL} \\\\\n",
    "    F_{NL} &= -F_{NM} \\\\\n",
    "    F_{FL} &= -F_{FM} \\\\\n",
    "    a_{NL} &= a_{Nd}  \\\\\n",
    "    F_{FL} &= 0\n",
    "\\end{aligned}\n",
    "$$\n",
    "For each of these equations, I want to plot the value on the left side and the value on the right side to see if they match."
   ]
  },
  {
   "cell_type": "markdown",
   "metadata": {},
   "source": [
    "## Loading signals\n",
    "Preparing all the signals we'll need."
   ]
  },
  {
   "cell_type": "code",
   "execution_count": null,
   "metadata": {},
   "outputs": [],
   "source": [
    "debug = finger_ctrlr.debug"
   ]
  },
  {
   "cell_type": "code",
   "execution_count": null,
   "metadata": {},
   "outputs": [],
   "source": [
    "l_times = logger.sample_times()\n",
    "d_times = np.array(debug['times'])"
   ]
  },
  {
   "cell_type": "markdown",
   "metadata": {},
   "source": [
    "### Inputs\n",
    "These should all come from simulation/geometry, since they are inputs to the controller and are \"fixed\" from the controller's perspective.\n",
    "#### Geometric quantities ($m_L, m_M, w_L, I_L, h_L, \\mu$)"
   ]
  },
  {
   "cell_type": "code",
   "execution_count": null,
   "metadata": {},
   "outputs": [],
   "source": [
    "m_L = paper.link_mass\n",
    "m_M = constants.FINGER_MASS\n",
    "w_L = paper.link_width\n",
    "I_L = paper.plant.get_body(\n",
    "    BodyIndex(paper.get_free_edge_idx())).default_rotational_inertia().CalcPrincipalMomentsOfInertia()[0]\n",
    "h_L = paper.height\n",
    "mu = constants.FRICTION"
   ]
  },
  {
   "cell_type": "markdown",
   "metadata": {},
   "source": [
    "#### Vectors which aren't determined by the force balance ($F_{GT}, F_{GN} \\hat T, \\hat N$)\n",
    "- [ ] PROGRAMMING: also get $\\hat T$ from simulation somehow"
   ]
  },
  {
   "cell_type": "code",
   "execution_count": null,
   "metadata": {},
   "outputs": [],
   "source": [
    "N_hats_raw = logger.data()[log_wrapper.contact_entry_start_idx+14:log_wrapper.contact_entry_start_idx+17,:]\n",
    "N_hats = np.expand_dims(N_hats_raw.T, 2)"
   ]
  },
  {
   "cell_type": "code",
   "execution_count": null,
   "metadata": {},
   "outputs": [],
   "source": [
    "T_hats_no_interp = np.array(debug['T_hats'])\n",
    "T_hats = scipy.interpolate.interp1d(d_times, T_hats_no_interp, axis=0)(l_times)\n",
    "T_hats.shape"
   ]
  },
  {
   "cell_type": "markdown",
   "metadata": {},
   "source": [
    "It's also useful here to calculate project matrices:"
   ]
  },
  {
   "cell_type": "code",
   "execution_count": null,
   "metadata": {},
   "outputs": [],
   "source": [
    "T_hat_proj_mat = np.matmul(T_hats, np.transpose(T_hats, [0, 2, 1]))"
   ]
  },
  {
   "cell_type": "code",
   "execution_count": null,
   "metadata": {},
   "outputs": [],
   "source": [
    "N_hat_proj_mat = np.matmul(N_hats, np.transpose(N_hats, [0, 2, 1]))"
   ]
  },
  {
   "cell_type": "markdown",
   "metadata": {},
   "source": [
    "- [ ] PROGRAMMING: Calc these directly instead\n",
    "- [ ] PROGRAMMING: Stop interpolating everything (avoid using `debug`)"
   ]
  },
  {
   "cell_type": "code",
   "execution_count": null,
   "metadata": {},
   "outputs": [],
   "source": [
    "F_GT_no_interp = np.array(debug['F_GTs'])\n",
    "F_GT = scipy.interpolate.interp1d(d_times, F_GT_no_interp, axis=0)(l_times)\n",
    "F_GN_no_interp = np.array(debug['F_GNs'])\n",
    "F_GN = scipy.interpolate.interp1d(d_times, F_GN_no_interp, axis=0)(l_times)"
   ]
  },
  {
   "cell_type": "markdown",
   "metadata": {},
   "source": [
    "#### Positions and velocities which are \"fixed'' until the next timestep ($\\dot\\theta^2, r_T$)"
   ]
  },
  {
   "cell_type": "code",
   "execution_count": null,
   "metadata": {},
   "outputs": [],
   "source": [
    "d_theta = logger.data()[log_wrapper.entries_per_body*paper.get_free_edge_idx() + 6 + 3]"
   ]
  },
  {
   "cell_type": "markdown",
   "metadata": {},
   "source": [
    "Note that $r_T$ here is calculated differently (but more accurately) than in the controller."
   ]
  },
  {
   "cell_type": "code",
   "execution_count": null,
   "metadata": {},
   "outputs": [],
   "source": [
    "p_contact = np.expand_dims(\n",
    "    logger.data()[log_wrapper.contact_entry_start_idx+11:log_wrapper.contact_entry_start_idx+14,:].T,\n",
    "    2)"
   ]
  },
  {
   "cell_type": "code",
   "execution_count": null,
   "metadata": {},
   "outputs": [],
   "source": [
    "p_link = np.expand_dims(\n",
    "    logger.data()[log_wrapper.entries_per_body*paper.get_free_edge_idx():\n",
    "                  log_wrapper.entries_per_body*paper.get_free_edge_idx()+3].T,\n",
    "    2)"
   ]
  },
  {
   "cell_type": "code",
   "execution_count": null,
   "metadata": {},
   "outputs": [],
   "source": [
    "p_link_contact = p_contact - p_link\n",
    "p_link_contact_T_vec = np.matmul(T_hat_proj_mat, p_link_contact)\n",
    "p_link_contact_T_mag = np.linalg.norm(p_link_contact_T_vec, axis=1)\n",
    "p_link_contact_T_sgn = np.sign(np.matmul(\n",
    "    np.transpose(T_hats, [0, 2, 1]),\n",
    "    p_link_contact_T_vec))\n",
    "r_T = p_link_contact_T_mag.flatten()*p_link_contact_T_sgn.flatten()"
   ]
  },
  {
   "cell_type": "markdown",
   "metadata": {},
   "source": [
    "#### Control inputs ($a_{Nd}$)\n",
    "- [ ] PROGRAMMING: Pass in `a_Nd` instead of `F_Nd`"
   ]
  },
  {
   "cell_type": "code",
   "execution_count": null,
   "metadata": {},
   "outputs": [],
   "source": [
    "a_Nd = finger_ctrlr.F_Nd/paper.link_mass"
   ]
  },
  {
   "cell_type": "markdown",
   "metadata": {},
   "source": [
    "### Outputs\n",
    "These should all come directly from simulation, except for control forces.\n",
    "#### Accelerations of both objects ($a_{LT}, a_{LN}, a_{MT}, a_{MN}, \\ddot\\theta$)"
   ]
  },
  {
   "cell_type": "code",
   "execution_count": null,
   "metadata": {},
   "outputs": [],
   "source": [
    "a_link_raw = logger.data()[log_wrapper.entries_per_body*paper.link_idxs[-1] + 12:\n",
    "                     log_wrapper.entries_per_body*paper.link_idxs[-1]+12+3,:]\n",
    "a_link = np.expand_dims(a_link_raw.T, 2)"
   ]
  },
  {
   "cell_type": "code",
   "execution_count": null,
   "metadata": {},
   "outputs": [],
   "source": [
    "a_LT_vec = np.matmul(T_hat_proj_mat, a_link)\n",
    "a_LT_mag = np.linalg.norm(a_LT_vec, axis=1)\n",
    "a_LT_sgn = np.sign(np.matmul(\n",
    "    np.transpose(T_hats, [0, 2, 1]),\n",
    "    a_LT_vec))\n",
    "a_LT = a_LT_mag.flatten()*a_LT_sgn.flatten()"
   ]
  },
  {
   "cell_type": "code",
   "execution_count": null,
   "metadata": {},
   "outputs": [],
   "source": [
    "a_LN_vec = np.matmul(N_hat_proj_mat, a_link)\n",
    "a_LN_mag = np.linalg.norm(a_LN_vec, axis=1)\n",
    "a_LN_sgn = np.sign(np.matmul(\n",
    "    np.transpose(N_hats, [0, 2, 1]),\n",
    "    a_LN_vec))\n",
    "a_LN = a_LN_mag.flatten()*a_LN_sgn.flatten()"
   ]
  },
  {
   "cell_type": "code",
   "execution_count": null,
   "metadata": {},
   "outputs": [],
   "source": [
    "a_man_raw = logger.data()[log_wrapper.entries_per_body*int(finger_body.index()) + 12:\n",
    "                     log_wrapper.entries_per_body*int(finger_body.index())+12+3,:]\n",
    "a_man = np.expand_dims(a_man_raw.T, 2)"
   ]
  },
  {
   "cell_type": "code",
   "execution_count": null,
   "metadata": {},
   "outputs": [],
   "source": [
    "l_times.shape"
   ]
  },
  {
   "cell_type": "code",
   "execution_count": null,
   "metadata": {},
   "outputs": [],
   "source": [
    "a_MT_vec = np.matmul(T_hat_proj_mat, a_man)\n",
    "a_MT_mag = np.linalg.norm(a_MT_vec, axis=1)\n",
    "a_MT_sgn = np.sign(np.matmul(\n",
    "    np.transpose(T_hats, [0, 2, 1]),\n",
    "    a_MT_vec))\n",
    "a_MT = a_MT_mag.flatten()*a_MT_sgn.flatten()"
   ]
  },
  {
   "cell_type": "code",
   "execution_count": null,
   "metadata": {},
   "outputs": [],
   "source": [
    "a_MN_vec = np.matmul(N_hat_proj_mat, a_man)\n",
    "a_MN_mag = np.linalg.norm(a_MN_vec, axis=1)\n",
    "a_MN_sgn = np.sign(np.matmul(\n",
    "    np.transpose(N_hats, [0, 2, 1]),\n",
    "    a_MN_vec))\n",
    "a_MN = a_MN_mag.flatten()*a_MN_sgn.flatten()"
   ]
  },
  {
   "cell_type": "code",
   "execution_count": null,
   "metadata": {},
   "outputs": [],
   "source": [
    "dd_theta = logger.data()[log_wrapper.entries_per_body*paper.get_free_edge_idx() + 12 + 3,:]"
   ]
  },
  {
   "cell_type": "markdown",
   "metadata": {},
   "source": [
    "#### Contact, object, and control forces on each object ($F_{NL}, F_{FL}, F_{ON}, F_{OT}, F_{NM}, F_{FM}, F_{CT}, F_{CN}$"
   ]
  },
  {
   "cell_type": "markdown",
   "metadata": {},
   "source": [
    "##### Contact"
   ]
  },
  {
   "cell_type": "code",
   "execution_count": null,
   "metadata": {},
   "outputs": [],
   "source": [
    "F_contact_M_raw = logger.data()[log_wrapper.contact_entry_start_idx+0:log_wrapper.contact_entry_start_idx+3,:]\n",
    "F_contact_M = np.expand_dims(F_contact_M_raw.T, 2)"
   ]
  },
  {
   "cell_type": "code",
   "execution_count": null,
   "metadata": {},
   "outputs": [],
   "source": [
    "F_NM_vec = np.matmul(N_hat_proj_mat, F_contact_M)\n",
    "F_FM_vec = F_contact_M - F_NM_vec"
   ]
  },
  {
   "cell_type": "code",
   "execution_count": null,
   "metadata": {},
   "outputs": [],
   "source": [
    "F_NM_mag = np.linalg.norm(F_NM_vec, axis=1)\n",
    "F_NM_sgn = np.sign(np.matmul(\n",
    "    np.transpose(N_hats, [0, 2, 1]),\n",
    "    F_NM_vec))\n",
    "F_NM = F_NM_mag.flatten()*F_NM_sgn.flatten()"
   ]
  },
  {
   "cell_type": "code",
   "execution_count": null,
   "metadata": {},
   "outputs": [],
   "source": [
    "F_FM_mag = np.linalg.norm(F_FM_vec, axis=1)\n",
    "F_FM_sgn = np.sign(np.matmul(\n",
    "    np.transpose(T_hats, [0, 2, 1]),\n",
    "    F_FM_vec))\n",
    "F_FM = F_FM_mag.flatten()*F_FM_sgn.flatten()"
   ]
  },
  {
   "cell_type": "code",
   "execution_count": null,
   "metadata": {},
   "outputs": [],
   "source": [
    "F_FL = -F_FM\n",
    "F_NL = -F_NM"
   ]
  },
  {
   "cell_type": "markdown",
   "metadata": {},
   "source": [
    "##### Object"
   ]
  },
  {
   "cell_type": "code",
   "execution_count": null,
   "metadata": {},
   "outputs": [],
   "source": [
    "joint_force_in_compliance_frame = logger.data()[\n",
    "    log_wrapper.joint_entry_start_idx:log_wrapper.joint_entry_start_idx+3,:]"
   ]
  },
  {
   "cell_type": "code",
   "execution_count": null,
   "metadata": {},
   "outputs": [],
   "source": [
    "F_OT = joint_force_in_compliance_frame[1,:]\n",
    "F_ON = joint_force_in_compliance_frame[2,:]"
   ]
  },
  {
   "cell_type": "markdown",
   "metadata": {},
   "source": [
    "##### Control"
   ]
  },
  {
   "cell_type": "code",
   "execution_count": null,
   "metadata": {},
   "outputs": [],
   "source": [
    "F_CT_no_interp = np.array(debug['F_CTs'])\n",
    "F_CT = scipy.interpolate.interp1d(d_times, F_CT_no_interp, axis=0)(l_times)\n",
    "F_CN_no_interp = np.array(debug['F_CNs'])\n",
    "F_CN = scipy.interpolate.interp1d(d_times, F_CN_no_interp, axis=0)(l_times)"
   ]
  },
  {
   "cell_type": "markdown",
   "metadata": {},
   "source": [
    "## Plotting settings"
   ]
  },
  {
   "cell_type": "code",
   "execution_count": null,
   "metadata": {},
   "outputs": [],
   "source": [
    "lw = 5"
   ]
  },
  {
   "cell_type": "code",
   "execution_count": null,
   "metadata": {},
   "outputs": [],
   "source": [
    "figsize = (16, 8)"
   ]
  },
  {
   "cell_type": "code",
   "execution_count": null,
   "metadata": {},
   "outputs": [],
   "source": [
    "plot_supporting_plots = False"
   ]
  },
  {
   "cell_type": "code",
   "execution_count": null,
   "metadata": {},
   "outputs": [],
   "source": [
    "t_start = 0.04\n",
    "t_end = 0.135\n",
    "idx_start = np.argmax(l_times > t_start)\n",
    "idx_end = np.argmax(l_times > t_end)"
   ]
  },
  {
   "cell_type": "code",
   "execution_count": null,
   "metadata": {},
   "outputs": [],
   "source": [
    "auto_size = True"
   ]
  },
  {
   "cell_type": "code",
   "execution_count": null,
   "metadata": {},
   "outputs": [],
   "source": [
    "def plot_eq(lhs, lhs_label, rhs, rhs_label, lhs_alpha=1, rhs_alpha=1, lw=5):\n",
    "    plt.figure(figsize=figsize)\n",
    "    if isinstance(lhs, float) or isinstance(lhs, int):\n",
    "        plt.axhline(rhs,\n",
    "                    label=lhs_label, linewidth=lw, color='lightskyblue', zorder=0, alpha=lhs_alpha)\n",
    "    else:\n",
    "        plt.plot(l_times[idx_start:idx_end],\n",
    "                 lhs[idx_start:idx_end],\n",
    "                 label=lhs_label, linewidth=lw, color='lightskyblue', zorder=0, alpha=lhs_alpha)\n",
    "    if isinstance(rhs, float) or isinstance(rhs, int):\n",
    "        plt.axhline(rhs,\n",
    "                    label=rhs_label, linewidth=lw, color='b', linestyle='--', zorder=1, alpha=rhs_alpha)\n",
    "    else:\n",
    "        plt.plot(l_times[idx_start:idx_end],\n",
    "                 rhs[idx_start:idx_end],\n",
    "                 label=rhs_label, linewidth=lw, color='b', linestyle='--', zorder=1, alpha=rhs_alpha)\n",
    "    plt.autoscale(enable=True, axis='x', tight=True)\n",
    "    plt.legend()\n",
    "    plt.xlabel(\"Time\")\n",
    "    plt.show()"
   ]
  },
  {
   "cell_type": "markdown",
   "metadata": {},
   "source": [
    "## Plots"
   ]
  },
  {
   "cell_type": "code",
   "execution_count": null,
   "metadata": {},
   "outputs": [],
   "source": [
    "N_hats.shape"
   ]
  },
  {
   "cell_type": "markdown",
   "metadata": {},
   "source": [
    "### $m_La_{LT} = F_{FL} + F_{GT} +F_{OT}$\n",
    "*If this plot is correct:*\n",
    "The free body diagram is correct in thet $\\hat T$ direction on the link."
   ]
  },
  {
   "cell_type": "code",
   "execution_count": null,
   "metadata": {},
   "outputs": [],
   "source": [
    "lhs_label = r'$m_La_{LT}$'\n",
    "rhs_label = r'$F_{FL} + F_{GT} +F_{OT}$'\n",
    "\n",
    "lhs = m_L*a_LT\n",
    "\n",
    "rhs = F_FL+F_GT+F_OT\n",
    "\n",
    "plot_eq(lhs, lhs_label, rhs, rhs_label)"
   ]
  },
  {
   "cell_type": "markdown",
   "metadata": {},
   "source": [
    "### $m_La_{LN} = F_{NL} + F_{GN} +F_{ON}$\n",
    "*If this plot is correct:*\n",
    "The free body diagram is correct in thet $\\hat N$ direction on the link."
   ]
  },
  {
   "cell_type": "code",
   "execution_count": null,
   "metadata": {},
   "outputs": [],
   "source": [
    "lhs_label = r'$m_La_{LN}$'\n",
    "rhs_label = r'$F_{NL} + F_{GN} +F_{ON}$'\n",
    "\n",
    "lhs = m_L*a_LN\n",
    "\n",
    "rhs = F_NL + F_GN + F_ON\n",
    "\n",
    "plot_eq(lhs, lhs_label, rhs, rhs_label)"
   ]
  },
  {
   "cell_type": "markdown",
   "metadata": {},
   "source": [
    "### $m_Ma_{MT} = F_{FM} + F_{CT}$\n",
    "*If this plot is correct:*\n",
    "The free body diagram is correct in thet $\\hat T$ direction on the manipulator."
   ]
  },
  {
   "cell_type": "code",
   "execution_count": null,
   "metadata": {},
   "outputs": [],
   "source": [
    "lhs_label = r'$m_Ma_{MT}$'\n",
    "rhs_label = r'$F_{FM} + F_{CT}'\n",
    "\n",
    "lhs = m_M*a_MT\n",
    "\n",
    "rhs = F_FM + F_CT\n",
    "\n",
    "plot_eq(lhs, lhs_label, rhs, rhs_label)"
   ]
  },
  {
   "cell_type": "markdown",
   "metadata": {},
   "source": [
    "### $m_Ma_{MN} = F_{NM} + F_{CN}$\n",
    "*If this plot is correct:*\n",
    "The free body diagram is correct in thet $\\hat TN direction on the manipulator."
   ]
  },
  {
   "cell_type": "code",
   "execution_count": null,
   "metadata": {},
   "outputs": [],
   "source": [
    "lhs_label = r'$m_Ma_{MN}$'\n",
    "rhs_label = r'$ F_{NM} + F_{CN}$'\n",
    "\n",
    "lhs = m_M*a_MN\n",
    "\n",
    "rhs = F_NM+F_CN\n",
    "\n",
    "plot_eq(lhs, lhs_label, rhs, rhs_label)"
   ]
  },
  {
   "cell_type": "markdown",
   "metadata": {},
   "source": [
    "#### Supporting plot\n",
    "$F_{CN}= -\\frac{F_{GN} w_{L}^{2} - 4 I_{L} a_{Nd} - a_{Nd} m_{L} w_{L}^{2} - 2 a_{Nd} m_{M} r_{T} w_{L} - a_{Nd} m_{M} w_{L}^{2}}{2 r_{T} w_{L} + w_{L}^{2}}$"
   ]
  },
  {
   "cell_type": "code",
   "execution_count": null,
   "metadata": {},
   "outputs": [],
   "source": [
    "lhs_label = r\"$F_{CN}$\"\n",
    "rhs_label = r\"$-\\frac{F_{GN} w_{L}^{2} - 4 I_{L} a_{Nd} - a_{Nd} m_{L} w_{L}^{2} - 2 a_{Nd} m_{M} r_{T} w_{L} - a_{Nd} m_{M} w_{L}^{2}}{2 r_{T} w_{L} + w_{L}^{2}}$\"\n",
    "\n",
    "lhs = F_CN\n",
    "\n",
    "rhs = -(F_GN*w_L**2 - 4*I_L*a_Nd - a_Nd*m_L*w_L**2 - 2*a_Nd*m_M*r_T*w_L - a_Nd*m_M*w_L**2)/(2*r_T*w_L + w_L**2)\n",
    "\n",
    "if plot_supporting_plots:\n",
    "    plot_eq(lhs, lhs_label, rhs, rhs_label)"
   ]
  },
  {
   "cell_type": "markdown",
   "metadata": {},
   "source": [
    "#### Supporting plot 2"
   ]
  },
  {
   "cell_type": "code",
   "execution_count": null,
   "metadata": {},
   "outputs": [],
   "source": [
    "if plot_supporting_plots:\n",
    "    plt.figure(figsize=figsize)\n",
    "    plt.plot(l_times, m_M*a_MN, label=\"$ma$\", linewidth=lw, color='lightskyblue', zorder=0)\n",
    "    plt.plot(l_times, F_NM+F_CN, label=\"Sum of forces\", linewidth=lw, color='b', linestyle='--', zorder=1)\n",
    "    plt.plot(l_times, F_NM, label=\"$F_{NM}$\", linewidth=lw, linestyle='--', color='red')\n",
    "    plt.plot(l_times, F_CN, label=\"$F_{CN}$\", linewidth=lw, linestyle='--', color='green')\n",
    "    plt.ylim(-3, 3)\n",
    "    plt.legend()\n",
    "    plt.xlabel(\"Time\")\n",
    "    plt.show()"
   ]
  },
  {
   "cell_type": "code",
   "execution_count": null,
   "metadata": {},
   "outputs": [],
   "source": [
    "if plot_supporting_plots:\n",
    "    plt.figure(figsize=figsize)\n",
    "    plt.plot(l_times, m_M*a_MN, label=\"$ma_{MN}$\", linewidth=lw, color='lightskyblue', zorder=0)\n",
    "    plt.plot(l_times, F_NM+F_CN, label=\"Sum of forces\", linewidth=lw, color='b', linestyle='--', zorder=1)\n",
    "    plt.plot(l_times, F_NM, label=\"$F_{NM}$\", linewidth=lw, linestyle='--', color='red')\n",
    "    plt.plot(l_times, F_CN, label=\"$F_{CN}$\", linewidth=lw, linestyle='--', color='green')\n",
    "    plt.ylim(-3, 3)\n",
    "    plt.legend()\n",
    "    plt.xlabel(\"Time\")\n",
    "    plt.show()"
   ]
  },
  {
   "cell_type": "code",
   "execution_count": null,
   "metadata": {},
   "outputs": [],
   "source": [
    "if plot_supporting_plots:\n",
    "    plt.figure(figsize=figsize)\n",
    "    plt.plot(l_times, m_M*a_MN-m_L*a_LN, label=\"$m_Ma_{MN}-m_La_L$\", linewidth=lw, color='lightskyblue', zorder=0)\n",
    "    plt.plot(l_times, F_NM+F_CN-m_L*a_LN, label=\"Sum of forces - $m_La_L$\", linewidth=lw, color='b', linestyle='--', zorder=1)\n",
    "    plt.plot(l_times, F_NM-m_L*a_LN, label=\"$F_{NM}-m_La_L$\", linewidth=lw, linestyle='--', color='red')\n",
    "    plt.plot(l_times, F_CN-m_L*a_LN, label=\"$F_{CN}-m_La_L$\", linewidth=lw, linestyle='--', color='green')\n",
    "    plt.ylim(-3, 3)\n",
    "    plt.legend()\n",
    "    plt.xlabel(\"Time\")\n",
    "    plt.show()"
   ]
  },
  {
   "cell_type": "markdown",
   "metadata": {},
   "source": [
    "#### Supporting plot 3"
   ]
  },
  {
   "cell_type": "code",
   "execution_count": null,
   "metadata": {},
   "outputs": [],
   "source": [
    "F_NM_from_accel = m_M*a_MN - F_CN"
   ]
  },
  {
   "cell_type": "code",
   "execution_count": null,
   "metadata": {},
   "outputs": [],
   "source": [
    "if plot_supporting_plots:\n",
    "    plt.figure(figsize=figsize)\n",
    "    plt.plot(l_times, F_NM, label=\"$F_{NM}$\", linewidth=lw, color='lightskyblue', zorder=0)\n",
    "    plt.plot(l_times, F_NM_from_accel, label=\"$F_{NM}$ from accel\", linewidth=lw, color='b', linestyle='--', zorder=1)\n",
    "    plt.ylim(-3, -1.5)\n",
    "    plt.legend()\n",
    "    plt.xlabel(\"Time\")\n",
    "    plt.show()"
   ]
  },
  {
   "cell_type": "markdown",
   "metadata": {},
   "source": [
    "### $a_{LT} = a_{MT}$\n",
    "*If this plot is correct:*\n",
    "My condition for static friction is correct."
   ]
  },
  {
   "cell_type": "code",
   "execution_count": null,
   "metadata": {},
   "outputs": [],
   "source": [
    "lhs_label = r'$a_{LT}$'\n",
    "rhs_label = r'$a_{MT}$'\n",
    "\n",
    "lhs = a_LT\n",
    "\n",
    "rhs = a_MT\n",
    "\n",
    "plot_eq(lhs, lhs_label, rhs, rhs_label, rhs_alpha=0.5)"
   ]
  },
  {
   "cell_type": "markdown",
   "metadata": {},
   "source": [
    "It seems reasonable that this plot would be slightly off, because I have been using a strict Coulomb friction model, but there could be some differences because of the approximations used in Drake."
   ]
  },
  {
   "cell_type": "markdown",
   "metadata": {},
   "source": [
    "### $a_{LN} = a_{MN}$\n",
    "*If this plot is correct:*\n",
    "My condition that the accelerations in the normal direction (since that's the direction they're touching) need to be the same is correct."
   ]
  },
  {
   "cell_type": "code",
   "execution_count": null,
   "metadata": {},
   "outputs": [],
   "source": [
    "lhs_label = r'$a_{LN}$'\n",
    "rhs_label = r'$a_{MN}$'\n",
    "\n",
    "lhs = a_LN\n",
    "\n",
    "rhs = a_MN\n",
    "\n",
    "plot_eq(lhs, lhs_label, rhs, rhs_label)"
   ]
  },
  {
   "cell_type": "markdown",
   "metadata": {},
   "source": [
    "#### Why don't they match?\n",
    "\n",
    "Well,  the bodies are not rigid. "
   ]
  },
  {
   "cell_type": "markdown",
   "metadata": {},
   "source": [
    "#### Supporting plot"
   ]
  },
  {
   "cell_type": "code",
   "execution_count": null,
   "metadata": {},
   "outputs": [],
   "source": [
    "# man_point = logger.data()[log_wrapper.entries_per_body*int(finger_body.index()):\n",
    "#                           log_wrapper.entries_per_body*int(finger_body.index())+3,:]\n",
    "# man_rot = "
   ]
  },
  {
   "cell_type": "code",
   "execution_count": null,
   "metadata": {},
   "outputs": [],
   "source": [
    "X_WMs = logger.data()[log_wrapper.entries_per_body*int(finger_body.index()):\n",
    "                      log_wrapper.entries_per_body*int(finger_body.index())+6,:].T\n",
    "X_WLs = logger.data()[log_wrapper.entries_per_body*int(paper.link_idxs[-1]):\n",
    "                      log_wrapper.entries_per_body*int(paper.link_idxs[-1])+6,:].T"
   ]
  },
  {
   "cell_type": "code",
   "execution_count": null,
   "metadata": {},
   "outputs": [],
   "source": [
    "x_LMs = []\n",
    "y_LMs = []\n",
    "z_LMs = []\n",
    "for X_WM_arr, X_WL_arr in zip(X_WMs, X_WLs):\n",
    "    X_WM = RigidTransform()\n",
    "    X_WM.set_rotation(RollPitchYaw(X_WM_arr[3:]))\n",
    "    X_WM.set_translation(X_WM_arr[:3])\n",
    "    \n",
    "    X_WL = RigidTransform()\n",
    "    X_WL.set_rotation(RollPitchYaw(X_WL_arr[3:]))\n",
    "    X_WL.set_translation(X_WL_arr[:3])\n",
    "    X_LM = X_WL.inverse().multiply(X_WM)\n",
    "    x_LMs.append(X_LM.translation()[0])\n",
    "    y_LMs.append(X_LM.translation()[1])\n",
    "    z_LMs.append(X_LM.translation()[2])"
   ]
  },
  {
   "cell_type": "code",
   "execution_count": null,
   "metadata": {},
   "outputs": [],
   "source": [
    "x_LMs = logger.data()[-3]\n",
    "y_LMs = logger.data()[-2]\n",
    "z_LMs = logger.data()[-1]"
   ]
  },
  {
   "cell_type": "code",
   "execution_count": null,
   "metadata": {},
   "outputs": [],
   "source": [
    "link_point = logger.data()[log_wrapper.entries_per_body*int(paper.link_idxs[-1]):\n",
    "                           log_wrapper.entries_per_body*int(paper.link_idxs[-1])+3,:]"
   ]
  },
  {
   "cell_type": "code",
   "execution_count": null,
   "metadata": {},
   "outputs": [],
   "source": [
    "if plot_supporting_plots:\n",
    "    plt.figure(figsize=figsize)\n",
    "    lw = 5\n",
    "    plt.gca().add_patch(patches.Rectangle((-w_L/2,-h_L/2),w_L,h_L,linewidth=1,edgecolor='lightgray',facecolor='lightgray'))\n",
    "    # plt.plot(man_point[1, idx_start:idx_end] - link_point[1, idx_start:idx_end],\n",
    "    #          man_point[2, idx_start:idx_end] - link_point[2, idx_start:idx_end])\n",
    "    plt.plot(y_LMs[idx_start:idx_end], z_LMs[idx_start:idx_end])\n",
    "    plt.show()"
   ]
  },
  {
   "cell_type": "code",
   "execution_count": null,
   "metadata": {},
   "outputs": [],
   "source": [
    "if plot_supporting_plots:\n",
    "    plt.figure(figsize=figsize)\n",
    "    d_z_LMs = np.diff(z_LMs)/np.diff(l_times)\n",
    "    dd_z_LMs = np.diff(d_z_LMs)/np.diff(l_times[:-1])\n",
    "    plt.plot(l_times[:-2][idx_start:idx_end], dd_z_LMs[idx_start:idx_end])\n",
    "    plt.plot(l_times[idx_start:idx_end], (a_MN-a_LN)[idx_start:idx_end])\n",
    "    plt.autoscale(enable=True, axis='x', tight=True)\n",
    "    plt.show()"
   ]
  },
  {
   "cell_type": "code",
   "execution_count": null,
   "metadata": {},
   "outputs": [],
   "source": [
    "np.array(debug['N_hats'][2000])@np.array(debug['T_hats'][2000]).T + (np.array(debug['N_hats'][2000])@np.array(debug['T_hats'][2000]).T).T"
   ]
  },
  {
   "cell_type": "code",
   "execution_count": null,
   "metadata": {},
   "outputs": [],
   "source": [
    "np.cos(-2*np.arccos(debug['T_hats'][2000][1]))"
   ]
  },
  {
   "cell_type": "code",
   "execution_count": null,
   "metadata": {},
   "outputs": [],
   "source": [
    "np.sin(-2*np.arcsin(debug['T_hats'][2000][2]))"
   ]
  },
  {
   "cell_type": "code",
   "execution_count": null,
   "metadata": {},
   "outputs": [],
   "source": [
    "l_times[2000]"
   ]
  },
  {
   "cell_type": "code",
   "execution_count": null,
   "metadata": {},
   "outputs": [],
   "source": [
    "debug['T_hats'][500]"
   ]
  },
  {
   "cell_type": "markdown",
   "metadata": {},
   "source": [
    "#### Supporting plot"
   ]
  },
  {
   "cell_type": "code",
   "execution_count": null,
   "metadata": {},
   "outputs": [],
   "source": [
    "if plot_supporting_plots:\n",
    "    plt.figure(figsize=figsize)\n",
    "    lw = 5\n",
    "    plt.plot(l_times, a_link[:, 0,:], label='$a_{Lx}$', color='pink', linewidth=lw)\n",
    "    plt.plot(l_times, a_link[:, 1,:], label='$a_{Ly}$', color='lightgreen', linewidth=lw)\n",
    "    plt.plot(l_times, a_link[:, 2,:], label='$a_{Lz}$', color='lightskyblue', linewidth=lw)\n",
    "    plt.plot(l_times, a_man[:,0,:], '--', label='$a_{Mx}$', color='red', linewidth=lw, alpha=0.5)\n",
    "    plt.plot(l_times, a_man[:,1,:], '--', label='$a_{My}$', color='green', linewidth=lw, alpha=0.5)\n",
    "    plt.plot(l_times, a_man[:,2,:], '--', label='$a_{Mz}$', color='blue', linewidth=lw, alpha=0.5)\n",
    "    plt.xlabel(\"Time (seconds)\")\n",
    "    plt.ylim(-100, 100)\n",
    "    plt.legend()\n",
    "    plt.show()"
   ]
  },
  {
   "cell_type": "code",
   "execution_count": null,
   "metadata": {},
   "outputs": [],
   "source": [
    "if plot_supporting_plots:\n",
    "    plt.figure(figsize=figsize)\n",
    "    lw = 5\n",
    "    plt.plot(logger.sample_times(), a_link_raw[0, :], label='$a_{Lx}$', color='pink', linewidth=lw)\n",
    "    plt.plot(logger.sample_times(), a_link_raw[1, :], label='$a_{Ly}$', color='lightgreen', linewidth=lw)\n",
    "    plt.plot(logger.sample_times(), a_link_raw[2, :], label='$a_{Lz}$', color='lightskyblue', linewidth=lw)\n",
    "    plt.plot(logger.sample_times(), a_man_raw[0, :], '--', label='$a_{Mx}$', color='red', linewidth=lw, alpha=0.5)\n",
    "    plt.plot(logger.sample_times(), a_man_raw[1, :], '--', label='$a_{My}$', color='green', linewidth=lw, alpha=0.5)\n",
    "    plt.plot(logger.sample_times(), a_man_raw[2, :], '--', label='$a_{Mz}$', color='blue', linewidth=lw, alpha=0.5)\n",
    "    plt.xlabel(\"Time (seconds)\")\n",
    "    plt.ylim(-100, 100)\n",
    "    plt.legend()\n",
    "    plt.show()"
   ]
  },
  {
   "cell_type": "markdown",
   "metadata": {},
   "source": [
    "### $a_{LT} = -\\frac{w_L}{2}\\dot\\theta^2$"
   ]
  },
  {
   "cell_type": "code",
   "execution_count": null,
   "metadata": {},
   "outputs": [],
   "source": [
    "lhs_label = r'$a_{LT}$'\n",
    "rhs_label = r'$-\\frac{w_L}{2}\\dot\\theta^2$'\n",
    "\n",
    "lhs = a_LT\n",
    "\n",
    "rhs = -(w_L/2)*d_theta**2\n",
    "\n",
    "plot_eq(lhs, lhs_label, rhs, rhs_label)"
   ]
  },
  {
   "cell_type": "markdown",
   "metadata": {},
   "source": [
    "#### Supporting plots"
   ]
  },
  {
   "cell_type": "code",
   "execution_count": null,
   "metadata": {},
   "outputs": [],
   "source": [
    "if plot_supporting_plots:\n",
    "    plt.figure(figsize=(16,8))\n",
    "    plt.plot(l_times[idx_start:idx_end],\n",
    "                 (-a_LT/d_theta**2)[idx_start:idx_end],\n",
    "                 label=r\"$\\frac{a_{LT}}{-\\dot\\theta^2}$\", linewidth=lw, color='skyblue')\n",
    "    plt.axhline(w_L/2, color='b', linestyle='--', linewidth=5)\n",
    "    plt.autoscale(enable=True, axis='x', tight=True)\n",
    "    # plt.ylim(14.4196106, 14.419611)\n",
    "    plt.legend()\n",
    "    plt.xlabel(\"Time\")\n",
    "    plt.show()"
   ]
  },
  {
   "cell_type": "markdown",
   "metadata": {},
   "source": [
    "### $a_{LN} = \\frac{w_L}{2}\\ddot\\theta$"
   ]
  },
  {
   "cell_type": "code",
   "execution_count": null,
   "metadata": {},
   "outputs": [],
   "source": [
    "lhs_label = r'$a_{LN}$'\n",
    "rhs_label = r'$\\frac{w_L}{2}\\ddot\\theta$'\n",
    "\n",
    "lhs = a_LN\n",
    "\n",
    "rhs = dd_theta*w_L/2\n",
    "\n",
    "plot_eq(lhs, lhs_label, rhs, rhs_label)"
   ]
  },
  {
   "cell_type": "markdown",
   "metadata": {},
   "source": [
    "#### Supporting plots"
   ]
  },
  {
   "cell_type": "code",
   "execution_count": null,
   "metadata": {},
   "outputs": [],
   "source": [
    "if plot_supporting_plots:\n",
    "    plt.figure(figsize=(16,8))\n",
    "    plt.plot(l_times[idx_start:idx_end],\n",
    "                 (a_LN/dd_theta)[idx_start:idx_end],\n",
    "                 label=r\"$\\frac{\\ddot\\theta}{a_{LN}}$\", linewidth=lw, color='lightskyblue', zorder=1)\n",
    "    plt.autoscale(enable=True, axis='x', tight=True)\n",
    "    plt.xlabel(\"Time\")\n",
    "    # plt.ylim(14.4196106, 14.4196107)\n",
    "    plt.axhline(w_L/2, color='b', linestyle='--', linewidth=lw, label=r\"$\\frac{w_L}{2}$\")\n",
    "    plt.axhline(w_L/2 + constants.EPSILON/2, color='navy', linewidth=lw, label=r\"$\\frac{w_L+\\epsilon}{2}$\")\n",
    "    plt.legend()\n",
    "    plt.show()"
   ]
  },
  {
   "cell_type": "markdown",
   "metadata": {},
   "source": [
    "### $I_L\\ddot\\theta = -\\frac{w_L}{2}F_{ON}+ \\frac{h_L}{2}F_{FL} + r_TF_{NL}$"
   ]
  },
  {
   "cell_type": "code",
   "execution_count": null,
   "metadata": {},
   "outputs": [],
   "source": [
    "lhs_label = r'$I_L\\ddot\\theta$'\n",
    "rhs_label = r'$-\\frac{w_L}{2}F_{ON}+ \\frac{h_L}{2}F_{FL} + r_TF_{NL}$'\n",
    "\n",
    "lhs = I_L*dd_theta\n",
    "\n",
    "rhs = -F_ON*w_L/2+h_L*F_FL/2+r_T*F_NL\n",
    "\n",
    "plot_eq(lhs, lhs_label, rhs, rhs_label)"
   ]
  },
  {
   "cell_type": "markdown",
   "metadata": {},
   "source": [
    "#### Supporting/debugging plots"
   ]
  },
  {
   "cell_type": "code",
   "execution_count": null,
   "metadata": {},
   "outputs": [],
   "source": [
    "if plot_supporting_plots:\n",
    "    lw = 5\n",
    "    plt.figure(figsize=(16, 16))\n",
    "    plt.plot(l_times, r_T, label=\"Simulation\", linewidth=5, color='lightskyblue', zorder=0)\n",
    "    plt.plot(d_times, paper.link_width + np.array(debug['d_Ts']) - paper.link_width/2, \n",
    "             label=\"Controller\", linewidth=5, color='b', linestyle='--', zorder=1)\n",
    "    plt.show()"
   ]
  },
  {
   "cell_type": "markdown",
   "metadata": {},
   "source": [
    "### $F_{NL} = -F_{NM}$"
   ]
  },
  {
   "cell_type": "code",
   "execution_count": null,
   "metadata": {},
   "outputs": [],
   "source": [
    "lhs_label = r'$F_{NL}$'\n",
    "rhs_label = r'$-F_{NM}$'\n",
    "\n",
    "lhs = F_NL\n",
    "\n",
    "rhs = -F_NM\n",
    "\n",
    "plot_eq(lhs, lhs_label, rhs, rhs_label)"
   ]
  },
  {
   "cell_type": "markdown",
   "metadata": {},
   "source": [
    "### $F_{FL} = -F_{FM}$"
   ]
  },
  {
   "cell_type": "code",
   "execution_count": null,
   "metadata": {},
   "outputs": [],
   "source": [
    "lhs_label = r'$F_{FL}$'\n",
    "rhs_label = r'$-F_{FM}$'\n",
    "\n",
    "lhs = F_FL\n",
    "\n",
    "rhs = -F_FM\n",
    "\n",
    "plot_eq(lhs, lhs_label, rhs, rhs_label, rhs_alpha=0.5)"
   ]
  },
  {
   "cell_type": "markdown",
   "metadata": {},
   "source": [
    "### $a_{LN} = a_{Nd}$"
   ]
  },
  {
   "cell_type": "code",
   "execution_count": null,
   "metadata": {},
   "outputs": [],
   "source": [
    "lhs_label = r'$a_{LN}$'\n",
    "rhs_label = r'$a_{Nd}$'\n",
    "\n",
    "lhs = a_LN\n",
    "\n",
    "rhs = a_Nd\n",
    "\n",
    "plot_eq(lhs, lhs_label, rhs, rhs_label)"
   ]
  },
  {
   "cell_type": "markdown",
   "metadata": {},
   "source": [
    "### $F_{FL} = 0$"
   ]
  },
  {
   "cell_type": "code",
   "execution_count": null,
   "metadata": {},
   "outputs": [],
   "source": [
    "lhs_label = r'$F_{FL}$'\n",
    "rhs_label = r'0'\n",
    "\n",
    "lhs = F_FL\n",
    "\n",
    "rhs = 0\n",
    "\n",
    "plot_eq(lhs, lhs_label, rhs, rhs_label)"
   ]
  },
  {
   "cell_type": "markdown",
   "metadata": {},
   "source": [
    "# Other useful plots"
   ]
  },
  {
   "cell_type": "markdown",
   "metadata": {},
   "source": [
    "## Verifying we have the same $\\hat N$"
   ]
  },
  {
   "cell_type": "code",
   "execution_count": null,
   "metadata": {},
   "outputs": [],
   "source": [
    "N_hats_sim = N_hats"
   ]
  },
  {
   "cell_type": "code",
   "execution_count": null,
   "metadata": {},
   "outputs": [],
   "source": [
    "N_hats_ctrl = np.array(debug['N_hats'])"
   ]
  },
  {
   "cell_type": "code",
   "execution_count": null,
   "metadata": {},
   "outputs": [],
   "source": [
    "plt.figure(figsize=(16, 8))\n",
    "lw = 5\n",
    "plt.plot(l_times, N_hats_sim[:,0,:], label='$\\hat n_{BA_W,x}$', color='pink', linewidth=lw)\n",
    "plt.plot(l_times, N_hats_sim[:,1,:], label='$\\hat n_{BA_W,y}$', color='lightgreen', linewidth=lw)\n",
    "plt.plot(l_times, N_hats_sim[:,2,:], label='$\\hat n_{BA_W,z}$', color='lightskyblue', linewidth=lw)\n",
    "plt.plot(d_times, N_hats_ctrl[:,0,:], '--', label='$\\hat N_x$', color='red', linewidth=lw)\n",
    "plt.plot(d_times, N_hats_ctrl[:,1,:], '--', label='$\\hat N_y$', color='green', linewidth=lw)\n",
    "plt.plot(d_times, N_hats_ctrl[:,2,:], '--', label='$\\hat N_z$', color='blue', linewidth=lw)\n",
    "plt.xlabel(\"Time (seconds)\")\n",
    "plt.legend()\n",
    "plt.show()"
   ]
  },
  {
   "cell_type": "markdown",
   "metadata": {},
   "source": [
    "The signals line up, so our calculation of $\\hat N$ matches what Drake gets."
   ]
  },
  {
   "cell_type": "markdown",
   "metadata": {},
   "source": [
    "##  $d_N$ and separation speed"
   ]
  },
  {
   "cell_type": "code",
   "execution_count": null,
   "metadata": {},
   "outputs": [],
   "source": [
    "separation_speed = logger.data()[log_wrapper.contact_entry_start_idx+9,:]"
   ]
  },
  {
   "cell_type": "code",
   "execution_count": null,
   "metadata": {},
   "outputs": [],
   "source": [
    "lw=5\n",
    "plt.figure(figsize=(16, 8))\n",
    "plt.plot(d_times, np.array(debug['d_Ns']), label='$d_N$', linewidth=lw)\n",
    "plt.axhline(-(constants.FINGER_RADIUS), label='Contact $d_N$ (finger radius)', linestyle='--', color='k', linewidth=lw)\n",
    "plt.legend()\n",
    "plt.xlabel(\"Time (seconds)\")\n",
    "plt.ylabel(\"Distance (m)\")\n",
    "plt.autoscale(enable=True, axis='x', tight=True)\n",
    "plt.show()"
   ]
  },
  {
   "cell_type": "markdown",
   "metadata": {},
   "source": [
    "$d_N$ settles at the contact value, which is what we expect."
   ]
  },
  {
   "cell_type": "code",
   "execution_count": null,
   "metadata": {},
   "outputs": [],
   "source": [
    "lw=5\n",
    "plt.figure(figsize=(16, 8))\n",
    "plt.plot(l_times, separation_speed, label=\"Separation speed\", linewidth=lw)\n",
    "plt.axhline(0, color='k', linestyle='--', label='Contact', linewidth=lw)\n",
    "plt.legend()\n",
    "plt.xlabel(\"Time (seconds)\")\n",
    "plt.ylabel(\"Velocity (m/s)\")\n",
    "plt.show()"
   ]
  },
  {
   "cell_type": "markdown",
   "metadata": {},
   "source": [
    "Separation speed settles at zero, which is what we expect; means we don't break contact."
   ]
  },
  {
   "cell_type": "markdown",
   "metadata": {},
   "source": [
    "## Moving contact point\n",
    " - [ ] PROGRAMMING: Add arrow heads to contact point plots"
   ]
  },
  {
   "cell_type": "code",
   "execution_count": null,
   "metadata": {},
   "outputs": [],
   "source": [
    "lw=5\n",
    "plt.figure(figsize=(16, 8))\n",
    "plt.plot(d_times, debug['d_Ts'], label='$d_T$', linewidth=lw)\n",
    "plt.axhline(-(0), label='Bounds on $d_T$ (0 and link width)', linestyle='--', color='k', linewidth=lw)\n",
    "plt.axhline(-(paper.link_width), linestyle='--', color='k', linewidth=lw)\n",
    "plt.legend()\n",
    "plt.xlabel(\"Time (seconds)\")\n",
    "plt.ylabel(\"Distance (m)\")\n",
    "plt.autoscale(enable=True, axis='x', tight=True)\n",
    "plt.show()"
   ]
  },
  {
   "cell_type": "markdown",
   "metadata": {},
   "source": [
    "This plot shows that $d_T$ changes during the simulation an amount which is significant relative to its bounds."
   ]
  },
  {
   "cell_type": "code",
   "execution_count": null,
   "metadata": {},
   "outputs": [],
   "source": [
    "contact_point = logger.data()[log_wrapper.contact_entry_start_idx+11:log_wrapper.contact_entry_start_idx+14,:]"
   ]
  },
  {
   "cell_type": "markdown",
   "metadata": {},
   "source": [
    "Sanity check on contact point data:"
   ]
  },
  {
   "cell_type": "code",
   "execution_count": null,
   "metadata": {},
   "outputs": [],
   "source": [
    "plt.figure(figsize=(12,12))\n",
    "\n",
    "plt.plot(contact_point[1,:], contact_point[2,:], color='k', linestyle='--', linewidth='5')\n",
    "plt.gca().set_aspect('equal', 'box')\n",
    "plt.show()"
   ]
  },
  {
   "cell_type": "code",
   "execution_count": null,
   "metadata": {},
   "outputs": [],
   "source": [
    "man_point = logger.data()[log_wrapper.entries_per_body*int(finger_body.index()):\n",
    "                          log_wrapper.entries_per_body*int(finger_body.index())+3,:]"
   ]
  },
  {
   "cell_type": "code",
   "execution_count": null,
   "metadata": {},
   "outputs": [],
   "source": [
    "plt.figure(figsize=(12,12))\n",
    "plt.gca().add_patch(plt.Circle((0, 0), constants.FINGER_RADIUS, color='r'))\n",
    "plt.plot(contact_point[1,:]-man_point[1,:], contact_point[2,:]-man_point[2,:], color='k', linestyle='--', linewidth='5')\n",
    "plt.gca().set_aspect('equal', 'box')\n",
    "plt.show()"
   ]
  },
  {
   "cell_type": "markdown",
   "metadata": {},
   "source": [
    "Shows the contacat point moves around on the surface of the manipulator."
   ]
  },
  {
   "cell_type": "markdown",
   "metadata": {},
   "source": [
    "## Friction plots"
   ]
  },
  {
   "cell_type": "code",
   "execution_count": null,
   "metadata": {},
   "outputs": [],
   "source": [
    "slip_speed = logger.data()[log_wrapper.contact_entry_start_idx+10,:]"
   ]
  },
  {
   "cell_type": "code",
   "execution_count": null,
   "metadata": {},
   "outputs": [],
   "source": [
    "t_slip = l_times[np.argmax(slip_speed > v_stiction)]"
   ]
  },
  {
   "cell_type": "code",
   "execution_count": null,
   "metadata": {},
   "outputs": [],
   "source": [
    "lw=5\n",
    "plt.figure(figsize=(16,12))\n",
    "plt.plot(l_times, abs(F_FL), label=r\"$\\left|F_{FL}\\right|$\", linewidth=lw, color='lightskyblue', zorder=0)\n",
    "plt.plot(l_times, abs(F_FM), label=r\"$\\left|F_{ML}\\right|$\", linewidth=lw, color='b', linestyle='--', zorder=1)\n",
    "plt.plot(l_times, abs(F_NL)*constants.FRICTION, label=r\"$\\mu\\left|F_{NL}\\right|$\", linewidth=lw, color='k', linestyle=':')\n",
    "plt.axvline(t_slip, color='r', label=\"$t_{slip}$\", linewidth=lw)\n",
    "plt.ylim(-0, 2)\n",
    "plt.autoscale(enable=True, axis='x', tight=True)\n",
    "plt.legend()\n",
    "plt.xlabel(\"Time\")\n",
    "plt.show()"
   ]
  },
  {
   "cell_type": "markdown",
   "metadata": {},
   "source": [
    "This plot shows that although we remain within the static friction limit for the majority of the time, at $t_{slip}$ we exceed $v_{stiction}$ and move to dynamic friction."
   ]
  },
  {
   "cell_type": "code",
   "execution_count": null,
   "metadata": {},
   "outputs": [],
   "source": [
    "lw=5\n",
    "plt.figure(figsize=(16, 8))\n",
    "plt.axvline(t_slip, color='r', label=\"$t_{slip}$\", linewidth=lw)\n",
    "plt.plot(logger.sample_times(), slip_speed, label=\"slip speed\", linewidth=5)\n",
    "plt.axhline(v_stiction, linestyle=\"--\", color=\"k\", label=\"$v_{stiction}$\", linewidth=5)\n",
    "plt.xlabel(\"Time (seconds)\")\n",
    "plt.ylabel(\"Speed (m/s)\")\n",
    "plt.ylim(0, 2*v_stiction)\n",
    "plt.autoscale(enable=True, axis='x', tight=True)\n",
    "plt.legend()\n",
    "plt.show()"
   ]
  },
  {
   "cell_type": "markdown",
   "metadata": {},
   "source": [
    "This plot shows what's happening from the slip speed side. Similar to a tire spinning out, as soon as the slip speed exceeds $v_{stiction}$, the positive feedback of lowered friction sends the slip speed quite high."
   ]
  },
  {
   "cell_type": "markdown",
   "metadata": {},
   "source": [
    "## Penetration debugging"
   ]
  },
  {
   "cell_type": "code",
   "execution_count": null,
   "metadata": {},
   "outputs": [],
   "source": [
    "lw=5\n",
    "smooth_idxs = np.arange(800, 4000)\n",
    "plt.figure(figsize=(16, 8))\n",
    "plt.plot(l_times, a_MN, linewidth=lw)\n",
    "plt.plot(l_times[smooth_idxs], a_MN[smooth_idxs], linewidth=lw)\n",
    "plt.axvline(plant.get_contact_penalty_method_time_scale(), linewidth=lw, color='red')\n",
    "plt.ylim(-10, 40)\n",
    "# plt.autoscale(enable=True, axis='x', tight=True)\n",
    "plt.show()"
   ]
  },
  {
   "cell_type": "code",
   "execution_count": null,
   "metadata": {},
   "outputs": [],
   "source": [
    "finger_shape"
   ]
  },
  {
   "cell_type": "code",
   "execution_count": null,
   "metadata": {},
   "outputs": [],
   "source": [
    "# scene_graph.model_inspector().GetProximityProperties(finger_shape).GetProperty(\"material\", \"point_contact_stiffness\");"
   ]
  },
  {
   "cell_type": "code",
   "execution_count": null,
   "metadata": {},
   "outputs": [],
   "source": [
    "pen_depth = logger.data()[log_wrapper.contact_entry_start_idx+17]"
   ]
  },
  {
   "cell_type": "code",
   "execution_count": null,
   "metadata": {},
   "outputs": [],
   "source": [
    "lw=5\n",
    "plt.figure(figsize=(16, 8))\n",
    "plt.plot(l_times, pen_depth)\n",
    "plt.ylim(-2,2)\n",
    "plt.autoscale(enable=True, axis='x', tight=True)\n",
    "plt.legend()\n",
    "plt.show()"
   ]
  },
  {
   "cell_type": "code",
   "execution_count": null,
   "metadata": {},
   "outputs": [],
   "source": [
    "# def get_stiffness_and_damping(penetration_allowance) {\n",
    "penetration_allowance = 0.001\n",
    "g = 9.81\n",
    "mass = 0.0\n",
    "\n",
    "for bi in range(plant.num_bodies()):\n",
    "    body = plant.get_body(BodyIndex(bi))\n",
    "    mass = max(mass, body.get_default_mass())\n",
    "\n",
    "combined_stiffness = mass * g / penetration_allowance\n",
    "omega = np.sqrt(combined_stiffness / mass)\n",
    "\n",
    "time_scale = 1.0 / omega\n",
    "\n",
    "damping_ratio = 1.0\n",
    "dissipation = damping_ratio * time_scale / penetration_allowance\n",
    "stiffness = 2 * combined_stiffness"
   ]
  },
  {
   "cell_type": "markdown",
   "metadata": {},
   "source": [
    "### Pentration into manipulator"
   ]
  },
  {
   "cell_type": "code",
   "execution_count": null,
   "metadata": {},
   "outputs": [],
   "source": [
    "pen_man_point = pen_depth = logger.data()[log_wrapper.contact_entry_start_idx+3:\n",
    "                                         log_wrapper.contact_entry_start_idx+6]"
   ]
  },
  {
   "cell_type": "code",
   "execution_count": null,
   "metadata": {},
   "outputs": [],
   "source": [
    "np.linalg.norm(pen_man_point[1:3:]-man_point[1:3,:], axis=0).shape"
   ]
  },
  {
   "cell_type": "code",
   "execution_count": null,
   "metadata": {},
   "outputs": [],
   "source": [
    "depth_man = np.linalg.norm(pen_man_point[1:3:]-man_point[1:3,:], axis=0)"
   ]
  },
  {
   "cell_type": "code",
   "execution_count": null,
   "metadata": {},
   "outputs": [],
   "source": [
    "l_times.shape"
   ]
  },
  {
   "cell_type": "code",
   "execution_count": null,
   "metadata": {},
   "outputs": [],
   "source": [
    "plt.figure(figsize=(12,12))\n",
    "plt.plot(l_times, depth_man, color='k', linestyle='-', linewidth='5')\n",
    "ylims = plt.ylim()\n",
    "plt.ylim(0,ylims[-1]*2)\n",
    "plt.show()"
   ]
  },
  {
   "cell_type": "markdown",
   "metadata": {},
   "source": [
    "### Penetration into link"
   ]
  },
  {
   "cell_type": "code",
   "execution_count": null,
   "metadata": {},
   "outputs": [],
   "source": [
    "link_point = logger.data()[log_wrapper.entries_per_body*int(paper.link_idxs[-1]):\n",
    "                           log_wrapper.entries_per_body*int(paper.link_idxs[-1])+3,:]"
   ]
  },
  {
   "cell_type": "code",
   "execution_count": null,
   "metadata": {},
   "outputs": [],
   "source": [
    "pen_link_point = logger.data()[log_wrapper.contact_entry_start_idx+6:\n",
    "                               log_wrapper.contact_entry_start_idx+9]"
   ]
  },
  {
   "cell_type": "code",
   "execution_count": null,
   "metadata": {},
   "outputs": [],
   "source": [
    "depth_link = np.linalg.norm(pen_link_point[1:3:]-link_point[1:3,:], axis=0)"
   ]
  },
  {
   "cell_type": "code",
   "execution_count": null,
   "metadata": {},
   "outputs": [],
   "source": [
    "plt.figure(figsize=(12,12))\n",
    "plt.plot(l_times, depth_man, color='k', linestyle='-', linewidth='5')\n",
    "ylims = plt.ylim()\n",
    "plt.ylim(0,ylims[-1]*2)\n",
    "plt.show()"
   ]
  },
  {
   "cell_type": "markdown",
   "metadata": {},
   "source": [
    "## Accel debugging"
   ]
  },
  {
   "cell_type": "code",
   "execution_count": null,
   "metadata": {},
   "outputs": [],
   "source": [
    "v_man_diff = np.diff(man_point[1:3,:])/np.diff(l_times)\n",
    "a_man_diff = np.diff(v_man_diff)/np.diff(l_times[:-1])"
   ]
  },
  {
   "cell_type": "code",
   "execution_count": null,
   "metadata": {},
   "outputs": [],
   "source": [
    "lw=5\n",
    "plt.figure(figsize=(16,16))\n",
    "for i in range(1,3):\n",
    "    plt.subplot(2,1,i)\n",
    "    plt.plot(l_times[:-2][::10], a_man_diff[i-1,:][::10], linewidth=lw)\n",
    "    plt.plot(l_times, a_man[:,i,0], linewidth=lw)\n",
    "    plt.ylim(-150, 150)\n",
    "    plt.legend()\n",
    "    plt.xlabel(\"Time\")\n",
    "plt.show()"
   ]
  },
  {
   "cell_type": "code",
   "execution_count": null,
   "metadata": {},
   "outputs": [],
   "source": [
    "v_contact_diff = np.diff(contact_point[1:3,:])/np.diff(l_times)\n",
    "a_contact_diff = np.diff(v_contact_diff)/np.diff(l_times[:-1])"
   ]
  },
  {
   "cell_type": "code",
   "execution_count": null,
   "metadata": {},
   "outputs": [],
   "source": [
    "a_contact_diff.shape"
   ]
  },
  {
   "cell_type": "code",
   "execution_count": null,
   "metadata": {},
   "outputs": [],
   "source": [
    "lw=5\n",
    "plt.figure(figsize=(16,16))\n",
    "for i in range(1,3):\n",
    "    plt.subplot(2,1,i)\n",
    "    plt.plot(l_times[:-2][::10], a_contact_diff[i-1,:][::10], linewidth=lw)\n",
    "    plt.plot(l_times, a_man[:,i,0], linewidth=lw)\n",
    "    plt.ylim(-150, 150)\n",
    "    plt.legend()\n",
    "    plt.xlabel(\"Time\")\n",
    "plt.show()"
   ]
  },
  {
   "cell_type": "code",
   "execution_count": null,
   "metadata": {},
   "outputs": [],
   "source": []
  }
 ],
 "metadata": {
  "kernelspec": {
   "display_name": "Python 3",
   "language": "python",
   "name": "python3"
  },
  "language_info": {
   "codemirror_mode": {
    "name": "ipython",
    "version": 3
   },
   "file_extension": ".py",
   "mimetype": "text/x-python",
   "name": "python",
   "nbconvert_exporter": "python",
   "pygments_lexer": "ipython3",
   "version": "3.6.9"
  },
  "toc": {
   "base_numbering": 1,
   "nav_menu": {},
   "number_sections": true,
   "sideBar": true,
   "skip_h1_title": false,
   "title_cell": "Table of Contents",
   "title_sidebar": "Contents",
   "toc_cell": false,
   "toc_position": {
    "height": "769px",
    "left": "754px",
    "top": "167px",
    "width": "301px"
   },
   "toc_section_display": true,
   "toc_window_display": true
  }
 },
 "nbformat": 4,
 "nbformat_minor": 4
}
