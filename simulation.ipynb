{
 "cells": [
  {
   "cell_type": "code",
   "execution_count": null,
   "metadata": {},
   "outputs": [],
   "source": [
    "# Suprress warnings\n",
    "import warnings\n",
    "with warnings.catch_warnings():\n",
    "    warnings.simplefilter(\"ignore\")\n",
    "\n",
    "    # Standard imports\n",
    "    import matplotlib\n",
    "    import matplotlib.pyplot as plt\n",
    "    import matplotlib.cm as cm\n",
    "    import numpy as np\n",
    "\n",
    "    # Drake imports\n",
    "    from meshcat.servers.zmqserver import start_zmq_server_as_subprocess\n",
    "    import pydrake.all\n",
    "    from pydrake.all import (\n",
    "        RigidTransform, RotationMatrix, RollPitchYaw, RevoluteSpring, LogOutput, SignalLogger, ForceElement, \n",
    "        DoorHinge, DoorHingeConfig, PidController, FixedInputPortValue, SpatialVelocity\n",
    "    )\n",
    "\n",
    "# Imports of other project files\n",
    "import body_pose_wrapper\n",
    "import constants\n",
    "import finger\n",
    "import pedestal\n",
    "from paper import Paper\n",
    "\n",
    "# Other imports\n",
    "import importlib\n",
    "\n",
    "plt.style.use(['science', 'no-latex'])\n",
    "font = {'size'   : 14}\n",
    "\n",
    "matplotlib.rc('font', **font)"
   ]
  },
  {
   "cell_type": "code",
   "execution_count": null,
   "metadata": {},
   "outputs": [],
   "source": [
    "# Meshcat init\n",
    "proc, zmq_url, web_url = start_zmq_server_as_subprocess()"
   ]
  },
  {
   "cell_type": "code",
   "execution_count": null,
   "metadata": {},
   "outputs": [],
   "source": [
    "## Pre-finalize steps\n",
    "builder = pydrake.systems.framework.DiagramBuilder()\n",
    "\n",
    "# Add all elements\n",
    "plant, scene_graph = pydrake.multibody.plant.AddMultibodyPlantSceneGraph(builder, time_step=constants.DT)\n",
    "pedestal_instance = pedestal.AddPedestal(plant)\n",
    "\n",
    "#, stiffness=1e-2, damping=1e-4)\n",
    "paper = Paper(plant, 20, default_joint_angle= [\n",
    "    -np.pi/100,\n",
    "    -np.pi/100,\n",
    "    -np.pi/100,\n",
    "    -np.pi/100,\n",
    "    0,\n",
    "    0,\n",
    "    0,\n",
    "    0,\n",
    "    0,\n",
    "    0,\n",
    "    0,\n",
    "    0,\n",
    "    0,\n",
    "    0,\n",
    "    0,\n",
    "    np.pi/10,\n",
    "    np.pi/10,\n",
    "    np.pi/10,\n",
    "    np.pi/10,\n",
    "    np.pi/10,\n",
    "])\n",
    "paper.weld_paper_edge(pedestal.PEDESTAL_WIDTH, pedestal.PEDESTAL_HEIGHT)\n",
    "pose_wrapper = body_pose_wrapper.BodyPoseWrapper(24)\n",
    "builder.AddSystem(pose_wrapper)\n",
    "\n",
    "finger_instance = finger.AddFinger(plant, constants.INIT_X, constants.INIT_Z)"
   ]
  },
  {
   "cell_type": "code",
   "execution_count": null,
   "metadata": {},
   "outputs": [],
   "source": [
    "## CHOOSE CONTROL SYSTEM HERE BY UNCOMMENTING\n",
    "# PD control: hits too low\n",
    "# finger_ctrlr = finger.PDFinger(\n",
    "#     plant,\n",
    "#     int(finger_instance),\n",
    "#     [\n",
    "#         [constants.INIT_X, constants.INIT_Z],\n",
    "#         [constants.INIT_X*1.1, constants.INIT_Z],\n",
    "#         [constants.INIT_X*1.1, pedestal.PEDESTAL_HEIGHT+constants.FINGER_RADIUS/2+0.05],\n",
    "#         [0, pedestal.PEDESTAL_HEIGHT+constants.FINGER_RADIUS/2+0.05],\n",
    "#         [0, pedestal.PEDESTAL_HEIGHT+constants.FINGER_RADIUS/2],\n",
    "#     ],\n",
    "# )\n",
    "\n",
    "# PD control: hits too high\n",
    "# finger_ctrlr = finger.PDFinger(\n",
    "#     plant,\n",
    "#     int(finger_instance),\n",
    "#     [\n",
    "#         [constants.INIT_X, constants.INIT_Z],\n",
    "#         [constants.INIT_X*1.1, constants.INIT_Z],\n",
    "#         [constants.INIT_X*1.1, pedestal.PEDESTAL_HEIGHT+constants.FINGER_RADIUS/2+0.06],\n",
    "#         [0, pedestal.PEDESTAL_HEIGHT+constants.FINGER_RADIUS/2+0.06],\n",
    "#         [0, pedestal.PEDESTAL_HEIGHT+constants.FINGER_RADIUS/2],\n",
    "#     ],\n",
    "# )\n",
    "\n",
    "\n",
    "# Edge feedback\n",
    "finger_ctrlr = finger.EdgeController(\n",
    "    plant,\n",
    "    int(finger_instance),\n",
    "    int(paper.get_free_edge_instance()),\n",
    "    0,\n",
    "    0,\n",
    "    1,\n",
    "    0.01,\n",
    ")"
   ]
  },
  {
   "cell_type": "code",
   "execution_count": null,
   "metadata": {},
   "outputs": [],
   "source": [
    "plant.Finalize()\n",
    "\n",
    "## Post finalize steps\n",
    "paper.init_ctrlrs(builder)\n",
    "\n",
    "# Conect finger controller\n",
    "builder.AddSystem(finger_ctrlr)\n",
    "builder.Connect(finger_ctrlr.get_output_port(), plant.get_actuation_input_port(finger_instance))\n",
    "builder.Connect(plant.get_body_poses_output_port(), finger_ctrlr.get_input_port(0))\n",
    "builder.Connect(plant.get_body_spatial_velocities_output_port(), finger_ctrlr.get_input_port(1))\n",
    "builder.Connect(plant.get_body_poses_output_port(), pose_wrapper.get_input_port())\n",
    "\n",
    "# Visualization and logging\n",
    "poses_logger = LogOutput(pose_wrapper.get_output_port(), builder)\n",
    "vis = pydrake.systems.meshcat_visualizer.ConnectMeshcatVisualizer(builder, scene_graph)\n",
    "\n",
    "# Build diagram and do actions requiring \n",
    "diagram = builder.Build()\n",
    "diagram_context = diagram.CreateDefaultContext()\n",
    "paper.connect_ctrlrs(diagram, diagram_context)"
   ]
  },
  {
   "cell_type": "code",
   "execution_count": null,
   "metadata": {},
   "outputs": [],
   "source": [
    "# Finalize simulation and visualization\n",
    "simulator = pydrake.systems.analysis.Simulator(diagram, diagram_context)\n",
    "simulator.Initialize()\n",
    "vis.start_recording()\n",
    "simulator.AdvanceTo(constants.TSPAN)\n",
    "vis.stop_recording()\n",
    "vis.publish_recording()"
   ]
  },
  {
   "cell_type": "code",
   "execution_count": null,
   "metadata": {},
   "outputs": [],
   "source": [
    "# Plot manipulator position vs. trajectory\n",
    "if type(finger_ctrlr) is finger.PDFinger:\n",
    "    plt.figure()\n",
    "    plt.plot(poses_logger.data()[6*int(finger_instance)],\n",
    "             poses_logger.data()[6*int(finger_instance)+2],\n",
    "             label='Manipulator position')\n",
    "    plt.plot(finger_ctrlr.xs, finger_ctrlr.zs, label='Trajectory')\n",
    "    plt.xlabel(\"$x$ position\")\n",
    "    plt.ylabel(\"$z$ position\")\n",
    "    plt.legend()\n",
    "    plt.show()"
   ]
  },
  {
   "cell_type": "code",
   "execution_count": null,
   "metadata": {},
   "outputs": [],
   "source": [
    "# Generate plots for paper\n",
    "nb = plant.num_bodies()\n",
    "paper_idxs = [int(i) for i in paper.link_instances]\n",
    "x_traces = []\n",
    "z_traces = []\n",
    "for b in paper_idxs:\n",
    "    x_traces.append(poses_logger.data()[6*b])\n",
    "    z_traces.append(poses_logger.data()[6*b+2])\n",
    "x_traces = np.array(x_traces)\n",
    "z_traces = np.array(z_traces)\n",
    "\n",
    "times = np.arange(2,constants.TSPAN+1,2)\n",
    "cmap = cm.get_cmap(\"viridis_r\")\n",
    "plt.figure(figsize=(2*3,2*2))\n",
    "if type(finger_ctrlr) is finger.PDFinger:\n",
    "    plt.plot(finger_ctrlr.xs, finger_ctrlr.zs, '--k', zorder=-1)\n",
    "for t in times:\n",
    "    c = cmap(t/constants.TSPAN)\n",
    "    idx = int(t/constants.DT)\n",
    "    plt.plot(x_traces[:-1,idx], z_traces[:-1,idx], color=c)\n",
    "    plt.scatter(poses_logger.data()[6*int(finger_instance),idx], \n",
    "                poses_logger.data()[6*int(finger_instance)+2,idx],\n",
    "                color=c, s=300, zorder=1)\n",
    "\n",
    "xlim = plt.xlim()\n",
    "ylim = plt.ylim()\n",
    "plt.scatter([xlim[0]-50, xlim[0]-50], [ylim[0]-50, ylim[0]-50], c=[0, constants.TSPAN], cmap=cmap)\n",
    "plt.xlim(xlim)\n",
    "plt.ylim(ylim)\n",
    "cb = plt.colorbar()\n",
    "cb.set_label(\"Time\")\n",
    "plt.xlabel(\"$x$ position\")\n",
    "plt.ylabel(\"$z$ position\")\n",
    "plt.show()"
   ]
  },
  {
   "cell_type": "code",
   "execution_count": null,
   "metadata": {
    "scrolled": false
   },
   "outputs": [],
   "source": [
    "ll_idx = int(paper.get_free_edge_instance())\n",
    "titles = ['x', 'y', 'z', 'pitch', 'roll', 'yaw']\n",
    "plt.figure(figsize=(12,16))\n",
    "plt.subplot(311)\n",
    "plt.title('x')\n",
    "plt.plot(poses_logger.sample_times(), poses_logger.data()[6*ll_idx])\n",
    "plt.subplot(312)\n",
    "plt.title('z')\n",
    "plt.plot(poses_logger.sample_times(), poses_logger.data()[6*ll_idx+2])\n",
    "plt.subplot(313)\n",
    "plt.title('roll')\n",
    "plt.plot(poses_logger.sample_times(), poses_logger.data()[6*ll_idx+4])\n",
    "plt.axhline(-np.pi/60*19)\n",
    "plt.show()"
   ]
  },
  {
   "cell_type": "code",
   "execution_count": null,
   "metadata": {},
   "outputs": [],
   "source": [
    "SpatialVelocity().rotational()"
   ]
  },
  {
   "cell_type": "code",
   "execution_count": null,
   "metadata": {},
   "outputs": [],
   "source": [
    "plt.plot(poses_logger.data()[6*ll_idx], poses_logger.data()[6*ll_idx+2])"
   ]
  },
  {
   "cell_type": "code",
   "execution_count": null,
   "metadata": {},
   "outputs": [],
   "source": [
    "min(poses_logger.data()[6*ll_idx+1]), max(poses_logger.data()[6*ll_idx])"
   ]
  },
  {
   "cell_type": "code",
   "execution_count": null,
   "metadata": {},
   "outputs": [],
   "source": [
    "idx = 2\n",
    "np.max(np.abs(poses_logger.data()[6*idx+1:6*idx+6]))"
   ]
  },
  {
   "cell_type": "code",
   "execution_count": null,
   "metadata": {},
   "outputs": [],
   "source": []
  }
 ],
 "metadata": {
  "kernelspec": {
   "display_name": "Python 3",
   "language": "python",
   "name": "python3"
  },
  "language_info": {
   "codemirror_mode": {
    "name": "ipython",
    "version": 3
   },
   "file_extension": ".py",
   "mimetype": "text/x-python",
   "name": "python",
   "nbconvert_exporter": "python",
   "pygments_lexer": "ipython3",
   "version": "3.6.9"
  },
  "toc": {
   "base_numbering": 1,
   "nav_menu": {},
   "number_sections": true,
   "sideBar": true,
   "skip_h1_title": false,
   "title_cell": "Table of Contents",
   "title_sidebar": "Contents",
   "toc_cell": false,
   "toc_position": {
    "height": "calc(100% - 180px)",
    "left": "10px",
    "top": "150px",
    "width": "165px"
   },
   "toc_section_display": true,
   "toc_window_display": true
  }
 },
 "nbformat": 4,
 "nbformat_minor": 4
}
