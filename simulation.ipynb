{
 "cells": [
  {
   "cell_type": "markdown",
   "metadata": {},
   "source": [
    "# Imports"
   ]
  },
  {
   "cell_type": "code",
   "execution_count": null,
   "metadata": {},
   "outputs": [],
   "source": [
    "# Suprress warnings\n",
    "import warnings\n",
    "with warnings.catch_warnings():\n",
    "    warnings.simplefilter(\"ignore\")\n",
    "\n",
    "    # Standard imports\n",
    "    import matplotlib\n",
    "    import matplotlib.pyplot as plt\n",
    "    import matplotlib.patches as patches\n",
    "    import matplotlib.cm as cm\n",
    "    import numpy as np\n",
    "\n",
    "    # Drake imports\n",
    "    from meshcat.servers.zmqserver import start_zmq_server_as_subprocess\n",
    "    import pydrake\n",
    "    from pydrake.all import LogOutput, DirectCollocation, DirectTranscription, MathematicalProgram, InputPortSelection\n",
    "    from pydrake.all import FindResourceOrThrow\n",
    "    \n",
    "    import scipy.interpolate\n",
    "# Imports of other project files\n",
    "from log_wrapper import LogWrapper\n",
    "import arm\n",
    "import constants\n",
    "import finger\n",
    "import pedestal\n",
    "from paper import Paper\n",
    "\n",
    "from pydrake.all import (MultibodyPlant, Parser, DiagramBuilder, Simulator, RigidTransform,\n",
    "                         PlanarSceneGraphVisualizer, SceneGraph, TrajectorySource,\n",
    "                         SnoptSolver, MultibodyPositionToGeometryPose, PiecewisePolynomial,\n",
    "                         MathematicalProgram, JacobianWrtVariable, eq, RollPitchYaw, AutoDiffXd, BodyIndex,\n",
    "                        RotationMatrix, Meshcat,MeshcatVisualizerParams, MeshcatVisualizerCpp, MeshcatVisualizer)\n",
    "\n",
    "# Other imports\n",
    "import importlib"
   ]
  },
  {
   "cell_type": "code",
   "execution_count": null,
   "metadata": {},
   "outputs": [],
   "source": [
    "from IPython.display import display, SVG\n",
    "import pydot"
   ]
  },
  {
   "cell_type": "code",
   "execution_count": null,
   "metadata": {},
   "outputs": [],
   "source": [
    "# Matplotlib configuring\n",
    "# USE FOR PAPER\n",
    "# plt.style.use(['science', 'no-latex'])\n",
    "# font = {'size'   : 14}\n",
    "# matplotlib.rc('font', **font)\n",
    "# default_figsize = (2*3,2*2)\n",
    "# USE GENERALLY\n",
    "font = {'size'   : 16}\n",
    "matplotlib.rc('font', **font)\n",
    "default_figsize = (16,8)"
   ]
  },
  {
   "cell_type": "markdown",
   "metadata": {},
   "source": [
    "## Meshcat init (including link for new meshcat)"
   ]
  },
  {
   "cell_type": "code",
   "execution_count": null,
   "metadata": {},
   "outputs": [],
   "source": [
    "if constants.USE_NEW_MESHCAT:\n",
    "    meshcat = Meshcat()\n",
    "    web_url = meshcat.web_url()\n",
    "else:\n",
    "    proc, zmq_url, web_url = start_zmq_server_as_subprocess()"
   ]
  },
  {
   "cell_type": "markdown",
   "metadata": {},
   "source": [
    "# Simulation setup\n",
    "## Pre-finalize steps"
   ]
  },
  {
   "cell_type": "code",
   "execution_count": null,
   "metadata": {},
   "outputs": [],
   "source": [
    "builder = pydrake.systems.framework.DiagramBuilder()\n",
    "\n",
    "jnt_frc_log = []\n",
    "arm_acc_log = []\n",
    "arm_acc_log.append(np.zeros(7))\n",
    "\n",
    "# Add all elements\n",
    "plant, scene_graph = pydrake.multibody.plant.AddMultibodyPlantSceneGraph(builder, time_step=constants.DT)\n",
    "v_stiction=1e-3\n",
    "plant.set_stiction_tolerance(v_stiction)\n",
    "plant.set_penetration_allowance(0.001)\n",
    "pedestal_instance = pedestal.AddPedestal(plant)\n",
    "\n",
    "# These joint angles start the paper approximately the right spot, no matter how many links are used\n",
    "num_links = 2\n",
    "def_joint_angles = 0\n",
    "\n",
    "paper = Paper(plant, scene_graph, num_links, default_joint_angle=def_joint_angles,\n",
    "              stiffness=2.5e-1,\n",
    "              damping=7.12547340446979e-06)\n",
    "paper.weld_paper_edge(pedestal.PEDESTAL_WIDTH, pedestal.PEDESTAL_HEIGHT)"
   ]
  },
  {
   "cell_type": "markdown",
   "metadata": {},
   "source": [
    "Calculate link inertia to use in damping calculations:"
   ]
  },
  {
   "cell_type": "code",
   "execution_count": null,
   "metadata": {},
   "outputs": [],
   "source": [
    "arm_instance = arm.AddArm(plant, scene_graph)"
   ]
  },
  {
   "cell_type": "code",
   "execution_count": null,
   "metadata": {},
   "outputs": [],
   "source": [
    "# Set up logger (needs to happen after all bodies are added)\n",
    "top_finger_body = plant.GetBodyByName(arm.TOP_FINGER_NAME)\n",
    "bot_finger_body = plant.GetBodyByName(arm.BOT_FINGER_NAME)\n",
    "log_wrapper = LogWrapper(plant.num_bodies(), int(bot_finger_body.index()), int(top_finger_body.index()), paper, jnt_frc_log, arm_acc_log)\n",
    "builder.AddSystem(log_wrapper)"
   ]
  },
  {
   "cell_type": "markdown",
   "metadata": {},
   "source": [
    "## Controller selection"
   ]
  },
  {
   "cell_type": "code",
   "execution_count": null,
   "metadata": {},
   "outputs": [],
   "source": [
    "ll_idx = paper.link_idxs[-1]\n",
    "top_finger_idx = int(top_finger_body.index())\n",
    "bot_finger_idx = int(bot_finger_body.index())"
   ]
  },
  {
   "cell_type": "code",
   "execution_count": null,
   "metadata": {},
   "outputs": [],
   "source": [
    "I_L = plant.get_body(\n",
    "    BodyIndex(paper.link_idxs[-1])).default_rotational_inertia().CalcPrincipalMomentsOfInertia()[0]\n",
    "sys_params = {\n",
    "    'I_L': I_L,\n",
    "    'v_stiction': v_stiction,\n",
    "    'w_L': paper.link_width,\n",
    "    'm_L': paper.link_mass,\n",
    "    'b_J': paper.damping,\n",
    "    'k_J': paper.stiffness,\n",
    "    'g': plant.gravity_field().gravity_vector()[-1]*-1,\n",
    "}\n",
    "fold_ctrl = arm.ArmFoldingController(\n",
    "    ll_idx=int(paper.link_idxs[-1]),\n",
    "    sys_params=sys_params,\n",
    "    jnt_frc_log=jnt_frc_log,\n",
    "    options={\n",
    "        'use_friction_adaptive_ctrl': False,\n",
    "        'use_friction_robust_adaptive_ctrl': False,\n",
    "    },\n",
    "    arm_acc_log=arm_acc_log,\n",
    ")"
   ]
  },
  {
   "cell_type": "markdown",
   "metadata": {},
   "source": [
    "## Post-finalize steps"
   ]
  },
  {
   "cell_type": "code",
   "execution_count": null,
   "metadata": {},
   "outputs": [],
   "source": [
    "plant.Finalize()"
   ]
  },
  {
   "cell_type": "code",
   "execution_count": null,
   "metadata": {},
   "outputs": [],
   "source": [
    "## Post finalize steps\n",
    "# Add logger\n",
    "builder.Connect(plant.get_body_poses_output_port(), log_wrapper.get_input_port(0))\n",
    "builder.Connect(plant.get_body_spatial_velocities_output_port(), log_wrapper.get_input_port(1))\n",
    "builder.Connect(plant.get_body_spatial_accelerations_output_port(), log_wrapper.get_input_port(2)) \n",
    "builder.Connect(plant.get_contact_results_output_port(), log_wrapper.get_input_port(3))\n",
    "builder.Connect(plant.get_reaction_forces_output_port(), log_wrapper.get_input_port(4))\n",
    "builder.Connect(plant.get_generalized_acceleration_output_port(arm_instance), log_wrapper.get_input_port(5))\n",
    "builder.Connect(plant.get_state_output_port(arm_instance), log_wrapper.get_input_port(6))\n",
    "\n",
    "# Add arm controller\n",
    "builder.AddSystem(fold_ctrl)\n",
    "builder.Connect(plant.get_state_output_port(arm_instance), fold_ctrl.get_input_port(0))\n",
    "builder.Connect(plant.get_body_poses_output_port(), fold_ctrl.get_input_port(1))\n",
    "builder.Connect(plant.get_body_spatial_velocities_output_port(), fold_ctrl.get_input_port(2))\n",
    "builder.Connect(plant.get_contact_results_output_port(), fold_ctrl.get_input_port(3))\n",
    "\n",
    "builder.Connect(fold_ctrl.get_output_port(), plant.get_actuation_input_port())\n",
    "\n",
    "# Visualization and logging\n",
    "logger = LogOutput(log_wrapper.get_output_port(), builder)\n",
    "\n",
    "if constants.USE_NEW_MESHCAT:\n",
    "    params = MeshcatVisualizerParams()\n",
    "    vis = MeshcatVisualizerCpp.AddToBuilder(builder, scene_graph.get_query_output_port(), meshcat, params)\n",
    "    fold_ctrl.set_meshcat(meshcat)\n",
    "else:\n",
    "    vis = pydrake.systems.meshcat_visualizer.ConnectMeshcatVisualizer(builder, scene_graph)\n",
    "    # vis.set_planar_viewpoint(camera_position=[1, 0, 0], xmin=-0.3, xmax=0.3, ymin=-0.3, ymax=0.3)\n",
    "\n",
    "# Build diagram and do actions requiring \n",
    "diagram = builder.Build()\n",
    "diagram_context = diagram.CreateDefaultContext()"
   ]
  },
  {
   "cell_type": "markdown",
   "metadata": {},
   "source": [
    "## Meschat link for old meschat"
   ]
  },
  {
   "cell_type": "code",
   "execution_count": null,
   "metadata": {},
   "outputs": [],
   "source": [
    "q0 = np.zeros(7)\n",
    "q0[0] = -np.pi/2\n",
    "q0[1] = 0# 1.1\n",
    "q0[3] = np.pi/2\n",
    "q0[5] = np.pi/2#3*np.pi/2 + 0.1\n",
    "q0[6] = -np.pi/4\n",
    "plant_context = diagram.GetMutableSubsystemContext(plant, diagram_context)\n",
    "plant.SetPositions(plant_context, arm_instance, q0)"
   ]
  },
  {
   "cell_type": "code",
   "execution_count": null,
   "metadata": {},
   "outputs": [],
   "source": [
    "# SVG(pydot.graph_from_dot_data(diagram.GetGraphvizString())[0].create_svg())"
   ]
  },
  {
   "cell_type": "markdown",
   "metadata": {},
   "source": [
    "# Run simulation"
   ]
  },
  {
   "cell_type": "code",
   "execution_count": null,
   "metadata": {
    "scrolled": true
   },
   "outputs": [],
   "source": [
    "# Finalize simulation and visualization\n",
    "simulator = pydrake.systems.analysis.Simulator(diagram, diagram_context)\n",
    "simulator.Initialize()\n",
    "if not constants.USE_NEW_MESHCAT:\n",
    "    vis.start_recording()\n",
    "try:\n",
    "    simulator.AdvanceTo(constants.TSPAN)\n",
    "except RuntimeError as e:\n",
    "    print(e)\n",
    "except np.linalg.LinAlgError as e:\n",
    "    print(e)"
   ]
  },
  {
   "cell_type": "code",
   "execution_count": null,
   "metadata": {},
   "outputs": [],
   "source": [
    "# This way, we can use the actual time the simulation ran for\n",
    "effective_tspan = max(logger.sample_times())\n",
    "print(\"effective_tspan:\", effective_tspan)\n",
    "\n",
    "if not constants.USE_NEW_MESHCAT:\n",
    "    vis.stop_recording()\n",
    "    vis.publish_recording()"
   ]
  },
  {
   "cell_type": "markdown",
   "metadata": {},
   "source": [
    "# Plots used in orginal paper"
   ]
  },
  {
   "cell_type": "code",
   "execution_count": null,
   "metadata": {},
   "outputs": [],
   "source": [
    "# This script is getting huge. We need to turn off parts that we're not using.\n",
    "generate_paper_plots = False"
   ]
  },
  {
   "cell_type": "code",
   "execution_count": null,
   "metadata": {},
   "outputs": [],
   "source": [
    "if generate_paper_plots:\n",
    "    # Generate plots for paper\n",
    "    nb = plant.num_bodies()\n",
    "    y_traces = []\n",
    "    z_traces = []\n",
    "    theta_traces = []\n",
    "    for b in paper.link_idxs:\n",
    "        y_traces.append(logger.data()[log_wrapper.entries_per_body*b+1])\n",
    "        z_traces.append(logger.data()[log_wrapper.entries_per_body*b+2])\n",
    "        theta_traces.append(logger.data()[log_wrapper.entries_per_body*b+3])\n",
    "    y_traces = np.array(y_traces)\n",
    "    z_traces = np.array(z_traces)\n",
    "    theta_traces = np.array(theta_traces)\n",
    "\n",
    "    times_ = np.arange(0,effective_tspan, effective_tspan/10)\n",
    "    cmap = cm.get_cmap(\"viridis_r\")\n",
    "    plt.figure(figsize=(2*3,2*2))\n",
    "    for t in times_:\n",
    "        c = cmap(t/effective_tspan)\n",
    "        idx = np.argmax(logger.sample_times() >= t)\n",
    "\n",
    "        # Plot paper\n",
    "        # PROGRAMMING: Account for paper thickness in plots\n",
    "        for y, z, theta in zip(y_traces[:,idx], z_traces[:,idx], theta_traces[:,idx]):\n",
    "            y0 = y - np.cos(theta)*paper.link_width/2\n",
    "            z0 = z - np.sin(theta)*paper.link_width/2\n",
    "            y1 = y + np.cos(theta)*paper.link_width/2\n",
    "            z1 = z + np.sin(theta)*paper.link_width/2\n",
    "            plt.plot([y0, y1], [z0, z1], color=c)\n",
    "\n",
    "\n",
    "        # Plot manipulator\n",
    "        plt.scatter(logger.data()[log_wrapper.entries_per_body*top_finger_idx+1,idx], \n",
    "                    logger.data()[log_wrapper.entries_per_body*top_finger_idx+2,idx],\n",
    "                    color=c, s=300, zorder=1)\n",
    "\n",
    "    xlim = plt.xlim()\n",
    "    ylim = plt.ylim()\n",
    "    plt.scatter([xlim[0]-50, xlim[0]-50], [ylim[0]-50, ylim[0]-50], c=[0, effective_tspan], cmap=cmap)\n",
    "    plt.xlim(xlim)\n",
    "    plt.ylim(ylim)\n",
    "    cb = plt.colorbar()\n",
    "    cb.set_label(\"Time\")\n",
    "    plt.xlabel(\"$y$ position\")\n",
    "    plt.ylabel(\"$z$ position\")\n",
    "    plt.show()"
   ]
  },
  {
   "cell_type": "markdown",
   "metadata": {},
   "source": [
    "# Drag plots"
   ]
  },
  {
   "cell_type": "markdown",
   "metadata": {},
   "source": [
    "This is a sanity check to see how much force we're neglecting by ignoring drag. The colored lines are the drag forces at each link, and the dashed black line is the force due to gravity for scale.\n",
    "\n",
    "Note that the formula for drag force is $\\rho v^2 C_d A_{paper}$.\n",
    "\n",
    "$C_d$ comes from [this site](https://www.engineersedge.com/fluid_flow/rectangular_flat_plate_drag_14036.htm), which says it depends on $L/d$. For 20 links, $L/d\\approx15$. Rounding this down to 10, we get $C_d=1.22$."
   ]
  },
  {
   "cell_type": "code",
   "execution_count": null,
   "metadata": {},
   "outputs": [],
   "source": [
    "generate_drag_plots = False"
   ]
  },
  {
   "cell_type": "code",
   "execution_count": null,
   "metadata": {},
   "outputs": [],
   "source": [
    "if generate_drag_plots:\n",
    "    # Plot drag forces\n",
    "    plt.figure(figsize=(16, 12))\n",
    "    nb = plant.num_bodies\n",
    "    vel_traces = []\n",
    "    for b in paper.link_idxs:\n",
    "        rho = 1.225\n",
    "        C_d = paper.link_width*paper.depth\n",
    "        vel_sqred = logger.data()[log_wrapper.entries_per_body*b+7]**2+logger.data()[log_wrapper.entries_per_body*b+8]**2\n",
    "        f = 0.5*rho*C_d*vel_sqred\n",
    "        plt.plot(f)\n",
    "\n",
    "    plt.axhline(paper.link_mass*9.81, color='black', linestyle='--')\n",
    "    plt.show()"
   ]
  },
  {
   "cell_type": "markdown",
   "metadata": {},
   "source": [
    "# Verifying equations hold\n",
    "We have the following free body diagrams:\n",
    "<img src=\"forces.png\" width=400px>\n",
    "<img src=\"link-moments.png\" width=400px>\n",
    "\n",
    "Which give us the following equations:\n",
    "$$\n",
    "\\begin{aligned}\n",
    "     m_La_{LT} &= F_{FL} + F_{GT} +F_{OT} \\\\\n",
    "    m_La_{LN} &= F_{NL} + F_{GN} +F_{ON} \\\\\n",
    "    m_Ma_{MT} &= F_{FM} + F_{CT} \\\\\n",
    "    m_Ma_{MN} &= F_{NM} + F_{CN} \\\\\n",
    "    a_{LT} &= a_{MT} \\\\\n",
    "    a_{LN} &= a_{MN} \\\\\n",
    "    a_{LT} &= -\\frac{w_L}{2}\\dot\\theta^2 \\\\\n",
    "    a_{LN} &= \\frac{w_L}{2}\\ddot\\theta \\\\\n",
    "    I_L\\ddot\\theta &= \\frac{w_L}{2}F_{ON}- \\frac{h_L}{2}F_{FL} - r_TF_{NL} \\\\\n",
    "    F_{NL} &= -F_{NM} \\\\\n",
    "    F_{FL} &= -F_{FM} \\\\\n",
    "    a_{NL} &= a_{Nd}  \\\\\n",
    "    F_{FL} &= 0\n",
    "\\end{aligned}\n",
    "$$\n",
    "For each of these equations, I want to plot the value on the left side and the value on the right side to see if they match."
   ]
  },
  {
   "cell_type": "markdown",
   "metadata": {},
   "source": [
    "# Loading signals\n",
    "Preparing all the signals we'll need."
   ]
  },
  {
   "cell_type": "code",
   "execution_count": null,
   "metadata": {},
   "outputs": [],
   "source": [
    "debug = fold_ctrl.debug"
   ]
  },
  {
   "cell_type": "code",
   "execution_count": null,
   "metadata": {},
   "outputs": [],
   "source": [
    "min_key_length = np.inf\n",
    "for k in debug.keys():\n",
    "    if len(debug[k]) > 0 and len(debug[k]) < min_key_length:\n",
    "        min_key_length = len(debug[k])\n",
    "for k in debug.keys():\n",
    "    debug[k] = debug[k][:min_key_length]"
   ]
  },
  {
   "cell_type": "code",
   "execution_count": null,
   "metadata": {},
   "outputs": [],
   "source": [
    "l_times = logger.sample_times()\n",
    "d_times = np.array(debug['times'])"
   ]
  },
  {
   "cell_type": "markdown",
   "metadata": {},
   "source": [
    "## Helper functions"
   ]
  },
  {
   "cell_type": "code",
   "execution_count": null,
   "metadata": {},
   "outputs": [],
   "source": [
    "def diff_vec(vec):\n",
    "    d_vec = np.diff(vec, axis=0)\n",
    "    for i in range(vec.shape[1]):\n",
    "        d_vec[:, i] /= np.expand_dims(np.diff(l_times), 1)\n",
    "    d_vec = np.concatenate((d_vec, [d_vec[-1]]))\n",
    "    return d_vec"
   ]
  },
  {
   "cell_type": "code",
   "execution_count": null,
   "metadata": {},
   "outputs": [],
   "source": [
    "def plot_vec(sig1, sig1_label, sig2, sig2_label, finish_plotting=True, plot_x=True, start_time=None):\n",
    "    if start_time is None:\n",
    "        idx_start_ = idx_start\n",
    "    else:\n",
    "        idx_start_ = np.argmax(l_times > start_time)\n",
    "    plt.figure(figsize=(16, 8))\n",
    "    lw = 5\n",
    "    if plot_x:\n",
    "        plt.plot(l_times[idx_start_:idx_end], sig1[:,0][idx_start_:idx_end], label=sig1_label + r' $\\hat x$ component', color='pink', linewidth=lw)\n",
    "    plt.plot(l_times[idx_start_:idx_end], sig1[:,1][idx_start_:idx_end], label=sig1_label + r' $\\hat y$ component', color='lightgreen', linewidth=lw)\n",
    "    plt.plot(l_times[idx_start_:idx_end], sig1[:,2][idx_start_:idx_end], label=sig1_label + r' $\\hat z$ component', color='lightskyblue', linewidth=lw)\n",
    "    \n",
    "    if plot_x:\n",
    "        plt.plot(l_times[idx_start_:idx_end], sig2[:,0][idx_start_:idx_end], label=sig2_label + r' $\\hat x$ component', color='red', linewidth=lw, linestyle='--')\n",
    "    plt.plot(l_times[idx_start_:idx_end], sig2[:,1][idx_start_:idx_end], label=sig2_label + r' $\\hat y$ component', color='green', linewidth=lw, linestyle='--')\n",
    "    plt.plot(l_times[idx_start_:idx_end], sig2[:,2][idx_start_:idx_end], label=sig2_label + r' $\\hat z$ component', color='blue', linewidth=lw, linestyle='--')\n",
    "    plt.xlabel(\"Time (seconds)\")\n",
    "    plt.legend()\n",
    "    plt.autoscale(enable=True, axis='x', tight=True)\n",
    "    if finish_plotting:\n",
    "        plt.show()"
   ]
  },
  {
   "cell_type": "code",
   "execution_count": null,
   "metadata": {},
   "outputs": [],
   "source": [
    "def plot_vec_XTN(sig1, sig1_label, sig2, sig2_label, finish_plotting=True, plot_x=True, start_time=None):\n",
    "    if start_time is None:\n",
    "        idx_start_ = idx_start\n",
    "    else:\n",
    "        idx_start_ = np.argmax(l_times > start_time)\n",
    "    plt.figure(figsize=(16, 8))\n",
    "    lw = 5\n",
    "    \n",
    "    T_proj1 = np.matmul(T(sig1), T_hat).flatten()\n",
    "    T_proj2 = np.matmul(T(sig2), T_hat).flatten()\n",
    "    N_proj1 = np.matmul(T(sig1), N_hat).flatten()\n",
    "    N_proj2 = np.matmul(T(sig2), N_hat).flatten()\n",
    "    \n",
    "    plt.plot(l_times[idx_start_:idx_end], sig1[:,0][idx_start_:idx_end], label=sig1_label + r' $\\hat x$ component', color='pink', linewidth=lw)\n",
    "    plt.plot(l_times[idx_start_:idx_end], T_proj1[idx_start_:idx_end], label=sig1_label + r' $\\hat T$ component', color='lightgreen', linewidth=lw)\n",
    "    plt.plot(l_times[idx_start_:idx_end], N_proj1[idx_start_:idx_end], label=sig1_label + r' $\\hat N$ component', color='lightskyblue', linewidth=lw)\n",
    "    \n",
    "    plt.plot(l_times[idx_start_:idx_end], sig2[:,0][idx_start_:idx_end], label=sig2_label + r' $\\hat x$ component', color='red', linewidth=lw, linestyle='--')\n",
    "    plt.plot(l_times[idx_start_:idx_end], T_proj2[idx_start_:idx_end], label=sig2_label + r' $\\hat T$ component', color='green', linewidth=lw, linestyle='--')\n",
    "    plt.plot(l_times[idx_start_:idx_end], N_proj2[idx_start_:idx_end], label=sig2_label + r' $\\hat N$ component', color='blue', linewidth=lw, linestyle='--')\n",
    "    plt.xlabel(\"Time (seconds)\")\n",
    "    plt.legend()\n",
    "    plt.autoscale(enable=True, axis='x', tight=True)\n",
    "    if finish_plotting:\n",
    "        plt.show()"
   ]
  },
  {
   "cell_type": "code",
   "execution_count": null,
   "metadata": {},
   "outputs": [],
   "source": [
    "def diff_arr(arr):\n",
    "    d_arr = np.diff(arr)/np.diff(l_times)\n",
    "    d_arr = np.concatenate((d_arr, [d_arr[-1]]))\n",
    "    return d_arr"
   ]
  },
  {
   "cell_type": "code",
   "execution_count": null,
   "metadata": {},
   "outputs": [],
   "source": [
    "# Friction helper functions\n",
    "def step5(x):\n",
    "    '''Python version of MultibodyPlant::StribeckModel::step5 method'''\n",
    "    x3 = x * x * x\n",
    "    return x3 * (10 + x * (6 * x - 15))\n",
    "\n",
    "def stribeck(us, uk, v):\n",
    "    '''\n",
    "    Python version of MultibodyPlant::StribeckModel::ComputeFrictionCoefficient\n",
    "    \n",
    "    From\n",
    "    https://github.com/RobotLocomotion/drake/blob/b09e40db4b1c01232b22f7705fb98aa99ef91f87/multibody/plant/images/stiction.py\n",
    "    '''\n",
    "    u = np.zeros_like(v) + uk\n",
    "    u[v < 1] = us * step5(v[v < 1])\n",
    "    mask = (v >= 1) & (v < 3)\n",
    "    u[mask] = us - (us - uk) * step5((v[mask] - 1) / 2)\n",
    "    return u"
   ]
  },
  {
   "cell_type": "code",
   "execution_count": null,
   "metadata": {},
   "outputs": [],
   "source": [
    "def T(vec):\n",
    "    return np.transpose(vec, [0, 2, 1])"
   ]
  },
  {
   "cell_type": "markdown",
   "metadata": {},
   "source": [
    "## Inputs\n",
    "These should all come from simulation/geometry, since they are inputs to the controller and are \"fixed\" from the controller's perspective.\n",
    "### Geometric quantities ($m_L, m_M, w_L, I_L, h_L, \\mu$)"
   ]
  },
  {
   "cell_type": "code",
   "execution_count": null,
   "metadata": {},
   "outputs": [],
   "source": [
    "m_L = paper.link_mass\n",
    "w_L = paper.link_width\n",
    "I_L = paper.plant.get_body(\n",
    "    BodyIndex(paper.link_idxs[-1])).default_rotational_inertia().CalcPrincipalMomentsOfInertia()[0]\n",
    "h_L = paper.height\n",
    "mu_paper = constants.FRICTION\n",
    "mu = 2*mu_paper/(1+mu_paper) # 2μₘμₙ/(μₘ + μₙ)\n",
    "b_J = paper.damping\n",
    "k_J = paper.stiffness"
   ]
  },
  {
   "cell_type": "markdown",
   "metadata": {},
   "source": [
    "### Gravity, unit vectors ($F_{GT}, F_{GN}, \\hat T, \\hat N$)"
   ]
  },
  {
   "cell_type": "code",
   "execution_count": null,
   "metadata": {},
   "outputs": [],
   "source": [
    "# Assume plane contact, so all N_hat should point the same direction\n",
    "# TODO: verify all point in the same direction\n",
    "N_hat_raw = logger.data()[log_wrapper.top_contact_entry_start_idx+14:log_wrapper.top_contact_entry_start_idx+17,:].copy() # So it's writeable\n",
    "N_hat = np.expand_dims(N_hat_raw.T, 2)\n",
    "N_hat[:,0][np.isnan(N_hat[:,0])] = 0\n",
    "N_hat[:,1][np.isnan(N_hat[:,1])] = 0\n",
    "N_hat[:,2][np.isnan(N_hat[:,2])] = 1"
   ]
  },
  {
   "cell_type": "code",
   "execution_count": null,
   "metadata": {},
   "outputs": [],
   "source": [
    "T_hat = np.matmul(\n",
    "    np.array([\n",
    "        [1,  0, 0],\n",
    "        [0,  0, 1],\n",
    "        [0, -1, 0],\n",
    "    ]),\n",
    "    N_hat)"
   ]
  },
  {
   "cell_type": "markdown",
   "metadata": {},
   "source": [
    "It's also useful here to calculate project matrices:"
   ]
  },
  {
   "cell_type": "code",
   "execution_count": null,
   "metadata": {},
   "outputs": [],
   "source": [
    "N_hat_proj_mat = np.matmul(N_hat, np.transpose(N_hat, [0, 2, 1]))"
   ]
  },
  {
   "cell_type": "code",
   "execution_count": null,
   "metadata": {},
   "outputs": [],
   "source": [
    "g = plant.gravity_field().gravity_vector()[-1]*-1\n",
    "F_G = np.zeros([l_times.size, 3, 1])\n",
    "F_G[:,2,0] = -np.ones_like(l_times)*g*m_L\n",
    "F_GT = np.matmul(T(F_G), T_hat).flatten()\n",
    "F_GN = np.matmul(T(F_G), N_hat).flatten()"
   ]
  },
  {
   "cell_type": "code",
   "execution_count": null,
   "metadata": {},
   "outputs": [],
   "source": [
    "tau_g_no_interp = np.array(fold_ctrl.debug['tau_g'])\n",
    "tau_g = np.expand_dims(scipy.interpolate.interp1d(fold_ctrl.debug['times'], tau_g_no_interp, axis=0)(l_times), 2)"
   ]
  },
  {
   "cell_type": "markdown",
   "metadata": {},
   "source": [
    "### Positions, velocities ($\\dot\\theta^2, r_T, \\dot d_T$)"
   ]
  },
  {
   "cell_type": "markdown",
   "metadata": {},
   "source": [
    "#### Object poses & vels"
   ]
  },
  {
   "cell_type": "code",
   "execution_count": null,
   "metadata": {},
   "outputs": [],
   "source": [
    "p_L = np.expand_dims(\n",
    "    logger.data()[log_wrapper.entries_per_body*paper.link_idxs[-1]:\n",
    "                  log_wrapper.entries_per_body*paper.link_idxs[-1]+3].T,\n",
    "    2)\n",
    "p_LN = np.matmul(T(p_L), T_hat).flatten()\n",
    "p_LT = np.matmul(T(p_L), N_hat).flatten()\n",
    "p_LX = p_L[:,0].flatten()"
   ]
  },
  {
   "cell_type": "code",
   "execution_count": null,
   "metadata": {},
   "outputs": [],
   "source": [
    "theta_L = logger.data()[log_wrapper.entries_per_body*paper.link_idxs[-1] + 3]\n",
    "theta_M = logger.data()[log_wrapper.entries_per_body*int(top_finger_body.index()) + 3]"
   ]
  },
  {
   "cell_type": "code",
   "execution_count": null,
   "metadata": {},
   "outputs": [],
   "source": [
    "d_theta_L = logger.data()[log_wrapper.entries_per_body*paper.link_idxs[-1] + 6 + 3]\n",
    "d_theta_M = logger.data()[log_wrapper.entries_per_body*int(top_finger_body.index()) + 6 + 3]"
   ]
  },
  {
   "cell_type": "code",
   "execution_count": null,
   "metadata": {},
   "outputs": [],
   "source": [
    "x_hat = np.zeros((len(l_times), 3, 1))\n",
    "x_hat[:,0,:] = 1\n",
    "\n",
    "y_hat = np.zeros((len(l_times), 3, 1))\n",
    "y_hat[:,1,:] = 1\n",
    "\n",
    "z_hat = np.zeros((len(l_times), 3, 1))\n",
    "z_hat[:,2,:] = 1"
   ]
  },
  {
   "cell_type": "code",
   "execution_count": null,
   "metadata": {},
   "outputs": [],
   "source": [
    "v_L = np.expand_dims(\n",
    "    logger.data()[log_wrapper.entries_per_body*paper.link_idxs[-1]+6:\n",
    "                  log_wrapper.entries_per_body*paper.link_idxs[-1]+6+3].T,\n",
    "    2)\n",
    "v_LN = np.matmul(T(v_L), N_hat).flatten()\n",
    "v_LT = np.matmul(T(v_L), T_hat).flatten()\n",
    "v_LX = v_L[:,0].flatten()"
   ]
  },
  {
   "cell_type": "code",
   "execution_count": null,
   "metadata": {},
   "outputs": [],
   "source": [
    "p_M_top = np.expand_dims(logger.data()[log_wrapper.entries_per_body*int(top_finger_body.index()):\n",
    "                    log_wrapper.entries_per_body*int(top_finger_body.index())+3,:].T, 2)\n",
    "p_MN_top = np.matmul(T(p_M_top), N_hat).flatten()\n",
    "p_MT_top = np.matmul(T(p_M_top), T_hat).flatten()\n",
    "p_MX_top = p_M_top[:,0].flatten()"
   ]
  },
  {
   "cell_type": "code",
   "execution_count": null,
   "metadata": {},
   "outputs": [],
   "source": [
    "p_M_bot = np.expand_dims(logger.data()[log_wrapper.entries_per_body*int(bot_finger_body.index()):\n",
    "                    log_wrapper.entries_per_body*int(bot_finger_body.index())+3,:].T, 2)\n",
    "p_MN_bot = np.matmul(T(p_M_bot), N_hat).flatten()\n",
    "p_MT_bot = np.matmul(T(p_M_bot), T_hat).flatten()\n",
    "p_MX_bot = p_M_bot[:,0].flatten()"
   ]
  },
  {
   "cell_type": "code",
   "execution_count": null,
   "metadata": {},
   "outputs": [],
   "source": [
    "v_M_top = np.expand_dims(\n",
    "    logger.data()[log_wrapper.entries_per_body*int(top_finger_body.index())+6:\n",
    "                  log_wrapper.entries_per_body*int(top_finger_body.index())+6+3].T,\n",
    "    2)\n",
    "v_MN_top = np.matmul(T(v_M_top), N_hat).flatten()\n",
    "v_MT_top = np.matmul(T(v_M_top), T_hat).flatten()\n",
    "v_MX_top = v_M_top[:,0].flatten()"
   ]
  },
  {
   "cell_type": "code",
   "execution_count": null,
   "metadata": {},
   "outputs": [],
   "source": [
    "v_M_bot = np.expand_dims(\n",
    "    logger.data()[log_wrapper.entries_per_body*int(bot_finger_body.index())+6:\n",
    "                  log_wrapper.entries_per_body*int(bot_finger_body.index())+6+3].T,\n",
    "    2)\n",
    "v_MN_bot = np.matmul(T(v_M_bot), N_hat).flatten()\n",
    "v_MT_bot = np.matmul(T(v_M_bot), T_hat).flatten()\n",
    "v_MX_bot = v_M_bot[:,0].flatten()"
   ]
  },
  {
   "cell_type": "markdown",
   "metadata": {},
   "source": [
    "#### Manipulator eq. terms"
   ]
  },
  {
   "cell_type": "code",
   "execution_count": null,
   "metadata": {},
   "outputs": [],
   "source": [
    "J_top_no_interp = np.array(fold_ctrl.debug['J_top'])\n",
    "J_top = scipy.interpolate.interp1d(fold_ctrl.debug['times'], J_top_no_interp, axis=0)(l_times)"
   ]
  },
  {
   "cell_type": "code",
   "execution_count": null,
   "metadata": {},
   "outputs": [],
   "source": [
    "J_bot_no_interp = np.array(fold_ctrl.debug['J_bot'])\n",
    "J_bot = scipy.interpolate.interp1d(fold_ctrl.debug['times'], J_bot_no_interp, axis=0)(l_times)"
   ]
  },
  {
   "cell_type": "code",
   "execution_count": null,
   "metadata": {},
   "outputs": [],
   "source": [
    "q = np.expand_dims((logger.data()[log_wrapper.state_start_idx:log_wrapper.state_start_idx + 7,:]).T, 2)\n",
    "d_q = np.expand_dims((logger.data()[log_wrapper.state_start_idx + 7:log_wrapper.state_start_idx + 14,:]).T, 2)"
   ]
  },
  {
   "cell_type": "code",
   "execution_count": null,
   "metadata": {},
   "outputs": [],
   "source": [
    "M_no_interp = np.array(fold_ctrl.debug['M'])\n",
    "M = scipy.interpolate.interp1d(fold_ctrl.debug['times'], M_no_interp, axis=0)(l_times)"
   ]
  },
  {
   "cell_type": "code",
   "execution_count": null,
   "metadata": {},
   "outputs": [],
   "source": [
    "Cv_no_interp = np.array(fold_ctrl.debug['C']) # TODO fix this name\n",
    "Cv = np.expand_dims(scipy.interpolate.interp1d(fold_ctrl.debug['times'], Cv_no_interp, axis=0)(l_times), 2)"
   ]
  },
  {
   "cell_type": "markdown",
   "metadata": {},
   "source": [
    "#### Body derived terms\n",
    "Meaning terms derived from the positions/velocities of bodies"
   ]
  },
  {
   "cell_type": "code",
   "execution_count": null,
   "metadata": {},
   "outputs": [],
   "source": [
    "R = np.zeros((len(l_times), 3, 3))\n",
    "R[:,1,1] = np.cos(theta_L)\n",
    "R[:,1,2] = -np.sin(theta_L)\n",
    "R[:,2,1] = np.sin(theta_L)\n",
    "R[:,2,2] = np.cos(theta_L)"
   ]
  },
  {
   "cell_type": "code",
   "execution_count": null,
   "metadata": {},
   "outputs": [],
   "source": [
    "T_hat_geo = np.matmul(R, y_hat)\n",
    "N_hat_geo = np.matmul(R, z_hat)"
   ]
  },
  {
   "cell_type": "code",
   "execution_count": null,
   "metadata": {},
   "outputs": [],
   "source": [
    "# Link edge\n",
    "p_LE = p_L + (w_L/2)*T_hat-(h_L/2)*N_hat"
   ]
  },
  {
   "cell_type": "code",
   "execution_count": null,
   "metadata": {},
   "outputs": [],
   "source": [
    "omega_vec_L = np.expand_dims(np.vstack((d_theta_L, np.zeros_like(d_theta_L), np.zeros_like(d_theta_L))).T, 2)\n",
    "omega_vec_M = np.expand_dims(logger.data()[\n",
    "        log_wrapper.entries_per_body*int(top_finger_body.index()) + 6 + 3:\n",
    "        log_wrapper.entries_per_body*int(top_finger_body.index()) + 6 + 6\n",
    "    ].T, 2)"
   ]
  },
  {
   "cell_type": "code",
   "execution_count": null,
   "metadata": {},
   "outputs": [],
   "source": [
    "J_dot_top = diff_vec(J_top)\n",
    "J_dot_bot = diff_vec(J_bot)"
   ]
  },
  {
   "cell_type": "markdown",
   "metadata": {},
   "source": [
    "#### Contact terms\n",
    "TODO: edit out/simplify eventually"
   ]
  },
  {
   "cell_type": "code",
   "execution_count": null,
   "metadata": {},
   "outputs": [],
   "source": [
    "contact_point = logger.data()[log_wrapper.top_contact_entry_start_idx+11:log_wrapper.top_contact_entry_start_idx+14,:]"
   ]
  },
  {
   "cell_type": "code",
   "execution_count": null,
   "metadata": {},
   "outputs": [],
   "source": [
    "p_C = np.expand_dims(contact_point.T, 2)\n",
    "p_CT = np.matmul(T(p_C), T_hat).flatten()\n",
    "p_CN = np.matmul(T(p_C), N_hat).flatten()"
   ]
  },
  {
   "cell_type": "code",
   "execution_count": null,
   "metadata": {},
   "outputs": [],
   "source": [
    "r = np.linalg.norm(p_C - p_M_top, axis=1).flatten()"
   ]
  },
  {
   "cell_type": "code",
   "execution_count": null,
   "metadata": {},
   "outputs": [],
   "source": [
    "# Assume all the slip speeds are the same\n",
    "# TODO: verify\n",
    "slip_speed = logger.data()[log_wrapper.top_contact_entry_start_idx+10,:]"
   ]
  },
  {
   "cell_type": "code",
   "execution_count": null,
   "metadata": {},
   "outputs": [],
   "source": [
    "# d vector\n",
    "d_vec = p_C - p_LE\n",
    "d_T = np.matmul(T(d_vec), T_hat).flatten()\n",
    "d_N = np.matmul(T(d_vec), N_hat).flatten()\n",
    "d_X = d_vec[:,0].flatten()"
   ]
  },
  {
   "cell_type": "code",
   "execution_count": null,
   "metadata": {},
   "outputs": [],
   "source": [
    "d_d_T = -d_theta_L*h_L/2-d_theta_L*r - v_LT + v_MT_top + d_theta_L*d_N\n",
    "d_d_N = -d_theta_L*w_L/2-v_LN+v_MN_top-d_theta_L*d_T\n",
    "d_d_X = diff_arr(d_X)"
   ]
  },
  {
   "cell_type": "code",
   "execution_count": null,
   "metadata": {},
   "outputs": [],
   "source": [
    "dd_d_T = diff_arr(d_d_T)\n",
    "dd_d_N = diff_arr(d_d_N)\n",
    "dd_d_X = diff_arr(d_d_X)"
   ]
  },
  {
   "cell_type": "code",
   "execution_count": null,
   "metadata": {},
   "outputs": [],
   "source": [
    "d_d_vec = diff_vec(d_vec)\n",
    "d_d_vec_T = np.matmul(T(d_d_vec), T_hat).flatten()\n",
    "d_d_vec_N = np.matmul(T(d_d_vec), N_hat).flatten()"
   ]
  },
  {
   "cell_type": "code",
   "execution_count": null,
   "metadata": {},
   "outputs": [],
   "source": [
    "p_MConM_top = p_C - p_M_top\n",
    "p_LConL = p_C - p_L\n",
    "\n",
    "v_WConM_top = v_M_top + np.cross(omega_vec_M, p_MConM_top, axis=1)\n",
    "v_WConL = v_L + np.cross(omega_vec_L, p_LConL, axis=1)\n",
    "\n",
    "v_S_raw = v_WConM_top - v_WConL\n",
    "v_S_N = np.matmul(N_hat_proj_mat, v_S_raw)\n",
    "v_S = v_S_raw - v_S_N\n",
    "v_S = v_S_raw - v_S_N\n",
    "s_S = np.linalg.norm(v_S, axis=1).flatten()"
   ]
  },
  {
   "cell_type": "code",
   "execution_count": null,
   "metadata": {},
   "outputs": [],
   "source": [
    "s_hat = v_S/np.expand_dims(np.linalg.norm(v_S, axis=1), 2)\n",
    "s_hat_X = s_hat[:,0].flatten()\n",
    "s_hat_T = np.matmul(T(s_hat), T_hat).flatten()"
   ]
  },
  {
   "cell_type": "code",
   "execution_count": null,
   "metadata": {},
   "outputs": [],
   "source": [
    "d_d_T_diff = diff_arr(d_T)\n",
    "d_d_N_diff = diff_arr(d_N)"
   ]
  },
  {
   "cell_type": "markdown",
   "metadata": {},
   "source": [
    "### Friction coeficients"
   ]
  },
  {
   "cell_type": "code",
   "execution_count": null,
   "metadata": {},
   "outputs": [],
   "source": [
    "mu_S = stribeck(1, 1, slip_speed/v_stiction)"
   ]
  },
  {
   "cell_type": "markdown",
   "metadata": {},
   "source": [
    "## Outputs\n",
    "These should all come directly from simulation, except for control forces.\n",
    "### Measured accelerations ($a_{LT}, a_{LN}, a_{MT}, a_{MN}, \\ddot\\theta$)"
   ]
  },
  {
   "cell_type": "code",
   "execution_count": null,
   "metadata": {},
   "outputs": [],
   "source": [
    "a_L_raw = logger.data()[log_wrapper.entries_per_body*paper.link_idxs[-1] + 12:\n",
    "                     log_wrapper.entries_per_body*paper.link_idxs[-1]+12+3,:]\n",
    "a_L = np.expand_dims(a_L_raw.T, 2)\n",
    "a_LT = np.matmul(T(a_L), T_hat).flatten()\n",
    "a_LN = np.matmul(T(a_L), N_hat).flatten()"
   ]
  },
  {
   "cell_type": "code",
   "execution_count": null,
   "metadata": {},
   "outputs": [],
   "source": [
    "a_M_raw_top = logger.data()[log_wrapper.entries_per_body*int(top_finger_body.index()) + 12+3:\n",
    "                     log_wrapper.entries_per_body*int(top_finger_body.index())+12+6,:]\n",
    "a_M_top = np.expand_dims(a_M_raw_top.T, 2)\n",
    "a_MT_top = np.matmul(T(a_M_top), T_hat).flatten()\n",
    "a_MN_top = np.matmul(T(a_M_top), N_hat).flatten()\n",
    "a_MX_top = a_M_top[:,0].flatten()\n",
    "a_MY_top = a_M_top[:,1].flatten()\n",
    "a_MZ_top = a_M_top[:,2].flatten()"
   ]
  },
  {
   "cell_type": "code",
   "execution_count": null,
   "metadata": {},
   "outputs": [],
   "source": [
    "a_M_raw_bot = logger.data()[log_wrapper.entries_per_body*int(bot_finger_body.index()) + 12+3:\n",
    "                     log_wrapper.entries_per_body*int(bot_finger_body.index())+12+6,:]\n",
    "a_M_bot = np.expand_dims(a_M_raw_bot.T, 2)\n",
    "a_MT_bot = np.matmul(T(a_M_bot), T_hat).flatten()\n",
    "a_MN_bot = np.matmul(T(a_M_bot), N_hat).flatten()\n",
    "a_MX_bot = a_M_bot[:,0].flatten()"
   ]
  },
  {
   "cell_type": "code",
   "execution_count": null,
   "metadata": {},
   "outputs": [],
   "source": [
    "dd_theta_L = logger.data()[log_wrapper.entries_per_body*paper.link_idxs[-1] + 12 + 3,:]\n",
    "dd_theta_M = logger.data()[log_wrapper.entries_per_body*int(top_finger_body.index()) + 12 + 3,:]"
   ]
  },
  {
   "cell_type": "code",
   "execution_count": null,
   "metadata": {},
   "outputs": [],
   "source": [
    "dd_q = np.expand_dims((logger.data()[log_wrapper.gen_accs_start_idx:log_wrapper.gen_accs_start_idx+7,:]).T, 2)"
   ]
  },
  {
   "cell_type": "markdown",
   "metadata": {},
   "source": [
    "### Contact forces ($F_{NL}, F_{FL}, F_{NM}, F_{FM}$)\n",
    "Slightly different then just taking normal/tangent projections."
   ]
  },
  {
   "cell_type": "code",
   "execution_count": null,
   "metadata": {},
   "outputs": [],
   "source": [
    "# Top index\n",
    "F_NM_top = np.zeros(len(l_times))\n",
    "F_FMT_top = np.zeros(len(l_times))\n",
    "F_FMX_top = np.zeros(len(l_times))\n",
    "tau_contact = np.zeros((len(l_times), fold_ctrl.nq_arm, 1))\n",
    "for i in range(log_wrapper.max_contacts):\n",
    "    # Pull out terms\n",
    "    start_idx = log_wrapper.top_contact_entry_start_idx + log_wrapper.entries_per_contact*i\n",
    "    contact_point = np.expand_dims(logger.data()[start_idx+11:start_idx+14,:].T, 2)\n",
    "    if np.all(np.isnan(contact_point)):\n",
    "        break\n",
    "\n",
    "    # Calculate intermediautes\n",
    "    lever_arm = contact_point - p_M_top\n",
    "    force = np.expand_dims(logger.data()[start_idx+0:start_idx+3,:].T, 2)\n",
    "    torque = np.cross(lever_arm, force, axis=1)\n",
    "    wrench = np.hstack((force, torque))\n",
    "    \n",
    "    # Calculate updates\n",
    "    F_FMT = np.matmul(T(force), T_hat).flatten()\n",
    "    F_NM = np.matmul(T(force), N_hat).flatten()\n",
    "    F_FMX = force[:,0].flatten()\n",
    "    \n",
    "    # Update\n",
    "    tau_contact += np.matmul(T(J_top), wrench)\n",
    "    F_FMT_top += F_FMT\n",
    "    F_NM_top += F_NM\n",
    "    F_FMX_top += F_FMX"
   ]
  },
  {
   "cell_type": "code",
   "execution_count": null,
   "metadata": {},
   "outputs": [],
   "source": [
    "# Bottom index\n",
    "F_NM_bot = np.zeros(len(l_times))\n",
    "F_FMT_bot = np.zeros(len(l_times))\n",
    "F_FMX_bot = np.zeros(len(l_times))\n",
    "for i in range(log_wrapper.max_contacts):\n",
    "    # Pull out terms\n",
    "    start_idx = log_wrapper.bot_contact_entry_start_idx + log_wrapper.entries_per_contact*i\n",
    "    contact_point = np.expand_dims(logger.data()[start_idx+11:start_idx+14,:].T, 2)\n",
    "    if np.all(np.isnan(contact_point)):\n",
    "        break\n",
    "\n",
    "    # Calculate intermediautes\n",
    "    lever_arm = contact_point - p_M_bot\n",
    "    force = np.expand_dims(logger.data()[start_idx+0:start_idx+3,:].T, 2)\n",
    "    torque = np.cross(lever_arm, force, axis=1)\n",
    "    wrench = np.hstack((force, torque))\n",
    "    \n",
    "    # Calculate updates\n",
    "    F_FMT = np.matmul(T(force), T_hat).flatten()\n",
    "    F_NM = np.matmul(T(force), N_hat).flatten()\n",
    "    F_FMX = force[:,0].flatten()\n",
    "    \n",
    "    # Update\n",
    "    tau_contact += np.matmul(T(J_bot), wrench)\n",
    "    F_FMT_bot += F_FMT\n",
    "    F_NM_bot += F_NM\n",
    "    F_FMX_bot += F_FMX"
   ]
  },
  {
   "cell_type": "code",
   "execution_count": null,
   "metadata": {},
   "outputs": [],
   "source": [
    "tau_contact = np.nan_to_num(tau_contact)\n",
    "F_FMT_bot = np.nan_to_num(F_FMT_bot)\n",
    "F_FMX_bot = np.nan_to_num(F_FMX_bot)\n",
    "F_NM_bot = np.nan_to_num(F_NM_bot)\n",
    "F_FMT_top = np.nan_to_num(F_FMT_top)\n",
    "F_FMX_top = np.nan_to_num(F_FMX_top)\n",
    "F_NM_top = np.nan_to_num(F_NM_top)"
   ]
  },
  {
   "cell_type": "code",
   "execution_count": null,
   "metadata": {},
   "outputs": [],
   "source": [
    "F_FLT = -(F_FMT_bot*0+F_FMT_top)\n",
    "F_FLX = -(F_FMX_bot*0+F_FMX_top)\n",
    "F_NL = -(F_NM_bot*0+F_NM_top)"
   ]
  },
  {
   "cell_type": "code",
   "execution_count": null,
   "metadata": {},
   "outputs": [],
   "source": [
    "# Equivalent contact forces for each object\n",
    "F_contact_M_top = np.expand_dims(F_FMX_top, [1, 2])*x_hat + \\\n",
    "                  np.expand_dims(F_FMT_top, [1, 2])*T_hat + \\\n",
    "                  np.expand_dims(F_NM_top, [1, 2])*N_hat"
   ]
  },
  {
   "cell_type": "code",
   "execution_count": null,
   "metadata": {},
   "outputs": [],
   "source": [
    "F_contact_M_bot = np.expand_dims(F_FMX_bot, [1, 2])*x_hat + \\\n",
    "                  np.expand_dims(F_FMT_bot, [1, 2])*T_hat + \\\n",
    "                  np.expand_dims(F_NM_bot, [1, 2])*N_hat"
   ]
  },
  {
   "cell_type": "code",
   "execution_count": null,
   "metadata": {},
   "outputs": [],
   "source": [
    "F_contact_L = np.expand_dims(F_FLX, [1, 2])*x_hat + \\\n",
    "              np.expand_dims(F_FLT, [1, 2])*T_hat + \\\n",
    "              np.expand_dims(F_NL, [1, 2])*N_hat"
   ]
  },
  {
   "cell_type": "markdown",
   "metadata": {},
   "source": [
    "### Object forces ($F_{ON}, F_{OT}, \\tau_O$)"
   ]
  },
  {
   "cell_type": "code",
   "execution_count": null,
   "metadata": {},
   "outputs": [],
   "source": [
    "joint_force_in_compliance_frame = logger.data()[\n",
    "    log_wrapper.joint_entry_start_idx+6*(len(paper.joints) - 1):\n",
    "    log_wrapper.joint_entry_start_idx+6*(len(paper.joints) - 1)+3,:]"
   ]
  },
  {
   "cell_type": "code",
   "execution_count": null,
   "metadata": {},
   "outputs": [],
   "source": [
    "# Copy makes it mutable\n",
    "F_OX = joint_force_in_compliance_frame[0,:].copy()\n",
    "F_OT = joint_force_in_compliance_frame[1,:].copy()\n",
    "F_ON = joint_force_in_compliance_frame[2,:].copy()"
   ]
  },
  {
   "cell_type": "code",
   "execution_count": null,
   "metadata": {},
   "outputs": [],
   "source": [
    "joint_torque_in_compliance_frame = logger.data()[\n",
    "    log_wrapper.joint_entry_start_idx+6*(len(paper.joints) - 1)+3:\n",
    "    log_wrapper.joint_entry_start_idx+6*(len(paper.joints) - 1)+6,:]"
   ]
  },
  {
   "cell_type": "code",
   "execution_count": null,
   "metadata": {},
   "outputs": [],
   "source": [
    "# Copy makes it mutable\n",
    "tau_O = joint_torque_in_compliance_frame[0,:].copy()"
   ]
  },
  {
   "cell_type": "code",
   "execution_count": null,
   "metadata": {},
   "outputs": [],
   "source": [
    "F_OX = np.nan_to_num(F_OX)\n",
    "F_OT = np.nan_to_num(\n",
    "F_OT)\n",
    "F_ON = np.nan_to_num(\n",
    "F_ON)\n",
    "tau_O = np.nan_to_num(\n",
    "tau_O)"
   ]
  },
  {
   "cell_type": "markdown",
   "metadata": {},
   "source": [
    "## Control terms"
   ]
  },
  {
   "cell_type": "code",
   "execution_count": null,
   "metadata": {},
   "outputs": [],
   "source": [
    "tau_ctrl_no_interp = np.array(fold_ctrl.debug['tau_ctrl'])\n",
    "tau_ctrl = np.expand_dims(scipy.interpolate.interp1d(fold_ctrl.debug['times'], tau_ctrl_no_interp, axis=0)(l_times), 2)"
   ]
  },
  {
   "cell_type": "code",
   "execution_count": null,
   "metadata": {},
   "outputs": [],
   "source": [
    "tau_out_no_interp = np.array(fold_ctrl.debug['tau_out'])\n",
    "tau_out = np.expand_dims(scipy.interpolate.interp1d(fold_ctrl.debug['times'], tau_out_no_interp, axis=0)(l_times), 2)"
   ]
  },
  {
   "cell_type": "code",
   "execution_count": null,
   "metadata": {},
   "outputs": [],
   "source": [
    "F_CX_no_interp = np.array(debug['F_CXs'])\n",
    "F_CX = scipy.interpolate.interp1d(d_times, F_CX_no_interp, axis=0)(l_times)\n",
    "F_CT_no_interp = np.array(debug['F_CTs'])\n",
    "F_CT = scipy.interpolate.interp1d(d_times, F_CT_no_interp, axis=0)(l_times)\n",
    "F_CN_no_interp = np.array(debug['F_CNs'])\n",
    "F_CN = scipy.interpolate.interp1d(d_times, F_CN_no_interp, axis=0)(l_times)"
   ]
  },
  {
   "cell_type": "code",
   "execution_count": null,
   "metadata": {},
   "outputs": [],
   "source": [
    "F_control = (\n",
    "    np.expand_dims(F_CT, [1,2])*T_hat\n",
    "    +\n",
    "    np.expand_dims(F_CN, [1,2])*N_hat)\n",
    "F_control[:,0,:] = np.expand_dims(F_CX, 1)"
   ]
  },
  {
   "cell_type": "code",
   "execution_count": null,
   "metadata": {},
   "outputs": [],
   "source": [
    "# TODO: remove this\n",
    "# tau_control_no_grav_comp = np.matmul(JT_trn, F_control)"
   ]
  },
  {
   "cell_type": "code",
   "execution_count": null,
   "metadata": {},
   "outputs": [],
   "source": [
    "# tau_control = tau_control_no_grav_comp - tau_g"
   ]
  },
  {
   "cell_type": "markdown",
   "metadata": {},
   "source": [
    "### Other outputs"
   ]
  },
  {
   "cell_type": "code",
   "execution_count": null,
   "metadata": {},
   "outputs": [],
   "source": [
    "mu_hats = np.interp(l_times, d_times, debug['mu_ests'])"
   ]
  },
  {
   "cell_type": "code",
   "execution_count": null,
   "metadata": {},
   "outputs": [],
   "source": [
    "forces_found = logger.data()[-1,:]"
   ]
  },
  {
   "cell_type": "code",
   "execution_count": null,
   "metadata": {},
   "outputs": [],
   "source": [
    "in_contact_no_interp = np.array(debug['in_contact'])\n",
    "in_contact = scipy.interpolate.interp1d(fold_ctrl.debug['times'], in_contact_no_interp)(l_times)"
   ]
  },
  {
   "cell_type": "code",
   "execution_count": null,
   "metadata": {},
   "outputs": [],
   "source": [
    "raw_in_contact_no_interp = np.array(debug['raw_in_contact'])\n",
    "raw_in_contact = scipy.interpolate.interp1d(fold_ctrl.debug['times'], raw_in_contact_no_interp)(l_times)"
   ]
  },
  {
   "cell_type": "code",
   "execution_count": null,
   "metadata": {},
   "outputs": [],
   "source": [
    "t = l_times"
   ]
  },
  {
   "cell_type": "markdown",
   "metadata": {},
   "source": [
    "# Plotting settings"
   ]
  },
  {
   "cell_type": "code",
   "execution_count": null,
   "metadata": {},
   "outputs": [],
   "source": [
    "lw = 5"
   ]
  },
  {
   "cell_type": "markdown",
   "metadata": {},
   "source": [
    "## Setting up time"
   ]
  },
  {
   "cell_type": "code",
   "execution_count": null,
   "metadata": {},
   "outputs": [],
   "source": [
    "idx_start = np.argmax(in_contact > 0)\n",
    "t_start = t[idx_start]\n",
    "t_start"
   ]
  },
  {
   "cell_type": "code",
   "execution_count": null,
   "metadata": {},
   "outputs": [],
   "source": [
    "first_contact_idx = np.argmax(in_contact)\n",
    "last_contact_idx = in_contact.size - np.argmax(raw_in_contact[::-1]-1)-1"
   ]
  },
  {
   "cell_type": "code",
   "execution_count": null,
   "metadata": {},
   "outputs": [],
   "source": [
    "last_not_in_contact_idx = in_contact.size - np.argmax(np.logical_not(raw_in_contact[::-1])-1)-1\n",
    "t_start_of_last_contact = 0.14 #t[last_not_in_contact_idx+1]"
   ]
  },
  {
   "cell_type": "code",
   "execution_count": null,
   "metadata": {},
   "outputs": [],
   "source": [
    "t_start = 0.01 #t[first_contact_idx] + 0.01\n",
    "t_end = 0.15 # t[last_contact_idx]\n",
    "idx_start = np.argmax(l_times > t_start)\n",
    "idx_end = np.argmax(l_times > t_end)\n",
    "if idx_end == 0:\n",
    "    idx_end = len(l_times) - 1"
   ]
  },
  {
   "cell_type": "markdown",
   "metadata": {},
   "source": [
    "## Defining functions"
   ]
  },
  {
   "cell_type": "code",
   "execution_count": null,
   "metadata": {},
   "outputs": [],
   "source": [
    "def plot_eq(lhs, lhs_label, rhs, rhs_label, lhs_alpha=1, rhs_alpha=1, lw=5, finish_plotting=True, \n",
    "            plot_diff=True, figsize_=None, plot_err_as_pct=False, t_start=t_start, newline_in_title=False):\n",
    "    if figsize_ is not None:\n",
    "        plt.figure(figsize=figsize_)\n",
    "    else:\n",
    "        plt.figure(figsize=default_figsize)\n",
    "    if isinstance(lhs, float) or isinstance(lhs, int):\n",
    "        lhs = np.ones_like(l_times)*lhs\n",
    "    if isinstance(rhs, float) or isinstance(rhs, int):\n",
    "        rhs = np.ones_like(l_times)*rhs\n",
    "    idx_start = np.argmax(l_times > t_start)\n",
    "        \n",
    "    b = np.broadcast(lhs, rhs)\n",
    "    if np.count_nonzero(np.array(b.shape) > 1000) > 1:\n",
    "        raise ValueError(\"Broadcast shape of lhs and rhs is {}, which is too large.\".format(b.shape))\n",
    "        \n",
    "    plt.subplot(211)\n",
    "    error = lhs[idx_start:idx_end]-rhs[idx_start:idx_end]\n",
    "    if plot_err_as_pct:\n",
    "        lhs_range = np.nanmax(lhs[idx_start:idx_end]) - np.nanmin(lhs[idx_start:idx_end])\n",
    "        rhs_range = np.nanmax(rhs[idx_start:idx_end]) - np.nanmin(rhs[idx_start:idx_end])\n",
    "        \n",
    "        lhs_max_val = np.nanmax(np.abs(lhs[idx_start:idx_end]))\n",
    "        rhs_max_val = np.nanmax(np.abs(rhs[idx_start:idx_end]))\n",
    "        error /= np.nanmax([lhs_max_val, rhs_max_val])\n",
    "        error *= 100\n",
    "        \n",
    "    plt.plot(l_times[idx_start:idx_end],\n",
    "            error,\n",
    "            linewidth=lw)\n",
    "    plt.autoscale(enable=True, axis='x', tight=True)\n",
    "    plt.xlabel(\"Time (s)\")\n",
    "    if plot_err_as_pct:\n",
    "        plt.ylabel(\"Error (percent of max val)\")\n",
    "    else:\n",
    "        plt.ylabel(\"Error\")\n",
    "    if newline_in_title:\n",
    "        plt.title(\"Difference between {}\\n and {}\".format(lhs_label, rhs_label))\n",
    "    else:\n",
    "        plt.title(\"Difference between {} and {}\".format(lhs_label, rhs_label))\n",
    "    \n",
    "    \n",
    "    plt.subplot(212)\n",
    "    plt.plot(l_times[idx_start:idx_end],\n",
    "             lhs[idx_start:idx_end],\n",
    "             label=lhs_label, linewidth=lw, color='lightskyblue', zorder=0, alpha=lhs_alpha)\n",
    "    plt.plot(l_times[idx_start:idx_end],\n",
    "             rhs[idx_start:idx_end],\n",
    "             label=rhs_label, linewidth=lw, color='b', linestyle='--', zorder=1, alpha=rhs_alpha)\n",
    "    plt.autoscale(enable=True, axis='x', tight=True)\n",
    "    \n",
    "    \n",
    "#     plt.axvline(t[first_contact_idx], color='green', linewidth=lw)\n",
    "#     plt.axvline(t_lose_contact, color='red', linewidth=lw)\n",
    "    \n",
    "    plt.legend()\n",
    "    plt.xlabel(\"Time (s)\")\n",
    "    \n",
    "    if finish_plotting:\n",
    "        plt.show()"
   ]
  },
  {
   "cell_type": "code",
   "execution_count": null,
   "metadata": {},
   "outputs": [],
   "source": [
    "errors = []\n",
    "max_errors = []\n",
    "med_errors = []\n",
    "error_labels = []"
   ]
  },
  {
   "cell_type": "code",
   "execution_count": null,
   "metadata": {},
   "outputs": [],
   "source": [
    "def update_error(lhs, lhs_label, rhs, rhs_label, newline_in_label=False):\n",
    "    error = ((lhs) - (rhs))[idx_start:idx_end]\n",
    "    \n",
    "    label = r\"$\\left(\" + lhs_label.replace(\"$\", \"\") + r\"\\right) \"\n",
    "    if newline_in_label:\n",
    "        label += \"$\\n$\"\n",
    "    label += \"- \\left(\" + rhs_label.replace(\"$\", \"\") + r\"\\right)$\"\n",
    "    label_idx = None\n",
    "    for i, l in enumerate(error_labels):\n",
    "        if l == label:\n",
    "            label_idx = i\n",
    "            break\n",
    "    max_error = np.nanmax(np.abs(error))\n",
    "    med_error = np.median(np.abs(error[np.logical_not(np.isnan(error))]))\n",
    "    if label_idx is None:\n",
    "        errors.append(error)\n",
    "        error_labels.append(label)\n",
    "        max_errors.append(max_error)\n",
    "        med_errors.append(med_error)\n",
    "    else:\n",
    "        errors[label_idx] = error\n",
    "        max_errors[label_idx] = max_error\n",
    "        med_errors[label_idx] = med_error"
   ]
  },
  {
   "cell_type": "markdown",
   "metadata": {},
   "source": [
    "# Plots (environmental constraints)\n",
    "There are things where I expect them to be satisfied no matter what, no matter the succes my controller."
   ]
  },
  {
   "cell_type": "markdown",
   "metadata": {},
   "source": [
    "## Link (T) accel $m_La_{LT} = F_{FLT} + F_{GT} +F_{OT}$\n",
    "*If this plot is correct:*\n",
    "The free body diagram is correct in thet $\\hat T$ direction on the link."
   ]
  },
  {
   "cell_type": "code",
   "execution_count": null,
   "metadata": {},
   "outputs": [],
   "source": [
    "lhs_label = r'$m_La_{LT}$'\n",
    "rhs_label = r'$F_{FLT} + F_{GT} +F_{OT}$'\n",
    "\n",
    "lhs = m_L*a_LT\n",
    "\n",
    "rhs = F_FLT+F_GT+F_OT\n",
    "\n",
    "plot_eq(lhs, lhs_label, rhs, rhs_label)\n",
    "update_error(lhs, lhs_label, rhs, rhs_label)"
   ]
  },
  {
   "cell_type": "markdown",
   "metadata": {},
   "source": [
    "## Link (N) accel $m_La_{LN} = F_{NL} + F_{GN} +F_{ON}$\n",
    "*If this plot is correct:*\n",
    "The free body diagram is correct in thet $\\hat N$ direction on the link."
   ]
  },
  {
   "cell_type": "code",
   "execution_count": null,
   "metadata": {},
   "outputs": [],
   "source": [
    "lhs_label = r'$m_La_{LN}$'\n",
    "rhs_label = r'$F_{NL} + F_{GN} +F_{ON}$'\n",
    "\n",
    "lhs = m_L*a_LN\n",
    "\n",
    "rhs = F_NL + F_GN + F_ON\n",
    "\n",
    "plot_eq(lhs, lhs_label, rhs, rhs_label)\n",
    "update_error(lhs, lhs_label, rhs, rhs_label)"
   ]
  },
  {
   "cell_type": "markdown",
   "metadata": {},
   "source": [
    "## Link (x) angle accel $I_L\\ddot\\theta_L = -\\frac{w_L}{2}F_{ON} - (p_{CN}-p_{LN})F_{FL} + (p_{CT}-p_{LT})F_{NL}+\\tau_O$\n",
    "*If this plot is correct:* The moment balance on the link is correct."
   ]
  },
  {
   "cell_type": "code",
   "execution_count": null,
   "metadata": {},
   "outputs": [],
   "source": [
    "lhs_label = r'$I_L\\ddot\\theta$'\n",
    "rhs_label = r'$-\\frac{w_L}{2}F_{ON} - (p_{CN}-p_{LN})F_{FL} + (p_{CT}-p_{LT})F_{NL}+\\tau_O$'\n",
    "\n",
    "lhs = I_L*dd_theta_L\n",
    "\n",
    "N_lever_arm = np.nan_to_num(p_CN-p_LN)\n",
    "T_lever_arm = np.nan_to_num(p_CT-p_LT)\n",
    "rhs = (-w_L/2)*F_ON - N_lever_arm * F_FLT + T_lever_arm*F_NL + tau_O\n",
    "\n",
    "plot_eq(lhs, lhs_label, rhs, rhs_label)\n",
    "update_error(lhs, lhs_label, rhs, rhs_label)"
   ]
  },
  {
   "cell_type": "markdown",
   "metadata": {},
   "source": [
    "## 3rd law normal forces $F_{NL} = -F_{NM}$\n",
    "*If this plot is correct:* Newton's 3rd law is correction applied to the normal forces."
   ]
  },
  {
   "cell_type": "code",
   "execution_count": null,
   "metadata": {},
   "outputs": [],
   "source": [
    "lhs_label = r'$F_{NL}$'\n",
    "rhs_label = r'$-F_{NM_{top}}-F_{NM_{bot}}$'\n",
    "\n",
    "lhs = F_NL\n",
    "\n",
    "rhs = -F_NM_top - F_NM_bot\n",
    "\n",
    "plot_eq(lhs, lhs_label, rhs, rhs_label)\n",
    "update_error(lhs, lhs_label, rhs, rhs_label)"
   ]
  },
  {
   "cell_type": "markdown",
   "metadata": {},
   "source": [
    "## 3rd law friction forces $F_{FLT} = -F_{FMT}$\n",
    "*If this plot is correct:* Newton's 3rd law is correction applied to the friction forces in the tangent direction."
   ]
  },
  {
   "cell_type": "code",
   "execution_count": null,
   "metadata": {},
   "outputs": [],
   "source": [
    "lhs_label = r'$F_{FLT}$'\n",
    "rhs_label = r'$-F_{FMT_{top}}-F_{FMT_{bot}}$'\n",
    "\n",
    "lhs = F_FLT\n",
    "\n",
    "rhs = -F_FMT_top - F_FMT_bot\n",
    "\n",
    "plot_eq(lhs, lhs_label, rhs, rhs_label)\n",
    "update_error(lhs, lhs_label, rhs, rhs_label)"
   ]
  },
  {
   "cell_type": "markdown",
   "metadata": {},
   "source": [
    "## d vec tangential derivative $-\\ddot\\theta_L h_L/2 - \\ddot\\theta_L r + \\dot\\theta_L^2 w_L/2 - a_{LT} + a_{MT} = -\\ddot\\theta_L {d}_N + \\ddot{d}_T - \\dot\\theta_L^2 {d}_T - 2\\dot\\theta_L \\dot{d}_N$\n",
    "*If this plot is correct:* The derivatives for  $\\vec d$  are correct."
   ]
  },
  {
   "cell_type": "code",
   "execution_count": null,
   "metadata": {
    "scrolled": false
   },
   "outputs": [],
   "source": [
    "lhs = -dd_theta_L*(h_L/2+r) + d_theta_L**2*w_L/2 - a_LT + a_MT_top\n",
    "lhs_label = r\"$-\\ddot\\theta_L h_L/2 - \\ddot\\theta_L r + \\dot\\theta_L^2 w_L/2 - a_{LT} + a_{MT}$\"\n",
    "\n",
    "rhs = -dd_theta_L*d_N + dd_d_T - d_theta_L**2*d_T - 2*d_theta_L*d_d_N\n",
    "rhs_label = r\"$-\\ddot\\theta_L {d}_N + \\ddot{d}_T - \\dot\\theta_L^2 {d}_T - 2\\dot\\theta_L \\dot{d}_N$\"\n",
    "\n",
    "plot_eq(lhs, lhs_label, rhs, rhs_label)\n",
    "update_error(lhs, lhs_label, rhs, rhs_label, newline_in_label=True)"
   ]
  },
  {
   "cell_type": "markdown",
   "metadata": {},
   "source": [
    "## d vec normal derivative $- \\frac{w_{L}}{2}\\ddot\\theta_{L} - \\frac{h_{L}}{2}\\dot\\theta_{L}^{2} - \\dot\\theta_{L}^{2} r - a_{LN} + a_{MN} = \\ddot\\theta_{L} d_{T} + \\ddot{d}_N - \\dot\\theta_{L}^{2} d_{N} + 2 \\dot\\theta_{L} \\dot{d}_T$\n",
    "*If this plot is correct:* The derivatives for  $\\vec d$  are correct."
   ]
  },
  {
   "cell_type": "code",
   "execution_count": null,
   "metadata": {},
   "outputs": [],
   "source": [
    "lhs = -dd_theta_L*w_L/2 - d_theta_L**2*h_L/2 - d_theta_L**2*r - a_LN + a_MN_top\n",
    "lhs_label = r\"$-\\ddot\\theta_L w_L/2 - \\dot\\theta_L^2 h_L/2 - \\dot\\theta_L^2 r - a_{LN} + a_{MN}$ (differentiating geometry)\"\n",
    "\n",
    "rhs = dd_theta_L*d_T + dd_d_N - d_theta_L**2*d_N + 2*d_theta_L*d_d_T\n",
    "rhs_label = r\"$\\ddot\\theta_L {d}_T + \\ddot{d}_N - \\dot\\theta_L^2 {d}_N + 2 \\dot\\theta_L \\dot{d}_T$ (differentiating vector)\"\n",
    "\n",
    "plot_eq(lhs, lhs_label, rhs, rhs_label, newline_in_title=True)\n",
    "\n",
    "lhs_label = r\"$-\\ddot\\theta_L w_L/2 - \\dot\\theta_L^2 h_L/2 - \\dot\\theta_L^2 r - a_{LN} + a_{MN}$\"\n",
    "rhs_label = r\"$\\ddot\\theta_L {d}_T + \\ddot{d}_N - \\dot\\theta_L^2 {d}_N + 2 \\dot\\theta_L \\dot{d}_T$\"\n",
    "update_error(lhs, lhs_label, rhs, rhs_label, newline_in_label=True)\n",
    "plt.show()"
   ]
  },
  {
   "cell_type": "markdown",
   "metadata": {},
   "source": [
    "## No penetration $\\ddot d_N = 0$\n",
    "*If this plot is correct:* There is effectively no penetration between the rigid bodies."
   ]
  },
  {
   "cell_type": "code",
   "execution_count": null,
   "metadata": {},
   "outputs": [],
   "source": [
    "lhs_label = r'$\\ddot{d}_N$'\n",
    "rhs_label = r'0'\n",
    "\n",
    "lhs = dd_d_N\n",
    "\n",
    "rhs = 0\n",
    "\n",
    "plot_eq(lhs, lhs_label, rhs, rhs_label)\n",
    "update_error(lhs, lhs_label, rhs, rhs_label)"
   ]
  },
  {
   "cell_type": "markdown",
   "metadata": {},
   "source": [
    "## Link (T) friction equation $F_{FLT}=\\mu\\mu_SF_{NL}\\hat s_T$"
   ]
  },
  {
   "cell_type": "code",
   "execution_count": null,
   "metadata": {},
   "outputs": [],
   "source": [
    "lhs_label = r'$\\mu\\mu_SF_{NL}\\hat s_T$'\n",
    "rhs_label = r'$F_{FLT}$'\n",
    "\n",
    "lhs = np.nan_to_num(mu_S*F_NL*mu*s_hat_T)\n",
    "rhs = F_FLT\n",
    "\n",
    "plot_eq(lhs, lhs_label, rhs, rhs_label)\n",
    "update_error(lhs, lhs_label, rhs, rhs_label)"
   ]
  },
  {
   "cell_type": "markdown",
   "metadata": {},
   "source": [
    "## Link (x) friction equation $F_{FLX}=\\mu\\mu_SF_{NL}\\hat s_X$"
   ]
  },
  {
   "cell_type": "code",
   "execution_count": null,
   "metadata": {},
   "outputs": [],
   "source": [
    "lhs_label = r'$\\mu\\mu_SF_{NL}\\hat s_X$'\n",
    "rhs_label = r'$F_{FLX}$'\n",
    "\n",
    "lhs = np.nan_to_num(mu_S*F_NM*mu*s_hat_X)\n",
    "rhs = F_FMX\n",
    "\n",
    "plot_eq(lhs, lhs_label, rhs, rhs_label)\n",
    "update_error(lhs, lhs_label, rhs, rhs_label)"
   ]
  },
  {
   "cell_type": "markdown",
   "metadata": {},
   "source": [
    "## Top Jacobian and (x) accel $a_{MX_{top}}=\\left(\\dot{J}_{top} \\dot{\\vec{q}} + J_{top}\\ddot{\\vec{q}}\\right)_3$"
   ]
  },
  {
   "cell_type": "code",
   "execution_count": null,
   "metadata": {},
   "outputs": [],
   "source": [
    "lhs_label = r'$a_{MX_{top}}$'\n",
    "rhs_label = r'$\\left(\\dot{J}_{top} \\dot{\\vec{q}} + J_{top}\\ddot{\\vec{q}}\\right)_0$'\n",
    "\n",
    "lhs = a_MX_top\n",
    "rhs = (np.matmul(J_dot_top, d_q) + np.matmul(J_top, dd_q))[:,0].flatten()\n",
    "\n",
    "plot_eq(lhs, lhs_label, rhs, rhs_label)\n",
    "update_error(lhs, lhs_label, rhs, rhs_label)"
   ]
  },
  {
   "cell_type": "code",
   "execution_count": null,
   "metadata": {},
   "outputs": [],
   "source": [
    "lhs_label = r'$a_{MY_{top}}$'\n",
    "rhs_label = r'$\\left(\\dot{J}_{top} \\dot{\\vec{q}} + J_{top}\\ddot{\\vec{q}}\\right)_1$'\n",
    "\n",
    "lhs = a_MY_top\n",
    "rhs = (np.matmul(J_dot_top, d_q) + np.matmul(J_top, dd_q))[:,1].flatten()\n",
    "\n",
    "plot_eq(lhs, lhs_label, rhs, rhs_label)\n",
    "update_error(lhs, lhs_label, rhs, rhs_label)"
   ]
  },
  {
   "cell_type": "code",
   "execution_count": null,
   "metadata": {},
   "outputs": [],
   "source": [
    "lhs_label = r'$a_{MZ_{top}}$'\n",
    "rhs_label = r'$\\left(\\dot{J}_{top} \\dot{\\vec{q}} + J_{top}\\ddot{\\vec{q}}\\right)_2$'\n",
    "\n",
    "lhs = a_MZ_top\n",
    "rhs = (np.matmul(J_dot_top, d_q) + np.matmul(J_top, dd_q))[:,2].flatten()\n",
    "\n",
    "plot_eq(lhs, lhs_label, rhs, rhs_label)\n",
    "update_error(lhs, lhs_label, rhs, rhs_label)"
   ]
  },
  {
   "cell_type": "markdown",
   "metadata": {},
   "source": [
    "## Manipulator equation $M \\ddot q + C \\dot q = \\tau_g + \\vec \\tau_{\\text{contact}} + \\vec \\tau_{\\text{control}}$"
   ]
  },
  {
   "cell_type": "code",
   "execution_count": null,
   "metadata": {
    "scrolled": false
   },
   "outputs": [],
   "source": [
    "lhs_ = np.matmul(M, dd_q) + Cv\n",
    "lhs_label_ = r\"M \\ddot q + C \\dot q\"\n",
    "rhs_ = tau_g + tau_contact + tau_out\n",
    "rhs_label_ = r\"\\tau_g + \\vec \\tau_{contact} + \\vec \\tau_{control}\"\n",
    "labels = [str(i) for i in range(7)]\n",
    "\n",
    "for i, label in enumerate(labels):\n",
    "    lhs = lhs_[:,i,:]\n",
    "    lhs_label = r\"$\\left(\" + lhs_label_ + r\"\\right)_\" + label + \"$\"\n",
    "\n",
    "    rhs = rhs_[:,i,:]\n",
    "    rhs_label = r\"$\\left(\" + rhs_label_ + r\"\\right)_\" + label + \"$\"\n",
    "\n",
    "    plot_eq(lhs, lhs_label, rhs, rhs_label)\n",
    "    plt.show()"
   ]
  },
  {
   "cell_type": "markdown",
   "metadata": {},
   "source": [
    "# Plot errors\n",
    "How accurate is my modeling?"
   ]
  },
  {
   "cell_type": "code",
   "execution_count": null,
   "metadata": {
    "scrolled": false
   },
   "outputs": [],
   "source": [
    "plt.figure(figsize=(16,16))\n",
    "plt.barh(error_labels[::-1], max_errors[::-1], label=\"Maximum error\")\n",
    "plt.barh(error_labels[::-1], med_errors[::-1], label=\"Median error\")\n",
    "plt.axvline(1e-5, color='k', linestyle='--', label=\"1e-5\")\n",
    "plt.xscale(\"log\")\n",
    "plt.xlabel(\"Log(error)\")\n",
    "plt.ylabel(\"Equation\")\n",
    "plt.legend()\n",
    "plt.xlim(10**-16, 10**3)\n",
    "plt.show()"
   ]
  },
  {
   "cell_type": "markdown",
   "metadata": {},
   "source": [
    "# Other plots\n",
    "These aren't necessarily constraints in the program, but I do want to check them."
   ]
  },
  {
   "cell_type": "markdown",
   "metadata": {},
   "source": [
    "## Friction\n",
    "### Norm"
   ]
  },
  {
   "cell_type": "code",
   "execution_count": null,
   "metadata": {},
   "outputs": [],
   "source": [
    "lhs = np.linalg.norm(np.expand_dims(F_FLX, [1,2])*x_hat + np.expand_dims(F_FLT, [1,2])*T_hat, axis=1)\n",
    "lhs_label = r\"$||F_{FLT} + F_{FLX}||$\"\n",
    "\n",
    "rhs = np.abs(np.expand_dims(mu*mu_S*F_NL, 1))\n",
    "rhs_label = \"$|\\mu\\mu_{S}F_{NL}|$\"\n",
    "\n",
    "plot_eq(lhs, lhs_label, rhs, rhs_label)\n",
    "plt.show()"
   ]
  },
  {
   "cell_type": "code",
   "execution_count": null,
   "metadata": {},
   "outputs": [],
   "source": [
    "lhs = s_S\n",
    "lhs_label = r\"Slip speed candidate norm\"\n",
    "\n",
    "rhs = slip_speed\n",
    "rhs_label = \"Actual slip speed\"\n",
    "\n",
    "plot_eq(lhs, lhs_label, rhs, rhs_label)\n",
    "plt.show()"
   ]
  },
  {
   "cell_type": "markdown",
   "metadata": {},
   "source": [
    "## Direction"
   ]
  },
  {
   "cell_type": "code",
   "execution_count": null,
   "metadata": {},
   "outputs": [],
   "source": [
    "F_hat = np.expand_dims(F_FLT, [1,2])*T_hat + np.expand_dims(F_FLX, [1,2])*x_hat\n",
    "F_hat = F_hat/np.expand_dims(np.linalg.norm(F_hat, axis=1), 2)"
   ]
  },
  {
   "cell_type": "code",
   "execution_count": null,
   "metadata": {},
   "outputs": [],
   "source": [
    "sig1 = s_hat\n",
    "sig1_label = r\"$\\hat s$\"\n",
    "\n",
    "sig2 = F_hat\n",
    "sig2_label = r\"$\\hat F$\"\n",
    "plot_vec(sig1, sig1_label, sig2, sig2_label, start_time=t_start_of_last_contact)"
   ]
  },
  {
   "cell_type": "code",
   "execution_count": null,
   "metadata": {},
   "outputs": [],
   "source": [
    "sig1 = s_hat\n",
    "sig1_label = r\"$\\hat s$\"\n",
    "\n",
    "sig2 = F_hat\n",
    "sig2_label = r\"$\\hat F$\"\n",
    "plot_vec_XTN(sig1, sig1_label, sig2, sig2_label, start_time=t_start_of_last_contact)"
   ]
  },
  {
   "cell_type": "markdown",
   "metadata": {},
   "source": [
    "## Actual values"
   ]
  },
  {
   "cell_type": "code",
   "execution_count": null,
   "metadata": {},
   "outputs": [],
   "source": [
    "F_mag = mu_S*F_NL*mu"
   ]
  },
  {
   "cell_type": "code",
   "execution_count": null,
   "metadata": {},
   "outputs": [],
   "source": [
    "F_F_est = s_hat*np.expand_dims(np.vstack((F_mag,F_mag,F_mag)).T, 2)"
   ]
  },
  {
   "cell_type": "code",
   "execution_count": null,
   "metadata": {},
   "outputs": [],
   "source": [
    "sig1 = F_F_est\n",
    "sig1_label = r\"Estimated friction\"\n",
    "\n",
    "sig2 = F_contact_L - N_hat_proj_mat@F_contact_L\n",
    "sig2_label = r\"Actual friction\"\n",
    "plot_vec_XTN(sig1, sig1_label, sig2, sig2_label, start_time=t_start_of_last_contact)"
   ]
  },
  {
   "cell_type": "markdown",
   "metadata": {},
   "source": [
    "## Plots (control targets)\n",
    "These will only be satisfied if the controller is successful."
   ]
  },
  {
   "cell_type": "markdown",
   "metadata": {},
   "source": [
    "### $\\ddot{d}_N = \\ddot{d}_{Nd}$"
   ]
  },
  {
   "cell_type": "code",
   "execution_count": null,
   "metadata": {
    "scrolled": false
   },
   "outputs": [],
   "source": [
    "lhs_label = r'$\\ddot{d}_N$'\n",
    "rhs_label = r'$\\ddot{d}_{Nd}$'\n",
    "\n",
    "lhs = dd_d_N\n",
    "\n",
    "rhs = 0\n",
    "\n",
    "plot_eq(lhs, lhs_label, rhs, rhs_label)"
   ]
  },
  {
   "cell_type": "markdown",
   "metadata": {},
   "source": [
    "### $a_{LN} = a_{LNd}$"
   ]
  },
  {
   "cell_type": "code",
   "execution_count": null,
   "metadata": {},
   "outputs": [],
   "source": [
    "lhs_label = r'$a_{LN}$'\n",
    "rhs_label = r'$a_{LNd}$'\n",
    "\n",
    "lhs = a_LN\n",
    "\n",
    "rhs = fold_ctrl.a_LNd\n",
    "\n",
    "plot_eq(lhs, lhs_label, rhs, rhs_label)"
   ]
  },
  {
   "cell_type": "code",
   "execution_count": null,
   "metadata": {},
   "outputs": [],
   "source": [
    "plot_eq(d_T, \"$d_T$\", fold_ctrl.d_Td, \"$d_{Td}$\")"
   ]
  },
  {
   "cell_type": "code",
   "execution_count": null,
   "metadata": {},
   "outputs": [],
   "source": [
    "plot_eq(d_X, \"$d_X$\", 0, \"0\")"
   ]
  },
  {
   "cell_type": "code",
   "execution_count": null,
   "metadata": {},
   "outputs": [],
   "source": [
    "lw=5\n",
    "plt.figure(figsize=(16, 8))\n",
    "plt.axhline(fold_ctrl.d_Td, linestyle='--', color='gray', linewidth=lw, label=\"Desired $d_T$\")\n",
    "plt.plot(l_times, d_T, label='$d_T$', linewidth=lw)\n",
    "plt.axhline(-(0), label='Bounds on $d_T$ (0 and link width)', linestyle='--', color='k', linewidth=lw)\n",
    "plt.axhline(-(paper.link_width), linestyle='--', color='k', linewidth=lw)\n",
    "plt.legend()\n",
    "plt.xlabel(\"Time (seconds)\")\n",
    "plt.ylabel(\"Distance (m)\")\n",
    "plt.autoscale(enable=True, axis='x', tight=True)\n",
    "plt.xlim(t_start, t_end)\n",
    "plt.show()"
   ]
  },
  {
   "cell_type": "markdown",
   "metadata": {},
   "source": [
    "# Control estimates"
   ]
  },
  {
   "cell_type": "code",
   "execution_count": null,
   "metadata": {},
   "outputs": [],
   "source": [
    "F_OT_debug = scipy.interpolate.interp1d(d_times, debug['F_OTs'], axis=0)(l_times)\n",
    "F_ON_debug = scipy.interpolate.interp1d(d_times, debug['F_ONs'], axis=0)(l_times)\n",
    "tau_O_debug = scipy.interpolate.interp1d(d_times, debug['tau_Os'], axis=0)(l_times)"
   ]
  },
  {
   "cell_type": "code",
   "execution_count": null,
   "metadata": {},
   "outputs": [],
   "source": [
    "plot_eq(F_OT_debug, \"debug\", F_OT, \"actual\")"
   ]
  },
  {
   "cell_type": "code",
   "execution_count": null,
   "metadata": {},
   "outputs": [],
   "source": [
    "plot_eq(F_ON_debug, \"debug\", F_ON, \"actual\")"
   ]
  },
  {
   "cell_type": "code",
   "execution_count": null,
   "metadata": {},
   "outputs": [],
   "source": [
    "plot_eq(tau_O_debug, \"debug\", tau_O, \"actual\")"
   ]
  },
  {
   "cell_type": "markdown",
   "metadata": {},
   "source": [
    "# Parameter estimation plots\n",
    "If we are using adaptive control, how well do we learn the parameters?"
   ]
  },
  {
   "cell_type": "code",
   "execution_count": null,
   "metadata": {},
   "outputs": [],
   "source": [
    "plot_eq(mu_hats, \"$\\hat\\mu$\", constants.FRICTION, r\"$\\mu$\")"
   ]
  },
  {
   "cell_type": "markdown",
   "metadata": {},
   "source": [
    "# Other useful plots"
   ]
  },
  {
   "cell_type": "markdown",
   "metadata": {},
   "source": [
    "## Friction plots"
   ]
  },
  {
   "cell_type": "code",
   "execution_count": null,
   "metadata": {},
   "outputs": [],
   "source": [
    "lw=5\n",
    "plt.figure(figsize=(16,8))\n",
    "plt.plot(l_times[idx_start:idx_end],\n",
    "         abs(F_FLT[idx_start:idx_end]), label=r\"$\\left|F_{FL}\\right|$\", linewidth=lw, color='lightskyblue', zorder=0)\n",
    "plt.plot(l_times[idx_start:idx_end],\n",
    "         abs(F_FMT[idx_start:idx_end]), label=r\"$\\left|F_{FM}\\right|$\", linewidth=lw, color='b', linestyle='--', zorder=1)\n",
    "plt.plot(l_times[idx_start:idx_end],\n",
    "         abs(F_NL[idx_start:idx_end])*constants.FRICTION, label=r\"$\\mu\\left|F_{NL}\\right|$\", linewidth=lw, color='k', linestyle=':')\n",
    "\n",
    "plt.autoscale(enable=True, axis='x', tight=True)\n",
    "plt.legend()\n",
    "plt.xlabel(\"Time\")\n",
    "plt.show()"
   ]
  },
  {
   "cell_type": "code",
   "execution_count": null,
   "metadata": {},
   "outputs": [],
   "source": [
    "lw=5\n",
    "plt.figure(figsize=(16, 8))\n",
    "plt.plot(l_times[idx_start:idx_end], slip_speed[idx_start:idx_end], label=\"slip speed\", linewidth=5)\n",
    "plt.axhline(v_stiction, linestyle=\"--\", color=\"k\", label=\"$v_{stiction}$\", linewidth=5)\n",
    "plt.xlabel(\"Time (seconds)\")\n",
    "plt.ylabel(\"Speed (m/s)\")\n",
    "# plt.ylim(0, 2*v_stiction)\n",
    "plt.autoscale(enable=True, axis='x', tight=True)\n",
    "plt.legend()\n",
    "plt.show()"
   ]
  },
  {
   "cell_type": "markdown",
   "metadata": {},
   "source": [
    "## Joint torques"
   ]
  },
  {
   "cell_type": "code",
   "execution_count": null,
   "metadata": {},
   "outputs": [],
   "source": [
    "plt.figure(figsize=(16,8))\n",
    "plt.plot(l_times[idx_start:idx_end], \n",
    "         joint_torque_in_compliance_frame[0,idx_start:idx_end], linewidth=5, color='r', label=r\"\\tau_x\")\n",
    "plt.plot(l_times[idx_start:idx_end], \n",
    "         joint_torque_in_compliance_frame[1,idx_start:idx_end], linewidth=5, color='g', label=r\"\\tau_y\")\n",
    "plt.plot(l_times[idx_start:idx_end], \n",
    "         joint_torque_in_compliance_frame[2,idx_start:idx_end], linewidth=5, color='b', label=r\"\\tau_z\")\n",
    "plt.autoscale(enable=True, axis='x', tight=True)"
   ]
  },
  {
   "cell_type": "markdown",
   "metadata": {},
   "source": [
    "## Sliding surface variable"
   ]
  },
  {
   "cell_type": "code",
   "execution_count": null,
   "metadata": {},
   "outputs": [],
   "source": [
    "s = fold_ctrl.lamda*(d_T - fold_ctrl.d_Td) + (d_d_T)"
   ]
  },
  {
   "cell_type": "code",
   "execution_count": null,
   "metadata": {},
   "outputs": [],
   "source": [
    "plot_eq(s, \"$s$\", 0, \"0\")"
   ]
  },
  {
   "cell_type": "markdown",
   "metadata": {},
   "source": [
    "# Debugging"
   ]
  },
  {
   "cell_type": "code",
   "execution_count": null,
   "metadata": {},
   "outputs": [],
   "source": [
    "for a, b in fold_ctrl.contacts:\n",
    "    name_a = plant.get_body(BodyIndex(a)).name()\n",
    "    name_b = plant.get_body(BodyIndex(b)).name()\n",
    "    print(\"{} in contact with {}\".format(name_a, name_b))"
   ]
  }
 ],
 "metadata": {
  "kernelspec": {
   "display_name": "Python 3",
   "language": "python",
   "name": "python3"
  },
  "language_info": {
   "codemirror_mode": {
    "name": "ipython",
    "version": 3
   },
   "file_extension": ".py",
   "mimetype": "text/x-python",
   "name": "python",
   "nbconvert_exporter": "python",
   "pygments_lexer": "ipython3",
   "version": "3.9.7"
  },
  "toc": {
   "base_numbering": 1,
   "nav_menu": {},
   "number_sections": true,
   "sideBar": false,
   "skip_h1_title": false,
   "title_cell": "Table of Contents",
   "title_sidebar": "Contents",
   "toc_cell": false,
   "toc_position": {
    "height": "665px",
    "left": "1140px",
    "top": "327px",
    "width": "324px"
   },
   "toc_section_display": true,
   "toc_window_display": true
  }
 },
 "nbformat": 4,
 "nbformat_minor": 4
}
