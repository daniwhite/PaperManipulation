{
 "cells": [
  {
   "cell_type": "code",
   "execution_count": null,
   "id": "55fed24e-be69-47be-8d58-80e1cfbf2d15",
   "metadata": {},
   "outputs": [],
   "source": [
    "# Numpy, Scipy, Matplotlib\n",
    "import scipy.interpolate\n",
    "import matplotlib\n",
    "import matplotlib.pyplot as plt\n",
    "import matplotlib.patches as patches\n",
    "import matplotlib.cm as cm\n",
    "import numpy as np\n",
    "\n",
    "# Drake imports\n",
    "import pydrake\n",
    "from pydrake.all import (\n",
    "    DirectCollocation, DirectTranscription, MathematicalProgram,\n",
    "    InputPortSelection, LogVectorOutput\n",
    ")\n",
    "from pydrake.all import FindResourceOrThrow\n",
    "from pydrake.all import (MultibodyPlant, Parser, DiagramBuilder, Simulator, RigidTransform,\n",
    "                         PlanarSceneGraphVisualizer, SceneGraph, TrajectorySource,\n",
    "                         SnoptSolver, MultibodyPositionToGeometryPose, PiecewisePolynomial,\n",
    "                         MathematicalProgram, JacobianWrtVariable, eq, RollPitchYaw, AutoDiffXd, BodyIndex,\n",
    "                        RotationMatrix, Meshcat,MeshcatVisualizerParams, MeshcatVisualizerCpp, MeshcatVisualizer,\n",
    "                        Adder, Gain, ConstantVectorSource, Demultiplexer, Multiplexer, AngleAxis)\n",
    "\n",
    "# Other imports\n",
    "import importlib\n",
    "import re\n",
    "import enum\n",
    "from IPython.display import display, SVG, Image\n",
    "import pydot\n",
    "\n",
    "# Imports of other project files\n",
    "import constants\n",
    "import config\n",
    "from config import hinge_rotation_axis\n",
    "\n",
    "import plant.simulation\n",
    "import plant.manipulator as manipulator\n",
    "\n",
    "\n",
    "import ctrl.aux\n",
    "import time"
   ]
  },
  {
   "cell_type": "code",
   "execution_count": null,
   "id": "0d6bf952-54cb-42c8-bbdb-95f6f4cef594",
   "metadata": {},
   "outputs": [],
   "source": [
    "# Matplotlib configuring\n",
    "# USE FOR PAPER\n",
    "# plt.style.use(['science', 'no-latex'])\n",
    "# font = {'size'   : 14}\n",
    "# matplotlib.rc('font', **font)\n",
    "# default_figsize = (2*3,2*2)\n",
    "# USE GENERALLY\n",
    "font = {'size'   : 16}\n",
    "matplotlib.rc('font', **font)\n",
    "default_figsize = (16,8)"
   ]
  },
  {
   "cell_type": "code",
   "execution_count": null,
   "id": "8fd8b1aa-7160-4b41-94a5-4f68927dd74f",
   "metadata": {},
   "outputs": [],
   "source": [
    "matplotlib.rcParams['figure.figsize'] = (16,8)\n",
    "matplotlib.rcParams['lines.linewidth'] = 5\n",
    "matplotlib.rcParams[\"axes.xmargin\"] = 0"
   ]
  },
  {
   "cell_type": "markdown",
   "id": "3661cab9-3f78-404f-9f59-e89b5c50473d",
   "metadata": {},
   "source": [
    "# Normal force feedback sweep"
   ]
  },
  {
   "cell_type": "markdown",
   "id": "f12a9b3e-7fd6-47f2-bb60-1a10bcff354d",
   "metadata": {},
   "source": [
    "## Sweep variable init"
   ]
  },
  {
   "cell_type": "code",
   "execution_count": null,
   "id": "ef0eef3f-f7b5-4932-a4ff-1a703214ba07",
   "metadata": {},
   "outputs": [],
   "source": [
    "N_constant_ff_Fs = [1, 3, 5]\n",
    "theta_Ls = []"
   ]
  },
  {
   "cell_type": "markdown",
   "id": "1e71df8a-d2c7-46e9-9199-8f9a24d56a7a",
   "metadata": {},
   "source": [
    "## Other init"
   ]
  },
  {
   "cell_type": "code",
   "execution_count": null,
   "id": "2edb4642-b7e9-4d65-b3b5-7786baccaecf",
   "metadata": {},
   "outputs": [],
   "source": [
    "ctrl_paradigm = plant.simulation.CtrlParadigm.IMPEDANCE\n",
    "impedance_type = plant.simulation.ImpedanceType.LINK_FB\n",
    "n_hat_force_compensation_source = plant.simulation.NHatForceCompensationSource.CONSTANT"
   ]
  },
  {
   "cell_type": "markdown",
   "id": "6a61467e-e59d-41dd-be19-2fe5be1dca35",
   "metadata": {},
   "source": [
    "## Run sweep"
   ]
  },
  {
   "cell_type": "code",
   "execution_count": null,
   "id": "c8124bb2-4afc-4d37-9958-c1f1601c09dc",
   "metadata": {},
   "outputs": [],
   "source": [
    "for N_constant_ff_F in N_constant_ff_Fs:\n",
    "    # Set up sim\n",
    "    sim = plant.simulation.Simulation(\n",
    "        ctrl_paradigm=ctrl_paradigm,\n",
    "        impedance_type=impedance_type,\n",
    "        n_hat_force_compensation_source=n_hat_force_compensation_source,\n",
    "        exit_when_folded=True,\n",
    "        N_constant_ff_F=N_constant_ff_F\n",
    "    )\n",
    "    print(sim.N_constant_ff_F)\n",
    "\n",
    "    # Run sim\n",
    "    t_start_ = time.time()\n",
    "    log = sim.run_sim()\n",
    "    print(time.time() - t_start_)\n",
    "    \n",
    "    # Grab output var\n",
    "    theta_L = log.data()[sim.log_wrapper.get_idx(\"pos\", \"rot\", sim.ll_idx) + hinge_rotation_axis].copy()\n",
    "    theta_LZ = log.data()[sim.log_wrapper.get_idx(\"pos\", \"rot\", sim.ll_idx)+2]\n",
    "    # Fix issue in RPY singularity\n",
    "    theta_L[theta_LZ > np.pi/2] = theta_L[theta_LZ > np.pi/2]*-1 + np.pi\n",
    "    \n",
    "    theta_Ls.append(np.max(theta_L))"
   ]
  },
  {
   "cell_type": "markdown",
   "id": "2f473b79-bfc5-4742-b4f9-b11df539c294",
   "metadata": {},
   "source": [
    "## Plot"
   ]
  },
  {
   "cell_type": "code",
   "execution_count": null,
   "id": "b98a055b-55b1-4ab9-91e6-55e8fcd77cc7",
   "metadata": {},
   "outputs": [],
   "source": [
    "plt.plot(N_constant_ff_Fs, theta_Ls)\n",
    "plt.show()"
   ]
  },
  {
   "cell_type": "markdown",
   "id": "33fdf837-4132-4e05-a282-fe56f8d82b8b",
   "metadata": {},
   "source": [
    "# Impedance sweep"
   ]
  },
  {
   "cell_type": "markdown",
   "id": "de10eed3-657b-425c-bb3d-c75c7589629d",
   "metadata": {
    "tags": []
   },
   "source": [
    "## Sweep variable init"
   ]
  },
  {
   "cell_type": "code",
   "execution_count": null,
   "id": "621c4a54-6255-4a0e-a1fc-b30d157ca14c",
   "metadata": {},
   "outputs": [],
   "source": [
    "base_impedance = np.array([1, 1, 1, 10, 10, 10])\n",
    "impedance_scales = [0.1, 1, 10]"
   ]
  },
  {
   "cell_type": "code",
   "execution_count": null,
   "id": "44c46481-8059-40e5-8a2c-e53c4302750d",
   "metadata": {},
   "outputs": [],
   "source": [
    "theta_Ls = []"
   ]
  },
  {
   "cell_type": "markdown",
   "id": "ea7a7c6e-d366-492e-88a0-41cb0ca7f5c0",
   "metadata": {},
   "source": [
    "## Other init"
   ]
  },
  {
   "cell_type": "code",
   "execution_count": null,
   "id": "51e45a55-a1f5-4562-86b6-25c37db7217a",
   "metadata": {},
   "outputs": [],
   "source": [
    "ctrl_paradigm = plant.simulation.CtrlParadigm.IMPEDANCE\n",
    "impedance_type = plant.simulation.ImpedanceType.LINK_FB\n",
    "n_hat_force_compensation_source = plant.simulation.NHatForceCompensationSource.CONSTANT"
   ]
  },
  {
   "cell_type": "markdown",
   "id": "f8beae75-13a4-4e46-be9d-2ed9f2e54bbd",
   "metadata": {},
   "source": [
    "## Run sweep"
   ]
  },
  {
   "cell_type": "code",
   "execution_count": null,
   "id": "51367019-4c38-43cd-a441-65795afe3d5a",
   "metadata": {},
   "outputs": [],
   "source": [
    "for imp in impedance_scales:\n",
    "    # Set up sim\n",
    "    sim = plant.simulation.Simulation(\n",
    "        ctrl_paradigm=ctrl_paradigm,\n",
    "        impedance_type=impedance_type,\n",
    "        n_hat_force_compensation_source=n_hat_force_compensation_source,\n",
    "        exit_when_folded=True,\n",
    "        N_constant_ff_F=5,\n",
    "        impedance_stiffness=imp*base_impedance\n",
    "    )\n",
    "    print(imp*base_impedance)\n",
    "\n",
    "    # Run sim\n",
    "    t_start_ = time.time()\n",
    "    log = sim.run_sim()\n",
    "    print(time.time() - t_start_)\n",
    "    \n",
    "    # Grab output var\n",
    "    theta_L = log.data()[sim.log_wrapper.get_idx(\"pos\", \"rot\", sim.ll_idx) + hinge_rotation_axis].copy()\n",
    "    theta_LZ = log.data()[sim.log_wrapper.get_idx(\"pos\", \"rot\", sim.ll_idx)+2]\n",
    "    # Fix issue in RPY singularity\n",
    "    theta_L[theta_LZ > np.pi/2] = theta_L[theta_LZ > np.pi/2]*-1 + np.pi\n",
    "    plt.figure()\n",
    "    plt.plot(log.sample_times(), theta_L)\n",
    "    plt.show()\n",
    "    \n",
    "    theta_Ls.append(np.max(theta_L))"
   ]
  },
  {
   "cell_type": "markdown",
   "id": "0006eae1-09c4-48bc-b720-ee0b86232358",
   "metadata": {},
   "source": [
    "## Plot"
   ]
  },
  {
   "cell_type": "code",
   "execution_count": null,
   "id": "0a7507c4-ab5e-44b2-abfb-b15863d6cf2b",
   "metadata": {},
   "outputs": [],
   "source": [
    "plt.plot(impedance_scales, theta_Ls, '--o', linewidth=2)\n",
    "plt.show()"
   ]
  }
 ],
 "metadata": {
  "kernelspec": {
   "display_name": "Python 3.9.9 64-bit",
   "language": "python",
   "name": "python399jvsc74a57bd0aee8b7b246df8f9039afb4144a1f6fd8d2ca17a180786b69acc140d282b71a49"
  },
  "language_info": {
   "codemirror_mode": {
    "name": "ipython",
    "version": 3
   },
   "file_extension": ".py",
   "mimetype": "text/x-python",
   "name": "python",
   "nbconvert_exporter": "python",
   "pygments_lexer": "ipython3",
   "version": "3.9.9"
  }
 },
 "nbformat": 4,
 "nbformat_minor": 5
}
